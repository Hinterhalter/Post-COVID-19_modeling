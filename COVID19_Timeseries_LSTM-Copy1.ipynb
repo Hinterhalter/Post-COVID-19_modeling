{
 "cells": [
  {
   "cell_type": "markdown",
   "metadata": {},
   "source": [
    "# COVID-19 대한민국 해외 유입 확진자 예측 모델 : LSTM"
   ]
  },
  {
   "cell_type": "code",
   "execution_count": 965,
   "metadata": {
    "colab": {
     "base_uri": "https://localhost:8080/",
     "height": 35
    },
    "colab_type": "code",
    "id": "UCsQrKfDxdsL",
    "outputId": "e705daae-a726-48a2-bbb3-539bcd92c75e"
   },
   "outputs": [],
   "source": [
    "import torch\n",
    "\n",
    "import os\n",
    "import numpy as np\n",
    "import pandas as pd\n",
    "from tqdm import tqdm\n",
    "import seaborn as sns\n",
    "from pylab import rcParams\n",
    "import matplotlib.pyplot as plt\n",
    "from matplotlib import rc\n",
    "from sklearn.preprocessing import MinMaxScaler, StandardScaler\n",
    "from pandas.plotting import register_matplotlib_converters\n",
    "from torch import nn, optim\n",
    "\n",
    "%matplotlib inline\n",
    "%config InlineBackend.figure_format='retina'\n",
    "\n",
    "sns.set(style='whitegrid', palette='muted', font_scale=1.2)\n",
    "\n",
    "HAPPY_COLORS_PALETTE = [\"#01BEFE\", \"#FFDD00\", \"#FF7D00\", \"#FF006D\", \"#93D30C\", \"#8F00FF\"]\n",
    "\n",
    "sns.set_palette(sns.color_palette(HAPPY_COLORS_PALETTE))\n",
    "\n",
    "rcParams['figure.figsize'] = 14, 10\n",
    "register_matplotlib_converters()\n",
    "\n",
    "RANDOM_SEED = 42\n",
    "np.random.seed(RANDOM_SEED)\n",
    "torch.manual_seed(RANDOM_SEED)\n",
    "\n",
    "import warnings\n",
    "warnings.filterwarnings('ignore')\n",
    "\n",
    "from matplotlib import font_manager, rc\n",
    "font_name = font_manager.FontProperties(fname=\"c:/Windows/Fonts/malgun.ttf\").get_name()\n",
    "rc('font', family=font_name)\n"
   ]
  },
  {
   "cell_type": "markdown",
   "metadata": {
    "colab_type": "text",
    "id": "HVemqBmdxsAF"
   },
   "source": [
    "# 1. Load Dataset"
   ]
  },
  {
   "cell_type": "code",
   "execution_count": 966,
   "metadata": {
    "colab": {},
    "colab_type": "code",
    "id": "O5uBqe3VFeO2"
   },
   "outputs": [],
   "source": [
    "df = pd.read_csv('./data/final_0505.csv')\n",
    "df.drop('Unnamed: 0', axis=1, inplace=True)"
   ]
  },
  {
   "cell_type": "code",
   "execution_count": 967,
   "metadata": {},
   "outputs": [
    {
     "name": "stdout",
     "output_type": "stream",
     "text": [
      "KR\n"
     ]
    }
   ],
   "source": [
    "for i in list(df.columns):\n",
    "    if i[0:2] == 'KR':\n",
    "        print(i)"
   ]
  },
  {
   "cell_type": "code",
   "execution_count": 968,
   "metadata": {},
   "outputs": [
    {
     "data": {
      "text/html": [
       "<div>\n",
       "<style scoped>\n",
       "    .dataframe tbody tr th:only-of-type {\n",
       "        vertical-align: middle;\n",
       "    }\n",
       "\n",
       "    .dataframe tbody tr th {\n",
       "        vertical-align: top;\n",
       "    }\n",
       "\n",
       "    .dataframe thead th {\n",
       "        text-align: right;\n",
       "    }\n",
       "</style>\n",
       "<table border=\"1\" class=\"dataframe\">\n",
       "  <thead>\n",
       "    <tr style=\"text-align: right;\">\n",
       "      <th></th>\n",
       "      <th>Date</th>\n",
       "      <th>BO_conf</th>\n",
       "      <th>BN_conf</th>\n",
       "      <th>MM_conf</th>\n",
       "      <th>CF_conf</th>\n",
       "      <th>CD_conf</th>\n",
       "      <th>CI_conf</th>\n",
       "      <th>DO_conf</th>\n",
       "      <th>GM_conf</th>\n",
       "      <th>IR_conf</th>\n",
       "      <th>...</th>\n",
       "      <th>UG_roam</th>\n",
       "      <th>US_roam</th>\n",
       "      <th>UY_roam</th>\n",
       "      <th>UZ_roam</th>\n",
       "      <th>VN_roam</th>\n",
       "      <th>YE_roam</th>\n",
       "      <th>ZA_roam</th>\n",
       "      <th>ZM_roam</th>\n",
       "      <th>ZW_roam</th>\n",
       "      <th>target</th>\n",
       "    </tr>\n",
       "  </thead>\n",
       "  <tbody>\n",
       "    <tr>\n",
       "      <th>0</th>\n",
       "      <td>2020-01-22</td>\n",
       "      <td>0</td>\n",
       "      <td>0</td>\n",
       "      <td>0</td>\n",
       "      <td>0</td>\n",
       "      <td>0</td>\n",
       "      <td>0</td>\n",
       "      <td>0</td>\n",
       "      <td>0</td>\n",
       "      <td>0</td>\n",
       "      <td>...</td>\n",
       "      <td>0</td>\n",
       "      <td>701</td>\n",
       "      <td>5</td>\n",
       "      <td>127</td>\n",
       "      <td>2592</td>\n",
       "      <td>0</td>\n",
       "      <td>12</td>\n",
       "      <td>0</td>\n",
       "      <td>0</td>\n",
       "      <td>0.0</td>\n",
       "    </tr>\n",
       "    <tr>\n",
       "      <th>1</th>\n",
       "      <td>2020-01-23</td>\n",
       "      <td>0</td>\n",
       "      <td>0</td>\n",
       "      <td>0</td>\n",
       "      <td>0</td>\n",
       "      <td>0</td>\n",
       "      <td>0</td>\n",
       "      <td>0</td>\n",
       "      <td>0</td>\n",
       "      <td>0</td>\n",
       "      <td>...</td>\n",
       "      <td>12</td>\n",
       "      <td>943</td>\n",
       "      <td>22</td>\n",
       "      <td>63</td>\n",
       "      <td>2338</td>\n",
       "      <td>0</td>\n",
       "      <td>21</td>\n",
       "      <td>9</td>\n",
       "      <td>3</td>\n",
       "      <td>0.0</td>\n",
       "    </tr>\n",
       "    <tr>\n",
       "      <th>2</th>\n",
       "      <td>2020-01-24</td>\n",
       "      <td>0</td>\n",
       "      <td>0</td>\n",
       "      <td>0</td>\n",
       "      <td>0</td>\n",
       "      <td>0</td>\n",
       "      <td>0</td>\n",
       "      <td>0</td>\n",
       "      <td>0</td>\n",
       "      <td>0</td>\n",
       "      <td>...</td>\n",
       "      <td>15</td>\n",
       "      <td>864</td>\n",
       "      <td>14</td>\n",
       "      <td>42</td>\n",
       "      <td>2251</td>\n",
       "      <td>0</td>\n",
       "      <td>0</td>\n",
       "      <td>0</td>\n",
       "      <td>0</td>\n",
       "      <td>1.0</td>\n",
       "    </tr>\n",
       "    <tr>\n",
       "      <th>3</th>\n",
       "      <td>2020-01-25</td>\n",
       "      <td>0</td>\n",
       "      <td>0</td>\n",
       "      <td>0</td>\n",
       "      <td>0</td>\n",
       "      <td>0</td>\n",
       "      <td>0</td>\n",
       "      <td>0</td>\n",
       "      <td>0</td>\n",
       "      <td>0</td>\n",
       "      <td>...</td>\n",
       "      <td>6</td>\n",
       "      <td>828</td>\n",
       "      <td>22</td>\n",
       "      <td>82</td>\n",
       "      <td>2336</td>\n",
       "      <td>0</td>\n",
       "      <td>12</td>\n",
       "      <td>0</td>\n",
       "      <td>0</td>\n",
       "      <td>0.0</td>\n",
       "    </tr>\n",
       "    <tr>\n",
       "      <th>4</th>\n",
       "      <td>2020-01-26</td>\n",
       "      <td>0</td>\n",
       "      <td>0</td>\n",
       "      <td>0</td>\n",
       "      <td>0</td>\n",
       "      <td>0</td>\n",
       "      <td>0</td>\n",
       "      <td>0</td>\n",
       "      <td>0</td>\n",
       "      <td>0</td>\n",
       "      <td>...</td>\n",
       "      <td>0</td>\n",
       "      <td>900</td>\n",
       "      <td>7</td>\n",
       "      <td>45</td>\n",
       "      <td>2695</td>\n",
       "      <td>0</td>\n",
       "      <td>6</td>\n",
       "      <td>0</td>\n",
       "      <td>0</td>\n",
       "      <td>1.0</td>\n",
       "    </tr>\n",
       "  </tbody>\n",
       "</table>\n",
       "<p>5 rows × 309 columns</p>\n",
       "</div>"
      ],
      "text/plain": [
       "         Date  BO_conf  BN_conf  MM_conf  CF_conf  CD_conf  CI_conf  DO_conf  \\\n",
       "0  2020-01-22        0        0        0        0        0        0        0   \n",
       "1  2020-01-23        0        0        0        0        0        0        0   \n",
       "2  2020-01-24        0        0        0        0        0        0        0   \n",
       "3  2020-01-25        0        0        0        0        0        0        0   \n",
       "4  2020-01-26        0        0        0        0        0        0        0   \n",
       "\n",
       "   GM_conf  IR_conf  ...  UG_roam  US_roam  UY_roam  UZ_roam  VN_roam  \\\n",
       "0        0        0  ...        0      701        5      127     2592   \n",
       "1        0        0  ...       12      943       22       63     2338   \n",
       "2        0        0  ...       15      864       14       42     2251   \n",
       "3        0        0  ...        6      828       22       82     2336   \n",
       "4        0        0  ...        0      900        7       45     2695   \n",
       "\n",
       "   YE_roam  ZA_roam  ZM_roam  ZW_roam  target  \n",
       "0        0       12        0        0     0.0  \n",
       "1        0       21        9        3     0.0  \n",
       "2        0        0        0        0     1.0  \n",
       "3        0       12        0        0     0.0  \n",
       "4        0        6        0        0     1.0  \n",
       "\n",
       "[5 rows x 309 columns]"
      ]
     },
     "execution_count": 968,
     "metadata": {},
     "output_type": "execute_result"
    }
   ],
   "source": [
    "df.head()"
   ]
  },
  {
   "cell_type": "code",
   "execution_count": 969,
   "metadata": {},
   "outputs": [],
   "source": [
    "df.Date = pd.to_datetime(df.Date)"
   ]
  },
  {
   "cell_type": "code",
   "execution_count": 970,
   "metadata": {},
   "outputs": [],
   "source": [
    "df['dayofweek'] = df['Date'].dt.dayofweek\n",
    "df.set_index('Date', inplace=True)"
   ]
  },
  {
   "cell_type": "code",
   "execution_count": 557,
   "metadata": {
    "collapsed": true,
    "jupyter": {
     "outputs_hidden": true,
     "source_hidden": true
    }
   },
   "outputs": [
    {
     "data": {
      "text/html": [
       "<div>\n",
       "<style scoped>\n",
       "    .dataframe tbody tr th:only-of-type {\n",
       "        vertical-align: middle;\n",
       "    }\n",
       "\n",
       "    .dataframe tbody tr th {\n",
       "        vertical-align: top;\n",
       "    }\n",
       "\n",
       "    .dataframe thead th {\n",
       "        text-align: right;\n",
       "    }\n",
       "</style>\n",
       "<table border=\"1\" class=\"dataframe\">\n",
       "  <thead>\n",
       "    <tr style=\"text-align: right;\">\n",
       "      <th></th>\n",
       "      <th>BO_conf</th>\n",
       "      <th>BN_conf</th>\n",
       "      <th>MM_conf</th>\n",
       "      <th>CF_conf</th>\n",
       "      <th>CD_conf</th>\n",
       "      <th>CI_conf</th>\n",
       "      <th>DO_conf</th>\n",
       "      <th>GM_conf</th>\n",
       "      <th>IR_conf</th>\n",
       "      <th>LA_conf</th>\n",
       "      <th>...</th>\n",
       "      <th>US_roam</th>\n",
       "      <th>UY_roam</th>\n",
       "      <th>UZ_roam</th>\n",
       "      <th>VN_roam</th>\n",
       "      <th>YE_roam</th>\n",
       "      <th>ZA_roam</th>\n",
       "      <th>ZM_roam</th>\n",
       "      <th>ZW_roam</th>\n",
       "      <th>target</th>\n",
       "      <th>dayofweek</th>\n",
       "    </tr>\n",
       "    <tr>\n",
       "      <th>Date</th>\n",
       "      <th></th>\n",
       "      <th></th>\n",
       "      <th></th>\n",
       "      <th></th>\n",
       "      <th></th>\n",
       "      <th></th>\n",
       "      <th></th>\n",
       "      <th></th>\n",
       "      <th></th>\n",
       "      <th></th>\n",
       "      <th></th>\n",
       "      <th></th>\n",
       "      <th></th>\n",
       "      <th></th>\n",
       "      <th></th>\n",
       "      <th></th>\n",
       "      <th></th>\n",
       "      <th></th>\n",
       "      <th></th>\n",
       "      <th></th>\n",
       "      <th></th>\n",
       "    </tr>\n",
       "  </thead>\n",
       "  <tbody>\n",
       "    <tr>\n",
       "      <th>2020-05-01</th>\n",
       "      <td>119</td>\n",
       "      <td>0</td>\n",
       "      <td>0</td>\n",
       "      <td>22</td>\n",
       "      <td>32</td>\n",
       "      <td>58</td>\n",
       "      <td>316</td>\n",
       "      <td>1</td>\n",
       "      <td>1006</td>\n",
       "      <td>0</td>\n",
       "      <td>...</td>\n",
       "      <td>52</td>\n",
       "      <td>3</td>\n",
       "      <td>0</td>\n",
       "      <td>43</td>\n",
       "      <td>0</td>\n",
       "      <td>3</td>\n",
       "      <td>0</td>\n",
       "      <td>0</td>\n",
       "      <td>8.0</td>\n",
       "      <td>4</td>\n",
       "    </tr>\n",
       "    <tr>\n",
       "      <th>2020-05-02</th>\n",
       "      <td>0</td>\n",
       "      <td>0</td>\n",
       "      <td>0</td>\n",
       "      <td>0</td>\n",
       "      <td>70</td>\n",
       "      <td>29</td>\n",
       "      <td>290</td>\n",
       "      <td>5</td>\n",
       "      <td>802</td>\n",
       "      <td>0</td>\n",
       "      <td>...</td>\n",
       "      <td>108</td>\n",
       "      <td>6</td>\n",
       "      <td>6</td>\n",
       "      <td>15</td>\n",
       "      <td>0</td>\n",
       "      <td>3</td>\n",
       "      <td>0</td>\n",
       "      <td>0</td>\n",
       "      <td>8.0</td>\n",
       "      <td>5</td>\n",
       "    </tr>\n",
       "    <tr>\n",
       "      <th>2020-05-03</th>\n",
       "      <td>365</td>\n",
       "      <td>0</td>\n",
       "      <td>4</td>\n",
       "      <td>0</td>\n",
       "      <td>0</td>\n",
       "      <td>36</td>\n",
       "      <td>376</td>\n",
       "      <td>0</td>\n",
       "      <td>976</td>\n",
       "      <td>0</td>\n",
       "      <td>...</td>\n",
       "      <td>116</td>\n",
       "      <td>5</td>\n",
       "      <td>0</td>\n",
       "      <td>48</td>\n",
       "      <td>0</td>\n",
       "      <td>0</td>\n",
       "      <td>0</td>\n",
       "      <td>0</td>\n",
       "      <td>10.0</td>\n",
       "      <td>6</td>\n",
       "    </tr>\n",
       "    <tr>\n",
       "      <th>2020-05-04</th>\n",
       "      <td>87</td>\n",
       "      <td>0</td>\n",
       "      <td>6</td>\n",
       "      <td>13</td>\n",
       "      <td>8</td>\n",
       "      <td>34</td>\n",
       "      <td>281</td>\n",
       "      <td>0</td>\n",
       "      <td>1223</td>\n",
       "      <td>0</td>\n",
       "      <td>...</td>\n",
       "      <td>72</td>\n",
       "      <td>4</td>\n",
       "      <td>0</td>\n",
       "      <td>91</td>\n",
       "      <td>0</td>\n",
       "      <td>3</td>\n",
       "      <td>0</td>\n",
       "      <td>0</td>\n",
       "      <td>8.0</td>\n",
       "      <td>0</td>\n",
       "    </tr>\n",
       "    <tr>\n",
       "      <th>2020-05-05</th>\n",
       "      <td>121</td>\n",
       "      <td>0</td>\n",
       "      <td>0</td>\n",
       "      <td>0</td>\n",
       "      <td>23</td>\n",
       "      <td>32</td>\n",
       "      <td>245</td>\n",
       "      <td>0</td>\n",
       "      <td>1323</td>\n",
       "      <td>0</td>\n",
       "      <td>...</td>\n",
       "      <td>119</td>\n",
       "      <td>6</td>\n",
       "      <td>0</td>\n",
       "      <td>40</td>\n",
       "      <td>0</td>\n",
       "      <td>6</td>\n",
       "      <td>0</td>\n",
       "      <td>0</td>\n",
       "      <td>3.0</td>\n",
       "      <td>1</td>\n",
       "    </tr>\n",
       "  </tbody>\n",
       "</table>\n",
       "<p>5 rows × 308 columns</p>\n",
       "</div>"
      ],
      "text/plain": [
       "            BO_conf  BN_conf  MM_conf  CF_conf  CD_conf  CI_conf  DO_conf  \\\n",
       "Date                                                                        \n",
       "2020-05-01      119        0        0       22       32       58      316   \n",
       "2020-05-02        0        0        0        0       70       29      290   \n",
       "2020-05-03      365        0        4        0        0       36      376   \n",
       "2020-05-04       87        0        6       13        8       34      281   \n",
       "2020-05-05      121        0        0        0       23       32      245   \n",
       "\n",
       "            GM_conf  IR_conf  LA_conf  ...  US_roam  UY_roam  UZ_roam  \\\n",
       "Date                                   ...                              \n",
       "2020-05-01        1     1006        0  ...       52        3        0   \n",
       "2020-05-02        5      802        0  ...      108        6        6   \n",
       "2020-05-03        0      976        0  ...      116        5        0   \n",
       "2020-05-04        0     1223        0  ...       72        4        0   \n",
       "2020-05-05        0     1323        0  ...      119        6        0   \n",
       "\n",
       "            VN_roam  YE_roam  ZA_roam  ZM_roam  ZW_roam  target  dayofweek  \n",
       "Date                                                                        \n",
       "2020-05-01       43        0        3        0        0     8.0          4  \n",
       "2020-05-02       15        0        3        0        0     8.0          5  \n",
       "2020-05-03       48        0        0        0        0    10.0          6  \n",
       "2020-05-04       91        0        3        0        0     8.0          0  \n",
       "2020-05-05       40        0        6        0        0     3.0          1  \n",
       "\n",
       "[5 rows x 308 columns]"
      ]
     },
     "execution_count": 557,
     "metadata": {},
     "output_type": "execute_result"
    }
   ],
   "source": [
    "df.tail()"
   ]
  },
  {
   "cell_type": "code",
   "execution_count": 309,
   "metadata": {
    "jupyter": {
     "source_hidden": true
    }
   },
   "outputs": [],
   "source": [
    "df.rename(columns={'TARGET':'oversea_inflow'}, inplace=True)"
   ]
  },
  {
   "cell_type": "code",
   "execution_count": null,
   "metadata": {
    "jupyter": {
     "source_hidden": true
    }
   },
   "outputs": [],
   "source": [
    "df['target'] = df['oversea_inflow'].diff()"
   ]
  },
  {
   "cell_type": "code",
   "execution_count": 311,
   "metadata": {
    "jupyter": {
     "source_hidden": true
    }
   },
   "outputs": [],
   "source": [
    "cols = ['EURO_conf',\n",
    " 'CHINA_conf',\n",
    " 'ASIA_conf',\n",
    " 'AMERICA_conf',]"
   ]
  },
  {
   "cell_type": "code",
   "execution_count": 312,
   "metadata": {
    "collapsed": true,
    "jupyter": {
     "outputs_hidden": true,
     "source_hidden": true
    }
   },
   "outputs": [
    {
     "data": {
      "text/plain": [
       "['EURO_conf', 'CHINA_conf', 'ASIA_conf', 'AMERICA_conf']"
      ]
     },
     "execution_count": 312,
     "metadata": {},
     "output_type": "execute_result"
    }
   ],
   "source": [
    "cols"
   ]
  },
  {
   "cell_type": "code",
   "execution_count": 180,
   "metadata": {
    "jupyter": {
     "source_hidden": true
    }
   },
   "outputs": [],
   "source": [
    "t_cols = []\n",
    "for col in cols:\n",
    "    tmp = '{}_1'.format(col)\n",
    "    t_cols.append(tmp)\n",
    "    df[tmp] = df['{}'.format(col)].diff()"
   ]
  },
  {
   "cell_type": "code",
   "execution_count": 241,
   "metadata": {
    "collapsed": true,
    "jupyter": {
     "outputs_hidden": true,
     "source_hidden": true
    }
   },
   "outputs": [
    {
     "data": {
      "text/plain": [
       "BO_conf      0\n",
       "BN_conf      0\n",
       "MM_conf      0\n",
       "CF_conf      0\n",
       "CD_conf      0\n",
       "            ..\n",
       "ZA_roam      0\n",
       "ZM_roam      0\n",
       "ZW_roam      0\n",
       "target       0\n",
       "dayofweek    0\n",
       "Length: 308, dtype: int64"
      ]
     },
     "execution_count": 241,
     "metadata": {},
     "output_type": "execute_result"
    }
   ],
   "source": [
    "df.isnull().sum()"
   ]
  },
  {
   "cell_type": "code",
   "execution_count": 182,
   "metadata": {
    "collapsed": true,
    "jupyter": {
     "outputs_hidden": true,
     "source_hidden": true
    }
   },
   "outputs": [
    {
     "data": {
      "text/plain": [
       "['EURO_conf_1', 'CHINA_conf_1', 'ASIA_conf_1', 'AMERICA_conf_1']"
      ]
     },
     "execution_count": 182,
     "metadata": {},
     "output_type": "execute_result"
    }
   ],
   "source": [
    "t_cols"
   ]
  },
  {
   "cell_type": "code",
   "execution_count": 183,
   "metadata": {
    "collapsed": true,
    "jupyter": {
     "outputs_hidden": true,
     "source_hidden": true
    }
   },
   "outputs": [
    {
     "data": {
      "text/html": [
       "<div>\n",
       "<style scoped>\n",
       "    .dataframe tbody tr th:only-of-type {\n",
       "        vertical-align: middle;\n",
       "    }\n",
       "\n",
       "    .dataframe tbody tr th {\n",
       "        vertical-align: top;\n",
       "    }\n",
       "\n",
       "    .dataframe thead th {\n",
       "        text-align: right;\n",
       "    }\n",
       "</style>\n",
       "<table border=\"1\" class=\"dataframe\">\n",
       "  <thead>\n",
       "    <tr style=\"text-align: right;\">\n",
       "      <th></th>\n",
       "      <th>EURO_conf</th>\n",
       "      <th>CHINA_conf</th>\n",
       "      <th>ASIA_conf</th>\n",
       "      <th>AMERICA_conf</th>\n",
       "      <th>EURO_roam</th>\n",
       "      <th>CHINA_roam</th>\n",
       "      <th>ASIA_roam</th>\n",
       "      <th>AMERICA_roam</th>\n",
       "      <th>oversea_inflow</th>\n",
       "      <th>NEWS</th>\n",
       "      <th>dayofweek</th>\n",
       "      <th>target</th>\n",
       "      <th>EURO_conf_1</th>\n",
       "      <th>CHINA_conf_1</th>\n",
       "      <th>ASIA_conf_1</th>\n",
       "      <th>AMERICA_conf_1</th>\n",
       "    </tr>\n",
       "    <tr>\n",
       "      <th>Date</th>\n",
       "      <th></th>\n",
       "      <th></th>\n",
       "      <th></th>\n",
       "      <th></th>\n",
       "      <th></th>\n",
       "      <th></th>\n",
       "      <th></th>\n",
       "      <th></th>\n",
       "      <th></th>\n",
       "      <th></th>\n",
       "      <th></th>\n",
       "      <th></th>\n",
       "      <th></th>\n",
       "      <th></th>\n",
       "      <th></th>\n",
       "      <th></th>\n",
       "    </tr>\n",
       "  </thead>\n",
       "  <tbody>\n",
       "    <tr>\n",
       "      <th>2020-01-22</th>\n",
       "      <td>0</td>\n",
       "      <td>548</td>\n",
       "      <td>5</td>\n",
       "      <td>1</td>\n",
       "      <td>1955.0</td>\n",
       "      <td>3014.0</td>\n",
       "      <td>8946.0</td>\n",
       "      <td>701.0</td>\n",
       "      <td>1</td>\n",
       "      <td>430</td>\n",
       "      <td>2</td>\n",
       "      <td>NaN</td>\n",
       "      <td>NaN</td>\n",
       "      <td>NaN</td>\n",
       "      <td>NaN</td>\n",
       "      <td>NaN</td>\n",
       "    </tr>\n",
       "    <tr>\n",
       "      <th>2020-01-23</th>\n",
       "      <td>0</td>\n",
       "      <td>643</td>\n",
       "      <td>9</td>\n",
       "      <td>1</td>\n",
       "      <td>1913.0</td>\n",
       "      <td>2677.0</td>\n",
       "      <td>7924.0</td>\n",
       "      <td>943.0</td>\n",
       "      <td>1</td>\n",
       "      <td>452</td>\n",
       "      <td>3</td>\n",
       "      <td>0.0</td>\n",
       "      <td>0.0</td>\n",
       "      <td>95.0</td>\n",
       "      <td>4.0</td>\n",
       "      <td>0.0</td>\n",
       "    </tr>\n",
       "    <tr>\n",
       "      <th>2020-01-24</th>\n",
       "      <td>2</td>\n",
       "      <td>920</td>\n",
       "      <td>15</td>\n",
       "      <td>2</td>\n",
       "      <td>2286.0</td>\n",
       "      <td>2197.0</td>\n",
       "      <td>7356.0</td>\n",
       "      <td>864.0</td>\n",
       "      <td>2</td>\n",
       "      <td>421</td>\n",
       "      <td>4</td>\n",
       "      <td>1.0</td>\n",
       "      <td>2.0</td>\n",
       "      <td>277.0</td>\n",
       "      <td>6.0</td>\n",
       "      <td>1.0</td>\n",
       "    </tr>\n",
       "    <tr>\n",
       "      <th>2020-01-25</th>\n",
       "      <td>3</td>\n",
       "      <td>1406</td>\n",
       "      <td>17</td>\n",
       "      <td>2</td>\n",
       "      <td>1472.0</td>\n",
       "      <td>1825.0</td>\n",
       "      <td>7518.0</td>\n",
       "      <td>828.0</td>\n",
       "      <td>2</td>\n",
       "      <td>506</td>\n",
       "      <td>5</td>\n",
       "      <td>0.0</td>\n",
       "      <td>1.0</td>\n",
       "      <td>486.0</td>\n",
       "      <td>2.0</td>\n",
       "      <td>0.0</td>\n",
       "    </tr>\n",
       "    <tr>\n",
       "      <th>2020-01-26</th>\n",
       "      <td>3</td>\n",
       "      <td>2075</td>\n",
       "      <td>22</td>\n",
       "      <td>5</td>\n",
       "      <td>1932.0</td>\n",
       "      <td>3252.0</td>\n",
       "      <td>11149.0</td>\n",
       "      <td>900.0</td>\n",
       "      <td>3</td>\n",
       "      <td>552</td>\n",
       "      <td>6</td>\n",
       "      <td>1.0</td>\n",
       "      <td>0.0</td>\n",
       "      <td>669.0</td>\n",
       "      <td>5.0</td>\n",
       "      <td>3.0</td>\n",
       "    </tr>\n",
       "  </tbody>\n",
       "</table>\n",
       "</div>"
      ],
      "text/plain": [
       "            EURO_conf  CHINA_conf  ASIA_conf  AMERICA_conf  EURO_roam  \\\n",
       "Date                                                                    \n",
       "2020-01-22          0         548          5             1     1955.0   \n",
       "2020-01-23          0         643          9             1     1913.0   \n",
       "2020-01-24          2         920         15             2     2286.0   \n",
       "2020-01-25          3        1406         17             2     1472.0   \n",
       "2020-01-26          3        2075         22             5     1932.0   \n",
       "\n",
       "            CHINA_roam  ASIA_roam  AMERICA_roam  oversea_inflow  NEWS  \\\n",
       "Date                                                                    \n",
       "2020-01-22      3014.0     8946.0         701.0               1   430   \n",
       "2020-01-23      2677.0     7924.0         943.0               1   452   \n",
       "2020-01-24      2197.0     7356.0         864.0               2   421   \n",
       "2020-01-25      1825.0     7518.0         828.0               2   506   \n",
       "2020-01-26      3252.0    11149.0         900.0               3   552   \n",
       "\n",
       "            dayofweek  target  EURO_conf_1  CHINA_conf_1  ASIA_conf_1  \\\n",
       "Date                                                                    \n",
       "2020-01-22          2     NaN          NaN           NaN          NaN   \n",
       "2020-01-23          3     0.0          0.0          95.0          4.0   \n",
       "2020-01-24          4     1.0          2.0         277.0          6.0   \n",
       "2020-01-25          5     0.0          1.0         486.0          2.0   \n",
       "2020-01-26          6     1.0          0.0         669.0          5.0   \n",
       "\n",
       "            AMERICA_conf_1  \n",
       "Date                        \n",
       "2020-01-22             NaN  \n",
       "2020-01-23             0.0  \n",
       "2020-01-24             1.0  \n",
       "2020-01-25             0.0  \n",
       "2020-01-26             3.0  "
      ]
     },
     "execution_count": 183,
     "metadata": {},
     "output_type": "execute_result"
    }
   ],
   "source": [
    "df.head()"
   ]
  },
  {
   "cell_type": "code",
   "execution_count": 184,
   "metadata": {
    "jupyter": {
     "source_hidden": true
    }
   },
   "outputs": [],
   "source": [
    "df.loc['2020-01-22',t_cols] = 0\n",
    "df.target.iloc[0] = 0"
   ]
  },
  {
   "cell_type": "code",
   "execution_count": 185,
   "metadata": {
    "jupyter": {
     "source_hidden": true
    }
   },
   "outputs": [],
   "source": [
    "# 일일 해외유입 확진자를 구할때 첫번째 로우는 NaN이기 때문에 0값을 넣어준다.\n",
    "df['target'][0] = 0"
   ]
  },
  {
   "cell_type": "code",
   "execution_count": 830,
   "metadata": {},
   "outputs": [],
   "source": [
    "#df = df.iloc[39:]"
   ]
  },
  {
   "cell_type": "code",
   "execution_count": 837,
   "metadata": {},
   "outputs": [
    {
     "data": {
      "text/html": [
       "<div>\n",
       "<style scoped>\n",
       "    .dataframe tbody tr th:only-of-type {\n",
       "        vertical-align: middle;\n",
       "    }\n",
       "\n",
       "    .dataframe tbody tr th {\n",
       "        vertical-align: top;\n",
       "    }\n",
       "\n",
       "    .dataframe thead th {\n",
       "        text-align: right;\n",
       "    }\n",
       "</style>\n",
       "<table border=\"1\" class=\"dataframe\">\n",
       "  <thead>\n",
       "    <tr style=\"text-align: right;\">\n",
       "      <th></th>\n",
       "      <th>BO_conf</th>\n",
       "      <th>BN_conf</th>\n",
       "      <th>MM_conf</th>\n",
       "      <th>CF_conf</th>\n",
       "      <th>CD_conf</th>\n",
       "      <th>CI_conf</th>\n",
       "      <th>DO_conf</th>\n",
       "      <th>GM_conf</th>\n",
       "      <th>IR_conf</th>\n",
       "      <th>LA_conf</th>\n",
       "      <th>...</th>\n",
       "      <th>US_roam</th>\n",
       "      <th>UY_roam</th>\n",
       "      <th>UZ_roam</th>\n",
       "      <th>VN_roam</th>\n",
       "      <th>YE_roam</th>\n",
       "      <th>ZA_roam</th>\n",
       "      <th>ZM_roam</th>\n",
       "      <th>ZW_roam</th>\n",
       "      <th>target</th>\n",
       "      <th>dayofweek</th>\n",
       "    </tr>\n",
       "    <tr>\n",
       "      <th>Date</th>\n",
       "      <th></th>\n",
       "      <th></th>\n",
       "      <th></th>\n",
       "      <th></th>\n",
       "      <th></th>\n",
       "      <th></th>\n",
       "      <th></th>\n",
       "      <th></th>\n",
       "      <th></th>\n",
       "      <th></th>\n",
       "      <th></th>\n",
       "      <th></th>\n",
       "      <th></th>\n",
       "      <th></th>\n",
       "      <th></th>\n",
       "      <th></th>\n",
       "      <th></th>\n",
       "      <th></th>\n",
       "      <th></th>\n",
       "      <th></th>\n",
       "      <th></th>\n",
       "    </tr>\n",
       "  </thead>\n",
       "  <tbody>\n",
       "    <tr>\n",
       "      <th>2020-05-01</th>\n",
       "      <td>119</td>\n",
       "      <td>0</td>\n",
       "      <td>0</td>\n",
       "      <td>22</td>\n",
       "      <td>32</td>\n",
       "      <td>58</td>\n",
       "      <td>316</td>\n",
       "      <td>1</td>\n",
       "      <td>1006</td>\n",
       "      <td>0</td>\n",
       "      <td>...</td>\n",
       "      <td>52</td>\n",
       "      <td>3</td>\n",
       "      <td>0</td>\n",
       "      <td>43</td>\n",
       "      <td>0</td>\n",
       "      <td>3</td>\n",
       "      <td>0</td>\n",
       "      <td>0</td>\n",
       "      <td>8.0</td>\n",
       "      <td>4</td>\n",
       "    </tr>\n",
       "    <tr>\n",
       "      <th>2020-05-02</th>\n",
       "      <td>0</td>\n",
       "      <td>0</td>\n",
       "      <td>0</td>\n",
       "      <td>0</td>\n",
       "      <td>70</td>\n",
       "      <td>29</td>\n",
       "      <td>290</td>\n",
       "      <td>5</td>\n",
       "      <td>802</td>\n",
       "      <td>0</td>\n",
       "      <td>...</td>\n",
       "      <td>108</td>\n",
       "      <td>6</td>\n",
       "      <td>6</td>\n",
       "      <td>15</td>\n",
       "      <td>0</td>\n",
       "      <td>3</td>\n",
       "      <td>0</td>\n",
       "      <td>0</td>\n",
       "      <td>8.0</td>\n",
       "      <td>5</td>\n",
       "    </tr>\n",
       "    <tr>\n",
       "      <th>2020-05-03</th>\n",
       "      <td>365</td>\n",
       "      <td>0</td>\n",
       "      <td>4</td>\n",
       "      <td>0</td>\n",
       "      <td>0</td>\n",
       "      <td>36</td>\n",
       "      <td>376</td>\n",
       "      <td>0</td>\n",
       "      <td>976</td>\n",
       "      <td>0</td>\n",
       "      <td>...</td>\n",
       "      <td>116</td>\n",
       "      <td>5</td>\n",
       "      <td>0</td>\n",
       "      <td>48</td>\n",
       "      <td>0</td>\n",
       "      <td>0</td>\n",
       "      <td>0</td>\n",
       "      <td>0</td>\n",
       "      <td>10.0</td>\n",
       "      <td>6</td>\n",
       "    </tr>\n",
       "    <tr>\n",
       "      <th>2020-05-04</th>\n",
       "      <td>87</td>\n",
       "      <td>0</td>\n",
       "      <td>6</td>\n",
       "      <td>13</td>\n",
       "      <td>8</td>\n",
       "      <td>34</td>\n",
       "      <td>281</td>\n",
       "      <td>0</td>\n",
       "      <td>1223</td>\n",
       "      <td>0</td>\n",
       "      <td>...</td>\n",
       "      <td>72</td>\n",
       "      <td>4</td>\n",
       "      <td>0</td>\n",
       "      <td>91</td>\n",
       "      <td>0</td>\n",
       "      <td>3</td>\n",
       "      <td>0</td>\n",
       "      <td>0</td>\n",
       "      <td>8.0</td>\n",
       "      <td>0</td>\n",
       "    </tr>\n",
       "    <tr>\n",
       "      <th>2020-05-05</th>\n",
       "      <td>121</td>\n",
       "      <td>0</td>\n",
       "      <td>0</td>\n",
       "      <td>0</td>\n",
       "      <td>23</td>\n",
       "      <td>32</td>\n",
       "      <td>245</td>\n",
       "      <td>0</td>\n",
       "      <td>1323</td>\n",
       "      <td>0</td>\n",
       "      <td>...</td>\n",
       "      <td>119</td>\n",
       "      <td>6</td>\n",
       "      <td>0</td>\n",
       "      <td>40</td>\n",
       "      <td>0</td>\n",
       "      <td>6</td>\n",
       "      <td>0</td>\n",
       "      <td>0</td>\n",
       "      <td>3.0</td>\n",
       "      <td>1</td>\n",
       "    </tr>\n",
       "  </tbody>\n",
       "</table>\n",
       "<p>5 rows × 309 columns</p>\n",
       "</div>"
      ],
      "text/plain": [
       "            BO_conf  BN_conf  MM_conf  CF_conf  CD_conf  CI_conf  DO_conf  \\\n",
       "Date                                                                        \n",
       "2020-05-01      119        0        0       22       32       58      316   \n",
       "2020-05-02        0        0        0        0       70       29      290   \n",
       "2020-05-03      365        0        4        0        0       36      376   \n",
       "2020-05-04       87        0        6       13        8       34      281   \n",
       "2020-05-05      121        0        0        0       23       32      245   \n",
       "\n",
       "            GM_conf  IR_conf  LA_conf  ...  US_roam  UY_roam  UZ_roam  \\\n",
       "Date                                   ...                              \n",
       "2020-05-01        1     1006        0  ...       52        3        0   \n",
       "2020-05-02        5      802        0  ...      108        6        6   \n",
       "2020-05-03        0      976        0  ...      116        5        0   \n",
       "2020-05-04        0     1223        0  ...       72        4        0   \n",
       "2020-05-05        0     1323        0  ...      119        6        0   \n",
       "\n",
       "            VN_roam  YE_roam  ZA_roam  ZM_roam  ZW_roam  target  dayofweek  \n",
       "Date                                                                        \n",
       "2020-05-01       43        0        3        0        0     8.0          4  \n",
       "2020-05-02       15        0        3        0        0     8.0          5  \n",
       "2020-05-03       48        0        0        0        0    10.0          6  \n",
       "2020-05-04       91        0        3        0        0     8.0          0  \n",
       "2020-05-05       40        0        6        0        0     3.0          1  \n",
       "\n",
       "[5 rows x 309 columns]"
      ]
     },
     "execution_count": 837,
     "metadata": {},
     "output_type": "execute_result"
    }
   ],
   "source": [
    "df.tail()"
   ]
  },
  {
   "cell_type": "markdown",
   "metadata": {},
   "source": [
    "## lag 변수 생성"
   ]
  },
  {
   "cell_type": "code",
   "execution_count": 971,
   "metadata": {},
   "outputs": [],
   "source": [
    "lag_amount = 7\n",
    "\n",
    "for i in range(lag_amount):\n",
    "    df['lag{}'.format(i+1)] = df['target'].shift(i+1)\n",
    "    \n",
    "df.dropna(inplace=True)"
   ]
  },
  {
   "cell_type": "code",
   "execution_count": 972,
   "metadata": {},
   "outputs": [
    {
     "data": {
      "text/html": [
       "<div>\n",
       "<style scoped>\n",
       "    .dataframe tbody tr th:only-of-type {\n",
       "        vertical-align: middle;\n",
       "    }\n",
       "\n",
       "    .dataframe tbody tr th {\n",
       "        vertical-align: top;\n",
       "    }\n",
       "\n",
       "    .dataframe thead th {\n",
       "        text-align: right;\n",
       "    }\n",
       "</style>\n",
       "<table border=\"1\" class=\"dataframe\">\n",
       "  <thead>\n",
       "    <tr style=\"text-align: right;\">\n",
       "      <th></th>\n",
       "      <th>BO_conf</th>\n",
       "      <th>BN_conf</th>\n",
       "      <th>MM_conf</th>\n",
       "      <th>CF_conf</th>\n",
       "      <th>CD_conf</th>\n",
       "      <th>CI_conf</th>\n",
       "      <th>DO_conf</th>\n",
       "      <th>GM_conf</th>\n",
       "      <th>IR_conf</th>\n",
       "      <th>LA_conf</th>\n",
       "      <th>...</th>\n",
       "      <th>ZW_roam</th>\n",
       "      <th>target</th>\n",
       "      <th>dayofweek</th>\n",
       "      <th>lag1</th>\n",
       "      <th>lag2</th>\n",
       "      <th>lag3</th>\n",
       "      <th>lag4</th>\n",
       "      <th>lag5</th>\n",
       "      <th>lag6</th>\n",
       "      <th>lag7</th>\n",
       "    </tr>\n",
       "    <tr>\n",
       "      <th>Date</th>\n",
       "      <th></th>\n",
       "      <th></th>\n",
       "      <th></th>\n",
       "      <th></th>\n",
       "      <th></th>\n",
       "      <th></th>\n",
       "      <th></th>\n",
       "      <th></th>\n",
       "      <th></th>\n",
       "      <th></th>\n",
       "      <th></th>\n",
       "      <th></th>\n",
       "      <th></th>\n",
       "      <th></th>\n",
       "      <th></th>\n",
       "      <th></th>\n",
       "      <th></th>\n",
       "      <th></th>\n",
       "      <th></th>\n",
       "      <th></th>\n",
       "      <th></th>\n",
       "    </tr>\n",
       "  </thead>\n",
       "  <tbody>\n",
       "    <tr>\n",
       "      <th>2020-01-29</th>\n",
       "      <td>0</td>\n",
       "      <td>0</td>\n",
       "      <td>0</td>\n",
       "      <td>0</td>\n",
       "      <td>0</td>\n",
       "      <td>0</td>\n",
       "      <td>0</td>\n",
       "      <td>0</td>\n",
       "      <td>0</td>\n",
       "      <td>0</td>\n",
       "      <td>...</td>\n",
       "      <td>9</td>\n",
       "      <td>0.0</td>\n",
       "      <td>2</td>\n",
       "      <td>0.0</td>\n",
       "      <td>1.0</td>\n",
       "      <td>1.0</td>\n",
       "      <td>0.0</td>\n",
       "      <td>1.0</td>\n",
       "      <td>0.0</td>\n",
       "      <td>0.0</td>\n",
       "    </tr>\n",
       "    <tr>\n",
       "      <th>2020-01-30</th>\n",
       "      <td>0</td>\n",
       "      <td>0</td>\n",
       "      <td>0</td>\n",
       "      <td>0</td>\n",
       "      <td>0</td>\n",
       "      <td>0</td>\n",
       "      <td>0</td>\n",
       "      <td>0</td>\n",
       "      <td>0</td>\n",
       "      <td>0</td>\n",
       "      <td>...</td>\n",
       "      <td>9</td>\n",
       "      <td>2.0</td>\n",
       "      <td>3</td>\n",
       "      <td>0.0</td>\n",
       "      <td>0.0</td>\n",
       "      <td>1.0</td>\n",
       "      <td>1.0</td>\n",
       "      <td>0.0</td>\n",
       "      <td>1.0</td>\n",
       "      <td>0.0</td>\n",
       "    </tr>\n",
       "    <tr>\n",
       "      <th>2020-01-31</th>\n",
       "      <td>0</td>\n",
       "      <td>0</td>\n",
       "      <td>0</td>\n",
       "      <td>0</td>\n",
       "      <td>0</td>\n",
       "      <td>0</td>\n",
       "      <td>0</td>\n",
       "      <td>0</td>\n",
       "      <td>0</td>\n",
       "      <td>0</td>\n",
       "      <td>...</td>\n",
       "      <td>9</td>\n",
       "      <td>1.0</td>\n",
       "      <td>4</td>\n",
       "      <td>2.0</td>\n",
       "      <td>0.0</td>\n",
       "      <td>0.0</td>\n",
       "      <td>1.0</td>\n",
       "      <td>1.0</td>\n",
       "      <td>0.0</td>\n",
       "      <td>1.0</td>\n",
       "    </tr>\n",
       "    <tr>\n",
       "      <th>2020-02-01</th>\n",
       "      <td>0</td>\n",
       "      <td>0</td>\n",
       "      <td>0</td>\n",
       "      <td>0</td>\n",
       "      <td>0</td>\n",
       "      <td>0</td>\n",
       "      <td>0</td>\n",
       "      <td>0</td>\n",
       "      <td>0</td>\n",
       "      <td>0</td>\n",
       "      <td>...</td>\n",
       "      <td>3</td>\n",
       "      <td>1.0</td>\n",
       "      <td>5</td>\n",
       "      <td>1.0</td>\n",
       "      <td>2.0</td>\n",
       "      <td>0.0</td>\n",
       "      <td>0.0</td>\n",
       "      <td>1.0</td>\n",
       "      <td>1.0</td>\n",
       "      <td>0.0</td>\n",
       "    </tr>\n",
       "    <tr>\n",
       "      <th>2020-02-02</th>\n",
       "      <td>0</td>\n",
       "      <td>0</td>\n",
       "      <td>0</td>\n",
       "      <td>0</td>\n",
       "      <td>0</td>\n",
       "      <td>0</td>\n",
       "      <td>0</td>\n",
       "      <td>0</td>\n",
       "      <td>0</td>\n",
       "      <td>0</td>\n",
       "      <td>...</td>\n",
       "      <td>0</td>\n",
       "      <td>2.0</td>\n",
       "      <td>6</td>\n",
       "      <td>1.0</td>\n",
       "      <td>1.0</td>\n",
       "      <td>2.0</td>\n",
       "      <td>0.0</td>\n",
       "      <td>0.0</td>\n",
       "      <td>1.0</td>\n",
       "      <td>1.0</td>\n",
       "    </tr>\n",
       "  </tbody>\n",
       "</table>\n",
       "<p>5 rows × 316 columns</p>\n",
       "</div>"
      ],
      "text/plain": [
       "            BO_conf  BN_conf  MM_conf  CF_conf  CD_conf  CI_conf  DO_conf  \\\n",
       "Date                                                                        \n",
       "2020-01-29        0        0        0        0        0        0        0   \n",
       "2020-01-30        0        0        0        0        0        0        0   \n",
       "2020-01-31        0        0        0        0        0        0        0   \n",
       "2020-02-01        0        0        0        0        0        0        0   \n",
       "2020-02-02        0        0        0        0        0        0        0   \n",
       "\n",
       "            GM_conf  IR_conf  LA_conf  ...  ZW_roam  target  dayofweek  lag1  \\\n",
       "Date                                   ...                                     \n",
       "2020-01-29        0        0        0  ...        9     0.0          2   0.0   \n",
       "2020-01-30        0        0        0  ...        9     2.0          3   0.0   \n",
       "2020-01-31        0        0        0  ...        9     1.0          4   2.0   \n",
       "2020-02-01        0        0        0  ...        3     1.0          5   1.0   \n",
       "2020-02-02        0        0        0  ...        0     2.0          6   1.0   \n",
       "\n",
       "            lag2  lag3  lag4  lag5  lag6  lag7  \n",
       "Date                                            \n",
       "2020-01-29   1.0   1.0   0.0   1.0   0.0   0.0  \n",
       "2020-01-30   0.0   1.0   1.0   0.0   1.0   0.0  \n",
       "2020-01-31   0.0   0.0   1.0   1.0   0.0   1.0  \n",
       "2020-02-01   2.0   0.0   0.0   1.0   1.0   0.0  \n",
       "2020-02-02   1.0   2.0   0.0   0.0   1.0   1.0  \n",
       "\n",
       "[5 rows x 316 columns]"
      ]
     },
     "execution_count": 972,
     "metadata": {},
     "output_type": "execute_result"
    }
   ],
   "source": [
    "df.head()"
   ]
  },
  {
   "cell_type": "code",
   "execution_count": 973,
   "metadata": {},
   "outputs": [
    {
     "data": {
      "text/html": [
       "<div>\n",
       "<style scoped>\n",
       "    .dataframe tbody tr th:only-of-type {\n",
       "        vertical-align: middle;\n",
       "    }\n",
       "\n",
       "    .dataframe tbody tr th {\n",
       "        vertical-align: top;\n",
       "    }\n",
       "\n",
       "    .dataframe thead th {\n",
       "        text-align: right;\n",
       "    }\n",
       "</style>\n",
       "<table border=\"1\" class=\"dataframe\">\n",
       "  <thead>\n",
       "    <tr style=\"text-align: right;\">\n",
       "      <th></th>\n",
       "      <th>BO_conf</th>\n",
       "      <th>BN_conf</th>\n",
       "      <th>MM_conf</th>\n",
       "      <th>CF_conf</th>\n",
       "      <th>CD_conf</th>\n",
       "      <th>CI_conf</th>\n",
       "      <th>DO_conf</th>\n",
       "      <th>GM_conf</th>\n",
       "      <th>IR_conf</th>\n",
       "      <th>LA_conf</th>\n",
       "      <th>...</th>\n",
       "      <th>ZW_roam</th>\n",
       "      <th>target</th>\n",
       "      <th>dayofweek</th>\n",
       "      <th>lag1</th>\n",
       "      <th>lag2</th>\n",
       "      <th>lag3</th>\n",
       "      <th>lag4</th>\n",
       "      <th>lag5</th>\n",
       "      <th>lag6</th>\n",
       "      <th>lag7</th>\n",
       "    </tr>\n",
       "    <tr>\n",
       "      <th>Date</th>\n",
       "      <th></th>\n",
       "      <th></th>\n",
       "      <th></th>\n",
       "      <th></th>\n",
       "      <th></th>\n",
       "      <th></th>\n",
       "      <th></th>\n",
       "      <th></th>\n",
       "      <th></th>\n",
       "      <th></th>\n",
       "      <th></th>\n",
       "      <th></th>\n",
       "      <th></th>\n",
       "      <th></th>\n",
       "      <th></th>\n",
       "      <th></th>\n",
       "      <th></th>\n",
       "      <th></th>\n",
       "      <th></th>\n",
       "      <th></th>\n",
       "      <th></th>\n",
       "    </tr>\n",
       "  </thead>\n",
       "  <tbody>\n",
       "    <tr>\n",
       "      <th>2020-05-01</th>\n",
       "      <td>119</td>\n",
       "      <td>0</td>\n",
       "      <td>0</td>\n",
       "      <td>22</td>\n",
       "      <td>32</td>\n",
       "      <td>58</td>\n",
       "      <td>316</td>\n",
       "      <td>1</td>\n",
       "      <td>1006</td>\n",
       "      <td>0</td>\n",
       "      <td>...</td>\n",
       "      <td>0</td>\n",
       "      <td>8.0</td>\n",
       "      <td>4</td>\n",
       "      <td>4.0</td>\n",
       "      <td>5.0</td>\n",
       "      <td>12.0</td>\n",
       "      <td>7.0</td>\n",
       "      <td>10.0</td>\n",
       "      <td>4.0</td>\n",
       "      <td>2.0</td>\n",
       "    </tr>\n",
       "    <tr>\n",
       "      <th>2020-05-02</th>\n",
       "      <td>0</td>\n",
       "      <td>0</td>\n",
       "      <td>0</td>\n",
       "      <td>0</td>\n",
       "      <td>70</td>\n",
       "      <td>29</td>\n",
       "      <td>290</td>\n",
       "      <td>5</td>\n",
       "      <td>802</td>\n",
       "      <td>0</td>\n",
       "      <td>...</td>\n",
       "      <td>0</td>\n",
       "      <td>8.0</td>\n",
       "      <td>5</td>\n",
       "      <td>8.0</td>\n",
       "      <td>4.0</td>\n",
       "      <td>5.0</td>\n",
       "      <td>12.0</td>\n",
       "      <td>7.0</td>\n",
       "      <td>10.0</td>\n",
       "      <td>4.0</td>\n",
       "    </tr>\n",
       "    <tr>\n",
       "      <th>2020-05-03</th>\n",
       "      <td>365</td>\n",
       "      <td>0</td>\n",
       "      <td>4</td>\n",
       "      <td>0</td>\n",
       "      <td>0</td>\n",
       "      <td>36</td>\n",
       "      <td>376</td>\n",
       "      <td>0</td>\n",
       "      <td>976</td>\n",
       "      <td>0</td>\n",
       "      <td>...</td>\n",
       "      <td>0</td>\n",
       "      <td>10.0</td>\n",
       "      <td>6</td>\n",
       "      <td>8.0</td>\n",
       "      <td>8.0</td>\n",
       "      <td>4.0</td>\n",
       "      <td>5.0</td>\n",
       "      <td>12.0</td>\n",
       "      <td>7.0</td>\n",
       "      <td>10.0</td>\n",
       "    </tr>\n",
       "    <tr>\n",
       "      <th>2020-05-04</th>\n",
       "      <td>87</td>\n",
       "      <td>0</td>\n",
       "      <td>6</td>\n",
       "      <td>13</td>\n",
       "      <td>8</td>\n",
       "      <td>34</td>\n",
       "      <td>281</td>\n",
       "      <td>0</td>\n",
       "      <td>1223</td>\n",
       "      <td>0</td>\n",
       "      <td>...</td>\n",
       "      <td>0</td>\n",
       "      <td>8.0</td>\n",
       "      <td>0</td>\n",
       "      <td>10.0</td>\n",
       "      <td>8.0</td>\n",
       "      <td>8.0</td>\n",
       "      <td>4.0</td>\n",
       "      <td>5.0</td>\n",
       "      <td>12.0</td>\n",
       "      <td>7.0</td>\n",
       "    </tr>\n",
       "    <tr>\n",
       "      <th>2020-05-05</th>\n",
       "      <td>121</td>\n",
       "      <td>0</td>\n",
       "      <td>0</td>\n",
       "      <td>0</td>\n",
       "      <td>23</td>\n",
       "      <td>32</td>\n",
       "      <td>245</td>\n",
       "      <td>0</td>\n",
       "      <td>1323</td>\n",
       "      <td>0</td>\n",
       "      <td>...</td>\n",
       "      <td>0</td>\n",
       "      <td>3.0</td>\n",
       "      <td>1</td>\n",
       "      <td>8.0</td>\n",
       "      <td>10.0</td>\n",
       "      <td>8.0</td>\n",
       "      <td>8.0</td>\n",
       "      <td>4.0</td>\n",
       "      <td>5.0</td>\n",
       "      <td>12.0</td>\n",
       "    </tr>\n",
       "  </tbody>\n",
       "</table>\n",
       "<p>5 rows × 316 columns</p>\n",
       "</div>"
      ],
      "text/plain": [
       "            BO_conf  BN_conf  MM_conf  CF_conf  CD_conf  CI_conf  DO_conf  \\\n",
       "Date                                                                        \n",
       "2020-05-01      119        0        0       22       32       58      316   \n",
       "2020-05-02        0        0        0        0       70       29      290   \n",
       "2020-05-03      365        0        4        0        0       36      376   \n",
       "2020-05-04       87        0        6       13        8       34      281   \n",
       "2020-05-05      121        0        0        0       23       32      245   \n",
       "\n",
       "            GM_conf  IR_conf  LA_conf  ...  ZW_roam  target  dayofweek  lag1  \\\n",
       "Date                                   ...                                     \n",
       "2020-05-01        1     1006        0  ...        0     8.0          4   4.0   \n",
       "2020-05-02        5      802        0  ...        0     8.0          5   8.0   \n",
       "2020-05-03        0      976        0  ...        0    10.0          6   8.0   \n",
       "2020-05-04        0     1223        0  ...        0     8.0          0  10.0   \n",
       "2020-05-05        0     1323        0  ...        0     3.0          1   8.0   \n",
       "\n",
       "            lag2  lag3  lag4  lag5  lag6  lag7  \n",
       "Date                                            \n",
       "2020-05-01   5.0  12.0   7.0  10.0   4.0   2.0  \n",
       "2020-05-02   4.0   5.0  12.0   7.0  10.0   4.0  \n",
       "2020-05-03   8.0   4.0   5.0  12.0   7.0  10.0  \n",
       "2020-05-04   8.0   8.0   4.0   5.0  12.0   7.0  \n",
       "2020-05-05  10.0   8.0   8.0   4.0   5.0  12.0  \n",
       "\n",
       "[5 rows x 316 columns]"
      ]
     },
     "execution_count": 973,
     "metadata": {},
     "output_type": "execute_result"
    }
   ],
   "source": [
    "df.tail()"
   ]
  },
  {
   "cell_type": "markdown",
   "metadata": {
    "colab_type": "text",
    "id": "BuOyxbF4x9lN"
   },
   "source": [
    "# Data Exploration"
   ]
  },
  {
   "cell_type": "code",
   "execution_count": 974,
   "metadata": {
    "colab": {
     "base_uri": "https://localhost:8080/",
     "height": 305
    },
    "colab_type": "code",
    "id": "uwmrhvJvy9hM",
    "outputId": "1afb84b0-98ee-49ca-f068-82226680a724"
   },
   "outputs": [
    {
     "data": {
      "text/plain": [
       "0"
      ]
     },
     "execution_count": 974,
     "metadata": {},
     "output_type": "execute_result"
    }
   ],
   "source": [
    "# 결측치 확인\n",
    "df.isnull().sum().sum()"
   ]
  },
  {
   "cell_type": "code",
   "execution_count": 975,
   "metadata": {},
   "outputs": [
    {
     "name": "stdout",
     "output_type": "stream",
     "text": [
      "전체 데이터 shape: (98, 316)\n",
      "target feature shape: (98,)\n"
     ]
    }
   ],
   "source": [
    "# 데이터 프레임 형태 확인\n",
    "print(\"전체 데이터 shape: {}\".format(df.shape))\n",
    "print(\"target feature shape: {}\".format(df['target'].shape))"
   ]
  },
  {
   "cell_type": "code",
   "execution_count": 976,
   "metadata": {
    "colab": {
     "base_uri": "https://localhost:8080/",
     "height": 406
    },
    "colab_type": "code",
    "id": "3m5ixBmvzKiH",
    "outputId": "6da353a9-1fb2-4aef-b54b-e97b94a7ab17"
   },
   "outputs": [
    {
     "data": {
      "image/png": "[encoded data removed]",
      "text/plain": [
       "<Figure size 1800x360 with 1 Axes>"
      ]
     },
     "metadata": {
      "image/png": {
       "height": 381,
       "width": 1433
      }
     },
     "output_type": "display_data"
    }
   ],
   "source": [
    "plt.figure(figsize=(25,5))\n",
    "plt.plot(df['target'])\n",
    "plt.xticks(rotation=90)\n",
    "plt.title(\"Oversea Inflow Cofirmed\")\n",
    "plt.grid(axis='x')"
   ]
  },
  {
   "cell_type": "markdown",
   "metadata": {
    "colab_type": "text",
    "id": "O_xvJHla0EAa"
   },
   "source": [
    "# Preprocessing"
   ]
  },
  {
   "cell_type": "markdown",
   "metadata": {},
   "source": [
    "## Feature Selection"
   ]
  },
  {
   "cell_type": "code",
   "execution_count": 903,
   "metadata": {},
   "outputs": [],
   "source": [
    "from sklearn.datasets import load_boston\n",
    "from sklearn.ensemble import RandomForestRegressor\n",
    "from sklearn.model_selection import GridSearchCV"
   ]
  },
  {
   "cell_type": "code",
   "execution_count": 977,
   "metadata": {},
   "outputs": [],
   "source": [
    "# 테스트 데이터 수\n",
    "test_data_size = 28\n",
    "\n",
    "# X변수들과 y변수 구분\n",
    "X = df.iloc[:,:-1]\n",
    "y = df.iloc[:,-1]"
   ]
  },
  {
   "cell_type": "code",
   "execution_count": 978,
   "metadata": {},
   "outputs": [
    {
     "data": {
      "text/plain": [
       "RandomForestRegressor(bootstrap=True, ccp_alpha=0.0, criterion='mse',\n",
       "                      max_depth=None, max_features='auto', max_leaf_nodes=None,\n",
       "                      max_samples=None, min_impurity_decrease=0.0,\n",
       "                      min_impurity_split=None, min_samples_leaf=1,\n",
       "                      min_samples_split=2, min_weight_fraction_leaf=0.0,\n",
       "                      n_estimators=100, n_jobs=None, oob_score=False,\n",
       "                      random_state=None, verbose=0, warm_start=False)"
      ]
     },
     "execution_count": 978,
     "metadata": {},
     "output_type": "execute_result"
    }
   ],
   "source": [
    "rf = RandomForestRegressor()\n",
    "rf.fit(X, y)"
   ]
  },
  {
   "cell_type": "code",
   "execution_count": 912,
   "metadata": {},
   "outputs": [],
   "source": [
    "param_grid = { \n",
    "    'n_estimators': [200, 500],\n",
    "    'max_features': ['auto', 'sqrt', 'log2'],\n",
    "    'max_depth' : [4,5,6,7,8],\n",
    "}"
   ]
  },
  {
   "cell_type": "code",
   "execution_count": 913,
   "metadata": {},
   "outputs": [],
   "source": [
    "# grid search\n",
    "CV_rfc = GridSearchCV(estimator=rf, param_grid=param_grid, cv=5)"
   ]
  },
  {
   "cell_type": "code",
   "execution_count": 914,
   "metadata": {},
   "outputs": [
    {
     "data": {
      "text/plain": [
       "GridSearchCV(cv=5, error_score=nan,\n",
       "             estimator=RandomForestRegressor(bootstrap=True, ccp_alpha=0.0,\n",
       "                                             criterion='mse', max_depth=None,\n",
       "                                             max_features='auto',\n",
       "                                             max_leaf_nodes=None,\n",
       "                                             max_samples=None,\n",
       "                                             min_impurity_decrease=0.0,\n",
       "                                             min_impurity_split=None,\n",
       "                                             min_samples_leaf=1,\n",
       "                                             min_samples_split=2,\n",
       "                                             min_weight_fraction_leaf=0.0,\n",
       "                                             n_estimators=100, n_jobs=None,\n",
       "                                             oob_score=False, random_state=None,\n",
       "                                             verbose=0, warm_start=False),\n",
       "             iid='deprecated', n_jobs=None,\n",
       "             param_grid={'max_depth': [4, 5, 6, 7, 8],\n",
       "                         'max_features': ['auto', 'sqrt', 'log2'],\n",
       "                         'n_estimators': [200, 500]},\n",
       "             pre_dispatch='2*n_jobs', refit=True, return_train_score=False,\n",
       "             scoring=None, verbose=0)"
      ]
     },
     "execution_count": 914,
     "metadata": {},
     "output_type": "execute_result"
    }
   ],
   "source": [
    "CV_rfc"
   ]
  },
  {
   "cell_type": "code",
   "execution_count": 915,
   "metadata": {},
   "outputs": [
    {
     "data": {
      "text/plain": [
       "GridSearchCV(cv=5, error_score=nan,\n",
       "             estimator=RandomForestRegressor(bootstrap=True, ccp_alpha=0.0,\n",
       "                                             criterion='mse', max_depth=None,\n",
       "                                             max_features='auto',\n",
       "                                             max_leaf_nodes=None,\n",
       "                                             max_samples=None,\n",
       "                                             min_impurity_decrease=0.0,\n",
       "                                             min_impurity_split=None,\n",
       "                                             min_samples_leaf=1,\n",
       "                                             min_samples_split=2,\n",
       "                                             min_weight_fraction_leaf=0.0,\n",
       "                                             n_estimators=100, n_jobs=None,\n",
       "                                             oob_score=False, random_state=None,\n",
       "                                             verbose=0, warm_start=False),\n",
       "             iid='deprecated', n_jobs=None,\n",
       "             param_grid={'max_depth': [4, 5, 6, 7, 8],\n",
       "                         'max_features': ['auto', 'sqrt', 'log2'],\n",
       "                         'n_estimators': [200, 500]},\n",
       "             pre_dispatch='2*n_jobs', refit=True, return_train_score=False,\n",
       "             scoring=None, verbose=0)"
      ]
     },
     "execution_count": 915,
     "metadata": {},
     "output_type": "execute_result"
    }
   ],
   "source": [
    "CV_rfc.fit(X, y)"
   ]
  },
  {
   "cell_type": "code",
   "execution_count": 916,
   "metadata": {},
   "outputs": [
    {
     "data": {
      "text/plain": [
       "{'max_depth': 4, 'max_features': 'auto', 'n_estimators': 200}"
      ]
     },
     "execution_count": 916,
     "metadata": {},
     "output_type": "execute_result"
    }
   ],
   "source": [
    "CV_rfc.best_params_"
   ]
  },
  {
   "cell_type": "code",
   "execution_count": 979,
   "metadata": {},
   "outputs": [
    {
     "data": {
      "text/plain": [
       "RandomForestRegressor(bootstrap=True, ccp_alpha=0.0, criterion='mse',\n",
       "                      max_depth=4, max_features='auto', max_leaf_nodes=None,\n",
       "                      max_samples=None, min_impurity_decrease=0.0,\n",
       "                      min_impurity_split=None, min_samples_leaf=1,\n",
       "                      min_samples_split=2, min_weight_fraction_leaf=0.0,\n",
       "                      n_estimators=200, n_jobs=None, oob_score=False,\n",
       "                      random_state=None, verbose=0, warm_start=False)"
      ]
     },
     "execution_count": 979,
     "metadata": {},
     "output_type": "execute_result"
    }
   ],
   "source": [
    "# parameter 설정후에 다시 진행\n",
    "rf = RandomForestRegressor(n_estimators=200, max_depth=4, max_features='auto')\n",
    "rf.fit(X, y)"
   ]
  },
  {
   "cell_type": "code",
   "execution_count": 980,
   "metadata": {},
   "outputs": [
    {
     "data": {
      "text/html": [
       "<div>\n",
       "<style scoped>\n",
       "    .dataframe tbody tr th:only-of-type {\n",
       "        vertical-align: middle;\n",
       "    }\n",
       "\n",
       "    .dataframe tbody tr th {\n",
       "        vertical-align: top;\n",
       "    }\n",
       "\n",
       "    .dataframe thead th {\n",
       "        text-align: right;\n",
       "    }\n",
       "</style>\n",
       "<table border=\"1\" class=\"dataframe\">\n",
       "  <thead>\n",
       "    <tr style=\"text-align: right;\">\n",
       "      <th></th>\n",
       "      <th>Feature</th>\n",
       "      <th>Importance</th>\n",
       "    </tr>\n",
       "  </thead>\n",
       "  <tbody>\n",
       "    <tr>\n",
       "      <th>314</th>\n",
       "      <td>lag6</td>\n",
       "      <td>0.408</td>\n",
       "    </tr>\n",
       "    <tr>\n",
       "      <th>12</th>\n",
       "      <td>NE_conf</td>\n",
       "      <td>0.102</td>\n",
       "    </tr>\n",
       "    <tr>\n",
       "      <th>54</th>\n",
       "      <td>CY_conf</td>\n",
       "      <td>0.078</td>\n",
       "    </tr>\n",
       "    <tr>\n",
       "      <th>312</th>\n",
       "      <td>lag4</td>\n",
       "      <td>0.076</td>\n",
       "    </tr>\n",
       "    <tr>\n",
       "      <th>81</th>\n",
       "      <td>IL_conf</td>\n",
       "      <td>0.054</td>\n",
       "    </tr>\n",
       "    <tr>\n",
       "      <th>...</th>\n",
       "      <td>...</td>\n",
       "      <td>...</td>\n",
       "    </tr>\n",
       "    <tr>\n",
       "      <th>278</th>\n",
       "      <td>RW_roam</td>\n",
       "      <td>0.000</td>\n",
       "    </tr>\n",
       "    <tr>\n",
       "      <th>205</th>\n",
       "      <td>GE_roam</td>\n",
       "      <td>0.000</td>\n",
       "    </tr>\n",
       "    <tr>\n",
       "      <th>280</th>\n",
       "      <td>SC_roam</td>\n",
       "      <td>0.000</td>\n",
       "    </tr>\n",
       "    <tr>\n",
       "      <th>194</th>\n",
       "      <td>DZ_roam</td>\n",
       "      <td>0.000</td>\n",
       "    </tr>\n",
       "    <tr>\n",
       "      <th>164</th>\n",
       "      <td>BA_roam</td>\n",
       "      <td>0.000</td>\n",
       "    </tr>\n",
       "  </tbody>\n",
       "</table>\n",
       "<p>315 rows × 2 columns</p>\n",
       "</div>"
      ],
      "text/plain": [
       "     Feature  Importance\n",
       "314     lag6       0.408\n",
       "12   NE_conf       0.102\n",
       "54   CY_conf       0.078\n",
       "312     lag4       0.076\n",
       "81   IL_conf       0.054\n",
       "..       ...         ...\n",
       "278  RW_roam       0.000\n",
       "205  GE_roam       0.000\n",
       "280  SC_roam       0.000\n",
       "194  DZ_roam       0.000\n",
       "164  BA_roam       0.000\n",
       "\n",
       "[315 rows x 2 columns]"
      ]
     },
     "execution_count": 980,
     "metadata": {},
     "output_type": "execute_result"
    }
   ],
   "source": [
    "# tree.feature_importances_로 설명변수 중요도 확인 및 테이블로 저장\n",
    "df_importance = pd.DataFrame()\n",
    "df_importance['Feature'] = list(X.columns)\n",
    "df_importance['Importance'] = rf.feature_importances_\n",
    "\n",
    "# df_feature_importance의 테이블을 중요도별로 정렬\n",
    "df_importance.sort_values(\"Importance\", ascending = False, inplace = True)\n",
    "df_importance.round(3)"
   ]
  },
  {
   "cell_type": "code",
   "execution_count": 981,
   "metadata": {},
   "outputs": [
    {
     "data": {
      "text/plain": [
       "Text(0, 0.5, '변수')"
      ]
     },
     "execution_count": 981,
     "metadata": {},
     "output_type": "execute_result"
    },
    {
     "data": {
      "image/png": "[encoded data removed]",
      "text/plain": [
       "<Figure size 1008x720 with 1 Axes>"
      ]
     },
     "metadata": {
      "image/png": {
       "height": 599,
       "width": 872
      }
     },
     "output_type": "display_data"
    }
   ],
   "source": [
    "# 설명변수 중요도 그래\n",
    "# 중요도가 높은 변수를 상위에 그림\n",
    "# 상위 10개 확인\n",
    "df_importance1 = df_importance.head(10)\n",
    "df_importance1.sort_values(\"Importance\", ascending = True, inplace = True)\n",
    "coordinates = range(len(df_importance1))\n",
    "plt.barh(y = coordinates,\n",
    "        width = df_importance1['Importance'])\n",
    "plt.yticks(coordinates, df_importance1['Feature'])\n",
    "plt.xlabel('변수 중요도')\n",
    "plt.ylabel('변수')"
   ]
  },
  {
   "cell_type": "code",
   "execution_count": 982,
   "metadata": {},
   "outputs": [],
   "source": [
    "col_names = list(df_importance1['Feature'])\n",
    "col_names.append('target')"
   ]
  },
  {
   "cell_type": "code",
   "execution_count": 983,
   "metadata": {},
   "outputs": [
    {
     "data": {
      "text/plain": [
       "['IR_conf',\n",
       " 'NL_conf',\n",
       " 'BE_conf',\n",
       " 'lag3',\n",
       " 'lag5',\n",
       " 'IL_conf',\n",
       " 'lag4',\n",
       " 'CY_conf',\n",
       " 'NE_conf',\n",
       " 'lag6',\n",
       " 'target']"
      ]
     },
     "execution_count": 983,
     "metadata": {},
     "output_type": "execute_result"
    }
   ],
   "source": [
    "col_names"
   ]
  },
  {
   "cell_type": "markdown",
   "metadata": {},
   "source": [
    "# 새로운 변수 넣고 LSTM 학습"
   ]
  },
  {
   "cell_type": "code",
   "execution_count": 985,
   "metadata": {},
   "outputs": [],
   "source": [
    "df = df[col_names]"
   ]
  },
  {
   "cell_type": "code",
   "execution_count": 1009,
   "metadata": {},
   "outputs": [],
   "source": [
    "# 테스트 데이터 수\n",
    "test_data_size = 35\n",
    "\n",
    "# X변수들과 y변수 구분\n",
    "X = df.iloc[:,:-1]\n",
    "y = df.iloc[:,-1]"
   ]
  },
  {
   "cell_type": "code",
   "execution_count": 1010,
   "metadata": {},
   "outputs": [
    {
     "data": {
      "text/plain": [
       "29"
      ]
     },
     "execution_count": 1010,
     "metadata": {},
     "output_type": "execute_result"
    }
   ],
   "source": [
    "round(len(df)*0.3)"
   ]
  },
  {
   "cell_type": "code",
   "execution_count": 1011,
   "metadata": {},
   "outputs": [],
   "source": [
    "# MinMaxScaler을 통한 스케일링\n",
    "scaler = MinMaxScaler()\n",
    "# X scaler 생성\n",
    "Xscaler = scaler.fit(X)\n",
    "# Y scaler 생성\n",
    "yscaler = scaler.fit(y.values.reshape(-1,1))\n",
    "\n",
    "# 스케일링 적용\n",
    "X = Xscaler.transform(X)\n",
    "y = yscaler.transform(y.values.reshape(-1,1))\n",
    "\n",
    "# Train, Test set split\n",
    "X_train, X_test = X[:-test_data_size], X[-test_data_size:]\n",
    "y_train, y_test = y[:-test_data_size].flatten(), y[-test_data_size:].flatten()"
   ]
  },
  {
   "cell_type": "code",
   "execution_count": 1012,
   "metadata": {},
   "outputs": [
    {
     "name": "stdout",
     "output_type": "stream",
     "text": [
      "train set :  (63, 10)\n",
      "test set :  (35, 10)\n"
     ]
    }
   ],
   "source": [
    "print(\"train set : \", X_train.shape)\n",
    "print(\"test set : \", X_test.shape)"
   ]
  },
  {
   "cell_type": "code",
   "execution_count": 1013,
   "metadata": {},
   "outputs": [],
   "source": [
    "# LSTM 사용을 위한 시퀀스 데이터 형성 함수\n",
    "\n",
    "def create_sequences1(array, seq_length):\n",
    "    res = []\n",
    "    \n",
    "    for i in range(len(array)-seq_length-1):\n",
    "        tmp = array[i:(i+seq_length)]\n",
    "        res.append(tmp)\n",
    "        \n",
    "    return res"
   ]
  },
  {
   "cell_type": "code",
   "execution_count": 1014,
   "metadata": {
    "colab": {},
    "colab_type": "code",
    "id": "5TEKufKA0c_Z"
   },
   "outputs": [],
   "source": [
    "# 시퀀스 길이\n",
    "seq_length = 1\n",
    "\n",
    "X_train = create_sequences1(X_train, seq_length)\n",
    "y_train = create_sequences1(y_train, seq_length)\n",
    "X_test = create_sequences1(X_test, seq_length)\n",
    "y_test = create_sequences1(y_test, seq_length)"
   ]
  },
  {
   "cell_type": "code",
   "execution_count": 1015,
   "metadata": {},
   "outputs": [],
   "source": [
    "# numpy -> tensor 변환\n",
    "X_train = torch.tensor(X_train).float()\n",
    "y_train = torch.tensor(y_train).float()\n",
    "X_test = torch.tensor(X_test).float()\n",
    "y_test = torch.tensor(y_test).float()"
   ]
  },
  {
   "cell_type": "code",
   "execution_count": 1016,
   "metadata": {
    "colab": {
     "base_uri": "https://localhost:8080/",
     "height": 35
    },
    "colab_type": "code",
    "id": "kemyzEgk0eqT",
    "outputId": "fef29dbf-513d-4685-af23-aae387649839"
   },
   "outputs": [
    {
     "name": "stdout",
     "output_type": "stream",
     "text": [
      "X_train : torch.Size([61, 1, 10])\n",
      "X_test : torch.Size([33, 1, 10])\n",
      "y_train : torch.Size([61, 1])\n",
      "y_test : torch.Size([33, 1])\n"
     ]
    }
   ],
   "source": [
    "print(\"X_train :\",(X_train.shape))\n",
    "print(\"X_test :\",(X_test.shape))\n",
    "print(\"y_train :\",(y_train.shape))\n",
    "print(\"y_test :\",(y_test.shape))"
   ]
  },
  {
   "cell_type": "markdown",
   "metadata": {
    "colab_type": "text",
    "id": "AnA9qqth1XtG"
   },
   "source": [
    "# Building a Model"
   ]
  },
  {
   "cell_type": "code",
   "execution_count": 1017,
   "metadata": {},
   "outputs": [],
   "source": [
    "# Model Class 생성\n",
    "\n",
    "class CoronaVirusPredictor(nn.Module):\n",
    "    \n",
    "    def __init__(self, n_features, n_hidden, seq_len, n_layers=2):\n",
    "        super(CoronaVirusPredictor, self).__init__()\n",
    "        self.n_hidden = n_hidden\n",
    "        self.seq_len = seq_len\n",
    "        self.n_layers = n_layers\n",
    "\n",
    "        self.lstm = nn.LSTM(\n",
    "        input_size = n_features,\n",
    "        hidden_size = n_hidden,\n",
    "        num_layers = n_layers,\n",
    "        #dropout=0.5\n",
    "        )\n",
    "        \n",
    "        self.linear = nn.Linear(in_features=n_hidden, out_features=1)\n",
    "        \n",
    "    def reset_hidden_state(self):\n",
    "            self.hidden = (\n",
    "                torch.zeros(self.n_layers, self.seq_len, self.n_hidden),\n",
    "                torch.zeros(self.n_layers, self.seq_len, self.n_hidden))\n",
    "            \n",
    "    def forward(self, sequences):\n",
    "        lstm_out, self.hidden = self.lstm(sequences.view(len(sequences), self.seq_len, -1), self.hidden)\n",
    "        last_time_step = lstm_out.view(self.seq_len, len(sequences), self.n_hidden)[-1]\n",
    "        y_pred = self.linear(last_time_step)\n",
    "    \n",
    "        return y_pred"
   ]
  },
  {
   "cell_type": "markdown",
   "metadata": {
    "colab_type": "text",
    "id": "m5IGRO_bcJVA"
   },
   "source": [
    "## __Training__"
   ]
  },
  {
   "cell_type": "code",
   "execution_count": 1018,
   "metadata": {},
   "outputs": [],
   "source": [
    "def train_model(model, train_data, train_labels, test_data=None, test_labels=None, num_epochs=250, lr=1e-3):\n",
    "    loss_fn = torch.nn.MSELoss()\n",
    "    \n",
    "    optimiser = torch.optim.Adam(model.parameters(), lr=lr, weight_decay=1e-3)\n",
    "    num_epochs = num_epochs\n",
    "    \n",
    "    train_hist = np.zeros(num_epochs)\n",
    "    test_hist = np.zeros(num_epochs)\n",
    "    \n",
    "    for t in range(num_epochs):\n",
    "        model.reset_hidden_state()\n",
    "        y_pred = model(X_train)\n",
    "        loss = loss_fn(y_pred.float(), y_train)\n",
    "        \n",
    "        if test_data is not None:\n",
    "            with torch.no_grad():\n",
    "                y_test_pred = model(X_test)\n",
    "                test_loss = loss_fn(y_test_pred.float(), y_test)\n",
    "            test_hist[t] = test_loss.item()\n",
    "            \n",
    "            if t % 10 == 0:\n",
    "                print(f'Epoch {t} train loss: {loss.item()} test loss: {test_loss.item()}')\n",
    "        elif t % 10 == 0:\n",
    "            print(f'Epoch {t} train loss: {loss.item()}')\n",
    "            \n",
    "        train_hist[t] = loss.item()\n",
    "        optimiser.zero_grad()\n",
    "        loss.backward()\n",
    "        optimiser.step()\n",
    "        \n",
    "    return model.eval(), train_hist, test_hist"
   ]
  },
  {
   "cell_type": "code",
   "execution_count": 1019,
   "metadata": {
    "colab": {
     "base_uri": "https://localhost:8080/",
     "height": 125
    },
    "colab_type": "code",
    "id": "6TjwDYRCdpjT",
    "outputId": "5b9e6ced-0e77-4ef3-df6e-709e4e3d4960"
   },
   "outputs": [
    {
     "name": "stdout",
     "output_type": "stream",
     "text": [
      "Epoch 0 train loss: 0.04894144460558891 test loss: 0.07449981570243835\n",
      "Epoch 10 train loss: 0.04845013469457626 test loss: 0.07520884275436401\n",
      "Epoch 20 train loss: 0.047989290207624435 test loss: 0.07471903413534164\n",
      "Epoch 30 train loss: 0.047503888607025146 test loss: 0.07350154966115952\n",
      "Epoch 40 train loss: 0.046959392726421356 test loss: 0.07223459333181381\n",
      "Epoch 50 train loss: 0.046312667429447174 test loss: 0.07095261663198471\n",
      "Epoch 60 train loss: 0.045514803379774094 test loss: 0.06934777647256851\n",
      "Epoch 70 train loss: 0.044506169855594635 test loss: 0.06728386878967285\n",
      "Epoch 80 train loss: 0.043213069438934326 test loss: 0.0647321343421936\n",
      "Epoch 90 train loss: 0.04154586419463158 test loss: 0.06161393225193024\n",
      "Epoch 100 train loss: 0.03940485045313835 test loss: 0.057901956140995026\n",
      "Epoch 110 train loss: 0.036699049174785614 test loss: 0.05381184443831444\n",
      "Epoch 120 train loss: 0.03338012844324112 test loss: 0.04999677464365959\n"
     ]
    }
   ],
   "source": [
    "# Hyper-parameter 설정\n",
    "n_features=X_train.shape[-1]\n",
    "n_hidden=32\n",
    "n_layers=4\n",
    "lr=1e-4\n",
    "num_epochs=130\n",
    "\n",
    "# Training Model\n",
    "model = CoronaVirusPredictor(n_features=n_features, n_hidden=n_hidden, seq_len=seq_length, n_layers=n_layers)\n",
    "model, train_hist, test_hist = train_model(model, X_train, y_train, X_test, y_test, num_epochs=num_epochs, lr=lr)"
   ]
  },
  {
   "cell_type": "code",
   "execution_count": 1020,
   "metadata": {},
   "outputs": [
    {
     "data": {
      "text/plain": [
       "<matplotlib.legend.Legend at 0x198d86dada0>"
      ]
     },
     "execution_count": 1020,
     "metadata": {},
     "output_type": "execute_result"
    },
    {
     "data": {
      "image/png": "[encoded data removed]",
      "text/plain": [
       "<Figure size 1008x720 with 1 Axes>"
      ]
     },
     "metadata": {
      "image/png": {
       "height": 597,
       "width": 829
      }
     },
     "output_type": "display_data"
    }
   ],
   "source": [
    "# plotting Loss\n",
    "plt.plot(train_hist, label=\"Training loss\")\n",
    "plt.plot(test_hist, label=\"Test loss\")\n",
    "plt.title('n_features:{0}, n_hidden:{1}, n_layers:{2}, lr:{3}, seq_length:{4}, num_epochs:{5}'.format(n_features,n_hidden,n_layers,lr,seq_length,num_epochs))\n",
    "plt.legend()"
   ]
  },
  {
   "cell_type": "code",
   "execution_count": 942,
   "metadata": {},
   "outputs": [],
   "source": [
    "# 모델 저장\n",
    "PATH = './models/LSTM_seq1_n_features_{0}_n_hidden_{1}_n_layers_{2}_lr_{3}_seq_length_{4}_num_epochs_{5}.pth'.format(n_features,n_hidden,n_layers,lr,seq_length,num_epochs)\n",
    "torch.save(model, PATH)\n",
    "# 모델 불러오기\n",
    "model = torch.load(PATH)\n",
    "#model.eval()"
   ]
  },
  {
   "cell_type": "markdown",
   "metadata": {
    "colab_type": "text",
    "id": "wvooIV0Sd_zc"
   },
   "source": [
    "# Predicting daily cases"
   ]
  },
  {
   "cell_type": "code",
   "execution_count": 1021,
   "metadata": {
    "colab": {},
    "colab_type": "code",
    "id": "ui_DygrTd9YL"
   },
   "outputs": [],
   "source": [
    "with torch.no_grad():\n",
    "    \n",
    "    preds = []\n",
    "    for i in range(len(X_test)):\n",
    "        test_seq = X_test[i:i+1]\n",
    "        y_test_pred = model(test_seq)\n",
    "        pred = torch.flatten(y_test_pred).item()\n",
    "        preds.append(pred)\n",
    "        new_seq = test_seq.numpy().flatten()\n",
    "        new_seq = np.append(new_seq, pred)\n",
    "        new_seq = new_seq[1:]\n",
    "        test_seq = torch.as_tensor(new_seq).view(n_features, seq_length, 1).float()"
   ]
  },
  {
   "cell_type": "code",
   "execution_count": 1022,
   "metadata": {},
   "outputs": [],
   "source": [
    "# Prediction value 스케일링 역변환\n",
    "pred_values = yscaler.inverse_transform(np.array(preds).reshape(-1,1))"
   ]
  },
  {
   "cell_type": "code",
   "execution_count": 1023,
   "metadata": {},
   "outputs": [
    {
     "data": {
      "text/plain": [
       "[17,\n",
       " 17,\n",
       " 17,\n",
       " 17,\n",
       " 17,\n",
       " 17,\n",
       " 18,\n",
       " 18,\n",
       " 18,\n",
       " 18,\n",
       " 18,\n",
       " 18,\n",
       " 18,\n",
       " 18,\n",
       " 18,\n",
       " 18,\n",
       " 18,\n",
       " 18,\n",
       " 18,\n",
       " 18,\n",
       " 18,\n",
       " 17,\n",
       " 17,\n",
       " 17,\n",
       " 17,\n",
       " 17,\n",
       " 17,\n",
       " 17,\n",
       " 17,\n",
       " 17,\n",
       " 17,\n",
       " 17,\n",
       " 17]"
      ]
     },
     "execution_count": 1023,
     "metadata": {},
     "output_type": "execute_result"
    }
   ],
   "source": [
    "# 예측값 반올림\n",
    "import math\n",
    "\n",
    "pred_values_ceiled = list(map(lambda x: math.ceil(x), pred_values))\n",
    "pred_values_ceiled"
   ]
  },
  {
   "cell_type": "code",
   "execution_count": 1024,
   "metadata": {},
   "outputs": [],
   "source": [
    "# True value 스케일링 역변환\n",
    "true_values = yscaler.inverse_transform(y_test)[:, [-1]]"
   ]
  },
  {
   "cell_type": "code",
   "execution_count": 1025,
   "metadata": {},
   "outputs": [],
   "source": [
    "# 실제값 예측값 데이터 프레임 생성\n",
    "score_table = pd.DataFrame({'True':true_values.flatten(),\n",
    "                            'Pred':pred_values_ceiled})"
   ]
  },
  {
   "cell_type": "code",
   "execution_count": 1026,
   "metadata": {},
   "outputs": [],
   "source": [
    "# validation score\n",
    "score = 100*(1-(((score_table['Pred'] -score_table['True'])**2).sum())/((score_table['True']**2).sum()))"
   ]
  },
  {
   "cell_type": "code",
   "execution_count": 1027,
   "metadata": {},
   "outputs": [
    {
     "data": {
      "text/plain": [
       "59.74543041563612"
      ]
     },
     "execution_count": 1027,
     "metadata": {},
     "output_type": "execute_result"
    }
   ],
   "source": [
    "score"
   ]
  },
  {
   "cell_type": "code",
   "execution_count": 1028,
   "metadata": {},
   "outputs": [
    {
     "data": {
      "text/plain": [
       "<matplotlib.legend.Legend at 0x198d874a978>"
      ]
     },
     "execution_count": 1028,
     "metadata": {},
     "output_type": "execute_result"
    },
    {
     "data": {
      "image/png": "[encoded data removed]",
      "text/plain": [
       "<Figure size 1800x360 with 1 Axes>"
      ]
     },
     "metadata": {
      "image/png": {
       "height": 308,
       "width": 1433
      }
     },
     "output_type": "display_data"
    }
   ],
   "source": [
    "plt.figure(figsize=(25,5))\n",
    "plt.plot(range(y_train.__len__()),yscaler.inverse_transform(y_train)[:, [-1]])\n",
    "plt.plot(range(y_train.__len__(), y_train.__len__()+y_test.__len__()),true_values, label='Real')\n",
    "plt.plot(range(y_train.__len__(), y_train.__len__()+y_test.__len__()),pred_values_ceiled, label='Pred')\n",
    "#plt.xlim(40)\n",
    "plt.legend()"
   ]
  },
  {
   "cell_type": "markdown",
   "metadata": {
    "colab_type": "text",
    "id": "BRrFV77HeURz"
   },
   "source": [
    "# Use all data for training"
   ]
  },
  {
   "cell_type": "code",
   "execution_count": 1029,
   "metadata": {},
   "outputs": [],
   "source": [
    "# X변수들과 y변수 구분\n",
    "X_all = df.iloc[:,:-1]\n",
    "y_all = df.iloc[:,-1]"
   ]
  },
  {
   "cell_type": "code",
   "execution_count": 1030,
   "metadata": {},
   "outputs": [],
   "source": [
    "# MinMaxScaler을 통한 스케일링\n",
    "scaler = MinMaxScaler()\n",
    "# X scaler 생성\n",
    "Xscaler = scaler.fit(X_all)\n",
    "# Y scaler 생성\n",
    "yscaler = scaler.fit(y_all.values.reshape(-1,1))\n",
    "\n",
    "# 스케일링 적용\n",
    "X_all = Xscaler.transform(X_all)\n",
    "y_all = yscaler.transform(y_all.values.reshape(-1,1))\n",
    "y_all = y_all.flatten()"
   ]
  },
  {
   "cell_type": "code",
   "execution_count": 1031,
   "metadata": {},
   "outputs": [
    {
     "data": {
      "text/plain": [
       "array([0.      , 0.03125 , 0.015625, 0.015625, 0.03125 , 0.      ,\n",
       "       0.015625, 0.03125 , 0.03125 , 0.      , 0.      , 0.      ,\n",
       "       0.      , 0.015625, 0.      , 0.      , 0.      , 0.      ,\n",
       "       0.      , 0.      , 0.      , 0.      , 0.      , 0.      ,\n",
       "       0.      , 0.265625, 0.      , 0.      , 0.      , 0.      ,\n",
       "       0.      , 0.      , 0.      , 0.      , 0.      , 0.015625,\n",
       "       0.      , 0.      , 0.015625, 0.015625, 0.015625, 0.03125 ,\n",
       "       0.03125 , 0.0625  , 0.046875, 0.03125 , 0.      , 0.015625,\n",
       "       0.0625  , 0.15625 , 0.21875 , 0.109375, 0.34375 , 0.234375,\n",
       "       0.328125, 0.421875, 0.875   , 0.890625, 0.390625, 0.84375 ,\n",
       "       0.765625, 1.      , 0.65625 , 0.65625 , 0.640625, 0.71875 ,\n",
       "       0.640625, 0.828125, 0.4375  , 0.515625, 0.46875 , 0.453125,\n",
       "       0.125   , 0.265625, 0.40625 , 0.265625, 0.171875, 0.234375,\n",
       "       0.1875  , 0.25    , 0.15625 , 0.078125, 0.125   , 0.078125,\n",
       "       0.09375 , 0.0625  , 0.03125 , 0.0625  , 0.15625 , 0.109375,\n",
       "       0.1875  , 0.078125, 0.0625  , 0.125   , 0.125   , 0.15625 ,\n",
       "       0.125   , 0.046875])"
      ]
     },
     "execution_count": 1031,
     "metadata": {},
     "output_type": "execute_result"
    }
   ],
   "source": [
    "y_all"
   ]
  },
  {
   "cell_type": "code",
   "execution_count": 1032,
   "metadata": {},
   "outputs": [
    {
     "name": "stdout",
     "output_type": "stream",
     "text": [
      "X_all :  (98, 10)\n",
      "y_all :  (98,)\n"
     ]
    }
   ],
   "source": [
    "print(\"X_all : \", X_all.shape)\n",
    "print(\"y_all : \", y_all.shape)"
   ]
  },
  {
   "cell_type": "code",
   "execution_count": 1033,
   "metadata": {},
   "outputs": [],
   "source": [
    "# LSTM 사용을 위한 시퀀스 데이터 형성 함수\n",
    "\n",
    "def create_sequences1(array, seq_length):\n",
    "    res = []\n",
    "    \n",
    "    for i in range(len(array)-seq_length-1):\n",
    "        tmp = array[i:(i+seq_length)]\n",
    "        res.append(tmp)\n",
    "        \n",
    "    return res"
   ]
  },
  {
   "cell_type": "code",
   "execution_count": 1034,
   "metadata": {
    "colab": {},
    "colab_type": "code",
    "id": "5TEKufKA0c_Z"
   },
   "outputs": [],
   "source": [
    "X_all = create_sequences1(X_all, seq_length)\n",
    "y_all = create_sequences1(y_all, seq_length)\n",
    "X_all = torch.from_numpy(np.array(X_all)).float()\n",
    "y_all = torch.from_numpy(np.array(y_all)).float()"
   ]
  },
  {
   "cell_type": "code",
   "execution_count": 1035,
   "metadata": {
    "colab": {
     "base_uri": "https://localhost:8080/",
     "height": 125
    },
    "colab_type": "code",
    "id": "5UpCLNUQeYfJ",
    "outputId": "61cf07ab-d749-48b8-b76b-e6bfc8e2a09d"
   },
   "outputs": [
    {
     "name": "stdout",
     "output_type": "stream",
     "text": [
      "Epoch 0 train loss: 0.07485947757959366\n",
      "Epoch 10 train loss: 0.06970008462667465\n",
      "Epoch 20 train loss: 0.0650554969906807\n",
      "Epoch 30 train loss: 0.06087004393339157\n",
      "Epoch 40 train loss: 0.0570736825466156\n",
      "Epoch 50 train loss: 0.05359845981001854\n",
      "Epoch 60 train loss: 0.05038144439458847\n",
      "Epoch 70 train loss: 0.04735618829727173\n",
      "Epoch 80 train loss: 0.04449290409684181\n",
      "Epoch 90 train loss: 0.04185573384165764\n",
      "Epoch 100 train loss: 0.039447445422410965\n",
      "Epoch 110 train loss: 0.037192460149526596\n",
      "Epoch 120 train loss: 0.03498639538884163\n"
     ]
    }
   ],
   "source": [
    "model = CoronaVirusPredictor(\n",
    "  n_features=n_features,\n",
    "  n_hidden=n_hidden,\n",
    "  seq_len=seq_length,\n",
    "  n_layers=n_layers\n",
    ")\n",
    "model, train_hist, _ = train_model(model, X_all, y_all, num_epochs=num_epochs, lr=lr)"
   ]
  },
  {
   "cell_type": "markdown",
   "metadata": {
    "colab_type": "text",
    "id": "MSsGbvZAecw3"
   },
   "source": [
    "# Predicting future cases"
   ]
  },
  {
   "cell_type": "code",
   "execution_count": 1036,
   "metadata": {},
   "outputs": [],
   "source": [
    "DAYS_TO_PREDICT = 14\n",
    "with torch.no_grad():\n",
    "    test_seq = X_all[:1]\n",
    "    preds = []\n",
    "    for _ in range(DAYS_TO_PREDICT):\n",
    "        y_test_pred = model(test_seq)\n",
    "        pred = torch.flatten(y_test_pred).item()\n",
    "        preds.append(pred)\n",
    "        new_seq = test_seq.numpy().flatten()\n",
    "        new_seq = np.append(new_seq, [pred])\n",
    "        new_seq = new_seq[1:]\n",
    "        #test_seq = torch.as_tensor(new_seq).view(1, seq_length, 1).float()"
   ]
  },
  {
   "cell_type": "code",
   "execution_count": 1037,
   "metadata": {},
   "outputs": [],
   "source": [
    "# Prediction value 스케일링 역변환\n",
    "pred_values = yscaler.inverse_transform(np.array(preds).reshape(-1,1))"
   ]
  },
  {
   "cell_type": "code",
   "execution_count": 1038,
   "metadata": {},
   "outputs": [
    {
     "data": {
      "text/plain": [
       "[15, 15, 15, 14, 13, 12, 10, 9, 9, 8, 7, 7, 6, 6]"
      ]
     },
     "execution_count": 1038,
     "metadata": {},
     "output_type": "execute_result"
    }
   ],
   "source": [
    "# 예측값 반올림\n",
    "import math\n",
    "\n",
    "pred_values_ceiled = list(map(lambda x: math.ceil(x), pred_values))\n",
    "predicted_cases=pred_values_ceiled\n",
    "predicted_cases"
   ]
  },
  {
   "cell_type": "code",
   "execution_count": 1039,
   "metadata": {
    "colab": {
     "base_uri": "https://localhost:8080/",
     "height": 597
    },
    "colab_type": "code",
    "id": "6kkEHP_weoOc",
    "outputId": "6a596ff3-dea0-4f18-8329-f7e718e767d5"
   },
   "outputs": [
    {
     "data": {
      "image/png": "[encoded data removed]",
      "text/plain": [
       "<Figure size 1008x720 with 1 Axes>"
      ]
     },
     "metadata": {
      "image/png": {
       "height": 580,
       "width": 819
      }
     },
     "output_type": "display_data"
    }
   ],
   "source": [
    "predicted_index = pd.date_range(\n",
    "  start=df.index[-1],\n",
    "  periods=DAYS_TO_PREDICT + 1,\n",
    "  closed='right'\n",
    ")\n",
    "predicted_index = pd.to_datetime(predicted_index, format='%Y%m%d')\n",
    "\n",
    "predicted_cases = pd.Series(\n",
    "  data=predicted_cases,\n",
    "  index=predicted_index\n",
    ")\n",
    "\n",
    "plt.plot(predicted_cases, label='Predicted Daily Cases')\n",
    "plt.legend();"
   ]
  },
  {
   "cell_type": "code",
   "execution_count": 1040,
   "metadata": {},
   "outputs": [],
   "source": [
    "preds_ = pd.DataFrame(predicted_cases)\n",
    "df.index = pd.to_datetime(df.index)"
   ]
  },
  {
   "cell_type": "code",
   "execution_count": 1041,
   "metadata": {},
   "outputs": [
    {
     "data": {
      "text/html": [
       "<div>\n",
       "<style scoped>\n",
       "    .dataframe tbody tr th:only-of-type {\n",
       "        vertical-align: middle;\n",
       "    }\n",
       "\n",
       "    .dataframe tbody tr th {\n",
       "        vertical-align: top;\n",
       "    }\n",
       "\n",
       "    .dataframe thead th {\n",
       "        text-align: right;\n",
       "    }\n",
       "</style>\n",
       "<table border=\"1\" class=\"dataframe\">\n",
       "  <thead>\n",
       "    <tr style=\"text-align: right;\">\n",
       "      <th></th>\n",
       "      <th>0</th>\n",
       "    </tr>\n",
       "  </thead>\n",
       "  <tbody>\n",
       "    <tr>\n",
       "      <th>2020-05-06</th>\n",
       "      <td>15</td>\n",
       "    </tr>\n",
       "    <tr>\n",
       "      <th>2020-05-07</th>\n",
       "      <td>15</td>\n",
       "    </tr>\n",
       "    <tr>\n",
       "      <th>2020-05-08</th>\n",
       "      <td>15</td>\n",
       "    </tr>\n",
       "    <tr>\n",
       "      <th>2020-05-09</th>\n",
       "      <td>14</td>\n",
       "    </tr>\n",
       "    <tr>\n",
       "      <th>2020-05-10</th>\n",
       "      <td>13</td>\n",
       "    </tr>\n",
       "    <tr>\n",
       "      <th>2020-05-11</th>\n",
       "      <td>12</td>\n",
       "    </tr>\n",
       "    <tr>\n",
       "      <th>2020-05-12</th>\n",
       "      <td>10</td>\n",
       "    </tr>\n",
       "    <tr>\n",
       "      <th>2020-05-13</th>\n",
       "      <td>9</td>\n",
       "    </tr>\n",
       "    <tr>\n",
       "      <th>2020-05-14</th>\n",
       "      <td>9</td>\n",
       "    </tr>\n",
       "    <tr>\n",
       "      <th>2020-05-15</th>\n",
       "      <td>8</td>\n",
       "    </tr>\n",
       "    <tr>\n",
       "      <th>2020-05-16</th>\n",
       "      <td>7</td>\n",
       "    </tr>\n",
       "    <tr>\n",
       "      <th>2020-05-17</th>\n",
       "      <td>7</td>\n",
       "    </tr>\n",
       "    <tr>\n",
       "      <th>2020-05-18</th>\n",
       "      <td>6</td>\n",
       "    </tr>\n",
       "    <tr>\n",
       "      <th>2020-05-19</th>\n",
       "      <td>6</td>\n",
       "    </tr>\n",
       "  </tbody>\n",
       "</table>\n",
       "</div>"
      ],
      "text/plain": [
       "             0\n",
       "2020-05-06  15\n",
       "2020-05-07  15\n",
       "2020-05-08  15\n",
       "2020-05-09  14\n",
       "2020-05-10  13\n",
       "2020-05-11  12\n",
       "2020-05-12  10\n",
       "2020-05-13   9\n",
       "2020-05-14   9\n",
       "2020-05-15   8\n",
       "2020-05-16   7\n",
       "2020-05-17   7\n",
       "2020-05-18   6\n",
       "2020-05-19   6"
      ]
     },
     "execution_count": 1041,
     "metadata": {},
     "output_type": "execute_result"
    }
   ],
   "source": [
    "preds_"
   ]
  },
  {
   "cell_type": "code",
   "execution_count": 1042,
   "metadata": {},
   "outputs": [
    {
     "data": {
      "text/html": [
       "<div>\n",
       "<style scoped>\n",
       "    .dataframe tbody tr th:only-of-type {\n",
       "        vertical-align: middle;\n",
       "    }\n",
       "\n",
       "    .dataframe tbody tr th {\n",
       "        vertical-align: top;\n",
       "    }\n",
       "\n",
       "    .dataframe thead th {\n",
       "        text-align: right;\n",
       "    }\n",
       "</style>\n",
       "<table border=\"1\" class=\"dataframe\">\n",
       "  <thead>\n",
       "    <tr style=\"text-align: right;\">\n",
       "      <th></th>\n",
       "      <th>IR_conf</th>\n",
       "      <th>NL_conf</th>\n",
       "      <th>BE_conf</th>\n",
       "      <th>lag3</th>\n",
       "      <th>lag5</th>\n",
       "      <th>IL_conf</th>\n",
       "      <th>lag4</th>\n",
       "      <th>CY_conf</th>\n",
       "      <th>NE_conf</th>\n",
       "      <th>lag6</th>\n",
       "      <th>target</th>\n",
       "    </tr>\n",
       "    <tr>\n",
       "      <th>Date</th>\n",
       "      <th></th>\n",
       "      <th></th>\n",
       "      <th></th>\n",
       "      <th></th>\n",
       "      <th></th>\n",
       "      <th></th>\n",
       "      <th></th>\n",
       "      <th></th>\n",
       "      <th></th>\n",
       "      <th></th>\n",
       "      <th></th>\n",
       "    </tr>\n",
       "  </thead>\n",
       "  <tbody>\n",
       "    <tr>\n",
       "      <th>2020-01-29</th>\n",
       "      <td>0</td>\n",
       "      <td>0</td>\n",
       "      <td>0</td>\n",
       "      <td>1.0</td>\n",
       "      <td>1.0</td>\n",
       "      <td>0</td>\n",
       "      <td>0.0</td>\n",
       "      <td>0</td>\n",
       "      <td>0</td>\n",
       "      <td>0.0</td>\n",
       "      <td>0.0</td>\n",
       "    </tr>\n",
       "    <tr>\n",
       "      <th>2020-01-30</th>\n",
       "      <td>0</td>\n",
       "      <td>0</td>\n",
       "      <td>0</td>\n",
       "      <td>1.0</td>\n",
       "      <td>0.0</td>\n",
       "      <td>0</td>\n",
       "      <td>1.0</td>\n",
       "      <td>0</td>\n",
       "      <td>0</td>\n",
       "      <td>1.0</td>\n",
       "      <td>2.0</td>\n",
       "    </tr>\n",
       "    <tr>\n",
       "      <th>2020-01-31</th>\n",
       "      <td>0</td>\n",
       "      <td>0</td>\n",
       "      <td>0</td>\n",
       "      <td>0.0</td>\n",
       "      <td>1.0</td>\n",
       "      <td>0</td>\n",
       "      <td>1.0</td>\n",
       "      <td>0</td>\n",
       "      <td>0</td>\n",
       "      <td>0.0</td>\n",
       "      <td>1.0</td>\n",
       "    </tr>\n",
       "    <tr>\n",
       "      <th>2020-02-01</th>\n",
       "      <td>0</td>\n",
       "      <td>0</td>\n",
       "      <td>0</td>\n",
       "      <td>0.0</td>\n",
       "      <td>1.0</td>\n",
       "      <td>0</td>\n",
       "      <td>0.0</td>\n",
       "      <td>0</td>\n",
       "      <td>0</td>\n",
       "      <td>1.0</td>\n",
       "      <td>1.0</td>\n",
       "    </tr>\n",
       "    <tr>\n",
       "      <th>2020-02-02</th>\n",
       "      <td>0</td>\n",
       "      <td>0</td>\n",
       "      <td>0</td>\n",
       "      <td>2.0</td>\n",
       "      <td>0.0</td>\n",
       "      <td>0</td>\n",
       "      <td>0.0</td>\n",
       "      <td>0</td>\n",
       "      <td>0</td>\n",
       "      <td>1.0</td>\n",
       "      <td>2.0</td>\n",
       "    </tr>\n",
       "    <tr>\n",
       "      <th>...</th>\n",
       "      <td>...</td>\n",
       "      <td>...</td>\n",
       "      <td>...</td>\n",
       "      <td>...</td>\n",
       "      <td>...</td>\n",
       "      <td>...</td>\n",
       "      <td>...</td>\n",
       "      <td>...</td>\n",
       "      <td>...</td>\n",
       "      <td>...</td>\n",
       "      <td>...</td>\n",
       "    </tr>\n",
       "    <tr>\n",
       "      <th>2020-05-01</th>\n",
       "      <td>1006</td>\n",
       "      <td>476</td>\n",
       "      <td>513</td>\n",
       "      <td>12.0</td>\n",
       "      <td>10.0</td>\n",
       "      <td>155</td>\n",
       "      <td>7.0</td>\n",
       "      <td>7</td>\n",
       "      <td>9</td>\n",
       "      <td>4.0</td>\n",
       "      <td>8.0</td>\n",
       "    </tr>\n",
       "    <tr>\n",
       "      <th>2020-05-02</th>\n",
       "      <td>802</td>\n",
       "      <td>445</td>\n",
       "      <td>485</td>\n",
       "      <td>5.0</td>\n",
       "      <td>7.0</td>\n",
       "      <td>84</td>\n",
       "      <td>12.0</td>\n",
       "      <td>7</td>\n",
       "      <td>8</td>\n",
       "      <td>10.0</td>\n",
       "      <td>8.0</td>\n",
       "    </tr>\n",
       "    <tr>\n",
       "      <th>2020-05-03</th>\n",
       "      <td>976</td>\n",
       "      <td>335</td>\n",
       "      <td>389</td>\n",
       "      <td>4.0</td>\n",
       "      <td>12.0</td>\n",
       "      <td>23</td>\n",
       "      <td>5.0</td>\n",
       "      <td>8</td>\n",
       "      <td>14</td>\n",
       "      <td>7.0</td>\n",
       "      <td>10.0</td>\n",
       "    </tr>\n",
       "    <tr>\n",
       "      <th>2020-05-04</th>\n",
       "      <td>1223</td>\n",
       "      <td>199</td>\n",
       "      <td>361</td>\n",
       "      <td>8.0</td>\n",
       "      <td>5.0</td>\n",
       "      <td>38</td>\n",
       "      <td>4.0</td>\n",
       "      <td>2</td>\n",
       "      <td>5</td>\n",
       "      <td>12.0</td>\n",
       "      <td>8.0</td>\n",
       "    </tr>\n",
       "    <tr>\n",
       "      <th>2020-05-05</th>\n",
       "      <td>1323</td>\n",
       "      <td>318</td>\n",
       "      <td>242</td>\n",
       "      <td>8.0</td>\n",
       "      <td>4.0</td>\n",
       "      <td>43</td>\n",
       "      <td>8.0</td>\n",
       "      <td>4</td>\n",
       "      <td>8</td>\n",
       "      <td>5.0</td>\n",
       "      <td>3.0</td>\n",
       "    </tr>\n",
       "  </tbody>\n",
       "</table>\n",
       "<p>98 rows × 11 columns</p>\n",
       "</div>"
      ],
      "text/plain": [
       "            IR_conf  NL_conf  BE_conf  lag3  lag5  IL_conf  lag4  CY_conf  \\\n",
       "Date                                                                        \n",
       "2020-01-29        0        0        0   1.0   1.0        0   0.0        0   \n",
       "2020-01-30        0        0        0   1.0   0.0        0   1.0        0   \n",
       "2020-01-31        0        0        0   0.0   1.0        0   1.0        0   \n",
       "2020-02-01        0        0        0   0.0   1.0        0   0.0        0   \n",
       "2020-02-02        0        0        0   2.0   0.0        0   0.0        0   \n",
       "...             ...      ...      ...   ...   ...      ...   ...      ...   \n",
       "2020-05-01     1006      476      513  12.0  10.0      155   7.0        7   \n",
       "2020-05-02      802      445      485   5.0   7.0       84  12.0        7   \n",
       "2020-05-03      976      335      389   4.0  12.0       23   5.0        8   \n",
       "2020-05-04     1223      199      361   8.0   5.0       38   4.0        2   \n",
       "2020-05-05     1323      318      242   8.0   4.0       43   8.0        4   \n",
       "\n",
       "            NE_conf  lag6  target  \n",
       "Date                               \n",
       "2020-01-29        0   0.0     0.0  \n",
       "2020-01-30        0   1.0     2.0  \n",
       "2020-01-31        0   0.0     1.0  \n",
       "2020-02-01        0   1.0     1.0  \n",
       "2020-02-02        0   1.0     2.0  \n",
       "...             ...   ...     ...  \n",
       "2020-05-01        9   4.0     8.0  \n",
       "2020-05-02        8  10.0     8.0  \n",
       "2020-05-03       14   7.0    10.0  \n",
       "2020-05-04        5  12.0     8.0  \n",
       "2020-05-05        8   5.0     3.0  \n",
       "\n",
       "[98 rows x 11 columns]"
      ]
     },
     "execution_count": 1042,
     "metadata": {},
     "output_type": "execute_result"
    }
   ],
   "source": [
    "df"
   ]
  },
  {
   "cell_type": "code",
   "execution_count": 1043,
   "metadata": {
    "colab": {
     "base_uri": "https://localhost:8080/",
     "height": 597
    },
    "colab_type": "code",
    "id": "JosxYymUep4z",
    "outputId": "99cece78-cee5-45fc-e426-0cb81f1e78fa"
   },
   "outputs": [
    {
     "data": {
      "image/png": "[encoded data removed]",
      "text/plain": [
       "<Figure size 1800x360 with 1 Axes>"
      ]
     },
     "metadata": {
      "image/png": {
       "height": 381,
       "width": 1433
      }
     },
     "output_type": "display_data"
    }
   ],
   "source": [
    "plt.figure(figsize=(25,5))\n",
    "plt.plot(df['target'].astype(int), label='Historical Daily Cases')\n",
    "plt.plot(preds_, label='Predicted Daily Cases')\n",
    "plt.xticks(rotation=90)\n",
    "plt.title(\"Oversea Inflow Cofirmed\")\n",
    "plt.grid(axis='x')\n",
    "plt.legend();"
   ]
  },
  {
   "cell_type": "code",
   "execution_count": null,
   "metadata": {
    "colab": {},
    "colab_type": "code",
    "id": "OOCoJNwTexNr"
   },
   "outputs": [],
   "source": []
  }
 ],
 "metadata": {
  "accelerator": "GPU",
  "colab": {
   "collapsed_sections": [],
   "name": "Timeseries_LSTM_prac.ipynb의 사본",
   "provenance": []
  },
  "kernelspec": {
   "display_name": "pytorch",
   "language": "python",
   "name": "pytorch"
  },
  "language_info": {
   "codemirror_mode": {
    "name": "ipython",
    "version": 3
   },
   "file_extension": ".py",
   "mimetype": "text/x-python",
   "name": "python",
   "nbconvert_exporter": "python",
   "pygments_lexer": "ipython3",
   "version": "3.6.9"
  }
 },
 "nbformat": 4,
 "nbformat_minor": 4
}
