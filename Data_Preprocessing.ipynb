{
 "cells": [
  {
   "cell_type": "code",
   "execution_count": 1,
   "metadata": {},
   "outputs": [],
   "source": [
    "import pandas as pd\n",
    "import numpy as np\n",
    "import matplotlib.pyplot as plt\n",
    "%matplotlib inline\n",
    "import seaborn as sns\n",
    "\n",
    "from matplotlib import font_manager, rc\n",
    "font_name = font_manager.FontProperties(fname=\"c:/Windows/Fonts/malgun.ttf\").get_name()\n",
    "rc('font', family=font_name)"
   ]
  },
  {
   "cell_type": "markdown",
   "metadata": {},
   "source": [
    "# 1. Data Loading & Preprocessing"
   ]
  },
  {
   "cell_type": "code",
   "execution_count": 2,
   "metadata": {},
   "outputs": [],
   "source": [
    "# 로밍데이터\n",
    "roam = pd.read_csv('./data/corona_contest_data_0406/2. Roaming_data.csv')\n",
    "\n",
    "# 날짜 변수로 변경\n",
    "roam['return'] = pd.to_datetime(roam['return'], format='%Y%m%d')\n",
    "roam['arrival'] = pd.to_datetime(roam['arrival'], format='%Y%m%d')\n",
    "roam['departure'] = pd.to_datetime(roam['departure'], format='%Y%m%d')\n",
    "\n",
    "# 파생변수 생성\n",
    "# arrival과 return의 차를 내서 해외에 체류한 일자수를 계산함\n",
    "roam['stay'] = roam['return'] - roam['arrival']"
   ]
  },
  {
   "cell_type": "code",
   "execution_count": 3,
   "metadata": {},
   "outputs": [
    {
     "name": "stderr",
     "output_type": "stream",
     "text": [
      "C:\\Users\\Joshua\\anaconda3\\lib\\site-packages\\ipykernel_launcher.py:4: FutureWarning: Indexing with multiple keys (implicitly converted to a tuple of keys) will be deprecated, use a list instead.\n",
      "  after removing the cwd from sys.path.\n",
      "C:\\Users\\Joshua\\anaconda3\\lib\\site-packages\\pandas\\core\\indexing.py:670: SettingWithCopyWarning: \n",
      "A value is trying to be set on a copy of a slice from a DataFrame\n",
      "\n",
      "See the caveats in the documentation: https://pandas.pydata.org/pandas-docs/stable/user_guide/indexing.html#returning-a-view-versus-a-copy\n",
      "  self._setitem_with_indexer(indexer, value)\n"
     ]
    }
   ],
   "source": [
    "# covide-19 글로벌 kaggle 데이터\n",
    "kag = pd.read_csv('./data/covid_19_clean_complete.csv')\n",
    "kag['Date'] = pd.to_datetime(kag['Date'])\n",
    "kag_dated_1 = kag.groupby(['Date'], as_index=False)['Confirmed','Deaths', 'Recovered'].sum()\n",
    "\n",
    "# 각 컬럼별 일별 데이터 산출\n",
    "\n",
    "cols = list(kag_dated_1.columns[1:])\n",
    "for col in cols:\n",
    "    col_name = \"Day\"+str(col)\n",
    "    kag_dated_1['{}'.format(col_name)] = kag_dated_1['{}'.format(col)].diff()\n",
    "    kag_dated_1['{}'.format(col_name)].iloc[0] = 0"
   ]
  },
  {
   "cell_type": "code",
   "execution_count": 4,
   "metadata": {},
   "outputs": [],
   "source": [
    "# 한국데이터 추출\n",
    "kag_kor = kag.loc[kag['Country/Region']=='South Korea']\n",
    "kor = kag_kor.copy()\n",
    "kor.reset_index(inplace=True)\n",
    "# 불필요 변수 삭제\n",
    "kor.drop('index', axis=1, inplace=True)\n",
    "kor.drop('Province/State', axis=1, inplace=True)\n",
    "\n",
    "# 대한민국 일별 확진자수 컬럼 형성\n",
    "kor['DayConfirmed'] = kor['Confirmed'].diff()\n",
    "kor['DayConfirmed'].iloc[0] = 0"
   ]
  },
  {
   "cell_type": "code",
   "execution_count": 5,
   "metadata": {},
   "outputs": [],
   "source": [
    "kor.drop(['Country/Region','Lat','Long'], axis=1, inplace=True)"
   ]
  },
  {
   "cell_type": "code",
   "execution_count": 6,
   "metadata": {},
   "outputs": [],
   "source": [
    "# covid-19 kor 캐글 데이터\n",
    "cov_kor = pd.read_csv(\"./data/coronavirusdataset/Patientinfo.csv\")"
   ]
  },
  {
   "cell_type": "code",
   "execution_count": 7,
   "metadata": {},
   "outputs": [
    {
     "data": {
      "text/plain": [
       "array(['overseas inflow', 'contact with patient', 'Seongdong-gu APT',\n",
       "       'etc', \"Eunpyeong St. Mary's Hospital\", 'Shincheonji Church',\n",
       "       'Dongan Church', 'Guro-gu Call Center', 'Onchun Church',\n",
       "       'Cheongdo Daenam Hospital', 'Suyeong-gu Kindergarten', nan,\n",
       "       'Ministry of Oceans and Fisheries', 'gym facility in Cheonan',\n",
       "       'gym facility in Sejong', 'River of Grace Community Church',\n",
       "       'Gyeongsan Seorin Nursing Home',\n",
       "       'Gyeongsan Cham Joeun Community Center',\n",
       "       'Gyeongsan Jeil Silver Town', 'Bonghwa Pureun Nursing Home',\n",
       "       'Pilgrimage to Israel', 'Milal Shelter', 'Geochang Church',\n",
       "       'Changnyeong Coin Karaoke'], dtype=object)"
      ]
     },
     "execution_count": 7,
     "metadata": {},
     "output_type": "execute_result"
    }
   ],
   "source": [
    "cov_kor['infection_case'].unique()"
   ]
  },
  {
   "cell_type": "code",
   "execution_count": 8,
   "metadata": {},
   "outputs": [],
   "source": [
    "# 해외유입 확진자만 추출\n",
    "cov_kor_1 = cov_kor[cov_kor['infection_case'] == 'overseas inflow'].groupby(['confirmed_date'])[['patient_id']].count()"
   ]
  },
  {
   "cell_type": "code",
   "execution_count": 9,
   "metadata": {},
   "outputs": [],
   "source": [
    "cov_kor_1['cumsum'] = cov_kor_1['patient_id'].cumsum()"
   ]
  },
  {
   "cell_type": "code",
   "execution_count": 10,
   "metadata": {},
   "outputs": [],
   "source": [
    "cov_kor_1.reset_index(inplace=True)\n",
    "cov_kor_1.rename(columns={'cumsum':'Confirmed',\n",
    "                          'patient_id':'DayConfirmed', \n",
    "                          'confirmed_date':'Date'}, inplace=True)\n",
    "cov_kor_1 = cov_kor_1[['Date', 'Confirmed','DayConfirmed']]"
   ]
  },
  {
   "cell_type": "code",
   "execution_count": 11,
   "metadata": {},
   "outputs": [],
   "source": [
    "# 해외유입 확진자 질본 크롤링 데이터 \n",
    "osi = pd.read_csv(\"./data/oversea_inflow.csv\")\n",
    "osi.rename(columns={'date':'Date'},inplace=True)\n",
    "osi['Date'] = pd.to_datetime(osi['Date'])"
   ]
  },
  {
   "cell_type": "markdown",
   "metadata": {},
   "source": [
    "# 2. Merge Datesets\n",
    "- 데이터 셋 병합은 5가지 데이터를 병합한다.\n",
    "- 로밍 데이터, 캐글 글로벌 확진자수, 글로벌 데이터로 부터 추출된 한국의 확진자 데이터, 대한민국 코로나 캐글 데이터에서의 해외유입 데이터, 크롤링한 해외유입데이터이다.\n",
    "    - roam\n",
    "    - glob\n",
    "    - kor\n",
    "    - cov_kor\n",
    "    - osi\n",
    "- 대한민국의 해외유입감염자수(osi)를 Target Feature로 놓고 분석을 진행한다."
   ]
  },
  {
   "cell_type": "code",
   "execution_count": 12,
   "metadata": {},
   "outputs": [],
   "source": [
    "new_roam = roam.rename(columns={'return':'Date'})\n",
    "new_roam = new_roam.groupby(['Date'], as_index=False)['count'].sum()"
   ]
  },
  {
   "cell_type": "code",
   "execution_count": 16,
   "metadata": {},
   "outputs": [
    {
     "data": {
      "text/html": [
       "<div>\n",
       "<style scoped>\n",
       "    .dataframe tbody tr th:only-of-type {\n",
       "        vertical-align: middle;\n",
       "    }\n",
       "\n",
       "    .dataframe tbody tr th {\n",
       "        vertical-align: top;\n",
       "    }\n",
       "\n",
       "    .dataframe thead th {\n",
       "        text-align: right;\n",
       "    }\n",
       "</style>\n",
       "<table border=\"1\" class=\"dataframe\">\n",
       "  <thead>\n",
       "    <tr style=\"text-align: right;\">\n",
       "      <th></th>\n",
       "      <th>Date</th>\n",
       "      <th>Confirmed</th>\n",
       "      <th>Deaths</th>\n",
       "      <th>Recovered</th>\n",
       "      <th>DayConfirmed</th>\n",
       "    </tr>\n",
       "  </thead>\n",
       "  <tbody>\n",
       "    <tr>\n",
       "      <th>0</th>\n",
       "      <td>2020-01-22</td>\n",
       "      <td>1</td>\n",
       "      <td>0</td>\n",
       "      <td>0</td>\n",
       "      <td>0.0</td>\n",
       "    </tr>\n",
       "    <tr>\n",
       "      <th>1</th>\n",
       "      <td>2020-01-23</td>\n",
       "      <td>1</td>\n",
       "      <td>0</td>\n",
       "      <td>0</td>\n",
       "      <td>0.0</td>\n",
       "    </tr>\n",
       "    <tr>\n",
       "      <th>2</th>\n",
       "      <td>2020-01-24</td>\n",
       "      <td>2</td>\n",
       "      <td>0</td>\n",
       "      <td>0</td>\n",
       "      <td>1.0</td>\n",
       "    </tr>\n",
       "    <tr>\n",
       "      <th>3</th>\n",
       "      <td>2020-01-25</td>\n",
       "      <td>2</td>\n",
       "      <td>0</td>\n",
       "      <td>0</td>\n",
       "      <td>0.0</td>\n",
       "    </tr>\n",
       "    <tr>\n",
       "      <th>4</th>\n",
       "      <td>2020-01-26</td>\n",
       "      <td>3</td>\n",
       "      <td>0</td>\n",
       "      <td>0</td>\n",
       "      <td>1.0</td>\n",
       "    </tr>\n",
       "    <tr>\n",
       "      <th>...</th>\n",
       "      <td>...</td>\n",
       "      <td>...</td>\n",
       "      <td>...</td>\n",
       "      <td>...</td>\n",
       "      <td>...</td>\n",
       "    </tr>\n",
       "    <tr>\n",
       "      <th>80</th>\n",
       "      <td>2020-04-11</td>\n",
       "      <td>10480</td>\n",
       "      <td>211</td>\n",
       "      <td>7243</td>\n",
       "      <td>30.0</td>\n",
       "    </tr>\n",
       "    <tr>\n",
       "      <th>81</th>\n",
       "      <td>2020-04-12</td>\n",
       "      <td>10512</td>\n",
       "      <td>214</td>\n",
       "      <td>7368</td>\n",
       "      <td>32.0</td>\n",
       "    </tr>\n",
       "    <tr>\n",
       "      <th>82</th>\n",
       "      <td>2020-04-13</td>\n",
       "      <td>10537</td>\n",
       "      <td>217</td>\n",
       "      <td>7447</td>\n",
       "      <td>25.0</td>\n",
       "    </tr>\n",
       "    <tr>\n",
       "      <th>83</th>\n",
       "      <td>2020-04-14</td>\n",
       "      <td>10564</td>\n",
       "      <td>222</td>\n",
       "      <td>7534</td>\n",
       "      <td>27.0</td>\n",
       "    </tr>\n",
       "    <tr>\n",
       "      <th>84</th>\n",
       "      <td>2020-04-15</td>\n",
       "      <td>10591</td>\n",
       "      <td>225</td>\n",
       "      <td>7616</td>\n",
       "      <td>27.0</td>\n",
       "    </tr>\n",
       "  </tbody>\n",
       "</table>\n",
       "<p>85 rows × 5 columns</p>\n",
       "</div>"
      ],
      "text/plain": [
       "         Date  Confirmed  Deaths  Recovered  DayConfirmed\n",
       "0  2020-01-22          1       0          0           0.0\n",
       "1  2020-01-23          1       0          0           0.0\n",
       "2  2020-01-24          2       0          0           1.0\n",
       "3  2020-01-25          2       0          0           0.0\n",
       "4  2020-01-26          3       0          0           1.0\n",
       "..        ...        ...     ...        ...           ...\n",
       "80 2020-04-11      10480     211       7243          30.0\n",
       "81 2020-04-12      10512     214       7368          32.0\n",
       "82 2020-04-13      10537     217       7447          25.0\n",
       "83 2020-04-14      10564     222       7534          27.0\n",
       "84 2020-04-15      10591     225       7616          27.0\n",
       "\n",
       "[85 rows x 5 columns]"
      ]
     },
     "execution_count": 16,
     "metadata": {},
     "output_type": "execute_result"
    }
   ],
   "source": [
    "kor"
   ]
  },
  {
   "cell_type": "code",
   "execution_count": 17,
   "metadata": {},
   "outputs": [],
   "source": [
    "glob = kag_dated_1\n",
    "new_kor = kor"
   ]
  },
  {
   "cell_type": "code",
   "execution_count": 18,
   "metadata": {},
   "outputs": [],
   "source": [
    "cov_kor_os = cov_kor[cov_kor['infection_case'] == 'overseas inflow']"
   ]
  },
  {
   "cell_type": "code",
   "execution_count": 19,
   "metadata": {},
   "outputs": [
    {
     "data": {
      "text/html": [
       "<div>\n",
       "<style scoped>\n",
       "    .dataframe tbody tr th:only-of-type {\n",
       "        vertical-align: middle;\n",
       "    }\n",
       "\n",
       "    .dataframe tbody tr th {\n",
       "        vertical-align: top;\n",
       "    }\n",
       "\n",
       "    .dataframe thead th {\n",
       "        text-align: right;\n",
       "    }\n",
       "</style>\n",
       "<table border=\"1\" class=\"dataframe\">\n",
       "  <thead>\n",
       "    <tr style=\"text-align: right;\">\n",
       "      <th></th>\n",
       "      <th>patient_id</th>\n",
       "      <th>global_num</th>\n",
       "      <th>sex</th>\n",
       "      <th>birth_year</th>\n",
       "      <th>age</th>\n",
       "      <th>country</th>\n",
       "      <th>province</th>\n",
       "      <th>city</th>\n",
       "      <th>disease</th>\n",
       "      <th>infection_case</th>\n",
       "      <th>infection_order</th>\n",
       "      <th>infected_by</th>\n",
       "      <th>contact_number</th>\n",
       "      <th>symptom_onset_date</th>\n",
       "      <th>confirmed_date</th>\n",
       "      <th>released_date</th>\n",
       "      <th>deceased_date</th>\n",
       "      <th>state</th>\n",
       "    </tr>\n",
       "  </thead>\n",
       "  <tbody>\n",
       "    <tr>\n",
       "      <th>0</th>\n",
       "      <td>1000000001</td>\n",
       "      <td>2.0</td>\n",
       "      <td>male</td>\n",
       "      <td>1964.0</td>\n",
       "      <td>50s</td>\n",
       "      <td>Korea</td>\n",
       "      <td>Seoul</td>\n",
       "      <td>Gangseo-gu</td>\n",
       "      <td>NaN</td>\n",
       "      <td>overseas inflow</td>\n",
       "      <td>1.0</td>\n",
       "      <td>NaN</td>\n",
       "      <td>75.0</td>\n",
       "      <td>2020-01-22</td>\n",
       "      <td>2020-01-23</td>\n",
       "      <td>2020-02-05</td>\n",
       "      <td>NaN</td>\n",
       "      <td>released</td>\n",
       "    </tr>\n",
       "    <tr>\n",
       "      <th>1</th>\n",
       "      <td>1000000002</td>\n",
       "      <td>5.0</td>\n",
       "      <td>male</td>\n",
       "      <td>1987.0</td>\n",
       "      <td>30s</td>\n",
       "      <td>Korea</td>\n",
       "      <td>Seoul</td>\n",
       "      <td>Jungnang-gu</td>\n",
       "      <td>NaN</td>\n",
       "      <td>overseas inflow</td>\n",
       "      <td>1.0</td>\n",
       "      <td>NaN</td>\n",
       "      <td>31.0</td>\n",
       "      <td>NaN</td>\n",
       "      <td>2020-01-30</td>\n",
       "      <td>2020-03-02</td>\n",
       "      <td>NaN</td>\n",
       "      <td>released</td>\n",
       "    </tr>\n",
       "    <tr>\n",
       "      <th>3</th>\n",
       "      <td>1000000004</td>\n",
       "      <td>7.0</td>\n",
       "      <td>male</td>\n",
       "      <td>1991.0</td>\n",
       "      <td>20s</td>\n",
       "      <td>Korea</td>\n",
       "      <td>Seoul</td>\n",
       "      <td>Mapo-gu</td>\n",
       "      <td>NaN</td>\n",
       "      <td>overseas inflow</td>\n",
       "      <td>1.0</td>\n",
       "      <td>NaN</td>\n",
       "      <td>9.0</td>\n",
       "      <td>2020-01-26</td>\n",
       "      <td>2020-01-30</td>\n",
       "      <td>2020-02-15</td>\n",
       "      <td>NaN</td>\n",
       "      <td>released</td>\n",
       "    </tr>\n",
       "    <tr>\n",
       "      <th>7</th>\n",
       "      <td>1000000008</td>\n",
       "      <td>13.0</td>\n",
       "      <td>male</td>\n",
       "      <td>1992.0</td>\n",
       "      <td>20s</td>\n",
       "      <td>Korea</td>\n",
       "      <td>Seoul</td>\n",
       "      <td>etc</td>\n",
       "      <td>NaN</td>\n",
       "      <td>overseas inflow</td>\n",
       "      <td>1.0</td>\n",
       "      <td>NaN</td>\n",
       "      <td>0.0</td>\n",
       "      <td>NaN</td>\n",
       "      <td>2020-02-02</td>\n",
       "      <td>2020-02-24</td>\n",
       "      <td>NaN</td>\n",
       "      <td>released</td>\n",
       "    </tr>\n",
       "    <tr>\n",
       "      <th>8</th>\n",
       "      <td>1000000009</td>\n",
       "      <td>19.0</td>\n",
       "      <td>male</td>\n",
       "      <td>1983.0</td>\n",
       "      <td>30s</td>\n",
       "      <td>Korea</td>\n",
       "      <td>Seoul</td>\n",
       "      <td>Songpa-gu</td>\n",
       "      <td>NaN</td>\n",
       "      <td>overseas inflow</td>\n",
       "      <td>2.0</td>\n",
       "      <td>NaN</td>\n",
       "      <td>68.0</td>\n",
       "      <td>NaN</td>\n",
       "      <td>2020-02-05</td>\n",
       "      <td>2020-02-21</td>\n",
       "      <td>NaN</td>\n",
       "      <td>released</td>\n",
       "    </tr>\n",
       "  </tbody>\n",
       "</table>\n",
       "</div>"
      ],
      "text/plain": [
       "   patient_id  global_num   sex  birth_year  age country province  \\\n",
       "0  1000000001         2.0  male      1964.0  50s   Korea    Seoul   \n",
       "1  1000000002         5.0  male      1987.0  30s   Korea    Seoul   \n",
       "3  1000000004         7.0  male      1991.0  20s   Korea    Seoul   \n",
       "7  1000000008        13.0  male      1992.0  20s   Korea    Seoul   \n",
       "8  1000000009        19.0  male      1983.0  30s   Korea    Seoul   \n",
       "\n",
       "          city disease   infection_case  infection_order  infected_by  \\\n",
       "0   Gangseo-gu     NaN  overseas inflow              1.0          NaN   \n",
       "1  Jungnang-gu     NaN  overseas inflow              1.0          NaN   \n",
       "3      Mapo-gu     NaN  overseas inflow              1.0          NaN   \n",
       "7          etc     NaN  overseas inflow              1.0          NaN   \n",
       "8    Songpa-gu     NaN  overseas inflow              2.0          NaN   \n",
       "\n",
       "   contact_number symptom_onset_date confirmed_date released_date  \\\n",
       "0            75.0         2020-01-22     2020-01-23    2020-02-05   \n",
       "1            31.0                NaN     2020-01-30    2020-03-02   \n",
       "3             9.0         2020-01-26     2020-01-30    2020-02-15   \n",
       "7             0.0                NaN     2020-02-02    2020-02-24   \n",
       "8            68.0                NaN     2020-02-05    2020-02-21   \n",
       "\n",
       "  deceased_date     state  \n",
       "0           NaN  released  \n",
       "1           NaN  released  \n",
       "3           NaN  released  \n",
       "7           NaN  released  \n",
       "8           NaN  released  "
      ]
     },
     "execution_count": 19,
     "metadata": {},
     "output_type": "execute_result"
    }
   ],
   "source": [
    "cov_kor_os.head()"
   ]
  },
  {
   "cell_type": "code",
   "execution_count": 20,
   "metadata": {},
   "outputs": [],
   "source": [
    "kor_os = cov_kor_os.groupby(['confirmed_date'], as_index=False)[['patient_id']].count()"
   ]
  },
  {
   "cell_type": "code",
   "execution_count": 21,
   "metadata": {},
   "outputs": [],
   "source": [
    "kor_os.rename(columns={'confirmed_date':'Date', 'patient_id':'Confirmed_os'}, inplace=True)"
   ]
  },
  {
   "cell_type": "code",
   "execution_count": 22,
   "metadata": {},
   "outputs": [],
   "source": [
    "kor_os['Date'] = pd.to_datetime(kor_os['Date'])"
   ]
  },
  {
   "cell_type": "code",
   "execution_count": 31,
   "metadata": {},
   "outputs": [],
   "source": [
    "df = pd.merge(new_roam, glob, on='Date')"
   ]
  },
  {
   "cell_type": "code",
   "execution_count": 32,
   "metadata": {},
   "outputs": [],
   "source": [
    "df = pd.merge(df, new_kor, on='Date')"
   ]
  },
  {
   "cell_type": "code",
   "execution_count": 33,
   "metadata": {},
   "outputs": [],
   "source": [
    "df = pd.merge(df, kor_os, on='Date')"
   ]
  },
  {
   "cell_type": "code",
   "execution_count": 34,
   "metadata": {},
   "outputs": [],
   "source": [
    "df = pd.merge(df, osi, on='Date')"
   ]
  },
  {
   "cell_type": "code",
   "execution_count": 35,
   "metadata": {},
   "outputs": [],
   "source": [
    "# 10일 동안의 NA 값 대체\n",
    "for i in range(18,29):\n",
    "    df['oversea_inflow'].iloc[i] = df['oversea_inflow'].iloc[i-1] + df['Confirmed_os'].iloc[i]"
   ]
  },
  {
   "cell_type": "code",
   "execution_count": 36,
   "metadata": {},
   "outputs": [],
   "source": [
    "df['day_osi']=df['oversea_inflow'].diff()"
   ]
  },
  {
   "cell_type": "code",
   "execution_count": 38,
   "metadata": {},
   "outputs": [
    {
     "data": {
      "text/html": [
       "<div>\n",
       "<style scoped>\n",
       "    .dataframe tbody tr th:only-of-type {\n",
       "        vertical-align: middle;\n",
       "    }\n",
       "\n",
       "    .dataframe tbody tr th {\n",
       "        vertical-align: top;\n",
       "    }\n",
       "\n",
       "    .dataframe thead th {\n",
       "        text-align: right;\n",
       "    }\n",
       "</style>\n",
       "<table border=\"1\" class=\"dataframe\">\n",
       "  <thead>\n",
       "    <tr style=\"text-align: right;\">\n",
       "      <th></th>\n",
       "      <th>Date</th>\n",
       "      <th>count</th>\n",
       "      <th>Confirmed_x</th>\n",
       "      <th>Deaths_x</th>\n",
       "      <th>Recovered_x</th>\n",
       "      <th>DayConfirmed_x</th>\n",
       "      <th>DayDeaths</th>\n",
       "      <th>DayRecovered</th>\n",
       "      <th>Confirmed_y</th>\n",
       "      <th>Deaths_y</th>\n",
       "      <th>Recovered_y</th>\n",
       "      <th>DayConfirmed_y</th>\n",
       "      <th>Confirmed_os</th>\n",
       "      <th>oversea_inflow</th>\n",
       "      <th>day_osi</th>\n",
       "    </tr>\n",
       "  </thead>\n",
       "  <tbody>\n",
       "    <tr>\n",
       "      <th>0</th>\n",
       "      <td>2020-01-23</td>\n",
       "      <td>21559</td>\n",
       "      <td>654</td>\n",
       "      <td>18</td>\n",
       "      <td>30</td>\n",
       "      <td>99.0</td>\n",
       "      <td>1.0</td>\n",
       "      <td>2.0</td>\n",
       "      <td>1</td>\n",
       "      <td>0</td>\n",
       "      <td>0</td>\n",
       "      <td>0.0</td>\n",
       "      <td>1</td>\n",
       "      <td>1.0</td>\n",
       "      <td>NaN</td>\n",
       "    </tr>\n",
       "    <tr>\n",
       "      <th>1</th>\n",
       "      <td>2020-01-26</td>\n",
       "      <td>26214</td>\n",
       "      <td>2118</td>\n",
       "      <td>56</td>\n",
       "      <td>52</td>\n",
       "      <td>684.0</td>\n",
       "      <td>14.0</td>\n",
       "      <td>13.0</td>\n",
       "      <td>3</td>\n",
       "      <td>0</td>\n",
       "      <td>0</td>\n",
       "      <td>1.0</td>\n",
       "      <td>1</td>\n",
       "      <td>3.0</td>\n",
       "      <td>2.0</td>\n",
       "    </tr>\n",
       "    <tr>\n",
       "      <th>2</th>\n",
       "      <td>2020-01-27</td>\n",
       "      <td>32114</td>\n",
       "      <td>2927</td>\n",
       "      <td>82</td>\n",
       "      <td>61</td>\n",
       "      <td>809.0</td>\n",
       "      <td>26.0</td>\n",
       "      <td>9.0</td>\n",
       "      <td>4</td>\n",
       "      <td>0</td>\n",
       "      <td>0</td>\n",
       "      <td>1.0</td>\n",
       "      <td>1</td>\n",
       "      <td>4.0</td>\n",
       "      <td>1.0</td>\n",
       "    </tr>\n",
       "    <tr>\n",
       "      <th>3</th>\n",
       "      <td>2020-01-30</td>\n",
       "      <td>20240</td>\n",
       "      <td>8234</td>\n",
       "      <td>171</td>\n",
       "      <td>143</td>\n",
       "      <td>2068.0</td>\n",
       "      <td>38.0</td>\n",
       "      <td>17.0</td>\n",
       "      <td>4</td>\n",
       "      <td>0</td>\n",
       "      <td>0</td>\n",
       "      <td>0.0</td>\n",
       "      <td>2</td>\n",
       "      <td>6.0</td>\n",
       "      <td>2.0</td>\n",
       "    </tr>\n",
       "    <tr>\n",
       "      <th>4</th>\n",
       "      <td>2020-01-31</td>\n",
       "      <td>21728</td>\n",
       "      <td>9927</td>\n",
       "      <td>213</td>\n",
       "      <td>222</td>\n",
       "      <td>1693.0</td>\n",
       "      <td>42.0</td>\n",
       "      <td>79.0</td>\n",
       "      <td>11</td>\n",
       "      <td>0</td>\n",
       "      <td>0</td>\n",
       "      <td>7.0</td>\n",
       "      <td>1</td>\n",
       "      <td>7.0</td>\n",
       "      <td>1.0</td>\n",
       "    </tr>\n",
       "  </tbody>\n",
       "</table>\n",
       "</div>"
      ],
      "text/plain": [
       "        Date  count  Confirmed_x  Deaths_x  Recovered_x  DayConfirmed_x  \\\n",
       "0 2020-01-23  21559          654        18           30            99.0   \n",
       "1 2020-01-26  26214         2118        56           52           684.0   \n",
       "2 2020-01-27  32114         2927        82           61           809.0   \n",
       "3 2020-01-30  20240         8234       171          143          2068.0   \n",
       "4 2020-01-31  21728         9927       213          222          1693.0   \n",
       "\n",
       "   DayDeaths  DayRecovered  Confirmed_y  Deaths_y  Recovered_y  \\\n",
       "0        1.0           2.0            1         0            0   \n",
       "1       14.0          13.0            3         0            0   \n",
       "2       26.0           9.0            4         0            0   \n",
       "3       38.0          17.0            4         0            0   \n",
       "4       42.0          79.0           11         0            0   \n",
       "\n",
       "   DayConfirmed_y  Confirmed_os  oversea_inflow  day_osi  \n",
       "0             0.0             1             1.0      NaN  \n",
       "1             1.0             1             3.0      2.0  \n",
       "2             1.0             1             4.0      1.0  \n",
       "3             0.0             2             6.0      2.0  \n",
       "4             7.0             1             7.0      1.0  "
      ]
     },
     "execution_count": 38,
     "metadata": {},
     "output_type": "execute_result"
    }
   ],
   "source": [
    "df.head()"
   ]
  },
  {
   "cell_type": "code",
   "execution_count": 39,
   "metadata": {},
   "outputs": [],
   "source": [
    "# 변수명 정리\n",
    "\n",
    "df.rename(columns = {'count' : 'roam',\n",
    "                     'Confirmed_x':'g_confirmed',\n",
    "                     'Deaths_x':'g_deaths',\n",
    "                     'Recovered_x':'g_recovered',\n",
    "                     'DayConfirmed_x':'g_dayconfirmed',\n",
    "                     'DayDeaths':'g_daydeaths',\n",
    "                     'DayRecovered':'g_dayrecovered',\n",
    "                     'Confirmed_y':'k_confirmed',\n",
    "                     'Deaths_y' : 'k_deaths',\n",
    "                     'Recovered_y' : 'k_recoverd',\n",
    "                     'DayConfirmed_y':'k_dayconfirmed',\n",
    "                     'Confirmed_os':'k_day_osi_1'}, inplace=True)"
   ]
  },
  {
   "cell_type": "code",
   "execution_count": 46,
   "metadata": {},
   "outputs": [
    {
     "data": {
      "text/plain": [
       "<matplotlib.axes._subplots.AxesSubplot at 0x271ddde1b08>"
      ]
     },
     "execution_count": 46,
     "metadata": {},
     "output_type": "execute_result"
    },
    {
     "data": {
      "image/png": "[encoded data removed]",
      "text/plain": [
       "<Figure size 720x720 with 2 Axes>"
      ]
     },
     "metadata": {
      "needs_background": "light"
     },
     "output_type": "display_data"
    }
   ],
   "source": [
    "plt.rcParams['axes.unicode_minus'] = False\n",
    "plt.figure(figsize=(10,10))\n",
    "sns.heatmap(df.corr())"
   ]
  },
  {
   "cell_type": "code",
   "execution_count": 47,
   "metadata": {},
   "outputs": [],
   "source": [
    "# 전체 데이터 저장\n",
    "#df.to_csv(\"./data/total.csv\")"
   ]
  },
  {
   "cell_type": "code",
   "execution_count": 181,
   "metadata": {},
   "outputs": [
    {
     "data": {
      "text/plain": [
       "<matplotlib.axes._subplots.AxesSubplot at 0x2773216bb70>"
      ]
     },
     "execution_count": 181,
     "metadata": {},
     "output_type": "execute_result"
    },
    {
     "data": {
      "image/png": "[encoded data removed]",
      "text/plain": [
       "<Figure size 1080x864 with 1 Axes>"
      ]
     },
     "metadata": {},
     "output_type": "display_data"
    }
   ],
   "source": [
    "df.plot(kind='line', x='Date', y=['g_dayconfirmed','k_dayconfirmed'],\n",
    "                                            figsize=(15,12),\n",
    "                                            legend=True,\n",
    "                                            grid=True)"
   ]
  }
 ],
 "metadata": {
  "kernelspec": {
   "display_name": "Python 3",
   "language": "python",
   "name": "python3"
  },
  "language_info": {
   "codemirror_mode": {
    "name": "ipython",
    "version": 3
   },
   "file_extension": ".py",
   "mimetype": "text/x-python",
   "name": "python",
   "nbconvert_exporter": "python",
   "pygments_lexer": "ipython3",
   "version": "3.7.6"
  }
 },
 "nbformat": 4,
 "nbformat_minor": 4
}
