{
 "cells": [
  {
   "cell_type": "code",
   "execution_count": 1,
   "metadata": {},
   "outputs": [],
   "source": [
    "import pandas as pd\n",
    "import numpy as np\n",
    "import matplotlib.pyplot as plt\n",
    "import seaborn as sns\n",
    "\n",
    "from matplotlib import font_manager, rc\n",
    "font_name = font_manager.FontProperties(fname=\"c:/Windows/Fonts/malgun.ttf\").get_name()\n",
    "rc('font', family=font_name)\n",
    "%matplotlib inline\n",
    "\n",
    "import glob\n",
    "import sklearn\n",
    "import torch\n",
    "import torch.nn as nn"
   ]
  },
  {
   "cell_type": "markdown",
   "metadata": {},
   "source": [
    "# 1. Data Load"
   ]
  },
  {
   "cell_type": "code",
   "execution_count": null,
   "metadata": {},
   "outputs": [],
   "source": [
    "df = pd.read_csv('./data/total.csv')"
   ]
  },
  {
   "cell_type": "code",
   "execution_count": 5,
   "metadata": {},
   "outputs": [],
   "source": [
    "df.drop('Unnamed: 0', axis=1, inplace=True)"
   ]
  },
  {
   "cell_type": "code",
   "execution_count": 8,
   "metadata": {},
   "outputs": [
    {
     "data": {
      "text/html": [
       "<div>\n",
       "<style scoped>\n",
       "    .dataframe tbody tr th:only-of-type {\n",
       "        vertical-align: middle;\n",
       "    }\n",
       "\n",
       "    .dataframe tbody tr th {\n",
       "        vertical-align: top;\n",
       "    }\n",
       "\n",
       "    .dataframe thead th {\n",
       "        text-align: right;\n",
       "    }\n",
       "</style>\n",
       "<table border=\"1\" class=\"dataframe\">\n",
       "  <thead>\n",
       "    <tr style=\"text-align: right;\">\n",
       "      <th></th>\n",
       "      <th>roam</th>\n",
       "      <th>g_confirmed</th>\n",
       "      <th>g_deaths</th>\n",
       "      <th>g_recovered</th>\n",
       "      <th>g_dayconfirmed</th>\n",
       "      <th>g_daydeaths</th>\n",
       "      <th>g_dayrecovered</th>\n",
       "      <th>k_confirmed</th>\n",
       "      <th>k_dayconfirmed</th>\n",
       "    </tr>\n",
       "    <tr>\n",
       "      <th>Date</th>\n",
       "      <th></th>\n",
       "      <th></th>\n",
       "      <th></th>\n",
       "      <th></th>\n",
       "      <th></th>\n",
       "      <th></th>\n",
       "      <th></th>\n",
       "      <th></th>\n",
       "      <th></th>\n",
       "    </tr>\n",
       "  </thead>\n",
       "  <tbody>\n",
       "    <tr>\n",
       "      <th>2020-01-22</th>\n",
       "      <td>23527</td>\n",
       "      <td>555</td>\n",
       "      <td>17</td>\n",
       "      <td>28</td>\n",
       "      <td>0.0</td>\n",
       "      <td>0.0</td>\n",
       "      <td>0.0</td>\n",
       "      <td>1</td>\n",
       "      <td>1</td>\n",
       "    </tr>\n",
       "    <tr>\n",
       "      <th>2020-01-23</th>\n",
       "      <td>21559</td>\n",
       "      <td>654</td>\n",
       "      <td>18</td>\n",
       "      <td>30</td>\n",
       "      <td>99.0</td>\n",
       "      <td>1.0</td>\n",
       "      <td>2.0</td>\n",
       "      <td>1</td>\n",
       "      <td>0</td>\n",
       "    </tr>\n",
       "    <tr>\n",
       "      <th>2020-01-24</th>\n",
       "      <td>20726</td>\n",
       "      <td>941</td>\n",
       "      <td>26</td>\n",
       "      <td>36</td>\n",
       "      <td>287.0</td>\n",
       "      <td>8.0</td>\n",
       "      <td>6.0</td>\n",
       "      <td>2</td>\n",
       "      <td>1</td>\n",
       "    </tr>\n",
       "    <tr>\n",
       "      <th>2020-01-25</th>\n",
       "      <td>18496</td>\n",
       "      <td>1434</td>\n",
       "      <td>42</td>\n",
       "      <td>39</td>\n",
       "      <td>493.0</td>\n",
       "      <td>16.0</td>\n",
       "      <td>3.0</td>\n",
       "      <td>2</td>\n",
       "      <td>0</td>\n",
       "    </tr>\n",
       "    <tr>\n",
       "      <th>2020-01-26</th>\n",
       "      <td>26214</td>\n",
       "      <td>2118</td>\n",
       "      <td>56</td>\n",
       "      <td>52</td>\n",
       "      <td>684.0</td>\n",
       "      <td>14.0</td>\n",
       "      <td>13.0</td>\n",
       "      <td>3</td>\n",
       "      <td>1</td>\n",
       "    </tr>\n",
       "  </tbody>\n",
       "</table>\n",
       "</div>"
      ],
      "text/plain": [
       "             roam  g_confirmed  g_deaths  g_recovered  g_dayconfirmed  \\\n",
       "Date                                                                    \n",
       "2020-01-22  23527          555        17           28             0.0   \n",
       "2020-01-23  21559          654        18           30            99.0   \n",
       "2020-01-24  20726          941        26           36           287.0   \n",
       "2020-01-25  18496         1434        42           39           493.0   \n",
       "2020-01-26  26214         2118        56           52           684.0   \n",
       "\n",
       "            g_daydeaths  g_dayrecovered  k_confirmed  k_dayconfirmed  \n",
       "Date                                                                  \n",
       "2020-01-22          0.0             0.0            1               1  \n",
       "2020-01-23          1.0             2.0            1               0  \n",
       "2020-01-24          8.0             6.0            2               1  \n",
       "2020-01-25         16.0             3.0            2               0  \n",
       "2020-01-26         14.0            13.0            3               1  "
      ]
     },
     "execution_count": 8,
     "metadata": {},
     "output_type": "execute_result"
    }
   ],
   "source": [
    "# 인덱스를 날짜 변수로 변경\n",
    "df.set_index('Date', inplace=True)\n",
    "df.head()"
   ]
  },
  {
   "cell_type": "markdown",
   "metadata": {},
   "source": [
    "# 2. Data Preprocessing"
   ]
  },
  {
   "cell_type": "code",
   "execution_count": 15,
   "metadata": {},
   "outputs": [
    {
     "data": {
      "text/plain": [
       "Index(['roam', 'g_confirmed', 'g_deaths', 'g_recovered', 'g_dayconfirmed',\n",
       "       'g_daydeaths', 'g_dayrecovered', 'k_confirmed', 'k_dayconfirmed'],\n",
       "      dtype='object')"
      ]
     },
     "execution_count": 15,
     "metadata": {},
     "output_type": "execute_result"
    }
   ],
   "source": [
    "df.columns"
   ]
  },
  {
   "cell_type": "code",
   "execution_count": 16,
   "metadata": {},
   "outputs": [],
   "source": [
    "# float 타입으로 변경\n",
    "all_data = df.values.astype('float64')"
   ]
  },
  {
   "cell_type": "code",
   "execution_count": 17,
   "metadata": {},
   "outputs": [
    {
     "data": {
      "text/plain": [
       "array([[2.3527e+04, 5.5500e+02, 1.7000e+01, 2.8000e+01, 0.0000e+00,\n",
       "        0.0000e+00, 0.0000e+00, 1.0000e+00, 1.0000e+00],\n",
       "       [2.1559e+04, 6.5400e+02, 1.8000e+01, 3.0000e+01, 9.9000e+01,\n",
       "        1.0000e+00, 2.0000e+00, 1.0000e+00, 0.0000e+00],\n",
       "       [2.0726e+04, 9.4100e+02, 2.6000e+01, 3.6000e+01, 2.8700e+02,\n",
       "        8.0000e+00, 6.0000e+00, 2.0000e+00, 1.0000e+00],\n",
       "       [1.8496e+04, 1.4340e+03, 4.2000e+01, 3.9000e+01, 4.9300e+02,\n",
       "        1.6000e+01, 3.0000e+00, 2.0000e+00, 0.0000e+00],\n",
       "       [2.6214e+04, 2.1180e+03, 5.6000e+01, 5.2000e+01, 6.8400e+02,\n",
       "        1.4000e+01, 1.3000e+01, 3.0000e+00, 1.0000e+00]])"
      ]
     },
     "execution_count": 17,
     "metadata": {},
     "output_type": "execute_result"
    }
   ],
   "source": [
    "all_data[:5]"
   ]
  },
  {
   "cell_type": "code",
   "execution_count": 22,
   "metadata": {},
   "outputs": [
    {
     "name": "stdout",
     "output_type": "stream",
     "text": [
      "데이터 길이: 70\n",
      "test_set 30% 지정 : 21.0\n"
     ]
    }
   ],
   "source": [
    "print('데이터 길이: %s' % len(all_data))\n",
    "test_len = (len(all_data) * 0.3)\n",
    "print('test_set 30%% 지정 : %s' % test_len)"
   ]
  },
  {
   "cell_type": "code",
   "execution_count": 23,
   "metadata": {},
   "outputs": [],
   "source": [
    "# test 데이터의 크기 지정\n",
    "\n",
    "test_data_size = 21\n",
    "\n",
    "train_data = all_data[:-test_data_size]\n",
    "test_data = all_data[-test_data_size:]"
   ]
  },
  {
   "cell_type": "code",
   "execution_count": 24,
   "metadata": {},
   "outputs": [
    {
     "name": "stdout",
     "output_type": "stream",
     "text": [
      "length of train data : 49\n",
      "length of test data : 21\n",
      "[[2.19100e+03 1.25875e+05 4.61500e+03 6.69950e+04 7.25500e+03 3.53000e+02\n",
      "  2.59900e+03 7.75500e+03 2.42000e+02]\n",
      " [2.71600e+03 1.28352e+05 4.72000e+03 6.83160e+04 2.47700e+03 1.05000e+02\n",
      "  1.32100e+03 7.86900e+03 1.14000e+02]\n",
      " [2.49100e+03 1.45205e+05 5.40400e+03 7.02430e+04 1.68530e+04 6.84000e+02\n",
      "  1.92700e+03 7.97900e+03 1.10000e+02]\n",
      " [2.84000e+03 1.56101e+05 5.81900e+03 7.26160e+04 1.08960e+04 4.15000e+02\n",
      "  2.37300e+03 8.08600e+03 1.07000e+02]\n",
      " [2.96500e+03 1.67454e+05 6.44000e+03 7.60260e+04 1.13530e+04 6.21000e+02\n",
      "  3.41000e+03 8.16200e+03 7.60000e+01]\n",
      " [2.45100e+03 1.81574e+05 7.12600e+03 7.80790e+04 1.41200e+04 6.86000e+02\n",
      "  2.05300e+03 8.23600e+03 7.40000e+01]\n",
      " [2.11500e+03 1.97102e+05 7.90500e+03 8.08310e+04 1.55280e+04 7.79000e+02\n",
      "  2.75200e+03 8.32000e+03 8.40000e+01]\n",
      " [1.94400e+03 2.14821e+05 8.73300e+03 8.33030e+04 1.77190e+04 8.28000e+02\n",
      "  2.47200e+03 8.41300e+03 9.30000e+01]\n",
      " [2.49100e+03 2.42570e+05 9.86700e+03 8.49660e+04 2.77490e+04 1.13400e+03\n",
      "  1.66300e+03 8.56500e+03 1.52000e+02]\n",
      " [2.02700e+03 2.72208e+05 1.12990e+04 8.74110e+04 2.96380e+04 1.43200e+03\n",
      "  2.44500e+03 8.65200e+03 8.70000e+01]]\n"
     ]
    }
   ],
   "source": [
    "print(\"length of train data : %s\" % len(train_data))\n",
    "print(\"length of test data : %s\" % len(test_data))\n",
    "print(test_data[:10])"
   ]
  },
  {
   "cell_type": "code",
   "execution_count": 25,
   "metadata": {},
   "outputs": [],
   "source": [
    "# scaling 진행\n",
    "\n",
    "from sklearn.preprocessing import MinMaxScaler\n",
    "\n",
    "scaler = MinMaxScaler(feature_range=(-1, 1))\n",
    "train_data_normalized = scaler.fit_transform(train_data .reshape(-1, 1))"
   ]
  },
  {
   "cell_type": "code",
   "execution_count": 26,
   "metadata": {},
   "outputs": [
    {
     "name": "stdout",
     "output_type": "stream",
     "text": [
      "[[-0.60332153]\n",
      " [-0.99064239]\n",
      " [-0.99971337]\n",
      " [-0.9995279 ]\n",
      " [-1.        ]]\n",
      "[[-0.91519137]\n",
      " [-0.99538021]\n",
      " [-0.96779632]\n",
      " [-0.87332659]\n",
      " [-0.99940988]]\n"
     ]
    }
   ],
   "source": [
    "print(train_data_normalized[:5])\n",
    "print(train_data_normalized[-5:])"
   ]
  },
  {
   "cell_type": "markdown",
   "metadata": {},
   "source": [
    "## issue\n",
    "- 예제코드에는 feature들이 없고 날짜와 y값만 있었다.\n",
    "- 사용하는 데이터는 feature들이 많기 때문에 수정이 필요하다."
   ]
  },
  {
   "cell_type": "code",
   "execution_count": 27,
   "metadata": {},
   "outputs": [],
   "source": [
    "train_data_normalized = torch.FloatTensor(train_data_normalized).view(-1)"
   ]
  },
  {
   "cell_type": "code",
   "execution_count": 28,
   "metadata": {},
   "outputs": [
    {
     "data": {
      "text/plain": [
       "tensor([-0.6033, -0.9906, -0.9997, -0.9995, -1.0000])"
      ]
     },
     "execution_count": 28,
     "metadata": {},
     "output_type": "execute_result"
    }
   ],
   "source": [
    "train_data_normalized[:5]"
   ]
  },
  {
   "cell_type": "code",
   "execution_count": null,
   "metadata": {},
   "outputs": [],
   "source": []
  }
 ],
 "metadata": {
  "kernelspec": {
   "display_name": "pytorch",
   "language": "python",
   "name": "pytorch"
  },
  "language_info": {
   "codemirror_mode": {
    "name": "ipython",
    "version": 3
   },
   "file_extension": ".py",
   "mimetype": "text/x-python",
   "name": "python",
   "nbconvert_exporter": "python",
   "pygments_lexer": "ipython3",
   "version": "3.6.9"
  }
 },
 "nbformat": 4,
 "nbformat_minor": 4
}
