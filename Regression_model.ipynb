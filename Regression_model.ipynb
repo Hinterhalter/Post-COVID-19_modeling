{
 "cells": [
  {
   "cell_type": "code",
   "execution_count": 3,
   "metadata": {},
   "outputs": [],
   "source": [
    "import pandas as pd\n",
    "import numpy as np\n",
    "import matplotlib.pyplot as plt\n",
    "%matplotlib inline\n",
    "import seaborn as sns\n",
    "\n",
    "from sklearn.preprocessing import scale, minmax_scale, robust_scale\n",
    "from scipy import stats\n",
    "import statsmodels.api as sm\n",
    "from statsmodels.stats.proportion import proportions_ztest\n",
    "import scipy\n",
    "\n",
    "from matplotlib import font_manager, rc\n",
    "font_name = font_manager.FontProperties(fname=\"c:/Windows/Fonts/malgun.ttf\").get_name()\n",
    "rc('font', family=font_name)\n",
    "plt.rcParams['axes.unicode_minus'] = False"
   ]
  },
  {
   "cell_type": "code",
   "execution_count": 4,
   "metadata": {},
   "outputs": [],
   "source": [
    "# 회귀분석\n",
    "from statsmodels.formula.api import ols\n",
    "# qqplot, 회귀분석의 상수항 추가\n",
    "from statsmodels.api import qqplot, add_constant\n",
    "# 선형 모델 formula\n",
    "import statsmodels.formula.api as smf\n",
    "# 평가함수\n",
    "from statsmodels.tools.eval_measures import rmse\n",
    "# 그래프 자동 출력 옵션\n",
    "# 다중공선성 확인\n",
    "from statsmodels.stats.outliers_influence import variance_inflation_factor\n",
    "# 선형 회귀 모형\n",
    "from sklearn.linear_model import LinearRegression\n",
    "# 변수 선택법(후진제거법)\n",
    "from sklearn.feature_selection import RFE\n",
    "# Scale 변환 -> 표준화 회귀계수 산출\n",
    "from sklearn.preprocessing import StandardScaler"
   ]
  },
  {
   "cell_type": "markdown",
   "metadata": {},
   "source": [
    "# 1. Load Data"
   ]
  },
  {
   "cell_type": "code",
   "execution_count": 8,
   "metadata": {},
   "outputs": [],
   "source": [
    "df_raw = pd.read_csv(\"./data/total.csv\")\n",
    "df_raw.drop('Unnamed: 0', axis=1, inplace=True)"
   ]
  },
  {
   "cell_type": "code",
   "execution_count": 9,
   "metadata": {},
   "outputs": [
    {
     "data": {
      "text/html": [
       "<div>\n",
       "<style scoped>\n",
       "    .dataframe tbody tr th:only-of-type {\n",
       "        vertical-align: middle;\n",
       "    }\n",
       "\n",
       "    .dataframe tbody tr th {\n",
       "        vertical-align: top;\n",
       "    }\n",
       "\n",
       "    .dataframe thead th {\n",
       "        text-align: right;\n",
       "    }\n",
       "</style>\n",
       "<table border=\"1\" class=\"dataframe\">\n",
       "  <thead>\n",
       "    <tr style=\"text-align: right;\">\n",
       "      <th></th>\n",
       "      <th>Date</th>\n",
       "      <th>roam</th>\n",
       "      <th>g_confirmed</th>\n",
       "      <th>g_deaths</th>\n",
       "      <th>g_recovered</th>\n",
       "      <th>g_dayconfirmed</th>\n",
       "      <th>g_daydeaths</th>\n",
       "      <th>g_dayrecovered</th>\n",
       "      <th>k_confirmed</th>\n",
       "      <th>k_deaths</th>\n",
       "      <th>k_recoverd</th>\n",
       "      <th>k_dayconfirmed</th>\n",
       "      <th>k_day_osi_1</th>\n",
       "      <th>oversea_inflow</th>\n",
       "      <th>day_osi</th>\n",
       "    </tr>\n",
       "  </thead>\n",
       "  <tbody>\n",
       "    <tr>\n",
       "      <th>0</th>\n",
       "      <td>2020-01-23</td>\n",
       "      <td>21559</td>\n",
       "      <td>654</td>\n",
       "      <td>18</td>\n",
       "      <td>30</td>\n",
       "      <td>99.0</td>\n",
       "      <td>1.0</td>\n",
       "      <td>2.0</td>\n",
       "      <td>1</td>\n",
       "      <td>0</td>\n",
       "      <td>0</td>\n",
       "      <td>0.0</td>\n",
       "      <td>1</td>\n",
       "      <td>1.0</td>\n",
       "      <td>NaN</td>\n",
       "    </tr>\n",
       "    <tr>\n",
       "      <th>1</th>\n",
       "      <td>2020-01-26</td>\n",
       "      <td>26214</td>\n",
       "      <td>2118</td>\n",
       "      <td>56</td>\n",
       "      <td>52</td>\n",
       "      <td>684.0</td>\n",
       "      <td>14.0</td>\n",
       "      <td>13.0</td>\n",
       "      <td>3</td>\n",
       "      <td>0</td>\n",
       "      <td>0</td>\n",
       "      <td>1.0</td>\n",
       "      <td>1</td>\n",
       "      <td>3.0</td>\n",
       "      <td>2.0</td>\n",
       "    </tr>\n",
       "    <tr>\n",
       "      <th>2</th>\n",
       "      <td>2020-01-27</td>\n",
       "      <td>32114</td>\n",
       "      <td>2927</td>\n",
       "      <td>82</td>\n",
       "      <td>61</td>\n",
       "      <td>809.0</td>\n",
       "      <td>26.0</td>\n",
       "      <td>9.0</td>\n",
       "      <td>4</td>\n",
       "      <td>0</td>\n",
       "      <td>0</td>\n",
       "      <td>1.0</td>\n",
       "      <td>1</td>\n",
       "      <td>4.0</td>\n",
       "      <td>1.0</td>\n",
       "    </tr>\n",
       "    <tr>\n",
       "      <th>3</th>\n",
       "      <td>2020-01-30</td>\n",
       "      <td>20240</td>\n",
       "      <td>8234</td>\n",
       "      <td>171</td>\n",
       "      <td>143</td>\n",
       "      <td>2068.0</td>\n",
       "      <td>38.0</td>\n",
       "      <td>17.0</td>\n",
       "      <td>4</td>\n",
       "      <td>0</td>\n",
       "      <td>0</td>\n",
       "      <td>0.0</td>\n",
       "      <td>2</td>\n",
       "      <td>6.0</td>\n",
       "      <td>2.0</td>\n",
       "    </tr>\n",
       "    <tr>\n",
       "      <th>4</th>\n",
       "      <td>2020-01-31</td>\n",
       "      <td>21728</td>\n",
       "      <td>9927</td>\n",
       "      <td>213</td>\n",
       "      <td>222</td>\n",
       "      <td>1693.0</td>\n",
       "      <td>42.0</td>\n",
       "      <td>79.0</td>\n",
       "      <td>11</td>\n",
       "      <td>0</td>\n",
       "      <td>0</td>\n",
       "      <td>7.0</td>\n",
       "      <td>1</td>\n",
       "      <td>7.0</td>\n",
       "      <td>1.0</td>\n",
       "    </tr>\n",
       "  </tbody>\n",
       "</table>\n",
       "</div>"
      ],
      "text/plain": [
       "         Date   roam  g_confirmed  g_deaths  g_recovered  g_dayconfirmed  \\\n",
       "0  2020-01-23  21559          654        18           30            99.0   \n",
       "1  2020-01-26  26214         2118        56           52           684.0   \n",
       "2  2020-01-27  32114         2927        82           61           809.0   \n",
       "3  2020-01-30  20240         8234       171          143          2068.0   \n",
       "4  2020-01-31  21728         9927       213          222          1693.0   \n",
       "\n",
       "   g_daydeaths  g_dayrecovered  k_confirmed  k_deaths  k_recoverd  \\\n",
       "0          1.0             2.0            1         0           0   \n",
       "1         14.0            13.0            3         0           0   \n",
       "2         26.0             9.0            4         0           0   \n",
       "3         38.0            17.0            4         0           0   \n",
       "4         42.0            79.0           11         0           0   \n",
       "\n",
       "   k_dayconfirmed  k_day_osi_1  oversea_inflow  day_osi  \n",
       "0             0.0            1             1.0      NaN  \n",
       "1             1.0            1             3.0      2.0  \n",
       "2             1.0            1             4.0      1.0  \n",
       "3             0.0            2             6.0      2.0  \n",
       "4             7.0            1             7.0      1.0  "
      ]
     },
     "execution_count": 9,
     "metadata": {},
     "output_type": "execute_result"
    }
   ],
   "source": [
    "df_raw.head()"
   ]
  },
  {
   "cell_type": "markdown",
   "metadata": {},
   "source": [
    "# 2. Correlation Analysis"
   ]
  },
  {
   "cell_type": "code",
   "execution_count": 11,
   "metadata": {},
   "outputs": [
    {
     "data": {
      "image/png": "[encoded data removed]",
      "text/plain": [
       "<Figure size 432x288 with 2 Axes>"
      ]
     },
     "metadata": {
      "needs_background": "light"
     },
     "output_type": "display_data"
    }
   ],
   "source": [
    "sns.heatmap(df_raw.corr(),annot = True, cmap=\"RdYlGn_r\")\n",
    "plt.show()"
   ]
  },
  {
   "cell_type": "code",
   "execution_count": 12,
   "metadata": {},
   "outputs": [
    {
     "data": {
      "text/html": [
       "<div>\n",
       "<style scoped>\n",
       "    .dataframe tbody tr th:only-of-type {\n",
       "        vertical-align: middle;\n",
       "    }\n",
       "\n",
       "    .dataframe tbody tr th {\n",
       "        vertical-align: top;\n",
       "    }\n",
       "\n",
       "    .dataframe thead th {\n",
       "        text-align: right;\n",
       "    }\n",
       "</style>\n",
       "<table border=\"1\" class=\"dataframe\">\n",
       "  <thead>\n",
       "    <tr style=\"text-align: right;\">\n",
       "      <th></th>\n",
       "      <th>roam</th>\n",
       "      <th>g_confirmed</th>\n",
       "      <th>g_deaths</th>\n",
       "      <th>g_recovered</th>\n",
       "      <th>g_dayconfirmed</th>\n",
       "      <th>g_daydeaths</th>\n",
       "      <th>g_dayrecovered</th>\n",
       "      <th>k_confirmed</th>\n",
       "      <th>k_deaths</th>\n",
       "      <th>k_recoverd</th>\n",
       "      <th>k_dayconfirmed</th>\n",
       "      <th>k_day_osi_1</th>\n",
       "      <th>oversea_inflow</th>\n",
       "      <th>day_osi</th>\n",
       "    </tr>\n",
       "  </thead>\n",
       "  <tbody>\n",
       "    <tr>\n",
       "      <th>roam</th>\n",
       "      <td>1.000</td>\n",
       "      <td>-0.637</td>\n",
       "      <td>-0.600</td>\n",
       "      <td>-0.847</td>\n",
       "      <td>-0.587</td>\n",
       "      <td>-0.573</td>\n",
       "      <td>-0.572</td>\n",
       "      <td>-0.933</td>\n",
       "      <td>-0.816</td>\n",
       "      <td>-0.577</td>\n",
       "      <td>-0.208</td>\n",
       "      <td>-0.514</td>\n",
       "      <td>-0.518</td>\n",
       "      <td>-0.454</td>\n",
       "    </tr>\n",
       "    <tr>\n",
       "      <th>g_confirmed</th>\n",
       "      <td>-0.637</td>\n",
       "      <td>1.000</td>\n",
       "      <td>0.998</td>\n",
       "      <td>0.935</td>\n",
       "      <td>0.974</td>\n",
       "      <td>0.988</td>\n",
       "      <td>0.913</td>\n",
       "      <td>0.728</td>\n",
       "      <td>0.930</td>\n",
       "      <td>0.981</td>\n",
       "      <td>-0.078</td>\n",
       "      <td>0.914</td>\n",
       "      <td>0.981</td>\n",
       "      <td>0.902</td>\n",
       "    </tr>\n",
       "    <tr>\n",
       "      <th>g_deaths</th>\n",
       "      <td>-0.600</td>\n",
       "      <td>0.998</td>\n",
       "      <td>1.000</td>\n",
       "      <td>0.920</td>\n",
       "      <td>0.971</td>\n",
       "      <td>0.989</td>\n",
       "      <td>0.914</td>\n",
       "      <td>0.698</td>\n",
       "      <td>0.913</td>\n",
       "      <td>0.980</td>\n",
       "      <td>-0.092</td>\n",
       "      <td>0.914</td>\n",
       "      <td>0.988</td>\n",
       "      <td>0.904</td>\n",
       "    </tr>\n",
       "    <tr>\n",
       "      <th>g_recovered</th>\n",
       "      <td>-0.847</td>\n",
       "      <td>0.935</td>\n",
       "      <td>0.920</td>\n",
       "      <td>1.000</td>\n",
       "      <td>0.894</td>\n",
       "      <td>0.900</td>\n",
       "      <td>0.850</td>\n",
       "      <td>0.915</td>\n",
       "      <td>0.983</td>\n",
       "      <td>0.896</td>\n",
       "      <td>0.039</td>\n",
       "      <td>0.821</td>\n",
       "      <td>0.869</td>\n",
       "      <td>0.785</td>\n",
       "    </tr>\n",
       "    <tr>\n",
       "      <th>g_dayconfirmed</th>\n",
       "      <td>-0.587</td>\n",
       "      <td>0.974</td>\n",
       "      <td>0.971</td>\n",
       "      <td>0.894</td>\n",
       "      <td>1.000</td>\n",
       "      <td>0.992</td>\n",
       "      <td>0.845</td>\n",
       "      <td>0.702</td>\n",
       "      <td>0.920</td>\n",
       "      <td>0.985</td>\n",
       "      <td>-0.169</td>\n",
       "      <td>0.926</td>\n",
       "      <td>0.943</td>\n",
       "      <td>0.908</td>\n",
       "    </tr>\n",
       "    <tr>\n",
       "      <th>g_daydeaths</th>\n",
       "      <td>-0.573</td>\n",
       "      <td>0.988</td>\n",
       "      <td>0.989</td>\n",
       "      <td>0.900</td>\n",
       "      <td>0.992</td>\n",
       "      <td>1.000</td>\n",
       "      <td>0.883</td>\n",
       "      <td>0.686</td>\n",
       "      <td>0.913</td>\n",
       "      <td>0.986</td>\n",
       "      <td>-0.155</td>\n",
       "      <td>0.929</td>\n",
       "      <td>0.969</td>\n",
       "      <td>0.905</td>\n",
       "    </tr>\n",
       "    <tr>\n",
       "      <th>g_dayrecovered</th>\n",
       "      <td>-0.572</td>\n",
       "      <td>0.913</td>\n",
       "      <td>0.914</td>\n",
       "      <td>0.850</td>\n",
       "      <td>0.845</td>\n",
       "      <td>0.883</td>\n",
       "      <td>1.000</td>\n",
       "      <td>0.620</td>\n",
       "      <td>0.810</td>\n",
       "      <td>0.878</td>\n",
       "      <td>0.090</td>\n",
       "      <td>0.801</td>\n",
       "      <td>0.916</td>\n",
       "      <td>0.819</td>\n",
       "    </tr>\n",
       "    <tr>\n",
       "      <th>k_confirmed</th>\n",
       "      <td>-0.933</td>\n",
       "      <td>0.728</td>\n",
       "      <td>0.698</td>\n",
       "      <td>0.915</td>\n",
       "      <td>0.702</td>\n",
       "      <td>0.686</td>\n",
       "      <td>0.620</td>\n",
       "      <td>1.000</td>\n",
       "      <td>0.916</td>\n",
       "      <td>0.692</td>\n",
       "      <td>0.058</td>\n",
       "      <td>0.614</td>\n",
       "      <td>0.613</td>\n",
       "      <td>0.553</td>\n",
       "    </tr>\n",
       "    <tr>\n",
       "      <th>k_deaths</th>\n",
       "      <td>-0.816</td>\n",
       "      <td>0.930</td>\n",
       "      <td>0.913</td>\n",
       "      <td>0.983</td>\n",
       "      <td>0.920</td>\n",
       "      <td>0.913</td>\n",
       "      <td>0.810</td>\n",
       "      <td>0.916</td>\n",
       "      <td>1.000</td>\n",
       "      <td>0.918</td>\n",
       "      <td>-0.092</td>\n",
       "      <td>0.834</td>\n",
       "      <td>0.852</td>\n",
       "      <td>0.801</td>\n",
       "    </tr>\n",
       "    <tr>\n",
       "      <th>k_recoverd</th>\n",
       "      <td>-0.577</td>\n",
       "      <td>0.981</td>\n",
       "      <td>0.980</td>\n",
       "      <td>0.896</td>\n",
       "      <td>0.985</td>\n",
       "      <td>0.986</td>\n",
       "      <td>0.878</td>\n",
       "      <td>0.692</td>\n",
       "      <td>0.918</td>\n",
       "      <td>1.000</td>\n",
       "      <td>-0.162</td>\n",
       "      <td>0.927</td>\n",
       "      <td>0.955</td>\n",
       "      <td>0.915</td>\n",
       "    </tr>\n",
       "    <tr>\n",
       "      <th>k_dayconfirmed</th>\n",
       "      <td>-0.208</td>\n",
       "      <td>-0.078</td>\n",
       "      <td>-0.092</td>\n",
       "      <td>0.039</td>\n",
       "      <td>-0.169</td>\n",
       "      <td>-0.155</td>\n",
       "      <td>0.090</td>\n",
       "      <td>0.058</td>\n",
       "      <td>-0.092</td>\n",
       "      <td>-0.162</td>\n",
       "      <td>1.000</td>\n",
       "      <td>-0.136</td>\n",
       "      <td>-0.085</td>\n",
       "      <td>-0.160</td>\n",
       "    </tr>\n",
       "    <tr>\n",
       "      <th>k_day_osi_1</th>\n",
       "      <td>-0.514</td>\n",
       "      <td>0.914</td>\n",
       "      <td>0.914</td>\n",
       "      <td>0.821</td>\n",
       "      <td>0.926</td>\n",
       "      <td>0.929</td>\n",
       "      <td>0.801</td>\n",
       "      <td>0.614</td>\n",
       "      <td>0.834</td>\n",
       "      <td>0.927</td>\n",
       "      <td>-0.136</td>\n",
       "      <td>1.000</td>\n",
       "      <td>0.895</td>\n",
       "      <td>0.841</td>\n",
       "    </tr>\n",
       "    <tr>\n",
       "      <th>oversea_inflow</th>\n",
       "      <td>-0.518</td>\n",
       "      <td>0.981</td>\n",
       "      <td>0.988</td>\n",
       "      <td>0.869</td>\n",
       "      <td>0.943</td>\n",
       "      <td>0.969</td>\n",
       "      <td>0.916</td>\n",
       "      <td>0.613</td>\n",
       "      <td>0.852</td>\n",
       "      <td>0.955</td>\n",
       "      <td>-0.085</td>\n",
       "      <td>0.895</td>\n",
       "      <td>1.000</td>\n",
       "      <td>0.906</td>\n",
       "    </tr>\n",
       "    <tr>\n",
       "      <th>day_osi</th>\n",
       "      <td>-0.454</td>\n",
       "      <td>0.902</td>\n",
       "      <td>0.904</td>\n",
       "      <td>0.785</td>\n",
       "      <td>0.908</td>\n",
       "      <td>0.905</td>\n",
       "      <td>0.819</td>\n",
       "      <td>0.553</td>\n",
       "      <td>0.801</td>\n",
       "      <td>0.915</td>\n",
       "      <td>-0.160</td>\n",
       "      <td>0.841</td>\n",
       "      <td>0.906</td>\n",
       "      <td>1.000</td>\n",
       "    </tr>\n",
       "  </tbody>\n",
       "</table>\n",
       "</div>"
      ],
      "text/plain": [
       "                 roam  g_confirmed  g_deaths  g_recovered  g_dayconfirmed  \\\n",
       "roam            1.000       -0.637    -0.600       -0.847          -0.587   \n",
       "g_confirmed    -0.637        1.000     0.998        0.935           0.974   \n",
       "g_deaths       -0.600        0.998     1.000        0.920           0.971   \n",
       "g_recovered    -0.847        0.935     0.920        1.000           0.894   \n",
       "g_dayconfirmed -0.587        0.974     0.971        0.894           1.000   \n",
       "g_daydeaths    -0.573        0.988     0.989        0.900           0.992   \n",
       "g_dayrecovered -0.572        0.913     0.914        0.850           0.845   \n",
       "k_confirmed    -0.933        0.728     0.698        0.915           0.702   \n",
       "k_deaths       -0.816        0.930     0.913        0.983           0.920   \n",
       "k_recoverd     -0.577        0.981     0.980        0.896           0.985   \n",
       "k_dayconfirmed -0.208       -0.078    -0.092        0.039          -0.169   \n",
       "k_day_osi_1    -0.514        0.914     0.914        0.821           0.926   \n",
       "oversea_inflow -0.518        0.981     0.988        0.869           0.943   \n",
       "day_osi        -0.454        0.902     0.904        0.785           0.908   \n",
       "\n",
       "                g_daydeaths  g_dayrecovered  k_confirmed  k_deaths  \\\n",
       "roam                 -0.573          -0.572       -0.933    -0.816   \n",
       "g_confirmed           0.988           0.913        0.728     0.930   \n",
       "g_deaths              0.989           0.914        0.698     0.913   \n",
       "g_recovered           0.900           0.850        0.915     0.983   \n",
       "g_dayconfirmed        0.992           0.845        0.702     0.920   \n",
       "g_daydeaths           1.000           0.883        0.686     0.913   \n",
       "g_dayrecovered        0.883           1.000        0.620     0.810   \n",
       "k_confirmed           0.686           0.620        1.000     0.916   \n",
       "k_deaths              0.913           0.810        0.916     1.000   \n",
       "k_recoverd            0.986           0.878        0.692     0.918   \n",
       "k_dayconfirmed       -0.155           0.090        0.058    -0.092   \n",
       "k_day_osi_1           0.929           0.801        0.614     0.834   \n",
       "oversea_inflow        0.969           0.916        0.613     0.852   \n",
       "day_osi               0.905           0.819        0.553     0.801   \n",
       "\n",
       "                k_recoverd  k_dayconfirmed  k_day_osi_1  oversea_inflow  \\\n",
       "roam                -0.577          -0.208       -0.514          -0.518   \n",
       "g_confirmed          0.981          -0.078        0.914           0.981   \n",
       "g_deaths             0.980          -0.092        0.914           0.988   \n",
       "g_recovered          0.896           0.039        0.821           0.869   \n",
       "g_dayconfirmed       0.985          -0.169        0.926           0.943   \n",
       "g_daydeaths          0.986          -0.155        0.929           0.969   \n",
       "g_dayrecovered       0.878           0.090        0.801           0.916   \n",
       "k_confirmed          0.692           0.058        0.614           0.613   \n",
       "k_deaths             0.918          -0.092        0.834           0.852   \n",
       "k_recoverd           1.000          -0.162        0.927           0.955   \n",
       "k_dayconfirmed      -0.162           1.000       -0.136          -0.085   \n",
       "k_day_osi_1          0.927          -0.136        1.000           0.895   \n",
       "oversea_inflow       0.955          -0.085        0.895           1.000   \n",
       "day_osi              0.915          -0.160        0.841           0.906   \n",
       "\n",
       "                day_osi  \n",
       "roam             -0.454  \n",
       "g_confirmed       0.902  \n",
       "g_deaths          0.904  \n",
       "g_recovered       0.785  \n",
       "g_dayconfirmed    0.908  \n",
       "g_daydeaths       0.905  \n",
       "g_dayrecovered    0.819  \n",
       "k_confirmed       0.553  \n",
       "k_deaths          0.801  \n",
       "k_recoverd        0.915  \n",
       "k_dayconfirmed   -0.160  \n",
       "k_day_osi_1       0.841  \n",
       "oversea_inflow    0.906  \n",
       "day_osi           1.000  "
      ]
     },
     "execution_count": 12,
     "metadata": {},
     "output_type": "execute_result"
    }
   ],
   "source": [
    "# 상관관계 분석\n",
    "df_raw.corr().round(3)"
   ]
  },
  {
   "cell_type": "markdown",
   "metadata": {},
   "source": [
    "# 3. Create Regression Baseline Model"
   ]
  },
  {
   "cell_type": "markdown",
   "metadata": {},
   "source": [
    "## 3-1) smf ols model"
   ]
  },
  {
   "cell_type": "code",
   "execution_count": 13,
   "metadata": {},
   "outputs": [
    {
     "data": {
      "text/plain": [
       "Index(['Date', 'roam', 'g_confirmed', 'g_deaths', 'g_recovered',\n",
       "       'g_dayconfirmed', 'g_daydeaths', 'g_dayrecovered', 'k_confirmed',\n",
       "       'k_deaths', 'k_recoverd', 'k_dayconfirmed', 'k_day_osi_1',\n",
       "       'oversea_inflow', 'day_osi'],\n",
       "      dtype='object')"
      ]
     },
     "execution_count": 13,
     "metadata": {},
     "output_type": "execute_result"
    }
   ],
   "source": [
    "df_raw.columns"
   ]
  },
  {
   "cell_type": "code",
   "execution_count": 14,
   "metadata": {},
   "outputs": [],
   "source": [
    "df = df_raw.set_index('Date')"
   ]
  },
  {
   "cell_type": "code",
   "execution_count": 17,
   "metadata": {},
   "outputs": [
    {
     "data": {
      "text/plain": [
       "['roam',\n",
       " 'g_confirmed',\n",
       " 'g_deaths',\n",
       " 'g_recovered',\n",
       " 'g_dayconfirmed',\n",
       " 'g_daydeaths',\n",
       " 'g_dayrecovered',\n",
       " 'k_confirmed',\n",
       " 'k_deaths',\n",
       " 'k_recoverd',\n",
       " 'k_dayconfirmed',\n",
       " 'k_day_osi_1',\n",
       " 'oversea_inflow',\n",
       " 'day_osi']"
      ]
     },
     "execution_count": 17,
     "metadata": {},
     "output_type": "execute_result"
    }
   ],
   "source": [
    "df_cols = list(df.columns); df_cols"
   ]
  },
  {
   "cell_type": "code",
   "execution_count": 27,
   "metadata": {},
   "outputs": [
    {
     "data": {
      "text/plain": [
       "'roam+g_confirmed+g_deaths+g_recovered+g_dayconfirmed+g_daydeaths+g_dayrecovered+k_confirmed+k_deaths+k_recoverd+k_dayconfirmed+k_day_osi_1'"
      ]
     },
     "execution_count": 27,
     "metadata": {},
     "output_type": "execute_result"
    }
   ],
   "source": [
    "x_list = df_cols[:-2]\n",
    "x_cols = \"\"\n",
    "for i in range(len(x_list)):\n",
    "    if i == len(x_list)-1:\n",
    "        x_cols += str(x_list[i])\n",
    "    else:\n",
    "        x_cols += str(x_list[i]) + '+'\n",
    "    \n",
    "x_cols"
   ]
  },
  {
   "cell_type": "code",
   "execution_count": 28,
   "metadata": {},
   "outputs": [],
   "source": [
    "# 선형회귀분석\n",
    "\n",
    "reg_model = smf.ols(formula = 'day_osi ~ {}'.format(x_cols), data = df)"
   ]
  },
  {
   "cell_type": "code",
   "execution_count": 29,
   "metadata": {},
   "outputs": [
    {
     "name": "stdout",
     "output_type": "stream",
     "text": [
      "                            OLS Regression Results                            \n",
      "==============================================================================\n",
      "Dep. Variable:                day_osi   R-squared:                       0.876\n",
      "Model:                            OLS   Adj. R-squared:                  0.826\n",
      "Method:                 Least Squares   F-statistic:                     17.61\n",
      "Date:                Tue, 28 Apr 2020   Prob (F-statistic):           2.19e-10\n",
      "Time:                        18:11:11   Log-Likelihood:                -141.45\n",
      "No. Observations:                  43   AIC:                             308.9\n",
      "Df Residuals:                      30   BIC:                             331.8\n",
      "Df Model:                          12                                         \n",
      "Covariance Type:            nonrobust                                         \n",
      "==================================================================================\n",
      "                     coef    std err          t      P>|t|      [0.025      0.975]\n",
      "----------------------------------------------------------------------------------\n",
      "Intercept         -4.8972     16.263     -0.301      0.765     -38.111      28.317\n",
      "roam               0.0001      0.001      0.225      0.823      -0.001       0.001\n",
      "g_confirmed        0.0001      0.000      0.368      0.716      -0.001       0.001\n",
      "g_deaths           0.0007      0.006      0.118      0.907      -0.011       0.012\n",
      "g_recovered       -0.0003      0.000     -0.551      0.586      -0.001       0.001\n",
      "g_dayconfirmed     0.0014      0.001      1.675      0.104      -0.000       0.003\n",
      "g_daydeaths       -0.0357      0.020     -1.817      0.079      -0.076       0.004\n",
      "g_dayrecovered     0.0011      0.001      1.035      0.309      -0.001       0.003\n",
      "k_confirmed       -0.0010      0.004     -0.278      0.783      -0.008       0.006\n",
      "k_deaths           0.2196      0.425      0.516      0.609      -0.649       1.088\n",
      "k_recoverd        -0.0005      0.007     -0.065      0.949      -0.015       0.014\n",
      "k_dayconfirmed    -0.0005      0.012     -0.044      0.965      -0.025       0.024\n",
      "k_day_osi_1       -0.0192      0.309     -0.062      0.951      -0.651       0.612\n",
      "==============================================================================\n",
      "Omnibus:                       23.280   Durbin-Watson:                   2.200\n",
      "Prob(Omnibus):                  0.000   Jarque-Bera (JB):               66.494\n",
      "Skew:                           1.202   Prob(JB):                     3.64e-15\n",
      "Kurtosis:                       8.598   Cond. No.                     4.41e+06\n",
      "==============================================================================\n",
      "\n",
      "Warnings:\n",
      "[1] Standard Errors assume that the covariance matrix of the errors is correctly specified.\n",
      "[2] The condition number is large, 4.41e+06. This might indicate that there are\n",
      "strong multicollinearity or other numerical problems.\n"
     ]
    }
   ],
   "source": [
    "# 적합 \n",
    "reg_result = reg_model.fit()\n",
    "print(reg_result.summary())"
   ]
  },
  {
   "cell_type": "markdown",
   "metadata": {},
   "source": [
    "## 3-2) scikit-learn model"
   ]
  },
  {
   "cell_type": "code",
   "execution_count": 34,
   "metadata": {},
   "outputs": [],
   "source": [
    "train = df[x_list]"
   ]
  },
  {
   "cell_type": "code",
   "execution_count": 35,
   "metadata": {},
   "outputs": [],
   "source": [
    "test = df['day_osi']"
   ]
  },
  {
   "cell_type": "code",
   "execution_count": 43,
   "metadata": {},
   "outputs": [],
   "source": [
    "# 30일을 train 14일을 test\n",
    "train = df[:-14]\n",
    "test = df[-14:]"
   ]
  },
  {
   "cell_type": "code",
   "execution_count": 45,
   "metadata": {},
   "outputs": [
    {
     "name": "stdout",
     "output_type": "stream",
     "text": [
      "(30, 12)\n",
      "(14, 12)\n",
      "(30,)\n",
      "(14,)\n"
     ]
    }
   ],
   "source": [
    "X_train = train[x_list]\n",
    "X_test = test[x_list]\n",
    "\n",
    "lable_name = \"tradeprice_sido_n1\"\n",
    "Y_train = train['day_osi']\n",
    "Y_test = test['day_osi']\n",
    "\n",
    "\n",
    "print(X_train.shape)\n",
    "print(X_test.shape)\n",
    "print(Y_train.shape)\n",
    "print(Y_test.shape)"
   ]
  },
  {
   "cell_type": "code",
   "execution_count": 50,
   "metadata": {},
   "outputs": [],
   "source": [
    "df[df['day_osi'].isnull()] = 0"
   ]
  },
  {
   "cell_type": "code",
   "execution_count": 51,
   "metadata": {},
   "outputs": [
    {
     "name": "stdout",
     "output_type": "stream",
     "text": [
      "Linear Regression test file accuracy:-3.073157962822121\n"
     ]
    },
    {
     "data": {
      "text/plain": [
       "array([ 7.11833997e-05,  1.62294888e-04, -1.82566530e-03,  3.60180800e-04,\n",
       "       -5.50147807e-04,  1.71406138e-02, -5.16440569e-03, -1.74737365e-03,\n",
       "       -1.45967920e-01, -6.58403332e-03,  2.90458235e-03, -6.53469043e-02])"
      ]
     },
     "execution_count": 51,
     "metadata": {},
     "output_type": "execute_result"
    }
   ],
   "source": [
    "from sklearn.linear_model import LinearRegression\n",
    "\n",
    "\n",
    "lm = LinearRegression(fit_intercept=True, normalize=True, n_jobs=None)\n",
    "lm.fit(X_train, Y_train)\n",
    "accuracy = lm.score(X_test, Y_test)\n",
    "print(\"Linear Regression test file accuracy:\"+str(accuracy))\n",
    "\n",
    "lm.coef_"
   ]
  },
  {
   "cell_type": "markdown",
   "metadata": {},
   "source": [
    "# 4. Feature selection"
   ]
  },
  {
   "cell_type": "code",
   "execution_count": 32,
   "metadata": {},
   "outputs": [
    {
     "data": {
      "text/html": [
       "<div>\n",
       "<style scoped>\n",
       "    .dataframe tbody tr th:only-of-type {\n",
       "        vertical-align: middle;\n",
       "    }\n",
       "\n",
       "    .dataframe tbody tr th {\n",
       "        vertical-align: top;\n",
       "    }\n",
       "\n",
       "    .dataframe thead th {\n",
       "        text-align: right;\n",
       "    }\n",
       "</style>\n",
       "<table border=\"1\" class=\"dataframe\">\n",
       "  <thead>\n",
       "    <tr style=\"text-align: right;\">\n",
       "      <th></th>\n",
       "      <th>variable</th>\n",
       "      <th>VIF</th>\n",
       "    </tr>\n",
       "  </thead>\n",
       "  <tbody>\n",
       "    <tr>\n",
       "      <th>11</th>\n",
       "      <td>k_dayconfirmed</td>\n",
       "      <td>3.763</td>\n",
       "    </tr>\n",
       "    <tr>\n",
       "      <th>12</th>\n",
       "      <td>k_day_osi_1</td>\n",
       "      <td>8.676</td>\n",
       "    </tr>\n",
       "    <tr>\n",
       "      <th>7</th>\n",
       "      <td>g_dayrecovered</td>\n",
       "      <td>15.369</td>\n",
       "    </tr>\n",
       "    <tr>\n",
       "      <th>1</th>\n",
       "      <td>roam</td>\n",
       "      <td>20.972</td>\n",
       "    </tr>\n",
       "    <tr>\n",
       "      <th>10</th>\n",
       "      <td>k_recoverd</td>\n",
       "      <td>131.567</td>\n",
       "    </tr>\n",
       "    <tr>\n",
       "      <th>8</th>\n",
       "      <td>k_confirmed</td>\n",
       "      <td>168.360</td>\n",
       "    </tr>\n",
       "    <tr>\n",
       "      <th>0</th>\n",
       "      <td>const</td>\n",
       "      <td>176.781</td>\n",
       "    </tr>\n",
       "    <tr>\n",
       "      <th>5</th>\n",
       "      <td>g_dayconfirmed</td>\n",
       "      <td>415.598</td>\n",
       "    </tr>\n",
       "    <tr>\n",
       "      <th>4</th>\n",
       "      <td>g_recovered</td>\n",
       "      <td>421.629</td>\n",
       "    </tr>\n",
       "    <tr>\n",
       "      <th>9</th>\n",
       "      <td>k_deaths</td>\n",
       "      <td>475.366</td>\n",
       "    </tr>\n",
       "    <tr>\n",
       "      <th>13</th>\n",
       "      <td>oversea_inflow</td>\n",
       "      <td>492.627</td>\n",
       "    </tr>\n",
       "    <tr>\n",
       "      <th>6</th>\n",
       "      <td>g_daydeaths</td>\n",
       "      <td>843.915</td>\n",
       "    </tr>\n",
       "    <tr>\n",
       "      <th>2</th>\n",
       "      <td>g_confirmed</td>\n",
       "      <td>3344.949</td>\n",
       "    </tr>\n",
       "    <tr>\n",
       "      <th>3</th>\n",
       "      <td>g_deaths</td>\n",
       "      <td>6324.460</td>\n",
       "    </tr>\n",
       "  </tbody>\n",
       "</table>\n",
       "</div>"
      ],
      "text/plain": [
       "          variable       VIF\n",
       "11  k_dayconfirmed     3.763\n",
       "12     k_day_osi_1     8.676\n",
       "7   g_dayrecovered    15.369\n",
       "1             roam    20.972\n",
       "10      k_recoverd   131.567\n",
       "8      k_confirmed   168.360\n",
       "0            const   176.781\n",
       "5   g_dayconfirmed   415.598\n",
       "4      g_recovered   421.629\n",
       "9         k_deaths   475.366\n",
       "13  oversea_inflow   492.627\n",
       "6      g_daydeaths   843.915\n",
       "2      g_confirmed  3344.949\n",
       "3         g_deaths  6324.460"
      ]
     },
     "execution_count": 32,
     "metadata": {},
     "output_type": "execute_result"
    }
   ],
   "source": [
    "# 설명변수들 간의 다중공선성 확인\n",
    "df_x = df.drop(\"day_osi\", axis = 1)\n",
    "# statsmodels의 상수항 추가 함수 적용\n",
    "df_x_const = add_constant(df_x)\n",
    "# DataFrame으로 저장\n",
    "df_vif = pd.DataFrame()\n",
    "df_vif['variable'] = df_x_const.columns\n",
    "df_vif['VIF'] = [variance_inflation_factor(df_x_const.values,i) for i in range(df_x_const.shape[1])]\n",
    "# VIF 정렬\n",
    "df_vif.sort_values(\"VIF\", inplace = True)\n",
    "df_vif.round(3)"
   ]
  },
  {
   "cell_type": "code",
   "execution_count": 53,
   "metadata": {},
   "outputs": [
    {
     "data": {
      "text/html": [
       "<div>\n",
       "<style scoped>\n",
       "    .dataframe tbody tr th:only-of-type {\n",
       "        vertical-align: middle;\n",
       "    }\n",
       "\n",
       "    .dataframe tbody tr th {\n",
       "        vertical-align: top;\n",
       "    }\n",
       "\n",
       "    .dataframe thead th {\n",
       "        text-align: right;\n",
       "    }\n",
       "</style>\n",
       "<table border=\"1\" class=\"dataframe\">\n",
       "  <thead>\n",
       "    <tr style=\"text-align: right;\">\n",
       "      <th></th>\n",
       "      <th>features</th>\n",
       "      <th>coefficients</th>\n",
       "    </tr>\n",
       "  </thead>\n",
       "  <tbody>\n",
       "    <tr>\n",
       "      <th>8</th>\n",
       "      <td>k_deaths</td>\n",
       "      <td>-0.145968</td>\n",
       "    </tr>\n",
       "    <tr>\n",
       "      <th>11</th>\n",
       "      <td>k_day_osi_1</td>\n",
       "      <td>-0.065347</td>\n",
       "    </tr>\n",
       "    <tr>\n",
       "      <th>5</th>\n",
       "      <td>g_daydeaths</td>\n",
       "      <td>0.017141</td>\n",
       "    </tr>\n",
       "    <tr>\n",
       "      <th>9</th>\n",
       "      <td>k_recoverd</td>\n",
       "      <td>-0.006584</td>\n",
       "    </tr>\n",
       "    <tr>\n",
       "      <th>6</th>\n",
       "      <td>g_dayrecovered</td>\n",
       "      <td>-0.005164</td>\n",
       "    </tr>\n",
       "    <tr>\n",
       "      <th>10</th>\n",
       "      <td>k_dayconfirmed</td>\n",
       "      <td>0.002905</td>\n",
       "    </tr>\n",
       "    <tr>\n",
       "      <th>2</th>\n",
       "      <td>g_deaths</td>\n",
       "      <td>-0.001826</td>\n",
       "    </tr>\n",
       "    <tr>\n",
       "      <th>7</th>\n",
       "      <td>k_confirmed</td>\n",
       "      <td>-0.001747</td>\n",
       "    </tr>\n",
       "    <tr>\n",
       "      <th>4</th>\n",
       "      <td>g_dayconfirmed</td>\n",
       "      <td>-0.000550</td>\n",
       "    </tr>\n",
       "    <tr>\n",
       "      <th>3</th>\n",
       "      <td>g_recovered</td>\n",
       "      <td>0.000360</td>\n",
       "    </tr>\n",
       "    <tr>\n",
       "      <th>1</th>\n",
       "      <td>g_confirmed</td>\n",
       "      <td>0.000162</td>\n",
       "    </tr>\n",
       "    <tr>\n",
       "      <th>0</th>\n",
       "      <td>roam</td>\n",
       "      <td>0.000071</td>\n",
       "    </tr>\n",
       "  </tbody>\n",
       "</table>\n",
       "</div>"
      ],
      "text/plain": [
       "          features  coefficients\n",
       "8         k_deaths     -0.145968\n",
       "11     k_day_osi_1     -0.065347\n",
       "5      g_daydeaths      0.017141\n",
       "9       k_recoverd     -0.006584\n",
       "6   g_dayrecovered     -0.005164\n",
       "10  k_dayconfirmed      0.002905\n",
       "2         g_deaths     -0.001826\n",
       "7      k_confirmed     -0.001747\n",
       "4   g_dayconfirmed     -0.000550\n",
       "3      g_recovered      0.000360\n",
       "1      g_confirmed      0.000162\n",
       "0             roam      0.000071"
      ]
     },
     "execution_count": 53,
     "metadata": {},
     "output_type": "execute_result"
    }
   ],
   "source": [
    "coefs = pd.DataFrame(zip(X_train.columns,lm.coef_), columns = ['features', 'coefficients'])\n",
    "\n",
    "\n",
    "coefs.reindex(coefs.coefficients.abs().sort_values(ascending=False).index)"
   ]
  },
  {
   "cell_type": "markdown",
   "metadata": {},
   "source": [
    "# 5. Result"
   ]
  },
  {
   "cell_type": "code",
   "execution_count": 66,
   "metadata": {},
   "outputs": [
    {
     "data": {
      "text/plain": [
       "Index(['2020-03-18', '2020-03-19', '2020-03-20', '2020-03-21', '2020-03-22',\n",
       "       '2020-03-23', '2020-03-24', '2020-03-25', '2020-03-26', '2020-03-27',\n",
       "       '2020-03-28', '2020-03-29', '2020-03-30', '2020-03-31'],\n",
       "      dtype='object', name='Date')"
      ]
     },
     "execution_count": 66,
     "metadata": {},
     "output_type": "execute_result"
    }
   ],
   "source": [
    "df[-14:].index"
   ]
  },
  {
   "cell_type": "code",
   "execution_count": 82,
   "metadata": {},
   "outputs": [
    {
     "data": {
      "text/plain": [
       "<matplotlib.legend.Legend at 0x203b8493c48>"
      ]
     },
     "execution_count": 82,
     "metadata": {},
     "output_type": "execute_result"
    },
    {
     "data": {
      "image/png": "[encoded data removed]",
      "text/plain": [
       "<Figure size 1440x432 with 1 Axes>"
      ]
     },
     "metadata": {
      "needs_background": "light"
     },
     "output_type": "display_data"
    }
   ],
   "source": [
    "%matplotlib inline\n",
    "import matplotlib.pyplot as plt\n",
    "\n",
    "\n",
    "Y_pred = lm.predict(X_test)\n",
    "\n",
    "plt.figure(figsize=(20,6))\n",
    "plt.xticks(rotation=90)\n",
    "plt.plot(df['day_osi'])\n",
    "plt.plot(Y_test, label='Real')\n",
    "plt.plot(list(df[-14:].index), Y_pred, label='Predict')\n",
    "plt.legend()"
   ]
  },
  {
   "cell_type": "code",
   "execution_count": 81,
   "metadata": {},
   "outputs": [
    {
     "data": {
      "image/png": "[encoded data removed]",
      "text/plain": [
       "<Figure size 864x432 with 1 Axes>"
      ]
     },
     "metadata": {
      "needs_background": "light"
     },
     "output_type": "display_data"
    }
   ],
   "source": [
    "plt.figure(figsize=(12,6))\n",
    "plt.plot(Y_test, '--', label='Real')\n",
    "plt.plot(Y_pred, label='Predict')\n",
    "plt.xticks(rotation=45)\n",
    "plt.legend()\n",
    "plt.grid(axis='y')"
   ]
  }
 ],
 "metadata": {
  "kernelspec": {
   "display_name": "Python 3",
   "language": "python",
   "name": "python3"
  },
  "language_info": {
   "codemirror_mode": {
    "name": "ipython",
    "version": 3
   },
   "file_extension": ".py",
   "mimetype": "text/x-python",
   "name": "python",
   "nbconvert_exporter": "python",
   "pygments_lexer": "ipython3",
   "version": "3.7.6"
  }
 },
 "nbformat": 4,
 "nbformat_minor": 4
}
