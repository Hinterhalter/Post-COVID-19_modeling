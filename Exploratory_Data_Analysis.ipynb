{
 "cells": [
  {
   "cell_type": "markdown",
   "metadata": {},
   "source": [
    "# __Exploratory Data Analysis__"
   ]
  },
  {
   "cell_type": "code",
   "execution_count": 82,
   "metadata": {},
   "outputs": [],
   "source": [
    "import pandas as pd\n",
    "import numpy as np\n",
    "import matplotlib.pyplot as plt\n",
    "%matplotlib inline\n",
    "import seaborn as sns\n",
    "\n",
    "from matplotlib import font_manager, rc\n",
    "font_name = font_manager.FontProperties(fname=\"c:/Windows/Fonts/malgun.ttf\").get_name()\n",
    "rc('font', family=font_name)"
   ]
  },
  {
   "cell_type": "markdown",
   "metadata": {},
   "source": [
    "# 1. Roaming_data\n",
    "|컬럼명|컬럼한국명|컬럼설명|샘플|\n",
    "|:-----:|:-----:|:------|:------:|\n",
    "return|귀국일|로밍 여행자가 한국에 귀국한 날짜|20200131\n",
    "iso |국가코드|2자리 국가코드|us\n",
    "arrival |입국일|iso 국가에 도착한 날짜|20200125\n",
    "departure|출국일|iso 국가에서 떠난 날짜|20200127\n",
    "count|고객수|return 일자에 귀국한 로밍 고객 중 iso국가에 arrival에 도착해서 departure에 떠난 고객 수|3\n",
    "\n",
    "\n",
    "[국가코드 표](http://img.echosting.cafe24.com/guide/country_code_table.pdf)"
   ]
  },
  {
   "cell_type": "code",
   "execution_count": 5,
   "metadata": {},
   "outputs": [],
   "source": [
    "roam = pd.read_csv('./data/corona_contest_data_0406/2. Roaming_data.csv')"
   ]
  },
  {
   "cell_type": "code",
   "execution_count": 15,
   "metadata": {},
   "outputs": [
    {
     "data": {
      "text/html": [
       "<div>\n",
       "<style scoped>\n",
       "    .dataframe tbody tr th:only-of-type {\n",
       "        vertical-align: middle;\n",
       "    }\n",
       "\n",
       "    .dataframe tbody tr th {\n",
       "        vertical-align: top;\n",
       "    }\n",
       "\n",
       "    .dataframe thead th {\n",
       "        text-align: right;\n",
       "    }\n",
       "</style>\n",
       "<table border=\"1\" class=\"dataframe\">\n",
       "  <thead>\n",
       "    <tr style=\"text-align: right;\">\n",
       "      <th></th>\n",
       "      <th>return</th>\n",
       "      <th>iso</th>\n",
       "      <th>arrival</th>\n",
       "      <th>departure</th>\n",
       "      <th>count</th>\n",
       "    </tr>\n",
       "  </thead>\n",
       "  <tbody>\n",
       "    <tr>\n",
       "      <th>0</th>\n",
       "      <td>20200131</td>\n",
       "      <td>ad</td>\n",
       "      <td>20200130</td>\n",
       "      <td>20200130</td>\n",
       "      <td>3</td>\n",
       "    </tr>\n",
       "    <tr>\n",
       "      <th>1</th>\n",
       "      <td>20200131</td>\n",
       "      <td>ae</td>\n",
       "      <td>20191231</td>\n",
       "      <td>20200125</td>\n",
       "      <td>3</td>\n",
       "    </tr>\n",
       "    <tr>\n",
       "      <th>2</th>\n",
       "      <td>20200131</td>\n",
       "      <td>ae</td>\n",
       "      <td>20191231</td>\n",
       "      <td>20200131</td>\n",
       "      <td>3</td>\n",
       "    </tr>\n",
       "    <tr>\n",
       "      <th>3</th>\n",
       "      <td>20200131</td>\n",
       "      <td>ae</td>\n",
       "      <td>20200102</td>\n",
       "      <td>20200102</td>\n",
       "      <td>3</td>\n",
       "    </tr>\n",
       "    <tr>\n",
       "      <th>4</th>\n",
       "      <td>20200131</td>\n",
       "      <td>ae</td>\n",
       "      <td>20200104</td>\n",
       "      <td>20200131</td>\n",
       "      <td>3</td>\n",
       "    </tr>\n",
       "  </tbody>\n",
       "</table>\n",
       "</div>"
      ],
      "text/plain": [
       "     return iso   arrival  departure  count\n",
       "0  20200131  ad  20200130   20200130      3\n",
       "1  20200131  ae  20191231   20200125      3\n",
       "2  20200131  ae  20191231   20200131      3\n",
       "3  20200131  ae  20200102   20200102      3\n",
       "4  20200131  ae  20200104   20200131      3"
      ]
     },
     "execution_count": 15,
     "metadata": {},
     "output_type": "execute_result"
    }
   ],
   "source": [
    "roam.head(5)"
   ]
  },
  {
   "cell_type": "code",
   "execution_count": 17,
   "metadata": {},
   "outputs": [
    {
     "data": {
      "text/html": [
       "<div>\n",
       "<style scoped>\n",
       "    .dataframe tbody tr th:only-of-type {\n",
       "        vertical-align: middle;\n",
       "    }\n",
       "\n",
       "    .dataframe tbody tr th {\n",
       "        vertical-align: top;\n",
       "    }\n",
       "\n",
       "    .dataframe thead th {\n",
       "        text-align: right;\n",
       "    }\n",
       "</style>\n",
       "<table border=\"1\" class=\"dataframe\">\n",
       "  <thead>\n",
       "    <tr style=\"text-align: right;\">\n",
       "      <th></th>\n",
       "      <th>count</th>\n",
       "      <th>mean</th>\n",
       "      <th>std</th>\n",
       "      <th>min</th>\n",
       "      <th>25%</th>\n",
       "      <th>50%</th>\n",
       "      <th>75%</th>\n",
       "      <th>max</th>\n",
       "    </tr>\n",
       "  </thead>\n",
       "  <tbody>\n",
       "    <tr>\n",
       "      <th>return</th>\n",
       "      <td>212325.0</td>\n",
       "      <td>2.019772e+07</td>\n",
       "      <td>4000.485699</td>\n",
       "      <td>20191201.0</td>\n",
       "      <td>20191229.0</td>\n",
       "      <td>20200122.0</td>\n",
       "      <td>20200213.0</td>\n",
       "      <td>20200331.0</td>\n",
       "    </tr>\n",
       "    <tr>\n",
       "      <th>arrival</th>\n",
       "      <td>212325.0</td>\n",
       "      <td>2.019678e+07</td>\n",
       "      <td>4349.178082</td>\n",
       "      <td>20191031.0</td>\n",
       "      <td>20191220.0</td>\n",
       "      <td>20200112.0</td>\n",
       "      <td>20200204.0</td>\n",
       "      <td>20200331.0</td>\n",
       "    </tr>\n",
       "    <tr>\n",
       "      <th>departure</th>\n",
       "      <td>212325.0</td>\n",
       "      <td>2.019713e+07</td>\n",
       "      <td>4247.698404</td>\n",
       "      <td>20191031.0</td>\n",
       "      <td>20191223.0</td>\n",
       "      <td>20200115.0</td>\n",
       "      <td>20200207.0</td>\n",
       "      <td>20200331.0</td>\n",
       "    </tr>\n",
       "    <tr>\n",
       "      <th>count</th>\n",
       "      <td>212325.0</td>\n",
       "      <td>9.172853e+00</td>\n",
       "      <td>31.835063</td>\n",
       "      <td>3.0</td>\n",
       "      <td>3.0</td>\n",
       "      <td>3.0</td>\n",
       "      <td>5.0</td>\n",
       "      <td>1687.0</td>\n",
       "    </tr>\n",
       "  </tbody>\n",
       "</table>\n",
       "</div>"
      ],
      "text/plain": [
       "              count          mean          std         min         25%  \\\n",
       "return     212325.0  2.019772e+07  4000.485699  20191201.0  20191229.0   \n",
       "arrival    212325.0  2.019678e+07  4349.178082  20191031.0  20191220.0   \n",
       "departure  212325.0  2.019713e+07  4247.698404  20191031.0  20191223.0   \n",
       "count      212325.0  9.172853e+00    31.835063         3.0         3.0   \n",
       "\n",
       "                  50%         75%         max  \n",
       "return     20200122.0  20200213.0  20200331.0  \n",
       "arrival    20200112.0  20200204.0  20200331.0  \n",
       "departure  20200115.0  20200207.0  20200331.0  \n",
       "count             3.0         5.0      1687.0  "
      ]
     },
     "execution_count": 17,
     "metadata": {},
     "output_type": "execute_result"
    }
   ],
   "source": [
    "roam.describe().T"
   ]
  },
  {
   "cell_type": "code",
   "execution_count": 20,
   "metadata": {},
   "outputs": [
    {
     "data": {
      "text/plain": [
       "<matplotlib.axes._subplots.AxesSubplot at 0x1cb40a8af28>"
      ]
     },
     "execution_count": 20,
     "metadata": {},
     "output_type": "execute_result"
    },
    {
     "data": {
      "image/png": "[encoded data removed]",
      "text/plain": [
       "<Figure size 432x288 with 1 Axes>"
      ]
     },
     "metadata": {
      "needs_background": "light"
     },
     "output_type": "display_data"
    }
   ],
   "source": [
    "sns.distplot(roam['count'])"
   ]
  },
  {
   "cell_type": "code",
   "execution_count": 41,
   "metadata": {},
   "outputs": [
    {
     "name": "stdout",
     "output_type": "stream",
     "text": [
      "국가 코드 값\n",
      " ['ad' 'ae' 'af' 'am' 'ao' 'ar' 'at' 'au' 'az' 'ba' 'bd' 'be' 'bg' 'bh'\n",
      " 'bn' 'bo' 'br' 'bw' 'by' 'ca' 'ch' 'cl' 'cn' 'co' 'cy' 'cz' 'de' 'dk'\n",
      " 'dz' 'ec' 'ee' 'eg' 'es' 'et' 'fi' 'fj' 'fr' 'ga' 'gb' 'ge' 'gh' 'gr'\n",
      " 'gu' 'hk' 'hr' 'ht' 'hu' 'id' 'ie' 'il' 'in' 'iq' 'ir' 'it' 'jm' 'jo'\n",
      " 'jp' 'ke' 'kg' 'kh' 'kw' 'kz' 'la' 'lk' 'ls' 'lt' 'lu' 'lv' 'ma' 'mc'\n",
      " 'me' 'mk' 'mm' 'mn' 'mo' 'mp' 'mt' 'mu' 'mv' 'mx' 'my' 'mz' nan 'na' 'ng'\n",
      " 'ni' 'nl' 'no' 'np' 'nz' 'om' 'pa' 'pe' 'pg' 'ph' 'pk' 'pl' 'ps' 'pt'\n",
      " 'py' 'qa' 'ro' 'rs' 'ru' 'rw' 'sa' 'sc' 'sd' 'se' 'sg' 'si' 'sk' 'sr'\n",
      " 'sv' 'th' 'tm' 'tr' 'tw' 'tz' 'ug' 'us' 'uy' 'uz' 'vn' 'za' 'zm' 'zw'\n",
      " 'al' 'bz' 'cr' 'gt' 'hn' 'is' 'lb' 'md' 'tk' 'ua' 'li' 'mg' 'an' 'do'\n",
      " 'pr' 'to' 'tt' 'cm' 'pf' 'tg' 'tn' 'vu' 'bj' 'bt' 'cd' 'ci' 'tl' 'tp'\n",
      " 'gn' 'lr' 'mr' 'mw' 'ky' 'td' 'cf' 'ne' 're' 'tc' 'ml' 'ly' 'sl' 'bf'\n",
      " 'gq' 'cv' 'gm' 'ye' 'ws']\n",
      "\n",
      "총 갯수 :  174\n"
     ]
    }
   ],
   "source": [
    "# 국가 총 갯수\n",
    "\n",
    "print('국가 코드 값\\n', roam['iso'].unique(), end='\\n')\n",
    "print('')\n",
    "print('총 갯수 : ', len(roam['iso'].unique()))"
   ]
  },
  {
   "cell_type": "code",
   "execution_count": 77,
   "metadata": {},
   "outputs": [
    {
     "data": {
      "text/plain": [
       "Text(0.5, 1.0, 'Top 30 Country')"
      ]
     },
     "execution_count": 77,
     "metadata": {},
     "output_type": "execute_result"
    },
    {
     "data": {
      "image/png": "[encoded data removed]",
      "text/plain": [
       "<Figure size 720x720 with 1 Axes>"
      ]
     },
     "metadata": {
      "needs_background": "light"
     },
     "output_type": "display_data"
    }
   ],
   "source": [
    "# 국가 별 데이터 분포\n",
    "\n",
    "tmp = roam.groupby(by='iso', as_index=True)['count'].sum().sort_values().head(30)\n",
    "tmp.plot(kind='barh', figsize=(10,10))\n",
    "plt.title('Top 30 Country')"
   ]
  },
  {
   "cell_type": "markdown",
   "metadata": {},
   "source": [
    "- 로밍 \n",
    "- 모잠비크, 기니, 트리니다드토바고, 수단, 케이맨섬"
   ]
  },
  {
   "cell_type": "code",
   "execution_count": 81,
   "metadata": {},
   "outputs": [
    {
     "data": {
      "text/plain": [
       "iso\n",
       "mz    60\n",
       "gn    54\n",
       "tt    54\n",
       "sd    51\n",
       "ky    51\n",
       "ci    48\n",
       "an    39\n",
       "tn    36\n",
       "ao    33\n",
       "md    30\n",
       "ga    27\n",
       "ls    26\n",
       "ne    24\n",
       "bj    24\n",
       "sl    24\n",
       "mr    18\n",
       "re    18\n",
       "mw    12\n",
       "ly     9\n",
       "bf     9\n",
       "gq     9\n",
       "tc     6\n",
       "gm     6\n",
       "td     6\n",
       "cv     3\n",
       "ml     3\n",
       "cf     3\n",
       "to     3\n",
       "ws     3\n",
       "ye     3\n",
       "Name: count, dtype: int64"
      ]
     },
     "execution_count": 81,
     "metadata": {},
     "output_type": "execute_result"
    }
   ],
   "source": [
    "tmp.sort_values(ascending=False)"
   ]
  },
  {
   "cell_type": "markdown",
   "metadata": {},
   "source": [
    "# 2. 감염병데이터\n",
    "\n",
    "|컬럼명|컬럼한국명|컬럼설명|샘플|\n",
    "|:-----:|:-----:|:------|:------:|\n",
    "파일명|파일명|파일리스트의 파일명과 일치|AFRO2019120200003\n",
    "제목|제목|기사의 제목|WHO supports Angola’s Government efforts to end polio outbreak\n",
    "URL|원문기사링크|해당 기사의 원문 링크|https://www.afro.who.int/news/who-supports-angolas-government-efforts-end-polio-outbreak\n",
    "수집일자|수집일자|KT 크롤링 시스템에 의해 기사가 수집된 날짜|2019-12-02 21:00:16.0\n",
    "게시일자|게시일자|원문 Site에 해당 기사가 게시된 날짜|2019-12-02 00:00:00\n",
    "채널명|채널명|기사가 게시된 Site의 이름|AFRO\n",
    "감염병명|감염병명|기사에 표기된 감염병의 이름|Poliomyelitis\n",
    "분류명|분류명|감염병의 분류(카테고리) 명|Viral\n"
   ]
  },
  {
   "cell_type": "code",
   "execution_count": 13,
   "metadata": {},
   "outputs": [],
   "source": [
    "news = pd.read_excel('./data/corona_contest_data_0406/3-1. NewsList.xls', sheet_name=\"List\")"
   ]
  },
  {
   "cell_type": "code",
   "execution_count": 14,
   "metadata": {},
   "outputs": [
    {
     "data": {
      "text/html": [
       "<div>\n",
       "<style scoped>\n",
       "    .dataframe tbody tr th:only-of-type {\n",
       "        vertical-align: middle;\n",
       "    }\n",
       "\n",
       "    .dataframe tbody tr th {\n",
       "        vertical-align: top;\n",
       "    }\n",
       "\n",
       "    .dataframe thead th {\n",
       "        text-align: right;\n",
       "    }\n",
       "</style>\n",
       "<table border=\"1\" class=\"dataframe\">\n",
       "  <thead>\n",
       "    <tr style=\"text-align: right;\">\n",
       "      <th></th>\n",
       "      <th>파일명</th>\n",
       "      <th>제목</th>\n",
       "      <th>URL</th>\n",
       "      <th>수집일자</th>\n",
       "      <th>게시일자</th>\n",
       "      <th>채널명</th>\n",
       "      <th>감염병명</th>\n",
       "      <th>분류명</th>\n",
       "    </tr>\n",
       "  </thead>\n",
       "  <tbody>\n",
       "    <tr>\n",
       "      <th>0</th>\n",
       "      <td>AFRO2019120200003</td>\n",
       "      <td>WHO supports Angola’s Government efforts to en...</td>\n",
       "      <td>https://www.afro.who.int/news/who-supports-ang...</td>\n",
       "      <td>2019-12-02 21:00:16.0</td>\n",
       "      <td>2019-12-02 00:00:00</td>\n",
       "      <td>AFRO</td>\n",
       "      <td>Poliomyelitis</td>\n",
       "      <td>Viral</td>\n",
       "    </tr>\n",
       "    <tr>\n",
       "      <th>1</th>\n",
       "      <td>AFRO2019120300001</td>\n",
       "      <td>African First Ladies laud progress against HIV...</td>\n",
       "      <td>https://www.afro.who.int/news/african-first-la...</td>\n",
       "      <td>2019-12-03 00:00:17.0</td>\n",
       "      <td>2019-12-02 00:00:00</td>\n",
       "      <td>AFRO</td>\n",
       "      <td>Acquired immuno deficiency syndrome</td>\n",
       "      <td>Viral</td>\n",
       "    </tr>\n",
       "    <tr>\n",
       "      <th>2</th>\n",
       "      <td>AFRO2019120300002</td>\n",
       "      <td>Eritrea Observed World AIDS Day 2019</td>\n",
       "      <td>https://www.afro.who.int/news/eritrea-observed...</td>\n",
       "      <td>2019-12-03 00:00:18.0</td>\n",
       "      <td>2019-12-02 00:00:00</td>\n",
       "      <td>AFRO</td>\n",
       "      <td>Acquired immuno deficiency syndrome</td>\n",
       "      <td>Viral</td>\n",
       "    </tr>\n",
       "    <tr>\n",
       "      <th>3</th>\n",
       "      <td>AFRO2019120400003</td>\n",
       "      <td>West and Central Africa Expands Access to HIV ...</td>\n",
       "      <td>https://www.afro.who.int/news/west-and-central...</td>\n",
       "      <td>2019-12-04 03:00:14.0</td>\n",
       "      <td>2019-12-03 00:00:00</td>\n",
       "      <td>AFRO</td>\n",
       "      <td>Acquired immuno deficiency syndrome</td>\n",
       "      <td>Viral</td>\n",
       "    </tr>\n",
       "    <tr>\n",
       "      <th>4</th>\n",
       "      <td>AFRO2019120400004</td>\n",
       "      <td>Nearly 23 million voluntary male medical circu...</td>\n",
       "      <td>https://www.afro.who.int/news/nearly-23-millio...</td>\n",
       "      <td>2019-12-04 22:00:14.0</td>\n",
       "      <td>2019-12-04 00:00:00</td>\n",
       "      <td>AFRO</td>\n",
       "      <td>Acquired immuno deficiency syndrome</td>\n",
       "      <td>Viral</td>\n",
       "    </tr>\n",
       "  </tbody>\n",
       "</table>\n",
       "</div>"
      ],
      "text/plain": [
       "                 파일명                                                 제목  \\\n",
       "0  AFRO2019120200003  WHO supports Angola’s Government efforts to en...   \n",
       "1  AFRO2019120300001  African First Ladies laud progress against HIV...   \n",
       "2  AFRO2019120300002               Eritrea Observed World AIDS Day 2019   \n",
       "3  AFRO2019120400003  West and Central Africa Expands Access to HIV ...   \n",
       "4  AFRO2019120400004  Nearly 23 million voluntary male medical circu...   \n",
       "\n",
       "                                                 URL                   수집일자  \\\n",
       "0  https://www.afro.who.int/news/who-supports-ang...  2019-12-02 21:00:16.0   \n",
       "1  https://www.afro.who.int/news/african-first-la...  2019-12-03 00:00:17.0   \n",
       "2  https://www.afro.who.int/news/eritrea-observed...  2019-12-03 00:00:18.0   \n",
       "3  https://www.afro.who.int/news/west-and-central...  2019-12-04 03:00:14.0   \n",
       "4  https://www.afro.who.int/news/nearly-23-millio...  2019-12-04 22:00:14.0   \n",
       "\n",
       "                  게시일자   채널명                                 감염병명    분류명  \n",
       "0  2019-12-02 00:00:00  AFRO                        Poliomyelitis  Viral  \n",
       "1  2019-12-02 00:00:00  AFRO  Acquired immuno deficiency syndrome  Viral  \n",
       "2  2019-12-02 00:00:00  AFRO  Acquired immuno deficiency syndrome  Viral  \n",
       "3  2019-12-03 00:00:00  AFRO  Acquired immuno deficiency syndrome  Viral  \n",
       "4  2019-12-04 00:00:00  AFRO  Acquired immuno deficiency syndrome  Viral  "
      ]
     },
     "execution_count": 14,
     "metadata": {},
     "output_type": "execute_result"
    }
   ],
   "source": [
    "news.head()"
   ]
  },
  {
   "cell_type": "code",
   "execution_count": null,
   "metadata": {},
   "outputs": [],
   "source": []
  }
 ],
 "metadata": {
  "kernelspec": {
   "display_name": "pytorch",
   "language": "python",
   "name": "pytorch"
  },
  "language_info": {
   "codemirror_mode": {
    "name": "ipython",
    "version": 3
   },
   "file_extension": ".py",
   "mimetype": "text/x-python",
   "name": "python",
   "nbconvert_exporter": "python",
   "pygments_lexer": "ipython3",
   "version": "3.6.9"
  }
 },
 "nbformat": 4,
 "nbformat_minor": 4
}
