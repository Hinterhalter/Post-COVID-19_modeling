{
 "cells": [
  {
   "cell_type": "markdown",
   "metadata": {},
   "source": [
    "# __Exploratory Data Analysis__"
   ]
  },
  {
   "cell_type": "code",
   "execution_count": 1,
   "metadata": {},
   "outputs": [],
   "source": [
    "import pandas as pd\n",
    "import numpy as np\n",
    "import matplotlib.pyplot as plt\n",
    "%matplotlib inline\n",
    "import seaborn as sns\n",
    "\n",
    "from matplotlib import font_manager, rc\n",
    "font_name = font_manager.FontProperties(fname=\"c:/Windows/Fonts/malgun.ttf\").get_name()\n",
    "rc('font', family=font_name)"
   ]
  },
  {
   "cell_type": "markdown",
   "metadata": {},
   "source": [
    "# 1. Roaming_data\n",
    "|컬럼명|컬럼한국명|컬럼설명|샘플|\n",
    "|:-----:|:-----:|:------|:------:|\n",
    "|return|귀국일|로밍 여행자가 한국에 귀국한 날짜|20200131|\n",
    "|iso |국가코드|2자리 국가코드|us|\n",
    "|arrival |입국일|iso 국가에 도착한 날짜|20200125|\n",
    "|departure|출국일|iso 국가에서 떠난 날짜|20200127|\n",
    "|count|고객수|return 일자에 귀국한 로밍 고객 중 iso국가에 arrival에 도착해서 departure에 떠난 고객 수|3|\n",
    "\n",
    "\n",
    "[국가코드 표](http://img.echosting.cafe24.com/guide/country_code_table.pdf)"
   ]
  },
  {
   "cell_type": "code",
   "execution_count": 11,
   "metadata": {},
   "outputs": [],
   "source": [
    "roam = pd.read_csv('./data/corona_contest_data_0406/2. Roaming_data.csv')"
   ]
  },
  {
   "cell_type": "code",
   "execution_count": 3,
   "metadata": {},
   "outputs": [
    {
     "data": {
      "text/html": [
       "<div>\n",
       "<style scoped>\n",
       "    .dataframe tbody tr th:only-of-type {\n",
       "        vertical-align: middle;\n",
       "    }\n",
       "\n",
       "    .dataframe tbody tr th {\n",
       "        vertical-align: top;\n",
       "    }\n",
       "\n",
       "    .dataframe thead th {\n",
       "        text-align: right;\n",
       "    }\n",
       "</style>\n",
       "<table border=\"1\" class=\"dataframe\">\n",
       "  <thead>\n",
       "    <tr style=\"text-align: right;\">\n",
       "      <th></th>\n",
       "      <th>return</th>\n",
       "      <th>iso</th>\n",
       "      <th>arrival</th>\n",
       "      <th>departure</th>\n",
       "      <th>count</th>\n",
       "    </tr>\n",
       "  </thead>\n",
       "  <tbody>\n",
       "    <tr>\n",
       "      <th>0</th>\n",
       "      <td>20200131</td>\n",
       "      <td>ad</td>\n",
       "      <td>20200130</td>\n",
       "      <td>20200130</td>\n",
       "      <td>3</td>\n",
       "    </tr>\n",
       "    <tr>\n",
       "      <th>1</th>\n",
       "      <td>20200131</td>\n",
       "      <td>ae</td>\n",
       "      <td>20191231</td>\n",
       "      <td>20200125</td>\n",
       "      <td>3</td>\n",
       "    </tr>\n",
       "    <tr>\n",
       "      <th>2</th>\n",
       "      <td>20200131</td>\n",
       "      <td>ae</td>\n",
       "      <td>20191231</td>\n",
       "      <td>20200131</td>\n",
       "      <td>3</td>\n",
       "    </tr>\n",
       "    <tr>\n",
       "      <th>3</th>\n",
       "      <td>20200131</td>\n",
       "      <td>ae</td>\n",
       "      <td>20200102</td>\n",
       "      <td>20200102</td>\n",
       "      <td>3</td>\n",
       "    </tr>\n",
       "    <tr>\n",
       "      <th>4</th>\n",
       "      <td>20200131</td>\n",
       "      <td>ae</td>\n",
       "      <td>20200104</td>\n",
       "      <td>20200131</td>\n",
       "      <td>3</td>\n",
       "    </tr>\n",
       "  </tbody>\n",
       "</table>\n",
       "</div>"
      ],
      "text/plain": [
       "     return iso   arrival  departure  count\n",
       "0  20200131  ad  20200130   20200130      3\n",
       "1  20200131  ae  20191231   20200125      3\n",
       "2  20200131  ae  20191231   20200131      3\n",
       "3  20200131  ae  20200102   20200102      3\n",
       "4  20200131  ae  20200104   20200131      3"
      ]
     },
     "execution_count": 3,
     "metadata": {},
     "output_type": "execute_result"
    }
   ],
   "source": [
    "roam.head(5)"
   ]
  },
  {
   "cell_type": "code",
   "execution_count": 4,
   "metadata": {},
   "outputs": [
    {
     "data": {
      "text/html": [
       "<div>\n",
       "<style scoped>\n",
       "    .dataframe tbody tr th:only-of-type {\n",
       "        vertical-align: middle;\n",
       "    }\n",
       "\n",
       "    .dataframe tbody tr th {\n",
       "        vertical-align: top;\n",
       "    }\n",
       "\n",
       "    .dataframe thead th {\n",
       "        text-align: right;\n",
       "    }\n",
       "</style>\n",
       "<table border=\"1\" class=\"dataframe\">\n",
       "  <thead>\n",
       "    <tr style=\"text-align: right;\">\n",
       "      <th></th>\n",
       "      <th>count</th>\n",
       "      <th>mean</th>\n",
       "      <th>std</th>\n",
       "      <th>min</th>\n",
       "      <th>25%</th>\n",
       "      <th>50%</th>\n",
       "      <th>75%</th>\n",
       "      <th>max</th>\n",
       "    </tr>\n",
       "  </thead>\n",
       "  <tbody>\n",
       "    <tr>\n",
       "      <th>return</th>\n",
       "      <td>212325.0</td>\n",
       "      <td>2.019772e+07</td>\n",
       "      <td>4000.485699</td>\n",
       "      <td>20191201.0</td>\n",
       "      <td>20191229.0</td>\n",
       "      <td>20200122.0</td>\n",
       "      <td>20200213.0</td>\n",
       "      <td>20200331.0</td>\n",
       "    </tr>\n",
       "    <tr>\n",
       "      <th>arrival</th>\n",
       "      <td>212325.0</td>\n",
       "      <td>2.019678e+07</td>\n",
       "      <td>4349.178082</td>\n",
       "      <td>20191031.0</td>\n",
       "      <td>20191220.0</td>\n",
       "      <td>20200112.0</td>\n",
       "      <td>20200204.0</td>\n",
       "      <td>20200331.0</td>\n",
       "    </tr>\n",
       "    <tr>\n",
       "      <th>departure</th>\n",
       "      <td>212325.0</td>\n",
       "      <td>2.019713e+07</td>\n",
       "      <td>4247.698404</td>\n",
       "      <td>20191031.0</td>\n",
       "      <td>20191223.0</td>\n",
       "      <td>20200115.0</td>\n",
       "      <td>20200207.0</td>\n",
       "      <td>20200331.0</td>\n",
       "    </tr>\n",
       "    <tr>\n",
       "      <th>count</th>\n",
       "      <td>212325.0</td>\n",
       "      <td>9.172853e+00</td>\n",
       "      <td>31.835063</td>\n",
       "      <td>3.0</td>\n",
       "      <td>3.0</td>\n",
       "      <td>3.0</td>\n",
       "      <td>5.0</td>\n",
       "      <td>1687.0</td>\n",
       "    </tr>\n",
       "  </tbody>\n",
       "</table>\n",
       "</div>"
      ],
      "text/plain": [
       "              count          mean          std         min         25%  \\\n",
       "return     212325.0  2.019772e+07  4000.485699  20191201.0  20191229.0   \n",
       "arrival    212325.0  2.019678e+07  4349.178082  20191031.0  20191220.0   \n",
       "departure  212325.0  2.019713e+07  4247.698404  20191031.0  20191223.0   \n",
       "count      212325.0  9.172853e+00    31.835063         3.0         3.0   \n",
       "\n",
       "                  50%         75%         max  \n",
       "return     20200122.0  20200213.0  20200331.0  \n",
       "arrival    20200112.0  20200204.0  20200331.0  \n",
       "departure  20200115.0  20200207.0  20200331.0  \n",
       "count             3.0         5.0      1687.0  "
      ]
     },
     "execution_count": 4,
     "metadata": {},
     "output_type": "execute_result"
    }
   ],
   "source": [
    "roam.describe().T"
   ]
  },
  {
   "cell_type": "code",
   "execution_count": 5,
   "metadata": {},
   "outputs": [
    {
     "data": {
      "text/plain": [
       "<matplotlib.axes._subplots.AxesSubplot at 0x20587db4a20>"
      ]
     },
     "execution_count": 5,
     "metadata": {},
     "output_type": "execute_result"
    },
    {
     "data": {
      "image/png": "[encoded data removed]",
      "text/plain": [
       "<Figure size 432x288 with 1 Axes>"
      ]
     },
     "metadata": {
      "needs_background": "light"
     },
     "output_type": "display_data"
    }
   ],
   "source": [
    "sns.distplot(roam['count'])"
   ]
  },
  {
   "cell_type": "code",
   "execution_count": 6,
   "metadata": {},
   "outputs": [
    {
     "name": "stdout",
     "output_type": "stream",
     "text": [
      "국가 코드 값\n",
      " ['ad' 'ae' 'af' 'am' 'ao' 'ar' 'at' 'au' 'az' 'ba' 'bd' 'be' 'bg' 'bh'\n",
      " 'bn' 'bo' 'br' 'bw' 'by' 'ca' 'ch' 'cl' 'cn' 'co' 'cy' 'cz' 'de' 'dk'\n",
      " 'dz' 'ec' 'ee' 'eg' 'es' 'et' 'fi' 'fj' 'fr' 'ga' 'gb' 'ge' 'gh' 'gr'\n",
      " 'gu' 'hk' 'hr' 'ht' 'hu' 'id' 'ie' 'il' 'in' 'iq' 'ir' 'it' 'jm' 'jo'\n",
      " 'jp' 'ke' 'kg' 'kh' 'kw' 'kz' 'la' 'lk' 'ls' 'lt' 'lu' 'lv' 'ma' 'mc'\n",
      " 'me' 'mk' 'mm' 'mn' 'mo' 'mp' 'mt' 'mu' 'mv' 'mx' 'my' 'mz' nan 'na' 'ng'\n",
      " 'ni' 'nl' 'no' 'np' 'nz' 'om' 'pa' 'pe' 'pg' 'ph' 'pk' 'pl' 'ps' 'pt'\n",
      " 'py' 'qa' 'ro' 'rs' 'ru' 'rw' 'sa' 'sc' 'sd' 'se' 'sg' 'si' 'sk' 'sr'\n",
      " 'sv' 'th' 'tm' 'tr' 'tw' 'tz' 'ug' 'us' 'uy' 'uz' 'vn' 'za' 'zm' 'zw'\n",
      " 'al' 'bz' 'cr' 'gt' 'hn' 'is' 'lb' 'md' 'tk' 'ua' 'li' 'mg' 'an' 'do'\n",
      " 'pr' 'to' 'tt' 'cm' 'pf' 'tg' 'tn' 'vu' 'bj' 'bt' 'cd' 'ci' 'tl' 'tp'\n",
      " 'gn' 'lr' 'mr' 'mw' 'ky' 'td' 'cf' 'ne' 're' 'tc' 'ml' 'ly' 'sl' 'bf'\n",
      " 'gq' 'cv' 'gm' 'ye' 'ws']\n",
      "\n",
      "총 갯수 :  174\n"
     ]
    }
   ],
   "source": [
    "# 국가 총 갯수\n",
    "\n",
    "print('국가 코드 값\\n', roam['iso'].unique(), end='\\n')\n",
    "print('')\n",
    "print('총 갯수 : ', len(roam['iso'].unique()))"
   ]
  },
  {
   "cell_type": "code",
   "execution_count": 77,
   "metadata": {},
   "outputs": [
    {
     "data": {
      "text/plain": [
       "Text(0.5, 1.0, 'Top 30 Country')"
      ]
     },
     "execution_count": 77,
     "metadata": {},
     "output_type": "execute_result"
    },
    {
     "data": {
      "image/png": "[encoded data removed]",
      "text/plain": [
       "<Figure size 720x720 with 1 Axes>"
      ]
     },
     "metadata": {
      "needs_background": "light"
     },
     "output_type": "display_data"
    }
   ],
   "source": [
    "# 국가 별 데이터 분포\n",
    "\n",
    "tmp = roam.groupby(by='iso', as_index=True)['count'].sum().sort_values().head(30)\n",
    "tmp.plot(kind='barh', figsize=(10,10))\n",
    "plt.title('Top 30 Country')"
   ]
  },
  {
   "cell_type": "markdown",
   "metadata": {},
   "source": [
    "- 로밍 \n",
    "- 모잠비크, 기니, 트리니다드토바고, 수단, 케이맨섬"
   ]
  },
  {
   "cell_type": "code",
   "execution_count": 81,
   "metadata": {},
   "outputs": [
    {
     "data": {
      "text/plain": [
       "iso\n",
       "mz    60\n",
       "gn    54\n",
       "tt    54\n",
       "sd    51\n",
       "ky    51\n",
       "ci    48\n",
       "an    39\n",
       "tn    36\n",
       "ao    33\n",
       "md    30\n",
       "ga    27\n",
       "ls    26\n",
       "ne    24\n",
       "bj    24\n",
       "sl    24\n",
       "mr    18\n",
       "re    18\n",
       "mw    12\n",
       "ly     9\n",
       "bf     9\n",
       "gq     9\n",
       "tc     6\n",
       "gm     6\n",
       "td     6\n",
       "cv     3\n",
       "ml     3\n",
       "cf     3\n",
       "to     3\n",
       "ws     3\n",
       "ye     3\n",
       "Name: count, dtype: int64"
      ]
     },
     "execution_count": 81,
     "metadata": {},
     "output_type": "execute_result"
    }
   ],
   "source": [
    "tmp.sort_values(ascending=False)"
   ]
  },
  {
   "cell_type": "code",
   "execution_count": 12,
   "metadata": {},
   "outputs": [],
   "source": [
    "# 날짜 변수로 변경\n",
    "roam['return'] = pd.to_datetime(roam['return'], format='%Y%m%d')"
   ]
  },
  {
   "cell_type": "code",
   "execution_count": 14,
   "metadata": {},
   "outputs": [],
   "source": [
    "roam['arrival'] = pd.to_datetime(roam['arrival'], format='%Y%m%d')\n",
    "roam['departure'] = pd.to_datetime(roam['departure'], format='%Y%m%d')"
   ]
  },
  {
   "cell_type": "code",
   "execution_count": 18,
   "metadata": {},
   "outputs": [
    {
     "name": "stdout",
     "output_type": "stream",
     "text": [
      "<class 'pandas.core.frame.DataFrame'>\n",
      "RangeIndex: 212325 entries, 0 to 212324\n",
      "Data columns (total 5 columns):\n",
      " #   Column     Non-Null Count   Dtype         \n",
      "---  ------     --------------   -----         \n",
      " 0   return     212325 non-null  datetime64[ns]\n",
      " 1   iso        209353 non-null  object        \n",
      " 2   arrival    212325 non-null  datetime64[ns]\n",
      " 3   departure  212325 non-null  datetime64[ns]\n",
      " 4   count      212325 non-null  int64         \n",
      "dtypes: datetime64[ns](3), int64(1), object(1)\n",
      "memory usage: 8.1+ MB\n"
     ]
    }
   ],
   "source": [
    "roam.info()"
   ]
  },
  {
   "cell_type": "code",
   "execution_count": 19,
   "metadata": {},
   "outputs": [],
   "source": [
    "# 파생변수 생성\n",
    "# arrival과 return의 차를 내서 해외에 체류한 일자수를 계산함\n",
    "\n",
    "roam['stay'] = roam['return'] - roam['arrival']"
   ]
  },
  {
   "cell_type": "code",
   "execution_count": 32,
   "metadata": {},
   "outputs": [
    {
     "data": {
      "text/plain": [
       "<matplotlib.axes._subplots.AxesSubplot at 0x2058b0be7f0>"
      ]
     },
     "execution_count": 32,
     "metadata": {},
     "output_type": "execute_result"
    },
    {
     "data": {
      "image/png": "[encoded data removed]",
      "text/plain": [
       "<Figure size 720x576 with 1 Axes>"
      ]
     },
     "metadata": {
      "needs_background": "light"
     },
     "output_type": "display_data"
    }
   ],
   "source": [
    "roam.groupby(by='stay')['count'].sum().sort_values(ascending=True).tail(10).plot(kind='barh', figsize=(10,8))"
   ]
  },
  {
   "cell_type": "code",
   "execution_count": 33,
   "metadata": {},
   "outputs": [
    {
     "data": {
      "text/plain": [
       "1947626"
      ]
     },
     "execution_count": 33,
     "metadata": {},
     "output_type": "execute_result"
    }
   ],
   "source": [
    "roam['count'].sum()"
   ]
  },
  {
   "cell_type": "markdown",
   "metadata": {},
   "source": [
    "- 총 194만 건의 count 중, 3일 동안의 해외체류가 약 40만건으로 가장 많았고, 4일이 27만건, 0일 2일이 23만건 정도로 나타났다."
   ]
  },
  {
   "cell_type": "code",
   "execution_count": 39,
   "metadata": {},
   "outputs": [
    {
     "name": "stdout",
     "output_type": "stream",
     "text": [
      "count                    212325\n",
      "mean     9 days 06:51:46.758036\n",
      "std      7 days 10:06:56.555469\n",
      "min             0 days 00:00:00\n",
      "25%             4 days 00:00:00\n",
      "50%             7 days 00:00:00\n",
      "75%            12 days 00:00:00\n",
      "max            31 days 00:00:00\n",
      "Name: stay, dtype: object\n"
     ]
    },
    {
     "data": {
      "text/plain": [
       "{'whiskers': [<matplotlib.lines.Line2D at 0x2058af995f8>,\n",
       "  <matplotlib.lines.Line2D at 0x2058af99f28>],\n",
       " 'caps': [<matplotlib.lines.Line2D at 0x2058af99cc0>,\n",
       "  <matplotlib.lines.Line2D at 0x2058c0a63c8>],\n",
       " 'boxes': [<matplotlib.lines.Line2D at 0x2058af4da20>],\n",
       " 'medians': [<matplotlib.lines.Line2D at 0x2058c0a62b0>],\n",
       " 'fliers': [<matplotlib.lines.Line2D at 0x2058af9e240>],\n",
       " 'means': []}"
      ]
     },
     "execution_count": 39,
     "metadata": {},
     "output_type": "execute_result"
    },
    {
     "data": {
      "image/png": "[encoded data removed]",
      "text/plain": [
       "<Figure size 432x288 with 1 Axes>"
      ]
     },
     "metadata": {
      "needs_background": "light"
     },
     "output_type": "display_data"
    }
   ],
   "source": [
    "print(roam['stay'].describe().T)\n",
    "plt.boxplot(roam['stay'])"
   ]
  },
  {
   "cell_type": "markdown",
   "metadata": {},
   "source": [
    "- 최고 체류일자는 31일이다. \n",
    "- 대체로 출발부터 귀국까지 7일 정도 이용하는 것으로 보인다."
   ]
  },
  {
   "cell_type": "markdown",
   "metadata": {},
   "source": [
    "# 2. 감염병데이터\n",
    "\n",
    "|컬럼명|컬럼한국명|컬럼설명|샘플|\n",
    "|:-----:|:-----:|:------|:------:|\n",
    "|파일명|파일명|파일리스트의 파일명과 일치|AFRO2019120200003|\n",
    "|제목|제목|기사의 제목|WHO supports Angola’s Government efforts to end polio outbreak|\n",
    "|URL|원문기사링크|해당 기사의 원문 링크|https://www.afro.who.int/news/who-supports-angolas-government-efforts-end-polio-outbreak\n",
    "|수집일자|수집일자|KT 크롤링 시스템에 의해 기사가 수집된 날짜|2019-12-02 21:00:16.0|\n",
    "|게시일자|게시일자|원문 Site에 해당 기사가 게시된 날짜|2019-12-02 00:00:00|\n",
    "|채널명|채널명|기사가 게시된 Site의 이름|AFRO|\n",
    "|감염병명|감염병명|기사에 표기된 감염병의 이름|Poliomyelitis|\n",
    "|분류명|분류명|감염병의 분류(카테고리) 명|Viral|\n"
   ]
  },
  {
   "cell_type": "code",
   "execution_count": 40,
   "metadata": {},
   "outputs": [],
   "source": [
    "news = pd.read_excel('./data/corona_contest_data_0406/3-1. NewsList.xls', sheet_name=\"List\")"
   ]
  },
  {
   "cell_type": "code",
   "execution_count": 41,
   "metadata": {},
   "outputs": [
    {
     "data": {
      "text/html": [
       "<div>\n",
       "<style scoped>\n",
       "    .dataframe tbody tr th:only-of-type {\n",
       "        vertical-align: middle;\n",
       "    }\n",
       "\n",
       "    .dataframe tbody tr th {\n",
       "        vertical-align: top;\n",
       "    }\n",
       "\n",
       "    .dataframe thead th {\n",
       "        text-align: right;\n",
       "    }\n",
       "</style>\n",
       "<table border=\"1\" class=\"dataframe\">\n",
       "  <thead>\n",
       "    <tr style=\"text-align: right;\">\n",
       "      <th></th>\n",
       "      <th>파일명</th>\n",
       "      <th>제목</th>\n",
       "      <th>URL</th>\n",
       "      <th>수집일자</th>\n",
       "      <th>게시일자</th>\n",
       "      <th>채널명</th>\n",
       "      <th>감염병명</th>\n",
       "      <th>분류명</th>\n",
       "    </tr>\n",
       "  </thead>\n",
       "  <tbody>\n",
       "    <tr>\n",
       "      <th>0</th>\n",
       "      <td>AFRO2019120200003</td>\n",
       "      <td>WHO supports Angola’s Government efforts to en...</td>\n",
       "      <td>https://www.afro.who.int/news/who-supports-ang...</td>\n",
       "      <td>2019-12-02 21:00:16.0</td>\n",
       "      <td>2019-12-02 00:00:00</td>\n",
       "      <td>AFRO</td>\n",
       "      <td>Poliomyelitis</td>\n",
       "      <td>Viral</td>\n",
       "    </tr>\n",
       "    <tr>\n",
       "      <th>1</th>\n",
       "      <td>AFRO2019120300001</td>\n",
       "      <td>African First Ladies laud progress against HIV...</td>\n",
       "      <td>https://www.afro.who.int/news/african-first-la...</td>\n",
       "      <td>2019-12-03 00:00:17.0</td>\n",
       "      <td>2019-12-02 00:00:00</td>\n",
       "      <td>AFRO</td>\n",
       "      <td>Acquired immuno deficiency syndrome</td>\n",
       "      <td>Viral</td>\n",
       "    </tr>\n",
       "    <tr>\n",
       "      <th>2</th>\n",
       "      <td>AFRO2019120300002</td>\n",
       "      <td>Eritrea Observed World AIDS Day 2019</td>\n",
       "      <td>https://www.afro.who.int/news/eritrea-observed...</td>\n",
       "      <td>2019-12-03 00:00:18.0</td>\n",
       "      <td>2019-12-02 00:00:00</td>\n",
       "      <td>AFRO</td>\n",
       "      <td>Acquired immuno deficiency syndrome</td>\n",
       "      <td>Viral</td>\n",
       "    </tr>\n",
       "    <tr>\n",
       "      <th>3</th>\n",
       "      <td>AFRO2019120400003</td>\n",
       "      <td>West and Central Africa Expands Access to HIV ...</td>\n",
       "      <td>https://www.afro.who.int/news/west-and-central...</td>\n",
       "      <td>2019-12-04 03:00:14.0</td>\n",
       "      <td>2019-12-03 00:00:00</td>\n",
       "      <td>AFRO</td>\n",
       "      <td>Acquired immuno deficiency syndrome</td>\n",
       "      <td>Viral</td>\n",
       "    </tr>\n",
       "    <tr>\n",
       "      <th>4</th>\n",
       "      <td>AFRO2019120400004</td>\n",
       "      <td>Nearly 23 million voluntary male medical circu...</td>\n",
       "      <td>https://www.afro.who.int/news/nearly-23-millio...</td>\n",
       "      <td>2019-12-04 22:00:14.0</td>\n",
       "      <td>2019-12-04 00:00:00</td>\n",
       "      <td>AFRO</td>\n",
       "      <td>Acquired immuno deficiency syndrome</td>\n",
       "      <td>Viral</td>\n",
       "    </tr>\n",
       "  </tbody>\n",
       "</table>\n",
       "</div>"
      ],
      "text/plain": [
       "                 파일명                                                 제목  \\\n",
       "0  AFRO2019120200003  WHO supports Angola’s Government efforts to en...   \n",
       "1  AFRO2019120300001  African First Ladies laud progress against HIV...   \n",
       "2  AFRO2019120300002               Eritrea Observed World AIDS Day 2019   \n",
       "3  AFRO2019120400003  West and Central Africa Expands Access to HIV ...   \n",
       "4  AFRO2019120400004  Nearly 23 million voluntary male medical circu...   \n",
       "\n",
       "                                                 URL                   수집일자  \\\n",
       "0  https://www.afro.who.int/news/who-supports-ang...  2019-12-02 21:00:16.0   \n",
       "1  https://www.afro.who.int/news/african-first-la...  2019-12-03 00:00:17.0   \n",
       "2  https://www.afro.who.int/news/eritrea-observed...  2019-12-03 00:00:18.0   \n",
       "3  https://www.afro.who.int/news/west-and-central...  2019-12-04 03:00:14.0   \n",
       "4  https://www.afro.who.int/news/nearly-23-millio...  2019-12-04 22:00:14.0   \n",
       "\n",
       "                  게시일자   채널명                                 감염병명    분류명  \n",
       "0  2019-12-02 00:00:00  AFRO                        Poliomyelitis  Viral  \n",
       "1  2019-12-02 00:00:00  AFRO  Acquired immuno deficiency syndrome  Viral  \n",
       "2  2019-12-02 00:00:00  AFRO  Acquired immuno deficiency syndrome  Viral  \n",
       "3  2019-12-03 00:00:00  AFRO  Acquired immuno deficiency syndrome  Viral  \n",
       "4  2019-12-04 00:00:00  AFRO  Acquired immuno deficiency syndrome  Viral  "
      ]
     },
     "execution_count": 41,
     "metadata": {},
     "output_type": "execute_result"
    }
   ],
   "source": [
    "news.head()"
   ]
  },
  {
   "cell_type": "code",
   "execution_count": 77,
   "metadata": {},
   "outputs": [
    {
     "data": {
      "text/html": [
       "<div>\n",
       "<style scoped>\n",
       "    .dataframe tbody tr th:only-of-type {\n",
       "        vertical-align: middle;\n",
       "    }\n",
       "\n",
       "    .dataframe tbody tr th {\n",
       "        vertical-align: top;\n",
       "    }\n",
       "\n",
       "    .dataframe thead th {\n",
       "        text-align: right;\n",
       "    }\n",
       "</style>\n",
       "<table border=\"1\" class=\"dataframe\">\n",
       "  <thead>\n",
       "    <tr style=\"text-align: right;\">\n",
       "      <th></th>\n",
       "      <th>분류명</th>\n",
       "      <th>파일명</th>\n",
       "    </tr>\n",
       "  </thead>\n",
       "  <tbody>\n",
       "    <tr>\n",
       "      <th>3</th>\n",
       "      <td>Parasitic (Arthropods)</td>\n",
       "      <td>19</td>\n",
       "    </tr>\n",
       "    <tr>\n",
       "      <th>6</th>\n",
       "      <td>Parasitic (Trematodes)</td>\n",
       "      <td>26</td>\n",
       "    </tr>\n",
       "    <tr>\n",
       "      <th>7</th>\n",
       "      <td>Parasitic (nematodes)</td>\n",
       "      <td>40</td>\n",
       "    </tr>\n",
       "    <tr>\n",
       "      <th>4</th>\n",
       "      <td>Parasitic (Cestodes)</td>\n",
       "      <td>52</td>\n",
       "    </tr>\n",
       "    <tr>\n",
       "      <th>2</th>\n",
       "      <td>Parasitic</td>\n",
       "      <td>53</td>\n",
       "    </tr>\n",
       "    <tr>\n",
       "      <th>8</th>\n",
       "      <td>Prion</td>\n",
       "      <td>65</td>\n",
       "    </tr>\n",
       "    <tr>\n",
       "      <th>9</th>\n",
       "      <td>Rickettsial</td>\n",
       "      <td>104</td>\n",
       "    </tr>\n",
       "    <tr>\n",
       "      <th>1</th>\n",
       "      <td>Fungal</td>\n",
       "      <td>110</td>\n",
       "    </tr>\n",
       "    <tr>\n",
       "      <th>5</th>\n",
       "      <td>Parasitic (Protozoans)</td>\n",
       "      <td>845</td>\n",
       "    </tr>\n",
       "    <tr>\n",
       "      <th>0</th>\n",
       "      <td>Bacterial</td>\n",
       "      <td>3138</td>\n",
       "    </tr>\n",
       "    <tr>\n",
       "      <th>10</th>\n",
       "      <td>Viral</td>\n",
       "      <td>57272</td>\n",
       "    </tr>\n",
       "  </tbody>\n",
       "</table>\n",
       "</div>"
      ],
      "text/plain": [
       "                       분류명    파일명\n",
       "3   Parasitic (Arthropods)     19\n",
       "6   Parasitic (Trematodes)     26\n",
       "7    Parasitic (nematodes)     40\n",
       "4     Parasitic (Cestodes)     52\n",
       "2                Parasitic     53\n",
       "8                    Prion     65\n",
       "9              Rickettsial    104\n",
       "1                   Fungal    110\n",
       "5   Parasitic (Protozoans)    845\n",
       "0                Bacterial   3138\n",
       "10                   Viral  57272"
      ]
     },
     "execution_count": 77,
     "metadata": {},
     "output_type": "execute_result"
    }
   ],
   "source": [
    "# 전체 기사 중 병명에 따른 누적 갯수\n",
    "cum_viral = news.groupby('분류명', as_index=False)[['파일명']].count().sort_values(by='파일명')\n",
    "cum_viral"
   ]
  },
  {
   "cell_type": "code",
   "execution_count": 82,
   "metadata": {},
   "outputs": [
    {
     "data": {
      "text/plain": [
       "<BarContainer object of 3 artists>"
      ]
     },
     "execution_count": 82,
     "metadata": {},
     "output_type": "execute_result"
    },
    {
     "data": {
      "image/png": "[encoded data removed]",
      "text/plain": [
       "<Figure size 504x360 with 1 Axes>"
      ]
     },
     "metadata": {
      "needs_background": "light"
     },
     "output_type": "display_data"
    }
   ],
   "source": [
    "# 상위 3개 중 viral의 비중이 압도적이다.\n",
    "plt.figure(figsize=(7,5))\n",
    "plt.barh('분류명', '파일명',data=cum_viral.tail(3))"
   ]
  },
  {
   "cell_type": "code",
   "execution_count": 90,
   "metadata": {},
   "outputs": [
    {
     "data": {
      "text/plain": [
       "92.79"
      ]
     },
     "execution_count": 90,
     "metadata": {},
     "output_type": "execute_result"
    }
   ],
   "source": [
    "total_length = len(news['분류명'])\n",
    "viral_length = len(news[news['분류명'] == 'Viral'])\n",
    "\n",
    "per_of_viral = round(viral_length / total_length * 100, 2)\n",
    "per_of_viral"
   ]
  },
  {
   "cell_type": "markdown",
   "metadata": {},
   "source": [
    "- viral의 비중의 92.79%이기 때문에 다른 데이터들은 삭제해도 무관할 것으로 보인다."
   ]
  },
  {
   "cell_type": "code",
   "execution_count": 92,
   "metadata": {},
   "outputs": [
    {
     "data": {
      "text/html": [
       "<div>\n",
       "<style scoped>\n",
       "    .dataframe tbody tr th:only-of-type {\n",
       "        vertical-align: middle;\n",
       "    }\n",
       "\n",
       "    .dataframe tbody tr th {\n",
       "        vertical-align: top;\n",
       "    }\n",
       "\n",
       "    .dataframe thead th {\n",
       "        text-align: right;\n",
       "    }\n",
       "</style>\n",
       "<table border=\"1\" class=\"dataframe\">\n",
       "  <thead>\n",
       "    <tr style=\"text-align: right;\">\n",
       "      <th></th>\n",
       "      <th>파일명</th>\n",
       "      <th>제목</th>\n",
       "      <th>URL</th>\n",
       "      <th>수집일자</th>\n",
       "      <th>게시일자</th>\n",
       "      <th>채널명</th>\n",
       "      <th>감염병명</th>\n",
       "      <th>분류명</th>\n",
       "    </tr>\n",
       "  </thead>\n",
       "  <tbody>\n",
       "    <tr>\n",
       "      <th>0</th>\n",
       "      <td>AFRO2019120200003</td>\n",
       "      <td>WHO supports Angola’s Government efforts to en...</td>\n",
       "      <td>https://www.afro.who.int/news/who-supports-ang...</td>\n",
       "      <td>2019-12-02 21:00:16.0</td>\n",
       "      <td>2019-12-02 00:00:00</td>\n",
       "      <td>AFRO</td>\n",
       "      <td>Poliomyelitis</td>\n",
       "      <td>Viral</td>\n",
       "    </tr>\n",
       "    <tr>\n",
       "      <th>1</th>\n",
       "      <td>AFRO2019120300001</td>\n",
       "      <td>African First Ladies laud progress against HIV...</td>\n",
       "      <td>https://www.afro.who.int/news/african-first-la...</td>\n",
       "      <td>2019-12-03 00:00:17.0</td>\n",
       "      <td>2019-12-02 00:00:00</td>\n",
       "      <td>AFRO</td>\n",
       "      <td>Acquired immuno deficiency syndrome</td>\n",
       "      <td>Viral</td>\n",
       "    </tr>\n",
       "    <tr>\n",
       "      <th>2</th>\n",
       "      <td>AFRO2019120300002</td>\n",
       "      <td>Eritrea Observed World AIDS Day 2019</td>\n",
       "      <td>https://www.afro.who.int/news/eritrea-observed...</td>\n",
       "      <td>2019-12-03 00:00:18.0</td>\n",
       "      <td>2019-12-02 00:00:00</td>\n",
       "      <td>AFRO</td>\n",
       "      <td>Acquired immuno deficiency syndrome</td>\n",
       "      <td>Viral</td>\n",
       "    </tr>\n",
       "    <tr>\n",
       "      <th>3</th>\n",
       "      <td>AFRO2019120400003</td>\n",
       "      <td>West and Central Africa Expands Access to HIV ...</td>\n",
       "      <td>https://www.afro.who.int/news/west-and-central...</td>\n",
       "      <td>2019-12-04 03:00:14.0</td>\n",
       "      <td>2019-12-03 00:00:00</td>\n",
       "      <td>AFRO</td>\n",
       "      <td>Acquired immuno deficiency syndrome</td>\n",
       "      <td>Viral</td>\n",
       "    </tr>\n",
       "    <tr>\n",
       "      <th>4</th>\n",
       "      <td>AFRO2019120400004</td>\n",
       "      <td>Nearly 23 million voluntary male medical circu...</td>\n",
       "      <td>https://www.afro.who.int/news/nearly-23-millio...</td>\n",
       "      <td>2019-12-04 22:00:14.0</td>\n",
       "      <td>2019-12-04 00:00:00</td>\n",
       "      <td>AFRO</td>\n",
       "      <td>Acquired immuno deficiency syndrome</td>\n",
       "      <td>Viral</td>\n",
       "    </tr>\n",
       "  </tbody>\n",
       "</table>\n",
       "</div>"
      ],
      "text/plain": [
       "                 파일명                                                 제목  \\\n",
       "0  AFRO2019120200003  WHO supports Angola’s Government efforts to en...   \n",
       "1  AFRO2019120300001  African First Ladies laud progress against HIV...   \n",
       "2  AFRO2019120300002               Eritrea Observed World AIDS Day 2019   \n",
       "3  AFRO2019120400003  West and Central Africa Expands Access to HIV ...   \n",
       "4  AFRO2019120400004  Nearly 23 million voluntary male medical circu...   \n",
       "\n",
       "                                                 URL                   수집일자  \\\n",
       "0  https://www.afro.who.int/news/who-supports-ang...  2019-12-02 21:00:16.0   \n",
       "1  https://www.afro.who.int/news/african-first-la...  2019-12-03 00:00:17.0   \n",
       "2  https://www.afro.who.int/news/eritrea-observed...  2019-12-03 00:00:18.0   \n",
       "3  https://www.afro.who.int/news/west-and-central...  2019-12-04 03:00:14.0   \n",
       "4  https://www.afro.who.int/news/nearly-23-millio...  2019-12-04 22:00:14.0   \n",
       "\n",
       "                  게시일자   채널명                                 감염병명    분류명  \n",
       "0  2019-12-02 00:00:00  AFRO                        Poliomyelitis  Viral  \n",
       "1  2019-12-02 00:00:00  AFRO  Acquired immuno deficiency syndrome  Viral  \n",
       "2  2019-12-02 00:00:00  AFRO  Acquired immuno deficiency syndrome  Viral  \n",
       "3  2019-12-03 00:00:00  AFRO  Acquired immuno deficiency syndrome  Viral  \n",
       "4  2019-12-04 00:00:00  AFRO  Acquired immuno deficiency syndrome  Viral  "
      ]
     },
     "execution_count": 92,
     "metadata": {},
     "output_type": "execute_result"
    }
   ],
   "source": [
    "# viral만 가지고 있는 데이터 셋 생성\n",
    "\n",
    "viral_news = news[news['분류명'] == 'Viral']\n",
    "viral_news.head()"
   ]
  },
  {
   "cell_type": "code",
   "execution_count": 104,
   "metadata": {},
   "outputs": [
    {
     "data": {
      "text/html": [
       "<div>\n",
       "<style scoped>\n",
       "    .dataframe tbody tr th:only-of-type {\n",
       "        vertical-align: middle;\n",
       "    }\n",
       "\n",
       "    .dataframe tbody tr th {\n",
       "        vertical-align: top;\n",
       "    }\n",
       "\n",
       "    .dataframe thead th {\n",
       "        text-align: right;\n",
       "    }\n",
       "</style>\n",
       "<table border=\"1\" class=\"dataframe\">\n",
       "  <thead>\n",
       "    <tr style=\"text-align: right;\">\n",
       "      <th></th>\n",
       "      <th>감염병명</th>\n",
       "      <th>파일명</th>\n",
       "    </tr>\n",
       "  </thead>\n",
       "  <tbody>\n",
       "    <tr>\n",
       "      <th>9</th>\n",
       "      <td>COVID-19</td>\n",
       "      <td>35238</td>\n",
       "    </tr>\n",
       "    <tr>\n",
       "      <th>33</th>\n",
       "      <td>Influenza</td>\n",
       "      <td>6760</td>\n",
       "    </tr>\n",
       "    <tr>\n",
       "      <th>18</th>\n",
       "      <td>Dengue fever</td>\n",
       "      <td>3945</td>\n",
       "    </tr>\n",
       "    <tr>\n",
       "      <th>40</th>\n",
       "      <td>Measles</td>\n",
       "      <td>1587</td>\n",
       "    </tr>\n",
       "    <tr>\n",
       "      <th>63</th>\n",
       "      <td>Severe acute respiratory syndrome</td>\n",
       "      <td>1574</td>\n",
       "    </tr>\n",
       "    <tr>\n",
       "      <th>...</th>\n",
       "      <td>...</td>\n",
       "      <td>...</td>\n",
       "    </tr>\n",
       "    <tr>\n",
       "      <th>31</th>\n",
       "      <td>Human bocavirus infection</td>\n",
       "      <td>1</td>\n",
       "    </tr>\n",
       "    <tr>\n",
       "      <th>81</th>\n",
       "      <td>Western equine encephalitis</td>\n",
       "      <td>1</td>\n",
       "    </tr>\n",
       "    <tr>\n",
       "      <th>56</th>\n",
       "      <td>Rhinovirus infection</td>\n",
       "      <td>1</td>\n",
       "    </tr>\n",
       "    <tr>\n",
       "      <th>15</th>\n",
       "      <td>Contagious ecthyma</td>\n",
       "      <td>1</td>\n",
       "    </tr>\n",
       "    <tr>\n",
       "      <th>6</th>\n",
       "      <td>Barmah Forest fever</td>\n",
       "      <td>1</td>\n",
       "    </tr>\n",
       "  </tbody>\n",
       "</table>\n",
       "<p>85 rows × 2 columns</p>\n",
       "</div>"
      ],
      "text/plain": [
       "                                 감염병명    파일명\n",
       "9                            COVID-19  35238\n",
       "33                          Influenza   6760\n",
       "18                       Dengue fever   3945\n",
       "40                            Measles   1587\n",
       "63  Severe acute respiratory syndrome   1574\n",
       "..                                ...    ...\n",
       "31          Human bocavirus infection      1\n",
       "81        Western equine encephalitis      1\n",
       "56               Rhinovirus infection      1\n",
       "15                 Contagious ecthyma      1\n",
       "6                 Barmah Forest fever      1\n",
       "\n",
       "[85 rows x 2 columns]"
      ]
     },
     "execution_count": 104,
     "metadata": {},
     "output_type": "execute_result"
    }
   ],
   "source": [
    "tmp.sort_values('파일명', ascending=False)"
   ]
  },
  {
   "cell_type": "code",
   "execution_count": 113,
   "metadata": {},
   "outputs": [
    {
     "data": {
      "text/plain": [
       "35238"
      ]
     },
     "execution_count": 113,
     "metadata": {},
     "output_type": "execute_result"
    }
   ],
   "source": [
    "tmp.iloc[9,1]"
   ]
  },
  {
   "cell_type": "code",
   "execution_count": 115,
   "metadata": {},
   "outputs": [
    {
     "data": {
      "text/plain": [
       "61.53"
      ]
     },
     "execution_count": 115,
     "metadata": {},
     "output_type": "execute_result"
    }
   ],
   "source": [
    "total_ = tmp.파일명.sum()\n",
    "covid_ = tmp.iloc[9,1]\n",
    "per_of_covid = round(covid_/total_*100,2)\n",
    "per_of_covid"
   ]
  },
  {
   "cell_type": "markdown",
   "metadata": {},
   "source": [
    "- viral에 관한 뉴스기사 중 61%가 코로나 바이러스에 대한 뉴스기사이다."
   ]
  },
  {
   "cell_type": "code",
   "execution_count": 133,
   "metadata": {},
   "outputs": [
    {
     "data": {
      "text/html": [
       "<div>\n",
       "<style scoped>\n",
       "    .dataframe tbody tr th:only-of-type {\n",
       "        vertical-align: middle;\n",
       "    }\n",
       "\n",
       "    .dataframe tbody tr th {\n",
       "        vertical-align: top;\n",
       "    }\n",
       "\n",
       "    .dataframe thead th {\n",
       "        text-align: right;\n",
       "    }\n",
       "</style>\n",
       "<table border=\"1\" class=\"dataframe\">\n",
       "  <thead>\n",
       "    <tr style=\"text-align: right;\">\n",
       "      <th></th>\n",
       "      <th>감염병명</th>\n",
       "      <th>파일명</th>\n",
       "    </tr>\n",
       "  </thead>\n",
       "  <tbody>\n",
       "    <tr>\n",
       "      <th>47</th>\n",
       "      <td>Nipha virus infection</td>\n",
       "      <td>1</td>\n",
       "    </tr>\n",
       "    <tr>\n",
       "      <th>15</th>\n",
       "      <td>Contagious ecthyma</td>\n",
       "      <td>1</td>\n",
       "    </tr>\n",
       "    <tr>\n",
       "      <th>77</th>\n",
       "      <td>Viral hepatitis A</td>\n",
       "      <td>1</td>\n",
       "    </tr>\n",
       "    <tr>\n",
       "      <th>38</th>\n",
       "      <td>Lymphocytic choriomeningitis</td>\n",
       "      <td>1</td>\n",
       "    </tr>\n",
       "    <tr>\n",
       "      <th>76</th>\n",
       "      <td>Viral hemorrhagic fever</td>\n",
       "      <td>1</td>\n",
       "    </tr>\n",
       "    <tr>\n",
       "      <th>...</th>\n",
       "      <td>...</td>\n",
       "      <td>...</td>\n",
       "    </tr>\n",
       "    <tr>\n",
       "      <th>63</th>\n",
       "      <td>Severe acute respiratory syndrome</td>\n",
       "      <td>1574</td>\n",
       "    </tr>\n",
       "    <tr>\n",
       "      <th>40</th>\n",
       "      <td>Measles</td>\n",
       "      <td>1587</td>\n",
       "    </tr>\n",
       "    <tr>\n",
       "      <th>18</th>\n",
       "      <td>Dengue fever</td>\n",
       "      <td>3945</td>\n",
       "    </tr>\n",
       "    <tr>\n",
       "      <th>33</th>\n",
       "      <td>Influenza</td>\n",
       "      <td>6760</td>\n",
       "    </tr>\n",
       "    <tr>\n",
       "      <th>9</th>\n",
       "      <td>COVID-19</td>\n",
       "      <td>35238</td>\n",
       "    </tr>\n",
       "  </tbody>\n",
       "</table>\n",
       "<p>85 rows × 2 columns</p>\n",
       "</div>"
      ],
      "text/plain": [
       "                                 감염병명    파일명\n",
       "47              Nipha virus infection      1\n",
       "15                 Contagious ecthyma      1\n",
       "77                  Viral hepatitis A      1\n",
       "38       Lymphocytic choriomeningitis      1\n",
       "76            Viral hemorrhagic fever      1\n",
       "..                                ...    ...\n",
       "63  Severe acute respiratory syndrome   1574\n",
       "40                            Measles   1587\n",
       "18                       Dengue fever   3945\n",
       "33                          Influenza   6760\n",
       "9                            COVID-19  35238\n",
       "\n",
       "[85 rows x 2 columns]"
      ]
     },
     "execution_count": 133,
     "metadata": {},
     "output_type": "execute_result"
    }
   ],
   "source": [
    "# 감염병명에 따른 분포\n",
    "tmp = viral_news.groupby(by='감염병명', as_index=False)[['파일명']].count().sort_values(by='파일명', ascending=True)\n",
    "tmp"
   ]
  },
  {
   "cell_type": "code",
   "execution_count": 135,
   "metadata": {},
   "outputs": [
    {
     "data": {
      "text/plain": [
       "<BarContainer object of 5 artists>"
      ]
     },
     "execution_count": 135,
     "metadata": {},
     "output_type": "execute_result"
    },
    {
     "data": {
      "image/png": "[encoded data removed]",
      "text/plain": [
       "<Figure size 432x288 with 1 Axes>"
      ]
     },
     "metadata": {
      "needs_background": "light"
     },
     "output_type": "display_data"
    }
   ],
   "source": [
    "plt.barh('감염병명', '파일명',data=tmp.tail())"
   ]
  },
  {
   "cell_type": "code",
   "execution_count": 138,
   "metadata": {},
   "outputs": [
    {
     "data": {
      "text/html": [
       "<div>\n",
       "<style scoped>\n",
       "    .dataframe tbody tr th:only-of-type {\n",
       "        vertical-align: middle;\n",
       "    }\n",
       "\n",
       "    .dataframe tbody tr th {\n",
       "        vertical-align: top;\n",
       "    }\n",
       "\n",
       "    .dataframe thead th {\n",
       "        text-align: right;\n",
       "    }\n",
       "</style>\n",
       "<table border=\"1\" class=\"dataframe\">\n",
       "  <thead>\n",
       "    <tr style=\"text-align: right;\">\n",
       "      <th></th>\n",
       "      <th>파일명</th>\n",
       "      <th>제목</th>\n",
       "      <th>URL</th>\n",
       "      <th>수집일자</th>\n",
       "      <th>게시일자</th>\n",
       "      <th>채널명</th>\n",
       "      <th>감염병명</th>\n",
       "      <th>분류명</th>\n",
       "    </tr>\n",
       "  </thead>\n",
       "  <tbody>\n",
       "    <tr>\n",
       "      <th>0</th>\n",
       "      <td>AFRO2019120200003</td>\n",
       "      <td>WHO supports Angola’s Government efforts to en...</td>\n",
       "      <td>https://www.afro.who.int/news/who-supports-ang...</td>\n",
       "      <td>2019-12-02 21:00:16.0</td>\n",
       "      <td>2019-12-02 00:00:00</td>\n",
       "      <td>AFRO</td>\n",
       "      <td>Poliomyelitis</td>\n",
       "      <td>Viral</td>\n",
       "    </tr>\n",
       "    <tr>\n",
       "      <th>1</th>\n",
       "      <td>AFRO2019120300001</td>\n",
       "      <td>African First Ladies laud progress against HIV...</td>\n",
       "      <td>https://www.afro.who.int/news/african-first-la...</td>\n",
       "      <td>2019-12-03 00:00:17.0</td>\n",
       "      <td>2019-12-02 00:00:00</td>\n",
       "      <td>AFRO</td>\n",
       "      <td>Acquired immuno deficiency syndrome</td>\n",
       "      <td>Viral</td>\n",
       "    </tr>\n",
       "    <tr>\n",
       "      <th>2</th>\n",
       "      <td>AFRO2019120300002</td>\n",
       "      <td>Eritrea Observed World AIDS Day 2019</td>\n",
       "      <td>https://www.afro.who.int/news/eritrea-observed...</td>\n",
       "      <td>2019-12-03 00:00:18.0</td>\n",
       "      <td>2019-12-02 00:00:00</td>\n",
       "      <td>AFRO</td>\n",
       "      <td>Acquired immuno deficiency syndrome</td>\n",
       "      <td>Viral</td>\n",
       "    </tr>\n",
       "    <tr>\n",
       "      <th>3</th>\n",
       "      <td>AFRO2019120400003</td>\n",
       "      <td>West and Central Africa Expands Access to HIV ...</td>\n",
       "      <td>https://www.afro.who.int/news/west-and-central...</td>\n",
       "      <td>2019-12-04 03:00:14.0</td>\n",
       "      <td>2019-12-03 00:00:00</td>\n",
       "      <td>AFRO</td>\n",
       "      <td>Acquired immuno deficiency syndrome</td>\n",
       "      <td>Viral</td>\n",
       "    </tr>\n",
       "    <tr>\n",
       "      <th>4</th>\n",
       "      <td>AFRO2019120400004</td>\n",
       "      <td>Nearly 23 million voluntary male medical circu...</td>\n",
       "      <td>https://www.afro.who.int/news/nearly-23-millio...</td>\n",
       "      <td>2019-12-04 22:00:14.0</td>\n",
       "      <td>2019-12-04 00:00:00</td>\n",
       "      <td>AFRO</td>\n",
       "      <td>Acquired immuno deficiency syndrome</td>\n",
       "      <td>Viral</td>\n",
       "    </tr>\n",
       "  </tbody>\n",
       "</table>\n",
       "</div>"
      ],
      "text/plain": [
       "                 파일명                                                 제목  \\\n",
       "0  AFRO2019120200003  WHO supports Angola’s Government efforts to en...   \n",
       "1  AFRO2019120300001  African First Ladies laud progress against HIV...   \n",
       "2  AFRO2019120300002               Eritrea Observed World AIDS Day 2019   \n",
       "3  AFRO2019120400003  West and Central Africa Expands Access to HIV ...   \n",
       "4  AFRO2019120400004  Nearly 23 million voluntary male medical circu...   \n",
       "\n",
       "                                                 URL                   수집일자  \\\n",
       "0  https://www.afro.who.int/news/who-supports-ang...  2019-12-02 21:00:16.0   \n",
       "1  https://www.afro.who.int/news/african-first-la...  2019-12-03 00:00:17.0   \n",
       "2  https://www.afro.who.int/news/eritrea-observed...  2019-12-03 00:00:18.0   \n",
       "3  https://www.afro.who.int/news/west-and-central...  2019-12-04 03:00:14.0   \n",
       "4  https://www.afro.who.int/news/nearly-23-millio...  2019-12-04 22:00:14.0   \n",
       "\n",
       "                  게시일자   채널명                                 감염병명    분류명  \n",
       "0  2019-12-02 00:00:00  AFRO                        Poliomyelitis  Viral  \n",
       "1  2019-12-02 00:00:00  AFRO  Acquired immuno deficiency syndrome  Viral  \n",
       "2  2019-12-02 00:00:00  AFRO  Acquired immuno deficiency syndrome  Viral  \n",
       "3  2019-12-03 00:00:00  AFRO  Acquired immuno deficiency syndrome  Viral  \n",
       "4  2019-12-04 00:00:00  AFRO  Acquired immuno deficiency syndrome  Viral  "
      ]
     },
     "execution_count": 138,
     "metadata": {},
     "output_type": "execute_result"
    }
   ],
   "source": [
    "viral_news.head()"
   ]
  },
  {
   "cell_type": "code",
   "execution_count": 137,
   "metadata": {},
   "outputs": [
    {
     "data": {
      "text/plain": [
       "array(['AFRO', 'All africa', 'Al jazeera', 'BBC', 'CBC', 'CDC Taiwan',\n",
       "       'Centre for Health Protection',\n",
       "       'CIDARS (China Infectious Disease Automated Alert and Re sponse System)',\n",
       "       'CIDRAP', 'CNN', 'Dantri Vietnam', 'Disease Daily', 'ECDC', 'EFSA',\n",
       "       'WHO/EMRO', 'Flu Trackers', 'GEIS',\n",
       "       'GOARN (Global Outbreak Alert and Response Network)', 'GPHIN',\n",
       "       'Health Canada', 'HealthMap', 'MediSys', 'Ministry of Health',\n",
       "       'Ministry of Health(Saudi Arabia)', 'CDC Nigeria',\n",
       "       'Outbreak News Today', 'Reliefweb', 'WHO/PAHO',\n",
       "       'Public Health England', 'ProMED', 'REUTERS', 'WHO/SEARO', 'SINA',\n",
       "       'Tuoitre', 'VCDC', 'WAHIS', 'WHO/DONs', 'WHO/News', 'WHO/IHR',\n",
       "       'Wuhan Municipal Health Commission', 'Xinhua',\n",
       "       'Shanghai Municioal Health Commission',\n",
       "       'Health Commission of Guangdong Province'], dtype=object)"
      ]
     },
     "execution_count": 137,
     "metadata": {},
     "output_type": "execute_result"
    }
   ],
   "source": [
    "viral_news['채널명'].unique()"
   ]
  },
  {
   "cell_type": "code",
   "execution_count": 147,
   "metadata": {},
   "outputs": [
    {
     "data": {
      "text/plain": [
       "'2019-12-02'"
      ]
     },
     "execution_count": 147,
     "metadata": {},
     "output_type": "execute_result"
    }
   ],
   "source": [
    "viral_news['수집일자'][0][:10]"
   ]
  },
  {
   "cell_type": "code",
   "execution_count": 151,
   "metadata": {},
   "outputs": [
    {
     "name": "stderr",
     "output_type": "stream",
     "text": [
      "C:\\Users\\Joshua\\Anaconda3\\envs\\pytorch\\lib\\site-packages\\ipykernel_launcher.py:1: SettingWithCopyWarning: \n",
      "A value is trying to be set on a copy of a slice from a DataFrame.\n",
      "Try using .loc[row_indexer,col_indexer] = value instead\n",
      "\n",
      "See the caveats in the documentation: https://pandas.pydata.org/pandas-docs/stable/user_guide/indexing.html#returning-a-view-versus-a-copy\n",
      "  \"\"\"Entry point for launching an IPython kernel.\n",
      "C:\\Users\\Joshua\\Anaconda3\\envs\\pytorch\\lib\\site-packages\\ipykernel_launcher.py:2: SettingWithCopyWarning: \n",
      "A value is trying to be set on a copy of a slice from a DataFrame.\n",
      "Try using .loc[row_indexer,col_indexer] = value instead\n",
      "\n",
      "See the caveats in the documentation: https://pandas.pydata.org/pandas-docs/stable/user_guide/indexing.html#returning-a-view-versus-a-copy\n",
      "  \n"
     ]
    }
   ],
   "source": [
    "viral_news['date'] = viral_news['수집일자'].apply(lambda x: x[:10])\n",
    "viral_news['date'] = pd.to_datetime(viral_news['date'], format='%Y-%m-%d')"
   ]
  },
  {
   "cell_type": "code",
   "execution_count": 154,
   "metadata": {},
   "outputs": [
    {
     "data": {
      "text/plain": [
       "count                   57272\n",
       "unique                    118\n",
       "top       2020-03-31 00:00:00\n",
       "freq                     1183\n",
       "first     2019-12-01 00:00:00\n",
       "last      2020-04-01 00:00:00\n",
       "Name: date, dtype: object"
      ]
     },
     "execution_count": 154,
     "metadata": {},
     "output_type": "execute_result"
    }
   ],
   "source": [
    "viral_news['date'].describe()"
   ]
  },
  {
   "cell_type": "code",
   "execution_count": 155,
   "metadata": {},
   "outputs": [
    {
     "data": {
      "text/plain": [
       "Timedelta('122 days 00:00:00')"
      ]
     },
     "execution_count": 155,
     "metadata": {},
     "output_type": "execute_result"
    }
   ],
   "source": [
    "# 총 122일 동안의 기사들이다.\n",
    "max(viral_news['date']) - min(viral_news['date'])"
   ]
  },
  {
   "cell_type": "code",
   "execution_count": null,
   "metadata": {},
   "outputs": [],
   "source": []
  }
 ],
 "metadata": {
  "kernelspec": {
   "display_name": "pytorch",
   "language": "python",
   "name": "pytorch"
  },
  "language_info": {
   "codemirror_mode": {
    "name": "ipython",
    "version": 3
   },
   "file_extension": ".py",
   "mimetype": "text/x-python",
   "name": "python",
   "nbconvert_exporter": "python",
   "pygments_lexer": "ipython3",
   "version": "3.6.9"
  }
 },
 "nbformat": 4,
 "nbformat_minor": 4
}
