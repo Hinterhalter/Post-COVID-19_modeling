{
 "cells": [
  {
   "cell_type": "markdown",
   "metadata": {},
   "source": [
    "# __Exploratory Data Analysis__"
   ]
  },
  {
   "cell_type": "code",
   "execution_count": 2,
   "metadata": {},
   "outputs": [],
   "source": [
    "import pandas as pd\n",
    "import numpy as np\n",
    "import matplotlib.pyplot as plt\n",
    "%matplotlib inline\n",
    "import seaborn as sns\n",
    "\n",
    "from matplotlib import font_manager, rc\n",
    "font_name = font_manager.FontProperties(fname=\"c:/Windows/Fonts/malgun.ttf\").get_name()\n",
    "rc('font', family=font_name)"
   ]
  },
  {
   "cell_type": "markdown",
   "metadata": {},
   "source": [
    "# 1. Roaming_data\n",
    "|컬럼명|컬럼한국명|컬럼설명|샘플|\n",
    "|:-----:|:-----:|:------|:------:|\n",
    "|return|귀국일|로밍 여행자가 한국에 귀국한 날짜|20200131|\n",
    "|iso |국가코드|2자리 국가코드|us|\n",
    "|arrival |입국일|iso 국가에 도착한 날짜|20200125|\n",
    "|departure|출국일|iso 국가에서 떠난 날짜|20200127|\n",
    "|count|고객수|return 일자에 귀국한 로밍 고객 중 iso국가에 arrival에 도착해서 departure에 떠난 고객 수|3|\n",
    "\n",
    "\n",
    "[국가코드 표](http://img.echosting.cafe24.com/guide/country_code_table.pdf)"
   ]
  },
  {
   "cell_type": "code",
   "execution_count": 3,
   "metadata": {},
   "outputs": [],
   "source": [
    "roam = pd.read_csv('./data/corona_contest_data_0406/2. Roaming_data.csv')"
   ]
  },
  {
   "cell_type": "code",
   "execution_count": 4,
   "metadata": {},
   "outputs": [
    {
     "data": {
      "text/html": [
       "<div>\n",
       "<style scoped>\n",
       "    .dataframe tbody tr th:only-of-type {\n",
       "        vertical-align: middle;\n",
       "    }\n",
       "\n",
       "    .dataframe tbody tr th {\n",
       "        vertical-align: top;\n",
       "    }\n",
       "\n",
       "    .dataframe thead th {\n",
       "        text-align: right;\n",
       "    }\n",
       "</style>\n",
       "<table border=\"1\" class=\"dataframe\">\n",
       "  <thead>\n",
       "    <tr style=\"text-align: right;\">\n",
       "      <th></th>\n",
       "      <th>return</th>\n",
       "      <th>iso</th>\n",
       "      <th>arrival</th>\n",
       "      <th>departure</th>\n",
       "      <th>count</th>\n",
       "    </tr>\n",
       "  </thead>\n",
       "  <tbody>\n",
       "    <tr>\n",
       "      <th>0</th>\n",
       "      <td>20200131</td>\n",
       "      <td>ad</td>\n",
       "      <td>20200130</td>\n",
       "      <td>20200130</td>\n",
       "      <td>3</td>\n",
       "    </tr>\n",
       "    <tr>\n",
       "      <th>1</th>\n",
       "      <td>20200131</td>\n",
       "      <td>ae</td>\n",
       "      <td>20191231</td>\n",
       "      <td>20200125</td>\n",
       "      <td>3</td>\n",
       "    </tr>\n",
       "    <tr>\n",
       "      <th>2</th>\n",
       "      <td>20200131</td>\n",
       "      <td>ae</td>\n",
       "      <td>20191231</td>\n",
       "      <td>20200131</td>\n",
       "      <td>3</td>\n",
       "    </tr>\n",
       "    <tr>\n",
       "      <th>3</th>\n",
       "      <td>20200131</td>\n",
       "      <td>ae</td>\n",
       "      <td>20200102</td>\n",
       "      <td>20200102</td>\n",
       "      <td>3</td>\n",
       "    </tr>\n",
       "    <tr>\n",
       "      <th>4</th>\n",
       "      <td>20200131</td>\n",
       "      <td>ae</td>\n",
       "      <td>20200104</td>\n",
       "      <td>20200131</td>\n",
       "      <td>3</td>\n",
       "    </tr>\n",
       "  </tbody>\n",
       "</table>\n",
       "</div>"
      ],
      "text/plain": [
       "     return iso   arrival  departure  count\n",
       "0  20200131  ad  20200130   20200130      3\n",
       "1  20200131  ae  20191231   20200125      3\n",
       "2  20200131  ae  20191231   20200131      3\n",
       "3  20200131  ae  20200102   20200102      3\n",
       "4  20200131  ae  20200104   20200131      3"
      ]
     },
     "execution_count": 4,
     "metadata": {},
     "output_type": "execute_result"
    }
   ],
   "source": [
    "roam.head(5)"
   ]
  },
  {
   "cell_type": "code",
   "execution_count": 5,
   "metadata": {},
   "outputs": [
    {
     "data": {
      "text/html": [
       "<div>\n",
       "<style scoped>\n",
       "    .dataframe tbody tr th:only-of-type {\n",
       "        vertical-align: middle;\n",
       "    }\n",
       "\n",
       "    .dataframe tbody tr th {\n",
       "        vertical-align: top;\n",
       "    }\n",
       "\n",
       "    .dataframe thead th {\n",
       "        text-align: right;\n",
       "    }\n",
       "</style>\n",
       "<table border=\"1\" class=\"dataframe\">\n",
       "  <thead>\n",
       "    <tr style=\"text-align: right;\">\n",
       "      <th></th>\n",
       "      <th>count</th>\n",
       "      <th>mean</th>\n",
       "      <th>std</th>\n",
       "      <th>min</th>\n",
       "      <th>25%</th>\n",
       "      <th>50%</th>\n",
       "      <th>75%</th>\n",
       "      <th>max</th>\n",
       "    </tr>\n",
       "  </thead>\n",
       "  <tbody>\n",
       "    <tr>\n",
       "      <th>return</th>\n",
       "      <td>212325.0</td>\n",
       "      <td>2.019772e+07</td>\n",
       "      <td>4000.485699</td>\n",
       "      <td>20191201.0</td>\n",
       "      <td>20191229.0</td>\n",
       "      <td>20200122.0</td>\n",
       "      <td>20200213.0</td>\n",
       "      <td>20200331.0</td>\n",
       "    </tr>\n",
       "    <tr>\n",
       "      <th>arrival</th>\n",
       "      <td>212325.0</td>\n",
       "      <td>2.019678e+07</td>\n",
       "      <td>4349.178082</td>\n",
       "      <td>20191031.0</td>\n",
       "      <td>20191220.0</td>\n",
       "      <td>20200112.0</td>\n",
       "      <td>20200204.0</td>\n",
       "      <td>20200331.0</td>\n",
       "    </tr>\n",
       "    <tr>\n",
       "      <th>departure</th>\n",
       "      <td>212325.0</td>\n",
       "      <td>2.019713e+07</td>\n",
       "      <td>4247.698404</td>\n",
       "      <td>20191031.0</td>\n",
       "      <td>20191223.0</td>\n",
       "      <td>20200115.0</td>\n",
       "      <td>20200207.0</td>\n",
       "      <td>20200331.0</td>\n",
       "    </tr>\n",
       "    <tr>\n",
       "      <th>count</th>\n",
       "      <td>212325.0</td>\n",
       "      <td>9.172853e+00</td>\n",
       "      <td>31.835063</td>\n",
       "      <td>3.0</td>\n",
       "      <td>3.0</td>\n",
       "      <td>3.0</td>\n",
       "      <td>5.0</td>\n",
       "      <td>1687.0</td>\n",
       "    </tr>\n",
       "  </tbody>\n",
       "</table>\n",
       "</div>"
      ],
      "text/plain": [
       "              count          mean          std         min         25%  \\\n",
       "return     212325.0  2.019772e+07  4000.485699  20191201.0  20191229.0   \n",
       "arrival    212325.0  2.019678e+07  4349.178082  20191031.0  20191220.0   \n",
       "departure  212325.0  2.019713e+07  4247.698404  20191031.0  20191223.0   \n",
       "count      212325.0  9.172853e+00    31.835063         3.0         3.0   \n",
       "\n",
       "                  50%         75%         max  \n",
       "return     20200122.0  20200213.0  20200331.0  \n",
       "arrival    20200112.0  20200204.0  20200331.0  \n",
       "departure  20200115.0  20200207.0  20200331.0  \n",
       "count             3.0         5.0      1687.0  "
      ]
     },
     "execution_count": 5,
     "metadata": {},
     "output_type": "execute_result"
    }
   ],
   "source": [
    "roam.describe().T"
   ]
  },
  {
   "cell_type": "code",
   "execution_count": 6,
   "metadata": {},
   "outputs": [
    {
     "data": {
      "text/plain": [
       "<matplotlib.axes._subplots.AxesSubplot at 0x22fcfc6d148>"
      ]
     },
     "execution_count": 6,
     "metadata": {},
     "output_type": "execute_result"
    },
    {
     "data": {
      "image/png": "[encoded data removed]",
      "text/plain": [
       "<Figure size 432x288 with 1 Axes>"
      ]
     },
     "metadata": {
      "needs_background": "light"
     },
     "output_type": "display_data"
    }
   ],
   "source": [
    "sns.distplot(roam['count'])"
   ]
  },
  {
   "cell_type": "code",
   "execution_count": 7,
   "metadata": {},
   "outputs": [
    {
     "name": "stdout",
     "output_type": "stream",
     "text": [
      "return          0\n",
      "iso          2972\n",
      "arrival         0\n",
      "departure       0\n",
      "count           0\n",
      "dtype: int64\n"
     ]
    },
    {
     "data": {
      "image/png": "[encoded data removed]",
      "text/plain": [
       "<Figure size 504x504 with 1 Axes>"
      ]
     },
     "metadata": {
      "needs_background": "light"
     },
     "output_type": "display_data"
    }
   ],
   "source": [
    "# 전체 결측치 확인\n",
    "x = roam.columns\n",
    "y = roam.isnull().sum()\n",
    "print(y)\n",
    "plt.figure(figsize=(7,7))\n",
    "sns.set()\n",
    "sns.barplot(x,y)\n",
    "ax = plt.gca()\n",
    "for p in ax.patches:\n",
    "    height = p.get_height()\n",
    "    ax.text(p.get_x() + p.get_width()/2.,\n",
    "           height + 2,\n",
    "           int(height),\n",
    "           fontsize=14,\n",
    "           ha='center',\n",
    "           va='bottom')\n",
    "sns.set(font_scale = 1.5)\n",
    "ax.set_xlabel(\"Data Attributes\")\n",
    "ax.set_ylabel(\"count of missing records for each attribute\")\n",
    "plt.xticks(rotation=90)\n",
    "plt.show()"
   ]
  },
  {
   "cell_type": "markdown",
   "metadata": {},
   "source": [
    "## 결측치 탐색"
   ]
  },
  {
   "cell_type": "markdown",
   "metadata": {},
   "source": [
    "- 국가 컬럼인 iso에서만 2972개의 결측치가 발견되었다."
   ]
  },
  {
   "cell_type": "code",
   "execution_count": 8,
   "metadata": {},
   "outputs": [
    {
     "name": "stdout",
     "output_type": "stream",
     "text": [
      "국가 코드 값\n",
      " ['ad' 'ae' 'af' 'am' 'ao' 'ar' 'at' 'au' 'az' 'ba' 'bd' 'be' 'bg' 'bh'\n",
      " 'bn' 'bo' 'br' 'bw' 'by' 'ca' 'ch' 'cl' 'cn' 'co' 'cy' 'cz' 'de' 'dk'\n",
      " 'dz' 'ec' 'ee' 'eg' 'es' 'et' 'fi' 'fj' 'fr' 'ga' 'gb' 'ge' 'gh' 'gr'\n",
      " 'gu' 'hk' 'hr' 'ht' 'hu' 'id' 'ie' 'il' 'in' 'iq' 'ir' 'it' 'jm' 'jo'\n",
      " 'jp' 'ke' 'kg' 'kh' 'kw' 'kz' 'la' 'lk' 'ls' 'lt' 'lu' 'lv' 'ma' 'mc'\n",
      " 'me' 'mk' 'mm' 'mn' 'mo' 'mp' 'mt' 'mu' 'mv' 'mx' 'my' 'mz' nan 'na' 'ng'\n",
      " 'ni' 'nl' 'no' 'np' 'nz' 'om' 'pa' 'pe' 'pg' 'ph' 'pk' 'pl' 'ps' 'pt'\n",
      " 'py' 'qa' 'ro' 'rs' 'ru' 'rw' 'sa' 'sc' 'sd' 'se' 'sg' 'si' 'sk' 'sr'\n",
      " 'sv' 'th' 'tm' 'tr' 'tw' 'tz' 'ug' 'us' 'uy' 'uz' 'vn' 'za' 'zm' 'zw'\n",
      " 'al' 'bz' 'cr' 'gt' 'hn' 'is' 'lb' 'md' 'tk' 'ua' 'li' 'mg' 'an' 'do'\n",
      " 'pr' 'to' 'tt' 'cm' 'pf' 'tg' 'tn' 'vu' 'bj' 'bt' 'cd' 'ci' 'tl' 'tp'\n",
      " 'gn' 'lr' 'mr' 'mw' 'ky' 'td' 'cf' 'ne' 're' 'tc' 'ml' 'ly' 'sl' 'bf'\n",
      " 'gq' 'cv' 'gm' 'ye' 'ws']\n",
      "\n",
      "총 갯수 :  174\n"
     ]
    }
   ],
   "source": [
    "# 국가 총 갯수\n",
    "\n",
    "print('국가 코드 값\\n', roam['iso'].unique(), end='\\n')\n",
    "print('')\n",
    "print('총 갯수 : ', len(roam['iso'].unique()))"
   ]
  },
  {
   "cell_type": "code",
   "execution_count": 9,
   "metadata": {},
   "outputs": [
    {
     "data": {
      "text/plain": [
       "Text(0.5, 1.0, 'Top 30 Country')"
      ]
     },
     "execution_count": 9,
     "metadata": {},
     "output_type": "execute_result"
    },
    {
     "data": {
      "image/png": "[encoded data removed]",
      "text/plain": [
       "<Figure size 720x720 with 1 Axes>"
      ]
     },
     "metadata": {},
     "output_type": "display_data"
    }
   ],
   "source": [
    "# 국가 별 데이터 분포\n",
    "\n",
    "tmp = roam.groupby(by='iso', as_index=True)['count'].sum().sort_values().head(30)\n",
    "tmp.plot(kind='barh', figsize=(10,10))\n",
    "plt.title('Top 30 Country')"
   ]
  },
  {
   "cell_type": "markdown",
   "metadata": {},
   "source": [
    "- 로밍 \n",
    "- 모잠비크, 기니, 트리니다드토바고, 수단, 케이맨섬"
   ]
  },
  {
   "cell_type": "code",
   "execution_count": 10,
   "metadata": {},
   "outputs": [
    {
     "data": {
      "text/plain": [
       "iso\n",
       "mz    60\n",
       "gn    54\n",
       "tt    54\n",
       "sd    51\n",
       "ky    51\n",
       "ci    48\n",
       "an    39\n",
       "tn    36\n",
       "ao    33\n",
       "md    30\n",
       "ga    27\n",
       "ls    26\n",
       "ne    24\n",
       "bj    24\n",
       "sl    24\n",
       "mr    18\n",
       "re    18\n",
       "mw    12\n",
       "ly     9\n",
       "bf     9\n",
       "gq     9\n",
       "tc     6\n",
       "gm     6\n",
       "td     6\n",
       "cv     3\n",
       "ml     3\n",
       "cf     3\n",
       "to     3\n",
       "ws     3\n",
       "ye     3\n",
       "Name: count, dtype: int64"
      ]
     },
     "execution_count": 10,
     "metadata": {},
     "output_type": "execute_result"
    }
   ],
   "source": [
    "tmp.sort_values(ascending=False)"
   ]
  },
  {
   "cell_type": "code",
   "execution_count": 11,
   "metadata": {},
   "outputs": [],
   "source": [
    "# 날짜 변수로 변경\n",
    "roam['return'] = pd.to_datetime(roam['return'], format='%Y%m%d')"
   ]
  },
  {
   "cell_type": "code",
   "execution_count": 12,
   "metadata": {},
   "outputs": [],
   "source": [
    "roam['arrival'] = pd.to_datetime(roam['arrival'], format='%Y%m%d')\n",
    "roam['departure'] = pd.to_datetime(roam['departure'], format='%Y%m%d')"
   ]
  },
  {
   "cell_type": "code",
   "execution_count": 13,
   "metadata": {},
   "outputs": [
    {
     "name": "stdout",
     "output_type": "stream",
     "text": [
      "<class 'pandas.core.frame.DataFrame'>\n",
      "RangeIndex: 212325 entries, 0 to 212324\n",
      "Data columns (total 5 columns):\n",
      " #   Column     Non-Null Count   Dtype         \n",
      "---  ------     --------------   -----         \n",
      " 0   return     212325 non-null  datetime64[ns]\n",
      " 1   iso        209353 non-null  object        \n",
      " 2   arrival    212325 non-null  datetime64[ns]\n",
      " 3   departure  212325 non-null  datetime64[ns]\n",
      " 4   count      212325 non-null  int64         \n",
      "dtypes: datetime64[ns](3), int64(1), object(1)\n",
      "memory usage: 8.1+ MB\n"
     ]
    }
   ],
   "source": [
    "roam.info()"
   ]
  },
  {
   "cell_type": "code",
   "execution_count": 14,
   "metadata": {},
   "outputs": [],
   "source": [
    "# 파생변수 생성\n",
    "# arrival과 return의 차를 내서 해외에 체류한 일자수를 계산함\n",
    "\n",
    "roam['stay'] = roam['return'] - roam['arrival']"
   ]
  },
  {
   "cell_type": "markdown",
   "metadata": {},
   "source": [
    "- 로밍에 대한 데이터는 고객 아이디와 같은 Key Feature가 없기 때문에 로밍 인원수가 중복인지 아닌지 확인할 수가 없다.\n",
    "- 따라서 로밍이 얼마나 이루어졌는지에 대한 빈도나 추세 등을 확인하는 방법으로 사용해야 될것으로 보인다."
   ]
  },
  {
   "cell_type": "code",
   "execution_count": 15,
   "metadata": {},
   "outputs": [
    {
     "data": {
      "text/plain": [
       "<matplotlib.axes._subplots.AxesSubplot at 0x22fd07ed908>"
      ]
     },
     "execution_count": 15,
     "metadata": {},
     "output_type": "execute_result"
    },
    {
     "data": {
      "image/png": "[encoded data removed]",
      "text/plain": [
       "<Figure size 720x576 with 1 Axes>"
      ]
     },
     "metadata": {},
     "output_type": "display_data"
    }
   ],
   "source": [
    "roam.groupby(by='stay')['count'].sum().sort_values(ascending=True).tail(10).plot(kind='barh', figsize=(10,8))"
   ]
  },
  {
   "cell_type": "code",
   "execution_count": 16,
   "metadata": {},
   "outputs": [
    {
     "data": {
      "text/plain": [
       "1947626"
      ]
     },
     "execution_count": 16,
     "metadata": {},
     "output_type": "execute_result"
    }
   ],
   "source": [
    "roam['count'].sum()"
   ]
  },
  {
   "cell_type": "markdown",
   "metadata": {},
   "source": [
    "- 총 194만 건의 count 중, 3일 동안의 해외체류가 약 40만건으로 가장 많았고, 4일이 27만건, 0일 2일이 23만건 정도로 나타났다."
   ]
  },
  {
   "cell_type": "code",
   "execution_count": 17,
   "metadata": {},
   "outputs": [
    {
     "name": "stdout",
     "output_type": "stream",
     "text": [
      "count                    212325\n",
      "mean     9 days 06:51:46.758036\n",
      "std      7 days 10:06:56.555469\n",
      "min             0 days 00:00:00\n",
      "25%             4 days 00:00:00\n",
      "50%             7 days 00:00:00\n",
      "75%            12 days 00:00:00\n",
      "max            31 days 00:00:00\n",
      "Name: stay, dtype: object\n"
     ]
    },
    {
     "data": {
      "text/plain": [
       "{'whiskers': [<matplotlib.lines.Line2D at 0x22fd0a3bec8>,\n",
       "  <matplotlib.lines.Line2D at 0x22fd0dc9a08>],\n",
       " 'caps': [<matplotlib.lines.Line2D at 0x22fd0dc9b08>,\n",
       "  <matplotlib.lines.Line2D at 0x22fd0dce988>],\n",
       " 'boxes': [<matplotlib.lines.Line2D at 0x22fd0dbfd48>],\n",
       " 'medians': [<matplotlib.lines.Line2D at 0x22fd0dcea88>],\n",
       " 'fliers': [<matplotlib.lines.Line2D at 0x22fd0dd3908>],\n",
       " 'means': []}"
      ]
     },
     "execution_count": 17,
     "metadata": {},
     "output_type": "execute_result"
    },
    {
     "data": {
      "image/png": "[encoded data removed]",
      "text/plain": [
       "<Figure size 432x288 with 1 Axes>"
      ]
     },
     "metadata": {},
     "output_type": "display_data"
    }
   ],
   "source": [
    "print(roam['stay'].describe().T)\n",
    "plt.boxplot(roam['stay'])"
   ]
  },
  {
   "cell_type": "markdown",
   "metadata": {},
   "source": [
    "- 최고 체류일자는 31일이다. \n",
    "- 대체로 출발부터 귀국까지 7일 정도 이용하는 것으로 보인다."
   ]
  },
  {
   "cell_type": "code",
   "execution_count": 18,
   "metadata": {},
   "outputs": [
    {
     "data": {
      "text/html": [
       "<div>\n",
       "<style scoped>\n",
       "    .dataframe tbody tr th:only-of-type {\n",
       "        vertical-align: middle;\n",
       "    }\n",
       "\n",
       "    .dataframe tbody tr th {\n",
       "        vertical-align: top;\n",
       "    }\n",
       "\n",
       "    .dataframe thead th {\n",
       "        text-align: right;\n",
       "    }\n",
       "</style>\n",
       "<table border=\"1\" class=\"dataframe\">\n",
       "  <thead>\n",
       "    <tr style=\"text-align: right;\">\n",
       "      <th></th>\n",
       "      <th>return</th>\n",
       "      <th>iso</th>\n",
       "      <th>arrival</th>\n",
       "      <th>departure</th>\n",
       "      <th>count</th>\n",
       "      <th>stay</th>\n",
       "    </tr>\n",
       "  </thead>\n",
       "  <tbody>\n",
       "    <tr>\n",
       "      <th>0</th>\n",
       "      <td>2020-01-31</td>\n",
       "      <td>ad</td>\n",
       "      <td>2020-01-30</td>\n",
       "      <td>2020-01-30</td>\n",
       "      <td>3</td>\n",
       "      <td>1 days</td>\n",
       "    </tr>\n",
       "    <tr>\n",
       "      <th>1</th>\n",
       "      <td>2020-01-31</td>\n",
       "      <td>ae</td>\n",
       "      <td>2019-12-31</td>\n",
       "      <td>2020-01-25</td>\n",
       "      <td>3</td>\n",
       "      <td>31 days</td>\n",
       "    </tr>\n",
       "    <tr>\n",
       "      <th>2</th>\n",
       "      <td>2020-01-31</td>\n",
       "      <td>ae</td>\n",
       "      <td>2019-12-31</td>\n",
       "      <td>2020-01-31</td>\n",
       "      <td>3</td>\n",
       "      <td>31 days</td>\n",
       "    </tr>\n",
       "    <tr>\n",
       "      <th>3</th>\n",
       "      <td>2020-01-31</td>\n",
       "      <td>ae</td>\n",
       "      <td>2020-01-02</td>\n",
       "      <td>2020-01-02</td>\n",
       "      <td>3</td>\n",
       "      <td>29 days</td>\n",
       "    </tr>\n",
       "    <tr>\n",
       "      <th>4</th>\n",
       "      <td>2020-01-31</td>\n",
       "      <td>ae</td>\n",
       "      <td>2020-01-04</td>\n",
       "      <td>2020-01-31</td>\n",
       "      <td>3</td>\n",
       "      <td>27 days</td>\n",
       "    </tr>\n",
       "  </tbody>\n",
       "</table>\n",
       "</div>"
      ],
      "text/plain": [
       "      return iso    arrival  departure  count    stay\n",
       "0 2020-01-31  ad 2020-01-30 2020-01-30      3  1 days\n",
       "1 2020-01-31  ae 2019-12-31 2020-01-25      3 31 days\n",
       "2 2020-01-31  ae 2019-12-31 2020-01-31      3 31 days\n",
       "3 2020-01-31  ae 2020-01-02 2020-01-02      3 29 days\n",
       "4 2020-01-31  ae 2020-01-04 2020-01-31      3 27 days"
      ]
     },
     "execution_count": 18,
     "metadata": {},
     "output_type": "execute_result"
    }
   ],
   "source": [
    "roam.head()"
   ]
  },
  {
   "cell_type": "code",
   "execution_count": 59,
   "metadata": {},
   "outputs": [],
   "source": [
    "from matplotlib import font_manager, rc\n",
    "font_name = font_manager.FontProperties(fname=\"c:/Windows/Fonts/malgun.ttf\").get_name()\n",
    "rc('font', family=font_name)"
   ]
  },
  {
   "cell_type": "code",
   "execution_count": 60,
   "metadata": {},
   "outputs": [
    {
     "data": {
      "text/plain": [
       "Text(0.5, 1.0, '일별 로밍 고객 수')"
      ]
     },
     "execution_count": 60,
     "metadata": {},
     "output_type": "execute_result"
    },
    {
     "data": {
      "image/png": "[encoded data removed]",
      "text/plain": [
       "<Figure size 1440x504 with 1 Axes>"
      ]
     },
     "metadata": {},
     "output_type": "display_data"
    }
   ],
   "source": [
    "# 날짜에 따른 arrival 고객 확인\n",
    "\n",
    "group_of_date = roam.groupby('return', as_index=False)[['count']].sum()\n",
    "plt.figure(figsize=(20,7))\n",
    "plt.plot(group_of_date['return'],group_of_date['count'],'--', label=\"value\")\n",
    "plt.title('일별 로밍 고객 수')"
   ]
  },
  {
   "cell_type": "code",
   "execution_count": 61,
   "metadata": {},
   "outputs": [
    {
     "data": {
      "text/plain": [
       "Text(0.5, 1.0, '일별 로밍 평균 고객 수')"
      ]
     },
     "execution_count": 61,
     "metadata": {},
     "output_type": "execute_result"
    },
    {
     "data": {
      "image/png": "[encoded data removed]",
      "text/plain": [
       "<Figure size 1440x504 with 1 Axes>"
      ]
     },
     "metadata": {},
     "output_type": "display_data"
    }
   ],
   "source": [
    "# 날짜에 따른 arrival 고객 확인\n",
    "\n",
    "group_of_date = roam.groupby('return', as_index=False)[['count']].mean()\n",
    "plt.figure(figsize=(20,7))\n",
    "plt.plot(group_of_date['return'],group_of_date['count'],'--', label=\"value\", color='salmon')\n",
    "plt.title('일별 로밍 평균 고객 수')"
   ]
  },
  {
   "cell_type": "markdown",
   "metadata": {},
   "source": [
    "- 일정한 주기를 띄는 것을 보아 주말에 arrival한 사람들이 많는 것으로 보인다.\n",
    "- 코로나 감염이 크게 확산됐던 1월 말 경에는 로밍 숫자가 최고점을 찍고\n",
    "- 이후 계속적으로 감소한다."
   ]
  },
  {
   "cell_type": "markdown",
   "metadata": {},
   "source": [
    "# 2. 캐글 데이터"
   ]
  },
  {
   "cell_type": "code",
   "execution_count": 21,
   "metadata": {},
   "outputs": [],
   "source": [
    "kag = pd.read_csv('./data/covid_19_clean_complete.csv')"
   ]
  },
  {
   "cell_type": "code",
   "execution_count": 22,
   "metadata": {},
   "outputs": [],
   "source": [
    "kag['Date'] = pd.to_datetime(kag['Date'])"
   ]
  },
  {
   "cell_type": "code",
   "execution_count": 23,
   "metadata": {},
   "outputs": [
    {
     "data": {
      "text/html": [
       "<div>\n",
       "<style scoped>\n",
       "    .dataframe tbody tr th:only-of-type {\n",
       "        vertical-align: middle;\n",
       "    }\n",
       "\n",
       "    .dataframe tbody tr th {\n",
       "        vertical-align: top;\n",
       "    }\n",
       "\n",
       "    .dataframe thead th {\n",
       "        text-align: right;\n",
       "    }\n",
       "</style>\n",
       "<table border=\"1\" class=\"dataframe\">\n",
       "  <thead>\n",
       "    <tr style=\"text-align: right;\">\n",
       "      <th></th>\n",
       "      <th>Province/State</th>\n",
       "      <th>Country/Region</th>\n",
       "      <th>Lat</th>\n",
       "      <th>Long</th>\n",
       "      <th>Date</th>\n",
       "      <th>Confirmed</th>\n",
       "      <th>Deaths</th>\n",
       "      <th>Recovered</th>\n",
       "    </tr>\n",
       "  </thead>\n",
       "  <tbody>\n",
       "    <tr>\n",
       "      <th>0</th>\n",
       "      <td>NaN</td>\n",
       "      <td>Afghanistan</td>\n",
       "      <td>33.0000</td>\n",
       "      <td>65.0000</td>\n",
       "      <td>2020-01-22</td>\n",
       "      <td>0</td>\n",
       "      <td>0</td>\n",
       "      <td>0</td>\n",
       "    </tr>\n",
       "    <tr>\n",
       "      <th>1</th>\n",
       "      <td>NaN</td>\n",
       "      <td>Albania</td>\n",
       "      <td>41.1533</td>\n",
       "      <td>20.1683</td>\n",
       "      <td>2020-01-22</td>\n",
       "      <td>0</td>\n",
       "      <td>0</td>\n",
       "      <td>0</td>\n",
       "    </tr>\n",
       "    <tr>\n",
       "      <th>2</th>\n",
       "      <td>NaN</td>\n",
       "      <td>Algeria</td>\n",
       "      <td>28.0339</td>\n",
       "      <td>1.6596</td>\n",
       "      <td>2020-01-22</td>\n",
       "      <td>0</td>\n",
       "      <td>0</td>\n",
       "      <td>0</td>\n",
       "    </tr>\n",
       "    <tr>\n",
       "      <th>3</th>\n",
       "      <td>NaN</td>\n",
       "      <td>Andorra</td>\n",
       "      <td>42.5063</td>\n",
       "      <td>1.5218</td>\n",
       "      <td>2020-01-22</td>\n",
       "      <td>0</td>\n",
       "      <td>0</td>\n",
       "      <td>0</td>\n",
       "    </tr>\n",
       "    <tr>\n",
       "      <th>4</th>\n",
       "      <td>NaN</td>\n",
       "      <td>Angola</td>\n",
       "      <td>-11.2027</td>\n",
       "      <td>17.8739</td>\n",
       "      <td>2020-01-22</td>\n",
       "      <td>0</td>\n",
       "      <td>0</td>\n",
       "      <td>0</td>\n",
       "    </tr>\n",
       "  </tbody>\n",
       "</table>\n",
       "</div>"
      ],
      "text/plain": [
       "  Province/State Country/Region      Lat     Long       Date  Confirmed  \\\n",
       "0            NaN    Afghanistan  33.0000  65.0000 2020-01-22          0   \n",
       "1            NaN        Albania  41.1533  20.1683 2020-01-22          0   \n",
       "2            NaN        Algeria  28.0339   1.6596 2020-01-22          0   \n",
       "3            NaN        Andorra  42.5063   1.5218 2020-01-22          0   \n",
       "4            NaN         Angola -11.2027  17.8739 2020-01-22          0   \n",
       "\n",
       "   Deaths  Recovered  \n",
       "0       0          0  \n",
       "1       0          0  \n",
       "2       0          0  \n",
       "3       0          0  \n",
       "4       0          0  "
      ]
     },
     "execution_count": 23,
     "metadata": {},
     "output_type": "execute_result"
    }
   ],
   "source": [
    "kag.head()"
   ]
  },
  {
   "cell_type": "code",
   "execution_count": 24,
   "metadata": {},
   "outputs": [
    {
     "name": "stdout",
     "output_type": "stream",
     "text": [
      "Province/State    15470\n",
      "Country/Region        0\n",
      "Lat                   0\n",
      "Long                  0\n",
      "Date                  0\n",
      "Confirmed             0\n",
      "Deaths                0\n",
      "Recovered             0\n",
      "dtype: int64\n"
     ]
    },
    {
     "data": {
      "image/png": "[encoded data removed]",
      "text/plain": [
       "<Figure size 504x504 with 1 Axes>"
      ]
     },
     "metadata": {},
     "output_type": "display_data"
    }
   ],
   "source": [
    "# 전체 결측치 확인\n",
    "x = kag.columns\n",
    "y = kag.isnull().sum()\n",
    "print(y)\n",
    "plt.figure(figsize=(7,7))\n",
    "sns.set()\n",
    "sns.barplot(x,y)\n",
    "ax = plt.gca()\n",
    "for p in ax.patches:\n",
    "    height = p.get_height()\n",
    "    ax.text(p.get_x() + p.get_width()/2.,\n",
    "           height + 2,\n",
    "           int(height),\n",
    "           fontsize=14,\n",
    "           ha='center',\n",
    "           va='bottom')\n",
    "sns.set(font_scale = 1.5)\n",
    "ax.set_xlabel(\"Data Attributes\")\n",
    "ax.set_ylabel(\"count of missing records for each attribute\")\n",
    "plt.xticks(rotation=90)\n",
    "plt.show()"
   ]
  },
  {
   "cell_type": "code",
   "execution_count": 25,
   "metadata": {},
   "outputs": [
    {
     "name": "stderr",
     "output_type": "stream",
     "text": [
      "C:\\Users\\Joshua\\anaconda3\\lib\\site-packages\\ipykernel_launcher.py:3: FutureWarning: Indexing with multiple keys (implicitly converted to a tuple of keys) will be deprecated, use a list instead.\n",
      "  This is separate from the ipykernel package so we can avoid doing imports until\n"
     ]
    },
    {
     "data": {
      "text/html": [
       "<div>\n",
       "<style scoped>\n",
       "    .dataframe tbody tr th:only-of-type {\n",
       "        vertical-align: middle;\n",
       "    }\n",
       "\n",
       "    .dataframe tbody tr th {\n",
       "        vertical-align: top;\n",
       "    }\n",
       "\n",
       "    .dataframe thead th {\n",
       "        text-align: right;\n",
       "    }\n",
       "</style>\n",
       "<table border=\"1\" class=\"dataframe\">\n",
       "  <thead>\n",
       "    <tr style=\"text-align: right;\">\n",
       "      <th></th>\n",
       "      <th>Lat</th>\n",
       "      <th>Long</th>\n",
       "    </tr>\n",
       "    <tr>\n",
       "      <th>Country/Region</th>\n",
       "      <th></th>\n",
       "      <th></th>\n",
       "    </tr>\n",
       "  </thead>\n",
       "  <tbody>\n",
       "    <tr>\n",
       "      <th>Afghanistan</th>\n",
       "      <td>33.000000</td>\n",
       "      <td>65.000000</td>\n",
       "    </tr>\n",
       "    <tr>\n",
       "      <th>Albania</th>\n",
       "      <td>41.153300</td>\n",
       "      <td>20.168300</td>\n",
       "    </tr>\n",
       "    <tr>\n",
       "      <th>Algeria</th>\n",
       "      <td>28.033900</td>\n",
       "      <td>1.659600</td>\n",
       "    </tr>\n",
       "    <tr>\n",
       "      <th>Andorra</th>\n",
       "      <td>42.506300</td>\n",
       "      <td>1.521800</td>\n",
       "    </tr>\n",
       "    <tr>\n",
       "      <th>Angola</th>\n",
       "      <td>-11.202700</td>\n",
       "      <td>17.873900</td>\n",
       "    </tr>\n",
       "    <tr>\n",
       "      <th>...</th>\n",
       "      <td>...</td>\n",
       "      <td>...</td>\n",
       "    </tr>\n",
       "    <tr>\n",
       "      <th>West Bank and Gaza</th>\n",
       "      <td>31.952200</td>\n",
       "      <td>35.233200</td>\n",
       "    </tr>\n",
       "    <tr>\n",
       "      <th>Western Sahara</th>\n",
       "      <td>24.215500</td>\n",
       "      <td>-12.885800</td>\n",
       "    </tr>\n",
       "    <tr>\n",
       "      <th>Yemen</th>\n",
       "      <td>15.552727</td>\n",
       "      <td>48.516388</td>\n",
       "    </tr>\n",
       "    <tr>\n",
       "      <th>Zambia</th>\n",
       "      <td>-15.416700</td>\n",
       "      <td>28.283300</td>\n",
       "    </tr>\n",
       "    <tr>\n",
       "      <th>Zimbabwe</th>\n",
       "      <td>-20.000000</td>\n",
       "      <td>30.000000</td>\n",
       "    </tr>\n",
       "  </tbody>\n",
       "</table>\n",
       "<p>185 rows × 2 columns</p>\n",
       "</div>"
      ],
      "text/plain": [
       "                          Lat       Long\n",
       "Country/Region                          \n",
       "Afghanistan         33.000000  65.000000\n",
       "Albania             41.153300  20.168300\n",
       "Algeria             28.033900   1.659600\n",
       "Andorra             42.506300   1.521800\n",
       "Angola             -11.202700  17.873900\n",
       "...                       ...        ...\n",
       "West Bank and Gaza  31.952200  35.233200\n",
       "Western Sahara      24.215500 -12.885800\n",
       "Yemen               15.552727  48.516388\n",
       "Zambia             -15.416700  28.283300\n",
       "Zimbabwe           -20.000000  30.000000\n",
       "\n",
       "[185 rows x 2 columns]"
      ]
     },
     "execution_count": 25,
     "metadata": {},
     "output_type": "execute_result"
    }
   ],
   "source": [
    "# 위도 경도 값이 국가 위치인지 확인\n",
    "\n",
    "kag.groupby(['Country/Region'])['Lat','Long'].mean()"
   ]
  },
  {
   "cell_type": "markdown",
   "metadata": {},
   "source": [
    "# 이상치 검출"
   ]
  },
  {
   "cell_type": "code",
   "execution_count": 26,
   "metadata": {},
   "outputs": [
    {
     "name": "stdout",
     "output_type": "stream",
     "text": [
      "<class 'pandas.core.frame.DataFrame'>\n",
      "RangeIndex: 22270 entries, 0 to 22269\n",
      "Data columns (total 8 columns):\n",
      " #   Column          Non-Null Count  Dtype         \n",
      "---  ------          --------------  -----         \n",
      " 0   Province/State  6800 non-null   object        \n",
      " 1   Country/Region  22270 non-null  object        \n",
      " 2   Lat             22270 non-null  float64       \n",
      " 3   Long            22270 non-null  float64       \n",
      " 4   Date            22270 non-null  datetime64[ns]\n",
      " 5   Confirmed       22270 non-null  int64         \n",
      " 6   Deaths          22270 non-null  int64         \n",
      " 7   Recovered       22270 non-null  int64         \n",
      "dtypes: datetime64[ns](1), float64(2), int64(3), object(2)\n",
      "memory usage: 1.4+ MB\n"
     ]
    }
   ],
   "source": [
    "kag.info()"
   ]
  },
  {
   "cell_type": "code",
   "execution_count": 27,
   "metadata": {},
   "outputs": [
    {
     "data": {
      "text/html": [
       "<div>\n",
       "<style scoped>\n",
       "    .dataframe tbody tr th:only-of-type {\n",
       "        vertical-align: middle;\n",
       "    }\n",
       "\n",
       "    .dataframe tbody tr th {\n",
       "        vertical-align: top;\n",
       "    }\n",
       "\n",
       "    .dataframe thead th {\n",
       "        text-align: right;\n",
       "    }\n",
       "</style>\n",
       "<table border=\"1\" class=\"dataframe\">\n",
       "  <thead>\n",
       "    <tr style=\"text-align: right;\">\n",
       "      <th></th>\n",
       "      <th>Confirmed</th>\n",
       "      <th>Deaths</th>\n",
       "      <th>Recovered</th>\n",
       "    </tr>\n",
       "  </thead>\n",
       "  <tbody>\n",
       "    <tr>\n",
       "      <th>0</th>\n",
       "      <td>0</td>\n",
       "      <td>0</td>\n",
       "      <td>0</td>\n",
       "    </tr>\n",
       "    <tr>\n",
       "      <th>1</th>\n",
       "      <td>0</td>\n",
       "      <td>0</td>\n",
       "      <td>0</td>\n",
       "    </tr>\n",
       "    <tr>\n",
       "      <th>2</th>\n",
       "      <td>0</td>\n",
       "      <td>0</td>\n",
       "      <td>0</td>\n",
       "    </tr>\n",
       "    <tr>\n",
       "      <th>3</th>\n",
       "      <td>0</td>\n",
       "      <td>0</td>\n",
       "      <td>0</td>\n",
       "    </tr>\n",
       "    <tr>\n",
       "      <th>4</th>\n",
       "      <td>0</td>\n",
       "      <td>0</td>\n",
       "      <td>0</td>\n",
       "    </tr>\n",
       "  </tbody>\n",
       "</table>\n",
       "</div>"
      ],
      "text/plain": [
       "   Confirmed  Deaths  Recovered\n",
       "0          0       0          0\n",
       "1          0       0          0\n",
       "2          0       0          0\n",
       "3          0       0          0\n",
       "4          0       0          0"
      ]
     },
     "execution_count": 27,
     "metadata": {},
     "output_type": "execute_result"
    }
   ],
   "source": [
    "kag[['Confirmed','Deaths','Recovered']].head()"
   ]
  },
  {
   "cell_type": "code",
   "execution_count": 28,
   "metadata": {},
   "outputs": [
    {
     "data": {
      "text/plain": [
       "<matplotlib.axes._subplots.AxesSubplot at 0x22fd0cf7dc8>"
      ]
     },
     "execution_count": 28,
     "metadata": {},
     "output_type": "execute_result"
    },
    {
     "data": {
      "image/png": "[encoded data removed]",
      "text/plain": [
       "<Figure size 1440x288 with 1 Axes>"
      ]
     },
     "metadata": {},
     "output_type": "display_data"
    }
   ],
   "source": [
    "plt.figure(figsize=(20,4))\n",
    "sns.boxplot(data=kag[['Confirmed','Deaths','Recovered']], orient='h')"
   ]
  },
  {
   "cell_type": "markdown",
   "metadata": {},
   "source": [
    "- 이상치는 큰 의미가 없을 것으로 보인다. \n",
    "- 질병관리본부의 브리핑, 발표자료를 확인하면 초기에는 확진자수가 크게 많지 않았으나 대구 신천지교회와 같은 집단 확산으로 인해 급등한 이력이 있다.\n",
    "- 따라서 이상치는 당연히 존재하는 것으로 생각하고 분석을 진행한다."
   ]
  },
  {
   "cell_type": "code",
   "execution_count": 29,
   "metadata": {},
   "outputs": [],
   "source": [
    "# 백분위수 기반 이상치 검출\n",
    "# 백분위 수 범위가 2.5~97.5 사이인 모든 데이터를 사용하기 위해 Threshold를 95%로 설정하여 범위를 도출한다.\n",
    "\n",
    "def percentile_based_outlier(data, threshold=95):\n",
    "    diff = (100 - threshold)/2.0\n",
    "    (minval, maxval) = np.percentile(data, [diff, 100 - diff])\n",
    "    return ((data < minval) | (data > maxval))"
   ]
  },
  {
   "cell_type": "code",
   "execution_count": 30,
   "metadata": {},
   "outputs": [],
   "source": [
    "# 중위수 절대 편차 기반 이상치 검출\n",
    "\n",
    "def mad_based_outlier(points, threshold=3.5):\n",
    "    median_y = np.median(points)\n",
    "    median_absolute_deviation_y = np.median([np.abs(y - median_y) for y in points])\n",
    "    modified_z_scores = [0.6745 * (y - median_y) / median_absolute_deviation_y for y in points]\n",
    "    \n",
    "    return np.abs(modified_z_scores) > threshold"
   ]
  },
  {
   "cell_type": "code",
   "execution_count": 31,
   "metadata": {},
   "outputs": [],
   "source": [
    "# 표준편차 기반 이상점 검출\n",
    "# 표준편차와 평균값을 이용해서 이상치을 찾는다.\n",
    "def std_div(data, threshold=3):\n",
    "    std = data.std()\n",
    "    mean = data.mean()\n",
    "    isOutlier = []\n",
    "    for val in data:\n",
    "        if val/std > threshold:\n",
    "            isOutlier.append(True)\n",
    "        else:\n",
    "            isOutlier.append(False)\n",
    "    return isOutlier"
   ]
  },
  {
   "cell_type": "code",
   "execution_count": 32,
   "metadata": {},
   "outputs": [],
   "source": [
    "# 다수결 투표 기반 이상치 검출\n",
    "def outlierVote(data):\n",
    "    x = percentile_based_outlier(data)\n",
    "    y = mad_based_outlier(data)\n",
    "    z = std_div(data)\n",
    "    \n",
    "    temp = list(zip(data.index, x, y, z))\n",
    "    \n",
    "    final = []\n",
    "    for i in range(len(data.index)):\n",
    "        if temp[i].count(False) >= 2:\n",
    "            final.append(False)\n",
    "        else:\n",
    "            final.append(True)\n",
    "    return final"
   ]
  },
  {
   "cell_type": "code",
   "execution_count": 33,
   "metadata": {},
   "outputs": [],
   "source": [
    "# 이상치 시각화\n",
    "\n",
    "def plotOutlier(x):\n",
    "    fig,axes = plt.subplots(nrows=4)\n",
    "    for ax, func in zip(axes, [percentile_based_outlier, mad_based_outlier, std_div, outlierVote]):\n",
    "        sns.distplot(x, ax=ax, rug=True, hist=False)\n",
    "        outliers = x[func(x)]\n",
    "        ax.plot(outliers, np.zeros_like(outliers),'ro', clip_on=False)\n",
    "    \n",
    "    kwargs = dict(y=0.95, x=0.5, ha='left', va ='top', size = 20)\n",
    "    axes[0].set_title(\"Percentitle-based Outliers\", **kwargs)\n",
    "    axes[1].set_title('MAD-based Outliers',**kwargs)\n",
    "    axes[2].set_title('STD-based Outliers',**kwargs)\n",
    "    axes[3].set_title('Majority vote based Outliers',**kwargs)\n",
    "    fig.suptitle(\"Comparing Outlier Tests with n={}\".format(len(x)), size=20)\n",
    "    fig = plt.gcf()\n",
    "    fig.set_size_inches(15,10)"
   ]
  },
  {
   "cell_type": "code",
   "execution_count": 34,
   "metadata": {},
   "outputs": [
    {
     "data": {
      "image/png": "[encoded data removed]",
      "text/plain": [
       "<Figure size 1080x720 with 4 Axes>"
      ]
     },
     "metadata": {},
     "output_type": "display_data"
    }
   ],
   "source": [
    "plotOutlier(kag.Confirmed.sample(1000))"
   ]
  },
  {
   "cell_type": "code",
   "execution_count": 35,
   "metadata": {},
   "outputs": [],
   "source": [
    "kag_dated = kag.groupby(['Date'], as_index=False)['Confirmed'].sum()"
   ]
  },
  {
   "cell_type": "code",
   "execution_count": 62,
   "metadata": {},
   "outputs": [
    {
     "name": "stdout",
     "output_type": "stream",
     "text": [
      "count                     122\n",
      "unique                    122\n",
      "top       2020-03-13 00:00:00\n",
      "freq                        1\n",
      "first     2019-12-01 00:00:00\n",
      "last      2020-03-31 00:00:00\n",
      "Name: return, dtype: object\n",
      "count                      85\n",
      "unique                     85\n",
      "top       2020-03-13 00:00:00\n",
      "freq                        1\n",
      "first     2020-01-22 00:00:00\n",
      "last      2020-04-15 00:00:00\n",
      "Name: Date, dtype: object\n"
     ]
    },
    {
     "data": {
      "image/png": "[encoded data removed]",
      "text/plain": [
       "<Figure size 1728x576 with 2 Axes>"
      ]
     },
     "metadata": {},
     "output_type": "display_data"
    }
   ],
   "source": [
    "# 날짜에 따른 arrival 고객 확인\n",
    "\n",
    "group_of_date = roam.groupby('return', as_index=False)[['count']].sum()\n",
    "fig, ax = plt.subplots(nrows = 1, ncols = 2,\n",
    "                      figsize = (24,8))\n",
    "ax[0].plot(group_of_date['return'],group_of_date['count'],'--', label=\"count\")\n",
    "ax[0].set_title('일별 로밍 고객 수 추이')\n",
    "ax[1].plot(kag_dated['Date'], kag_dated['Confirmed'], '-', label='Confirmed', color='salmon')\n",
    "ax[1].set_title('전세계 코로나 감염 인구수 추이')\n",
    "print(group_of_date['return'].describe())\n",
    "print(kag_dated['Date'].describe())"
   ]
  },
  {
   "cell_type": "markdown",
   "metadata": {},
   "source": [
    "1. 캐글 데이터에서 일별 한국 확진자 추출\n",
    "2. 추출한 데이터와 로밍데이터 결합"
   ]
  },
  {
   "cell_type": "code",
   "execution_count": 37,
   "metadata": {},
   "outputs": [
    {
     "data": {
      "text/html": [
       "<div>\n",
       "<style scoped>\n",
       "    .dataframe tbody tr th:only-of-type {\n",
       "        vertical-align: middle;\n",
       "    }\n",
       "\n",
       "    .dataframe tbody tr th {\n",
       "        vertical-align: top;\n",
       "    }\n",
       "\n",
       "    .dataframe thead th {\n",
       "        text-align: right;\n",
       "    }\n",
       "</style>\n",
       "<table border=\"1\" class=\"dataframe\">\n",
       "  <thead>\n",
       "    <tr style=\"text-align: right;\">\n",
       "      <th></th>\n",
       "      <th>Province/State</th>\n",
       "      <th>Country/Region</th>\n",
       "      <th>Lat</th>\n",
       "      <th>Long</th>\n",
       "      <th>Date</th>\n",
       "      <th>Confirmed</th>\n",
       "      <th>Deaths</th>\n",
       "      <th>Recovered</th>\n",
       "    </tr>\n",
       "  </thead>\n",
       "  <tbody>\n",
       "    <tr>\n",
       "      <th>0</th>\n",
       "      <td>NaN</td>\n",
       "      <td>Afghanistan</td>\n",
       "      <td>33.0000</td>\n",
       "      <td>65.0000</td>\n",
       "      <td>2020-01-22</td>\n",
       "      <td>0</td>\n",
       "      <td>0</td>\n",
       "      <td>0</td>\n",
       "    </tr>\n",
       "    <tr>\n",
       "      <th>1</th>\n",
       "      <td>NaN</td>\n",
       "      <td>Albania</td>\n",
       "      <td>41.1533</td>\n",
       "      <td>20.1683</td>\n",
       "      <td>2020-01-22</td>\n",
       "      <td>0</td>\n",
       "      <td>0</td>\n",
       "      <td>0</td>\n",
       "    </tr>\n",
       "    <tr>\n",
       "      <th>2</th>\n",
       "      <td>NaN</td>\n",
       "      <td>Algeria</td>\n",
       "      <td>28.0339</td>\n",
       "      <td>1.6596</td>\n",
       "      <td>2020-01-22</td>\n",
       "      <td>0</td>\n",
       "      <td>0</td>\n",
       "      <td>0</td>\n",
       "    </tr>\n",
       "    <tr>\n",
       "      <th>3</th>\n",
       "      <td>NaN</td>\n",
       "      <td>Andorra</td>\n",
       "      <td>42.5063</td>\n",
       "      <td>1.5218</td>\n",
       "      <td>2020-01-22</td>\n",
       "      <td>0</td>\n",
       "      <td>0</td>\n",
       "      <td>0</td>\n",
       "    </tr>\n",
       "    <tr>\n",
       "      <th>4</th>\n",
       "      <td>NaN</td>\n",
       "      <td>Angola</td>\n",
       "      <td>-11.2027</td>\n",
       "      <td>17.8739</td>\n",
       "      <td>2020-01-22</td>\n",
       "      <td>0</td>\n",
       "      <td>0</td>\n",
       "      <td>0</td>\n",
       "    </tr>\n",
       "  </tbody>\n",
       "</table>\n",
       "</div>"
      ],
      "text/plain": [
       "  Province/State Country/Region      Lat     Long       Date  Confirmed  \\\n",
       "0            NaN    Afghanistan  33.0000  65.0000 2020-01-22          0   \n",
       "1            NaN        Albania  41.1533  20.1683 2020-01-22          0   \n",
       "2            NaN        Algeria  28.0339   1.6596 2020-01-22          0   \n",
       "3            NaN        Andorra  42.5063   1.5218 2020-01-22          0   \n",
       "4            NaN         Angola -11.2027  17.8739 2020-01-22          0   \n",
       "\n",
       "   Deaths  Recovered  \n",
       "0       0          0  \n",
       "1       0          0  \n",
       "2       0          0  \n",
       "3       0          0  \n",
       "4       0          0  "
      ]
     },
     "execution_count": 37,
     "metadata": {},
     "output_type": "execute_result"
    }
   ],
   "source": [
    "kag.head()"
   ]
  },
  {
   "cell_type": "code",
   "execution_count": 38,
   "metadata": {},
   "outputs": [],
   "source": [
    "# 한국데이터 추출\n",
    "kag_kor = kag.loc[kag['Country/Region']=='South Korea']"
   ]
  },
  {
   "cell_type": "code",
   "execution_count": 39,
   "metadata": {},
   "outputs": [
    {
     "data": {
      "text/html": [
       "<div>\n",
       "<style scoped>\n",
       "    .dataframe tbody tr th:only-of-type {\n",
       "        vertical-align: middle;\n",
       "    }\n",
       "\n",
       "    .dataframe tbody tr th {\n",
       "        vertical-align: top;\n",
       "    }\n",
       "\n",
       "    .dataframe thead th {\n",
       "        text-align: right;\n",
       "    }\n",
       "</style>\n",
       "<table border=\"1\" class=\"dataframe\">\n",
       "  <thead>\n",
       "    <tr style=\"text-align: right;\">\n",
       "      <th></th>\n",
       "      <th>Province/State</th>\n",
       "      <th>Country/Region</th>\n",
       "      <th>Lat</th>\n",
       "      <th>Long</th>\n",
       "      <th>Date</th>\n",
       "      <th>Confirmed</th>\n",
       "      <th>Deaths</th>\n",
       "      <th>Recovered</th>\n",
       "    </tr>\n",
       "  </thead>\n",
       "  <tbody>\n",
       "    <tr>\n",
       "      <th>21103</th>\n",
       "      <td>NaN</td>\n",
       "      <td>South Korea</td>\n",
       "      <td>36.0</td>\n",
       "      <td>128.0</td>\n",
       "      <td>2020-04-11</td>\n",
       "      <td>10480</td>\n",
       "      <td>211</td>\n",
       "      <td>7243</td>\n",
       "    </tr>\n",
       "    <tr>\n",
       "      <th>21365</th>\n",
       "      <td>NaN</td>\n",
       "      <td>South Korea</td>\n",
       "      <td>36.0</td>\n",
       "      <td>128.0</td>\n",
       "      <td>2020-04-12</td>\n",
       "      <td>10512</td>\n",
       "      <td>214</td>\n",
       "      <td>7368</td>\n",
       "    </tr>\n",
       "    <tr>\n",
       "      <th>21627</th>\n",
       "      <td>NaN</td>\n",
       "      <td>South Korea</td>\n",
       "      <td>36.0</td>\n",
       "      <td>128.0</td>\n",
       "      <td>2020-04-13</td>\n",
       "      <td>10537</td>\n",
       "      <td>217</td>\n",
       "      <td>7447</td>\n",
       "    </tr>\n",
       "    <tr>\n",
       "      <th>21889</th>\n",
       "      <td>NaN</td>\n",
       "      <td>South Korea</td>\n",
       "      <td>36.0</td>\n",
       "      <td>128.0</td>\n",
       "      <td>2020-04-14</td>\n",
       "      <td>10564</td>\n",
       "      <td>222</td>\n",
       "      <td>7534</td>\n",
       "    </tr>\n",
       "    <tr>\n",
       "      <th>22151</th>\n",
       "      <td>NaN</td>\n",
       "      <td>South Korea</td>\n",
       "      <td>36.0</td>\n",
       "      <td>128.0</td>\n",
       "      <td>2020-04-15</td>\n",
       "      <td>10591</td>\n",
       "      <td>225</td>\n",
       "      <td>7616</td>\n",
       "    </tr>\n",
       "  </tbody>\n",
       "</table>\n",
       "</div>"
      ],
      "text/plain": [
       "      Province/State Country/Region   Lat   Long       Date  Confirmed  \\\n",
       "21103            NaN    South Korea  36.0  128.0 2020-04-11      10480   \n",
       "21365            NaN    South Korea  36.0  128.0 2020-04-12      10512   \n",
       "21627            NaN    South Korea  36.0  128.0 2020-04-13      10537   \n",
       "21889            NaN    South Korea  36.0  128.0 2020-04-14      10564   \n",
       "22151            NaN    South Korea  36.0  128.0 2020-04-15      10591   \n",
       "\n",
       "       Deaths  Recovered  \n",
       "21103     211       7243  \n",
       "21365     214       7368  \n",
       "21627     217       7447  \n",
       "21889     222       7534  \n",
       "22151     225       7616  "
      ]
     },
     "execution_count": 39,
     "metadata": {},
     "output_type": "execute_result"
    }
   ],
   "source": [
    "kag_kor.tail()"
   ]
  },
  {
   "cell_type": "code",
   "execution_count": 40,
   "metadata": {},
   "outputs": [
    {
     "data": {
      "text/plain": [
       "[<matplotlib.lines.Line2D at 0x22fd20488c8>]"
      ]
     },
     "execution_count": 40,
     "metadata": {},
     "output_type": "execute_result"
    },
    {
     "data": {
      "image/png": "[encoded data removed]",
      "text/plain": [
       "<Figure size 1080x432 with 1 Axes>"
      ]
     },
     "metadata": {},
     "output_type": "display_data"
    }
   ],
   "source": [
    "plt.figure(figsize=(15,6))\n",
    "plt.plot(kag_kor.Date, kag_kor.Confirmed)"
   ]
  },
  {
   "cell_type": "code",
   "execution_count": 41,
   "metadata": {},
   "outputs": [],
   "source": [
    "kor = kag_kor.copy()"
   ]
  },
  {
   "cell_type": "code",
   "execution_count": 42,
   "metadata": {},
   "outputs": [],
   "source": [
    "kor.reset_index(inplace=True)\n",
    "kor.drop('index', axis=1, inplace=True)"
   ]
  },
  {
   "cell_type": "code",
   "execution_count": 43,
   "metadata": {},
   "outputs": [],
   "source": [
    "kor.drop('Province/State', axis=1, inplace=True)"
   ]
  },
  {
   "cell_type": "code",
   "execution_count": 44,
   "metadata": {},
   "outputs": [
    {
     "name": "stderr",
     "output_type": "stream",
     "text": [
      "C:\\Users\\Joshua\\anaconda3\\lib\\site-packages\\ipykernel_launcher.py:3: SettingWithCopyWarning: \n",
      "A value is trying to be set on a copy of a slice from a DataFrame\n",
      "\n",
      "See the caveats in the documentation: https://pandas.pydata.org/pandas-docs/stable/user_guide/indexing.html#returning-a-view-versus-a-copy\n",
      "  This is separate from the ipykernel package so we can avoid doing imports until\n",
      "C:\\Users\\Joshua\\anaconda3\\lib\\site-packages\\pandas\\core\\indexing.py:670: SettingWithCopyWarning: \n",
      "A value is trying to be set on a copy of a slice from a DataFrame\n",
      "\n",
      "See the caveats in the documentation: https://pandas.pydata.org/pandas-docs/stable/user_guide/indexing.html#returning-a-view-versus-a-copy\n",
      "  self._setitem_with_indexer(indexer, value)\n"
     ]
    },
    {
     "data": {
      "text/html": [
       "<div>\n",
       "<style scoped>\n",
       "    .dataframe tbody tr th:only-of-type {\n",
       "        vertical-align: middle;\n",
       "    }\n",
       "\n",
       "    .dataframe tbody tr th {\n",
       "        vertical-align: top;\n",
       "    }\n",
       "\n",
       "    .dataframe thead th {\n",
       "        text-align: right;\n",
       "    }\n",
       "</style>\n",
       "<table border=\"1\" class=\"dataframe\">\n",
       "  <thead>\n",
       "    <tr style=\"text-align: right;\">\n",
       "      <th></th>\n",
       "      <th>Country/Region</th>\n",
       "      <th>Lat</th>\n",
       "      <th>Long</th>\n",
       "      <th>Date</th>\n",
       "      <th>Confirmed</th>\n",
       "      <th>Deaths</th>\n",
       "      <th>Recovered</th>\n",
       "      <th>day_confirmed</th>\n",
       "    </tr>\n",
       "  </thead>\n",
       "  <tbody>\n",
       "    <tr>\n",
       "      <th>0</th>\n",
       "      <td>South Korea</td>\n",
       "      <td>36.0</td>\n",
       "      <td>128.0</td>\n",
       "      <td>2020-01-22</td>\n",
       "      <td>1</td>\n",
       "      <td>0</td>\n",
       "      <td>0</td>\n",
       "      <td>1</td>\n",
       "    </tr>\n",
       "    <tr>\n",
       "      <th>1</th>\n",
       "      <td>South Korea</td>\n",
       "      <td>36.0</td>\n",
       "      <td>128.0</td>\n",
       "      <td>2020-01-23</td>\n",
       "      <td>1</td>\n",
       "      <td>0</td>\n",
       "      <td>0</td>\n",
       "      <td>0</td>\n",
       "    </tr>\n",
       "    <tr>\n",
       "      <th>2</th>\n",
       "      <td>South Korea</td>\n",
       "      <td>36.0</td>\n",
       "      <td>128.0</td>\n",
       "      <td>2020-01-24</td>\n",
       "      <td>2</td>\n",
       "      <td>0</td>\n",
       "      <td>0</td>\n",
       "      <td>1</td>\n",
       "    </tr>\n",
       "    <tr>\n",
       "      <th>3</th>\n",
       "      <td>South Korea</td>\n",
       "      <td>36.0</td>\n",
       "      <td>128.0</td>\n",
       "      <td>2020-01-25</td>\n",
       "      <td>2</td>\n",
       "      <td>0</td>\n",
       "      <td>0</td>\n",
       "      <td>0</td>\n",
       "    </tr>\n",
       "    <tr>\n",
       "      <th>4</th>\n",
       "      <td>South Korea</td>\n",
       "      <td>36.0</td>\n",
       "      <td>128.0</td>\n",
       "      <td>2020-01-26</td>\n",
       "      <td>3</td>\n",
       "      <td>0</td>\n",
       "      <td>0</td>\n",
       "      <td>1</td>\n",
       "    </tr>\n",
       "  </tbody>\n",
       "</table>\n",
       "</div>"
      ],
      "text/plain": [
       "  Country/Region   Lat   Long       Date  Confirmed  Deaths  Recovered  \\\n",
       "0    South Korea  36.0  128.0 2020-01-22          1       0          0   \n",
       "1    South Korea  36.0  128.0 2020-01-23          1       0          0   \n",
       "2    South Korea  36.0  128.0 2020-01-24          2       0          0   \n",
       "3    South Korea  36.0  128.0 2020-01-25          2       0          0   \n",
       "4    South Korea  36.0  128.0 2020-01-26          3       0          0   \n",
       "\n",
       "   day_confirmed  \n",
       "0              1  \n",
       "1              0  \n",
       "2              1  \n",
       "3              0  \n",
       "4              1  "
      ]
     },
     "execution_count": 44,
     "metadata": {},
     "output_type": "execute_result"
    }
   ],
   "source": [
    "# 대한민국 일별 확진자수 컬럼 형성\n",
    "kor['Confirmed_1'] = np.nan\n",
    "kor['Confirmed_1'][1:] = kor['Confirmed'][0:-1]\n",
    "kor['Confirmed_1'].iloc[0] = 0\n",
    "kor['Confirmed_1'] = kor['Confirmed_1'].astype('int64')\n",
    "kor['day_confirmed'] = kor['Confirmed'] - kor['Confirmed_1']\n",
    "kor.drop('Confirmed_1',axis=1, inplace=True)\n",
    "kor.head()"
   ]
  },
  {
   "cell_type": "code",
   "execution_count": 45,
   "metadata": {},
   "outputs": [
    {
     "data": {
      "text/plain": [
       "41   2020-03-03\n",
       "Name: Date, dtype: datetime64[ns]"
      ]
     },
     "execution_count": 45,
     "metadata": {},
     "output_type": "execute_result"
    }
   ],
   "source": [
    "kor['Date'][kor['day_confirmed']==max(kor['day_confirmed'])]"
   ]
  },
  {
   "cell_type": "code",
   "execution_count": 63,
   "metadata": {},
   "outputs": [
    {
     "name": "stdout",
     "output_type": "stream",
     "text": [
      "41   2020-03-03\n",
      "Name: Date, dtype: datetime64[ns]\n"
     ]
    },
    {
     "data": {
      "image/png": "[encoded data removed]",
      "text/plain": [
       "<Figure size 1440x432 with 1 Axes>"
      ]
     },
     "metadata": {},
     "output_type": "display_data"
    }
   ],
   "source": [
    "plt.figure(figsize=(20,6))\n",
    "plt.plot(kor['Date'], kor['day_confirmed'])\n",
    "plt.title(\"한국 일별 확진자수 추이\")\n",
    "max_day = kor['Date'][kor['day_confirmed']==max(kor['day_confirmed'])]\n",
    "print(max_day)"
   ]
  },
  {
   "cell_type": "markdown",
   "metadata": {},
   "source": [
    "# 3. 데이터셋 병합\n",
    "- 데이터 셋 병합은 3가지 데이터를 병합한다.\n",
    "- 로밍 데이터, 캐글 글로벌 확진자수, 한국의 확진자 데이터이다.\n",
    "- 우선 한국의 감염자 수를 Target Feature로 놓고 분석을 진행한다.\n",
    "- 후에 해외유입에 대한 데이터가 확보 되면 모델을 발전시킨다."
   ]
  },
  {
   "cell_type": "code",
   "execution_count": 47,
   "metadata": {},
   "outputs": [
    {
     "data": {
      "text/html": [
       "<div>\n",
       "<style scoped>\n",
       "    .dataframe tbody tr th:only-of-type {\n",
       "        vertical-align: middle;\n",
       "    }\n",
       "\n",
       "    .dataframe tbody tr th {\n",
       "        vertical-align: top;\n",
       "    }\n",
       "\n",
       "    .dataframe thead th {\n",
       "        text-align: right;\n",
       "    }\n",
       "</style>\n",
       "<table border=\"1\" class=\"dataframe\">\n",
       "  <thead>\n",
       "    <tr style=\"text-align: right;\">\n",
       "      <th></th>\n",
       "      <th>return</th>\n",
       "      <th>iso</th>\n",
       "      <th>arrival</th>\n",
       "      <th>departure</th>\n",
       "      <th>count</th>\n",
       "      <th>stay</th>\n",
       "    </tr>\n",
       "  </thead>\n",
       "  <tbody>\n",
       "    <tr>\n",
       "      <th>0</th>\n",
       "      <td>2020-01-31</td>\n",
       "      <td>ad</td>\n",
       "      <td>2020-01-30</td>\n",
       "      <td>2020-01-30</td>\n",
       "      <td>3</td>\n",
       "      <td>1 days</td>\n",
       "    </tr>\n",
       "    <tr>\n",
       "      <th>1</th>\n",
       "      <td>2020-01-31</td>\n",
       "      <td>ae</td>\n",
       "      <td>2019-12-31</td>\n",
       "      <td>2020-01-25</td>\n",
       "      <td>3</td>\n",
       "      <td>31 days</td>\n",
       "    </tr>\n",
       "    <tr>\n",
       "      <th>2</th>\n",
       "      <td>2020-01-31</td>\n",
       "      <td>ae</td>\n",
       "      <td>2019-12-31</td>\n",
       "      <td>2020-01-31</td>\n",
       "      <td>3</td>\n",
       "      <td>31 days</td>\n",
       "    </tr>\n",
       "    <tr>\n",
       "      <th>3</th>\n",
       "      <td>2020-01-31</td>\n",
       "      <td>ae</td>\n",
       "      <td>2020-01-02</td>\n",
       "      <td>2020-01-02</td>\n",
       "      <td>3</td>\n",
       "      <td>29 days</td>\n",
       "    </tr>\n",
       "    <tr>\n",
       "      <th>4</th>\n",
       "      <td>2020-01-31</td>\n",
       "      <td>ae</td>\n",
       "      <td>2020-01-04</td>\n",
       "      <td>2020-01-31</td>\n",
       "      <td>3</td>\n",
       "      <td>27 days</td>\n",
       "    </tr>\n",
       "  </tbody>\n",
       "</table>\n",
       "</div>"
      ],
      "text/plain": [
       "      return iso    arrival  departure  count    stay\n",
       "0 2020-01-31  ad 2020-01-30 2020-01-30      3  1 days\n",
       "1 2020-01-31  ae 2019-12-31 2020-01-25      3 31 days\n",
       "2 2020-01-31  ae 2019-12-31 2020-01-31      3 31 days\n",
       "3 2020-01-31  ae 2020-01-02 2020-01-02      3 29 days\n",
       "4 2020-01-31  ae 2020-01-04 2020-01-31      3 27 days"
      ]
     },
     "execution_count": 47,
     "metadata": {},
     "output_type": "execute_result"
    }
   ],
   "source": [
    "roam.head()"
   ]
  },
  {
   "cell_type": "code",
   "execution_count": 66,
   "metadata": {},
   "outputs": [
    {
     "data": {
      "text/html": [
       "<div>\n",
       "<style scoped>\n",
       "    .dataframe tbody tr th:only-of-type {\n",
       "        vertical-align: middle;\n",
       "    }\n",
       "\n",
       "    .dataframe tbody tr th {\n",
       "        vertical-align: top;\n",
       "    }\n",
       "\n",
       "    .dataframe thead th {\n",
       "        text-align: right;\n",
       "    }\n",
       "</style>\n",
       "<table border=\"1\" class=\"dataframe\">\n",
       "  <thead>\n",
       "    <tr style=\"text-align: right;\">\n",
       "      <th></th>\n",
       "      <th>Province/State</th>\n",
       "      <th>Country/Region</th>\n",
       "      <th>Lat</th>\n",
       "      <th>Long</th>\n",
       "      <th>Date</th>\n",
       "      <th>Confirmed</th>\n",
       "      <th>Deaths</th>\n",
       "      <th>Recovered</th>\n",
       "    </tr>\n",
       "  </thead>\n",
       "  <tbody>\n",
       "    <tr>\n",
       "      <th>0</th>\n",
       "      <td>NaN</td>\n",
       "      <td>Afghanistan</td>\n",
       "      <td>33.0000</td>\n",
       "      <td>65.0000</td>\n",
       "      <td>2020-01-22</td>\n",
       "      <td>0</td>\n",
       "      <td>0</td>\n",
       "      <td>0</td>\n",
       "    </tr>\n",
       "    <tr>\n",
       "      <th>1</th>\n",
       "      <td>NaN</td>\n",
       "      <td>Albania</td>\n",
       "      <td>41.1533</td>\n",
       "      <td>20.1683</td>\n",
       "      <td>2020-01-22</td>\n",
       "      <td>0</td>\n",
       "      <td>0</td>\n",
       "      <td>0</td>\n",
       "    </tr>\n",
       "    <tr>\n",
       "      <th>2</th>\n",
       "      <td>NaN</td>\n",
       "      <td>Algeria</td>\n",
       "      <td>28.0339</td>\n",
       "      <td>1.6596</td>\n",
       "      <td>2020-01-22</td>\n",
       "      <td>0</td>\n",
       "      <td>0</td>\n",
       "      <td>0</td>\n",
       "    </tr>\n",
       "    <tr>\n",
       "      <th>3</th>\n",
       "      <td>NaN</td>\n",
       "      <td>Andorra</td>\n",
       "      <td>42.5063</td>\n",
       "      <td>1.5218</td>\n",
       "      <td>2020-01-22</td>\n",
       "      <td>0</td>\n",
       "      <td>0</td>\n",
       "      <td>0</td>\n",
       "    </tr>\n",
       "    <tr>\n",
       "      <th>4</th>\n",
       "      <td>NaN</td>\n",
       "      <td>Angola</td>\n",
       "      <td>-11.2027</td>\n",
       "      <td>17.8739</td>\n",
       "      <td>2020-01-22</td>\n",
       "      <td>0</td>\n",
       "      <td>0</td>\n",
       "      <td>0</td>\n",
       "    </tr>\n",
       "  </tbody>\n",
       "</table>\n",
       "</div>"
      ],
      "text/plain": [
       "  Province/State Country/Region      Lat     Long       Date  Confirmed  \\\n",
       "0            NaN    Afghanistan  33.0000  65.0000 2020-01-22          0   \n",
       "1            NaN        Albania  41.1533  20.1683 2020-01-22          0   \n",
       "2            NaN        Algeria  28.0339   1.6596 2020-01-22          0   \n",
       "3            NaN        Andorra  42.5063   1.5218 2020-01-22          0   \n",
       "4            NaN         Angola -11.2027  17.8739 2020-01-22          0   \n",
       "\n",
       "   Deaths  Recovered  \n",
       "0       0          0  \n",
       "1       0          0  \n",
       "2       0          0  \n",
       "3       0          0  \n",
       "4       0          0  "
      ]
     },
     "execution_count": 66,
     "metadata": {},
     "output_type": "execute_result"
    }
   ],
   "source": [
    "kag.head()"
   ]
  },
  {
   "cell_type": "code",
   "execution_count": 91,
   "metadata": {},
   "outputs": [
    {
     "name": "stderr",
     "output_type": "stream",
     "text": [
      "C:\\Users\\Joshua\\anaconda3\\lib\\site-packages\\ipykernel_launcher.py:1: FutureWarning: Indexing with multiple keys (implicitly converted to a tuple of keys) will be deprecated, use a list instead.\n",
      "  \"\"\"Entry point for launching an IPython kernel.\n"
     ]
    }
   ],
   "source": [
    "kag_dated_1 = kag.groupby(['Date'], as_index=False)['Confirmed','Deaths', 'Recovered'].sum()"
   ]
  },
  {
   "cell_type": "code",
   "execution_count": 92,
   "metadata": {},
   "outputs": [
    {
     "data": {
      "text/html": [
       "<div>\n",
       "<style scoped>\n",
       "    .dataframe tbody tr th:only-of-type {\n",
       "        vertical-align: middle;\n",
       "    }\n",
       "\n",
       "    .dataframe tbody tr th {\n",
       "        vertical-align: top;\n",
       "    }\n",
       "\n",
       "    .dataframe thead th {\n",
       "        text-align: right;\n",
       "    }\n",
       "</style>\n",
       "<table border=\"1\" class=\"dataframe\">\n",
       "  <thead>\n",
       "    <tr style=\"text-align: right;\">\n",
       "      <th></th>\n",
       "      <th>Date</th>\n",
       "      <th>Confirmed</th>\n",
       "      <th>Deaths</th>\n",
       "      <th>Recovered</th>\n",
       "    </tr>\n",
       "  </thead>\n",
       "  <tbody>\n",
       "    <tr>\n",
       "      <th>0</th>\n",
       "      <td>2020-01-22</td>\n",
       "      <td>555</td>\n",
       "      <td>17</td>\n",
       "      <td>28</td>\n",
       "    </tr>\n",
       "    <tr>\n",
       "      <th>1</th>\n",
       "      <td>2020-01-23</td>\n",
       "      <td>654</td>\n",
       "      <td>18</td>\n",
       "      <td>30</td>\n",
       "    </tr>\n",
       "    <tr>\n",
       "      <th>2</th>\n",
       "      <td>2020-01-24</td>\n",
       "      <td>941</td>\n",
       "      <td>26</td>\n",
       "      <td>36</td>\n",
       "    </tr>\n",
       "    <tr>\n",
       "      <th>3</th>\n",
       "      <td>2020-01-25</td>\n",
       "      <td>1434</td>\n",
       "      <td>42</td>\n",
       "      <td>39</td>\n",
       "    </tr>\n",
       "    <tr>\n",
       "      <th>4</th>\n",
       "      <td>2020-01-26</td>\n",
       "      <td>2118</td>\n",
       "      <td>56</td>\n",
       "      <td>52</td>\n",
       "    </tr>\n",
       "  </tbody>\n",
       "</table>\n",
       "</div>"
      ],
      "text/plain": [
       "        Date  Confirmed  Deaths  Recovered\n",
       "0 2020-01-22        555      17         28\n",
       "1 2020-01-23        654      18         30\n",
       "2 2020-01-24        941      26         36\n",
       "3 2020-01-25       1434      42         39\n",
       "4 2020-01-26       2118      56         52"
      ]
     },
     "execution_count": 92,
     "metadata": {},
     "output_type": "execute_result"
    }
   ],
   "source": [
    "kag_dated_1.head()"
   ]
  },
  {
   "cell_type": "code",
   "execution_count": 93,
   "metadata": {},
   "outputs": [
    {
     "name": "stderr",
     "output_type": "stream",
     "text": [
      "C:\\Users\\Joshua\\anaconda3\\lib\\site-packages\\ipykernel_launcher.py:5: SettingWithCopyWarning: \n",
      "A value is trying to be set on a copy of a slice from a DataFrame\n",
      "\n",
      "See the caveats in the documentation: https://pandas.pydata.org/pandas-docs/stable/user_guide/indexing.html#returning-a-view-versus-a-copy\n",
      "  \"\"\"\n",
      "C:\\Users\\Joshua\\anaconda3\\lib\\site-packages\\pandas\\core\\indexing.py:670: SettingWithCopyWarning: \n",
      "A value is trying to be set on a copy of a slice from a DataFrame\n",
      "\n",
      "See the caveats in the documentation: https://pandas.pydata.org/pandas-docs/stable/user_guide/indexing.html#returning-a-view-versus-a-copy\n",
      "  self._setitem_with_indexer(indexer, value)\n"
     ]
    }
   ],
   "source": [
    "cols = list(kag_dated_1.columns[1:])\n",
    "for col in cols:\n",
    "    col_name = str(col)+'_1'\n",
    "    kag_dated_1['{0}'.format(col_name)] = np.nan\n",
    "    kag_dated_1['{0}'.format(col_name)][1:] = kag_dated_1['{0}'.format(col)][0:-1]\n",
    "    kag_dated_1['{0}'.format(col_name)].iloc[0] = 0\n",
    "    kag_dated_1['{0}'.format(col_name)] = kag_dated_1['{0}'.format(col_name)][1:].astype('int64')\n",
    "    new_col_name = 'day'+str(col)\n",
    "    kag_dated_1['{}'.format(new_col_name)] = kag_dated_1['{}'.format(col)] - kag_dated_1['{}'.format(col_name)]\n",
    "    #kag_dated_1(\"{}\".format(col_name), axis=1, inplace=True)"
   ]
  },
  {
   "cell_type": "code",
   "execution_count": 94,
   "metadata": {},
   "outputs": [
    {
     "data": {
      "text/html": [
       "<div>\n",
       "<style scoped>\n",
       "    .dataframe tbody tr th:only-of-type {\n",
       "        vertical-align: middle;\n",
       "    }\n",
       "\n",
       "    .dataframe tbody tr th {\n",
       "        vertical-align: top;\n",
       "    }\n",
       "\n",
       "    .dataframe thead th {\n",
       "        text-align: right;\n",
       "    }\n",
       "</style>\n",
       "<table border=\"1\" class=\"dataframe\">\n",
       "  <thead>\n",
       "    <tr style=\"text-align: right;\">\n",
       "      <th></th>\n",
       "      <th>Date</th>\n",
       "      <th>Confirmed</th>\n",
       "      <th>Deaths</th>\n",
       "      <th>Recovered</th>\n",
       "      <th>Confirmed_1</th>\n",
       "      <th>dayConfirmed</th>\n",
       "      <th>Deaths_1</th>\n",
       "      <th>dayDeaths</th>\n",
       "      <th>Recovered_1</th>\n",
       "      <th>dayRecovered</th>\n",
       "    </tr>\n",
       "  </thead>\n",
       "  <tbody>\n",
       "    <tr>\n",
       "      <th>0</th>\n",
       "      <td>2020-01-22</td>\n",
       "      <td>555</td>\n",
       "      <td>17</td>\n",
       "      <td>28</td>\n",
       "      <td>NaN</td>\n",
       "      <td>NaN</td>\n",
       "      <td>NaN</td>\n",
       "      <td>NaN</td>\n",
       "      <td>NaN</td>\n",
       "      <td>NaN</td>\n",
       "    </tr>\n",
       "    <tr>\n",
       "      <th>1</th>\n",
       "      <td>2020-01-23</td>\n",
       "      <td>654</td>\n",
       "      <td>18</td>\n",
       "      <td>30</td>\n",
       "      <td>555.0</td>\n",
       "      <td>99.0</td>\n",
       "      <td>17.0</td>\n",
       "      <td>1.0</td>\n",
       "      <td>28.0</td>\n",
       "      <td>2.0</td>\n",
       "    </tr>\n",
       "    <tr>\n",
       "      <th>2</th>\n",
       "      <td>2020-01-24</td>\n",
       "      <td>941</td>\n",
       "      <td>26</td>\n",
       "      <td>36</td>\n",
       "      <td>654.0</td>\n",
       "      <td>287.0</td>\n",
       "      <td>18.0</td>\n",
       "      <td>8.0</td>\n",
       "      <td>30.0</td>\n",
       "      <td>6.0</td>\n",
       "    </tr>\n",
       "    <tr>\n",
       "      <th>3</th>\n",
       "      <td>2020-01-25</td>\n",
       "      <td>1434</td>\n",
       "      <td>42</td>\n",
       "      <td>39</td>\n",
       "      <td>941.0</td>\n",
       "      <td>493.0</td>\n",
       "      <td>26.0</td>\n",
       "      <td>16.0</td>\n",
       "      <td>36.0</td>\n",
       "      <td>3.0</td>\n",
       "    </tr>\n",
       "    <tr>\n",
       "      <th>4</th>\n",
       "      <td>2020-01-26</td>\n",
       "      <td>2118</td>\n",
       "      <td>56</td>\n",
       "      <td>52</td>\n",
       "      <td>1434.0</td>\n",
       "      <td>684.0</td>\n",
       "      <td>42.0</td>\n",
       "      <td>14.0</td>\n",
       "      <td>39.0</td>\n",
       "      <td>13.0</td>\n",
       "    </tr>\n",
       "  </tbody>\n",
       "</table>\n",
       "</div>"
      ],
      "text/plain": [
       "        Date  Confirmed  Deaths  Recovered  Confirmed_1  dayConfirmed  \\\n",
       "0 2020-01-22        555      17         28          NaN           NaN   \n",
       "1 2020-01-23        654      18         30        555.0          99.0   \n",
       "2 2020-01-24        941      26         36        654.0         287.0   \n",
       "3 2020-01-25       1434      42         39        941.0         493.0   \n",
       "4 2020-01-26       2118      56         52       1434.0         684.0   \n",
       "\n",
       "   Deaths_1  dayDeaths  Recovered_1  dayRecovered  \n",
       "0       NaN        NaN          NaN           NaN  \n",
       "1      17.0        1.0         28.0           2.0  \n",
       "2      18.0        8.0         30.0           6.0  \n",
       "3      26.0       16.0         36.0           3.0  \n",
       "4      42.0       14.0         39.0          13.0  "
      ]
     },
     "execution_count": 94,
     "metadata": {},
     "output_type": "execute_result"
    }
   ],
   "source": [
    "kag_dated_1.head()"
   ]
  },
  {
   "cell_type": "code",
   "execution_count": 95,
   "metadata": {},
   "outputs": [],
   "source": [
    "kag_dated_1.drop(['Confirmed_1','Deaths_1','Recovered_1'], axis=1, inplace=True)"
   ]
  },
  {
   "cell_type": "code",
   "execution_count": 98,
   "metadata": {},
   "outputs": [
    {
     "data": {
      "text/html": [
       "<div>\n",
       "<style scoped>\n",
       "    .dataframe tbody tr th:only-of-type {\n",
       "        vertical-align: middle;\n",
       "    }\n",
       "\n",
       "    .dataframe tbody tr th {\n",
       "        vertical-align: top;\n",
       "    }\n",
       "\n",
       "    .dataframe thead th {\n",
       "        text-align: right;\n",
       "    }\n",
       "</style>\n",
       "<table border=\"1\" class=\"dataframe\">\n",
       "  <thead>\n",
       "    <tr style=\"text-align: right;\">\n",
       "      <th></th>\n",
       "      <th>Date</th>\n",
       "      <th>Confirmed</th>\n",
       "      <th>Deaths</th>\n",
       "      <th>Recovered</th>\n",
       "      <th>dayConfirmed</th>\n",
       "      <th>dayDeaths</th>\n",
       "      <th>dayRecovered</th>\n",
       "    </tr>\n",
       "  </thead>\n",
       "  <tbody>\n",
       "    <tr>\n",
       "      <th>0</th>\n",
       "      <td>2020-01-22</td>\n",
       "      <td>555</td>\n",
       "      <td>17</td>\n",
       "      <td>28</td>\n",
       "      <td>NaN</td>\n",
       "      <td>NaN</td>\n",
       "      <td>NaN</td>\n",
       "    </tr>\n",
       "    <tr>\n",
       "      <th>1</th>\n",
       "      <td>2020-01-23</td>\n",
       "      <td>654</td>\n",
       "      <td>18</td>\n",
       "      <td>30</td>\n",
       "      <td>99.0</td>\n",
       "      <td>1.0</td>\n",
       "      <td>2.0</td>\n",
       "    </tr>\n",
       "    <tr>\n",
       "      <th>2</th>\n",
       "      <td>2020-01-24</td>\n",
       "      <td>941</td>\n",
       "      <td>26</td>\n",
       "      <td>36</td>\n",
       "      <td>287.0</td>\n",
       "      <td>8.0</td>\n",
       "      <td>6.0</td>\n",
       "    </tr>\n",
       "    <tr>\n",
       "      <th>3</th>\n",
       "      <td>2020-01-25</td>\n",
       "      <td>1434</td>\n",
       "      <td>42</td>\n",
       "      <td>39</td>\n",
       "      <td>493.0</td>\n",
       "      <td>16.0</td>\n",
       "      <td>3.0</td>\n",
       "    </tr>\n",
       "    <tr>\n",
       "      <th>4</th>\n",
       "      <td>2020-01-26</td>\n",
       "      <td>2118</td>\n",
       "      <td>56</td>\n",
       "      <td>52</td>\n",
       "      <td>684.0</td>\n",
       "      <td>14.0</td>\n",
       "      <td>13.0</td>\n",
       "    </tr>\n",
       "    <tr>\n",
       "      <th>...</th>\n",
       "      <td>...</td>\n",
       "      <td>...</td>\n",
       "      <td>...</td>\n",
       "      <td>...</td>\n",
       "      <td>...</td>\n",
       "      <td>...</td>\n",
       "      <td>...</td>\n",
       "    </tr>\n",
       "    <tr>\n",
       "      <th>80</th>\n",
       "      <td>2020-04-11</td>\n",
       "      <td>1771512</td>\n",
       "      <td>108503</td>\n",
       "      <td>395513</td>\n",
       "      <td>79795.0</td>\n",
       "      <td>5978.0</td>\n",
       "      <td>25279.0</td>\n",
       "    </tr>\n",
       "    <tr>\n",
       "      <th>81</th>\n",
       "      <td>2020-04-12</td>\n",
       "      <td>1846676</td>\n",
       "      <td>114091</td>\n",
       "      <td>414591</td>\n",
       "      <td>75164.0</td>\n",
       "      <td>5588.0</td>\n",
       "      <td>19078.0</td>\n",
       "    </tr>\n",
       "    <tr>\n",
       "      <th>82</th>\n",
       "      <td>2020-04-13</td>\n",
       "      <td>1917316</td>\n",
       "      <td>119482</td>\n",
       "      <td>440889</td>\n",
       "      <td>70640.0</td>\n",
       "      <td>5391.0</td>\n",
       "      <td>26298.0</td>\n",
       "    </tr>\n",
       "    <tr>\n",
       "      <th>83</th>\n",
       "      <td>2020-04-14</td>\n",
       "      <td>1976188</td>\n",
       "      <td>125984</td>\n",
       "      <td>466043</td>\n",
       "      <td>58872.0</td>\n",
       "      <td>6502.0</td>\n",
       "      <td>25154.0</td>\n",
       "    </tr>\n",
       "    <tr>\n",
       "      <th>84</th>\n",
       "      <td>2020-04-15</td>\n",
       "      <td>2056051</td>\n",
       "      <td>134177</td>\n",
       "      <td>502045</td>\n",
       "      <td>79863.0</td>\n",
       "      <td>8193.0</td>\n",
       "      <td>36002.0</td>\n",
       "    </tr>\n",
       "  </tbody>\n",
       "</table>\n",
       "<p>85 rows × 7 columns</p>\n",
       "</div>"
      ],
      "text/plain": [
       "         Date  Confirmed  Deaths  Recovered  dayConfirmed  dayDeaths  \\\n",
       "0  2020-01-22        555      17         28           NaN        NaN   \n",
       "1  2020-01-23        654      18         30          99.0        1.0   \n",
       "2  2020-01-24        941      26         36         287.0        8.0   \n",
       "3  2020-01-25       1434      42         39         493.0       16.0   \n",
       "4  2020-01-26       2118      56         52         684.0       14.0   \n",
       "..        ...        ...     ...        ...           ...        ...   \n",
       "80 2020-04-11    1771512  108503     395513       79795.0     5978.0   \n",
       "81 2020-04-12    1846676  114091     414591       75164.0     5588.0   \n",
       "82 2020-04-13    1917316  119482     440889       70640.0     5391.0   \n",
       "83 2020-04-14    1976188  125984     466043       58872.0     6502.0   \n",
       "84 2020-04-15    2056051  134177     502045       79863.0     8193.0   \n",
       "\n",
       "    dayRecovered  \n",
       "0            NaN  \n",
       "1            2.0  \n",
       "2            6.0  \n",
       "3            3.0  \n",
       "4           13.0  \n",
       "..           ...  \n",
       "80       25279.0  \n",
       "81       19078.0  \n",
       "82       26298.0  \n",
       "83       25154.0  \n",
       "84       36002.0  \n",
       "\n",
       "[85 rows x 7 columns]"
      ]
     },
     "execution_count": 98,
     "metadata": {},
     "output_type": "execute_result"
    }
   ],
   "source": [
    "kag_dated_1"
   ]
  },
  {
   "cell_type": "code",
   "execution_count": 104,
   "metadata": {},
   "outputs": [],
   "source": [
    "kag_dated_1.loc[0,['dayConfirmed', 'dayDeaths', 'dayRecovered']] = 0"
   ]
  },
  {
   "cell_type": "code",
   "execution_count": 105,
   "metadata": {},
   "outputs": [
    {
     "data": {
      "text/html": [
       "<div>\n",
       "<style scoped>\n",
       "    .dataframe tbody tr th:only-of-type {\n",
       "        vertical-align: middle;\n",
       "    }\n",
       "\n",
       "    .dataframe tbody tr th {\n",
       "        vertical-align: top;\n",
       "    }\n",
       "\n",
       "    .dataframe thead th {\n",
       "        text-align: right;\n",
       "    }\n",
       "</style>\n",
       "<table border=\"1\" class=\"dataframe\">\n",
       "  <thead>\n",
       "    <tr style=\"text-align: right;\">\n",
       "      <th></th>\n",
       "      <th>Date</th>\n",
       "      <th>Confirmed</th>\n",
       "      <th>Deaths</th>\n",
       "      <th>Recovered</th>\n",
       "      <th>dayConfirmed</th>\n",
       "      <th>dayDeaths</th>\n",
       "      <th>dayRecovered</th>\n",
       "    </tr>\n",
       "  </thead>\n",
       "  <tbody>\n",
       "    <tr>\n",
       "      <th>0</th>\n",
       "      <td>2020-01-22</td>\n",
       "      <td>555</td>\n",
       "      <td>17</td>\n",
       "      <td>28</td>\n",
       "      <td>0.0</td>\n",
       "      <td>0.0</td>\n",
       "      <td>0.0</td>\n",
       "    </tr>\n",
       "    <tr>\n",
       "      <th>1</th>\n",
       "      <td>2020-01-23</td>\n",
       "      <td>654</td>\n",
       "      <td>18</td>\n",
       "      <td>30</td>\n",
       "      <td>99.0</td>\n",
       "      <td>1.0</td>\n",
       "      <td>2.0</td>\n",
       "    </tr>\n",
       "    <tr>\n",
       "      <th>2</th>\n",
       "      <td>2020-01-24</td>\n",
       "      <td>941</td>\n",
       "      <td>26</td>\n",
       "      <td>36</td>\n",
       "      <td>287.0</td>\n",
       "      <td>8.0</td>\n",
       "      <td>6.0</td>\n",
       "    </tr>\n",
       "    <tr>\n",
       "      <th>3</th>\n",
       "      <td>2020-01-25</td>\n",
       "      <td>1434</td>\n",
       "      <td>42</td>\n",
       "      <td>39</td>\n",
       "      <td>493.0</td>\n",
       "      <td>16.0</td>\n",
       "      <td>3.0</td>\n",
       "    </tr>\n",
       "    <tr>\n",
       "      <th>4</th>\n",
       "      <td>2020-01-26</td>\n",
       "      <td>2118</td>\n",
       "      <td>56</td>\n",
       "      <td>52</td>\n",
       "      <td>684.0</td>\n",
       "      <td>14.0</td>\n",
       "      <td>13.0</td>\n",
       "    </tr>\n",
       "    <tr>\n",
       "      <th>...</th>\n",
       "      <td>...</td>\n",
       "      <td>...</td>\n",
       "      <td>...</td>\n",
       "      <td>...</td>\n",
       "      <td>...</td>\n",
       "      <td>...</td>\n",
       "      <td>...</td>\n",
       "    </tr>\n",
       "    <tr>\n",
       "      <th>80</th>\n",
       "      <td>2020-04-11</td>\n",
       "      <td>1771512</td>\n",
       "      <td>108503</td>\n",
       "      <td>395513</td>\n",
       "      <td>79795.0</td>\n",
       "      <td>5978.0</td>\n",
       "      <td>25279.0</td>\n",
       "    </tr>\n",
       "    <tr>\n",
       "      <th>81</th>\n",
       "      <td>2020-04-12</td>\n",
       "      <td>1846676</td>\n",
       "      <td>114091</td>\n",
       "      <td>414591</td>\n",
       "      <td>75164.0</td>\n",
       "      <td>5588.0</td>\n",
       "      <td>19078.0</td>\n",
       "    </tr>\n",
       "    <tr>\n",
       "      <th>82</th>\n",
       "      <td>2020-04-13</td>\n",
       "      <td>1917316</td>\n",
       "      <td>119482</td>\n",
       "      <td>440889</td>\n",
       "      <td>70640.0</td>\n",
       "      <td>5391.0</td>\n",
       "      <td>26298.0</td>\n",
       "    </tr>\n",
       "    <tr>\n",
       "      <th>83</th>\n",
       "      <td>2020-04-14</td>\n",
       "      <td>1976188</td>\n",
       "      <td>125984</td>\n",
       "      <td>466043</td>\n",
       "      <td>58872.0</td>\n",
       "      <td>6502.0</td>\n",
       "      <td>25154.0</td>\n",
       "    </tr>\n",
       "    <tr>\n",
       "      <th>84</th>\n",
       "      <td>2020-04-15</td>\n",
       "      <td>2056051</td>\n",
       "      <td>134177</td>\n",
       "      <td>502045</td>\n",
       "      <td>79863.0</td>\n",
       "      <td>8193.0</td>\n",
       "      <td>36002.0</td>\n",
       "    </tr>\n",
       "  </tbody>\n",
       "</table>\n",
       "<p>85 rows × 7 columns</p>\n",
       "</div>"
      ],
      "text/plain": [
       "         Date  Confirmed  Deaths  Recovered  dayConfirmed  dayDeaths  \\\n",
       "0  2020-01-22        555      17         28           0.0        0.0   \n",
       "1  2020-01-23        654      18         30          99.0        1.0   \n",
       "2  2020-01-24        941      26         36         287.0        8.0   \n",
       "3  2020-01-25       1434      42         39         493.0       16.0   \n",
       "4  2020-01-26       2118      56         52         684.0       14.0   \n",
       "..        ...        ...     ...        ...           ...        ...   \n",
       "80 2020-04-11    1771512  108503     395513       79795.0     5978.0   \n",
       "81 2020-04-12    1846676  114091     414591       75164.0     5588.0   \n",
       "82 2020-04-13    1917316  119482     440889       70640.0     5391.0   \n",
       "83 2020-04-14    1976188  125984     466043       58872.0     6502.0   \n",
       "84 2020-04-15    2056051  134177     502045       79863.0     8193.0   \n",
       "\n",
       "    dayRecovered  \n",
       "0            0.0  \n",
       "1            2.0  \n",
       "2            6.0  \n",
       "3            3.0  \n",
       "4           13.0  \n",
       "..           ...  \n",
       "80       25279.0  \n",
       "81       19078.0  \n",
       "82       26298.0  \n",
       "83       25154.0  \n",
       "84       36002.0  \n",
       "\n",
       "[85 rows x 7 columns]"
      ]
     },
     "execution_count": 105,
     "metadata": {},
     "output_type": "execute_result"
    }
   ],
   "source": [
    "kag_dated_1"
   ]
  },
  {
   "cell_type": "markdown",
   "metadata": {},
   "source": [
    "# 4. 감염병데이터\n",
    "\n",
    "|컬럼명|컬럼한국명|컬럼설명|샘플|\n",
    "|:-----:|:-----:|:------|:------:|\n",
    "|파일명|파일명|파일리스트의 파일명과 일치|AFRO2019120200003|\n",
    "|제목|제목|기사의 제목|WHO supports Angola’s Government efforts to end polio outbreak|\n",
    "|URL|원문기사링크|해당 기사의 원문 링크|https://www.afro.who.int/news/who-supports-angolas-government-efforts-end-polio-outbreak\n",
    "|수집일자|수집일자|KT 크롤링 시스템에 의해 기사가 수집된 날짜|2019-12-02 21:00:16.0|\n",
    "|게시일자|게시일자|원문 Site에 해당 기사가 게시된 날짜|2019-12-02 00:00:00|\n",
    "|채널명|채널명|기사가 게시된 Site의 이름|AFRO|\n",
    "|감염병명|감염병명|기사에 표기된 감염병의 이름|Poliomyelitis|\n",
    "|분류명|분류명|감염병의 분류(카테고리) 명|Viral|\n"
   ]
  },
  {
   "cell_type": "code",
   "execution_count": 48,
   "metadata": {},
   "outputs": [],
   "source": [
    "news = pd.read_excel('./data/corona_contest_data_0406/3-1. NewsList.xls', sheet_name=\"List\")"
   ]
  },
  {
   "cell_type": "code",
   "execution_count": 49,
   "metadata": {},
   "outputs": [
    {
     "data": {
      "text/html": [
       "<div>\n",
       "<style scoped>\n",
       "    .dataframe tbody tr th:only-of-type {\n",
       "        vertical-align: middle;\n",
       "    }\n",
       "\n",
       "    .dataframe tbody tr th {\n",
       "        vertical-align: top;\n",
       "    }\n",
       "\n",
       "    .dataframe thead th {\n",
       "        text-align: right;\n",
       "    }\n",
       "</style>\n",
       "<table border=\"1\" class=\"dataframe\">\n",
       "  <thead>\n",
       "    <tr style=\"text-align: right;\">\n",
       "      <th></th>\n",
       "      <th>파일명</th>\n",
       "      <th>제목</th>\n",
       "      <th>URL</th>\n",
       "      <th>수집일자</th>\n",
       "      <th>게시일자</th>\n",
       "      <th>채널명</th>\n",
       "      <th>감염병명</th>\n",
       "      <th>분류명</th>\n",
       "    </tr>\n",
       "  </thead>\n",
       "  <tbody>\n",
       "    <tr>\n",
       "      <th>0</th>\n",
       "      <td>AFRO2019120200003</td>\n",
       "      <td>WHO supports Angola’s Government efforts to en...</td>\n",
       "      <td>https://www.afro.who.int/news/who-supports-ang...</td>\n",
       "      <td>2019-12-02 21:00:16.0</td>\n",
       "      <td>2019-12-02 00:00:00</td>\n",
       "      <td>AFRO</td>\n",
       "      <td>Poliomyelitis</td>\n",
       "      <td>Viral</td>\n",
       "    </tr>\n",
       "    <tr>\n",
       "      <th>1</th>\n",
       "      <td>AFRO2019120300001</td>\n",
       "      <td>African First Ladies laud progress against HIV...</td>\n",
       "      <td>https://www.afro.who.int/news/african-first-la...</td>\n",
       "      <td>2019-12-03 00:00:17.0</td>\n",
       "      <td>2019-12-02 00:00:00</td>\n",
       "      <td>AFRO</td>\n",
       "      <td>Acquired immuno deficiency syndrome</td>\n",
       "      <td>Viral</td>\n",
       "    </tr>\n",
       "    <tr>\n",
       "      <th>2</th>\n",
       "      <td>AFRO2019120300002</td>\n",
       "      <td>Eritrea Observed World AIDS Day 2019</td>\n",
       "      <td>https://www.afro.who.int/news/eritrea-observed...</td>\n",
       "      <td>2019-12-03 00:00:18.0</td>\n",
       "      <td>2019-12-02 00:00:00</td>\n",
       "      <td>AFRO</td>\n",
       "      <td>Acquired immuno deficiency syndrome</td>\n",
       "      <td>Viral</td>\n",
       "    </tr>\n",
       "    <tr>\n",
       "      <th>3</th>\n",
       "      <td>AFRO2019120400003</td>\n",
       "      <td>West and Central Africa Expands Access to HIV ...</td>\n",
       "      <td>https://www.afro.who.int/news/west-and-central...</td>\n",
       "      <td>2019-12-04 03:00:14.0</td>\n",
       "      <td>2019-12-03 00:00:00</td>\n",
       "      <td>AFRO</td>\n",
       "      <td>Acquired immuno deficiency syndrome</td>\n",
       "      <td>Viral</td>\n",
       "    </tr>\n",
       "    <tr>\n",
       "      <th>4</th>\n",
       "      <td>AFRO2019120400004</td>\n",
       "      <td>Nearly 23 million voluntary male medical circu...</td>\n",
       "      <td>https://www.afro.who.int/news/nearly-23-millio...</td>\n",
       "      <td>2019-12-04 22:00:14.0</td>\n",
       "      <td>2019-12-04 00:00:00</td>\n",
       "      <td>AFRO</td>\n",
       "      <td>Acquired immuno deficiency syndrome</td>\n",
       "      <td>Viral</td>\n",
       "    </tr>\n",
       "  </tbody>\n",
       "</table>\n",
       "</div>"
      ],
      "text/plain": [
       "                 파일명                                                 제목  \\\n",
       "0  AFRO2019120200003  WHO supports Angola’s Government efforts to en...   \n",
       "1  AFRO2019120300001  African First Ladies laud progress against HIV...   \n",
       "2  AFRO2019120300002               Eritrea Observed World AIDS Day 2019   \n",
       "3  AFRO2019120400003  West and Central Africa Expands Access to HIV ...   \n",
       "4  AFRO2019120400004  Nearly 23 million voluntary male medical circu...   \n",
       "\n",
       "                                                 URL                   수집일자  \\\n",
       "0  https://www.afro.who.int/news/who-supports-ang...  2019-12-02 21:00:16.0   \n",
       "1  https://www.afro.who.int/news/african-first-la...  2019-12-03 00:00:17.0   \n",
       "2  https://www.afro.who.int/news/eritrea-observed...  2019-12-03 00:00:18.0   \n",
       "3  https://www.afro.who.int/news/west-and-central...  2019-12-04 03:00:14.0   \n",
       "4  https://www.afro.who.int/news/nearly-23-millio...  2019-12-04 22:00:14.0   \n",
       "\n",
       "                  게시일자   채널명                                 감염병명    분류명  \n",
       "0  2019-12-02 00:00:00  AFRO                        Poliomyelitis  Viral  \n",
       "1  2019-12-02 00:00:00  AFRO  Acquired immuno deficiency syndrome  Viral  \n",
       "2  2019-12-02 00:00:00  AFRO  Acquired immuno deficiency syndrome  Viral  \n",
       "3  2019-12-03 00:00:00  AFRO  Acquired immuno deficiency syndrome  Viral  \n",
       "4  2019-12-04 00:00:00  AFRO  Acquired immuno deficiency syndrome  Viral  "
      ]
     },
     "execution_count": 49,
     "metadata": {},
     "output_type": "execute_result"
    }
   ],
   "source": [
    "news.head()"
   ]
  },
  {
   "cell_type": "code",
   "execution_count": 50,
   "metadata": {},
   "outputs": [
    {
     "data": {
      "text/html": [
       "<div>\n",
       "<style scoped>\n",
       "    .dataframe tbody tr th:only-of-type {\n",
       "        vertical-align: middle;\n",
       "    }\n",
       "\n",
       "    .dataframe tbody tr th {\n",
       "        vertical-align: top;\n",
       "    }\n",
       "\n",
       "    .dataframe thead th {\n",
       "        text-align: right;\n",
       "    }\n",
       "</style>\n",
       "<table border=\"1\" class=\"dataframe\">\n",
       "  <thead>\n",
       "    <tr style=\"text-align: right;\">\n",
       "      <th></th>\n",
       "      <th>분류명</th>\n",
       "      <th>파일명</th>\n",
       "    </tr>\n",
       "  </thead>\n",
       "  <tbody>\n",
       "    <tr>\n",
       "      <th>3</th>\n",
       "      <td>Parasitic (Arthropods)</td>\n",
       "      <td>19</td>\n",
       "    </tr>\n",
       "    <tr>\n",
       "      <th>6</th>\n",
       "      <td>Parasitic (Trematodes)</td>\n",
       "      <td>26</td>\n",
       "    </tr>\n",
       "    <tr>\n",
       "      <th>7</th>\n",
       "      <td>Parasitic (nematodes)</td>\n",
       "      <td>40</td>\n",
       "    </tr>\n",
       "    <tr>\n",
       "      <th>4</th>\n",
       "      <td>Parasitic (Cestodes)</td>\n",
       "      <td>52</td>\n",
       "    </tr>\n",
       "    <tr>\n",
       "      <th>2</th>\n",
       "      <td>Parasitic</td>\n",
       "      <td>53</td>\n",
       "    </tr>\n",
       "    <tr>\n",
       "      <th>8</th>\n",
       "      <td>Prion</td>\n",
       "      <td>65</td>\n",
       "    </tr>\n",
       "    <tr>\n",
       "      <th>9</th>\n",
       "      <td>Rickettsial</td>\n",
       "      <td>104</td>\n",
       "    </tr>\n",
       "    <tr>\n",
       "      <th>1</th>\n",
       "      <td>Fungal</td>\n",
       "      <td>110</td>\n",
       "    </tr>\n",
       "    <tr>\n",
       "      <th>5</th>\n",
       "      <td>Parasitic (Protozoans)</td>\n",
       "      <td>845</td>\n",
       "    </tr>\n",
       "    <tr>\n",
       "      <th>0</th>\n",
       "      <td>Bacterial</td>\n",
       "      <td>3138</td>\n",
       "    </tr>\n",
       "    <tr>\n",
       "      <th>10</th>\n",
       "      <td>Viral</td>\n",
       "      <td>57272</td>\n",
       "    </tr>\n",
       "  </tbody>\n",
       "</table>\n",
       "</div>"
      ],
      "text/plain": [
       "                       분류명    파일명\n",
       "3   Parasitic (Arthropods)     19\n",
       "6   Parasitic (Trematodes)     26\n",
       "7    Parasitic (nematodes)     40\n",
       "4     Parasitic (Cestodes)     52\n",
       "2                Parasitic     53\n",
       "8                    Prion     65\n",
       "9              Rickettsial    104\n",
       "1                   Fungal    110\n",
       "5   Parasitic (Protozoans)    845\n",
       "0                Bacterial   3138\n",
       "10                   Viral  57272"
      ]
     },
     "execution_count": 50,
     "metadata": {},
     "output_type": "execute_result"
    }
   ],
   "source": [
    "# 전체 기사 중 병명에 따른 누적 갯수\n",
    "cum_viral = news.groupby('분류명', as_index=False)[['파일명']].count().sort_values(by='파일명')\n",
    "cum_viral"
   ]
  },
  {
   "cell_type": "code",
   "execution_count": 51,
   "metadata": {},
   "outputs": [
    {
     "data": {
      "text/plain": [
       "<BarContainer object of 3 artists>"
      ]
     },
     "execution_count": 51,
     "metadata": {},
     "output_type": "execute_result"
    },
    {
     "data": {
      "image/png": "[encoded data removed]",
      "text/plain": [
       "<Figure size 504x360 with 1 Axes>"
      ]
     },
     "metadata": {},
     "output_type": "display_data"
    }
   ],
   "source": [
    "# 상위 3개 중 viral의 비중이 압도적이다.\n",
    "plt.figure(figsize=(7,5))\n",
    "plt.barh('분류명', '파일명',data=cum_viral.tail(3))"
   ]
  },
  {
   "cell_type": "code",
   "execution_count": 52,
   "metadata": {},
   "outputs": [
    {
     "data": {
      "text/plain": [
       "92.79"
      ]
     },
     "execution_count": 52,
     "metadata": {},
     "output_type": "execute_result"
    }
   ],
   "source": [
    "total_length = len(news['분류명'])\n",
    "viral_length = len(news[news['분류명'] == 'Viral'])\n",
    "\n",
    "per_of_viral = round(viral_length / total_length * 100, 2)\n",
    "per_of_viral"
   ]
  },
  {
   "cell_type": "markdown",
   "metadata": {},
   "source": [
    "- viral의 비중의 92.79%이기 때문에 다른 데이터들은 삭제해도 무관할 것으로 보인다."
   ]
  },
  {
   "cell_type": "code",
   "execution_count": 53,
   "metadata": {},
   "outputs": [
    {
     "data": {
      "text/html": [
       "<div>\n",
       "<style scoped>\n",
       "    .dataframe tbody tr th:only-of-type {\n",
       "        vertical-align: middle;\n",
       "    }\n",
       "\n",
       "    .dataframe tbody tr th {\n",
       "        vertical-align: top;\n",
       "    }\n",
       "\n",
       "    .dataframe thead th {\n",
       "        text-align: right;\n",
       "    }\n",
       "</style>\n",
       "<table border=\"1\" class=\"dataframe\">\n",
       "  <thead>\n",
       "    <tr style=\"text-align: right;\">\n",
       "      <th></th>\n",
       "      <th>파일명</th>\n",
       "      <th>제목</th>\n",
       "      <th>URL</th>\n",
       "      <th>수집일자</th>\n",
       "      <th>게시일자</th>\n",
       "      <th>채널명</th>\n",
       "      <th>감염병명</th>\n",
       "      <th>분류명</th>\n",
       "    </tr>\n",
       "  </thead>\n",
       "  <tbody>\n",
       "    <tr>\n",
       "      <th>0</th>\n",
       "      <td>AFRO2019120200003</td>\n",
       "      <td>WHO supports Angola’s Government efforts to en...</td>\n",
       "      <td>https://www.afro.who.int/news/who-supports-ang...</td>\n",
       "      <td>2019-12-02 21:00:16.0</td>\n",
       "      <td>2019-12-02 00:00:00</td>\n",
       "      <td>AFRO</td>\n",
       "      <td>Poliomyelitis</td>\n",
       "      <td>Viral</td>\n",
       "    </tr>\n",
       "    <tr>\n",
       "      <th>1</th>\n",
       "      <td>AFRO2019120300001</td>\n",
       "      <td>African First Ladies laud progress against HIV...</td>\n",
       "      <td>https://www.afro.who.int/news/african-first-la...</td>\n",
       "      <td>2019-12-03 00:00:17.0</td>\n",
       "      <td>2019-12-02 00:00:00</td>\n",
       "      <td>AFRO</td>\n",
       "      <td>Acquired immuno deficiency syndrome</td>\n",
       "      <td>Viral</td>\n",
       "    </tr>\n",
       "    <tr>\n",
       "      <th>2</th>\n",
       "      <td>AFRO2019120300002</td>\n",
       "      <td>Eritrea Observed World AIDS Day 2019</td>\n",
       "      <td>https://www.afro.who.int/news/eritrea-observed...</td>\n",
       "      <td>2019-12-03 00:00:18.0</td>\n",
       "      <td>2019-12-02 00:00:00</td>\n",
       "      <td>AFRO</td>\n",
       "      <td>Acquired immuno deficiency syndrome</td>\n",
       "      <td>Viral</td>\n",
       "    </tr>\n",
       "    <tr>\n",
       "      <th>3</th>\n",
       "      <td>AFRO2019120400003</td>\n",
       "      <td>West and Central Africa Expands Access to HIV ...</td>\n",
       "      <td>https://www.afro.who.int/news/west-and-central...</td>\n",
       "      <td>2019-12-04 03:00:14.0</td>\n",
       "      <td>2019-12-03 00:00:00</td>\n",
       "      <td>AFRO</td>\n",
       "      <td>Acquired immuno deficiency syndrome</td>\n",
       "      <td>Viral</td>\n",
       "    </tr>\n",
       "    <tr>\n",
       "      <th>4</th>\n",
       "      <td>AFRO2019120400004</td>\n",
       "      <td>Nearly 23 million voluntary male medical circu...</td>\n",
       "      <td>https://www.afro.who.int/news/nearly-23-millio...</td>\n",
       "      <td>2019-12-04 22:00:14.0</td>\n",
       "      <td>2019-12-04 00:00:00</td>\n",
       "      <td>AFRO</td>\n",
       "      <td>Acquired immuno deficiency syndrome</td>\n",
       "      <td>Viral</td>\n",
       "    </tr>\n",
       "  </tbody>\n",
       "</table>\n",
       "</div>"
      ],
      "text/plain": [
       "                 파일명                                                 제목  \\\n",
       "0  AFRO2019120200003  WHO supports Angola’s Government efforts to en...   \n",
       "1  AFRO2019120300001  African First Ladies laud progress against HIV...   \n",
       "2  AFRO2019120300002               Eritrea Observed World AIDS Day 2019   \n",
       "3  AFRO2019120400003  West and Central Africa Expands Access to HIV ...   \n",
       "4  AFRO2019120400004  Nearly 23 million voluntary male medical circu...   \n",
       "\n",
       "                                                 URL                   수집일자  \\\n",
       "0  https://www.afro.who.int/news/who-supports-ang...  2019-12-02 21:00:16.0   \n",
       "1  https://www.afro.who.int/news/african-first-la...  2019-12-03 00:00:17.0   \n",
       "2  https://www.afro.who.int/news/eritrea-observed...  2019-12-03 00:00:18.0   \n",
       "3  https://www.afro.who.int/news/west-and-central...  2019-12-04 03:00:14.0   \n",
       "4  https://www.afro.who.int/news/nearly-23-millio...  2019-12-04 22:00:14.0   \n",
       "\n",
       "                  게시일자   채널명                                 감염병명    분류명  \n",
       "0  2019-12-02 00:00:00  AFRO                        Poliomyelitis  Viral  \n",
       "1  2019-12-02 00:00:00  AFRO  Acquired immuno deficiency syndrome  Viral  \n",
       "2  2019-12-02 00:00:00  AFRO  Acquired immuno deficiency syndrome  Viral  \n",
       "3  2019-12-03 00:00:00  AFRO  Acquired immuno deficiency syndrome  Viral  \n",
       "4  2019-12-04 00:00:00  AFRO  Acquired immuno deficiency syndrome  Viral  "
      ]
     },
     "execution_count": 53,
     "metadata": {},
     "output_type": "execute_result"
    }
   ],
   "source": [
    "# viral만 가지고 있는 데이터 셋 생성\n",
    "\n",
    "viral_news = news[news['분류명'] == 'Viral']\n",
    "viral_news.head()"
   ]
  },
  {
   "cell_type": "markdown",
   "metadata": {},
   "source": [
    "- viral에 관한 뉴스기사 중 61%가 코로나 바이러스에 대한 뉴스기사이다."
   ]
  },
  {
   "cell_type": "code",
   "execution_count": 54,
   "metadata": {},
   "outputs": [
    {
     "data": {
      "text/html": [
       "<div>\n",
       "<style scoped>\n",
       "    .dataframe tbody tr th:only-of-type {\n",
       "        vertical-align: middle;\n",
       "    }\n",
       "\n",
       "    .dataframe tbody tr th {\n",
       "        vertical-align: top;\n",
       "    }\n",
       "\n",
       "    .dataframe thead th {\n",
       "        text-align: right;\n",
       "    }\n",
       "</style>\n",
       "<table border=\"1\" class=\"dataframe\">\n",
       "  <thead>\n",
       "    <tr style=\"text-align: right;\">\n",
       "      <th></th>\n",
       "      <th>감염병명</th>\n",
       "      <th>파일명</th>\n",
       "    </tr>\n",
       "  </thead>\n",
       "  <tbody>\n",
       "    <tr>\n",
       "      <th>47</th>\n",
       "      <td>Nipha virus infection</td>\n",
       "      <td>1</td>\n",
       "    </tr>\n",
       "    <tr>\n",
       "      <th>15</th>\n",
       "      <td>Contagious ecthyma</td>\n",
       "      <td>1</td>\n",
       "    </tr>\n",
       "    <tr>\n",
       "      <th>77</th>\n",
       "      <td>Viral hepatitis A</td>\n",
       "      <td>1</td>\n",
       "    </tr>\n",
       "    <tr>\n",
       "      <th>38</th>\n",
       "      <td>Lymphocytic choriomeningitis</td>\n",
       "      <td>1</td>\n",
       "    </tr>\n",
       "    <tr>\n",
       "      <th>76</th>\n",
       "      <td>Viral hemorrhagic fever</td>\n",
       "      <td>1</td>\n",
       "    </tr>\n",
       "  </tbody>\n",
       "</table>\n",
       "</div>"
      ],
      "text/plain": [
       "                            감염병명  파일명\n",
       "47         Nipha virus infection    1\n",
       "15            Contagious ecthyma    1\n",
       "77             Viral hepatitis A    1\n",
       "38  Lymphocytic choriomeningitis    1\n",
       "76       Viral hemorrhagic fever    1"
      ]
     },
     "execution_count": 54,
     "metadata": {},
     "output_type": "execute_result"
    }
   ],
   "source": [
    "# 감염병명에 따른 분포\n",
    "tmp = viral_news.groupby(by='감염병명', as_index=False)[['파일명']].count().sort_values(by='파일명', ascending=True)\n",
    "tmp.head()"
   ]
  },
  {
   "cell_type": "code",
   "execution_count": 55,
   "metadata": {},
   "outputs": [
    {
     "data": {
      "text/html": [
       "<div>\n",
       "<style scoped>\n",
       "    .dataframe tbody tr th:only-of-type {\n",
       "        vertical-align: middle;\n",
       "    }\n",
       "\n",
       "    .dataframe tbody tr th {\n",
       "        vertical-align: top;\n",
       "    }\n",
       "\n",
       "    .dataframe thead th {\n",
       "        text-align: right;\n",
       "    }\n",
       "</style>\n",
       "<table border=\"1\" class=\"dataframe\">\n",
       "  <thead>\n",
       "    <tr style=\"text-align: right;\">\n",
       "      <th></th>\n",
       "      <th>감염병명</th>\n",
       "      <th>파일명</th>\n",
       "    </tr>\n",
       "  </thead>\n",
       "  <tbody>\n",
       "    <tr>\n",
       "      <th>9</th>\n",
       "      <td>COVID-19</td>\n",
       "      <td>35238</td>\n",
       "    </tr>\n",
       "    <tr>\n",
       "      <th>33</th>\n",
       "      <td>Influenza</td>\n",
       "      <td>6760</td>\n",
       "    </tr>\n",
       "    <tr>\n",
       "      <th>18</th>\n",
       "      <td>Dengue fever</td>\n",
       "      <td>3945</td>\n",
       "    </tr>\n",
       "    <tr>\n",
       "      <th>40</th>\n",
       "      <td>Measles</td>\n",
       "      <td>1587</td>\n",
       "    </tr>\n",
       "    <tr>\n",
       "      <th>63</th>\n",
       "      <td>Severe acute respiratory syndrome</td>\n",
       "      <td>1574</td>\n",
       "    </tr>\n",
       "  </tbody>\n",
       "</table>\n",
       "</div>"
      ],
      "text/plain": [
       "                                 감염병명    파일명\n",
       "9                            COVID-19  35238\n",
       "33                          Influenza   6760\n",
       "18                       Dengue fever   3945\n",
       "40                            Measles   1587\n",
       "63  Severe acute respiratory syndrome   1574"
      ]
     },
     "execution_count": 55,
     "metadata": {},
     "output_type": "execute_result"
    }
   ],
   "source": [
    "tmp.sort_values('파일명', ascending=False).head()"
   ]
  },
  {
   "cell_type": "code",
   "execution_count": 56,
   "metadata": {},
   "outputs": [
    {
     "data": {
      "text/plain": [
       "61.53"
      ]
     },
     "execution_count": 56,
     "metadata": {},
     "output_type": "execute_result"
    }
   ],
   "source": [
    "total_ = tmp.파일명.sum()\n",
    "covid_ = tmp.iloc[84,1]\n",
    "per_of_covid = round(covid_/total_*100,2)\n",
    "per_of_covid"
   ]
  },
  {
   "cell_type": "code",
   "execution_count": 57,
   "metadata": {},
   "outputs": [
    {
     "ename": "NameError",
     "evalue": "name 'df_count' is not defined",
     "output_type": "error",
     "traceback": [
      "\u001b[1;31m---------------------------------------------------------------------------\u001b[0m",
      "\u001b[1;31mNameError\u001b[0m                                 Traceback (most recent call last)",
      "\u001b[1;32m<ipython-input-57-f2fcfa3f75f5>\u001b[0m in \u001b[0;36m<module>\u001b[1;34m\u001b[0m\n\u001b[1;32m----> 1\u001b[1;33m \u001b[0mdf_count\u001b[0m\u001b[1;33m.\u001b[0m\u001b[0msort_values\u001b[0m\u001b[1;33m(\u001b[0m\u001b[1;33m)\u001b[0m\u001b[1;33m\u001b[0m\u001b[1;33m\u001b[0m\u001b[0m\n\u001b[0m",
      "\u001b[1;31mNameError\u001b[0m: name 'df_count' is not defined"
     ]
    }
   ],
   "source": [
    "df_count.sort_values()"
   ]
  },
  {
   "cell_type": "code",
   "execution_count": null,
   "metadata": {},
   "outputs": [],
   "source": [
    "fig, ax = plt.subplots(1, 2, figsize=(20,7))\n",
    "df_count = viral_news.groupby(by='감염병명', as_index=False)[['파일명']].size().sort_values()\n",
    "df_count.plot.pie(autopct = \"%.1f%%\", startangle=90, shadow=True, textprops={'fontsize': 10}, ax=ax[0])\n",
    "ax[0].set_title('viral 기사 중 질병 별 비율')\n",
    "ax[1].barh('감염병명', '파일명',data=tmp.tail(5), color=['salmon', 'cornflowerblue'])\n",
    "ax[1].set_title('viral 기사 중 질병 별 상위 5개 누적도수분포')\n",
    "plt.subplots_adjust(top = 0.99, bottom=0.01, hspace=1.5, wspace=0.4)"
   ]
  },
  {
   "cell_type": "code",
   "execution_count": null,
   "metadata": {},
   "outputs": [],
   "source": [
    "viral_news.head()"
   ]
  },
  {
   "cell_type": "code",
   "execution_count": null,
   "metadata": {},
   "outputs": [],
   "source": [
    "viral_news['채널명'].unique()"
   ]
  },
  {
   "cell_type": "code",
   "execution_count": null,
   "metadata": {},
   "outputs": [],
   "source": [
    "viral_news['수집일자'][0][:10]"
   ]
  },
  {
   "cell_type": "code",
   "execution_count": null,
   "metadata": {},
   "outputs": [],
   "source": [
    "viral_news['date'] = viral_news['수집일자'].apply(lambda x: x[:10])\n",
    "viral_news['date'] = pd.to_datetime(viral_news['date'], format='%Y-%m-%d')"
   ]
  },
  {
   "cell_type": "code",
   "execution_count": null,
   "metadata": {},
   "outputs": [],
   "source": [
    "viral_news['date'].describe()"
   ]
  },
  {
   "cell_type": "code",
   "execution_count": null,
   "metadata": {},
   "outputs": [],
   "source": [
    "# 총 122일 동안의 기사들이다.\n",
    "max(viral_news['date']) - min(viral_news['date'])"
   ]
  },
  {
   "cell_type": "code",
   "execution_count": null,
   "metadata": {},
   "outputs": [],
   "source": []
  },
  {
   "cell_type": "code",
   "execution_count": null,
   "metadata": {},
   "outputs": [],
   "source": []
  }
 ],
 "metadata": {
  "kernelspec": {
   "display_name": "Python 3",
   "language": "python",
   "name": "python3"
  },
  "language_info": {
   "codemirror_mode": {
    "name": "ipython",
    "version": 3
   },
   "file_extension": ".py",
   "mimetype": "text/x-python",
   "name": "python",
   "nbconvert_exporter": "python",
   "pygments_lexer": "ipython3",
   "version": "3.7.3"
  }
 },
 "nbformat": 4,
 "nbformat_minor": 4
}
