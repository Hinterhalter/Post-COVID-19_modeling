{
 "cells": [
  {
   "cell_type": "code",
   "execution_count": 14,
   "metadata": {},
   "outputs": [],
   "source": [
    "import pandas as pd\n",
    "import numpy as np\n",
    "import matplotlib.pyplot as plt\n",
    "import seaborn as sns\n",
    "\n",
    "from matplotlib import font_manager, rc\n",
    "font_name = font_manager.FontProperties(fname=\"c:/Windows/Fonts/malgun.ttf\").get_name()\n",
    "rc('font', family=font_name)\n",
    "%matplotlib inline\n",
    "\n",
    "import glob\n",
    "import sklearn\n",
    "import torch\n",
    "import torch.nn as nn"
   ]
  },
  {
   "cell_type": "code",
   "execution_count": 3,
   "metadata": {},
   "outputs": [],
   "source": [
    "files = sorted(glob.glob('data/lstm/*.csv.gz'))"
   ]
  },
  {
   "cell_type": "code",
   "execution_count": 4,
   "metadata": {},
   "outputs": [],
   "source": [
    "df = pd.concat(map(pd.read_csv, files))"
   ]
  },
  {
   "cell_type": "code",
   "execution_count": 5,
   "metadata": {},
   "outputs": [],
   "source": [
    "df = df[df.symbol == 'XBTUSD']"
   ]
  },
  {
   "cell_type": "code",
   "execution_count": 7,
   "metadata": {},
   "outputs": [],
   "source": [
    "# covert to timestamp type\n",
    "df.timestamp = pd.to_datetime(df.timestamp.str.replace('D', 'T'))"
   ]
  },
  {
   "cell_type": "code",
   "execution_count": 8,
   "metadata": {},
   "outputs": [],
   "source": [
    "df = df.sort_values('timestamp')"
   ]
  },
  {
   "cell_type": "code",
   "execution_count": 9,
   "metadata": {},
   "outputs": [],
   "source": [
    "# set index to timestamp\n",
    "df.set_index('timestamp', inplace=True)"
   ]
  },
  {
   "cell_type": "code",
   "execution_count": 10,
   "metadata": {},
   "outputs": [
    {
     "data": {
      "text/html": [
       "<div>\n",
       "<style scoped>\n",
       "    .dataframe tbody tr th:only-of-type {\n",
       "        vertical-align: middle;\n",
       "    }\n",
       "\n",
       "    .dataframe tbody tr th {\n",
       "        vertical-align: top;\n",
       "    }\n",
       "\n",
       "    .dataframe thead th {\n",
       "        text-align: right;\n",
       "    }\n",
       "</style>\n",
       "<table border=\"1\" class=\"dataframe\">\n",
       "  <thead>\n",
       "    <tr style=\"text-align: right;\">\n",
       "      <th></th>\n",
       "      <th>symbol</th>\n",
       "      <th>side</th>\n",
       "      <th>size</th>\n",
       "      <th>price</th>\n",
       "      <th>tickDirection</th>\n",
       "      <th>trdMatchID</th>\n",
       "      <th>grossValue</th>\n",
       "      <th>homeNotional</th>\n",
       "      <th>foreignNotional</th>\n",
       "    </tr>\n",
       "    <tr>\n",
       "      <th>timestamp</th>\n",
       "      <th></th>\n",
       "      <th></th>\n",
       "      <th></th>\n",
       "      <th></th>\n",
       "      <th></th>\n",
       "      <th></th>\n",
       "      <th></th>\n",
       "      <th></th>\n",
       "      <th></th>\n",
       "    </tr>\n",
       "  </thead>\n",
       "  <tbody>\n",
       "    <tr>\n",
       "      <th>2020-04-20 00:00:02.998482</th>\n",
       "      <td>XBTUSD</td>\n",
       "      <td>Sell</td>\n",
       "      <td>57</td>\n",
       "      <td>7125.0</td>\n",
       "      <td>MinusTick</td>\n",
       "      <td>c38376c2-d09f-5ba7-30f5-0542e4ea7542</td>\n",
       "      <td>799995</td>\n",
       "      <td>0.008000</td>\n",
       "      <td>57.0</td>\n",
       "    </tr>\n",
       "    <tr>\n",
       "      <th>2020-04-20 00:00:03.001833</th>\n",
       "      <td>XBTUSD</td>\n",
       "      <td>Sell</td>\n",
       "      <td>25</td>\n",
       "      <td>7125.0</td>\n",
       "      <td>ZeroMinusTick</td>\n",
       "      <td>e205390b-3fdd-0df1-4d5f-a934d4124b31</td>\n",
       "      <td>350875</td>\n",
       "      <td>0.003509</td>\n",
       "      <td>25.0</td>\n",
       "    </tr>\n",
       "    <tr>\n",
       "      <th>2020-04-20 00:00:03.090244</th>\n",
       "      <td>XBTUSD</td>\n",
       "      <td>Sell</td>\n",
       "      <td>3227</td>\n",
       "      <td>7125.0</td>\n",
       "      <td>ZeroMinusTick</td>\n",
       "      <td>68017e6c-3e05-a5c7-c397-e0ef60c07ed3</td>\n",
       "      <td>45290945</td>\n",
       "      <td>0.452909</td>\n",
       "      <td>3227.0</td>\n",
       "    </tr>\n",
       "    <tr>\n",
       "      <th>2020-04-20 00:00:03.429719</th>\n",
       "      <td>XBTUSD</td>\n",
       "      <td>Sell</td>\n",
       "      <td>10</td>\n",
       "      <td>7125.0</td>\n",
       "      <td>ZeroMinusTick</td>\n",
       "      <td>95022e39-2e92-da87-1543-ab78b6dcc5fa</td>\n",
       "      <td>140350</td>\n",
       "      <td>0.001404</td>\n",
       "      <td>10.0</td>\n",
       "    </tr>\n",
       "    <tr>\n",
       "      <th>2020-04-20 00:00:03.648011</th>\n",
       "      <td>XBTUSD</td>\n",
       "      <td>Sell</td>\n",
       "      <td>18</td>\n",
       "      <td>7125.0</td>\n",
       "      <td>ZeroMinusTick</td>\n",
       "      <td>db8d2723-4c55-eac8-b696-ce1b4df4d4b8</td>\n",
       "      <td>252630</td>\n",
       "      <td>0.002526</td>\n",
       "      <td>18.0</td>\n",
       "    </tr>\n",
       "  </tbody>\n",
       "</table>\n",
       "</div>"
      ],
      "text/plain": [
       "                            symbol  side  size   price  tickDirection  \\\n",
       "timestamp                                                               \n",
       "2020-04-20 00:00:02.998482  XBTUSD  Sell    57  7125.0      MinusTick   \n",
       "2020-04-20 00:00:03.001833  XBTUSD  Sell    25  7125.0  ZeroMinusTick   \n",
       "2020-04-20 00:00:03.090244  XBTUSD  Sell  3227  7125.0  ZeroMinusTick   \n",
       "2020-04-20 00:00:03.429719  XBTUSD  Sell    10  7125.0  ZeroMinusTick   \n",
       "2020-04-20 00:00:03.648011  XBTUSD  Sell    18  7125.0  ZeroMinusTick   \n",
       "\n",
       "                                                      trdMatchID  grossValue  \\\n",
       "timestamp                                                                      \n",
       "2020-04-20 00:00:02.998482  c38376c2-d09f-5ba7-30f5-0542e4ea7542      799995   \n",
       "2020-04-20 00:00:03.001833  e205390b-3fdd-0df1-4d5f-a934d4124b31      350875   \n",
       "2020-04-20 00:00:03.090244  68017e6c-3e05-a5c7-c397-e0ef60c07ed3    45290945   \n",
       "2020-04-20 00:00:03.429719  95022e39-2e92-da87-1543-ab78b6dcc5fa      140350   \n",
       "2020-04-20 00:00:03.648011  db8d2723-4c55-eac8-b696-ce1b4df4d4b8      252630   \n",
       "\n",
       "                            homeNotional  foreignNotional  \n",
       "timestamp                                                  \n",
       "2020-04-20 00:00:02.998482      0.008000             57.0  \n",
       "2020-04-20 00:00:03.001833      0.003509             25.0  \n",
       "2020-04-20 00:00:03.090244      0.452909           3227.0  \n",
       "2020-04-20 00:00:03.429719      0.001404             10.0  \n",
       "2020-04-20 00:00:03.648011      0.002526             18.0  "
      ]
     },
     "execution_count": 10,
     "metadata": {},
     "output_type": "execute_result"
    }
   ],
   "source": [
    "df.head()"
   ]
  },
  {
   "cell_type": "code",
   "execution_count": 56,
   "metadata": {},
   "outputs": [],
   "source": [
    "df_vwap = df.groupby(pd.Grouper(freq=\"1Min\")).apply(\n",
    "    lambda row: np.sum(row.price * row.foreignNotional) / np.sum(row.foreignNotional))"
   ]
  },
  {
   "cell_type": "code",
   "execution_count": 57,
   "metadata": {},
   "outputs": [
    {
     "data": {
      "text/plain": [
       "timestamp\n",
       "2020-04-20 00:00:00    7125.932850\n",
       "2020-04-20 00:01:00    7121.392883\n",
       "2020-04-20 00:02:00    7101.023068\n",
       "2020-04-20 00:03:00    7109.457426\n",
       "2020-04-20 00:04:00    7114.023479\n",
       "                          ...     \n",
       "2020-04-22 23:55:00    7120.261463\n",
       "2020-04-22 23:56:00    7120.086473\n",
       "2020-04-22 23:57:00    7122.948857\n",
       "2020-04-22 23:58:00    7128.706494\n",
       "2020-04-22 23:59:00    7132.717193\n",
       "Length: 4320, dtype: float64"
      ]
     },
     "execution_count": 57,
     "metadata": {},
     "output_type": "execute_result"
    }
   ],
   "source": [
    "df_vwap"
   ]
  },
  {
   "cell_type": "code",
   "execution_count": 69,
   "metadata": {},
   "outputs": [],
   "source": [
    "df = df_vwap.reset_index()"
   ]
  },
  {
   "cell_type": "code",
   "execution_count": 70,
   "metadata": {},
   "outputs": [
    {
     "data": {
      "text/plain": [
       "Index(['timestamp', 0], dtype='object')"
      ]
     },
     "execution_count": 70,
     "metadata": {},
     "output_type": "execute_result"
    }
   ],
   "source": [
    "df.columns"
   ]
  },
  {
   "cell_type": "code",
   "execution_count": 77,
   "metadata": {},
   "outputs": [],
   "source": [
    "df.rename({0 : 'price'}, axis=1, inplace=True)"
   ]
  },
  {
   "cell_type": "code",
   "execution_count": 79,
   "metadata": {},
   "outputs": [
    {
     "data": {
      "text/plain": [
       "(4320, 2)"
      ]
     },
     "execution_count": 79,
     "metadata": {},
     "output_type": "execute_result"
    }
   ],
   "source": [
    "df.shape"
   ]
  },
  {
   "cell_type": "code",
   "execution_count": null,
   "metadata": {},
   "outputs": [],
   "source": [
    "fig_size = plt.rcParams[\"figure.figsize\"]\n",
    "fig_size[0] = 15\n",
    "fig_size[1] = 5\n",
    "plt.rcParams[\"figure.figsize\"] = fig_size"
   ]
  },
  {
   "cell_type": "code",
   "execution_count": 82,
   "metadata": {},
   "outputs": [
    {
     "data": {
      "text/plain": [
       "[<matplotlib.lines.Line2D at 0x2360683f128>]"
      ]
     },
     "execution_count": 82,
     "metadata": {},
     "output_type": "execute_result"
    },
    {
     "data": {
      "image/png": "[encoded data removed]",
      "text/plain": [
       "<Figure size 1080x360 with 1 Axes>"
      ]
     },
     "metadata": {
      "needs_background": "light"
     },
     "output_type": "display_data"
    }
   ],
   "source": [
    "plt.title('Price')\n",
    "plt.ylabel('price')\n",
    "plt.xlabel('timestamp')\n",
    "plt.grid(True)\n",
    "plt.autoscale(axis='x',tight=True)\n",
    "plt.plot(df['price'])"
   ]
  },
  {
   "cell_type": "markdown",
   "metadata": {},
   "source": [
    "# Data Preprocessing"
   ]
  },
  {
   "cell_type": "code",
   "execution_count": null,
   "metadata": {},
   "outputs": [],
   "source": [
    "from sklearn.preprocessing import StandardScaler\n",
    "scaler = StandardScaler()\n",
    "train_arr = scaler.fit_transform(df_train)\n",
    "val_arr = scaler.transform(df_val)\n",
    "test_arr = scaler.transform(df_test)"
   ]
  },
  {
   "cell_type": "code",
   "execution_count": 83,
   "metadata": {},
   "outputs": [
    {
     "data": {
      "text/plain": [
       "Index(['timestamp', 'price'], dtype='object')"
      ]
     },
     "execution_count": 83,
     "metadata": {},
     "output_type": "execute_result"
    }
   ],
   "source": [
    "df.columns"
   ]
  },
  {
   "cell_type": "code",
   "execution_count": 84,
   "metadata": {},
   "outputs": [],
   "source": [
    "all_data = df['price'].values.astype(float)"
   ]
  },
  {
   "cell_type": "code",
   "execution_count": 85,
   "metadata": {},
   "outputs": [
    {
     "name": "stdout",
     "output_type": "stream",
     "text": [
      "[7125.93285037 7121.39288292 7101.02306779 ... 7122.94885677 7128.70649433\n",
      " 7132.71719334]\n"
     ]
    }
   ],
   "source": [
    "print(all_data)"
   ]
  },
  {
   "cell_type": "code",
   "execution_count": 88,
   "metadata": {},
   "outputs": [
    {
     "data": {
      "text/plain": [
       "432.0"
      ]
     },
     "execution_count": 88,
     "metadata": {},
     "output_type": "execute_result"
    }
   ],
   "source": [
    "len(all_data) * 0.1"
   ]
  },
  {
   "cell_type": "code",
   "execution_count": 89,
   "metadata": {},
   "outputs": [],
   "source": [
    "# test 데이터의 크기 지정\n",
    "\n",
    "test_data_size = 432\n",
    "\n",
    "train_data = all_data[:-test_data_size]\n",
    "test_data = all_data[-test_data_size:]"
   ]
  },
  {
   "cell_type": "code",
   "execution_count": 93,
   "metadata": {},
   "outputs": [
    {
     "name": "stdout",
     "output_type": "stream",
     "text": [
      "length of train data : 3888\n",
      "length of test data : 432\n",
      "[7147.43955003 7149.00580814 7148.34103812 7145.32729912 7143.69732216\n",
      " 7141.99903275 7140.74272053 7137.7169895  7132.98061297 7128.45268853]\n"
     ]
    }
   ],
   "source": [
    "print(\"length of train data : %s\" % len(train_data))\n",
    "print(\"length of test data : %s\" % len(test_data))\n",
    "print(test_data[:10])"
   ]
  },
  {
   "cell_type": "code",
   "execution_count": 94,
   "metadata": {},
   "outputs": [],
   "source": [
    "from sklearn.preprocessing import MinMaxScaler\n",
    "\n",
    "scaler = MinMaxScaler(feature_range=(-1, 1))\n",
    "train_data_normalized = scaler.fit_transform(train_data .reshape(-1, 1))"
   ]
  },
  {
   "cell_type": "code",
   "execution_count": 95,
   "metadata": {},
   "outputs": [
    {
     "name": "stdout",
     "output_type": "stream",
     "text": [
      "[[0.59125371]\n",
      " [0.57144658]\n",
      " [0.48257642]\n",
      " [0.51937414]\n",
      " [0.53929508]]\n",
      "[[0.66656225]\n",
      " [0.66828749]\n",
      " [0.71687424]\n",
      " [0.73276037]\n",
      " [0.70571477]]\n"
     ]
    }
   ],
   "source": [
    "print(train_data_normalized[:5])\n",
    "print(train_data_normalized[-5:])"
   ]
  },
  {
   "cell_type": "code",
   "execution_count": 96,
   "metadata": {},
   "outputs": [],
   "source": [
    "train_data_normalized = torch.FloatTensor(train_data_normalized).view(-1)"
   ]
  },
  {
   "cell_type": "code",
   "execution_count": 102,
   "metadata": {},
   "outputs": [],
   "source": [
    "# 몇개 씩 묶어서 학습을 할 것인가를 설정\n",
    "train_window = 54"
   ]
  },
  {
   "cell_type": "code",
   "execution_count": 103,
   "metadata": {},
   "outputs": [],
   "source": [
    "def create_inout_sequences(input_data, tw):\n",
    "    inout_seq = []\n",
    "    L = len(input_data)\n",
    "    for i in range(L-tw):\n",
    "        train_seq = input_data[i:i+tw]\n",
    "        train_label = input_data[i+tw:i+tw+1]\n",
    "        inout_seq.append((train_seq ,train_label))\n",
    "    return inout_seq"
   ]
  },
  {
   "cell_type": "code",
   "execution_count": 104,
   "metadata": {},
   "outputs": [],
   "source": [
    "train_inout_seq = create_inout_sequences(train_data_normalized, train_window)"
   ]
  },
  {
   "cell_type": "code",
   "execution_count": 105,
   "metadata": {},
   "outputs": [
    {
     "data": {
      "text/plain": [
       "[(tensor([0.5913, 0.5714, 0.4826, 0.5194, 0.5393, 0.5319, 0.5628, 0.6074, 0.6159,\n",
       "          0.6221, 0.5943, 0.5953, 0.6081, 0.6138, 0.6207, 0.6363, 0.6487, 0.6582,\n",
       "          0.6574, 0.6576, 0.6804, 0.7045, 0.6954, 0.7125, 0.7031, 0.7077, 0.6979,\n",
       "          0.6958, 0.6862, 0.6705, 0.6819, 0.6998, 0.6980, 0.7067, 0.6985, 0.7039,\n",
       "          0.7121, 0.7376, 0.7436, 0.7419, 0.7399, 0.7346, 0.7267, 0.7265, 0.7244,\n",
       "          0.7189, 0.7162, 0.7168, 0.7395, 0.7740, 0.7756, 0.7942, 0.8091, 0.8082]),\n",
       "  tensor([0.8131])),\n",
       " (tensor([0.5714, 0.4826, 0.5194, 0.5393, 0.5319, 0.5628, 0.6074, 0.6159, 0.6221,\n",
       "          0.5943, 0.5953, 0.6081, 0.6138, 0.6207, 0.6363, 0.6487, 0.6582, 0.6574,\n",
       "          0.6576, 0.6804, 0.7045, 0.6954, 0.7125, 0.7031, 0.7077, 0.6979, 0.6958,\n",
       "          0.6862, 0.6705, 0.6819, 0.6998, 0.6980, 0.7067, 0.6985, 0.7039, 0.7121,\n",
       "          0.7376, 0.7436, 0.7419, 0.7399, 0.7346, 0.7267, 0.7265, 0.7244, 0.7189,\n",
       "          0.7162, 0.7168, 0.7395, 0.7740, 0.7756, 0.7942, 0.8091, 0.8082, 0.8131]),\n",
       "  tensor([0.8234])),\n",
       " (tensor([0.4826, 0.5194, 0.5393, 0.5319, 0.5628, 0.6074, 0.6159, 0.6221, 0.5943,\n",
       "          0.5953, 0.6081, 0.6138, 0.6207, 0.6363, 0.6487, 0.6582, 0.6574, 0.6576,\n",
       "          0.6804, 0.7045, 0.6954, 0.7125, 0.7031, 0.7077, 0.6979, 0.6958, 0.6862,\n",
       "          0.6705, 0.6819, 0.6998, 0.6980, 0.7067, 0.6985, 0.7039, 0.7121, 0.7376,\n",
       "          0.7436, 0.7419, 0.7399, 0.7346, 0.7267, 0.7265, 0.7244, 0.7189, 0.7162,\n",
       "          0.7168, 0.7395, 0.7740, 0.7756, 0.7942, 0.8091, 0.8082, 0.8131, 0.8234]),\n",
       "  tensor([0.8002])),\n",
       " (tensor([0.5194, 0.5393, 0.5319, 0.5628, 0.6074, 0.6159, 0.6221, 0.5943, 0.5953,\n",
       "          0.6081, 0.6138, 0.6207, 0.6363, 0.6487, 0.6582, 0.6574, 0.6576, 0.6804,\n",
       "          0.7045, 0.6954, 0.7125, 0.7031, 0.7077, 0.6979, 0.6958, 0.6862, 0.6705,\n",
       "          0.6819, 0.6998, 0.6980, 0.7067, 0.6985, 0.7039, 0.7121, 0.7376, 0.7436,\n",
       "          0.7419, 0.7399, 0.7346, 0.7267, 0.7265, 0.7244, 0.7189, 0.7162, 0.7168,\n",
       "          0.7395, 0.7740, 0.7756, 0.7942, 0.8091, 0.8082, 0.8131, 0.8234, 0.8002]),\n",
       "  tensor([0.7882])),\n",
       " (tensor([0.5393, 0.5319, 0.5628, 0.6074, 0.6159, 0.6221, 0.5943, 0.5953, 0.6081,\n",
       "          0.6138, 0.6207, 0.6363, 0.6487, 0.6582, 0.6574, 0.6576, 0.6804, 0.7045,\n",
       "          0.6954, 0.7125, 0.7031, 0.7077, 0.6979, 0.6958, 0.6862, 0.6705, 0.6819,\n",
       "          0.6998, 0.6980, 0.7067, 0.6985, 0.7039, 0.7121, 0.7376, 0.7436, 0.7419,\n",
       "          0.7399, 0.7346, 0.7267, 0.7265, 0.7244, 0.7189, 0.7162, 0.7168, 0.7395,\n",
       "          0.7740, 0.7756, 0.7942, 0.8091, 0.8082, 0.8131, 0.8234, 0.8002, 0.7882]),\n",
       "  tensor([0.7921]))]"
      ]
     },
     "execution_count": 105,
     "metadata": {},
     "output_type": "execute_result"
    }
   ],
   "source": [
    "train_inout_seq[:5]"
   ]
  },
  {
   "cell_type": "markdown",
   "metadata": {},
   "source": [
    "# Creating LSTM Model"
   ]
  },
  {
   "cell_type": "code",
   "execution_count": 106,
   "metadata": {},
   "outputs": [],
   "source": [
    "class LSTM(nn.Module):\n",
    "    def __init__(self, input_size=1, hidden_layer_size=100, output_size=1):\n",
    "        super().__init__()\n",
    "        self.hidden_layer_size = hidden_layer_size\n",
    "\n",
    "        self.lstm = nn.LSTM(input_size, hidden_layer_size)\n",
    "\n",
    "        self.linear = nn.Linear(hidden_layer_size, output_size)\n",
    "\n",
    "        self.hidden_cell = (torch.zeros(1,1,self.hidden_layer_size),\n",
    "                            torch.zeros(1,1,self.hidden_layer_size))\n",
    "\n",
    "    def forward(self, input_seq):\n",
    "        lstm_out, self.hidden_cell = self.lstm(input_seq.view(len(input_seq) ,1, -1), self.hidden_cell)\n",
    "        predictions = self.linear(lstm_out.view(len(input_seq), -1))\n",
    "        return predictions[-1]"
   ]
  },
  {
   "cell_type": "code",
   "execution_count": 107,
   "metadata": {},
   "outputs": [],
   "source": [
    "model = LSTM()\n",
    "loss_function = nn.MSELoss()\n",
    "optimizer = torch.optim.Adam(model.parameters(), lr=0.001)"
   ]
  },
  {
   "cell_type": "code",
   "execution_count": 108,
   "metadata": {},
   "outputs": [
    {
     "name": "stdout",
     "output_type": "stream",
     "text": [
      "LSTM(\n",
      "  (lstm): LSTM(1, 100)\n",
      "  (linear): Linear(in_features=100, out_features=1, bias=True)\n",
      ")\n"
     ]
    }
   ],
   "source": [
    "print(model)"
   ]
  },
  {
   "cell_type": "markdown",
   "metadata": {},
   "source": [
    "# Training the Model"
   ]
  },
  {
   "cell_type": "code",
   "execution_count": null,
   "metadata": {},
   "outputs": [],
   "source": [
    "epochs = 150\n",
    "\n",
    "for i in range(epochs):\n",
    "    for seq, labels in train_inout_seq:\n",
    "        optimizer.zero_grad()\n",
    "        model.hidden_cell = (torch.zeros(1, 1, model.hidden_layer_size),\n",
    "                        torch.zeros(1, 1, model.hidden_layer_size))\n",
    "\n",
    "        y_pred = model(seq)\n",
    "\n",
    "        single_loss = loss_function(y_pred, labels)\n",
    "        single_loss.backward()\n",
    "        optimizer.step()\n",
    "\n",
    "    if i%25 == 1:\n",
    "        print(f'epoch: {i:3} loss: {single_loss.item():10.8f}')\n",
    "\n",
    "print(f'epoch: {i:3} loss: {single_loss.item():10.10f}')"
   ]
  },
  {
   "cell_type": "code",
   "execution_count": null,
   "metadata": {},
   "outputs": [],
   "source": []
  }
 ],
 "metadata": {
  "kernelspec": {
   "display_name": "pytorch",
   "language": "python",
   "name": "pytorch"
  },
  "language_info": {
   "codemirror_mode": {
    "name": "ipython",
    "version": 3
   },
   "file_extension": ".py",
   "mimetype": "text/x-python",
   "name": "python",
   "nbconvert_exporter": "python",
   "pygments_lexer": "ipython3",
   "version": "3.6.9"
  }
 },
 "nbformat": 4,
 "nbformat_minor": 4
}
