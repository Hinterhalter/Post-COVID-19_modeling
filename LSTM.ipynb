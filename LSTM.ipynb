{
 "cells": [
  {
   "cell_type": "code",
   "execution_count": 1,
   "metadata": {},
   "outputs": [],
   "source": [
    "import pandas as pd\n",
    "import numpy as np\n",
    "import matplotlib.pyplot as plt\n",
    "import seaborn as sns\n",
    "\n",
    "from matplotlib import font_manager, rc\n",
    "font_name = font_manager.FontProperties(fname=\"c:/Windows/Fonts/malgun.ttf\").get_name()\n",
    "rc('font', family=font_name)\n",
    "%matplotlib inline\n",
    "\n",
    "import glob\n",
    "import sklearn\n",
    "import torch\n",
    "import torch.nn as nn"
   ]
  },
  {
   "cell_type": "code",
   "execution_count": 2,
   "metadata": {},
   "outputs": [],
   "source": [
    "files = sorted(glob.glob('data/lstm/*.csv.gz'))"
   ]
  },
  {
   "cell_type": "code",
   "execution_count": 3,
   "metadata": {},
   "outputs": [],
   "source": [
    "df = pd.concat(map(pd.read_csv, files))"
   ]
  },
  {
   "cell_type": "code",
   "execution_count": 4,
   "metadata": {},
   "outputs": [],
   "source": [
    "df = df[df.symbol == 'XBTUSD']"
   ]
  },
  {
   "cell_type": "code",
   "execution_count": 5,
   "metadata": {},
   "outputs": [],
   "source": [
    "# covert to timestamp type\n",
    "df.timestamp = pd.to_datetime(df.timestamp.str.replace('D', 'T'))"
   ]
  },
  {
   "cell_type": "code",
   "execution_count": 6,
   "metadata": {},
   "outputs": [],
   "source": [
    "df = df.sort_values('timestamp')"
   ]
  },
  {
   "cell_type": "code",
   "execution_count": 7,
   "metadata": {},
   "outputs": [],
   "source": [
    "# set index to timestamp\n",
    "df.set_index('timestamp', inplace=True)"
   ]
  },
  {
   "cell_type": "code",
   "execution_count": 8,
   "metadata": {},
   "outputs": [
    {
     "data": {
      "text/html": [
       "<div>\n",
       "<style scoped>\n",
       "    .dataframe tbody tr th:only-of-type {\n",
       "        vertical-align: middle;\n",
       "    }\n",
       "\n",
       "    .dataframe tbody tr th {\n",
       "        vertical-align: top;\n",
       "    }\n",
       "\n",
       "    .dataframe thead th {\n",
       "        text-align: right;\n",
       "    }\n",
       "</style>\n",
       "<table border=\"1\" class=\"dataframe\">\n",
       "  <thead>\n",
       "    <tr style=\"text-align: right;\">\n",
       "      <th></th>\n",
       "      <th>symbol</th>\n",
       "      <th>side</th>\n",
       "      <th>size</th>\n",
       "      <th>price</th>\n",
       "      <th>tickDirection</th>\n",
       "      <th>trdMatchID</th>\n",
       "      <th>grossValue</th>\n",
       "      <th>homeNotional</th>\n",
       "      <th>foreignNotional</th>\n",
       "    </tr>\n",
       "    <tr>\n",
       "      <th>timestamp</th>\n",
       "      <th></th>\n",
       "      <th></th>\n",
       "      <th></th>\n",
       "      <th></th>\n",
       "      <th></th>\n",
       "      <th></th>\n",
       "      <th></th>\n",
       "      <th></th>\n",
       "      <th></th>\n",
       "    </tr>\n",
       "  </thead>\n",
       "  <tbody>\n",
       "    <tr>\n",
       "      <th>2020-04-20 00:00:02.998482</th>\n",
       "      <td>XBTUSD</td>\n",
       "      <td>Sell</td>\n",
       "      <td>57</td>\n",
       "      <td>7125.0</td>\n",
       "      <td>MinusTick</td>\n",
       "      <td>c38376c2-d09f-5ba7-30f5-0542e4ea7542</td>\n",
       "      <td>799995</td>\n",
       "      <td>0.008000</td>\n",
       "      <td>57.0</td>\n",
       "    </tr>\n",
       "    <tr>\n",
       "      <th>2020-04-20 00:00:03.001833</th>\n",
       "      <td>XBTUSD</td>\n",
       "      <td>Sell</td>\n",
       "      <td>25</td>\n",
       "      <td>7125.0</td>\n",
       "      <td>ZeroMinusTick</td>\n",
       "      <td>e205390b-3fdd-0df1-4d5f-a934d4124b31</td>\n",
       "      <td>350875</td>\n",
       "      <td>0.003509</td>\n",
       "      <td>25.0</td>\n",
       "    </tr>\n",
       "    <tr>\n",
       "      <th>2020-04-20 00:00:03.090244</th>\n",
       "      <td>XBTUSD</td>\n",
       "      <td>Sell</td>\n",
       "      <td>3227</td>\n",
       "      <td>7125.0</td>\n",
       "      <td>ZeroMinusTick</td>\n",
       "      <td>68017e6c-3e05-a5c7-c397-e0ef60c07ed3</td>\n",
       "      <td>45290945</td>\n",
       "      <td>0.452909</td>\n",
       "      <td>3227.0</td>\n",
       "    </tr>\n",
       "    <tr>\n",
       "      <th>2020-04-20 00:00:03.429719</th>\n",
       "      <td>XBTUSD</td>\n",
       "      <td>Sell</td>\n",
       "      <td>10</td>\n",
       "      <td>7125.0</td>\n",
       "      <td>ZeroMinusTick</td>\n",
       "      <td>95022e39-2e92-da87-1543-ab78b6dcc5fa</td>\n",
       "      <td>140350</td>\n",
       "      <td>0.001404</td>\n",
       "      <td>10.0</td>\n",
       "    </tr>\n",
       "    <tr>\n",
       "      <th>2020-04-20 00:00:03.648011</th>\n",
       "      <td>XBTUSD</td>\n",
       "      <td>Sell</td>\n",
       "      <td>18</td>\n",
       "      <td>7125.0</td>\n",
       "      <td>ZeroMinusTick</td>\n",
       "      <td>db8d2723-4c55-eac8-b696-ce1b4df4d4b8</td>\n",
       "      <td>252630</td>\n",
       "      <td>0.002526</td>\n",
       "      <td>18.0</td>\n",
       "    </tr>\n",
       "  </tbody>\n",
       "</table>\n",
       "</div>"
      ],
      "text/plain": [
       "                            symbol  side  size   price  tickDirection  \\\n",
       "timestamp                                                               \n",
       "2020-04-20 00:00:02.998482  XBTUSD  Sell    57  7125.0      MinusTick   \n",
       "2020-04-20 00:00:03.001833  XBTUSD  Sell    25  7125.0  ZeroMinusTick   \n",
       "2020-04-20 00:00:03.090244  XBTUSD  Sell  3227  7125.0  ZeroMinusTick   \n",
       "2020-04-20 00:00:03.429719  XBTUSD  Sell    10  7125.0  ZeroMinusTick   \n",
       "2020-04-20 00:00:03.648011  XBTUSD  Sell    18  7125.0  ZeroMinusTick   \n",
       "\n",
       "                                                      trdMatchID  grossValue  \\\n",
       "timestamp                                                                      \n",
       "2020-04-20 00:00:02.998482  c38376c2-d09f-5ba7-30f5-0542e4ea7542      799995   \n",
       "2020-04-20 00:00:03.001833  e205390b-3fdd-0df1-4d5f-a934d4124b31      350875   \n",
       "2020-04-20 00:00:03.090244  68017e6c-3e05-a5c7-c397-e0ef60c07ed3    45290945   \n",
       "2020-04-20 00:00:03.429719  95022e39-2e92-da87-1543-ab78b6dcc5fa      140350   \n",
       "2020-04-20 00:00:03.648011  db8d2723-4c55-eac8-b696-ce1b4df4d4b8      252630   \n",
       "\n",
       "                            homeNotional  foreignNotional  \n",
       "timestamp                                                  \n",
       "2020-04-20 00:00:02.998482      0.008000             57.0  \n",
       "2020-04-20 00:00:03.001833      0.003509             25.0  \n",
       "2020-04-20 00:00:03.090244      0.452909           3227.0  \n",
       "2020-04-20 00:00:03.429719      0.001404             10.0  \n",
       "2020-04-20 00:00:03.648011      0.002526             18.0  "
      ]
     },
     "execution_count": 8,
     "metadata": {},
     "output_type": "execute_result"
    }
   ],
   "source": [
    "df.head()"
   ]
  },
  {
   "cell_type": "code",
   "execution_count": 9,
   "metadata": {},
   "outputs": [],
   "source": [
    "df_vwap = df.groupby(pd.Grouper(freq=\"1Min\")).apply(\n",
    "    lambda row: np.sum(row.price * row.foreignNotional) / np.sum(row.foreignNotional))"
   ]
  },
  {
   "cell_type": "code",
   "execution_count": 10,
   "metadata": {},
   "outputs": [
    {
     "data": {
      "text/plain": [
       "timestamp\n",
       "2020-04-20 00:00:00    7125.932850\n",
       "2020-04-20 00:01:00    7121.392883\n",
       "2020-04-20 00:02:00    7101.023068\n",
       "2020-04-20 00:03:00    7109.457426\n",
       "2020-04-20 00:04:00    7114.023479\n",
       "                          ...     \n",
       "2020-04-22 23:55:00    7120.261463\n",
       "2020-04-22 23:56:00    7120.086473\n",
       "2020-04-22 23:57:00    7122.948857\n",
       "2020-04-22 23:58:00    7128.706494\n",
       "2020-04-22 23:59:00    7132.717193\n",
       "Length: 4320, dtype: float64"
      ]
     },
     "execution_count": 10,
     "metadata": {},
     "output_type": "execute_result"
    }
   ],
   "source": [
    "df_vwap"
   ]
  },
  {
   "cell_type": "code",
   "execution_count": 11,
   "metadata": {},
   "outputs": [],
   "source": [
    "df = df_vwap.reset_index()"
   ]
  },
  {
   "cell_type": "code",
   "execution_count": 12,
   "metadata": {},
   "outputs": [
    {
     "data": {
      "text/plain": [
       "Index(['timestamp', 0], dtype='object')"
      ]
     },
     "execution_count": 12,
     "metadata": {},
     "output_type": "execute_result"
    }
   ],
   "source": [
    "df.columns"
   ]
  },
  {
   "cell_type": "code",
   "execution_count": 13,
   "metadata": {},
   "outputs": [],
   "source": [
    "df.rename({0 : 'price'}, axis=1, inplace=True)"
   ]
  },
  {
   "cell_type": "code",
   "execution_count": 14,
   "metadata": {},
   "outputs": [
    {
     "data": {
      "text/plain": [
       "(4320, 2)"
      ]
     },
     "execution_count": 14,
     "metadata": {},
     "output_type": "execute_result"
    }
   ],
   "source": [
    "df.shape"
   ]
  },
  {
   "cell_type": "code",
   "execution_count": 15,
   "metadata": {},
   "outputs": [],
   "source": [
    "fig_size = plt.rcParams[\"figure.figsize\"]\n",
    "fig_size[0] = 15\n",
    "fig_size[1] = 5\n",
    "plt.rcParams[\"figure.figsize\"] = fig_size"
   ]
  },
  {
   "cell_type": "code",
   "execution_count": 16,
   "metadata": {},
   "outputs": [
    {
     "data": {
      "text/plain": [
       "[<matplotlib.lines.Line2D at 0x1833fb1cda0>]"
      ]
     },
     "execution_count": 16,
     "metadata": {},
     "output_type": "execute_result"
    },
    {
     "data": {
      "image/png": "[encoded data removed]",
      "text/plain": [
       "<Figure size 1080x360 with 1 Axes>"
      ]
     },
     "metadata": {
      "needs_background": "light"
     },
     "output_type": "display_data"
    }
   ],
   "source": [
    "plt.title('Price')\n",
    "plt.ylabel('price')\n",
    "plt.xlabel('timestamp')\n",
    "plt.grid(True)\n",
    "plt.autoscale(axis='x',tight=True)\n",
    "plt.plot(df['price'])"
   ]
  },
  {
   "cell_type": "markdown",
   "metadata": {},
   "source": [
    "# Data Preprocessing"
   ]
  },
  {
   "cell_type": "code",
   "execution_count": 19,
   "metadata": {},
   "outputs": [
    {
     "ename": "NameError",
     "evalue": "name 'df_train' is not defined",
     "output_type": "error",
     "traceback": [
      "\u001b[1;31m---------------------------------------------------------------------------\u001b[0m",
      "\u001b[1;31mNameError\u001b[0m                                 Traceback (most recent call last)",
      "\u001b[1;32m<ipython-input-19-e75abe68f5c1>\u001b[0m in \u001b[0;36m<module>\u001b[1;34m\u001b[0m\n\u001b[0;32m      1\u001b[0m \u001b[1;32mfrom\u001b[0m \u001b[0msklearn\u001b[0m\u001b[1;33m.\u001b[0m\u001b[0mpreprocessing\u001b[0m \u001b[1;32mimport\u001b[0m \u001b[0mStandardScaler\u001b[0m\u001b[1;33m\u001b[0m\u001b[1;33m\u001b[0m\u001b[0m\n\u001b[0;32m      2\u001b[0m \u001b[0mscaler\u001b[0m \u001b[1;33m=\u001b[0m \u001b[0mStandardScaler\u001b[0m\u001b[1;33m(\u001b[0m\u001b[1;33m)\u001b[0m\u001b[1;33m\u001b[0m\u001b[1;33m\u001b[0m\u001b[0m\n\u001b[1;32m----> 3\u001b[1;33m \u001b[0mtrain_arr\u001b[0m \u001b[1;33m=\u001b[0m \u001b[0mscaler\u001b[0m\u001b[1;33m.\u001b[0m\u001b[0mfit_transform\u001b[0m\u001b[1;33m(\u001b[0m\u001b[0mdf_train\u001b[0m\u001b[1;33m)\u001b[0m\u001b[1;33m\u001b[0m\u001b[1;33m\u001b[0m\u001b[0m\n\u001b[0m\u001b[0;32m      4\u001b[0m \u001b[0mval_arr\u001b[0m \u001b[1;33m=\u001b[0m \u001b[0mscaler\u001b[0m\u001b[1;33m.\u001b[0m\u001b[0mtransform\u001b[0m\u001b[1;33m(\u001b[0m\u001b[0mdf_val\u001b[0m\u001b[1;33m)\u001b[0m\u001b[1;33m\u001b[0m\u001b[1;33m\u001b[0m\u001b[0m\n\u001b[0;32m      5\u001b[0m \u001b[0mtest_arr\u001b[0m \u001b[1;33m=\u001b[0m \u001b[0mscaler\u001b[0m\u001b[1;33m.\u001b[0m\u001b[0mtransform\u001b[0m\u001b[1;33m(\u001b[0m\u001b[0mdf_test\u001b[0m\u001b[1;33m)\u001b[0m\u001b[1;33m\u001b[0m\u001b[1;33m\u001b[0m\u001b[0m\n",
      "\u001b[1;31mNameError\u001b[0m: name 'df_train' is not defined"
     ]
    }
   ],
   "source": [
    "from sklearn.preprocessing import StandardScaler\n",
    "scaler = StandardScaler()\n",
    "train_arr = scaler.fit_transform(df_train)\n",
    "val_arr = scaler.transform(df_val)\n",
    "test_arr = scaler.transform(df_test)"
   ]
  },
  {
   "cell_type": "code",
   "execution_count": 17,
   "metadata": {},
   "outputs": [
    {
     "data": {
      "text/plain": [
       "Index(['timestamp', 'price'], dtype='object')"
      ]
     },
     "execution_count": 17,
     "metadata": {},
     "output_type": "execute_result"
    }
   ],
   "source": [
    "df.columns"
   ]
  },
  {
   "cell_type": "code",
   "execution_count": 18,
   "metadata": {},
   "outputs": [],
   "source": [
    "all_data = df['price'].values.astype(float)"
   ]
  },
  {
   "cell_type": "code",
   "execution_count": 19,
   "metadata": {},
   "outputs": [
    {
     "name": "stdout",
     "output_type": "stream",
     "text": [
      "[7125.93285037 7121.39288292 7101.02306779 ... 7122.94885677 7128.70649433\n",
      " 7132.71719334]\n"
     ]
    }
   ],
   "source": [
    "print(all_data)"
   ]
  },
  {
   "cell_type": "code",
   "execution_count": 20,
   "metadata": {},
   "outputs": [
    {
     "data": {
      "text/plain": [
       "432.0"
      ]
     },
     "execution_count": 20,
     "metadata": {},
     "output_type": "execute_result"
    }
   ],
   "source": [
    "len(all_data) * 0.1"
   ]
  },
  {
   "cell_type": "code",
   "execution_count": 21,
   "metadata": {},
   "outputs": [],
   "source": [
    "# test 데이터의 크기 지정\n",
    "\n",
    "test_data_size = 432\n",
    "\n",
    "train_data = all_data[:-test_data_size]\n",
    "test_data = all_data[-test_data_size:]"
   ]
  },
  {
   "cell_type": "code",
   "execution_count": 22,
   "metadata": {},
   "outputs": [
    {
     "name": "stdout",
     "output_type": "stream",
     "text": [
      "length of train data : 3888\n",
      "length of test data : 432\n",
      "[7147.43955003 7149.00580814 7148.34103812 7145.32729912 7143.69732216\n",
      " 7141.99903275 7140.74272053 7137.7169895  7132.98061297 7128.45268853]\n"
     ]
    }
   ],
   "source": [
    "print(\"length of train data : %s\" % len(train_data))\n",
    "print(\"length of test data : %s\" % len(test_data))\n",
    "print(test_data[:10])"
   ]
  },
  {
   "cell_type": "code",
   "execution_count": 23,
   "metadata": {},
   "outputs": [],
   "source": [
    "from sklearn.preprocessing import MinMaxScaler\n",
    "\n",
    "scaler = MinMaxScaler(feature_range=(-1, 1))\n",
    "train_data_normalized = scaler.fit_transform(train_data .reshape(-1, 1))"
   ]
  },
  {
   "cell_type": "code",
   "execution_count": 24,
   "metadata": {},
   "outputs": [
    {
     "name": "stdout",
     "output_type": "stream",
     "text": [
      "[[0.59125371]\n",
      " [0.57144658]\n",
      " [0.48257642]\n",
      " [0.51937414]\n",
      " [0.53929508]]\n",
      "[[0.66656225]\n",
      " [0.66828749]\n",
      " [0.71687424]\n",
      " [0.73276037]\n",
      " [0.70571477]]\n"
     ]
    }
   ],
   "source": [
    "print(train_data_normalized[:5])\n",
    "print(train_data_normalized[-5:])"
   ]
  },
  {
   "cell_type": "code",
   "execution_count": 25,
   "metadata": {},
   "outputs": [],
   "source": [
    "train_data_normalized = torch.FloatTensor(train_data_normalized).view(-1)\n",
    "#train_data_normalized = train_data_normalized.cuda()"
   ]
  },
  {
   "cell_type": "code",
   "execution_count": 26,
   "metadata": {},
   "outputs": [
    {
     "data": {
      "text/plain": [
       "tensor([0.5913, 0.5714, 0.4826, 0.5194, 0.5393])"
      ]
     },
     "execution_count": 26,
     "metadata": {},
     "output_type": "execute_result"
    }
   ],
   "source": [
    "train_data_normalized[:5]"
   ]
  },
  {
   "cell_type": "code",
   "execution_count": 27,
   "metadata": {},
   "outputs": [],
   "source": [
    "# 몇개 씩 묶어서 학습을 할 것인가를 설정\n",
    "train_window = 54"
   ]
  },
  {
   "cell_type": "code",
   "execution_count": 28,
   "metadata": {},
   "outputs": [],
   "source": [
    "def create_inout_sequences(input_data, tw):\n",
    "    inout_seq = []\n",
    "    L = len(input_data)\n",
    "    for i in range(L-tw):\n",
    "        train_seq = input_data[i:i+tw]\n",
    "        train_label = input_data[i+tw:i+tw+1]\n",
    "        inout_seq.append((train_seq ,train_label))\n",
    "    return inout_seq"
   ]
  },
  {
   "cell_type": "code",
   "execution_count": 29,
   "metadata": {},
   "outputs": [],
   "source": [
    "train_inout_seq = create_inout_sequences(train_data_normalized, train_window)"
   ]
  },
  {
   "cell_type": "code",
   "execution_count": 32,
   "metadata": {},
   "outputs": [
    {
     "data": {
      "text/plain": [
       "[(tensor([0.5913, 0.5714, 0.4826, 0.5194, 0.5393, 0.5319, 0.5628, 0.6074, 0.6159,\n",
       "          0.6221, 0.5943, 0.5953, 0.6081, 0.6138, 0.6207, 0.6363, 0.6487, 0.6582,\n",
       "          0.6574, 0.6576, 0.6804, 0.7045, 0.6954, 0.7125, 0.7031, 0.7077, 0.6979,\n",
       "          0.6958, 0.6862, 0.6705, 0.6819, 0.6998, 0.6980, 0.7067, 0.6985, 0.7039,\n",
       "          0.7121, 0.7376, 0.7436, 0.7419, 0.7399, 0.7346, 0.7267, 0.7265, 0.7244,\n",
       "          0.7189, 0.7162, 0.7168, 0.7395, 0.7740, 0.7756, 0.7942, 0.8091, 0.8082]),\n",
       "  tensor([0.8131])),\n",
       " (tensor([0.5714, 0.4826, 0.5194, 0.5393, 0.5319, 0.5628, 0.6074, 0.6159, 0.6221,\n",
       "          0.5943, 0.5953, 0.6081, 0.6138, 0.6207, 0.6363, 0.6487, 0.6582, 0.6574,\n",
       "          0.6576, 0.6804, 0.7045, 0.6954, 0.7125, 0.7031, 0.7077, 0.6979, 0.6958,\n",
       "          0.6862, 0.6705, 0.6819, 0.6998, 0.6980, 0.7067, 0.6985, 0.7039, 0.7121,\n",
       "          0.7376, 0.7436, 0.7419, 0.7399, 0.7346, 0.7267, 0.7265, 0.7244, 0.7189,\n",
       "          0.7162, 0.7168, 0.7395, 0.7740, 0.7756, 0.7942, 0.8091, 0.8082, 0.8131]),\n",
       "  tensor([0.8234])),\n",
       " (tensor([0.4826, 0.5194, 0.5393, 0.5319, 0.5628, 0.6074, 0.6159, 0.6221, 0.5943,\n",
       "          0.5953, 0.6081, 0.6138, 0.6207, 0.6363, 0.6487, 0.6582, 0.6574, 0.6576,\n",
       "          0.6804, 0.7045, 0.6954, 0.7125, 0.7031, 0.7077, 0.6979, 0.6958, 0.6862,\n",
       "          0.6705, 0.6819, 0.6998, 0.6980, 0.7067, 0.6985, 0.7039, 0.7121, 0.7376,\n",
       "          0.7436, 0.7419, 0.7399, 0.7346, 0.7267, 0.7265, 0.7244, 0.7189, 0.7162,\n",
       "          0.7168, 0.7395, 0.7740, 0.7756, 0.7942, 0.8091, 0.8082, 0.8131, 0.8234]),\n",
       "  tensor([0.8002])),\n",
       " (tensor([0.5194, 0.5393, 0.5319, 0.5628, 0.6074, 0.6159, 0.6221, 0.5943, 0.5953,\n",
       "          0.6081, 0.6138, 0.6207, 0.6363, 0.6487, 0.6582, 0.6574, 0.6576, 0.6804,\n",
       "          0.7045, 0.6954, 0.7125, 0.7031, 0.7077, 0.6979, 0.6958, 0.6862, 0.6705,\n",
       "          0.6819, 0.6998, 0.6980, 0.7067, 0.6985, 0.7039, 0.7121, 0.7376, 0.7436,\n",
       "          0.7419, 0.7399, 0.7346, 0.7267, 0.7265, 0.7244, 0.7189, 0.7162, 0.7168,\n",
       "          0.7395, 0.7740, 0.7756, 0.7942, 0.8091, 0.8082, 0.8131, 0.8234, 0.8002]),\n",
       "  tensor([0.7882])),\n",
       " (tensor([0.5393, 0.5319, 0.5628, 0.6074, 0.6159, 0.6221, 0.5943, 0.5953, 0.6081,\n",
       "          0.6138, 0.6207, 0.6363, 0.6487, 0.6582, 0.6574, 0.6576, 0.6804, 0.7045,\n",
       "          0.6954, 0.7125, 0.7031, 0.7077, 0.6979, 0.6958, 0.6862, 0.6705, 0.6819,\n",
       "          0.6998, 0.6980, 0.7067, 0.6985, 0.7039, 0.7121, 0.7376, 0.7436, 0.7419,\n",
       "          0.7399, 0.7346, 0.7267, 0.7265, 0.7244, 0.7189, 0.7162, 0.7168, 0.7395,\n",
       "          0.7740, 0.7756, 0.7942, 0.8091, 0.8082, 0.8131, 0.8234, 0.8002, 0.7882]),\n",
       "  tensor([0.7921]))]"
      ]
     },
     "execution_count": 32,
     "metadata": {},
     "output_type": "execute_result"
    }
   ],
   "source": [
    "train_inout_seq[:5]"
   ]
  },
  {
   "cell_type": "markdown",
   "metadata": {},
   "source": [
    "# Creating LSTM Model"
   ]
  },
  {
   "cell_type": "code",
   "execution_count": 30,
   "metadata": {},
   "outputs": [],
   "source": [
    "class LSTM(nn.Module):\n",
    "    def __init__(self, input_size=1, hidden_layer_size=100, output_size=1):\n",
    "        super().__init__()\n",
    "        self.hidden_layer_size = hidden_layer_size\n",
    "\n",
    "        self.lstm = nn.LSTM(input_size, hidden_layer_size)\n",
    "\n",
    "        self.linear = nn.Linear(hidden_layer_size, output_size)\n",
    "\n",
    "        self.hidden_cell = (torch.zeros(1,1,self.hidden_layer_size),\n",
    "                            torch.zeros(1,1,self.hidden_layer_size))\n",
    "\n",
    "    def forward(self, input_seq):\n",
    "        lstm_out, self.hidden_cell = self.lstm(input_seq.view(len(input_seq) ,1, -1), self.hidden_cell)\n",
    "        predictions = self.linear(lstm_out.view(len(input_seq), -1))\n",
    "        return predictions[-1]"
   ]
  },
  {
   "cell_type": "code",
   "execution_count": 31,
   "metadata": {},
   "outputs": [],
   "source": [
    "model = LSTM()\n",
    "model = model.cuda()\n",
    "loss_function = nn.MSELoss()\n",
    "optimizer = torch.optim.Adam(model.parameters(), lr=0.001)"
   ]
  },
  {
   "cell_type": "code",
   "execution_count": 32,
   "metadata": {},
   "outputs": [
    {
     "name": "stdout",
     "output_type": "stream",
     "text": [
      "LSTM(\n",
      "  (lstm): LSTM(1, 100)\n",
      "  (linear): Linear(in_features=100, out_features=1, bias=True)\n",
      ")\n"
     ]
    }
   ],
   "source": [
    "print(model)"
   ]
  },
  {
   "cell_type": "markdown",
   "metadata": {},
   "source": [
    "# Training the Model"
   ]
  },
  {
   "cell_type": "code",
   "execution_count": 33,
   "metadata": {},
   "outputs": [
    {
     "data": {
      "text/plain": [
       "True"
      ]
     },
     "execution_count": 33,
     "metadata": {},
     "output_type": "execute_result"
    }
   ],
   "source": [
    "is_cuda = torch.cuda.is_available()\n",
    "is_cuda"
   ]
  },
  {
   "cell_type": "code",
   "execution_count": 35,
   "metadata": {},
   "outputs": [],
   "source": [
    "from tqdm import tqdm"
   ]
  },
  {
   "cell_type": "code",
   "execution_count": 38,
   "metadata": {},
   "outputs": [
    {
     "name": "stderr",
     "output_type": "stream",
     "text": [
      "  1%|▏         | 2/150 [01:16<1:35:05, 38.55s/it]"
     ]
    },
    {
     "name": "stdout",
     "output_type": "stream",
     "text": [
      "epoch:   1 loss: 0.00000634\n"
     ]
    },
    {
     "name": "stderr",
     "output_type": "stream",
     "text": [
      " 18%|█▊        | 27/150 [17:46<1:18:22, 38.23s/it]"
     ]
    },
    {
     "name": "stdout",
     "output_type": "stream",
     "text": [
      "epoch:  26 loss: 0.00038306\n"
     ]
    },
    {
     "name": "stderr",
     "output_type": "stream",
     "text": [
      " 35%|███▍      | 52/150 [38:54<1:24:42, 51.86s/it]"
     ]
    },
    {
     "name": "stdout",
     "output_type": "stream",
     "text": [
      "epoch:  51 loss: 0.00060494\n"
     ]
    },
    {
     "name": "stderr",
     "output_type": "stream",
     "text": [
      " 51%|█████▏    | 77/150 [58:17<54:06, 44.48s/it]  "
     ]
    },
    {
     "name": "stdout",
     "output_type": "stream",
     "text": [
      "epoch:  76 loss: 0.00063563\n"
     ]
    },
    {
     "name": "stderr",
     "output_type": "stream",
     "text": [
      " 68%|██████▊   | 102/150 [1:16:03<34:04, 42.58s/it]"
     ]
    },
    {
     "name": "stdout",
     "output_type": "stream",
     "text": [
      "epoch: 101 loss: 0.00150395\n"
     ]
    },
    {
     "name": "stderr",
     "output_type": "stream",
     "text": [
      " 85%|████████▍ | 127/150 [1:33:47<16:19, 42.58s/it]"
     ]
    },
    {
     "name": "stdout",
     "output_type": "stream",
     "text": [
      "epoch: 126 loss: 0.00150136\n"
     ]
    },
    {
     "name": "stderr",
     "output_type": "stream",
     "text": [
      "100%|██████████| 150/150 [1:50:24<00:00, 44.16s/it]"
     ]
    },
    {
     "name": "stdout",
     "output_type": "stream",
     "text": [
      "epoch: 149 loss: 0.0004088187\n"
     ]
    },
    {
     "name": "stderr",
     "output_type": "stream",
     "text": [
      "\n"
     ]
    }
   ],
   "source": [
    "epochs = 150\n",
    "\n",
    "for i in tqdm(range(epochs)):\n",
    "    for seq, labels in train_inout_seq:\n",
    "        if is_cuda:\n",
    "            seq, labels = seq.cuda(), labels.cuda()\n",
    "        optimizer.zero_grad()\n",
    "        model.hidden_cell = (torch.zeros(1, 1, model.hidden_layer_size).cuda(),\n",
    "                        torch.zeros(1, 1, model.hidden_layer_size).cuda())\n",
    "\n",
    "        y_pred = model(seq).cuda()\n",
    "\n",
    "        single_loss = loss_function(y_pred, labels)\n",
    "        single_loss.backward()\n",
    "        optimizer.step()\n",
    "\n",
    "    if i%25 == 1:\n",
    "        print(f'epoch: {i:3} loss: {single_loss.item():10.8f}')\n",
    "\n",
    "print(f'epoch: {i:3} loss: {single_loss.item():10.10f}')"
   ]
  },
  {
   "cell_type": "markdown",
   "metadata": {},
   "source": [
    "# Making Predictions"
   ]
  },
  {
   "cell_type": "code",
   "execution_count": 39,
   "metadata": {},
   "outputs": [
    {
     "name": "stdout",
     "output_type": "stream",
     "text": [
      "[0.5911096334457397, 0.5642001628875732, 0.561943531036377, 0.564515233039856, 0.5723224878311157, 0.5799384713172913, 0.6327614784240723, 0.5386930108070374, 0.5531030893325806, 0.5468667149543762, 0.5337039828300476, 0.548136293888092, 0.5742720365524292, 0.5595731139183044, 0.5471099615097046, 0.5481463670730591, 0.5451363325119019, 0.5421842932701111, 0.5414146184921265, 0.545111358165741, 0.5645518898963928, 0.554246187210083, 0.5623394250869751, 0.5749273300170898, 0.5921990871429443, 0.5944204926490784, 0.582623302936554, 0.5657342076301575, 0.5768968462944031, 0.5806953310966492, 0.5758360028266907, 0.5851050615310669, 0.5808143615722656, 0.5758612155914307, 0.600566565990448, 0.6090009212493896, 0.6083246469497681, 0.6275121569633484, 0.6349626779556274, 0.7656219601631165, 0.707920253276825, 0.7048172354698181, 0.6816239953041077, 0.6844449639320374, 0.6782359480857849, 0.6944351196289062, 0.6986495852470398, 0.6876792311668396, 0.6753692626953125, 0.6665622591972351, 0.6682875156402588, 0.7168742418289185, 0.7327603697776794, 0.705714762210846]\n"
     ]
    }
   ],
   "source": [
    "fut_pred = 216\n",
    "\n",
    "test_inputs = train_data_normalized[-train_window:].tolist()\n",
    "print(test_inputs)"
   ]
  },
  {
   "cell_type": "code",
   "execution_count": 43,
   "metadata": {},
   "outputs": [],
   "source": [
    "model.eval()\n",
    "\n",
    "for i in range(fut_pred):\n",
    "    seq = torch.FloatTensor(test_inputs[-train_window:])\n",
    "    seq = seq.cuda()\n",
    "    with torch.no_grad():\n",
    "        model.hidden = (torch.zeros(1, 1, model.hidden_layer_size).cuda(),\n",
    "                        torch.zeros(1, 1, model.hidden_layer_size).cuda())\n",
    "        test_inputs.append(model(seq).item())"
   ]
  },
  {
   "cell_type": "code",
   "execution_count": 46,
   "metadata": {},
   "outputs": [
    {
     "name": "stdout",
     "output_type": "stream",
     "text": [
      "[[7154.12795722]\n",
      " [7155.95318766]\n",
      " [7158.21510721]\n",
      " [7158.06974455]\n",
      " [7158.65089464]]\n"
     ]
    }
   ],
   "source": [
    "actual_predictions = scaler.inverse_transform(np.array(test_inputs[train_window:] ).reshape(-1, 1))\n",
    "print(actual_predictions[:5])"
   ]
  },
  {
   "cell_type": "code",
   "execution_count": null,
   "metadata": {},
   "outputs": [],
   "source": [
    "216"
   ]
  },
  {
   "cell_type": "code",
   "execution_count": 47,
   "metadata": {},
   "outputs": [
    {
     "name": "stdout",
     "output_type": "stream",
     "text": [
      "[132 133 134 135 136 137 138 139 140 141 142 143]\n"
     ]
    }
   ],
   "source": [
    "x = np.arange(132, 144, 1)\n",
    "print(x)"
   ]
  },
  {
   "cell_type": "code",
   "execution_count": 50,
   "metadata": {},
   "outputs": [
    {
     "data": {
      "text/plain": [
       "array([132, 133, 134, 135, 136, 137, 138, 139, 140, 141, 142, 143])"
      ]
     },
     "execution_count": 50,
     "metadata": {},
     "output_type": "execute_result"
    }
   ],
   "source": [
    "x"
   ]
  },
  {
   "cell_type": "code",
   "execution_count": 54,
   "metadata": {},
   "outputs": [
    {
     "data": {
      "text/html": [
       "<div>\n",
       "<style scoped>\n",
       "    .dataframe tbody tr th:only-of-type {\n",
       "        vertical-align: middle;\n",
       "    }\n",
       "\n",
       "    .dataframe tbody tr th {\n",
       "        vertical-align: top;\n",
       "    }\n",
       "\n",
       "    .dataframe thead th {\n",
       "        text-align: right;\n",
       "    }\n",
       "</style>\n",
       "<table border=\"1\" class=\"dataframe\">\n",
       "  <thead>\n",
       "    <tr style=\"text-align: right;\">\n",
       "      <th></th>\n",
       "      <th>timestamp</th>\n",
       "      <th>price</th>\n",
       "    </tr>\n",
       "  </thead>\n",
       "  <tbody>\n",
       "    <tr>\n",
       "      <th>0</th>\n",
       "      <td>2020-04-20 00:00:00</td>\n",
       "      <td>7125.932850</td>\n",
       "    </tr>\n",
       "    <tr>\n",
       "      <th>1</th>\n",
       "      <td>2020-04-20 00:01:00</td>\n",
       "      <td>7121.392883</td>\n",
       "    </tr>\n",
       "    <tr>\n",
       "      <th>2</th>\n",
       "      <td>2020-04-20 00:02:00</td>\n",
       "      <td>7101.023068</td>\n",
       "    </tr>\n",
       "    <tr>\n",
       "      <th>3</th>\n",
       "      <td>2020-04-20 00:03:00</td>\n",
       "      <td>7109.457426</td>\n",
       "    </tr>\n",
       "    <tr>\n",
       "      <th>4</th>\n",
       "      <td>2020-04-20 00:04:00</td>\n",
       "      <td>7114.023479</td>\n",
       "    </tr>\n",
       "    <tr>\n",
       "      <th>...</th>\n",
       "      <td>...</td>\n",
       "      <td>...</td>\n",
       "    </tr>\n",
       "    <tr>\n",
       "      <th>4315</th>\n",
       "      <td>2020-04-22 23:55:00</td>\n",
       "      <td>7120.261463</td>\n",
       "    </tr>\n",
       "    <tr>\n",
       "      <th>4316</th>\n",
       "      <td>2020-04-22 23:56:00</td>\n",
       "      <td>7120.086473</td>\n",
       "    </tr>\n",
       "    <tr>\n",
       "      <th>4317</th>\n",
       "      <td>2020-04-22 23:57:00</td>\n",
       "      <td>7122.948857</td>\n",
       "    </tr>\n",
       "    <tr>\n",
       "      <th>4318</th>\n",
       "      <td>2020-04-22 23:58:00</td>\n",
       "      <td>7128.706494</td>\n",
       "    </tr>\n",
       "    <tr>\n",
       "      <th>4319</th>\n",
       "      <td>2020-04-22 23:59:00</td>\n",
       "      <td>7132.717193</td>\n",
       "    </tr>\n",
       "  </tbody>\n",
       "</table>\n",
       "<p>4320 rows × 2 columns</p>\n",
       "</div>"
      ],
      "text/plain": [
       "               timestamp        price\n",
       "0    2020-04-20 00:00:00  7125.932850\n",
       "1    2020-04-20 00:01:00  7121.392883\n",
       "2    2020-04-20 00:02:00  7101.023068\n",
       "3    2020-04-20 00:03:00  7109.457426\n",
       "4    2020-04-20 00:04:00  7114.023479\n",
       "...                  ...          ...\n",
       "4315 2020-04-22 23:55:00  7120.261463\n",
       "4316 2020-04-22 23:56:00  7120.086473\n",
       "4317 2020-04-22 23:57:00  7122.948857\n",
       "4318 2020-04-22 23:58:00  7128.706494\n",
       "4319 2020-04-22 23:59:00  7132.717193\n",
       "\n",
       "[4320 rows x 2 columns]"
      ]
     },
     "execution_count": 54,
     "metadata": {},
     "output_type": "execute_result"
    }
   ],
   "source": [
    "df"
   ]
  },
  {
   "cell_type": "code",
   "execution_count": null,
   "metadata": {},
   "outputs": [],
   "source": []
  },
  {
   "cell_type": "code",
   "execution_count": 60,
   "metadata": {},
   "outputs": [
    {
     "data": {
      "text/plain": [
       "4104   2020-04-22 20:24:00\n",
       "4105   2020-04-22 20:25:00\n",
       "4106   2020-04-22 20:26:00\n",
       "4107   2020-04-22 20:27:00\n",
       "4108   2020-04-22 20:28:00\n",
       "               ...        \n",
       "4315   2020-04-22 23:55:00\n",
       "4316   2020-04-22 23:56:00\n",
       "4317   2020-04-22 23:57:00\n",
       "4318   2020-04-22 23:58:00\n",
       "4319   2020-04-22 23:59:00\n",
       "Name: timestamp, Length: 216, dtype: datetime64[ns]"
      ]
     },
     "execution_count": 60,
     "metadata": {},
     "output_type": "execute_result"
    }
   ],
   "source": [
    "s = len(df['timestamp']) - 216\n",
    "df['timestamp'][s:]"
   ]
  },
  {
   "cell_type": "code",
   "execution_count": 61,
   "metadata": {},
   "outputs": [
    {
     "data": {
      "image/png": "[encoded data removed]",
      "text/plain": [
       "<Figure size 1080x360 with 1 Axes>"
      ]
     },
     "metadata": {
      "needs_background": "light"
     },
     "output_type": "display_data"
    }
   ],
   "source": [
    "plt.title('Month vs Passenger')\n",
    "plt.ylabel('Total Passengers')\n",
    "plt.grid(True)\n",
    "plt.autoscale(axis='x', tight=True)\n",
    "plt.plot(df['timestamp'],df['price'])\n",
    "plt.plot(df['timestamp'][s:],actual_predictions)\n",
    "plt.show()"
   ]
  },
  {
   "cell_type": "code",
   "execution_count": 70,
   "metadata": {},
   "outputs": [
    {
     "data": {
      "text/plain": [
       "(216, 1)"
      ]
     },
     "execution_count": 70,
     "metadata": {},
     "output_type": "execute_result"
    }
   ],
   "source": [
    "actual_predictions.shape"
   ]
  },
  {
   "cell_type": "code",
   "execution_count": 74,
   "metadata": {},
   "outputs": [
    {
     "data": {
      "text/plain": [
       "array([7154.12795722, 7155.95318766, 7158.21510721, 7158.06974455,\n",
       "       7158.65089464, 7158.54250109, 7158.41992648, 7158.36331155,\n",
       "       7157.95225217, 7157.93700548, 7157.48812995, 7157.45736334,\n",
       "       7157.13488775, 7157.05701489, 7156.89244359, 7156.77391291,\n",
       "       7156.71612305, 7156.57392995, 7156.56054128, 7156.43944216,\n",
       "       7156.44261172, 7156.38069597, 7156.38681651, 7156.37719852,\n",
       "       7156.36501211, 7156.36430169, 7156.32708666, 7156.3226602 ,\n",
       "       7156.28153787, 7156.29074599, 7156.27724803, 7156.29312316,\n",
       "       7156.29517245, 7156.29582822, 7156.27099088, 7156.25314843,\n",
       "       7156.23090685, 7156.21060526, 7156.21956747, 7156.21729959,\n",
       "       7156.32369851, 7156.25648194, 7156.2969485 , 7156.24309327,\n",
       "       7156.25607208, 7156.24112596, 7156.24331186, 7156.26164614,\n",
       "       7156.22883024, 7156.23642626, 7156.2011239 , 7156.21178019,\n",
       "       7156.25645461, 7156.28161984, 7156.26735681, 7156.28216632,\n",
       "       7156.2899536 , 7156.30951745, 7156.31380729, 7156.32085683,\n",
       "       7156.32511934, 7156.3226602 , 7156.32692272, 7156.3193267 ,\n",
       "       7156.32271485, 7156.31457235, 7156.31582925, 7156.31025519,\n",
       "       7156.3089983 , 7156.30689436, 7156.30391607, 7156.30435325,\n",
       "       7156.30080115, 7156.30216735, 7156.29927102, 7156.30041862,\n",
       "       7156.29899778, 7156.29938032, 7156.29943496, 7156.29905243,\n",
       "       7156.29987215, 7156.29902511, 7156.29987215, 7156.29899778,\n",
       "       7156.29962623, 7156.29927102, 7156.29959891, 7156.2997082 ,\n",
       "       7156.29965355, 7156.29976285, 7156.29943496, 7156.29954426,\n",
       "       7156.2991344 , 7156.29927102, 7156.29910708, 7156.2998175 ,\n",
       "       7156.29932567, 7156.2998175 , 7156.29935299, 7156.29954426,\n",
       "       7156.29938032, 7156.2992437 , 7156.29948961, 7156.29902511,\n",
       "       7156.29935299, 7156.29877919, 7156.29905243, 7156.29905243,\n",
       "       7156.29927102, 7156.29929835, 7156.29938032, 7156.29954426,\n",
       "       7156.29959891, 7156.29973553, 7156.29976285, 7156.29992679,\n",
       "       7156.29987215, 7156.29995412, 7156.29987215, 7156.29992679,\n",
       "       7156.29987215, 7156.29987215, 7156.2998175 , 7156.2998175 ,\n",
       "       7156.2998175 , 7156.2997082 , 7156.2997082 , 7156.29965355,\n",
       "       7156.2997082 , 7156.29965355, 7156.2997082 , 7156.29965355,\n",
       "       7156.29965355, 7156.29968088, 7156.29965355, 7156.29968088,\n",
       "       7156.29965355, 7156.2997082 , 7156.29965355, 7156.29968088,\n",
       "       7156.29965355, 7156.29965355, 7156.29965355, 7156.29968088,\n",
       "       7156.2997082 , 7156.2997082 , 7156.2997082 , 7156.2997082 ,\n",
       "       7156.2997082 , 7156.29968088, 7156.2997082 , 7156.29965355,\n",
       "       7156.29965355, 7156.29965355, 7156.2997082 , 7156.29968088,\n",
       "       7156.29968088, 7156.2997082 , 7156.2997082 , 7156.29973553,\n",
       "       7156.2997082 , 7156.29968088, 7156.29965355, 7156.29965355,\n",
       "       7156.29965355, 7156.29965355, 7156.29965355, 7156.29965355,\n",
       "       7156.29965355, 7156.29968088, 7156.2997082 , 7156.2997082 ,\n",
       "       7156.2997082 , 7156.29965355, 7156.29965355, 7156.29959891,\n",
       "       7156.29959891, 7156.29959891, 7156.29962623, 7156.29962623,\n",
       "       7156.29965355, 7156.29965355, 7156.29965355, 7156.29965355,\n",
       "       7156.29965355, 7156.29965355, 7156.29965355, 7156.29965355,\n",
       "       7156.29965355, 7156.29968088, 7156.2997082 , 7156.2997082 ,\n",
       "       7156.2997082 , 7156.2997082 , 7156.2997082 , 7156.2997082 ,\n",
       "       7156.29965355, 7156.29965355, 7156.29968088, 7156.29968088,\n",
       "       7156.2997082 , 7156.2997082 , 7156.2997082 , 7156.29968088,\n",
       "       7156.2997082 , 7156.2997082 , 7156.2997082 , 7156.2997082 ,\n",
       "       7156.29968088, 7156.29965355, 7156.29965355, 7156.29965355,\n",
       "       7156.29965355, 7156.29965355, 7156.29965355, 7156.29965355])"
      ]
     },
     "execution_count": 74,
     "metadata": {},
     "output_type": "execute_result"
    }
   ],
   "source": [
    "actual_predictions.reshape(216,)"
   ]
  },
  {
   "cell_type": "code",
   "execution_count": 77,
   "metadata": {},
   "outputs": [
    {
     "data": {
      "image/png": "[encoded data removed]",
      "text/plain": [
       "<Figure size 1080x360 with 1 Axes>"
      ]
     },
     "metadata": {
      "needs_background": "light"
     },
     "output_type": "display_data"
    }
   ],
   "source": [
    "plt.title('Beatcoin')\n",
    "plt.ylabel('Price')\n",
    "plt.grid(True)\n",
    "plt.autoscale(axis='x', tight=True)\n",
    "\n",
    "plt.plot(df['timestamp'][s:], df['price'][s:])\n",
    "plt.plot(df['timestamp'][s:], actual_predictions.reshape(216,))\n",
    "plt.show()"
   ]
  },
  {
   "cell_type": "code",
   "execution_count": null,
   "metadata": {},
   "outputs": [],
   "source": []
  }
 ],
 "metadata": {
  "kernelspec": {
   "display_name": "pytorch",
   "language": "python",
   "name": "pytorch"
  },
  "language_info": {
   "codemirror_mode": {
    "name": "ipython",
    "version": 3
   },
   "file_extension": ".py",
   "mimetype": "text/x-python",
   "name": "python",
   "nbconvert_exporter": "python",
   "pygments_lexer": "ipython3",
   "version": "3.6.9"
  }
 },
 "nbformat": 4,
 "nbformat_minor": 4
}
