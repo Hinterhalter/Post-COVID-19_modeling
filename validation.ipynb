{
 "cells": [
  {
   "cell_type": "markdown",
   "metadata": {
    "colab_type": "text",
    "id": "u7RRxKgib91S"
   },
   "source": [
    "# VALIDATION (트레인셋 : 0414까지, 검증셋 : 0415부터 0428까지)"
   ]
  },
  {
   "cell_type": "markdown",
   "metadata": {
    "colab_type": "text",
    "id": "U_wIwQplb91U"
   },
   "source": [
    "## 추후 일주일씩 밀 예정"
   ]
  },
  {
   "cell_type": "code",
   "execution_count": null,
   "metadata": {
    "colab": {},
    "colab_type": "code",
    "id": "0kfEi6Rob91V"
   },
   "outputs": [],
   "source": [
    "import numpy as np\n",
    "import pandas as pd\n",
    "import matplotlib.pyplot as plt\n",
    "import seaborn as sns\n",
    "plt.style.use(\"fivethirtyeight\")\n",
    "import warnings\n",
    "warnings.filterwarnings('ignore')\n",
    "get_ipython().magic('matplotlib inline')\n",
    "from matplotlib import rc, font_manager\n",
    "rc('font',family='NanumSquareR')\n",
    "import os\n",
    "from sklearn.metrics import mean_squared_error"
   ]
  },
  {
   "cell_type": "code",
   "execution_count": null,
   "metadata": {
    "colab": {},
    "colab_type": "code",
    "id": "1momSAIMb91c"
   },
   "outputs": [],
   "source": [
    "os.chdir(\"C://Users//MinSu//Desktop//kt_competition//0429\")"
   ]
  },
  {
   "cell_type": "code",
   "execution_count": null,
   "metadata": {
    "colab": {},
    "colab_type": "code",
    "id": "C-REXbOpb91g"
   },
   "outputs": [],
   "source": [
    "Y_df=pd.read_excel(\"Y_.xlsx\")"
   ]
  },
  {
   "cell_type": "code",
   "execution_count": null,
   "metadata": {
    "colab": {},
    "colab_type": "code",
    "id": "YxFWJ7Glb91k",
    "outputId": "093db422-4bae-4eb1-e07a-26251321d60d"
   },
   "outputs": [
    {
     "data": {
      "text/html": [
       "<div>\n",
       "<style scoped>\n",
       "    .dataframe tbody tr th:only-of-type {\n",
       "        vertical-align: middle;\n",
       "    }\n",
       "\n",
       "    .dataframe tbody tr th {\n",
       "        vertical-align: top;\n",
       "    }\n",
       "\n",
       "    .dataframe thead th {\n",
       "        text-align: right;\n",
       "    }\n",
       "</style>\n",
       "<table border=\"1\" class=\"dataframe\">\n",
       "  <thead>\n",
       "    <tr style=\"text-align: right;\">\n",
       "      <th></th>\n",
       "      <th>date</th>\n",
       "      <th>oversea_inflow</th>\n",
       "      <th>일일_확진자</th>\n",
       "      <th>중국</th>\n",
       "      <th>중국_외_아시아</th>\n",
       "      <th>유럽</th>\n",
       "      <th>미주</th>\n",
       "      <th>아프리카</th>\n",
       "      <th>호주</th>\n",
       "      <th>검역단계</th>\n",
       "      <th>지역사회</th>\n",
       "      <th>내국인</th>\n",
       "      <th>외국인</th>\n",
       "    </tr>\n",
       "  </thead>\n",
       "  <tbody>\n",
       "    <tr>\n",
       "      <td>0</td>\n",
       "      <td>2020-01-20</td>\n",
       "      <td>1.0</td>\n",
       "      <td>NaN</td>\n",
       "      <td>NaN</td>\n",
       "      <td>NaN</td>\n",
       "      <td>NaN</td>\n",
       "      <td>NaN</td>\n",
       "      <td>NaN</td>\n",
       "      <td>NaN</td>\n",
       "      <td>NaN</td>\n",
       "      <td>NaN</td>\n",
       "      <td>NaN</td>\n",
       "      <td>NaN</td>\n",
       "    </tr>\n",
       "    <tr>\n",
       "      <td>1</td>\n",
       "      <td>2020-01-21</td>\n",
       "      <td>1.0</td>\n",
       "      <td>NaN</td>\n",
       "      <td>NaN</td>\n",
       "      <td>NaN</td>\n",
       "      <td>NaN</td>\n",
       "      <td>NaN</td>\n",
       "      <td>NaN</td>\n",
       "      <td>NaN</td>\n",
       "      <td>NaN</td>\n",
       "      <td>NaN</td>\n",
       "      <td>NaN</td>\n",
       "      <td>NaN</td>\n",
       "    </tr>\n",
       "    <tr>\n",
       "      <td>2</td>\n",
       "      <td>2020-01-22</td>\n",
       "      <td>1.0</td>\n",
       "      <td>NaN</td>\n",
       "      <td>NaN</td>\n",
       "      <td>NaN</td>\n",
       "      <td>NaN</td>\n",
       "      <td>NaN</td>\n",
       "      <td>NaN</td>\n",
       "      <td>NaN</td>\n",
       "      <td>NaN</td>\n",
       "      <td>NaN</td>\n",
       "      <td>NaN</td>\n",
       "      <td>NaN</td>\n",
       "    </tr>\n",
       "    <tr>\n",
       "      <td>3</td>\n",
       "      <td>2020-01-23</td>\n",
       "      <td>1.0</td>\n",
       "      <td>NaN</td>\n",
       "      <td>NaN</td>\n",
       "      <td>NaN</td>\n",
       "      <td>NaN</td>\n",
       "      <td>NaN</td>\n",
       "      <td>NaN</td>\n",
       "      <td>NaN</td>\n",
       "      <td>NaN</td>\n",
       "      <td>NaN</td>\n",
       "      <td>NaN</td>\n",
       "      <td>NaN</td>\n",
       "    </tr>\n",
       "    <tr>\n",
       "      <td>4</td>\n",
       "      <td>2020-01-24</td>\n",
       "      <td>2.0</td>\n",
       "      <td>NaN</td>\n",
       "      <td>NaN</td>\n",
       "      <td>NaN</td>\n",
       "      <td>NaN</td>\n",
       "      <td>NaN</td>\n",
       "      <td>NaN</td>\n",
       "      <td>NaN</td>\n",
       "      <td>NaN</td>\n",
       "      <td>NaN</td>\n",
       "      <td>NaN</td>\n",
       "      <td>NaN</td>\n",
       "    </tr>\n",
       "  </tbody>\n",
       "</table>\n",
       "</div>"
      ],
      "text/plain": [
       "        date  oversea_inflow  일일_확진자  중국  중국_외_아시아  유럽  미주  아프리카  호주  검역단계  \\\n",
       "0 2020-01-20             1.0     NaN NaN       NaN NaN NaN   NaN NaN   NaN   \n",
       "1 2020-01-21             1.0     NaN NaN       NaN NaN NaN   NaN NaN   NaN   \n",
       "2 2020-01-22             1.0     NaN NaN       NaN NaN NaN   NaN NaN   NaN   \n",
       "3 2020-01-23             1.0     NaN NaN       NaN NaN NaN   NaN NaN   NaN   \n",
       "4 2020-01-24             2.0     NaN NaN       NaN NaN NaN   NaN NaN   NaN   \n",
       "\n",
       "   지역사회  내국인  외국인  \n",
       "0   NaN  NaN  NaN  \n",
       "1   NaN  NaN  NaN  \n",
       "2   NaN  NaN  NaN  \n",
       "3   NaN  NaN  NaN  \n",
       "4   NaN  NaN  NaN  "
      ]
     },
     "execution_count": 63,
     "metadata": {
      "tags": []
     },
     "output_type": "execute_result"
    }
   ],
   "source": [
    "Y_df.head()"
   ]
  },
  {
   "cell_type": "code",
   "execution_count": null,
   "metadata": {
    "colab": {},
    "colab_type": "code",
    "id": "XjbbJifrb91p"
   },
   "outputs": [],
   "source": [
    "Y=Y_df[\"oversea_inflow\"]"
   ]
  },
  {
   "cell_type": "code",
   "execution_count": null,
   "metadata": {
    "colab": {},
    "colab_type": "code",
    "id": "lOVBWUjvb91u"
   },
   "outputs": [],
   "source": [
    "Y=Y.drop(101)"
   ]
  },
  {
   "cell_type": "code",
   "execution_count": null,
   "metadata": {
    "colab": {},
    "colab_type": "code",
    "id": "N0eJI_aXb91x",
    "outputId": "a516647c-31e2-4dc5-896a-64b19322d54e"
   },
   "outputs": [
    {
     "data": {
      "text/plain": [
       "101"
      ]
     },
     "execution_count": 66,
     "metadata": {
      "tags": []
     },
     "output_type": "execute_result"
    }
   ],
   "source": [
    "len(Y)"
   ]
  },
  {
   "cell_type": "code",
   "execution_count": null,
   "metadata": {
    "colab": {},
    "colab_type": "code",
    "id": "-snK92Mfb914"
   },
   "outputs": [],
   "source": [
    "daily_patient=[]\n",
    "for i in range(len(Y)-1):\n",
    "    daily_patient.append(Y[i+1]-Y[i])"
   ]
  },
  {
   "cell_type": "code",
   "execution_count": null,
   "metadata": {
    "colab": {},
    "colab_type": "code",
    "id": "NCfhG8job918",
    "outputId": "d71404f5-6928-41b0-c575-73dd6e02706b"
   },
   "outputs": [
    {
     "data": {
      "text/plain": [
       "100"
      ]
     },
     "execution_count": 68,
     "metadata": {
      "tags": []
     },
     "output_type": "execute_result"
    }
   ],
   "source": [
    "len(daily_patient) #1월20일 ~ 4월28일 일일 확진자(해외)"
   ]
  },
  {
   "cell_type": "code",
   "execution_count": null,
   "metadata": {
    "colab": {},
    "colab_type": "code",
    "id": "rd4rnuwVb92A",
    "outputId": "1dbd38bd-ca57-4f43-fa45-b4d21b8676cc"
   },
   "outputs": [
    {
     "data": {
      "text/plain": [
       "<matplotlib.collections.LineCollection at 0x153010a37c8>"
      ]
     },
     "execution_count": 69,
     "metadata": {
      "tags": []
     },
     "output_type": "execute_result"
    },
    {
     "data": {
      "image/png": "[encoded data removed]",
      "text/plain": [
       "<Figure size 432x288 with 1 Axes>"
      ]
     },
     "metadata": {
      "needs_background": "light",
      "tags": []
     },
     "output_type": "display_data"
    }
   ],
   "source": [
    "plt.plot(daily_patient)\n",
    "plt.vlines(86,0,60)"
   ]
  },
  {
   "cell_type": "markdown",
   "metadata": {
    "colab_type": "text",
    "id": "o0FaSp-Hb92E"
   },
   "source": [
    "# Let's Validate : Compare with real_Y"
   ]
  },
  {
   "cell_type": "code",
   "execution_count": null,
   "metadata": {
    "colab": {},
    "colab_type": "code",
    "id": "LIJwKda9b92F"
   },
   "outputs": [],
   "source": [
    "real_Y=daily_patient[86:100] #4월 15일~ 4월 28일까지 실제 확진자"
   ]
  },
  {
   "cell_type": "code",
   "execution_count": null,
   "metadata": {
    "colab": {},
    "colab_type": "code",
    "id": "Az1TaKi7b92L"
   },
   "outputs": [],
   "source": [
    "real_Y=np.array(real_Y)"
   ]
  },
  {
   "cell_type": "code",
   "execution_count": null,
   "metadata": {
    "colab": {},
    "colab_type": "code",
    "id": "WzrzDdmKb92O",
    "outputId": "494b691c-ea1b-4488-ef87-32cfe1b7e900"
   },
   "outputs": [
    {
     "data": {
      "text/plain": [
       "14"
      ]
     },
     "execution_count": 72,
     "metadata": {
      "tags": []
     },
     "output_type": "execute_result"
    }
   ],
   "source": [
    "len(real_Y)"
   ]
  },
  {
   "cell_type": "code",
   "execution_count": null,
   "metadata": {
    "colab": {},
    "colab_type": "code",
    "id": "AIAxZVs2b92R",
    "outputId": "6a499bdb-ecd7-486f-b6c2-922c975e068a"
   },
   "outputs": [
    {
     "data": {
      "text/plain": [
       "array([13.01388889, 13.01388889, 13.01388889, 13.01388889, 13.01388889,\n",
       "       13.01388889, 13.01388889, 13.01388889, 13.01388889, 13.01388889,\n",
       "       13.01388889, 13.01388889, 13.01388889, 13.01388889])"
      ]
     },
     "execution_count": 73,
     "metadata": {
      "tags": []
     },
     "output_type": "execute_result"
    }
   ],
   "source": [
    "mean_ts=pd.Series(daily_patient[:86]).mean() #하나의 예시, 1월 20일 ~ 4월 14일까지 확진자 평균모델 (NULL MODEL)\n",
    "pred=np.repeat(mean_ts,14)\n",
    "pred"
   ]
  },
  {
   "cell_type": "code",
   "execution_count": null,
   "metadata": {
    "colab": {},
    "colab_type": "code",
    "id": "IqZvlld4b92U"
   },
   "outputs": [],
   "source": [
    "score=100*(1-(((pred-real_Y)**2).sum())/((real_Y**2).sum())) # KT 공모전 score 산출 공식"
   ]
  },
  {
   "cell_type": "code",
   "execution_count": null,
   "metadata": {
    "colab": {},
    "colab_type": "code",
    "id": "nOfdAU0Ub92X",
    "outputId": "173123da-c142-4b30-ea68-cd149cc794c6"
   },
   "outputs": [
    {
     "data": {
      "text/plain": [
       "38.634082497171796"
      ]
     },
     "execution_count": 75,
     "metadata": {
      "tags": []
     },
     "output_type": "execute_result"
    }
   ],
   "source": [
    "score"
   ]
  }
 ],
 "metadata": {
  "colab": {
   "name": "validation(0429기준).ipynb",
   "provenance": []
  },
  "kernelspec": {
   "display_name": "Python 3",
   "language": "python",
   "name": "python3"
  },
  "language_info": {
   "codemirror_mode": {
    "name": "ipython",
    "version": 3
   },
   "file_extension": ".py",
   "mimetype": "text/x-python",
   "name": "python",
   "nbconvert_exporter": "python",
   "pygments_lexer": "ipython3",
   "version": "3.7.3"
  }
 },
 "nbformat": 4,
 "nbformat_minor": 4
}
