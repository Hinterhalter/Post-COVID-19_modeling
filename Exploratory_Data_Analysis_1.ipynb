{
 "cells": [
  {
   "cell_type": "markdown",
   "metadata": {},
   "source": [
    "# __Exploratory Data Analysis__"
   ]
  },
  {
   "cell_type": "code",
   "execution_count": 1,
   "metadata": {},
   "outputs": [],
   "source": [
    "import pandas as pd\n",
    "import numpy as np\n",
    "import matplotlib.pyplot as plt\n",
    "%matplotlib inline\n",
    "import seaborn as sns\n",
    "\n",
    "from matplotlib import font_manager, rc\n",
    "font_name = font_manager.FontProperties(fname=\"c:/Windows/Fonts/malgun.ttf\").get_name()\n",
    "rc('font', family=font_name)"
   ]
  },
  {
   "cell_type": "markdown",
   "metadata": {},
   "source": [
    "# 1. Roaming_data\n",
    "|컬럼명|컬럼한국명|컬럼설명|샘플|\n",
    "|:-----:|:-----:|:------|:------:|\n",
    "|return|귀국일|로밍 여행자가 한국에 귀국한 날짜|20200131|\n",
    "|iso |국가코드|2자리 국가코드|us|\n",
    "|arrival |입국일|iso 국가에 도착한 날짜|20200125|\n",
    "|departure|출국일|iso 국가에서 떠난 날짜|20200127|\n",
    "|count|고객수|return 일자에 귀국한 로밍 고객 중 iso국가에 arrival에 도착해서 departure에 떠난 고객 수|3|\n",
    "\n",
    "\n",
    "[국가코드 표](http://img.echosting.cafe24.com/guide/country_code_table.pdf)"
   ]
  },
  {
   "cell_type": "code",
<<<<<<< HEAD
   "execution_count": 2,
=======
   "execution_count": 11,
>>>>>>> a1865d3a59d797d6ade9cdb544c24b6218a8cca8
   "metadata": {},
   "outputs": [],
   "source": [
    "roam = pd.read_csv('./data/corona_contest_data_0406/2. Roaming_data.csv')"
   ]
  },
  {
   "cell_type": "code",
   "execution_count": 3,
   "metadata": {},
   "outputs": [
    {
     "data": {
      "text/html": [
       "<div>\n",
       "<style scoped>\n",
       "    .dataframe tbody tr th:only-of-type {\n",
       "        vertical-align: middle;\n",
       "    }\n",
       "\n",
       "    .dataframe tbody tr th {\n",
       "        vertical-align: top;\n",
       "    }\n",
       "\n",
       "    .dataframe thead th {\n",
       "        text-align: right;\n",
       "    }\n",
       "</style>\n",
       "<table border=\"1\" class=\"dataframe\">\n",
       "  <thead>\n",
       "    <tr style=\"text-align: right;\">\n",
       "      <th></th>\n",
       "      <th>return</th>\n",
       "      <th>iso</th>\n",
       "      <th>arrival</th>\n",
       "      <th>departure</th>\n",
       "      <th>count</th>\n",
       "    </tr>\n",
       "  </thead>\n",
       "  <tbody>\n",
       "    <tr>\n",
       "      <th>0</th>\n",
       "      <td>20200131</td>\n",
       "      <td>ad</td>\n",
       "      <td>20200130</td>\n",
       "      <td>20200130</td>\n",
       "      <td>3</td>\n",
       "    </tr>\n",
       "    <tr>\n",
       "      <th>1</th>\n",
       "      <td>20200131</td>\n",
       "      <td>ae</td>\n",
       "      <td>20191231</td>\n",
       "      <td>20200125</td>\n",
       "      <td>3</td>\n",
       "    </tr>\n",
       "    <tr>\n",
       "      <th>2</th>\n",
       "      <td>20200131</td>\n",
       "      <td>ae</td>\n",
       "      <td>20191231</td>\n",
       "      <td>20200131</td>\n",
       "      <td>3</td>\n",
       "    </tr>\n",
       "    <tr>\n",
       "      <th>3</th>\n",
       "      <td>20200131</td>\n",
       "      <td>ae</td>\n",
       "      <td>20200102</td>\n",
       "      <td>20200102</td>\n",
       "      <td>3</td>\n",
       "    </tr>\n",
       "    <tr>\n",
       "      <th>4</th>\n",
       "      <td>20200131</td>\n",
       "      <td>ae</td>\n",
       "      <td>20200104</td>\n",
       "      <td>20200131</td>\n",
       "      <td>3</td>\n",
       "    </tr>\n",
       "  </tbody>\n",
       "</table>\n",
       "</div>"
      ],
      "text/plain": [
       "     return iso   arrival  departure  count\n",
       "0  20200131  ad  20200130   20200130      3\n",
       "1  20200131  ae  20191231   20200125      3\n",
       "2  20200131  ae  20191231   20200131      3\n",
       "3  20200131  ae  20200102   20200102      3\n",
       "4  20200131  ae  20200104   20200131      3"
      ]
     },
     "execution_count": 3,
     "metadata": {},
     "output_type": "execute_result"
    }
   ],
   "source": [
    "roam.head(5)"
   ]
  },
  {
   "cell_type": "code",
   "execution_count": 4,
   "metadata": {},
   "outputs": [
    {
     "data": {
      "text/html": [
       "<div>\n",
       "<style scoped>\n",
       "    .dataframe tbody tr th:only-of-type {\n",
       "        vertical-align: middle;\n",
       "    }\n",
       "\n",
       "    .dataframe tbody tr th {\n",
       "        vertical-align: top;\n",
       "    }\n",
       "\n",
       "    .dataframe thead th {\n",
       "        text-align: right;\n",
       "    }\n",
       "</style>\n",
       "<table border=\"1\" class=\"dataframe\">\n",
       "  <thead>\n",
       "    <tr style=\"text-align: right;\">\n",
       "      <th></th>\n",
       "      <th>count</th>\n",
       "      <th>mean</th>\n",
       "      <th>std</th>\n",
       "      <th>min</th>\n",
       "      <th>25%</th>\n",
       "      <th>50%</th>\n",
       "      <th>75%</th>\n",
       "      <th>max</th>\n",
       "    </tr>\n",
       "  </thead>\n",
       "  <tbody>\n",
       "    <tr>\n",
       "      <th>return</th>\n",
       "      <td>212325.0</td>\n",
       "      <td>2.019772e+07</td>\n",
       "      <td>4000.485699</td>\n",
       "      <td>20191201.0</td>\n",
       "      <td>20191229.0</td>\n",
       "      <td>20200122.0</td>\n",
       "      <td>20200213.0</td>\n",
       "      <td>20200331.0</td>\n",
       "    </tr>\n",
       "    <tr>\n",
       "      <th>arrival</th>\n",
       "      <td>212325.0</td>\n",
       "      <td>2.019678e+07</td>\n",
       "      <td>4349.178082</td>\n",
       "      <td>20191031.0</td>\n",
       "      <td>20191220.0</td>\n",
       "      <td>20200112.0</td>\n",
       "      <td>20200204.0</td>\n",
       "      <td>20200331.0</td>\n",
       "    </tr>\n",
       "    <tr>\n",
       "      <th>departure</th>\n",
       "      <td>212325.0</td>\n",
       "      <td>2.019713e+07</td>\n",
       "      <td>4247.698404</td>\n",
       "      <td>20191031.0</td>\n",
       "      <td>20191223.0</td>\n",
       "      <td>20200115.0</td>\n",
       "      <td>20200207.0</td>\n",
       "      <td>20200331.0</td>\n",
       "    </tr>\n",
       "    <tr>\n",
       "      <th>count</th>\n",
       "      <td>212325.0</td>\n",
       "      <td>9.172853e+00</td>\n",
       "      <td>31.835063</td>\n",
       "      <td>3.0</td>\n",
       "      <td>3.0</td>\n",
       "      <td>3.0</td>\n",
       "      <td>5.0</td>\n",
       "      <td>1687.0</td>\n",
       "    </tr>\n",
       "  </tbody>\n",
       "</table>\n",
       "</div>"
      ],
      "text/plain": [
       "              count          mean          std         min         25%  \\\n",
       "return     212325.0  2.019772e+07  4000.485699  20191201.0  20191229.0   \n",
       "arrival    212325.0  2.019678e+07  4349.178082  20191031.0  20191220.0   \n",
       "departure  212325.0  2.019713e+07  4247.698404  20191031.0  20191223.0   \n",
       "count      212325.0  9.172853e+00    31.835063         3.0         3.0   \n",
       "\n",
       "                  50%         75%         max  \n",
       "return     20200122.0  20200213.0  20200331.0  \n",
       "arrival    20200112.0  20200204.0  20200331.0  \n",
       "departure  20200115.0  20200207.0  20200331.0  \n",
       "count             3.0         5.0      1687.0  "
      ]
     },
     "execution_count": 4,
     "metadata": {},
     "output_type": "execute_result"
    }
   ],
   "source": [
    "roam.describe().T"
   ]
  },
  {
   "cell_type": "code",
   "execution_count": 5,
   "metadata": {},
   "outputs": [
    {
     "data": {
      "text/plain": [
<<<<<<< HEAD
       "<matplotlib.axes._subplots.AxesSubplot at 0x1ca5cd40cc8>"
=======
       "<matplotlib.axes._subplots.AxesSubplot at 0x20587db4a20>"
>>>>>>> a1865d3a59d797d6ade9cdb544c24b6218a8cca8
      ]
     },
     "execution_count": 5,
     "metadata": {},
     "output_type": "execute_result"
    },
    {
     "data": {
<<<<<<< HEAD
      "image/png": "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\n",
=======
      "image/png": "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\n",
>>>>>>> a1865d3a59d797d6ade9cdb544c24b6218a8cca8
      "text/plain": [
       "<Figure size 432x288 with 1 Axes>"
      ]
     },
     "metadata": {
      "needs_background": "light"
     },
     "output_type": "display_data"
    }
   ],
   "source": [
    "sns.distplot(roam['count'])"
   ]
  },
  {
   "cell_type": "code",
   "execution_count": 6,
   "metadata": {},
   "outputs": [
    {
     "name": "stdout",
     "output_type": "stream",
     "text": [
      "국가 코드 값\n",
      " ['ad' 'ae' 'af' 'am' 'ao' 'ar' 'at' 'au' 'az' 'ba' 'bd' 'be' 'bg' 'bh'\n",
      " 'bn' 'bo' 'br' 'bw' 'by' 'ca' 'ch' 'cl' 'cn' 'co' 'cy' 'cz' 'de' 'dk'\n",
      " 'dz' 'ec' 'ee' 'eg' 'es' 'et' 'fi' 'fj' 'fr' 'ga' 'gb' 'ge' 'gh' 'gr'\n",
      " 'gu' 'hk' 'hr' 'ht' 'hu' 'id' 'ie' 'il' 'in' 'iq' 'ir' 'it' 'jm' 'jo'\n",
      " 'jp' 'ke' 'kg' 'kh' 'kw' 'kz' 'la' 'lk' 'ls' 'lt' 'lu' 'lv' 'ma' 'mc'\n",
      " 'me' 'mk' 'mm' 'mn' 'mo' 'mp' 'mt' 'mu' 'mv' 'mx' 'my' 'mz' nan 'na' 'ng'\n",
      " 'ni' 'nl' 'no' 'np' 'nz' 'om' 'pa' 'pe' 'pg' 'ph' 'pk' 'pl' 'ps' 'pt'\n",
      " 'py' 'qa' 'ro' 'rs' 'ru' 'rw' 'sa' 'sc' 'sd' 'se' 'sg' 'si' 'sk' 'sr'\n",
      " 'sv' 'th' 'tm' 'tr' 'tw' 'tz' 'ug' 'us' 'uy' 'uz' 'vn' 'za' 'zm' 'zw'\n",
      " 'al' 'bz' 'cr' 'gt' 'hn' 'is' 'lb' 'md' 'tk' 'ua' 'li' 'mg' 'an' 'do'\n",
      " 'pr' 'to' 'tt' 'cm' 'pf' 'tg' 'tn' 'vu' 'bj' 'bt' 'cd' 'ci' 'tl' 'tp'\n",
      " 'gn' 'lr' 'mr' 'mw' 'ky' 'td' 'cf' 'ne' 're' 'tc' 'ml' 'ly' 'sl' 'bf'\n",
      " 'gq' 'cv' 'gm' 'ye' 'ws']\n",
      "\n",
      "총 갯수 :  174\n"
     ]
    }
   ],
   "source": [
    "# 국가 총 갯수\n",
    "\n",
    "print('국가 코드 값\\n', roam['iso'].unique(), end='\\n')\n",
    "print('')\n",
    "print('총 갯수 : ', len(roam['iso'].unique()))"
   ]
  },
  {
   "cell_type": "code",
   "execution_count": 7,
   "metadata": {},
   "outputs": [
    {
     "data": {
      "text/plain": [
       "Text(0.5, 1.0, 'Top 30 Country')"
      ]
     },
     "execution_count": 7,
     "metadata": {},
     "output_type": "execute_result"
    },
    {
     "data": {
      "image/png": "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\n",
      "text/plain": [
       "<Figure size 720x720 with 1 Axes>"
      ]
     },
     "metadata": {
      "needs_background": "light"
     },
     "output_type": "display_data"
    }
   ],
   "source": [
    "# 국가 별 데이터 분포\n",
    "\n",
    "tmp = roam.groupby(by='iso', as_index=True)['count'].sum().sort_values().head(30)\n",
    "tmp.plot(kind='barh', figsize=(10,10))\n",
    "plt.title('Top 30 Country')"
   ]
  },
  {
   "cell_type": "markdown",
   "metadata": {},
   "source": [
    "- 로밍 \n",
    "- 모잠비크, 기니, 트리니다드토바고, 수단, 케이맨섬"
   ]
  },
  {
   "cell_type": "code",
   "execution_count": 8,
   "metadata": {},
   "outputs": [
    {
     "data": {
      "text/plain": [
       "iso\n",
       "mz    60\n",
       "gn    54\n",
       "tt    54\n",
       "sd    51\n",
       "ky    51\n",
       "ci    48\n",
       "an    39\n",
       "tn    36\n",
       "ao    33\n",
       "md    30\n",
       "ga    27\n",
       "ls    26\n",
       "ne    24\n",
       "bj    24\n",
       "sl    24\n",
       "mr    18\n",
       "re    18\n",
       "mw    12\n",
       "ly     9\n",
       "bf     9\n",
       "gq     9\n",
       "tc     6\n",
       "gm     6\n",
       "td     6\n",
       "cv     3\n",
       "ml     3\n",
       "cf     3\n",
       "to     3\n",
       "ws     3\n",
       "ye     3\n",
       "Name: count, dtype: int64"
      ]
     },
     "execution_count": 8,
     "metadata": {},
     "output_type": "execute_result"
    }
   ],
   "source": [
    "tmp.sort_values(ascending=False)"
   ]
  },
  {
   "cell_type": "code",
<<<<<<< HEAD
   "execution_count": 9,
=======
   "execution_count": 12,
>>>>>>> a1865d3a59d797d6ade9cdb544c24b6218a8cca8
   "metadata": {},
   "outputs": [],
   "source": [
    "# 날짜 변수로 변경\n",
    "roam['return'] = pd.to_datetime(roam['return'], format='%Y%m%d')"
   ]
  },
  {
   "cell_type": "code",
<<<<<<< HEAD
   "execution_count": 10,
=======
   "execution_count": 14,
>>>>>>> a1865d3a59d797d6ade9cdb544c24b6218a8cca8
   "metadata": {},
   "outputs": [],
   "source": [
    "roam['arrival'] = pd.to_datetime(roam['arrival'], format='%Y%m%d')\n",
    "roam['departure'] = pd.to_datetime(roam['departure'], format='%Y%m%d')"
   ]
  },
  {
   "cell_type": "code",
<<<<<<< HEAD
   "execution_count": 11,
=======
   "execution_count": 18,
>>>>>>> a1865d3a59d797d6ade9cdb544c24b6218a8cca8
   "metadata": {},
   "outputs": [
    {
     "name": "stdout",
     "output_type": "stream",
     "text": [
      "<class 'pandas.core.frame.DataFrame'>\n",
      "RangeIndex: 212325 entries, 0 to 212324\n",
      "Data columns (total 5 columns):\n",
      " #   Column     Non-Null Count   Dtype         \n",
      "---  ------     --------------   -----         \n",
      " 0   return     212325 non-null  datetime64[ns]\n",
      " 1   iso        209353 non-null  object        \n",
      " 2   arrival    212325 non-null  datetime64[ns]\n",
      " 3   departure  212325 non-null  datetime64[ns]\n",
      " 4   count      212325 non-null  int64         \n",
      "dtypes: datetime64[ns](3), int64(1), object(1)\n",
      "memory usage: 8.1+ MB\n"
     ]
    }
   ],
   "source": [
    "roam.info()"
   ]
  },
  {
   "cell_type": "code",
<<<<<<< HEAD
   "execution_count": 12,
=======
   "execution_count": 19,
   "metadata": {},
   "outputs": [],
   "source": [
    "# 파생변수 생성\n",
    "# arrival과 return의 차를 내서 해외에 체류한 일자수를 계산함\n",
    "\n",
    "roam['stay'] = roam['return'] - roam['arrival']"
   ]
  },
  {
   "cell_type": "code",
   "execution_count": 32,
   "metadata": {},
   "outputs": [
    {
     "data": {
      "text/plain": [
       "<matplotlib.axes._subplots.AxesSubplot at 0x2058b0be7f0>"
      ]
     },
     "execution_count": 32,
     "metadata": {},
     "output_type": "execute_result"
    },
    {
     "data": {
      "image/png": "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\n",
      "text/plain": [
       "<Figure size 720x576 with 1 Axes>"
      ]
     },
     "metadata": {
      "needs_background": "light"
     },
     "output_type": "display_data"
    }
   ],
   "source": [
    "roam.groupby(by='stay')['count'].sum().sort_values(ascending=True).tail(10).plot(kind='barh', figsize=(10,8))"
   ]
  },
  {
   "cell_type": "code",
   "execution_count": 33,
   "metadata": {},
   "outputs": [
    {
     "data": {
      "text/plain": [
       "1947626"
      ]
     },
     "execution_count": 33,
     "metadata": {},
     "output_type": "execute_result"
    }
   ],
   "source": [
    "roam['count'].sum()"
   ]
  },
  {
   "cell_type": "markdown",
   "metadata": {},
   "source": [
    "- 총 194만 건의 count 중, 3일 동안의 해외체류가 약 40만건으로 가장 많았고, 4일이 27만건, 0일 2일이 23만건 정도로 나타났다."
   ]
  },
  {
   "cell_type": "code",
   "execution_count": 39,
   "metadata": {},
   "outputs": [
    {
     "name": "stdout",
     "output_type": "stream",
     "text": [
      "count                    212325\n",
      "mean     9 days 06:51:46.758036\n",
      "std      7 days 10:06:56.555469\n",
      "min             0 days 00:00:00\n",
      "25%             4 days 00:00:00\n",
      "50%             7 days 00:00:00\n",
      "75%            12 days 00:00:00\n",
      "max            31 days 00:00:00\n",
      "Name: stay, dtype: object\n"
     ]
    },
    {
     "data": {
      "text/plain": [
       "{'whiskers': [<matplotlib.lines.Line2D at 0x2058af995f8>,\n",
       "  <matplotlib.lines.Line2D at 0x2058af99f28>],\n",
       " 'caps': [<matplotlib.lines.Line2D at 0x2058af99cc0>,\n",
       "  <matplotlib.lines.Line2D at 0x2058c0a63c8>],\n",
       " 'boxes': [<matplotlib.lines.Line2D at 0x2058af4da20>],\n",
       " 'medians': [<matplotlib.lines.Line2D at 0x2058c0a62b0>],\n",
       " 'fliers': [<matplotlib.lines.Line2D at 0x2058af9e240>],\n",
       " 'means': []}"
      ]
     },
     "execution_count": 39,
     "metadata": {},
     "output_type": "execute_result"
    },
    {
     "data": {
      "image/png": "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\n",
      "text/plain": [
       "<Figure size 432x288 with 1 Axes>"
      ]
     },
     "metadata": {
      "needs_background": "light"
     },
     "output_type": "display_data"
    }
   ],
   "source": [
    "print(roam['stay'].describe().T)\n",
    "plt.boxplot(roam['stay'])"
   ]
  },
  {
   "cell_type": "markdown",
   "metadata": {},
   "source": [
    "- 최고 체류일자는 31일이다. \n",
    "- 대체로 출발부터 귀국까지 7일 정도 이용하는 것으로 보인다."
   ]
  },
  {
   "cell_type": "markdown",
>>>>>>> a1865d3a59d797d6ade9cdb544c24b6218a8cca8
   "metadata": {},
   "outputs": [],
   "source": [
    "# 파생변수 생성\n",
    "# arrival과 return의 차를 내서 해외에 체류한 일자수를 계산함\n",
    "\n",
    "roam['stay'] = roam['return'] - roam['arrival']"
   ]
  },
  {
   "cell_type": "code",
   "execution_count": 40,
   "metadata": {},
   "outputs": [
    {
     "data": {
      "text/plain": [
       "<matplotlib.axes._subplots.AxesSubplot at 0x1ca5dc6af88>"
      ]
     },
     "execution_count": 13,
     "metadata": {},
     "output_type": "execute_result"
    },
    {
     "data": {
      "image/png": "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\n",
      "text/plain": [
       "<Figure size 720x576 with 1 Axes>"
      ]
     },
     "metadata": {
      "needs_background": "light"
     },
     "output_type": "display_data"
    }
   ],
   "source": [
    "roam.groupby(by='stay')['count'].sum().sort_values(ascending=True).tail(10).plot(kind='barh', figsize=(10,8))"
   ]
  },
  {
   "cell_type": "code",
   "execution_count": 41,
   "metadata": {},
   "outputs": [
    {
     "data": {
      "text/plain": [
       "1947626"
      ]
     },
     "execution_count": 14,
     "metadata": {},
     "output_type": "execute_result"
    }
   ],
   "source": [
    "roam['count'].sum()"
   ]
  },
  {
   "cell_type": "markdown",
   "metadata": {},
   "source": [
    "- 총 194만 건의 count 중, 3일 동안의 해외체류가 약 40만건으로 가장 많았고, 4일이 27만건, 0일 2일이 23만건 정도로 나타났다."
   ]
  },
  {
   "cell_type": "code",
   "execution_count": 15,
   "metadata": {},
   "outputs": [
    {
     "name": "stdout",
     "output_type": "stream",
     "text": [
      "count                    212325\n",
      "mean     9 days 06:51:46.758036\n",
      "std      7 days 10:06:56.555469\n",
      "min             0 days 00:00:00\n",
      "25%             4 days 00:00:00\n",
      "50%             7 days 00:00:00\n",
      "75%            12 days 00:00:00\n",
      "max            31 days 00:00:00\n",
      "Name: stay, dtype: object\n"
     ]
    },
    {
     "data": {
      "text/plain": [
       "{'whiskers': [<matplotlib.lines.Line2D at 0x1ca5dc9d988>,\n",
       "  <matplotlib.lines.Line2D at 0x1ca5dc9d908>],\n",
       " 'caps': [<matplotlib.lines.Line2D at 0x1ca5dca3948>,\n",
       "  <matplotlib.lines.Line2D at 0x1ca5dca3fc8>],\n",
       " 'boxes': [<matplotlib.lines.Line2D at 0x1ca5dc96f88>],\n",
       " 'medians': [<matplotlib.lines.Line2D at 0x1ca5dca78c8>],\n",
       " 'fliers': [<matplotlib.lines.Line2D at 0x1ca5d8b6dc8>],\n",
       " 'means': []}"
      ]
     },
     "execution_count": 15,
     "metadata": {},
     "output_type": "execute_result"
    },
    {
     "data": {
      "image/png": "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\n",
      "text/plain": [
       "<Figure size 432x288 with 1 Axes>"
      ]
     },
     "metadata": {
      "needs_background": "light"
     },
     "output_type": "display_data"
    }
   ],
   "source": [
    "print(roam['stay'].describe().T)\n",
    "plt.boxplot(roam['stay'])"
   ]
  },
  {
   "cell_type": "markdown",
   "metadata": {},
   "source": [
    "- 최고 체류일자는 31일이다. \n",
    "- 대체로 출발부터 귀국까지 7일 정도 이용하는 것으로 보인다."
   ]
  },
  {
   "cell_type": "code",
   "execution_count": 16,
   "metadata": {},
   "outputs": [
    {
     "data": {
      "text/html": [
       "<div>\n",
       "<style scoped>\n",
       "    .dataframe tbody tr th:only-of-type {\n",
       "        vertical-align: middle;\n",
       "    }\n",
       "\n",
       "    .dataframe tbody tr th {\n",
       "        vertical-align: top;\n",
       "    }\n",
       "\n",
       "    .dataframe thead th {\n",
       "        text-align: right;\n",
       "    }\n",
       "</style>\n",
       "<table border=\"1\" class=\"dataframe\">\n",
       "  <thead>\n",
       "    <tr style=\"text-align: right;\">\n",
       "      <th></th>\n",
       "      <th>return</th>\n",
       "      <th>iso</th>\n",
       "      <th>arrival</th>\n",
       "      <th>departure</th>\n",
       "      <th>count</th>\n",
       "      <th>stay</th>\n",
       "    </tr>\n",
       "  </thead>\n",
       "  <tbody>\n",
       "    <tr>\n",
       "      <th>0</th>\n",
       "      <td>2020-01-31</td>\n",
       "      <td>ad</td>\n",
       "      <td>2020-01-30</td>\n",
       "      <td>2020-01-30</td>\n",
       "      <td>3</td>\n",
       "      <td>1 days</td>\n",
       "    </tr>\n",
       "    <tr>\n",
       "      <th>1</th>\n",
       "      <td>2020-01-31</td>\n",
       "      <td>ae</td>\n",
       "      <td>2019-12-31</td>\n",
       "      <td>2020-01-25</td>\n",
       "      <td>3</td>\n",
       "      <td>31 days</td>\n",
       "    </tr>\n",
       "    <tr>\n",
       "      <th>2</th>\n",
       "      <td>2020-01-31</td>\n",
       "      <td>ae</td>\n",
       "      <td>2019-12-31</td>\n",
       "      <td>2020-01-31</td>\n",
       "      <td>3</td>\n",
       "      <td>31 days</td>\n",
       "    </tr>\n",
       "    <tr>\n",
       "      <th>3</th>\n",
       "      <td>2020-01-31</td>\n",
       "      <td>ae</td>\n",
       "      <td>2020-01-02</td>\n",
       "      <td>2020-01-02</td>\n",
       "      <td>3</td>\n",
       "      <td>29 days</td>\n",
       "    </tr>\n",
       "    <tr>\n",
       "      <th>4</th>\n",
       "      <td>2020-01-31</td>\n",
       "      <td>ae</td>\n",
       "      <td>2020-01-04</td>\n",
       "      <td>2020-01-31</td>\n",
       "      <td>3</td>\n",
       "      <td>27 days</td>\n",
       "    </tr>\n",
       "  </tbody>\n",
       "</table>\n",
       "</div>"
      ],
      "text/plain": [
       "      return iso    arrival  departure  count    stay\n",
       "0 2020-01-31  ad 2020-01-30 2020-01-30      3  1 days\n",
       "1 2020-01-31  ae 2019-12-31 2020-01-25      3 31 days\n",
       "2 2020-01-31  ae 2019-12-31 2020-01-31      3 31 days\n",
       "3 2020-01-31  ae 2020-01-02 2020-01-02      3 29 days\n",
       "4 2020-01-31  ae 2020-01-04 2020-01-31      3 27 days"
      ]
     },
<<<<<<< HEAD
     "execution_count": 16,
=======
     "execution_count": 41,
>>>>>>> a1865d3a59d797d6ade9cdb544c24b6218a8cca8
     "metadata": {},
     "output_type": "execute_result"
    }
   ],
   "source": [
    "roam.head()"
   ]
  },
  {
   "cell_type": "code",
   "execution_count": 17,
   "metadata": {},
   "outputs": [
    {
     "data": {
      "text/plain": [
       "Text(0.5, 1.0, '일별 로밍 고객 수')"
      ]
     },
     "execution_count": 17,
     "metadata": {},
     "output_type": "execute_result"
    },
    {
     "data": {
      "image/png": "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\n",
      "text/plain": [
       "<Figure size 1440x504 with 1 Axes>"
      ]
     },
     "metadata": {
      "needs_background": "light"
     },
     "output_type": "display_data"
    }
   ],
   "source": [
    "# 날짜에 따른 arrival 고객 확인\n",
    "\n",
    "group_of_date = roam.groupby('return', as_index=False)[['count']].sum()\n",
    "plt.figure(figsize=(20,7))\n",
    "plt.plot(group_of_date['return'],group_of_date['count'],'--', label=\"value\")\n",
    "plt.title('일별 로밍 고객 수')"
   ]
  },
  {
   "cell_type": "code",
   "execution_count": 18,
   "metadata": {},
   "outputs": [
    {
     "data": {
      "text/plain": [
       "Text(0.5, 1.0, '일별 로밍 평균 고객 수')"
      ]
     },
     "execution_count": 18,
     "metadata": {},
     "output_type": "execute_result"
    },
    {
     "data": {
      "image/png": "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\n",
      "text/plain": [
       "<Figure size 1440x504 with 1 Axes>"
      ]
     },
     "metadata": {
      "needs_background": "light"
     },
     "output_type": "display_data"
    }
   ],
   "source": [
    "# 날짜에 따른 arrival 고객 확인\n",
    "\n",
    "group_of_date = roam.groupby('return', as_index=False)[['count']].mean()\n",
    "plt.figure(figsize=(20,7))\n",
    "plt.plot(group_of_date['return'],group_of_date['count'],'--', label=\"value\", color='salmon')\n",
    "plt.title('일별 로밍 평균 고객 수')"
   ]
  },
  {
   "cell_type": "markdown",
   "metadata": {},
   "source": [
    "- 일정한 주기를 띄는 것을 보아 주말에 arrival한 사람들이 많는 것으로 보인다.\n",
    "- 코로나 감염이 크게 확산됐던 1월 말 경에는 로밍 숫자가 최고점을 찍고\n",
    "- 이후 계속적으로 감소한다."
   ]
  },
  {
   "cell_type": "markdown",
   "metadata": {},
   "source": [
    "# 2. 캐글 데이터"
   ]
  },
  {
   "cell_type": "code",
   "execution_count": 19,
   "metadata": {},
   "outputs": [],
   "source": [
    "kag = pd.read_csv('./data/covid_19_clean_complete.csv')"
   ]
  },
  {
   "cell_type": "code",
   "execution_count": 20,
   "metadata": {},
   "outputs": [],
   "source": [
    "kag['Date'] = pd.to_datetime(kag['Date'])"
   ]
  },
  {
   "cell_type": "code",
   "execution_count": 21,
   "metadata": {},
   "outputs": [
    {
     "data": {
      "text/html": [
       "<div>\n",
       "<style scoped>\n",
       "    .dataframe tbody tr th:only-of-type {\n",
       "        vertical-align: middle;\n",
       "    }\n",
       "\n",
       "    .dataframe tbody tr th {\n",
       "        vertical-align: top;\n",
       "    }\n",
       "\n",
       "    .dataframe thead th {\n",
       "        text-align: right;\n",
       "    }\n",
       "</style>\n",
       "<table border=\"1\" class=\"dataframe\">\n",
       "  <thead>\n",
       "    <tr style=\"text-align: right;\">\n",
       "      <th></th>\n",
       "      <th>Province/State</th>\n",
       "      <th>Country/Region</th>\n",
       "      <th>Lat</th>\n",
       "      <th>Long</th>\n",
       "      <th>Date</th>\n",
       "      <th>Confirmed</th>\n",
       "      <th>Deaths</th>\n",
       "      <th>Recovered</th>\n",
       "    </tr>\n",
       "  </thead>\n",
       "  <tbody>\n",
       "    <tr>\n",
       "      <th>0</th>\n",
       "      <td>NaN</td>\n",
       "      <td>Afghanistan</td>\n",
       "      <td>33.0000</td>\n",
       "      <td>65.0000</td>\n",
       "      <td>2020-01-22</td>\n",
       "      <td>0</td>\n",
       "      <td>0</td>\n",
       "      <td>0</td>\n",
       "    </tr>\n",
       "    <tr>\n",
       "      <th>1</th>\n",
       "      <td>NaN</td>\n",
       "      <td>Albania</td>\n",
       "      <td>41.1533</td>\n",
       "      <td>20.1683</td>\n",
       "      <td>2020-01-22</td>\n",
       "      <td>0</td>\n",
       "      <td>0</td>\n",
       "      <td>0</td>\n",
       "    </tr>\n",
       "    <tr>\n",
       "      <th>2</th>\n",
       "      <td>NaN</td>\n",
       "      <td>Algeria</td>\n",
       "      <td>28.0339</td>\n",
       "      <td>1.6596</td>\n",
       "      <td>2020-01-22</td>\n",
       "      <td>0</td>\n",
       "      <td>0</td>\n",
       "      <td>0</td>\n",
       "    </tr>\n",
       "    <tr>\n",
       "      <th>3</th>\n",
       "      <td>NaN</td>\n",
       "      <td>Andorra</td>\n",
       "      <td>42.5063</td>\n",
       "      <td>1.5218</td>\n",
       "      <td>2020-01-22</td>\n",
       "      <td>0</td>\n",
       "      <td>0</td>\n",
       "      <td>0</td>\n",
       "    </tr>\n",
       "    <tr>\n",
       "      <th>4</th>\n",
       "      <td>NaN</td>\n",
       "      <td>Angola</td>\n",
       "      <td>-11.2027</td>\n",
       "      <td>17.8739</td>\n",
       "      <td>2020-01-22</td>\n",
       "      <td>0</td>\n",
       "      <td>0</td>\n",
       "      <td>0</td>\n",
       "    </tr>\n",
       "  </tbody>\n",
       "</table>\n",
       "</div>"
      ],
      "text/plain": [
       "  Province/State Country/Region      Lat     Long       Date  Confirmed  \\\n",
       "0            NaN    Afghanistan  33.0000  65.0000 2020-01-22          0   \n",
       "1            NaN        Albania  41.1533  20.1683 2020-01-22          0   \n",
       "2            NaN        Algeria  28.0339   1.6596 2020-01-22          0   \n",
       "3            NaN        Andorra  42.5063   1.5218 2020-01-22          0   \n",
       "4            NaN         Angola -11.2027  17.8739 2020-01-22          0   \n",
       "\n",
       "   Deaths  Recovered  \n",
       "0       0          0  \n",
       "1       0          0  \n",
       "2       0          0  \n",
       "3       0          0  \n",
       "4       0          0  "
      ]
     },
     "execution_count": 21,
     "metadata": {},
     "output_type": "execute_result"
    }
   ],
   "source": [
    "kag.head()"
   ]
  },
  {
   "cell_type": "code",
   "execution_count": 22,
   "metadata": {},
   "outputs": [],
   "source": [
    "kag_dated = kag.groupby(['Date'], as_index=False)['Confirmed'].sum()"
   ]
  },
  {
   "cell_type": "code",
   "execution_count": 23,
   "metadata": {},
   "outputs": [
    {
     "data": {
      "text/html": [
       "<div>\n",
       "<style scoped>\n",
       "    .dataframe tbody tr th:only-of-type {\n",
       "        vertical-align: middle;\n",
       "    }\n",
       "\n",
       "    .dataframe tbody tr th {\n",
       "        vertical-align: top;\n",
       "    }\n",
       "\n",
       "    .dataframe thead th {\n",
       "        text-align: right;\n",
       "    }\n",
       "</style>\n",
       "<table border=\"1\" class=\"dataframe\">\n",
       "  <thead>\n",
       "    <tr style=\"text-align: right;\">\n",
       "      <th></th>\n",
       "      <th>Date</th>\n",
       "      <th>Confirmed</th>\n",
       "    </tr>\n",
       "  </thead>\n",
       "  <tbody>\n",
       "    <tr>\n",
       "      <th>0</th>\n",
       "      <td>2020-01-22</td>\n",
       "      <td>555</td>\n",
       "    </tr>\n",
       "    <tr>\n",
       "      <th>1</th>\n",
       "      <td>2020-01-23</td>\n",
       "      <td>654</td>\n",
       "    </tr>\n",
       "    <tr>\n",
       "      <th>2</th>\n",
       "      <td>2020-01-24</td>\n",
       "      <td>941</td>\n",
       "    </tr>\n",
       "    <tr>\n",
       "      <th>3</th>\n",
       "      <td>2020-01-25</td>\n",
       "      <td>1434</td>\n",
       "    </tr>\n",
       "    <tr>\n",
       "      <th>4</th>\n",
       "      <td>2020-01-26</td>\n",
       "      <td>2118</td>\n",
       "    </tr>\n",
       "    <tr>\n",
       "      <th>...</th>\n",
       "      <td>...</td>\n",
       "      <td>...</td>\n",
       "    </tr>\n",
       "    <tr>\n",
       "      <th>80</th>\n",
       "      <td>2020-04-11</td>\n",
       "      <td>1771512</td>\n",
       "    </tr>\n",
       "    <tr>\n",
       "      <th>81</th>\n",
       "      <td>2020-04-12</td>\n",
       "      <td>1846676</td>\n",
       "    </tr>\n",
       "    <tr>\n",
       "      <th>82</th>\n",
       "      <td>2020-04-13</td>\n",
       "      <td>1917316</td>\n",
       "    </tr>\n",
       "    <tr>\n",
       "      <th>83</th>\n",
       "      <td>2020-04-14</td>\n",
       "      <td>1976188</td>\n",
       "    </tr>\n",
       "    <tr>\n",
       "      <th>84</th>\n",
       "      <td>2020-04-15</td>\n",
       "      <td>2056051</td>\n",
       "    </tr>\n",
       "  </tbody>\n",
       "</table>\n",
       "<p>85 rows × 2 columns</p>\n",
       "</div>"
      ],
      "text/plain": [
       "         Date  Confirmed\n",
       "0  2020-01-22        555\n",
       "1  2020-01-23        654\n",
       "2  2020-01-24        941\n",
       "3  2020-01-25       1434\n",
       "4  2020-01-26       2118\n",
       "..        ...        ...\n",
       "80 2020-04-11    1771512\n",
       "81 2020-04-12    1846676\n",
       "82 2020-04-13    1917316\n",
       "83 2020-04-14    1976188\n",
       "84 2020-04-15    2056051\n",
       "\n",
       "[85 rows x 2 columns]"
      ]
     },
     "execution_count": 23,
     "metadata": {},
     "output_type": "execute_result"
    }
   ],
   "source": [
    "kag_dated"
   ]
  },
  {
   "cell_type": "code",
   "execution_count": 33,
   "metadata": {},
   "outputs": [
    {
     "name": "stdout",
     "output_type": "stream",
     "text": [
      "count                     122\n",
      "unique                    122\n",
      "top       2020-03-13 00:00:00\n",
      "freq                        1\n",
      "first     2019-12-01 00:00:00\n",
      "last      2020-03-31 00:00:00\n",
      "Name: return, dtype: object\n",
      "count                      85\n",
      "unique                     85\n",
      "top       2020-03-13 00:00:00\n",
      "freq                        1\n",
      "first     2020-01-22 00:00:00\n",
      "last      2020-04-15 00:00:00\n",
      "Name: Date, dtype: object\n"
     ]
    },
    {
     "data": {
      "image/png": "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\n",
      "text/plain": [
       "<Figure size 432x288 with 1 Axes>"
      ]
     },
     "metadata": {
      "needs_background": "light"
     },
     "output_type": "display_data"
    }
   ],
   "source": [
    "# 날짜에 따른 arrival 고객 확인\n",
    "\n",
    "group_of_date = roam.groupby('return', as_index=False)[['count']].sum()\n",
    "#fig, ax = plt.subplots(1, 2)\n",
    "plt.plot(group_of_date['return'],group_of_date['count'],'--', label=\"count\")\n",
    "plt.plot(kag_dated['Date'], kag_dated['Confirmed'], '-', label='Confirmed')\n",
    "plt.title('일별 로밍 고객 수')\n",
    "print(group_of_date['return'].describe())\n",
    "print(kag_dated['Date'].describe())"
   ]
  },
  {
   "cell_type": "code",
   "execution_count": null,
   "metadata": {},
   "outputs": [],
   "source": [
    "df_count = raw_health.groupby([\"시도\"]).size() ; df_count\n",
    "df_count.plot.pie(figsize = (6,6),\n",
    "                  y = \"OXY\", autopct = \"%.1f%%\",\n",
    "                 startangle=90,\n",
    "                 shadow=True, textprops={'fontsize': 10}) "
   ]
  },
  {
   "cell_type": "code",
   "execution_count": null,
   "metadata": {},
   "outputs": [],
   "source": [
    "fig, ax = plt.subplots(nrows = 1, ncols = 2,\n",
    "                      figsize = (12,4))\n",
    "\n",
    "raw_health.groupby(['구강검진 수검여부'])['구강검진 수검여부'].count().plot(kind = 'bar', grid= True, ax = ax[0])\n",
    "df_count = raw_health.groupby([\"구강검진 수검여부\"]).size() ; df_count\n",
    "df_count.plot.pie(y = \"OXY\", autopct = \"%.1f%%\",\n",
    "                 startangle=90,\n",
    "                 shadow=True, textprops={'fontsize': 10}, ax = ax[1]) "
   ]
  },
  {
   "cell_type": "markdown",
   "metadata": {},
   "source": [
    "# 3. 감염병데이터\n",
    "\n",
    "|컬럼명|컬럼한국명|컬럼설명|샘플|\n",
    "|:-----:|:-----:|:------|:------:|\n",
    "|파일명|파일명|파일리스트의 파일명과 일치|AFRO2019120200003|\n",
    "|제목|제목|기사의 제목|WHO supports Angola’s Government efforts to end polio outbreak|\n",
    "|URL|원문기사링크|해당 기사의 원문 링크|https://www.afro.who.int/news/who-supports-angolas-government-efforts-end-polio-outbreak\n",
    "|수집일자|수집일자|KT 크롤링 시스템에 의해 기사가 수집된 날짜|2019-12-02 21:00:16.0|\n",
    "|게시일자|게시일자|원문 Site에 해당 기사가 게시된 날짜|2019-12-02 00:00:00|\n",
    "|채널명|채널명|기사가 게시된 Site의 이름|AFRO|\n",
    "|감염병명|감염병명|기사에 표기된 감염병의 이름|Poliomyelitis|\n",
    "|분류명|분류명|감염병의 분류(카테고리) 명|Viral|\n"
   ]
  },
  {
   "cell_type": "code",
   "execution_count": 40,
   "metadata": {},
   "outputs": [],
   "source": [
    "news = pd.read_excel('./data/corona_contest_data_0406/3-1. NewsList.xls', sheet_name=\"List\")"
   ]
  },
  {
   "cell_type": "code",
   "execution_count": 41,
   "metadata": {},
   "outputs": [
    {
     "data": {
      "text/html": [
       "<div>\n",
       "<style scoped>\n",
       "    .dataframe tbody tr th:only-of-type {\n",
       "        vertical-align: middle;\n",
       "    }\n",
       "\n",
       "    .dataframe tbody tr th {\n",
       "        vertical-align: top;\n",
       "    }\n",
       "\n",
       "    .dataframe thead th {\n",
       "        text-align: right;\n",
       "    }\n",
       "</style>\n",
       "<table border=\"1\" class=\"dataframe\">\n",
       "  <thead>\n",
       "    <tr style=\"text-align: right;\">\n",
       "      <th></th>\n",
       "      <th>파일명</th>\n",
       "      <th>제목</th>\n",
       "      <th>URL</th>\n",
       "      <th>수집일자</th>\n",
       "      <th>게시일자</th>\n",
       "      <th>채널명</th>\n",
       "      <th>감염병명</th>\n",
       "      <th>분류명</th>\n",
       "    </tr>\n",
       "  </thead>\n",
       "  <tbody>\n",
       "    <tr>\n",
       "      <th>0</th>\n",
       "      <td>AFRO2019120200003</td>\n",
       "      <td>WHO supports Angola’s Government efforts to en...</td>\n",
       "      <td>https://www.afro.who.int/news/who-supports-ang...</td>\n",
       "      <td>2019-12-02 21:00:16.0</td>\n",
       "      <td>2019-12-02 00:00:00</td>\n",
       "      <td>AFRO</td>\n",
       "      <td>Poliomyelitis</td>\n",
       "      <td>Viral</td>\n",
       "    </tr>\n",
       "    <tr>\n",
       "      <th>1</th>\n",
       "      <td>AFRO2019120300001</td>\n",
       "      <td>African First Ladies laud progress against HIV...</td>\n",
       "      <td>https://www.afro.who.int/news/african-first-la...</td>\n",
       "      <td>2019-12-03 00:00:17.0</td>\n",
       "      <td>2019-12-02 00:00:00</td>\n",
       "      <td>AFRO</td>\n",
       "      <td>Acquired immuno deficiency syndrome</td>\n",
       "      <td>Viral</td>\n",
       "    </tr>\n",
       "    <tr>\n",
       "      <th>2</th>\n",
       "      <td>AFRO2019120300002</td>\n",
       "      <td>Eritrea Observed World AIDS Day 2019</td>\n",
       "      <td>https://www.afro.who.int/news/eritrea-observed...</td>\n",
       "      <td>2019-12-03 00:00:18.0</td>\n",
       "      <td>2019-12-02 00:00:00</td>\n",
       "      <td>AFRO</td>\n",
       "      <td>Acquired immuno deficiency syndrome</td>\n",
       "      <td>Viral</td>\n",
       "    </tr>\n",
       "    <tr>\n",
       "      <th>3</th>\n",
       "      <td>AFRO2019120400003</td>\n",
       "      <td>West and Central Africa Expands Access to HIV ...</td>\n",
       "      <td>https://www.afro.who.int/news/west-and-central...</td>\n",
       "      <td>2019-12-04 03:00:14.0</td>\n",
       "      <td>2019-12-03 00:00:00</td>\n",
       "      <td>AFRO</td>\n",
       "      <td>Acquired immuno deficiency syndrome</td>\n",
       "      <td>Viral</td>\n",
       "    </tr>\n",
       "    <tr>\n",
       "      <th>4</th>\n",
       "      <td>AFRO2019120400004</td>\n",
       "      <td>Nearly 23 million voluntary male medical circu...</td>\n",
       "      <td>https://www.afro.who.int/news/nearly-23-millio...</td>\n",
       "      <td>2019-12-04 22:00:14.0</td>\n",
       "      <td>2019-12-04 00:00:00</td>\n",
       "      <td>AFRO</td>\n",
       "      <td>Acquired immuno deficiency syndrome</td>\n",
       "      <td>Viral</td>\n",
       "    </tr>\n",
       "  </tbody>\n",
       "</table>\n",
       "</div>"
      ],
      "text/plain": [
       "                 파일명                                                 제목  \\\n",
       "0  AFRO2019120200003  WHO supports Angola’s Government efforts to en...   \n",
       "1  AFRO2019120300001  African First Ladies laud progress against HIV...   \n",
       "2  AFRO2019120300002               Eritrea Observed World AIDS Day 2019   \n",
       "3  AFRO2019120400003  West and Central Africa Expands Access to HIV ...   \n",
       "4  AFRO2019120400004  Nearly 23 million voluntary male medical circu...   \n",
       "\n",
       "                                                 URL                   수집일자  \\\n",
       "0  https://www.afro.who.int/news/who-supports-ang...  2019-12-02 21:00:16.0   \n",
       "1  https://www.afro.who.int/news/african-first-la...  2019-12-03 00:00:17.0   \n",
       "2  https://www.afro.who.int/news/eritrea-observed...  2019-12-03 00:00:18.0   \n",
       "3  https://www.afro.who.int/news/west-and-central...  2019-12-04 03:00:14.0   \n",
       "4  https://www.afro.who.int/news/nearly-23-millio...  2019-12-04 22:00:14.0   \n",
       "\n",
       "                  게시일자   채널명                                 감염병명    분류명  \n",
       "0  2019-12-02 00:00:00  AFRO                        Poliomyelitis  Viral  \n",
       "1  2019-12-02 00:00:00  AFRO  Acquired immuno deficiency syndrome  Viral  \n",
       "2  2019-12-02 00:00:00  AFRO  Acquired immuno deficiency syndrome  Viral  \n",
       "3  2019-12-03 00:00:00  AFRO  Acquired immuno deficiency syndrome  Viral  \n",
       "4  2019-12-04 00:00:00  AFRO  Acquired immuno deficiency syndrome  Viral  "
      ]
     },
     "execution_count": 41,
     "metadata": {},
     "output_type": "execute_result"
    }
   ],
   "source": [
    "news.head()"
   ]
  },
  {
   "cell_type": "code",
   "execution_count": 77,
   "metadata": {},
   "outputs": [
    {
     "data": {
      "text/html": [
       "<div>\n",
       "<style scoped>\n",
       "    .dataframe tbody tr th:only-of-type {\n",
       "        vertical-align: middle;\n",
       "    }\n",
       "\n",
       "    .dataframe tbody tr th {\n",
       "        vertical-align: top;\n",
       "    }\n",
       "\n",
       "    .dataframe thead th {\n",
       "        text-align: right;\n",
       "    }\n",
       "</style>\n",
       "<table border=\"1\" class=\"dataframe\">\n",
       "  <thead>\n",
       "    <tr style=\"text-align: right;\">\n",
       "      <th></th>\n",
       "      <th>분류명</th>\n",
       "      <th>파일명</th>\n",
       "    </tr>\n",
       "  </thead>\n",
       "  <tbody>\n",
       "    <tr>\n",
       "      <th>3</th>\n",
       "      <td>Parasitic (Arthropods)</td>\n",
       "      <td>19</td>\n",
       "    </tr>\n",
       "    <tr>\n",
       "      <th>6</th>\n",
       "      <td>Parasitic (Trematodes)</td>\n",
       "      <td>26</td>\n",
       "    </tr>\n",
       "    <tr>\n",
       "      <th>7</th>\n",
       "      <td>Parasitic (nematodes)</td>\n",
       "      <td>40</td>\n",
       "    </tr>\n",
       "    <tr>\n",
       "      <th>4</th>\n",
       "      <td>Parasitic (Cestodes)</td>\n",
       "      <td>52</td>\n",
       "    </tr>\n",
       "    <tr>\n",
       "      <th>2</th>\n",
       "      <td>Parasitic</td>\n",
       "      <td>53</td>\n",
       "    </tr>\n",
       "    <tr>\n",
       "      <th>8</th>\n",
       "      <td>Prion</td>\n",
       "      <td>65</td>\n",
       "    </tr>\n",
       "    <tr>\n",
       "      <th>9</th>\n",
       "      <td>Rickettsial</td>\n",
       "      <td>104</td>\n",
       "    </tr>\n",
       "    <tr>\n",
       "      <th>1</th>\n",
       "      <td>Fungal</td>\n",
       "      <td>110</td>\n",
       "    </tr>\n",
       "    <tr>\n",
       "      <th>5</th>\n",
       "      <td>Parasitic (Protozoans)</td>\n",
       "      <td>845</td>\n",
       "    </tr>\n",
       "    <tr>\n",
       "      <th>0</th>\n",
       "      <td>Bacterial</td>\n",
       "      <td>3138</td>\n",
       "    </tr>\n",
       "    <tr>\n",
       "      <th>10</th>\n",
       "      <td>Viral</td>\n",
       "      <td>57272</td>\n",
       "    </tr>\n",
       "  </tbody>\n",
       "</table>\n",
       "</div>"
      ],
      "text/plain": [
       "                       분류명    파일명\n",
       "3   Parasitic (Arthropods)     19\n",
       "6   Parasitic (Trematodes)     26\n",
       "7    Parasitic (nematodes)     40\n",
       "4     Parasitic (Cestodes)     52\n",
       "2                Parasitic     53\n",
       "8                    Prion     65\n",
       "9              Rickettsial    104\n",
       "1                   Fungal    110\n",
       "5   Parasitic (Protozoans)    845\n",
       "0                Bacterial   3138\n",
       "10                   Viral  57272"
      ]
     },
     "execution_count": 77,
     "metadata": {},
     "output_type": "execute_result"
    }
   ],
   "source": [
    "# 전체 기사 중 병명에 따른 누적 갯수\n",
    "cum_viral = news.groupby('분류명', as_index=False)[['파일명']].count().sort_values(by='파일명')\n",
    "cum_viral"
   ]
  },
  {
   "cell_type": "code",
   "execution_count": 82,
   "metadata": {},
   "outputs": [
    {
     "data": {
      "text/plain": [
       "<BarContainer object of 3 artists>"
      ]
     },
     "execution_count": 82,
     "metadata": {},
     "output_type": "execute_result"
    },
    {
     "data": {
      "image/png": "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\n",
      "text/plain": [
       "<Figure size 504x360 with 1 Axes>"
      ]
     },
     "metadata": {
      "needs_background": "light"
     },
     "output_type": "display_data"
    }
   ],
   "source": [
    "# 상위 3개 중 viral의 비중이 압도적이다.\n",
    "plt.figure(figsize=(7,5))\n",
    "plt.barh('분류명', '파일명',data=cum_viral.tail(3))"
   ]
  },
  {
   "cell_type": "code",
   "execution_count": 90,
   "metadata": {},
   "outputs": [
    {
     "data": {
      "text/plain": [
       "92.79"
      ]
     },
     "execution_count": 90,
     "metadata": {},
     "output_type": "execute_result"
    }
   ],
   "source": [
    "total_length = len(news['분류명'])\n",
    "viral_length = len(news[news['분류명'] == 'Viral'])\n",
    "\n",
    "per_of_viral = round(viral_length / total_length * 100, 2)\n",
    "per_of_viral"
   ]
  },
  {
   "cell_type": "markdown",
   "metadata": {},
   "source": [
    "- viral의 비중의 92.79%이기 때문에 다른 데이터들은 삭제해도 무관할 것으로 보인다."
   ]
  },
  {
   "cell_type": "code",
   "execution_count": 92,
   "metadata": {},
   "outputs": [
    {
     "data": {
      "text/html": [
       "<div>\n",
       "<style scoped>\n",
       "    .dataframe tbody tr th:only-of-type {\n",
       "        vertical-align: middle;\n",
       "    }\n",
       "\n",
       "    .dataframe tbody tr th {\n",
       "        vertical-align: top;\n",
       "    }\n",
       "\n",
       "    .dataframe thead th {\n",
       "        text-align: right;\n",
       "    }\n",
       "</style>\n",
       "<table border=\"1\" class=\"dataframe\">\n",
       "  <thead>\n",
       "    <tr style=\"text-align: right;\">\n",
       "      <th></th>\n",
       "      <th>파일명</th>\n",
       "      <th>제목</th>\n",
       "      <th>URL</th>\n",
       "      <th>수집일자</th>\n",
       "      <th>게시일자</th>\n",
       "      <th>채널명</th>\n",
       "      <th>감염병명</th>\n",
       "      <th>분류명</th>\n",
       "    </tr>\n",
       "  </thead>\n",
       "  <tbody>\n",
       "    <tr>\n",
       "      <th>0</th>\n",
       "      <td>AFRO2019120200003</td>\n",
       "      <td>WHO supports Angola’s Government efforts to en...</td>\n",
       "      <td>https://www.afro.who.int/news/who-supports-ang...</td>\n",
       "      <td>2019-12-02 21:00:16.0</td>\n",
       "      <td>2019-12-02 00:00:00</td>\n",
       "      <td>AFRO</td>\n",
       "      <td>Poliomyelitis</td>\n",
       "      <td>Viral</td>\n",
       "    </tr>\n",
       "    <tr>\n",
       "      <th>1</th>\n",
       "      <td>AFRO2019120300001</td>\n",
       "      <td>African First Ladies laud progress against HIV...</td>\n",
       "      <td>https://www.afro.who.int/news/african-first-la...</td>\n",
       "      <td>2019-12-03 00:00:17.0</td>\n",
       "      <td>2019-12-02 00:00:00</td>\n",
       "      <td>AFRO</td>\n",
       "      <td>Acquired immuno deficiency syndrome</td>\n",
       "      <td>Viral</td>\n",
       "    </tr>\n",
       "    <tr>\n",
       "      <th>2</th>\n",
       "      <td>AFRO2019120300002</td>\n",
       "      <td>Eritrea Observed World AIDS Day 2019</td>\n",
       "      <td>https://www.afro.who.int/news/eritrea-observed...</td>\n",
       "      <td>2019-12-03 00:00:18.0</td>\n",
       "      <td>2019-12-02 00:00:00</td>\n",
       "      <td>AFRO</td>\n",
       "      <td>Acquired immuno deficiency syndrome</td>\n",
       "      <td>Viral</td>\n",
       "    </tr>\n",
       "    <tr>\n",
       "      <th>3</th>\n",
       "      <td>AFRO2019120400003</td>\n",
       "      <td>West and Central Africa Expands Access to HIV ...</td>\n",
       "      <td>https://www.afro.who.int/news/west-and-central...</td>\n",
       "      <td>2019-12-04 03:00:14.0</td>\n",
       "      <td>2019-12-03 00:00:00</td>\n",
       "      <td>AFRO</td>\n",
       "      <td>Acquired immuno deficiency syndrome</td>\n",
       "      <td>Viral</td>\n",
       "    </tr>\n",
       "    <tr>\n",
       "      <th>4</th>\n",
       "      <td>AFRO2019120400004</td>\n",
       "      <td>Nearly 23 million voluntary male medical circu...</td>\n",
       "      <td>https://www.afro.who.int/news/nearly-23-millio...</td>\n",
       "      <td>2019-12-04 22:00:14.0</td>\n",
       "      <td>2019-12-04 00:00:00</td>\n",
       "      <td>AFRO</td>\n",
       "      <td>Acquired immuno deficiency syndrome</td>\n",
       "      <td>Viral</td>\n",
       "    </tr>\n",
       "  </tbody>\n",
       "</table>\n",
       "</div>"
      ],
      "text/plain": [
       "                 파일명                                                 제목  \\\n",
       "0  AFRO2019120200003  WHO supports Angola’s Government efforts to en...   \n",
       "1  AFRO2019120300001  African First Ladies laud progress against HIV...   \n",
       "2  AFRO2019120300002               Eritrea Observed World AIDS Day 2019   \n",
       "3  AFRO2019120400003  West and Central Africa Expands Access to HIV ...   \n",
       "4  AFRO2019120400004  Nearly 23 million voluntary male medical circu...   \n",
       "\n",
       "                                                 URL                   수집일자  \\\n",
       "0  https://www.afro.who.int/news/who-supports-ang...  2019-12-02 21:00:16.0   \n",
       "1  https://www.afro.who.int/news/african-first-la...  2019-12-03 00:00:17.0   \n",
       "2  https://www.afro.who.int/news/eritrea-observed...  2019-12-03 00:00:18.0   \n",
       "3  https://www.afro.who.int/news/west-and-central...  2019-12-04 03:00:14.0   \n",
       "4  https://www.afro.who.int/news/nearly-23-millio...  2019-12-04 22:00:14.0   \n",
       "\n",
       "                  게시일자   채널명                                 감염병명    분류명  \n",
       "0  2019-12-02 00:00:00  AFRO                        Poliomyelitis  Viral  \n",
       "1  2019-12-02 00:00:00  AFRO  Acquired immuno deficiency syndrome  Viral  \n",
       "2  2019-12-02 00:00:00  AFRO  Acquired immuno deficiency syndrome  Viral  \n",
       "3  2019-12-03 00:00:00  AFRO  Acquired immuno deficiency syndrome  Viral  \n",
       "4  2019-12-04 00:00:00  AFRO  Acquired immuno deficiency syndrome  Viral  "
      ]
     },
     "execution_count": 92,
     "metadata": {},
     "output_type": "execute_result"
    }
   ],
   "source": [
    "# viral만 가지고 있는 데이터 셋 생성\n",
    "\n",
    "viral_news = news[news['분류명'] == 'Viral']\n",
    "viral_news.head()"
   ]
  },
  {
   "cell_type": "code",
   "execution_count": 104,
   "metadata": {},
   "outputs": [
    {
     "data": {
      "text/html": [
       "<div>\n",
       "<style scoped>\n",
       "    .dataframe tbody tr th:only-of-type {\n",
       "        vertical-align: middle;\n",
       "    }\n",
       "\n",
       "    .dataframe tbody tr th {\n",
       "        vertical-align: top;\n",
       "    }\n",
       "\n",
       "    .dataframe thead th {\n",
       "        text-align: right;\n",
       "    }\n",
       "</style>\n",
       "<table border=\"1\" class=\"dataframe\">\n",
       "  <thead>\n",
       "    <tr style=\"text-align: right;\">\n",
       "      <th></th>\n",
       "      <th>감염병명</th>\n",
       "      <th>파일명</th>\n",
       "    </tr>\n",
       "  </thead>\n",
       "  <tbody>\n",
       "    <tr>\n",
       "      <th>9</th>\n",
       "      <td>COVID-19</td>\n",
       "      <td>35238</td>\n",
       "    </tr>\n",
       "    <tr>\n",
       "      <th>33</th>\n",
       "      <td>Influenza</td>\n",
       "      <td>6760</td>\n",
       "    </tr>\n",
       "    <tr>\n",
       "      <th>18</th>\n",
       "      <td>Dengue fever</td>\n",
       "      <td>3945</td>\n",
       "    </tr>\n",
       "    <tr>\n",
       "      <th>40</th>\n",
       "      <td>Measles</td>\n",
       "      <td>1587</td>\n",
       "    </tr>\n",
       "    <tr>\n",
       "      <th>63</th>\n",
       "      <td>Severe acute respiratory syndrome</td>\n",
       "      <td>1574</td>\n",
       "    </tr>\n",
       "    <tr>\n",
       "      <th>...</th>\n",
       "      <td>...</td>\n",
       "      <td>...</td>\n",
       "    </tr>\n",
       "    <tr>\n",
       "      <th>31</th>\n",
       "      <td>Human bocavirus infection</td>\n",
       "      <td>1</td>\n",
       "    </tr>\n",
       "    <tr>\n",
       "      <th>81</th>\n",
       "      <td>Western equine encephalitis</td>\n",
       "      <td>1</td>\n",
       "    </tr>\n",
       "    <tr>\n",
       "      <th>56</th>\n",
       "      <td>Rhinovirus infection</td>\n",
       "      <td>1</td>\n",
       "    </tr>\n",
       "    <tr>\n",
       "      <th>15</th>\n",
       "      <td>Contagious ecthyma</td>\n",
       "      <td>1</td>\n",
       "    </tr>\n",
       "    <tr>\n",
       "      <th>6</th>\n",
       "      <td>Barmah Forest fever</td>\n",
       "      <td>1</td>\n",
       "    </tr>\n",
       "  </tbody>\n",
       "</table>\n",
       "<p>85 rows × 2 columns</p>\n",
       "</div>"
      ],
      "text/plain": [
       "                                 감염병명    파일명\n",
       "9                            COVID-19  35238\n",
       "33                          Influenza   6760\n",
       "18                       Dengue fever   3945\n",
       "40                            Measles   1587\n",
       "63  Severe acute respiratory syndrome   1574\n",
       "..                                ...    ...\n",
       "31          Human bocavirus infection      1\n",
       "81        Western equine encephalitis      1\n",
       "56               Rhinovirus infection      1\n",
       "15                 Contagious ecthyma      1\n",
       "6                 Barmah Forest fever      1\n",
       "\n",
       "[85 rows x 2 columns]"
      ]
     },
     "execution_count": 104,
     "metadata": {},
     "output_type": "execute_result"
    }
   ],
   "source": [
    "tmp.sort_values('파일명', ascending=False)"
   ]
  },
  {
   "cell_type": "code",
   "execution_count": 113,
   "metadata": {},
   "outputs": [
    {
     "data": {
      "text/plain": [
       "35238"
      ]
     },
     "execution_count": 113,
     "metadata": {},
     "output_type": "execute_result"
    }
   ],
   "source": [
    "tmp.iloc[9,1]"
   ]
  },
  {
   "cell_type": "code",
   "execution_count": 115,
   "metadata": {},
   "outputs": [
    {
     "data": {
      "text/plain": [
       "61.53"
      ]
     },
     "execution_count": 115,
     "metadata": {},
     "output_type": "execute_result"
    }
   ],
   "source": [
    "total_ = tmp.파일명.sum()\n",
    "covid_ = tmp.iloc[9,1]\n",
    "per_of_covid = round(covid_/total_*100,2)\n",
    "per_of_covid"
   ]
  },
  {
   "cell_type": "markdown",
   "metadata": {},
   "source": [
    "- viral에 관한 뉴스기사 중 61%가 코로나 바이러스에 대한 뉴스기사이다."
   ]
  },
  {
   "cell_type": "code",
   "execution_count": 133,
   "metadata": {},
   "outputs": [
    {
     "data": {
      "text/html": [
       "<div>\n",
       "<style scoped>\n",
       "    .dataframe tbody tr th:only-of-type {\n",
       "        vertical-align: middle;\n",
       "    }\n",
       "\n",
       "    .dataframe tbody tr th {\n",
       "        vertical-align: top;\n",
       "    }\n",
       "\n",
       "    .dataframe thead th {\n",
       "        text-align: right;\n",
       "    }\n",
       "</style>\n",
       "<table border=\"1\" class=\"dataframe\">\n",
       "  <thead>\n",
       "    <tr style=\"text-align: right;\">\n",
       "      <th></th>\n",
       "      <th>감염병명</th>\n",
       "      <th>파일명</th>\n",
       "    </tr>\n",
       "  </thead>\n",
       "  <tbody>\n",
       "    <tr>\n",
       "      <th>47</th>\n",
       "      <td>Nipha virus infection</td>\n",
       "      <td>1</td>\n",
       "    </tr>\n",
       "    <tr>\n",
       "      <th>15</th>\n",
       "      <td>Contagious ecthyma</td>\n",
       "      <td>1</td>\n",
       "    </tr>\n",
       "    <tr>\n",
       "      <th>77</th>\n",
       "      <td>Viral hepatitis A</td>\n",
       "      <td>1</td>\n",
       "    </tr>\n",
       "    <tr>\n",
       "      <th>38</th>\n",
       "      <td>Lymphocytic choriomeningitis</td>\n",
       "      <td>1</td>\n",
       "    </tr>\n",
       "    <tr>\n",
       "      <th>76</th>\n",
       "      <td>Viral hemorrhagic fever</td>\n",
       "      <td>1</td>\n",
       "    </tr>\n",
       "    <tr>\n",
       "      <th>...</th>\n",
       "      <td>...</td>\n",
       "      <td>...</td>\n",
       "    </tr>\n",
       "    <tr>\n",
       "      <th>63</th>\n",
       "      <td>Severe acute respiratory syndrome</td>\n",
       "      <td>1574</td>\n",
       "    </tr>\n",
       "    <tr>\n",
       "      <th>40</th>\n",
       "      <td>Measles</td>\n",
       "      <td>1587</td>\n",
       "    </tr>\n",
       "    <tr>\n",
       "      <th>18</th>\n",
       "      <td>Dengue fever</td>\n",
       "      <td>3945</td>\n",
       "    </tr>\n",
       "    <tr>\n",
       "      <th>33</th>\n",
       "      <td>Influenza</td>\n",
       "      <td>6760</td>\n",
       "    </tr>\n",
       "    <tr>\n",
       "      <th>9</th>\n",
       "      <td>COVID-19</td>\n",
       "      <td>35238</td>\n",
       "    </tr>\n",
       "  </tbody>\n",
       "</table>\n",
       "<p>85 rows × 2 columns</p>\n",
       "</div>"
      ],
      "text/plain": [
       "                                 감염병명    파일명\n",
       "47              Nipha virus infection      1\n",
       "15                 Contagious ecthyma      1\n",
       "77                  Viral hepatitis A      1\n",
       "38       Lymphocytic choriomeningitis      1\n",
       "76            Viral hemorrhagic fever      1\n",
       "..                                ...    ...\n",
       "63  Severe acute respiratory syndrome   1574\n",
       "40                            Measles   1587\n",
       "18                       Dengue fever   3945\n",
       "33                          Influenza   6760\n",
       "9                            COVID-19  35238\n",
       "\n",
       "[85 rows x 2 columns]"
      ]
     },
     "execution_count": 133,
     "metadata": {},
     "output_type": "execute_result"
    }
   ],
   "source": [
    "# 감염병명에 따른 분포\n",
    "tmp = viral_news.groupby(by='감염병명', as_index=False)[['파일명']].count().sort_values(by='파일명', ascending=True)\n",
    "tmp"
   ]
  },
  {
   "cell_type": "code",
   "execution_count": 135,
   "metadata": {},
   "outputs": [
    {
     "data": {
      "text/plain": [
       "<BarContainer object of 5 artists>"
      ]
     },
     "execution_count": 135,
     "metadata": {},
     "output_type": "execute_result"
    },
    {
     "data": {
      "image/png": "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\n",
      "text/plain": [
       "<Figure size 432x288 with 1 Axes>"
      ]
     },
     "metadata": {
      "needs_background": "light"
     },
     "output_type": "display_data"
    }
   ],
   "source": [
    "plt.barh('감염병명', '파일명',data=tmp.tail())"
   ]
  },
  {
   "cell_type": "code",
   "execution_count": 138,
   "metadata": {},
   "outputs": [
    {
     "data": {
      "text/html": [
       "<div>\n",
       "<style scoped>\n",
       "    .dataframe tbody tr th:only-of-type {\n",
       "        vertical-align: middle;\n",
       "    }\n",
       "\n",
       "    .dataframe tbody tr th {\n",
       "        vertical-align: top;\n",
       "    }\n",
       "\n",
       "    .dataframe thead th {\n",
       "        text-align: right;\n",
       "    }\n",
       "</style>\n",
       "<table border=\"1\" class=\"dataframe\">\n",
       "  <thead>\n",
       "    <tr style=\"text-align: right;\">\n",
       "      <th></th>\n",
       "      <th>파일명</th>\n",
       "      <th>제목</th>\n",
       "      <th>URL</th>\n",
       "      <th>수집일자</th>\n",
       "      <th>게시일자</th>\n",
       "      <th>채널명</th>\n",
       "      <th>감염병명</th>\n",
       "      <th>분류명</th>\n",
       "    </tr>\n",
       "  </thead>\n",
       "  <tbody>\n",
       "    <tr>\n",
       "      <th>0</th>\n",
       "      <td>AFRO2019120200003</td>\n",
       "      <td>WHO supports Angola’s Government efforts to en...</td>\n",
       "      <td>https://www.afro.who.int/news/who-supports-ang...</td>\n",
       "      <td>2019-12-02 21:00:16.0</td>\n",
       "      <td>2019-12-02 00:00:00</td>\n",
       "      <td>AFRO</td>\n",
       "      <td>Poliomyelitis</td>\n",
       "      <td>Viral</td>\n",
       "    </tr>\n",
       "    <tr>\n",
       "      <th>1</th>\n",
       "      <td>AFRO2019120300001</td>\n",
       "      <td>African First Ladies laud progress against HIV...</td>\n",
       "      <td>https://www.afro.who.int/news/african-first-la...</td>\n",
       "      <td>2019-12-03 00:00:17.0</td>\n",
       "      <td>2019-12-02 00:00:00</td>\n",
       "      <td>AFRO</td>\n",
       "      <td>Acquired immuno deficiency syndrome</td>\n",
       "      <td>Viral</td>\n",
       "    </tr>\n",
       "    <tr>\n",
       "      <th>2</th>\n",
       "      <td>AFRO2019120300002</td>\n",
       "      <td>Eritrea Observed World AIDS Day 2019</td>\n",
       "      <td>https://www.afro.who.int/news/eritrea-observed...</td>\n",
       "      <td>2019-12-03 00:00:18.0</td>\n",
       "      <td>2019-12-02 00:00:00</td>\n",
       "      <td>AFRO</td>\n",
       "      <td>Acquired immuno deficiency syndrome</td>\n",
       "      <td>Viral</td>\n",
       "    </tr>\n",
       "    <tr>\n",
       "      <th>3</th>\n",
       "      <td>AFRO2019120400003</td>\n",
       "      <td>West and Central Africa Expands Access to HIV ...</td>\n",
       "      <td>https://www.afro.who.int/news/west-and-central...</td>\n",
       "      <td>2019-12-04 03:00:14.0</td>\n",
       "      <td>2019-12-03 00:00:00</td>\n",
       "      <td>AFRO</td>\n",
       "      <td>Acquired immuno deficiency syndrome</td>\n",
       "      <td>Viral</td>\n",
       "    </tr>\n",
       "    <tr>\n",
       "      <th>4</th>\n",
       "      <td>AFRO2019120400004</td>\n",
       "      <td>Nearly 23 million voluntary male medical circu...</td>\n",
       "      <td>https://www.afro.who.int/news/nearly-23-millio...</td>\n",
       "      <td>2019-12-04 22:00:14.0</td>\n",
       "      <td>2019-12-04 00:00:00</td>\n",
       "      <td>AFRO</td>\n",
       "      <td>Acquired immuno deficiency syndrome</td>\n",
       "      <td>Viral</td>\n",
       "    </tr>\n",
       "  </tbody>\n",
       "</table>\n",
       "</div>"
      ],
      "text/plain": [
       "                 파일명                                                 제목  \\\n",
       "0  AFRO2019120200003  WHO supports Angola’s Government efforts to en...   \n",
       "1  AFRO2019120300001  African First Ladies laud progress against HIV...   \n",
       "2  AFRO2019120300002               Eritrea Observed World AIDS Day 2019   \n",
       "3  AFRO2019120400003  West and Central Africa Expands Access to HIV ...   \n",
       "4  AFRO2019120400004  Nearly 23 million voluntary male medical circu...   \n",
       "\n",
       "                                                 URL                   수집일자  \\\n",
       "0  https://www.afro.who.int/news/who-supports-ang...  2019-12-02 21:00:16.0   \n",
       "1  https://www.afro.who.int/news/african-first-la...  2019-12-03 00:00:17.0   \n",
       "2  https://www.afro.who.int/news/eritrea-observed...  2019-12-03 00:00:18.0   \n",
       "3  https://www.afro.who.int/news/west-and-central...  2019-12-04 03:00:14.0   \n",
       "4  https://www.afro.who.int/news/nearly-23-millio...  2019-12-04 22:00:14.0   \n",
       "\n",
       "                  게시일자   채널명                                 감염병명    분류명  \n",
       "0  2019-12-02 00:00:00  AFRO                        Poliomyelitis  Viral  \n",
       "1  2019-12-02 00:00:00  AFRO  Acquired immuno deficiency syndrome  Viral  \n",
       "2  2019-12-02 00:00:00  AFRO  Acquired immuno deficiency syndrome  Viral  \n",
       "3  2019-12-03 00:00:00  AFRO  Acquired immuno deficiency syndrome  Viral  \n",
       "4  2019-12-04 00:00:00  AFRO  Acquired immuno deficiency syndrome  Viral  "
      ]
     },
     "execution_count": 138,
     "metadata": {},
     "output_type": "execute_result"
    }
   ],
   "source": [
    "viral_news.head()"
   ]
  },
  {
   "cell_type": "code",
   "execution_count": 137,
   "metadata": {},
   "outputs": [
    {
     "data": {
      "text/plain": [
       "array(['AFRO', 'All africa', 'Al jazeera', 'BBC', 'CBC', 'CDC Taiwan',\n",
       "       'Centre for Health Protection',\n",
       "       'CIDARS (China Infectious Disease Automated Alert and Re sponse System)',\n",
       "       'CIDRAP', 'CNN', 'Dantri Vietnam', 'Disease Daily', 'ECDC', 'EFSA',\n",
       "       'WHO/EMRO', 'Flu Trackers', 'GEIS',\n",
       "       'GOARN (Global Outbreak Alert and Response Network)', 'GPHIN',\n",
       "       'Health Canada', 'HealthMap', 'MediSys', 'Ministry of Health',\n",
       "       'Ministry of Health(Saudi Arabia)', 'CDC Nigeria',\n",
       "       'Outbreak News Today', 'Reliefweb', 'WHO/PAHO',\n",
       "       'Public Health England', 'ProMED', 'REUTERS', 'WHO/SEARO', 'SINA',\n",
       "       'Tuoitre', 'VCDC', 'WAHIS', 'WHO/DONs', 'WHO/News', 'WHO/IHR',\n",
       "       'Wuhan Municipal Health Commission', 'Xinhua',\n",
       "       'Shanghai Municioal Health Commission',\n",
       "       'Health Commission of Guangdong Province'], dtype=object)"
      ]
     },
     "execution_count": 137,
     "metadata": {},
     "output_type": "execute_result"
    }
   ],
   "source": [
    "viral_news['채널명'].unique()"
   ]
  },
  {
   "cell_type": "code",
   "execution_count": 147,
   "metadata": {},
   "outputs": [
    {
     "data": {
      "text/plain": [
       "'2019-12-02'"
      ]
     },
     "execution_count": 147,
     "metadata": {},
     "output_type": "execute_result"
    }
   ],
   "source": [
    "viral_news['수집일자'][0][:10]"
   ]
  },
  {
   "cell_type": "code",
   "execution_count": 151,
   "metadata": {},
   "outputs": [
    {
     "name": "stderr",
     "output_type": "stream",
     "text": [
      "C:\\Users\\Joshua\\Anaconda3\\envs\\pytorch\\lib\\site-packages\\ipykernel_launcher.py:1: SettingWithCopyWarning: \n",
      "A value is trying to be set on a copy of a slice from a DataFrame.\n",
      "Try using .loc[row_indexer,col_indexer] = value instead\n",
      "\n",
      "See the caveats in the documentation: https://pandas.pydata.org/pandas-docs/stable/user_guide/indexing.html#returning-a-view-versus-a-copy\n",
      "  \"\"\"Entry point for launching an IPython kernel.\n",
      "C:\\Users\\Joshua\\Anaconda3\\envs\\pytorch\\lib\\site-packages\\ipykernel_launcher.py:2: SettingWithCopyWarning: \n",
      "A value is trying to be set on a copy of a slice from a DataFrame.\n",
      "Try using .loc[row_indexer,col_indexer] = value instead\n",
      "\n",
      "See the caveats in the documentation: https://pandas.pydata.org/pandas-docs/stable/user_guide/indexing.html#returning-a-view-versus-a-copy\n",
      "  \n"
     ]
    }
   ],
   "source": [
    "viral_news['date'] = viral_news['수집일자'].apply(lambda x: x[:10])\n",
    "viral_news['date'] = pd.to_datetime(viral_news['date'], format='%Y-%m-%d')"
   ]
  },
  {
   "cell_type": "code",
   "execution_count": 154,
   "metadata": {},
   "outputs": [
    {
     "data": {
      "text/plain": [
       "count                   57272\n",
       "unique                    118\n",
       "top       2020-03-31 00:00:00\n",
       "freq                     1183\n",
       "first     2019-12-01 00:00:00\n",
       "last      2020-04-01 00:00:00\n",
       "Name: date, dtype: object"
      ]
     },
     "execution_count": 154,
     "metadata": {},
     "output_type": "execute_result"
    }
   ],
   "source": [
    "viral_news['date'].describe()"
   ]
  },
  {
   "cell_type": "code",
   "execution_count": 155,
   "metadata": {},
   "outputs": [
    {
     "data": {
      "text/plain": [
       "Timedelta('122 days 00:00:00')"
      ]
     },
     "execution_count": 155,
     "metadata": {},
     "output_type": "execute_result"
    }
   ],
   "source": [
    "# 총 122일 동안의 기사들이다.\n",
    "max(viral_news['date']) - min(viral_news['date'])"
   ]
  },
  {
   "cell_type": "code",
   "execution_count": 77,
   "metadata": {},
   "outputs": [
    {
     "data": {
      "text/html": [
       "<div>\n",
       "<style scoped>\n",
       "    .dataframe tbody tr th:only-of-type {\n",
       "        vertical-align: middle;\n",
       "    }\n",
       "\n",
       "    .dataframe tbody tr th {\n",
       "        vertical-align: top;\n",
       "    }\n",
       "\n",
       "    .dataframe thead th {\n",
       "        text-align: right;\n",
       "    }\n",
       "</style>\n",
       "<table border=\"1\" class=\"dataframe\">\n",
       "  <thead>\n",
       "    <tr style=\"text-align: right;\">\n",
       "      <th></th>\n",
       "      <th>분류명</th>\n",
       "      <th>파일명</th>\n",
       "    </tr>\n",
       "  </thead>\n",
       "  <tbody>\n",
       "    <tr>\n",
       "      <th>3</th>\n",
       "      <td>Parasitic (Arthropods)</td>\n",
       "      <td>19</td>\n",
       "    </tr>\n",
       "    <tr>\n",
       "      <th>6</th>\n",
       "      <td>Parasitic (Trematodes)</td>\n",
       "      <td>26</td>\n",
       "    </tr>\n",
       "    <tr>\n",
       "      <th>7</th>\n",
       "      <td>Parasitic (nematodes)</td>\n",
       "      <td>40</td>\n",
       "    </tr>\n",
       "    <tr>\n",
       "      <th>4</th>\n",
       "      <td>Parasitic (Cestodes)</td>\n",
       "      <td>52</td>\n",
       "    </tr>\n",
       "    <tr>\n",
       "      <th>2</th>\n",
       "      <td>Parasitic</td>\n",
       "      <td>53</td>\n",
       "    </tr>\n",
       "    <tr>\n",
       "      <th>8</th>\n",
       "      <td>Prion</td>\n",
       "      <td>65</td>\n",
       "    </tr>\n",
       "    <tr>\n",
       "      <th>9</th>\n",
       "      <td>Rickettsial</td>\n",
       "      <td>104</td>\n",
       "    </tr>\n",
       "    <tr>\n",
       "      <th>1</th>\n",
       "      <td>Fungal</td>\n",
       "      <td>110</td>\n",
       "    </tr>\n",
       "    <tr>\n",
       "      <th>5</th>\n",
       "      <td>Parasitic (Protozoans)</td>\n",
       "      <td>845</td>\n",
       "    </tr>\n",
       "    <tr>\n",
       "      <th>0</th>\n",
       "      <td>Bacterial</td>\n",
       "      <td>3138</td>\n",
       "    </tr>\n",
       "    <tr>\n",
       "      <th>10</th>\n",
       "      <td>Viral</td>\n",
       "      <td>57272</td>\n",
       "    </tr>\n",
       "  </tbody>\n",
       "</table>\n",
       "</div>"
      ],
      "text/plain": [
       "                       분류명    파일명\n",
       "3   Parasitic (Arthropods)     19\n",
       "6   Parasitic (Trematodes)     26\n",
       "7    Parasitic (nematodes)     40\n",
       "4     Parasitic (Cestodes)     52\n",
       "2                Parasitic     53\n",
       "8                    Prion     65\n",
       "9              Rickettsial    104\n",
       "1                   Fungal    110\n",
       "5   Parasitic (Protozoans)    845\n",
       "0                Bacterial   3138\n",
       "10                   Viral  57272"
      ]
     },
     "execution_count": 77,
     "metadata": {},
     "output_type": "execute_result"
    }
   ],
   "source": [
    "# 전체 기사 중 병명에 따른 누적 갯수\n",
    "cum_viral = news.groupby('분류명', as_index=False)[['파일명']].count().sort_values(by='파일명')\n",
    "cum_viral"
   ]
  },
  {
   "cell_type": "code",
   "execution_count": 82,
   "metadata": {},
   "outputs": [
    {
     "data": {
      "text/plain": [
       "<BarContainer object of 3 artists>"
      ]
     },
     "execution_count": 82,
     "metadata": {},
     "output_type": "execute_result"
    },
    {
     "data": {
      "image/png": "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\n",
      "text/plain": [
       "<Figure size 504x360 with 1 Axes>"
      ]
     },
     "metadata": {
      "needs_background": "light"
     },
     "output_type": "display_data"
    }
   ],
   "source": [
    "# 상위 3개 중 viral의 비중이 압도적이다.\n",
    "plt.figure(figsize=(7,5))\n",
    "plt.barh('분류명', '파일명',data=cum_viral.tail(3))"
   ]
  },
  {
   "cell_type": "code",
   "execution_count": 90,
   "metadata": {},
   "outputs": [
    {
     "data": {
      "text/plain": [
       "92.79"
      ]
     },
     "execution_count": 90,
     "metadata": {},
     "output_type": "execute_result"
    }
   ],
   "source": [
    "total_length = len(news['분류명'])\n",
    "viral_length = len(news[news['분류명'] == 'Viral'])\n",
    "\n",
    "per_of_viral = round(viral_length / total_length * 100, 2)\n",
    "per_of_viral"
   ]
  },
  {
   "cell_type": "markdown",
   "metadata": {},
   "source": [
    "- viral의 비중의 92.79%이기 때문에 다른 데이터들은 삭제해도 무관할 것으로 보인다."
   ]
  },
  {
   "cell_type": "code",
   "execution_count": 92,
   "metadata": {},
   "outputs": [
    {
     "data": {
      "text/html": [
       "<div>\n",
       "<style scoped>\n",
       "    .dataframe tbody tr th:only-of-type {\n",
       "        vertical-align: middle;\n",
       "    }\n",
       "\n",
       "    .dataframe tbody tr th {\n",
       "        vertical-align: top;\n",
       "    }\n",
       "\n",
       "    .dataframe thead th {\n",
       "        text-align: right;\n",
       "    }\n",
       "</style>\n",
       "<table border=\"1\" class=\"dataframe\">\n",
       "  <thead>\n",
       "    <tr style=\"text-align: right;\">\n",
       "      <th></th>\n",
       "      <th>파일명</th>\n",
       "      <th>제목</th>\n",
       "      <th>URL</th>\n",
       "      <th>수집일자</th>\n",
       "      <th>게시일자</th>\n",
       "      <th>채널명</th>\n",
       "      <th>감염병명</th>\n",
       "      <th>분류명</th>\n",
       "    </tr>\n",
       "  </thead>\n",
       "  <tbody>\n",
       "    <tr>\n",
       "      <th>0</th>\n",
       "      <td>AFRO2019120200003</td>\n",
       "      <td>WHO supports Angola’s Government efforts to en...</td>\n",
       "      <td>https://www.afro.who.int/news/who-supports-ang...</td>\n",
       "      <td>2019-12-02 21:00:16.0</td>\n",
       "      <td>2019-12-02 00:00:00</td>\n",
       "      <td>AFRO</td>\n",
       "      <td>Poliomyelitis</td>\n",
       "      <td>Viral</td>\n",
       "    </tr>\n",
       "    <tr>\n",
       "      <th>1</th>\n",
       "      <td>AFRO2019120300001</td>\n",
       "      <td>African First Ladies laud progress against HIV...</td>\n",
       "      <td>https://www.afro.who.int/news/african-first-la...</td>\n",
       "      <td>2019-12-03 00:00:17.0</td>\n",
       "      <td>2019-12-02 00:00:00</td>\n",
       "      <td>AFRO</td>\n",
       "      <td>Acquired immuno deficiency syndrome</td>\n",
       "      <td>Viral</td>\n",
       "    </tr>\n",
       "    <tr>\n",
       "      <th>2</th>\n",
       "      <td>AFRO2019120300002</td>\n",
       "      <td>Eritrea Observed World AIDS Day 2019</td>\n",
       "      <td>https://www.afro.who.int/news/eritrea-observed...</td>\n",
       "      <td>2019-12-03 00:00:18.0</td>\n",
       "      <td>2019-12-02 00:00:00</td>\n",
       "      <td>AFRO</td>\n",
       "      <td>Acquired immuno deficiency syndrome</td>\n",
       "      <td>Viral</td>\n",
       "    </tr>\n",
       "    <tr>\n",
       "      <th>3</th>\n",
       "      <td>AFRO2019120400003</td>\n",
       "      <td>West and Central Africa Expands Access to HIV ...</td>\n",
       "      <td>https://www.afro.who.int/news/west-and-central...</td>\n",
       "      <td>2019-12-04 03:00:14.0</td>\n",
       "      <td>2019-12-03 00:00:00</td>\n",
       "      <td>AFRO</td>\n",
       "      <td>Acquired immuno deficiency syndrome</td>\n",
       "      <td>Viral</td>\n",
       "    </tr>\n",
       "    <tr>\n",
       "      <th>4</th>\n",
       "      <td>AFRO2019120400004</td>\n",
       "      <td>Nearly 23 million voluntary male medical circu...</td>\n",
       "      <td>https://www.afro.who.int/news/nearly-23-millio...</td>\n",
       "      <td>2019-12-04 22:00:14.0</td>\n",
       "      <td>2019-12-04 00:00:00</td>\n",
       "      <td>AFRO</td>\n",
       "      <td>Acquired immuno deficiency syndrome</td>\n",
       "      <td>Viral</td>\n",
       "    </tr>\n",
       "  </tbody>\n",
       "</table>\n",
       "</div>"
      ],
      "text/plain": [
       "                 파일명                                                 제목  \\\n",
       "0  AFRO2019120200003  WHO supports Angola’s Government efforts to en...   \n",
       "1  AFRO2019120300001  African First Ladies laud progress against HIV...   \n",
       "2  AFRO2019120300002               Eritrea Observed World AIDS Day 2019   \n",
       "3  AFRO2019120400003  West and Central Africa Expands Access to HIV ...   \n",
       "4  AFRO2019120400004  Nearly 23 million voluntary male medical circu...   \n",
       "\n",
       "                                                 URL                   수집일자  \\\n",
       "0  https://www.afro.who.int/news/who-supports-ang...  2019-12-02 21:00:16.0   \n",
       "1  https://www.afro.who.int/news/african-first-la...  2019-12-03 00:00:17.0   \n",
       "2  https://www.afro.who.int/news/eritrea-observed...  2019-12-03 00:00:18.0   \n",
       "3  https://www.afro.who.int/news/west-and-central...  2019-12-04 03:00:14.0   \n",
       "4  https://www.afro.who.int/news/nearly-23-millio...  2019-12-04 22:00:14.0   \n",
       "\n",
       "                  게시일자   채널명                                 감염병명    분류명  \n",
       "0  2019-12-02 00:00:00  AFRO                        Poliomyelitis  Viral  \n",
       "1  2019-12-02 00:00:00  AFRO  Acquired immuno deficiency syndrome  Viral  \n",
       "2  2019-12-02 00:00:00  AFRO  Acquired immuno deficiency syndrome  Viral  \n",
       "3  2019-12-03 00:00:00  AFRO  Acquired immuno deficiency syndrome  Viral  \n",
       "4  2019-12-04 00:00:00  AFRO  Acquired immuno deficiency syndrome  Viral  "
      ]
     },
     "execution_count": 92,
     "metadata": {},
     "output_type": "execute_result"
    }
   ],
   "source": [
    "# viral만 가지고 있는 데이터 셋 생성\n",
    "\n",
    "viral_news = news[news['분류명'] == 'Viral']\n",
    "viral_news.head()"
   ]
  },
  {
   "cell_type": "code",
   "execution_count": 104,
   "metadata": {},
   "outputs": [
    {
     "data": {
      "text/html": [
       "<div>\n",
       "<style scoped>\n",
       "    .dataframe tbody tr th:only-of-type {\n",
       "        vertical-align: middle;\n",
       "    }\n",
       "\n",
       "    .dataframe tbody tr th {\n",
       "        vertical-align: top;\n",
       "    }\n",
       "\n",
       "    .dataframe thead th {\n",
       "        text-align: right;\n",
       "    }\n",
       "</style>\n",
       "<table border=\"1\" class=\"dataframe\">\n",
       "  <thead>\n",
       "    <tr style=\"text-align: right;\">\n",
       "      <th></th>\n",
       "      <th>감염병명</th>\n",
       "      <th>파일명</th>\n",
       "    </tr>\n",
       "  </thead>\n",
       "  <tbody>\n",
       "    <tr>\n",
       "      <th>9</th>\n",
       "      <td>COVID-19</td>\n",
       "      <td>35238</td>\n",
       "    </tr>\n",
       "    <tr>\n",
       "      <th>33</th>\n",
       "      <td>Influenza</td>\n",
       "      <td>6760</td>\n",
       "    </tr>\n",
       "    <tr>\n",
       "      <th>18</th>\n",
       "      <td>Dengue fever</td>\n",
       "      <td>3945</td>\n",
       "    </tr>\n",
       "    <tr>\n",
       "      <th>40</th>\n",
       "      <td>Measles</td>\n",
       "      <td>1587</td>\n",
       "    </tr>\n",
       "    <tr>\n",
       "      <th>63</th>\n",
       "      <td>Severe acute respiratory syndrome</td>\n",
       "      <td>1574</td>\n",
       "    </tr>\n",
       "    <tr>\n",
       "      <th>...</th>\n",
       "      <td>...</td>\n",
       "      <td>...</td>\n",
       "    </tr>\n",
       "    <tr>\n",
       "      <th>31</th>\n",
       "      <td>Human bocavirus infection</td>\n",
       "      <td>1</td>\n",
       "    </tr>\n",
       "    <tr>\n",
       "      <th>81</th>\n",
       "      <td>Western equine encephalitis</td>\n",
       "      <td>1</td>\n",
       "    </tr>\n",
       "    <tr>\n",
       "      <th>56</th>\n",
       "      <td>Rhinovirus infection</td>\n",
       "      <td>1</td>\n",
       "    </tr>\n",
       "    <tr>\n",
       "      <th>15</th>\n",
       "      <td>Contagious ecthyma</td>\n",
       "      <td>1</td>\n",
       "    </tr>\n",
       "    <tr>\n",
       "      <th>6</th>\n",
       "      <td>Barmah Forest fever</td>\n",
       "      <td>1</td>\n",
       "    </tr>\n",
       "  </tbody>\n",
       "</table>\n",
       "<p>85 rows × 2 columns</p>\n",
       "</div>"
      ],
      "text/plain": [
       "                                 감염병명    파일명\n",
       "9                            COVID-19  35238\n",
       "33                          Influenza   6760\n",
       "18                       Dengue fever   3945\n",
       "40                            Measles   1587\n",
       "63  Severe acute respiratory syndrome   1574\n",
       "..                                ...    ...\n",
       "31          Human bocavirus infection      1\n",
       "81        Western equine encephalitis      1\n",
       "56               Rhinovirus infection      1\n",
       "15                 Contagious ecthyma      1\n",
       "6                 Barmah Forest fever      1\n",
       "\n",
       "[85 rows x 2 columns]"
      ]
     },
     "execution_count": 104,
     "metadata": {},
     "output_type": "execute_result"
    }
   ],
   "source": [
    "tmp.sort_values('파일명', ascending=False)"
   ]
  },
  {
   "cell_type": "code",
   "execution_count": 113,
   "metadata": {},
   "outputs": [
    {
     "data": {
      "text/plain": [
       "35238"
      ]
     },
     "execution_count": 113,
     "metadata": {},
     "output_type": "execute_result"
    }
   ],
   "source": [
    "tmp.iloc[9,1]"
   ]
  },
  {
   "cell_type": "code",
   "execution_count": 115,
   "metadata": {},
   "outputs": [
    {
     "data": {
      "text/plain": [
       "61.53"
      ]
     },
     "execution_count": 115,
     "metadata": {},
     "output_type": "execute_result"
    }
   ],
   "source": [
    "total_ = tmp.파일명.sum()\n",
    "covid_ = tmp.iloc[9,1]\n",
    "per_of_covid = round(covid_/total_*100,2)\n",
    "per_of_covid"
   ]
  },
  {
   "cell_type": "markdown",
   "metadata": {},
   "source": [
    "- viral에 관한 뉴스기사 중 61%가 코로나 바이러스에 대한 뉴스기사이다."
   ]
  },
  {
   "cell_type": "code",
   "execution_count": 133,
   "metadata": {},
   "outputs": [
    {
     "data": {
      "text/html": [
       "<div>\n",
       "<style scoped>\n",
       "    .dataframe tbody tr th:only-of-type {\n",
       "        vertical-align: middle;\n",
       "    }\n",
       "\n",
       "    .dataframe tbody tr th {\n",
       "        vertical-align: top;\n",
       "    }\n",
       "\n",
       "    .dataframe thead th {\n",
       "        text-align: right;\n",
       "    }\n",
       "</style>\n",
       "<table border=\"1\" class=\"dataframe\">\n",
       "  <thead>\n",
       "    <tr style=\"text-align: right;\">\n",
       "      <th></th>\n",
       "      <th>감염병명</th>\n",
       "      <th>파일명</th>\n",
       "    </tr>\n",
       "  </thead>\n",
       "  <tbody>\n",
       "    <tr>\n",
       "      <th>47</th>\n",
       "      <td>Nipha virus infection</td>\n",
       "      <td>1</td>\n",
       "    </tr>\n",
       "    <tr>\n",
       "      <th>15</th>\n",
       "      <td>Contagious ecthyma</td>\n",
       "      <td>1</td>\n",
       "    </tr>\n",
       "    <tr>\n",
       "      <th>77</th>\n",
       "      <td>Viral hepatitis A</td>\n",
       "      <td>1</td>\n",
       "    </tr>\n",
       "    <tr>\n",
       "      <th>38</th>\n",
       "      <td>Lymphocytic choriomeningitis</td>\n",
       "      <td>1</td>\n",
       "    </tr>\n",
       "    <tr>\n",
       "      <th>76</th>\n",
       "      <td>Viral hemorrhagic fever</td>\n",
       "      <td>1</td>\n",
       "    </tr>\n",
       "    <tr>\n",
       "      <th>...</th>\n",
       "      <td>...</td>\n",
       "      <td>...</td>\n",
       "    </tr>\n",
       "    <tr>\n",
       "      <th>63</th>\n",
       "      <td>Severe acute respiratory syndrome</td>\n",
       "      <td>1574</td>\n",
       "    </tr>\n",
       "    <tr>\n",
       "      <th>40</th>\n",
       "      <td>Measles</td>\n",
       "      <td>1587</td>\n",
       "    </tr>\n",
       "    <tr>\n",
       "      <th>18</th>\n",
       "      <td>Dengue fever</td>\n",
       "      <td>3945</td>\n",
       "    </tr>\n",
       "    <tr>\n",
       "      <th>33</th>\n",
       "      <td>Influenza</td>\n",
       "      <td>6760</td>\n",
       "    </tr>\n",
       "    <tr>\n",
       "      <th>9</th>\n",
       "      <td>COVID-19</td>\n",
       "      <td>35238</td>\n",
       "    </tr>\n",
       "  </tbody>\n",
       "</table>\n",
       "<p>85 rows × 2 columns</p>\n",
       "</div>"
      ],
      "text/plain": [
       "                                 감염병명    파일명\n",
       "47              Nipha virus infection      1\n",
       "15                 Contagious ecthyma      1\n",
       "77                  Viral hepatitis A      1\n",
       "38       Lymphocytic choriomeningitis      1\n",
       "76            Viral hemorrhagic fever      1\n",
       "..                                ...    ...\n",
       "63  Severe acute respiratory syndrome   1574\n",
       "40                            Measles   1587\n",
       "18                       Dengue fever   3945\n",
       "33                          Influenza   6760\n",
       "9                            COVID-19  35238\n",
       "\n",
       "[85 rows x 2 columns]"
      ]
     },
     "execution_count": 133,
     "metadata": {},
     "output_type": "execute_result"
    }
   ],
   "source": [
    "# 감염병명에 따른 분포\n",
    "tmp = viral_news.groupby(by='감염병명', as_index=False)[['파일명']].count().sort_values(by='파일명', ascending=True)\n",
    "tmp"
   ]
  },
  {
   "cell_type": "code",
   "execution_count": 135,
   "metadata": {},
   "outputs": [
    {
     "data": {
      "text/plain": [
       "<BarContainer object of 5 artists>"
      ]
     },
     "execution_count": 135,
     "metadata": {},
     "output_type": "execute_result"
    },
    {
     "data": {
      "image/png": "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\n",
      "text/plain": [
       "<Figure size 432x288 with 1 Axes>"
      ]
     },
     "metadata": {
      "needs_background": "light"
     },
     "output_type": "display_data"
    }
   ],
   "source": [
    "plt.barh('감염병명', '파일명',data=tmp.tail())"
   ]
  },
  {
   "cell_type": "code",
   "execution_count": 138,
   "metadata": {},
   "outputs": [
    {
     "data": {
      "text/html": [
       "<div>\n",
       "<style scoped>\n",
       "    .dataframe tbody tr th:only-of-type {\n",
       "        vertical-align: middle;\n",
       "    }\n",
       "\n",
       "    .dataframe tbody tr th {\n",
       "        vertical-align: top;\n",
       "    }\n",
       "\n",
       "    .dataframe thead th {\n",
       "        text-align: right;\n",
       "    }\n",
       "</style>\n",
       "<table border=\"1\" class=\"dataframe\">\n",
       "  <thead>\n",
       "    <tr style=\"text-align: right;\">\n",
       "      <th></th>\n",
       "      <th>파일명</th>\n",
       "      <th>제목</th>\n",
       "      <th>URL</th>\n",
       "      <th>수집일자</th>\n",
       "      <th>게시일자</th>\n",
       "      <th>채널명</th>\n",
       "      <th>감염병명</th>\n",
       "      <th>분류명</th>\n",
       "    </tr>\n",
       "  </thead>\n",
       "  <tbody>\n",
       "    <tr>\n",
       "      <th>0</th>\n",
       "      <td>AFRO2019120200003</td>\n",
       "      <td>WHO supports Angola’s Government efforts to en...</td>\n",
       "      <td>https://www.afro.who.int/news/who-supports-ang...</td>\n",
       "      <td>2019-12-02 21:00:16.0</td>\n",
       "      <td>2019-12-02 00:00:00</td>\n",
       "      <td>AFRO</td>\n",
       "      <td>Poliomyelitis</td>\n",
       "      <td>Viral</td>\n",
       "    </tr>\n",
       "    <tr>\n",
       "      <th>1</th>\n",
       "      <td>AFRO2019120300001</td>\n",
       "      <td>African First Ladies laud progress against HIV...</td>\n",
       "      <td>https://www.afro.who.int/news/african-first-la...</td>\n",
       "      <td>2019-12-03 00:00:17.0</td>\n",
       "      <td>2019-12-02 00:00:00</td>\n",
       "      <td>AFRO</td>\n",
       "      <td>Acquired immuno deficiency syndrome</td>\n",
       "      <td>Viral</td>\n",
       "    </tr>\n",
       "    <tr>\n",
       "      <th>2</th>\n",
       "      <td>AFRO2019120300002</td>\n",
       "      <td>Eritrea Observed World AIDS Day 2019</td>\n",
       "      <td>https://www.afro.who.int/news/eritrea-observed...</td>\n",
       "      <td>2019-12-03 00:00:18.0</td>\n",
       "      <td>2019-12-02 00:00:00</td>\n",
       "      <td>AFRO</td>\n",
       "      <td>Acquired immuno deficiency syndrome</td>\n",
       "      <td>Viral</td>\n",
       "    </tr>\n",
       "    <tr>\n",
       "      <th>3</th>\n",
       "      <td>AFRO2019120400003</td>\n",
       "      <td>West and Central Africa Expands Access to HIV ...</td>\n",
       "      <td>https://www.afro.who.int/news/west-and-central...</td>\n",
       "      <td>2019-12-04 03:00:14.0</td>\n",
       "      <td>2019-12-03 00:00:00</td>\n",
       "      <td>AFRO</td>\n",
       "      <td>Acquired immuno deficiency syndrome</td>\n",
       "      <td>Viral</td>\n",
       "    </tr>\n",
       "    <tr>\n",
       "      <th>4</th>\n",
       "      <td>AFRO2019120400004</td>\n",
       "      <td>Nearly 23 million voluntary male medical circu...</td>\n",
       "      <td>https://www.afro.who.int/news/nearly-23-millio...</td>\n",
       "      <td>2019-12-04 22:00:14.0</td>\n",
       "      <td>2019-12-04 00:00:00</td>\n",
       "      <td>AFRO</td>\n",
       "      <td>Acquired immuno deficiency syndrome</td>\n",
       "      <td>Viral</td>\n",
       "    </tr>\n",
       "  </tbody>\n",
       "</table>\n",
       "</div>"
      ],
      "text/plain": [
       "                 파일명                                                 제목  \\\n",
       "0  AFRO2019120200003  WHO supports Angola’s Government efforts to en...   \n",
       "1  AFRO2019120300001  African First Ladies laud progress against HIV...   \n",
       "2  AFRO2019120300002               Eritrea Observed World AIDS Day 2019   \n",
       "3  AFRO2019120400003  West and Central Africa Expands Access to HIV ...   \n",
       "4  AFRO2019120400004  Nearly 23 million voluntary male medical circu...   \n",
       "\n",
       "                                                 URL                   수집일자  \\\n",
       "0  https://www.afro.who.int/news/who-supports-ang...  2019-12-02 21:00:16.0   \n",
       "1  https://www.afro.who.int/news/african-first-la...  2019-12-03 00:00:17.0   \n",
       "2  https://www.afro.who.int/news/eritrea-observed...  2019-12-03 00:00:18.0   \n",
       "3  https://www.afro.who.int/news/west-and-central...  2019-12-04 03:00:14.0   \n",
       "4  https://www.afro.who.int/news/nearly-23-millio...  2019-12-04 22:00:14.0   \n",
       "\n",
       "                  게시일자   채널명                                 감염병명    분류명  \n",
       "0  2019-12-02 00:00:00  AFRO                        Poliomyelitis  Viral  \n",
       "1  2019-12-02 00:00:00  AFRO  Acquired immuno deficiency syndrome  Viral  \n",
       "2  2019-12-02 00:00:00  AFRO  Acquired immuno deficiency syndrome  Viral  \n",
       "3  2019-12-03 00:00:00  AFRO  Acquired immuno deficiency syndrome  Viral  \n",
       "4  2019-12-04 00:00:00  AFRO  Acquired immuno deficiency syndrome  Viral  "
      ]
     },
     "execution_count": 138,
     "metadata": {},
     "output_type": "execute_result"
    }
   ],
   "source": [
    "viral_news.head()"
   ]
  },
  {
   "cell_type": "code",
   "execution_count": 137,
   "metadata": {},
   "outputs": [
    {
     "data": {
      "text/plain": [
       "array(['AFRO', 'All africa', 'Al jazeera', 'BBC', 'CBC', 'CDC Taiwan',\n",
       "       'Centre for Health Protection',\n",
       "       'CIDARS (China Infectious Disease Automated Alert and Re sponse System)',\n",
       "       'CIDRAP', 'CNN', 'Dantri Vietnam', 'Disease Daily', 'ECDC', 'EFSA',\n",
       "       'WHO/EMRO', 'Flu Trackers', 'GEIS',\n",
       "       'GOARN (Global Outbreak Alert and Response Network)', 'GPHIN',\n",
       "       'Health Canada', 'HealthMap', 'MediSys', 'Ministry of Health',\n",
       "       'Ministry of Health(Saudi Arabia)', 'CDC Nigeria',\n",
       "       'Outbreak News Today', 'Reliefweb', 'WHO/PAHO',\n",
       "       'Public Health England', 'ProMED', 'REUTERS', 'WHO/SEARO', 'SINA',\n",
       "       'Tuoitre', 'VCDC', 'WAHIS', 'WHO/DONs', 'WHO/News', 'WHO/IHR',\n",
       "       'Wuhan Municipal Health Commission', 'Xinhua',\n",
       "       'Shanghai Municioal Health Commission',\n",
       "       'Health Commission of Guangdong Province'], dtype=object)"
      ]
     },
     "execution_count": 137,
     "metadata": {},
     "output_type": "execute_result"
    }
   ],
   "source": [
    "viral_news['채널명'].unique()"
   ]
  },
  {
   "cell_type": "code",
   "execution_count": 147,
   "metadata": {},
   "outputs": [
    {
     "data": {
      "text/plain": [
       "'2019-12-02'"
      ]
     },
     "execution_count": 147,
     "metadata": {},
     "output_type": "execute_result"
    }
   ],
   "source": [
    "viral_news['수집일자'][0][:10]"
   ]
  },
  {
   "cell_type": "code",
   "execution_count": 151,
   "metadata": {},
   "outputs": [
    {
     "name": "stderr",
     "output_type": "stream",
     "text": [
      "C:\\Users\\Joshua\\Anaconda3\\envs\\pytorch\\lib\\site-packages\\ipykernel_launcher.py:1: SettingWithCopyWarning: \n",
      "A value is trying to be set on a copy of a slice from a DataFrame.\n",
      "Try using .loc[row_indexer,col_indexer] = value instead\n",
      "\n",
      "See the caveats in the documentation: https://pandas.pydata.org/pandas-docs/stable/user_guide/indexing.html#returning-a-view-versus-a-copy\n",
      "  \"\"\"Entry point for launching an IPython kernel.\n",
      "C:\\Users\\Joshua\\Anaconda3\\envs\\pytorch\\lib\\site-packages\\ipykernel_launcher.py:2: SettingWithCopyWarning: \n",
      "A value is trying to be set on a copy of a slice from a DataFrame.\n",
      "Try using .loc[row_indexer,col_indexer] = value instead\n",
      "\n",
      "See the caveats in the documentation: https://pandas.pydata.org/pandas-docs/stable/user_guide/indexing.html#returning-a-view-versus-a-copy\n",
      "  \n"
     ]
    }
   ],
   "source": [
    "viral_news['date'] = viral_news['수집일자'].apply(lambda x: x[:10])\n",
    "viral_news['date'] = pd.to_datetime(viral_news['date'], format='%Y-%m-%d')"
   ]
  },
  {
   "cell_type": "code",
   "execution_count": 154,
   "metadata": {},
   "outputs": [
    {
     "data": {
      "text/plain": [
       "count                   57272\n",
       "unique                    118\n",
       "top       2020-03-31 00:00:00\n",
       "freq                     1183\n",
       "first     2019-12-01 00:00:00\n",
       "last      2020-04-01 00:00:00\n",
       "Name: date, dtype: object"
      ]
     },
     "execution_count": 154,
     "metadata": {},
     "output_type": "execute_result"
    }
   ],
   "source": [
    "viral_news['date'].describe()"
   ]
  },
  {
   "cell_type": "code",
   "execution_count": 155,
   "metadata": {},
   "outputs": [
    {
     "data": {
      "text/plain": [
       "Timedelta('122 days 00:00:00')"
      ]
     },
     "execution_count": 155,
     "metadata": {},
     "output_type": "execute_result"
    }
   ],
   "source": [
    "# 총 122일 동안의 기사들이다.\n",
    "max(viral_news['date']) - min(viral_news['date'])"
   ]
  },
  {
   "cell_type": "code",
   "execution_count": null,
   "metadata": {},
   "outputs": [],
   "source": []
  }
 ],
 "metadata": {
  "kernelspec": {
   "display_name": "Python 3",
   "language": "python",
   "name": "python3"
  },
  "language_info": {
   "codemirror_mode": {
    "name": "ipython",
    "version": 3
   },
   "file_extension": ".py",
   "mimetype": "text/x-python",
   "name": "python",
   "nbconvert_exporter": "python",
   "pygments_lexer": "ipython3",
   "version": "3.7.6"
  }
 },
 "nbformat": 4,
 "nbformat_minor": 4
}
