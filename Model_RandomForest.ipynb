{
 "cells": [
  {
   "cell_type": "code",
   "execution_count": 845,
   "metadata": {},
   "outputs": [],
   "source": [
    "import pandas as pd\n",
    "import numpy as np\n",
    "import matplotlib.pyplot as plt\n",
    "%matplotlib inline\n",
    "import seaborn as sns\n",
    "\n",
    "from matplotlib import font_manager, rc\n",
    "font_name = font_manager.FontProperties(fname=\"c:/Windows/Fonts/malgun.ttf\").get_name()\n",
    "rc('font', family=font_name)\n",
    "\n",
    "import warnings\n",
    "warnings.filterwarnings('ignore')"
   ]
  },
  {
   "cell_type": "markdown",
   "metadata": {},
   "source": [
    "https://www.programcreek.com/python/example/86074/sklearn.ensemble.RandomForestRegressor"
   ]
  },
  {
   "cell_type": "code",
   "execution_count": 846,
   "metadata": {},
   "outputs": [],
   "source": [
    "df = pd.read_csv('./data/final_0507.csv')"
   ]
  },
  {
   "cell_type": "code",
   "execution_count": 847,
   "metadata": {},
   "outputs": [],
   "source": [
    "#df = df[63:]"
   ]
  },
  {
   "cell_type": "code",
   "execution_count": 848,
   "metadata": {},
   "outputs": [],
   "source": [
    "df.drop(['Unnamed: 0'], axis=1, inplace=True)\n",
    "#df.set_index('Date', inplace=True)\n",
    "# df['TARGET'] = df['TARGET'].diff()\n",
    "# df['TARGET'].iloc[0] = 0"
   ]
  },
  {
   "cell_type": "code",
   "execution_count": 849,
   "metadata": {},
   "outputs": [],
   "source": [
    "# for i in ['EURO_conf','CHINA_conf','ASIA_conf','AMERICA_conf']:\n",
    "#     tmp = \"{}\".format(i)\n",
    "#     df[tmp] = df[tmp].diff()\n",
    "#     df[tmp].iloc[0] = 0"
   ]
  },
  {
   "cell_type": "code",
   "execution_count": 850,
   "metadata": {},
   "outputs": [],
   "source": [
    "cols = list(df.columns)\n",
    "cols.remove('Date')"
   ]
  },
  {
   "cell_type": "code",
   "execution_count": 851,
   "metadata": {},
   "outputs": [],
   "source": [
    "df[cols] = df[cols].astype(int)"
   ]
  },
  {
   "cell_type": "code",
   "execution_count": 852,
   "metadata": {},
   "outputs": [
    {
     "data": {
      "text/html": [
       "<div>\n",
       "<style scoped>\n",
       "    .dataframe tbody tr th:only-of-type {\n",
       "        vertical-align: middle;\n",
       "    }\n",
       "\n",
       "    .dataframe tbody tr th {\n",
       "        vertical-align: top;\n",
       "    }\n",
       "\n",
       "    .dataframe thead th {\n",
       "        text-align: right;\n",
       "    }\n",
       "</style>\n",
       "<table border=\"1\" class=\"dataframe\">\n",
       "  <thead>\n",
       "    <tr style=\"text-align: right;\">\n",
       "      <th></th>\n",
       "      <th>Date</th>\n",
       "      <th>MM_conf</th>\n",
       "      <th>LA_conf</th>\n",
       "      <th>NL_conf</th>\n",
       "      <th>PH_conf</th>\n",
       "      <th>RU_conf</th>\n",
       "      <th>KR</th>\n",
       "      <th>TW_conf</th>\n",
       "      <th>US_conf</th>\n",
       "      <th>AE_conf</th>\n",
       "      <th>...</th>\n",
       "      <th>DE_roam</th>\n",
       "      <th>JP_roam</th>\n",
       "      <th>TH_roam</th>\n",
       "      <th>VN_roam</th>\n",
       "      <th>US_roam</th>\n",
       "      <th>CN_roam</th>\n",
       "      <th>news</th>\n",
       "      <th>covid_tr</th>\n",
       "      <th>coro_tr</th>\n",
       "      <th>target</th>\n",
       "    </tr>\n",
       "  </thead>\n",
       "  <tbody>\n",
       "    <tr>\n",
       "      <th>0</th>\n",
       "      <td>2020-01-22</td>\n",
       "      <td>0</td>\n",
       "      <td>0</td>\n",
       "      <td>0</td>\n",
       "      <td>0</td>\n",
       "      <td>0</td>\n",
       "      <td>0</td>\n",
       "      <td>0</td>\n",
       "      <td>0</td>\n",
       "      <td>0</td>\n",
       "      <td>...</td>\n",
       "      <td>450</td>\n",
       "      <td>2717</td>\n",
       "      <td>1382</td>\n",
       "      <td>2592</td>\n",
       "      <td>701</td>\n",
       "      <td>2453</td>\n",
       "      <td>430</td>\n",
       "      <td>0</td>\n",
       "      <td>1</td>\n",
       "      <td>0</td>\n",
       "    </tr>\n",
       "    <tr>\n",
       "      <th>1</th>\n",
       "      <td>2020-01-23</td>\n",
       "      <td>0</td>\n",
       "      <td>0</td>\n",
       "      <td>0</td>\n",
       "      <td>0</td>\n",
       "      <td>0</td>\n",
       "      <td>0</td>\n",
       "      <td>0</td>\n",
       "      <td>0</td>\n",
       "      <td>0</td>\n",
       "      <td>...</td>\n",
       "      <td>476</td>\n",
       "      <td>2520</td>\n",
       "      <td>1259</td>\n",
       "      <td>2338</td>\n",
       "      <td>943</td>\n",
       "      <td>2188</td>\n",
       "      <td>452</td>\n",
       "      <td>0</td>\n",
       "      <td>5</td>\n",
       "      <td>0</td>\n",
       "    </tr>\n",
       "    <tr>\n",
       "      <th>2</th>\n",
       "      <td>2020-01-24</td>\n",
       "      <td>0</td>\n",
       "      <td>0</td>\n",
       "      <td>0</td>\n",
       "      <td>0</td>\n",
       "      <td>0</td>\n",
       "      <td>1</td>\n",
       "      <td>2</td>\n",
       "      <td>1</td>\n",
       "      <td>0</td>\n",
       "      <td>...</td>\n",
       "      <td>564</td>\n",
       "      <td>2448</td>\n",
       "      <td>1069</td>\n",
       "      <td>2251</td>\n",
       "      <td>864</td>\n",
       "      <td>1698</td>\n",
       "      <td>421</td>\n",
       "      <td>0</td>\n",
       "      <td>5</td>\n",
       "      <td>1</td>\n",
       "    </tr>\n",
       "    <tr>\n",
       "      <th>3</th>\n",
       "      <td>2020-01-25</td>\n",
       "      <td>0</td>\n",
       "      <td>0</td>\n",
       "      <td>0</td>\n",
       "      <td>0</td>\n",
       "      <td>0</td>\n",
       "      <td>0</td>\n",
       "      <td>0</td>\n",
       "      <td>0</td>\n",
       "      <td>0</td>\n",
       "      <td>...</td>\n",
       "      <td>395</td>\n",
       "      <td>2542</td>\n",
       "      <td>1031</td>\n",
       "      <td>2336</td>\n",
       "      <td>828</td>\n",
       "      <td>1403</td>\n",
       "      <td>506</td>\n",
       "      <td>0</td>\n",
       "      <td>7</td>\n",
       "      <td>0</td>\n",
       "    </tr>\n",
       "    <tr>\n",
       "      <th>4</th>\n",
       "      <td>2020-01-26</td>\n",
       "      <td>0</td>\n",
       "      <td>0</td>\n",
       "      <td>0</td>\n",
       "      <td>0</td>\n",
       "      <td>0</td>\n",
       "      <td>1</td>\n",
       "      <td>1</td>\n",
       "      <td>3</td>\n",
       "      <td>0</td>\n",
       "      <td>...</td>\n",
       "      <td>377</td>\n",
       "      <td>4823</td>\n",
       "      <td>1477</td>\n",
       "      <td>2695</td>\n",
       "      <td>900</td>\n",
       "      <td>2508</td>\n",
       "      <td>552</td>\n",
       "      <td>0</td>\n",
       "      <td>8</td>\n",
       "      <td>1</td>\n",
       "    </tr>\n",
       "  </tbody>\n",
       "</table>\n",
       "<p>5 rows × 84 columns</p>\n",
       "</div>"
      ],
      "text/plain": [
       "         Date  MM_conf  LA_conf  NL_conf  PH_conf  RU_conf  KR  TW_conf  \\\n",
       "0  2020-01-22        0        0        0        0        0   0        0   \n",
       "1  2020-01-23        0        0        0        0        0   0        0   \n",
       "2  2020-01-24        0        0        0        0        0   1        2   \n",
       "3  2020-01-25        0        0        0        0        0   0        0   \n",
       "4  2020-01-26        0        0        0        0        0   1        1   \n",
       "\n",
       "   US_conf  AE_conf  ...  DE_roam  JP_roam  TH_roam  VN_roam  US_roam  \\\n",
       "0        0        0  ...      450     2717     1382     2592      701   \n",
       "1        0        0  ...      476     2520     1259     2338      943   \n",
       "2        1        0  ...      564     2448     1069     2251      864   \n",
       "3        0        0  ...      395     2542     1031     2336      828   \n",
       "4        3        0  ...      377     4823     1477     2695      900   \n",
       "\n",
       "   CN_roam  news  covid_tr  coro_tr  target  \n",
       "0     2453   430         0        1       0  \n",
       "1     2188   452         0        5       0  \n",
       "2     1698   421         0        5       1  \n",
       "3     1403   506         0        7       0  \n",
       "4     2508   552         0        8       1  \n",
       "\n",
       "[5 rows x 84 columns]"
      ]
     },
     "execution_count": 852,
     "metadata": {},
     "output_type": "execute_result"
    }
   ],
   "source": [
    "df.head()"
   ]
  },
  {
   "cell_type": "code",
   "execution_count": 853,
   "metadata": {},
   "outputs": [
    {
     "data": {
      "text/plain": [
       "<matplotlib.axes._subplots.AxesSubplot at 0x20c720c9708>"
      ]
     },
     "execution_count": 853,
     "metadata": {},
     "output_type": "execute_result"
    },
    {
     "data": {
      "image/png": "[encoded data removed]",
      "text/plain": [
       "<Figure size 432x288 with 2 Axes>"
      ]
     },
     "metadata": {
      "needs_background": "light"
     },
     "output_type": "display_data"
    }
   ],
   "source": [
    "sns.heatmap(df.corr(), cmap='Blues')"
   ]
  },
  {
   "cell_type": "code",
   "execution_count": 854,
   "metadata": {},
   "outputs": [],
   "source": [
    "df.Date = pd.to_datetime(df.Date)\n",
    "df['dayofweek'] = df['Date'].dt.dayofweek\n",
    "df.set_index('Date', inplace=True)"
   ]
  },
  {
   "cell_type": "code",
   "execution_count": 855,
   "metadata": {},
   "outputs": [],
   "source": [
    "plt.style.use('ggplot')"
   ]
  },
  {
   "cell_type": "code",
   "execution_count": 856,
   "metadata": {},
   "outputs": [
    {
     "data": {
      "text/plain": [
       "array([<matplotlib.axes._subplots.AxesSubplot object at 0x0000020C727C4048>,\n",
       "       <matplotlib.axes._subplots.AxesSubplot object at 0x0000020C727E1748>,\n",
       "       <matplotlib.axes._subplots.AxesSubplot object at 0x0000020C727C4BC8>,\n",
       "       <matplotlib.axes._subplots.AxesSubplot object at 0x0000020C72850A48>],\n",
       "      dtype=object)"
      ]
     },
     "execution_count": 856,
     "metadata": {},
     "output_type": "execute_result"
    },
    {
     "data": {
      "image/png": "[encoded data removed]",
      "text/plain": [
       "<Figure size 720x1440 with 4 Axes>"
      ]
     },
     "metadata": {},
     "output_type": "display_data"
    }
   ],
   "source": [
    "df[['target','news','covid_tr','KR']].plot(subplots=True, figsize=(10,20))"
   ]
  },
  {
   "cell_type": "markdown",
   "metadata": {},
   "source": [
    "## lag 변수 생성"
   ]
  },
  {
   "cell_type": "code",
   "execution_count": 857,
   "metadata": {},
   "outputs": [],
   "source": [
    "lag_amount = 3\n",
    "\n",
    "for i in range(lag_amount):\n",
    "    df['lag{}'.format(i+1)] = df['target'].shift(i+1)\n",
    "    \n",
    "df.dropna(inplace=True)"
   ]
  },
  {
   "cell_type": "code",
   "execution_count": 858,
   "metadata": {},
   "outputs": [
    {
     "data": {
      "text/html": [
       "<div>\n",
       "<style scoped>\n",
       "    .dataframe tbody tr th:only-of-type {\n",
       "        vertical-align: middle;\n",
       "    }\n",
       "\n",
       "    .dataframe tbody tr th {\n",
       "        vertical-align: top;\n",
       "    }\n",
       "\n",
       "    .dataframe thead th {\n",
       "        text-align: right;\n",
       "    }\n",
       "</style>\n",
       "<table border=\"1\" class=\"dataframe\">\n",
       "  <thead>\n",
       "    <tr style=\"text-align: right;\">\n",
       "      <th></th>\n",
       "      <th>MM_conf</th>\n",
       "      <th>LA_conf</th>\n",
       "      <th>NL_conf</th>\n",
       "      <th>PH_conf</th>\n",
       "      <th>RU_conf</th>\n",
       "      <th>KR</th>\n",
       "      <th>TW_conf</th>\n",
       "      <th>US_conf</th>\n",
       "      <th>AE_conf</th>\n",
       "      <th>GB_conf</th>\n",
       "      <th>...</th>\n",
       "      <th>US_roam</th>\n",
       "      <th>CN_roam</th>\n",
       "      <th>news</th>\n",
       "      <th>covid_tr</th>\n",
       "      <th>coro_tr</th>\n",
       "      <th>target</th>\n",
       "      <th>dayofweek</th>\n",
       "      <th>lag1</th>\n",
       "      <th>lag2</th>\n",
       "      <th>lag3</th>\n",
       "    </tr>\n",
       "    <tr>\n",
       "      <th>Date</th>\n",
       "      <th></th>\n",
       "      <th></th>\n",
       "      <th></th>\n",
       "      <th></th>\n",
       "      <th></th>\n",
       "      <th></th>\n",
       "      <th></th>\n",
       "      <th></th>\n",
       "      <th></th>\n",
       "      <th></th>\n",
       "      <th></th>\n",
       "      <th></th>\n",
       "      <th></th>\n",
       "      <th></th>\n",
       "      <th></th>\n",
       "      <th></th>\n",
       "      <th></th>\n",
       "      <th></th>\n",
       "      <th></th>\n",
       "      <th></th>\n",
       "      <th></th>\n",
       "    </tr>\n",
       "  </thead>\n",
       "  <tbody>\n",
       "    <tr>\n",
       "      <th>2020-01-25</th>\n",
       "      <td>0</td>\n",
       "      <td>0</td>\n",
       "      <td>0</td>\n",
       "      <td>0</td>\n",
       "      <td>0</td>\n",
       "      <td>0</td>\n",
       "      <td>0</td>\n",
       "      <td>0</td>\n",
       "      <td>0</td>\n",
       "      <td>0</td>\n",
       "      <td>...</td>\n",
       "      <td>828</td>\n",
       "      <td>1403</td>\n",
       "      <td>506</td>\n",
       "      <td>0</td>\n",
       "      <td>7</td>\n",
       "      <td>0</td>\n",
       "      <td>5</td>\n",
       "      <td>1.0</td>\n",
       "      <td>0.0</td>\n",
       "      <td>0.0</td>\n",
       "    </tr>\n",
       "    <tr>\n",
       "      <th>2020-01-26</th>\n",
       "      <td>0</td>\n",
       "      <td>0</td>\n",
       "      <td>0</td>\n",
       "      <td>0</td>\n",
       "      <td>0</td>\n",
       "      <td>1</td>\n",
       "      <td>1</td>\n",
       "      <td>3</td>\n",
       "      <td>0</td>\n",
       "      <td>0</td>\n",
       "      <td>...</td>\n",
       "      <td>900</td>\n",
       "      <td>2508</td>\n",
       "      <td>552</td>\n",
       "      <td>0</td>\n",
       "      <td>8</td>\n",
       "      <td>1</td>\n",
       "      <td>6</td>\n",
       "      <td>0.0</td>\n",
       "      <td>1.0</td>\n",
       "      <td>0.0</td>\n",
       "    </tr>\n",
       "    <tr>\n",
       "      <th>2020-01-27</th>\n",
       "      <td>0</td>\n",
       "      <td>0</td>\n",
       "      <td>0</td>\n",
       "      <td>0</td>\n",
       "      <td>0</td>\n",
       "      <td>1</td>\n",
       "      <td>1</td>\n",
       "      <td>0</td>\n",
       "      <td>0</td>\n",
       "      <td>0</td>\n",
       "      <td>...</td>\n",
       "      <td>1130</td>\n",
       "      <td>3133</td>\n",
       "      <td>576</td>\n",
       "      <td>0</td>\n",
       "      <td>13</td>\n",
       "      <td>1</td>\n",
       "      <td>0</td>\n",
       "      <td>1.0</td>\n",
       "      <td>0.0</td>\n",
       "      <td>1.0</td>\n",
       "    </tr>\n",
       "    <tr>\n",
       "      <th>2020-01-28</th>\n",
       "      <td>0</td>\n",
       "      <td>0</td>\n",
       "      <td>0</td>\n",
       "      <td>0</td>\n",
       "      <td>0</td>\n",
       "      <td>0</td>\n",
       "      <td>3</td>\n",
       "      <td>0</td>\n",
       "      <td>0</td>\n",
       "      <td>0</td>\n",
       "      <td>...</td>\n",
       "      <td>1009</td>\n",
       "      <td>2150</td>\n",
       "      <td>711</td>\n",
       "      <td>0</td>\n",
       "      <td>17</td>\n",
       "      <td>0</td>\n",
       "      <td>1</td>\n",
       "      <td>1.0</td>\n",
       "      <td>1.0</td>\n",
       "      <td>0.0</td>\n",
       "    </tr>\n",
       "    <tr>\n",
       "      <th>2020-01-29</th>\n",
       "      <td>0</td>\n",
       "      <td>0</td>\n",
       "      <td>0</td>\n",
       "      <td>0</td>\n",
       "      <td>0</td>\n",
       "      <td>0</td>\n",
       "      <td>0</td>\n",
       "      <td>0</td>\n",
       "      <td>4</td>\n",
       "      <td>0</td>\n",
       "      <td>...</td>\n",
       "      <td>829</td>\n",
       "      <td>1966</td>\n",
       "      <td>906</td>\n",
       "      <td>0</td>\n",
       "      <td>12</td>\n",
       "      <td>0</td>\n",
       "      <td>2</td>\n",
       "      <td>0.0</td>\n",
       "      <td>1.0</td>\n",
       "      <td>1.0</td>\n",
       "    </tr>\n",
       "  </tbody>\n",
       "</table>\n",
       "<p>5 rows × 87 columns</p>\n",
       "</div>"
      ],
      "text/plain": [
       "            MM_conf  LA_conf  NL_conf  PH_conf  RU_conf  KR  TW_conf  US_conf  \\\n",
       "Date                                                                            \n",
       "2020-01-25        0        0        0        0        0   0        0        0   \n",
       "2020-01-26        0        0        0        0        0   1        1        3   \n",
       "2020-01-27        0        0        0        0        0   1        1        0   \n",
       "2020-01-28        0        0        0        0        0   0        3        0   \n",
       "2020-01-29        0        0        0        0        0   0        0        0   \n",
       "\n",
       "            AE_conf  GB_conf  ...  US_roam  CN_roam  news  covid_tr  coro_tr  \\\n",
       "Date                          ...                                              \n",
       "2020-01-25        0        0  ...      828     1403   506         0        7   \n",
       "2020-01-26        0        0  ...      900     2508   552         0        8   \n",
       "2020-01-27        0        0  ...     1130     3133   576         0       13   \n",
       "2020-01-28        0        0  ...     1009     2150   711         0       17   \n",
       "2020-01-29        4        0  ...      829     1966   906         0       12   \n",
       "\n",
       "            target  dayofweek  lag1  lag2  lag3  \n",
       "Date                                             \n",
       "2020-01-25       0          5   1.0   0.0   0.0  \n",
       "2020-01-26       1          6   0.0   1.0   0.0  \n",
       "2020-01-27       1          0   1.0   0.0   1.0  \n",
       "2020-01-28       0          1   1.0   1.0   0.0  \n",
       "2020-01-29       0          2   0.0   1.0   1.0  \n",
       "\n",
       "[5 rows x 87 columns]"
      ]
     },
     "execution_count": 858,
     "metadata": {},
     "output_type": "execute_result"
    }
   ],
   "source": [
    "df.head()"
   ]
  },
  {
   "cell_type": "markdown",
   "metadata": {},
   "source": [
    "## Feature Selection"
   ]
  },
  {
   "cell_type": "code",
   "execution_count": 859,
   "metadata": {},
   "outputs": [],
   "source": [
    "from sklearn.ensemble import RandomForestRegressor\n",
    "from sklearn.model_selection import GridSearchCV"
   ]
  },
  {
   "cell_type": "code",
   "execution_count": 894,
   "metadata": {},
   "outputs": [],
   "source": [
    "X_cols = list(df.columns)\n",
    "X_cols.remove('target')\n",
    "\n",
    "X_cols.remove('NZ_conf')\n",
    "X_cols.remove('lag1')\n",
    "X_cols.remove('DE_conf')"
   ]
  },
  {
   "cell_type": "code",
   "execution_count": 895,
   "metadata": {},
   "outputs": [],
   "source": [
    "# X변수들과 y변수 구분\n",
    "X = df[X_cols]\n",
    "y = df['target']"
   ]
  },
  {
   "cell_type": "code",
   "execution_count": 868,
   "metadata": {},
   "outputs": [
    {
     "data": {
      "text/plain": [
       "RandomForestRegressor(bootstrap=True, ccp_alpha=0.0, criterion='mse',\n",
       "                      max_depth=None, max_features='auto', max_leaf_nodes=None,\n",
       "                      max_samples=None, min_impurity_decrease=0.0,\n",
       "                      min_impurity_split=None, min_samples_leaf=1,\n",
       "                      min_samples_split=2, min_weight_fraction_leaf=0.0,\n",
       "                      n_estimators=100, n_jobs=None, oob_score=False,\n",
       "                      random_state=None, verbose=0, warm_start=False)"
      ]
     },
     "execution_count": 868,
     "metadata": {},
     "output_type": "execute_result"
    }
   ],
   "source": [
    "rf = RandomForestRegressor()\n",
    "rf.fit(X, y)"
   ]
  },
  {
   "cell_type": "code",
   "execution_count": 823,
   "metadata": {},
   "outputs": [],
   "source": [
    "param_grid = { \n",
    "    'n_estimators': [100, 200, 500],\n",
    "    'max_features': ['auto', 'sqrt', 'log2'],\n",
    "    'min_samples_split' : [5, 6, 7, 8],\n",
    "    'max_depth' : [4,5,6,7,8],\n",
    "}"
   ]
  },
  {
   "cell_type": "code",
   "execution_count": 740,
   "metadata": {},
   "outputs": [],
   "source": [
    "# grid search\n",
    "CV_rfc = GridSearchCV(estimator=rf, param_grid=param_grid, cv=5)"
   ]
  },
  {
   "cell_type": "code",
   "execution_count": 741,
   "metadata": {},
   "outputs": [
    {
     "data": {
      "text/plain": [
       "GridSearchCV(cv=5, error_score=nan,\n",
       "             estimator=RandomForestRegressor(bootstrap=True, ccp_alpha=0.0,\n",
       "                                             criterion='mse', max_depth=None,\n",
       "                                             max_features='auto',\n",
       "                                             max_leaf_nodes=None,\n",
       "                                             max_samples=None,\n",
       "                                             min_impurity_decrease=0.0,\n",
       "                                             min_impurity_split=None,\n",
       "                                             min_samples_leaf=1,\n",
       "                                             min_samples_split=2,\n",
       "                                             min_weight_fraction_leaf=0.0,\n",
       "                                             n_estimators=100, n_jobs=None,\n",
       "                                             oob_score=False, random_state=None,\n",
       "                                             verbose=0, warm_start=False),\n",
       "             iid='deprecated', n_jobs=None,\n",
       "             param_grid={'max_depth': [4, 5, 6, 7, 8],\n",
       "                         'max_features': ['auto', 'sqrt', 'log2'],\n",
       "                         'min_samples_split': [5, 6, 7, 8],\n",
       "                         'n_estimators': [100, 200, 500]},\n",
       "             pre_dispatch='2*n_jobs', refit=True, return_train_score=False,\n",
       "             scoring=None, verbose=0)"
      ]
     },
     "execution_count": 741,
     "metadata": {},
     "output_type": "execute_result"
    }
   ],
   "source": [
    "CV_rfc"
   ]
  },
  {
   "cell_type": "code",
   "execution_count": 742,
   "metadata": {},
   "outputs": [
    {
     "data": {
      "text/plain": [
       "GridSearchCV(cv=5, error_score=nan,\n",
       "             estimator=RandomForestRegressor(bootstrap=True, ccp_alpha=0.0,\n",
       "                                             criterion='mse', max_depth=None,\n",
       "                                             max_features='auto',\n",
       "                                             max_leaf_nodes=None,\n",
       "                                             max_samples=None,\n",
       "                                             min_impurity_decrease=0.0,\n",
       "                                             min_impurity_split=None,\n",
       "                                             min_samples_leaf=1,\n",
       "                                             min_samples_split=2,\n",
       "                                             min_weight_fraction_leaf=0.0,\n",
       "                                             n_estimators=100, n_jobs=None,\n",
       "                                             oob_score=False, random_state=None,\n",
       "                                             verbose=0, warm_start=False),\n",
       "             iid='deprecated', n_jobs=None,\n",
       "             param_grid={'max_depth': [4, 5, 6, 7, 8],\n",
       "                         'max_features': ['auto', 'sqrt', 'log2'],\n",
       "                         'min_samples_split': [5, 6, 7, 8],\n",
       "                         'n_estimators': [100, 200, 500]},\n",
       "             pre_dispatch='2*n_jobs', refit=True, return_train_score=False,\n",
       "             scoring=None, verbose=0)"
      ]
     },
     "execution_count": 742,
     "metadata": {},
     "output_type": "execute_result"
    }
   ],
   "source": [
    "CV_rfc.fit(X, y)"
   ]
  },
  {
   "cell_type": "code",
   "execution_count": 743,
   "metadata": {},
   "outputs": [
    {
     "data": {
      "text/plain": [
       "{'max_depth': 5,\n",
       " 'max_features': 'auto',\n",
       " 'min_samples_split': 5,\n",
       " 'n_estimators': 100}"
      ]
     },
     "execution_count": 743,
     "metadata": {},
     "output_type": "execute_result"
    }
   ],
   "source": [
    "CV_rfc.best_params_"
   ]
  },
  {
   "cell_type": "code",
   "execution_count": 896,
   "metadata": {},
   "outputs": [
    {
     "data": {
      "text/plain": [
       "RandomForestRegressor(bootstrap=True, ccp_alpha=0.0, criterion='mse',\n",
       "                      max_depth=5, max_features='auto', max_leaf_nodes=None,\n",
       "                      max_samples=None, min_impurity_decrease=0.0,\n",
       "                      min_impurity_split=None, min_samples_leaf=1,\n",
       "                      min_samples_split=5, min_weight_fraction_leaf=0.0,\n",
       "                      n_estimators=100, n_jobs=None, oob_score=False,\n",
       "                      random_state=None, verbose=0, warm_start=False)"
      ]
     },
     "execution_count": 896,
     "metadata": {},
     "output_type": "execute_result"
    }
   ],
   "source": [
    "# parameter 설정후에 다시 진행\n",
    "rf = RandomForestRegressor(n_estimators=100, max_depth=5,max_features='auto', min_samples_split=5)\n",
    "rf.fit(X, y)"
   ]
  },
  {
   "cell_type": "code",
   "execution_count": 897,
   "metadata": {},
   "outputs": [
    {
     "data": {
      "text/html": [
       "<div>\n",
       "<style scoped>\n",
       "    .dataframe tbody tr th:only-of-type {\n",
       "        vertical-align: middle;\n",
       "    }\n",
       "\n",
       "    .dataframe tbody tr th {\n",
       "        vertical-align: top;\n",
       "    }\n",
       "\n",
       "    .dataframe thead th {\n",
       "        text-align: right;\n",
       "    }\n",
       "</style>\n",
       "<table border=\"1\" class=\"dataframe\">\n",
       "  <thead>\n",
       "    <tr style=\"text-align: right;\">\n",
       "      <th></th>\n",
       "      <th>Feature</th>\n",
       "      <th>Importance</th>\n",
       "    </tr>\n",
       "  </thead>\n",
       "  <tbody>\n",
       "    <tr>\n",
       "      <th>82</th>\n",
       "      <td>lag3</td>\n",
       "      <td>0.131</td>\n",
       "    </tr>\n",
       "    <tr>\n",
       "      <th>36</th>\n",
       "      <td>TH_conf</td>\n",
       "      <td>0.118</td>\n",
       "    </tr>\n",
       "    <tr>\n",
       "      <th>78</th>\n",
       "      <td>covid_tr</td>\n",
       "      <td>0.104</td>\n",
       "    </tr>\n",
       "    <tr>\n",
       "      <th>16</th>\n",
       "      <td>HR_conf</td>\n",
       "      <td>0.092</td>\n",
       "    </tr>\n",
       "    <tr>\n",
       "      <th>17</th>\n",
       "      <td>CZ_conf</td>\n",
       "      <td>0.081</td>\n",
       "    </tr>\n",
       "    <tr>\n",
       "      <th>...</th>\n",
       "      <td>...</td>\n",
       "      <td>...</td>\n",
       "    </tr>\n",
       "    <tr>\n",
       "      <th>42</th>\n",
       "      <td>QA_roam</td>\n",
       "      <td>0.000</td>\n",
       "    </tr>\n",
       "    <tr>\n",
       "      <th>50</th>\n",
       "      <td>CH_roam</td>\n",
       "      <td>0.000</td>\n",
       "    </tr>\n",
       "    <tr>\n",
       "      <th>57</th>\n",
       "      <td>CA_roam</td>\n",
       "      <td>0.000</td>\n",
       "    </tr>\n",
       "    <tr>\n",
       "      <th>38</th>\n",
       "      <td>HR_roam</td>\n",
       "      <td>0.000</td>\n",
       "    </tr>\n",
       "    <tr>\n",
       "      <th>29</th>\n",
       "      <td>MN_conf</td>\n",
       "      <td>0.000</td>\n",
       "    </tr>\n",
       "  </tbody>\n",
       "</table>\n",
       "<p>83 rows × 2 columns</p>\n",
       "</div>"
      ],
      "text/plain": [
       "     Feature  Importance\n",
       "82      lag3       0.131\n",
       "36   TH_conf       0.118\n",
       "78  covid_tr       0.104\n",
       "16   HR_conf       0.092\n",
       "17   CZ_conf       0.081\n",
       "..       ...         ...\n",
       "42   QA_roam       0.000\n",
       "50   CH_roam       0.000\n",
       "57   CA_roam       0.000\n",
       "38   HR_roam       0.000\n",
       "29   MN_conf       0.000\n",
       "\n",
       "[83 rows x 2 columns]"
      ]
     },
     "execution_count": 897,
     "metadata": {},
     "output_type": "execute_result"
    }
   ],
   "source": [
    "# tree.feature_importances_로 설명변수 중요도 확인 및 테이블로 저장\n",
    "df_importance = pd.DataFrame()\n",
    "df_importance['Feature'] = list(X.columns)\n",
    "df_importance['Importance'] = rf.feature_importances_\n",
    "\n",
    "# df_feature_importance의 테이블을 중요도별로 정렬\n",
    "df_importance.sort_values(\"Importance\", ascending = False, inplace = True)\n",
    "df_importance.round(3)"
   ]
  },
  {
   "cell_type": "code",
   "execution_count": 900,
   "metadata": {},
   "outputs": [
    {
     "data": {
      "text/html": [
       "<div>\n",
       "<style scoped>\n",
       "    .dataframe tbody tr th:only-of-type {\n",
       "        vertical-align: middle;\n",
       "    }\n",
       "\n",
       "    .dataframe tbody tr th {\n",
       "        vertical-align: top;\n",
       "    }\n",
       "\n",
       "    .dataframe thead th {\n",
       "        text-align: right;\n",
       "    }\n",
       "</style>\n",
       "<table border=\"1\" class=\"dataframe\">\n",
       "  <thead>\n",
       "    <tr style=\"text-align: right;\">\n",
       "      <th></th>\n",
       "      <th>Feature</th>\n",
       "      <th>Importance</th>\n",
       "    </tr>\n",
       "  </thead>\n",
       "  <tbody>\n",
       "    <tr>\n",
       "      <th>82</th>\n",
       "      <td>lag3</td>\n",
       "      <td>0.131285</td>\n",
       "    </tr>\n",
       "    <tr>\n",
       "      <th>36</th>\n",
       "      <td>TH_conf</td>\n",
       "      <td>0.117699</td>\n",
       "    </tr>\n",
       "    <tr>\n",
       "      <th>78</th>\n",
       "      <td>covid_tr</td>\n",
       "      <td>0.103878</td>\n",
       "    </tr>\n",
       "    <tr>\n",
       "      <th>16</th>\n",
       "      <td>HR_conf</td>\n",
       "      <td>0.092372</td>\n",
       "    </tr>\n",
       "    <tr>\n",
       "      <th>17</th>\n",
       "      <td>CZ_conf</td>\n",
       "      <td>0.080810</td>\n",
       "    </tr>\n",
       "    <tr>\n",
       "      <th>81</th>\n",
       "      <td>lag2</td>\n",
       "      <td>0.073731</td>\n",
       "    </tr>\n",
       "    <tr>\n",
       "      <th>35</th>\n",
       "      <td>CH_conf</td>\n",
       "      <td>0.056685</td>\n",
       "    </tr>\n",
       "    <tr>\n",
       "      <th>34</th>\n",
       "      <td>ES_conf</td>\n",
       "      <td>0.054646</td>\n",
       "    </tr>\n",
       "    <tr>\n",
       "      <th>11</th>\n",
       "      <td>AU_conf</td>\n",
       "      <td>0.049868</td>\n",
       "    </tr>\n",
       "    <tr>\n",
       "      <th>27</th>\n",
       "      <td>MY_conf</td>\n",
       "      <td>0.045259</td>\n",
       "    </tr>\n",
       "    <tr>\n",
       "      <th>24</th>\n",
       "      <td>IL_conf</td>\n",
       "      <td>0.036604</td>\n",
       "    </tr>\n",
       "    <tr>\n",
       "      <th>1</th>\n",
       "      <td>LA_conf</td>\n",
       "      <td>0.013049</td>\n",
       "    </tr>\n",
       "    <tr>\n",
       "      <th>21</th>\n",
       "      <td>HU_conf</td>\n",
       "      <td>0.012562</td>\n",
       "    </tr>\n",
       "    <tr>\n",
       "      <th>5</th>\n",
       "      <td>KR</td>\n",
       "      <td>0.009502</td>\n",
       "    </tr>\n",
       "    <tr>\n",
       "      <th>15</th>\n",
       "      <td>CN_conf</td>\n",
       "      <td>0.008290</td>\n",
       "    </tr>\n",
       "    <tr>\n",
       "      <th>2</th>\n",
       "      <td>NL_conf</td>\n",
       "      <td>0.007171</td>\n",
       "    </tr>\n",
       "    <tr>\n",
       "      <th>37</th>\n",
       "      <td>TR_conf</td>\n",
       "      <td>0.005976</td>\n",
       "    </tr>\n",
       "    <tr>\n",
       "      <th>71</th>\n",
       "      <td>DE_roam</td>\n",
       "      <td>0.004639</td>\n",
       "    </tr>\n",
       "    <tr>\n",
       "      <th>23</th>\n",
       "      <td>ID_conf</td>\n",
       "      <td>0.004558</td>\n",
       "    </tr>\n",
       "    <tr>\n",
       "      <th>28</th>\n",
       "      <td>MX_conf</td>\n",
       "      <td>0.003970</td>\n",
       "    </tr>\n",
       "    <tr>\n",
       "      <th>12</th>\n",
       "      <td>AT_conf</td>\n",
       "      <td>0.003701</td>\n",
       "    </tr>\n",
       "    <tr>\n",
       "      <th>33</th>\n",
       "      <td>SG_conf</td>\n",
       "      <td>0.003622</td>\n",
       "    </tr>\n",
       "    <tr>\n",
       "      <th>20</th>\n",
       "      <td>FR_conf</td>\n",
       "      <td>0.003459</td>\n",
       "    </tr>\n",
       "    <tr>\n",
       "      <th>14</th>\n",
       "      <td>CA_conf</td>\n",
       "      <td>0.003406</td>\n",
       "    </tr>\n",
       "    <tr>\n",
       "      <th>70</th>\n",
       "      <td>FR_roam</td>\n",
       "      <td>0.003148</td>\n",
       "    </tr>\n",
       "    <tr>\n",
       "      <th>54</th>\n",
       "      <td>IN_roam</td>\n",
       "      <td>0.003145</td>\n",
       "    </tr>\n",
       "    <tr>\n",
       "      <th>75</th>\n",
       "      <td>US_roam</td>\n",
       "      <td>0.002914</td>\n",
       "    </tr>\n",
       "    <tr>\n",
       "      <th>4</th>\n",
       "      <td>RU_conf</td>\n",
       "      <td>0.002852</td>\n",
       "    </tr>\n",
       "    <tr>\n",
       "      <th>66</th>\n",
       "      <td>PH_roam</td>\n",
       "      <td>0.002796</td>\n",
       "    </tr>\n",
       "    <tr>\n",
       "      <th>60</th>\n",
       "      <td>SG_roam</td>\n",
       "      <td>0.002574</td>\n",
       "    </tr>\n",
       "  </tbody>\n",
       "</table>\n",
       "</div>"
      ],
      "text/plain": [
       "     Feature  Importance\n",
       "82      lag3    0.131285\n",
       "36   TH_conf    0.117699\n",
       "78  covid_tr    0.103878\n",
       "16   HR_conf    0.092372\n",
       "17   CZ_conf    0.080810\n",
       "81      lag2    0.073731\n",
       "35   CH_conf    0.056685\n",
       "34   ES_conf    0.054646\n",
       "11   AU_conf    0.049868\n",
       "27   MY_conf    0.045259\n",
       "24   IL_conf    0.036604\n",
       "1    LA_conf    0.013049\n",
       "21   HU_conf    0.012562\n",
       "5         KR    0.009502\n",
       "15   CN_conf    0.008290\n",
       "2    NL_conf    0.007171\n",
       "37   TR_conf    0.005976\n",
       "71   DE_roam    0.004639\n",
       "23   ID_conf    0.004558\n",
       "28   MX_conf    0.003970\n",
       "12   AT_conf    0.003701\n",
       "33   SG_conf    0.003622\n",
       "20   FR_conf    0.003459\n",
       "14   CA_conf    0.003406\n",
       "70   FR_roam    0.003148\n",
       "54   IN_roam    0.003145\n",
       "75   US_roam    0.002914\n",
       "4    RU_conf    0.002852\n",
       "66   PH_roam    0.002796\n",
       "60   SG_roam    0.002574"
      ]
     },
     "execution_count": 900,
     "metadata": {},
     "output_type": "execute_result"
    }
   ],
   "source": [
    "df_importance.head(30)"
   ]
  },
  {
   "cell_type": "code",
   "execution_count": 877,
   "metadata": {},
   "outputs": [],
   "source": [
    "#df_importance.to_csv('feature_importance.csv')"
   ]
  },
  {
   "cell_type": "code",
   "execution_count": 901,
   "metadata": {},
   "outputs": [
    {
     "data": {
      "text/plain": [
       "Text(0, 0.5, '변수')"
      ]
     },
     "execution_count": 901,
     "metadata": {},
     "output_type": "execute_result"
    },
    {
     "data": {
      "image/png": "[encoded data removed]",
      "text/plain": [
       "<Figure size 432x288 with 1 Axes>"
      ]
     },
     "metadata": {},
     "output_type": "display_data"
    }
   ],
   "source": [
    "# 설명변수 중요도 그래\n",
    "# 중요도가 높은 변수를 상위에 그림\n",
    "# 상위 10개 확인\n",
    "df_importance1 = df_importance.head(30)\n",
    "df_importance1.sort_values(\"Importance\", ascending = True, inplace = True)\n",
    "coordinates = range(len(df_importance1))\n",
    "plt.barh(y = coordinates,\n",
    "        width = df_importance1['Importance'])\n",
    "plt.yticks(coordinates, df_importance1['Feature'])\n",
    "plt.xlabel('변수 중요도')\n",
    "plt.ylabel('변수')"
   ]
  },
  {
   "cell_type": "markdown",
   "metadata": {},
   "source": [
    "# Prediction"
   ]
  },
  {
   "cell_type": "code",
   "execution_count": 902,
   "metadata": {},
   "outputs": [],
   "source": [
    "new_x_cols = list(df_importance1['Feature'])"
   ]
  },
  {
   "cell_type": "code",
   "execution_count": 903,
   "metadata": {},
   "outputs": [],
   "source": [
    "#new_x_cols.remove('NZ_conf')"
   ]
  },
  {
   "cell_type": "code",
   "execution_count": 904,
   "metadata": {},
   "outputs": [],
   "source": [
    "X_cols = list(df.columns)\n",
    "X_cols.remove('target')\n",
    "\n",
    "\n",
    "# 테스트 데이터 수\n",
    "test_data_size = 14\n",
    "# X변수들과 y변수 구분\n",
    "\n",
    "# # 앞의 40개는 지우기\n",
    "# X = df[40:][new_x_cols]\n",
    "# y = df[40:]['target']\n",
    "\n",
    "X = df[X_cols]\n",
    "y = df['target']"
   ]
  },
  {
   "cell_type": "code",
   "execution_count": 905,
   "metadata": {},
   "outputs": [],
   "source": [
    "# Train, Test set split\n",
    "X_train, X_test = X[:-test_data_size], X[-test_data_size:]\n",
    "y_train, y_test = y[:-test_data_size], y[-test_data_size:]"
   ]
  },
  {
   "cell_type": "code",
   "execution_count": 906,
   "metadata": {},
   "outputs": [],
   "source": [
    "from sklearn.ensemble.forest import RandomForestRegressor"
   ]
  },
  {
   "cell_type": "code",
   "execution_count": 984,
   "metadata": {},
   "outputs": [],
   "source": [
    "# build our RF model\n",
    "RF_Model = RandomForestRegressor(n_estimators=110, max_features='auto', min_samples_split=8, min_samples_leaf=2, oob_score=True)\n",
    "\n",
    "# let's get the labels and features in order to run our \n",
    "# model fitting\n",
    "labels = y_train\n",
    "features = X_train\n",
    "\n",
    "# Fit the RF model with features and labels.\n",
    "rgr=RF_Model.fit(features, labels)"
   ]
  },
  {
   "cell_type": "code",
   "execution_count": 985,
   "metadata": {},
   "outputs": [],
   "source": [
    "# Now that we've run our models and fit it, let's create\n",
    "# dataframes to look at the results\n",
    "X_test_predict=pd.DataFrame(\n",
    "    rgr.predict(X_test)).rename(\n",
    "    columns={0:'predict'})\n",
    "X_train_predict=pd.DataFrame(\n",
    "    rgr.predict(X_train)).rename(\n",
    "    columns={0:'predict'})\n",
    "\n",
    "# combine the training and testing dataframes to visualize\n",
    "# and compare.\n",
    "RF_predict = X_train_predict.append(X_test_predict)"
   ]
  },
  {
   "cell_type": "code",
   "execution_count": 986,
   "metadata": {},
   "outputs": [
    {
     "data": {
      "text/plain": [
       "array([11.39166929, 11.88099174,  9.81602935,  8.74226549,  8.27156399,\n",
       "        8.05862668,  8.04865622,  8.54391366,  8.10439379,  8.26854438,\n",
       "        7.98746685,  8.37911351,  8.29870539,  7.99002096])"
      ]
     },
     "execution_count": 986,
     "metadata": {},
     "output_type": "execute_result"
    }
   ],
   "source": [
    "rgr.predict(X_test)"
   ]
  },
  {
   "cell_type": "code",
   "execution_count": 987,
   "metadata": {},
   "outputs": [],
   "source": [
    "RF_predict.set_index(pd.to_datetime(df.index, format='%Y%m%d'), inplace=True)"
   ]
  },
  {
   "cell_type": "code",
   "execution_count": 988,
   "metadata": {},
   "outputs": [
    {
     "data": {
      "text/plain": [
       "<matplotlib.axes._subplots.AxesSubplot at 0x20c77c3fec8>"
      ]
     },
     "execution_count": 988,
     "metadata": {},
     "output_type": "execute_result"
    },
    {
     "data": {
      "image/png": "[encoded data removed]",
      "text/plain": [
       "<Figure size 1440x360 with 1 Axes>"
      ]
     },
     "metadata": {},
     "output_type": "display_data"
    }
   ],
   "source": [
    "plt.figure(figsize=(20,5))\n",
    "RF_predict['diff']=RF_predict.predict - df.target\n",
    "RF_predict['diff'].plot(kind='bar')"
   ]
  },
  {
   "cell_type": "code",
   "execution_count": 989,
   "metadata": {},
   "outputs": [
    {
     "data": {
      "text/plain": [
       "<matplotlib.legend.Legend at 0x20c78b1eb08>"
      ]
     },
     "execution_count": 989,
     "metadata": {},
     "output_type": "execute_result"
    },
    {
     "data": {
      "image/png": "[encoded data removed]",
      "text/plain": [
       "<Figure size 1440x432 with 1 Axes>"
      ]
     },
     "metadata": {},
     "output_type": "display_data"
    }
   ],
   "source": [
    "plt.figure(figsize=(20,6))\n",
    "plt.plot(df['target'], label='Real')\n",
    "plt.plot(RF_predict['predict'][-len(X_test):], '--',label='Pred', )\n",
    "plt.legend()"
   ]
  },
  {
   "cell_type": "code",
   "execution_count": 990,
   "metadata": {},
   "outputs": [
    {
     "data": {
      "text/plain": [
       "array([11.39166929, 11.88099174,  9.81602935,  8.74226549,  8.27156399,\n",
       "        8.05862668,  8.04865622,  8.54391366,  8.10439379,  8.26854438,\n",
       "        7.98746685,  8.37911351,  8.29870539,  7.99002096])"
      ]
     },
     "execution_count": 990,
     "metadata": {},
     "output_type": "execute_result"
    }
   ],
   "source": [
    "rgr.predict(X_test)"
   ]
  },
  {
   "cell_type": "code",
   "execution_count": 991,
   "metadata": {},
   "outputs": [],
   "source": [
    "from sklearn.metrics import r2_score\n",
    "RSquared = r2_score(y_train, X_train_predict.values)"
   ]
  },
  {
   "cell_type": "code",
   "execution_count": 992,
   "metadata": {},
   "outputs": [
    {
     "data": {
      "text/plain": [
       "0.9458293075769151"
      ]
     },
     "execution_count": 992,
     "metadata": {},
     "output_type": "execute_result"
    }
   ],
   "source": [
    "RSquared"
   ]
  },
  {
   "cell_type": "code",
   "execution_count": 993,
   "metadata": {},
   "outputs": [],
   "source": [
    "from sklearn.metrics import mean_squared_error\n",
    "# validation score\n",
    "MSE = mean_squared_error(y_test, rgr.predict(X_test))\n",
    "RMSE = np.sqrt(MSE)\n",
    "score = 100*(1-(((rgr.predict(X_test) - y_test)**2).sum())/(rgr.predict(X_test)**2).sum())"
   ]
  },
  {
   "cell_type": "code",
   "execution_count": 994,
   "metadata": {},
   "outputs": [
    {
     "name": "stdout",
     "output_type": "stream",
     "text": [
      "MSE : 17.969662648924675, RMSE : 4.239063888280604, SCORE : 77.44968219822634\n"
     ]
    }
   ],
   "source": [
    "print(\"MSE : {0}, RMSE : {1}, SCORE : {2}\".format(MSE, RMSE, score))"
   ]
  },
  {
   "cell_type": "code",
   "execution_count": null,
   "metadata": {},
   "outputs": [],
   "source": []
  },
  {
   "cell_type": "code",
   "execution_count": null,
   "metadata": {},
   "outputs": [],
   "source": []
  }
 ],
 "metadata": {
  "kernelspec": {
   "display_name": "Python 3",
   "language": "python",
   "name": "python3"
  },
  "language_info": {
   "codemirror_mode": {
    "name": "ipython",
    "version": 3
   },
   "file_extension": ".py",
   "mimetype": "text/x-python",
   "name": "python",
   "nbconvert_exporter": "python",
   "pygments_lexer": "ipython3",
   "version": "3.7.6"
  }
 },
 "nbformat": 4,
 "nbformat_minor": 4
}
