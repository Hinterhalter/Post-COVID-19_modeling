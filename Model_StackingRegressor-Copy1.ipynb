{
 "cells": [
  {
   "cell_type": "code",
   "execution_count": 19,
   "metadata": {},
   "outputs": [],
   "source": [
    "import pandas as pd\n",
    "import numpy as np\n",
    "import matplotlib.pyplot as plt\n",
    "%matplotlib inline\n",
    "import seaborn as sns\n",
    "\n",
    "from matplotlib import font_manager, rc\n",
    "font_name = font_manager.FontProperties(fname=\"c:/Windows/Fonts/malgun.ttf\").get_name()\n",
    "rc('font', family=font_name)\n",
    "\n",
    "import warnings\n",
    "warnings.filterwarnings('ignore')\n",
    "\n",
    "from sklearn.ensemble import RandomForestRegressor\n",
    "from sklearn.ensemble import StackingRegressor\n",
    "from sklearn.svm import LinearSVR\n",
    "from sklearn.svm import SVR\n",
    "from sklearn.model_selection import GridSearchCV\n",
    "from sklearn.preprocessing import MinMaxScaler, StandardScaler"
   ]
  },
  {
   "cell_type": "code",
   "execution_count": 20,
   "metadata": {},
   "outputs": [],
   "source": [
    "df = pd.read_csv('./data/total_0509.csv')"
   ]
  },
  {
   "cell_type": "code",
   "execution_count": 21,
   "metadata": {},
   "outputs": [],
   "source": [
    "cols = list(df.columns)\n",
    "cols.remove('Date')"
   ]
  },
  {
   "cell_type": "code",
   "execution_count": 22,
   "metadata": {},
   "outputs": [
    {
     "data": {
      "text/plain": [
       "Unnamed: 0        0\n",
       "Date              0\n",
       "EURO_conf         0\n",
       "CHINA_conf        0\n",
       "ASIA_conf         0\n",
       "N_AMERICA_conf    0\n",
       "NZ_conf           0\n",
       "EURO_roam         0\n",
       "CHINA_roam        0\n",
       "ASIA_roam         0\n",
       "N_AMERICA_roam    0\n",
       "NZ_roam           0\n",
       "TARGET            0\n",
       "NEWS              0\n",
       "covid_tr          0\n",
       "coro_tr           0\n",
       "dtype: int64"
      ]
     },
     "execution_count": 22,
     "metadata": {},
     "output_type": "execute_result"
    }
   ],
   "source": [
    "df.isnull().sum()"
   ]
  },
  {
   "cell_type": "code",
   "execution_count": 23,
   "metadata": {},
   "outputs": [],
   "source": [
    "df[cols] = df[cols].astype(int)"
   ]
  },
  {
   "cell_type": "code",
   "execution_count": 24,
   "metadata": {},
   "outputs": [],
   "source": [
    "df.drop('Unnamed: 0', axis=1, inplace=True)"
   ]
  },
  {
   "cell_type": "code",
   "execution_count": 25,
   "metadata": {},
   "outputs": [],
   "source": [
    "tmp_cols = ['EURO_conf','CHINA_conf','ASIA_conf','N_AMERICA_conf','NZ_conf','TARGET']"
   ]
  },
  {
   "cell_type": "code",
   "execution_count": 26,
   "metadata": {},
   "outputs": [],
   "source": [
    "for i in tmp_cols:\n",
    "    df['{}'.format(i)] = df['{}'.format(i)].diff()"
   ]
  },
  {
   "cell_type": "code",
   "execution_count": 27,
   "metadata": {},
   "outputs": [],
   "source": [
    "df.fillna(0, inplace=True)"
   ]
  },
  {
   "cell_type": "code",
   "execution_count": 28,
   "metadata": {},
   "outputs": [],
   "source": [
    "df.Date = pd.to_datetime(df.Date)\n",
    "df['dayofweek'] = df['Date'].dt.dayofweek\n",
    "df.set_index('Date', inplace=True)"
   ]
  },
  {
   "cell_type": "code",
   "execution_count": 29,
   "metadata": {},
   "outputs": [],
   "source": [
    "df.rename(columns={'TARGET':'target'},inplace=True)"
   ]
  },
  {
   "cell_type": "code",
   "execution_count": 30,
   "metadata": {},
   "outputs": [],
   "source": [
    "plt.style.use('ggplot')"
   ]
  },
  {
   "cell_type": "markdown",
   "metadata": {},
   "source": [
    "## lag 변수 생성"
   ]
  },
  {
   "cell_type": "code",
   "execution_count": 31,
   "metadata": {},
   "outputs": [
    {
     "data": {
      "text/plain": [
       "Index(['EURO_conf', 'CHINA_conf', 'ASIA_conf', 'N_AMERICA_conf', 'NZ_conf',\n",
       "       'EURO_roam', 'CHINA_roam', 'ASIA_roam', 'N_AMERICA_roam', 'NZ_roam',\n",
       "       'target', 'NEWS', 'covid_tr', 'coro_tr', 'dayofweek'],\n",
       "      dtype='object')"
      ]
     },
     "execution_count": 31,
     "metadata": {},
     "output_type": "execute_result"
    }
   ],
   "source": [
    "df.columns"
   ]
  },
  {
   "cell_type": "code",
   "execution_count": 32,
   "metadata": {},
   "outputs": [],
   "source": [
    "lag_col = ['EURO_conf', 'CHINA_conf', 'ASIA_conf', 'N_AMERICA_conf', 'NZ_conf',\n",
    "       'EURO_roam', 'CHINA_roam', 'ASIA_roam', 'N_AMERICA_roam', 'NZ_roam',\n",
    "       'target', 'NEWS', 'covid_tr', 'coro_tr']"
   ]
  },
  {
   "cell_type": "code",
   "execution_count": 33,
   "metadata": {},
   "outputs": [],
   "source": [
    "lag_amount = 1\n",
    "\n",
    "for col in lag_col:\n",
    "    for i in range(lag_amount):\n",
    "        df['{0}_lag{1}'.format(col,i+1)] = df['{}'.format(col)].shift(i+1)\n",
    "    \n",
    "df.dropna(inplace=True)"
   ]
  },
  {
   "cell_type": "code",
   "execution_count": 34,
   "metadata": {},
   "outputs": [
    {
     "data": {
      "text/html": [
       "<div>\n",
       "<style scoped>\n",
       "    .dataframe tbody tr th:only-of-type {\n",
       "        vertical-align: middle;\n",
       "    }\n",
       "\n",
       "    .dataframe tbody tr th {\n",
       "        vertical-align: top;\n",
       "    }\n",
       "\n",
       "    .dataframe thead th {\n",
       "        text-align: right;\n",
       "    }\n",
       "</style>\n",
       "<table border=\"1\" class=\"dataframe\">\n",
       "  <thead>\n",
       "    <tr style=\"text-align: right;\">\n",
       "      <th></th>\n",
       "      <th>EURO_conf</th>\n",
       "      <th>CHINA_conf</th>\n",
       "      <th>ASIA_conf</th>\n",
       "      <th>N_AMERICA_conf</th>\n",
       "      <th>NZ_conf</th>\n",
       "      <th>EURO_roam</th>\n",
       "      <th>CHINA_roam</th>\n",
       "      <th>ASIA_roam</th>\n",
       "      <th>N_AMERICA_roam</th>\n",
       "      <th>NZ_roam</th>\n",
       "      <th>...</th>\n",
       "      <th>NZ_conf_lag1</th>\n",
       "      <th>EURO_roam_lag1</th>\n",
       "      <th>CHINA_roam_lag1</th>\n",
       "      <th>ASIA_roam_lag1</th>\n",
       "      <th>N_AMERICA_roam_lag1</th>\n",
       "      <th>NZ_roam_lag1</th>\n",
       "      <th>target_lag1</th>\n",
       "      <th>NEWS_lag1</th>\n",
       "      <th>covid_tr_lag1</th>\n",
       "      <th>coro_tr_lag1</th>\n",
       "    </tr>\n",
       "    <tr>\n",
       "      <th>Date</th>\n",
       "      <th></th>\n",
       "      <th></th>\n",
       "      <th></th>\n",
       "      <th></th>\n",
       "      <th></th>\n",
       "      <th></th>\n",
       "      <th></th>\n",
       "      <th></th>\n",
       "      <th></th>\n",
       "      <th></th>\n",
       "      <th></th>\n",
       "      <th></th>\n",
       "      <th></th>\n",
       "      <th></th>\n",
       "      <th></th>\n",
       "      <th></th>\n",
       "      <th></th>\n",
       "      <th></th>\n",
       "      <th></th>\n",
       "      <th></th>\n",
       "      <th></th>\n",
       "    </tr>\n",
       "  </thead>\n",
       "  <tbody>\n",
       "    <tr>\n",
       "      <th>2020-05-01</th>\n",
       "      <td>9243.0</td>\n",
       "      <td>3.0</td>\n",
       "      <td>5645.0</td>\n",
       "      <td>35923.0</td>\n",
       "      <td>6.0</td>\n",
       "      <td>24</td>\n",
       "      <td>230</td>\n",
       "      <td>247</td>\n",
       "      <td>126</td>\n",
       "      <td>0</td>\n",
       "      <td>...</td>\n",
       "      <td>3.0</td>\n",
       "      <td>62.0</td>\n",
       "      <td>152.0</td>\n",
       "      <td>221.0</td>\n",
       "      <td>124.0</td>\n",
       "      <td>0.0</td>\n",
       "      <td>4.0</td>\n",
       "      <td>1266.0</td>\n",
       "      <td>43.0</td>\n",
       "      <td>18.0</td>\n",
       "    </tr>\n",
       "    <tr>\n",
       "      <th>2020-05-02</th>\n",
       "      <td>11965.0</td>\n",
       "      <td>0.0</td>\n",
       "      <td>5006.0</td>\n",
       "      <td>30661.0</td>\n",
       "      <td>2.0</td>\n",
       "      <td>77</td>\n",
       "      <td>90</td>\n",
       "      <td>254</td>\n",
       "      <td>174</td>\n",
       "      <td>0</td>\n",
       "      <td>...</td>\n",
       "      <td>6.0</td>\n",
       "      <td>24.0</td>\n",
       "      <td>230.0</td>\n",
       "      <td>247.0</td>\n",
       "      <td>126.0</td>\n",
       "      <td>0.0</td>\n",
       "      <td>8.0</td>\n",
       "      <td>1104.0</td>\n",
       "      <td>48.0</td>\n",
       "      <td>18.0</td>\n",
       "    </tr>\n",
       "    <tr>\n",
       "      <th>2020-05-03</th>\n",
       "      <td>7719.0</td>\n",
       "      <td>5.0</td>\n",
       "      <td>5416.0</td>\n",
       "      <td>28079.0</td>\n",
       "      <td>0.0</td>\n",
       "      <td>48</td>\n",
       "      <td>130</td>\n",
       "      <td>248</td>\n",
       "      <td>104</td>\n",
       "      <td>0</td>\n",
       "      <td>...</td>\n",
       "      <td>2.0</td>\n",
       "      <td>77.0</td>\n",
       "      <td>90.0</td>\n",
       "      <td>254.0</td>\n",
       "      <td>174.0</td>\n",
       "      <td>0.0</td>\n",
       "      <td>8.0</td>\n",
       "      <td>732.0</td>\n",
       "      <td>43.0</td>\n",
       "      <td>18.0</td>\n",
       "    </tr>\n",
       "    <tr>\n",
       "      <th>2020-05-04</th>\n",
       "      <td>6902.0</td>\n",
       "      <td>2.0</td>\n",
       "      <td>6319.0</td>\n",
       "      <td>23788.0</td>\n",
       "      <td>-1.0</td>\n",
       "      <td>51</td>\n",
       "      <td>94</td>\n",
       "      <td>238</td>\n",
       "      <td>95</td>\n",
       "      <td>0</td>\n",
       "      <td>...</td>\n",
       "      <td>0.0</td>\n",
       "      <td>48.0</td>\n",
       "      <td>130.0</td>\n",
       "      <td>248.0</td>\n",
       "      <td>104.0</td>\n",
       "      <td>0.0</td>\n",
       "      <td>10.0</td>\n",
       "      <td>821.0</td>\n",
       "      <td>55.0</td>\n",
       "      <td>18.0</td>\n",
       "    </tr>\n",
       "    <tr>\n",
       "      <th>2020-05-05</th>\n",
       "      <td>8763.0</td>\n",
       "      <td>2.0</td>\n",
       "      <td>5515.0</td>\n",
       "      <td>25234.0</td>\n",
       "      <td>2.0</td>\n",
       "      <td>18</td>\n",
       "      <td>142</td>\n",
       "      <td>278</td>\n",
       "      <td>129</td>\n",
       "      <td>0</td>\n",
       "      <td>...</td>\n",
       "      <td>-1.0</td>\n",
       "      <td>51.0</td>\n",
       "      <td>94.0</td>\n",
       "      <td>238.0</td>\n",
       "      <td>95.0</td>\n",
       "      <td>0.0</td>\n",
       "      <td>8.0</td>\n",
       "      <td>1331.0</td>\n",
       "      <td>30.0</td>\n",
       "      <td>17.0</td>\n",
       "    </tr>\n",
       "  </tbody>\n",
       "</table>\n",
       "<p>5 rows × 29 columns</p>\n",
       "</div>"
      ],
      "text/plain": [
       "            EURO_conf  CHINA_conf  ASIA_conf  N_AMERICA_conf  NZ_conf  \\\n",
       "Date                                                                    \n",
       "2020-05-01     9243.0         3.0     5645.0         35923.0      6.0   \n",
       "2020-05-02    11965.0         0.0     5006.0         30661.0      2.0   \n",
       "2020-05-03     7719.0         5.0     5416.0         28079.0      0.0   \n",
       "2020-05-04     6902.0         2.0     6319.0         23788.0     -1.0   \n",
       "2020-05-05     8763.0         2.0     5515.0         25234.0      2.0   \n",
       "\n",
       "            EURO_roam  CHINA_roam  ASIA_roam  N_AMERICA_roam  NZ_roam  ...  \\\n",
       "Date                                                                   ...   \n",
       "2020-05-01         24         230        247             126        0  ...   \n",
       "2020-05-02         77          90        254             174        0  ...   \n",
       "2020-05-03         48         130        248             104        0  ...   \n",
       "2020-05-04         51          94        238              95        0  ...   \n",
       "2020-05-05         18         142        278             129        0  ...   \n",
       "\n",
       "            NZ_conf_lag1  EURO_roam_lag1  CHINA_roam_lag1  ASIA_roam_lag1  \\\n",
       "Date                                                                        \n",
       "2020-05-01           3.0            62.0            152.0           221.0   \n",
       "2020-05-02           6.0            24.0            230.0           247.0   \n",
       "2020-05-03           2.0            77.0             90.0           254.0   \n",
       "2020-05-04           0.0            48.0            130.0           248.0   \n",
       "2020-05-05          -1.0            51.0             94.0           238.0   \n",
       "\n",
       "            N_AMERICA_roam_lag1  NZ_roam_lag1  target_lag1  NEWS_lag1  \\\n",
       "Date                                                                    \n",
       "2020-05-01                124.0           0.0          4.0     1266.0   \n",
       "2020-05-02                126.0           0.0          8.0     1104.0   \n",
       "2020-05-03                174.0           0.0          8.0      732.0   \n",
       "2020-05-04                104.0           0.0         10.0      821.0   \n",
       "2020-05-05                 95.0           0.0          8.0     1331.0   \n",
       "\n",
       "            covid_tr_lag1  coro_tr_lag1  \n",
       "Date                                     \n",
       "2020-05-01           43.0          18.0  \n",
       "2020-05-02           48.0          18.0  \n",
       "2020-05-03           43.0          18.0  \n",
       "2020-05-04           55.0          18.0  \n",
       "2020-05-05           30.0          17.0  \n",
       "\n",
       "[5 rows x 29 columns]"
      ]
     },
     "execution_count": 34,
     "metadata": {},
     "output_type": "execute_result"
    }
   ],
   "source": [
    "df.tail()"
   ]
  },
  {
   "cell_type": "code",
   "execution_count": 35,
   "metadata": {},
   "outputs": [
    {
     "data": {
      "text/plain": [
       "<matplotlib.axes._subplots.AxesSubplot at 0x24f111c1898>"
      ]
     },
     "execution_count": 35,
     "metadata": {},
     "output_type": "execute_result"
    },
    {
     "data": {
      "image/png": "[encoded data removed]",
      "text/plain": [
       "<Figure size 504x504 with 2 Axes>"
      ]
     },
     "metadata": {},
     "output_type": "display_data"
    }
   ],
   "source": [
    "plt.figure(figsize=(7,7))\n",
    "sns.heatmap(df.corr(), cmap='Blues')"
   ]
  },
  {
   "cell_type": "code",
   "execution_count": 552,
   "metadata": {},
   "outputs": [],
   "source": [
    "df['llag'] = df['lag1'] * df['lag-1']"
   ]
  },
  {
   "cell_type": "code",
   "execution_count": 553,
   "metadata": {},
   "outputs": [],
   "source": [
    "df['Nlag'] = df['NZ_conf'] * df['lag-1']"
   ]
  },
  {
   "cell_type": "code",
   "execution_count": 15,
   "metadata": {},
   "outputs": [
    {
     "data": {
      "text/plain": [
       "103"
      ]
     },
     "execution_count": 15,
     "metadata": {},
     "output_type": "execute_result"
    }
   ],
   "source": [
    "df.__len__()"
   ]
  },
  {
   "cell_type": "code",
   "execution_count": 39,
   "metadata": {},
   "outputs": [],
   "source": [
    "# 변수명 지정\n",
    "X_cols = list(df.columns)\n",
    "X_cols.remove(\"target\")\n",
    "#new_x_cols = ['NZ_conf','covid_tr','EURO_conf', 'lag1']\n",
    "# train / test split 범위 지정\n",
    "test_data_size = 14\n",
    "\n",
    "# X변수들과 y변수 구분\n",
    "X = df[X_cols]\n",
    "y = df['target']\n",
    "\n",
    "# X 변수 Scale 적용\n",
    "scaler = StandardScaler()\n",
    "X = scaler.fit_transform(X)"
   ]
  },
  {
   "cell_type": "code",
   "execution_count": 40,
   "metadata": {},
   "outputs": [],
   "source": [
    "# Train, Test set split\n",
    "X_train, X_test = X[:-test_data_size], X[-test_data_size:]\n",
    "y_train, y_test = y[:-test_data_size], y[-test_data_size:]"
   ]
  },
  {
   "cell_type": "markdown",
   "metadata": {},
   "source": [
    "# 1. Random Forest"
   ]
  },
  {
   "cell_type": "markdown",
   "metadata": {},
   "source": [
    "### 2-1. 모델생성"
   ]
  },
  {
   "cell_type": "markdown",
   "metadata": {},
   "source": [
    "#### 2-1-1) 기본 옵션으로 모델 생성"
   ]
  },
  {
   "cell_type": "code",
   "execution_count": 42,
   "metadata": {},
   "outputs": [
    {
     "name": "stdout",
     "output_type": "stream",
     "text": [
      "Score on training set : 0.973\n",
      "Score on test set : -0.375\n"
     ]
    }
   ],
   "source": [
    "rf_uncustomized = RandomForestRegressor()\n",
    "rf_uncustomized.fit(X_train, y_train)\n",
    "# Train 데이터 설명력\n",
    "print(\"Score on training set : {:.3f}\".format(rf_uncustomized.score(X_train,y_train)))\n",
    "print(\"Score on test set : {:.3f}\".format(rf_uncustomized.score(X_test,y_test)))"
   ]
  },
  {
   "cell_type": "markdown",
   "metadata": {},
   "source": [
    "#### 2-1-2) 현재 생성된 트리 모델의 옵션 확인"
   ]
  },
  {
   "cell_type": "code",
   "execution_count": 43,
   "metadata": {},
   "outputs": [
    {
     "data": {
      "text/plain": [
       "RandomForestRegressor(bootstrap=True, ccp_alpha=0.0, criterion='mse',\n",
       "                      max_depth=None, max_features='auto', max_leaf_nodes=None,\n",
       "                      max_samples=None, min_impurity_decrease=0.0,\n",
       "                      min_impurity_split=None, min_samples_leaf=1,\n",
       "                      min_samples_split=2, min_weight_fraction_leaf=0.0,\n",
       "                      n_estimators=100, n_jobs=None, oob_score=False,\n",
       "                      random_state=None, verbose=0, warm_start=False)"
      ]
     },
     "execution_count": 43,
     "metadata": {},
     "output_type": "execute_result"
    }
   ],
   "source": [
    "rf_uncustomized"
   ]
  },
  {
   "cell_type": "markdown",
   "metadata": {},
   "source": [
    "### 2-2. 모델 Parameter 조정"
   ]
  },
  {
   "cell_type": "markdown",
   "metadata": {},
   "source": [
    "#### 2-2-1) n_estimator : 트리 수 변경에 따른 모델 성능"
   ]
  },
  {
   "cell_type": "code",
   "execution_count": 44,
   "metadata": {},
   "outputs": [],
   "source": [
    "train_score = []; test_score = []\n",
    "\n",
    "para_n_tree = [n_tree * 10 for n_tree in range(1,40)]\n",
    "\n",
    "for v_n_estimators in para_n_tree :\n",
    "    rf = RandomForestRegressor(n_estimators= v_n_estimators)\n",
    "    rf.fit(X_train, y_train)\n",
    "    train_score.append(rf.score(X_train, y_train))\n",
    "    test_score.append(rf.score(X_test,y_test))\n",
    "\n",
    "# 결과 저장\n",
    "\n",
    "df_score_n = pd.DataFrame()\n",
    "df_score_n['n_estimators'] = para_n_tree\n",
    "df_score_n['TrainScore'] = train_score\n",
    "df_score_n['TestScore'] = test_score\n",
    "df_score_n['Gap'] = df_score_n['TrainScore'] - df_score_n['TestScore']"
   ]
  },
  {
   "cell_type": "code",
   "execution_count": 45,
   "metadata": {},
   "outputs": [
    {
     "data": {
      "text/html": [
       "<div>\n",
       "<style scoped>\n",
       "    .dataframe tbody tr th:only-of-type {\n",
       "        vertical-align: middle;\n",
       "    }\n",
       "\n",
       "    .dataframe tbody tr th {\n",
       "        vertical-align: top;\n",
       "    }\n",
       "\n",
       "    .dataframe thead th {\n",
       "        text-align: right;\n",
       "    }\n",
       "</style>\n",
       "<table border=\"1\" class=\"dataframe\">\n",
       "  <thead>\n",
       "    <tr style=\"text-align: right;\">\n",
       "      <th></th>\n",
       "      <th>n_estimators</th>\n",
       "      <th>TrainScore</th>\n",
       "      <th>TestScore</th>\n",
       "      <th>Gap</th>\n",
       "    </tr>\n",
       "  </thead>\n",
       "  <tbody>\n",
       "    <tr>\n",
       "      <th>3</th>\n",
       "      <td>40</td>\n",
       "      <td>0.971</td>\n",
       "      <td>-0.125</td>\n",
       "      <td>1.096</td>\n",
       "    </tr>\n",
       "    <tr>\n",
       "      <th>8</th>\n",
       "      <td>90</td>\n",
       "      <td>0.973</td>\n",
       "      <td>-0.203</td>\n",
       "      <td>1.175</td>\n",
       "    </tr>\n",
       "    <tr>\n",
       "      <th>9</th>\n",
       "      <td>100</td>\n",
       "      <td>0.970</td>\n",
       "      <td>-0.226</td>\n",
       "      <td>1.196</td>\n",
       "    </tr>\n",
       "    <tr>\n",
       "      <th>25</th>\n",
       "      <td>260</td>\n",
       "      <td>0.975</td>\n",
       "      <td>-0.272</td>\n",
       "      <td>1.248</td>\n",
       "    </tr>\n",
       "    <tr>\n",
       "      <th>5</th>\n",
       "      <td>60</td>\n",
       "      <td>0.974</td>\n",
       "      <td>-0.281</td>\n",
       "      <td>1.255</td>\n",
       "    </tr>\n",
       "  </tbody>\n",
       "</table>\n",
       "</div>"
      ],
      "text/plain": [
       "    n_estimators  TrainScore  TestScore    Gap\n",
       "3             40       0.971     -0.125  1.096\n",
       "8             90       0.973     -0.203  1.175\n",
       "9            100       0.970     -0.226  1.196\n",
       "25           260       0.975     -0.272  1.248\n",
       "5             60       0.974     -0.281  1.255"
      ]
     },
     "execution_count": 45,
     "metadata": {},
     "output_type": "execute_result"
    }
   ],
   "source": [
    "# 모델 설명력 확인\n",
    "df_score_n.round(3).sort_values(by='Gap').head()"
   ]
  },
  {
   "cell_type": "code",
   "execution_count": 46,
   "metadata": {},
   "outputs": [
    {
     "data": {
      "text/plain": [
       "<matplotlib.legend.Legend at 0x24f1134e7b8>"
      ]
     },
     "execution_count": 46,
     "metadata": {},
     "output_type": "execute_result"
    },
    {
     "data": {
      "image/png": "[encoded data removed]",
      "text/plain": [
       "<Figure size 432x288 with 1 Axes>"
      ]
     },
     "metadata": {},
     "output_type": "display_data"
    }
   ],
   "source": [
    "# 모델 설명력 그래프 확인\n",
    "\n",
    "plt.plot(para_n_tree, train_score, linestyle = \"-\", label = 'Train Score')\n",
    "plt.plot(para_n_tree, test_score, linestyle = '--', label = 'Test Score')\n",
    "plt.legend()"
   ]
  },
  {
   "cell_type": "markdown",
   "metadata": {},
   "source": [
    "#### 2-2-2) min_samples_leaf : 잎사귀 노드의 최소 자료 수 변경에 따른 모델 성능"
   ]
  },
  {
   "cell_type": "code",
   "execution_count": 47,
   "metadata": {},
   "outputs": [],
   "source": [
    "train_score = []; test_score = []\n",
    "\n",
    "para_leaf = [n_leaf * 1 for n_leaf in range(1,21)]\n",
    "\n",
    "for v_min_samples_leaf in para_leaf :\n",
    "    rf = RandomForestRegressor(n_estimators=40,\n",
    "                                min_samples_leaf = v_min_samples_leaf)\n",
    "    rf.fit(X_train, y_train)\n",
    "    train_score.append(rf.score(X_train, y_train))\n",
    "    test_score.append(rf.score(X_test,y_test))\n",
    "    \n",
    "# 결과 저장\n",
    "\n",
    "df_score_leaf = pd.DataFrame()\n",
    "df_score_leaf['MinSamplesLeaf'] = para_leaf\n",
    "df_score_leaf['TrainScore'] = train_score\n",
    "df_score_leaf['TestScore'] = test_score\n",
    "df_score_leaf['Gap'] = df_score_leaf['TrainScore'] - df_score_leaf['TestScore']"
   ]
  },
  {
   "cell_type": "code",
   "execution_count": 48,
   "metadata": {},
   "outputs": [
    {
     "data": {
      "text/html": [
       "<div>\n",
       "<style scoped>\n",
       "    .dataframe tbody tr th:only-of-type {\n",
       "        vertical-align: middle;\n",
       "    }\n",
       "\n",
       "    .dataframe tbody tr th {\n",
       "        vertical-align: top;\n",
       "    }\n",
       "\n",
       "    .dataframe thead th {\n",
       "        text-align: right;\n",
       "    }\n",
       "</style>\n",
       "<table border=\"1\" class=\"dataframe\">\n",
       "  <thead>\n",
       "    <tr style=\"text-align: right;\">\n",
       "      <th></th>\n",
       "      <th>MinSamplesLeaf</th>\n",
       "      <th>TrainScore</th>\n",
       "      <th>TestScore</th>\n",
       "      <th>Gap</th>\n",
       "    </tr>\n",
       "  </thead>\n",
       "  <tbody>\n",
       "    <tr>\n",
       "      <th>4</th>\n",
       "      <td>5</td>\n",
       "      <td>0.930</td>\n",
       "      <td>-0.360</td>\n",
       "      <td>1.290</td>\n",
       "    </tr>\n",
       "    <tr>\n",
       "      <th>2</th>\n",
       "      <td>3</td>\n",
       "      <td>0.949</td>\n",
       "      <td>-0.365</td>\n",
       "      <td>1.315</td>\n",
       "    </tr>\n",
       "    <tr>\n",
       "      <th>5</th>\n",
       "      <td>6</td>\n",
       "      <td>0.906</td>\n",
       "      <td>-0.442</td>\n",
       "      <td>1.348</td>\n",
       "    </tr>\n",
       "    <tr>\n",
       "      <th>3</th>\n",
       "      <td>4</td>\n",
       "      <td>0.941</td>\n",
       "      <td>-0.453</td>\n",
       "      <td>1.394</td>\n",
       "    </tr>\n",
       "    <tr>\n",
       "      <th>13</th>\n",
       "      <td>14</td>\n",
       "      <td>0.825</td>\n",
       "      <td>-0.581</td>\n",
       "      <td>1.406</td>\n",
       "    </tr>\n",
       "  </tbody>\n",
       "</table>\n",
       "</div>"
      ],
      "text/plain": [
       "    MinSamplesLeaf  TrainScore  TestScore    Gap\n",
       "4                5       0.930     -0.360  1.290\n",
       "2                3       0.949     -0.365  1.315\n",
       "5                6       0.906     -0.442  1.348\n",
       "3                4       0.941     -0.453  1.394\n",
       "13              14       0.825     -0.581  1.406"
      ]
     },
     "execution_count": 48,
     "metadata": {},
     "output_type": "execute_result"
    }
   ],
   "source": [
    "# 모델 설명력 확인\n",
    "df_score_leaf.round(3).sort_values(by='Gap').head()"
   ]
  },
  {
   "cell_type": "code",
   "execution_count": 49,
   "metadata": {},
   "outputs": [
    {
     "data": {
      "text/plain": [
       "<matplotlib.legend.Legend at 0x24f113838d0>"
      ]
     },
     "execution_count": 49,
     "metadata": {},
     "output_type": "execute_result"
    },
    {
     "data": {
      "image/png": "[encoded data removed]",
      "text/plain": [
       "<Figure size 432x288 with 1 Axes>"
      ]
     },
     "metadata": {},
     "output_type": "display_data"
    }
   ],
   "source": [
    "# 모델 설명력 그래프 확인\n",
    "\n",
    "plt.plot(para_leaf, train_score, linestyle = \"-\", label = 'Train Score')\n",
    "plt.plot(para_leaf, test_score, linestyle = '--', label = 'Test Score')\n",
    "plt.ylabel('score'); plt.xlabel(\"min sample leaf\")\n",
    "plt.legend()"
   ]
  },
  {
   "cell_type": "markdown",
   "metadata": {},
   "source": [
    "#### 2-2-3) min_samples_split : 분리노드의 최소 자료 수 변경에 따른 모델 성능"
   ]
  },
  {
   "cell_type": "code",
   "execution_count": 51,
   "metadata": {},
   "outputs": [],
   "source": [
    "train_score = []; test_score = []\n",
    "\n",
    "para_split = [n_split * 2 for n_split in range(2,41)]\n",
    "\n",
    "for v_min_samples_split in para_split :\n",
    "    rf = RandomForestRegressor(n_estimators=40,\n",
    "                                 min_samples_leaf = 5,\n",
    "                                min_samples_split = v_min_samples_split)\n",
    "    rf.fit(X_train, y_train)\n",
    "    train_score.append(rf.score(X_train, y_train))\n",
    "    test_score.append(rf.score(X_test, y_test))\n",
    "    \n",
    "# 결과 저장\n",
    "\n",
    "df_score_split = pd.DataFrame()\n",
    "df_score_split['MinSamplesSplit'] = para_split\n",
    "df_score_split['TrainScore'] = train_score\n",
    "df_score_split['TestScore'] = test_score\n",
    "df_score_split['Gap'] = df_score_split['TrainScore'] - df_score_split['TestScore']"
   ]
  },
  {
   "cell_type": "code",
   "execution_count": 52,
   "metadata": {},
   "outputs": [
    {
     "data": {
      "text/html": [
       "<div>\n",
       "<style scoped>\n",
       "    .dataframe tbody tr th:only-of-type {\n",
       "        vertical-align: middle;\n",
       "    }\n",
       "\n",
       "    .dataframe tbody tr th {\n",
       "        vertical-align: top;\n",
       "    }\n",
       "\n",
       "    .dataframe thead th {\n",
       "        text-align: right;\n",
       "    }\n",
       "</style>\n",
       "<table border=\"1\" class=\"dataframe\">\n",
       "  <thead>\n",
       "    <tr style=\"text-align: right;\">\n",
       "      <th></th>\n",
       "      <th>MinSamplesSplit</th>\n",
       "      <th>TrainScore</th>\n",
       "      <th>TestScore</th>\n",
       "      <th>Gap</th>\n",
       "    </tr>\n",
       "  </thead>\n",
       "  <tbody>\n",
       "    <tr>\n",
       "      <th>26</th>\n",
       "      <td>56</td>\n",
       "      <td>0.658</td>\n",
       "      <td>-0.058</td>\n",
       "      <td>0.716</td>\n",
       "    </tr>\n",
       "    <tr>\n",
       "      <th>27</th>\n",
       "      <td>58</td>\n",
       "      <td>0.569</td>\n",
       "      <td>-0.174</td>\n",
       "      <td>0.744</td>\n",
       "    </tr>\n",
       "    <tr>\n",
       "      <th>21</th>\n",
       "      <td>46</td>\n",
       "      <td>0.883</td>\n",
       "      <td>-0.273</td>\n",
       "      <td>1.156</td>\n",
       "    </tr>\n",
       "    <tr>\n",
       "      <th>0</th>\n",
       "      <td>4</td>\n",
       "      <td>0.921</td>\n",
       "      <td>-0.344</td>\n",
       "      <td>1.265</td>\n",
       "    </tr>\n",
       "    <tr>\n",
       "      <th>13</th>\n",
       "      <td>30</td>\n",
       "      <td>0.878</td>\n",
       "      <td>-0.401</td>\n",
       "      <td>1.280</td>\n",
       "    </tr>\n",
       "  </tbody>\n",
       "</table>\n",
       "</div>"
      ],
      "text/plain": [
       "    MinSamplesSplit  TrainScore  TestScore    Gap\n",
       "26               56       0.658     -0.058  0.716\n",
       "27               58       0.569     -0.174  0.744\n",
       "21               46       0.883     -0.273  1.156\n",
       "0                 4       0.921     -0.344  1.265\n",
       "13               30       0.878     -0.401  1.280"
      ]
     },
     "execution_count": 52,
     "metadata": {},
     "output_type": "execute_result"
    }
   ],
   "source": [
    "# 모델 설명력 확인\n",
    "df_score_split.round(3).sort_values(by='Gap').head()"
   ]
  },
  {
   "cell_type": "code",
   "execution_count": 53,
   "metadata": {},
   "outputs": [
    {
     "data": {
      "text/plain": [
       "<matplotlib.legend.Legend at 0x24f11436ef0>"
      ]
     },
     "execution_count": 53,
     "metadata": {},
     "output_type": "execute_result"
    },
    {
     "data": {
      "image/png": "[encoded data removed]",
      "text/plain": [
       "<Figure size 432x288 with 1 Axes>"
      ]
     },
     "metadata": {},
     "output_type": "display_data"
    }
   ],
   "source": [
    "# 모델 설명력 그래프 확인\n",
    "\n",
    "plt.plot(para_split, train_score, linestyle = \"-\", label = 'Train Score')\n",
    "plt.plot(para_split, test_score, linestyle = '--', label = 'Test Score')\n",
    "plt.legend()"
   ]
  },
  {
   "cell_type": "markdown",
   "metadata": {},
   "source": [
    "40, 3 ,4"
   ]
  },
  {
   "cell_type": "markdown",
   "metadata": {},
   "source": [
    "# 2. SVM Regressor"
   ]
  },
  {
   "cell_type": "markdown",
   "metadata": {},
   "source": [
    "### 2-1. 모델생성"
   ]
  },
  {
   "cell_type": "markdown",
   "metadata": {},
   "source": [
    "#### 2-1-1) 기본 옵션으로 모델 생성"
   ]
  },
  {
   "cell_type": "code",
   "execution_count": 70,
   "metadata": {},
   "outputs": [
    {
     "name": "stdout",
     "output_type": "stream",
     "text": [
      "Score on training set : 0.420\n",
      "Score on test set : -0.263\n"
     ]
    }
   ],
   "source": [
    "svm_uncustomized = SVR()\n",
    "svm_uncustomized.fit(X_train, y_train)\n",
    "# Train 데이터 설명력\n",
    "print(\"Score on training set : {:.3f}\".format(svm_uncustomized.score(X_train,y_train)))\n",
    "print(\"Score on test set : {:.3f}\".format(svm_uncustomized.score(X_test,y_test)))"
   ]
  },
  {
   "cell_type": "markdown",
   "metadata": {},
   "source": [
    "#### 2-1-2) 현재 생성된 트리 모델의 옵션 확인"
   ]
  },
  {
   "cell_type": "code",
   "execution_count": 71,
   "metadata": {},
   "outputs": [
    {
     "data": {
      "text/plain": [
       "SVR(C=1.0, cache_size=200, coef0=0.0, degree=3, epsilon=0.1, gamma='scale',\n",
       "    kernel='rbf', max_iter=-1, shrinking=True, tol=0.001, verbose=False)"
      ]
     },
     "execution_count": 71,
     "metadata": {},
     "output_type": "execute_result"
    }
   ],
   "source": [
    "svm_uncustomized"
   ]
  },
  {
   "cell_type": "markdown",
   "metadata": {},
   "source": [
    "### 2-2. 모델 Parameter 조정"
   ]
  },
  {
   "cell_type": "markdown",
   "metadata": {},
   "source": [
    "#### 2-2-1) C 규제 변경"
   ]
  },
  {
   "cell_type": "code",
   "execution_count": 72,
   "metadata": {},
   "outputs": [],
   "source": [
    "train_score = []; test_score = []\n",
    "\n",
    "para_C = [10 ** c for c in range(-2,5)] # 참조 para_c : [0.01,0.1,1,10,100]\n",
    "\n",
    "for v_C in para_C :\n",
    "    svm = SVR(C = v_C)\n",
    "    svm.fit(X_train, y_train)\n",
    "    train_score.append(svm.score(X_train, y_train))\n",
    "    test_score.append(svm.score(X_test, y_test))\n",
    "    \n",
    "# 모델 설명력 저장\n",
    "\n",
    "df_score_C = pd.DataFrame()\n",
    "df_score_C['C'] = para_C\n",
    "df_score_C['TrainScore'] = train_score\n",
    "df_score_C['TestScore'] = test_score\n",
    "df_score_C['Gap'] = df_score_C['TrainScore'] - df_score_C['TestScore']"
   ]
  },
  {
   "cell_type": "code",
   "execution_count": 73,
   "metadata": {},
   "outputs": [
    {
     "data": {
      "text/html": [
       "<div>\n",
       "<style scoped>\n",
       "    .dataframe tbody tr th:only-of-type {\n",
       "        vertical-align: middle;\n",
       "    }\n",
       "\n",
       "    .dataframe tbody tr th {\n",
       "        vertical-align: top;\n",
       "    }\n",
       "\n",
       "    .dataframe thead th {\n",
       "        text-align: right;\n",
       "    }\n",
       "</style>\n",
       "<table border=\"1\" class=\"dataframe\">\n",
       "  <thead>\n",
       "    <tr style=\"text-align: right;\">\n",
       "      <th></th>\n",
       "      <th>C</th>\n",
       "      <th>TrainScore</th>\n",
       "      <th>TestScore</th>\n",
       "      <th>Gap</th>\n",
       "    </tr>\n",
       "  </thead>\n",
       "  <tbody>\n",
       "    <tr>\n",
       "      <th>2</th>\n",
       "      <td>1.0</td>\n",
       "      <td>0.420</td>\n",
       "      <td>-0.263</td>\n",
       "      <td>0.684</td>\n",
       "    </tr>\n",
       "    <tr>\n",
       "      <th>3</th>\n",
       "      <td>10.0</td>\n",
       "      <td>0.906</td>\n",
       "      <td>0.027</td>\n",
       "      <td>0.879</td>\n",
       "    </tr>\n",
       "    <tr>\n",
       "      <th>1</th>\n",
       "      <td>0.1</td>\n",
       "      <td>-0.173</td>\n",
       "      <td>-1.234</td>\n",
       "      <td>1.061</td>\n",
       "    </tr>\n",
       "    <tr>\n",
       "      <th>5</th>\n",
       "      <td>1000.0</td>\n",
       "      <td>1.000</td>\n",
       "      <td>-0.898</td>\n",
       "      <td>1.898</td>\n",
       "    </tr>\n",
       "    <tr>\n",
       "      <th>6</th>\n",
       "      <td>10000.0</td>\n",
       "      <td>1.000</td>\n",
       "      <td>-0.923</td>\n",
       "      <td>1.923</td>\n",
       "    </tr>\n",
       "  </tbody>\n",
       "</table>\n",
       "</div>"
      ],
      "text/plain": [
       "         C  TrainScore  TestScore    Gap\n",
       "2      1.0       0.420     -0.263  0.684\n",
       "3     10.0       0.906      0.027  0.879\n",
       "1      0.1      -0.173     -1.234  1.061\n",
       "5   1000.0       1.000     -0.898  1.898\n",
       "6  10000.0       1.000     -0.923  1.923"
      ]
     },
     "execution_count": 73,
     "metadata": {},
     "output_type": "execute_result"
    }
   ],
   "source": [
    "# 모델 설명력 확인\n",
    "df_score_C.round(3).sort_values(by='Gap').head()"
   ]
  },
  {
   "cell_type": "code",
   "execution_count": 74,
   "metadata": {},
   "outputs": [
    {
     "data": {
      "text/plain": [
       "<matplotlib.legend.Legend at 0x24f11631e10>"
      ]
     },
     "execution_count": 74,
     "metadata": {},
     "output_type": "execute_result"
    },
    {
     "data": {
      "image/png": "[encoded data removed]",
      "text/plain": [
       "<Figure size 432x288 with 1 Axes>"
      ]
     },
     "metadata": {},
     "output_type": "display_data"
    }
   ],
   "source": [
    "# 모델 설명력 그래프 확인\n",
    "\n",
    "plt.plot(para_C, train_score, linestyle = \"-\", label = 'Train Score')\n",
    "plt.plot(para_C, test_score, linestyle = '--', label = 'Test Score')\n",
    "\n",
    "plt.ylabel(\"score\"); plt.xlabel('C')\n",
    "plt.legend()"
   ]
  },
  {
   "cell_type": "code",
   "execution_count": 76,
   "metadata": {},
   "outputs": [],
   "source": [
    "train_score = []; test_score = []\n",
    "\n",
    "para_gamma = [10 ** gamma for gamma in range(-2,3)]\n",
    "\n",
    "for v_gamma in para_gamma :\n",
    "    svm = SVR(gamma=v_gamma,\n",
    "              C = 1.0)\n",
    "    svm.fit(X_train, y_train)\n",
    "    train_score.append(svm.score(X_train, y_train))\n",
    "    test_score.append(svm.score(X_test,y_test))\n",
    "    \n",
    "# 결과 저장\n",
    "\n",
    "df_score_gamma = pd.DataFrame()\n",
    "df_score_gamma['gamma'] = para_gamma\n",
    "df_score_gamma['TrainScore'] = train_score\n",
    "df_score_gamma['TestScore'] = test_score\n",
    "df_score_gamma['Gap'] = df_score_gamma['TrainScore'] - df_score_gamma['TestScore']"
   ]
  },
  {
   "cell_type": "code",
   "execution_count": 77,
   "metadata": {},
   "outputs": [
    {
     "data": {
      "text/html": [
       "<div>\n",
       "<style scoped>\n",
       "    .dataframe tbody tr th:only-of-type {\n",
       "        vertical-align: middle;\n",
       "    }\n",
       "\n",
       "    .dataframe tbody tr th {\n",
       "        vertical-align: top;\n",
       "    }\n",
       "\n",
       "    .dataframe thead th {\n",
       "        text-align: right;\n",
       "    }\n",
       "</style>\n",
       "<table border=\"1\" class=\"dataframe\">\n",
       "  <thead>\n",
       "    <tr style=\"text-align: right;\">\n",
       "      <th></th>\n",
       "      <th>gamma</th>\n",
       "      <th>TrainScore</th>\n",
       "      <th>TestScore</th>\n",
       "      <th>Gap</th>\n",
       "    </tr>\n",
       "  </thead>\n",
       "  <tbody>\n",
       "    <tr>\n",
       "      <th>1</th>\n",
       "      <td>0.10</td>\n",
       "      <td>0.203</td>\n",
       "      <td>-0.070</td>\n",
       "      <td>0.272</td>\n",
       "    </tr>\n",
       "    <tr>\n",
       "      <th>0</th>\n",
       "      <td>0.01</td>\n",
       "      <td>0.349</td>\n",
       "      <td>-0.754</td>\n",
       "      <td>1.103</td>\n",
       "    </tr>\n",
       "    <tr>\n",
       "      <th>2</th>\n",
       "      <td>1.00</td>\n",
       "      <td>-0.231</td>\n",
       "      <td>-2.605</td>\n",
       "      <td>2.374</td>\n",
       "    </tr>\n",
       "    <tr>\n",
       "      <th>3</th>\n",
       "      <td>10.00</td>\n",
       "      <td>-0.243</td>\n",
       "      <td>-2.720</td>\n",
       "      <td>2.477</td>\n",
       "    </tr>\n",
       "    <tr>\n",
       "      <th>4</th>\n",
       "      <td>100.00</td>\n",
       "      <td>-0.243</td>\n",
       "      <td>-2.720</td>\n",
       "      <td>2.477</td>\n",
       "    </tr>\n",
       "  </tbody>\n",
       "</table>\n",
       "</div>"
      ],
      "text/plain": [
       "    gamma  TrainScore  TestScore    Gap\n",
       "1    0.10       0.203     -0.070  0.272\n",
       "0    0.01       0.349     -0.754  1.103\n",
       "2    1.00      -0.231     -2.605  2.374\n",
       "3   10.00      -0.243     -2.720  2.477\n",
       "4  100.00      -0.243     -2.720  2.477"
      ]
     },
     "execution_count": 77,
     "metadata": {},
     "output_type": "execute_result"
    }
   ],
   "source": [
    "df_score_gamma.round(3).sort_values(by='Gap').head()"
   ]
  },
  {
   "cell_type": "code",
   "execution_count": 78,
   "metadata": {},
   "outputs": [
    {
     "data": {
      "text/plain": [
       "<matplotlib.legend.Legend at 0x24f12683710>"
      ]
     },
     "execution_count": 78,
     "metadata": {},
     "output_type": "execute_result"
    },
    {
     "data": {
      "image/png": "[encoded data removed]",
      "text/plain": [
       "<Figure size 432x288 with 1 Axes>"
      ]
     },
     "metadata": {},
     "output_type": "display_data"
    }
   ],
   "source": [
    "# 모델 설명력 그래프 확인\n",
    "\n",
    "plt.plot(para_gamma, train_score, linestyle = \"-\", label = 'Train Score')\n",
    "plt.plot(para_gamma, test_score, linestyle = '--', label = 'Test Score')\n",
    "plt.ylabel('score'); plt.xlabel(\"gamma\")\n",
    "plt.legend()"
   ]
  },
  {
   "cell_type": "markdown",
   "metadata": {},
   "source": [
    "#### 2-2-2) epsilon 변경"
   ]
  },
  {
   "cell_type": "code",
   "execution_count": 79,
   "metadata": {},
   "outputs": [],
   "source": [
    "train_score = []; test_score = []\n",
    "\n",
    "para_epsilon = [eps/20 for eps in range(1,21)]\n",
    "\n",
    "for v_epsilon in para_epsilon :\n",
    "    svm = SVR(epsilon=v_epsilon,\n",
    "              C = 1.0,\n",
    "             gamma = 0.1)\n",
    "    svm.fit(X_train, y_train)\n",
    "    train_score.append(svm.score(X_train, y_train))\n",
    "    test_score.append(svm.score(X_test,y_test))\n",
    "    \n",
    "# 결과 저장\n",
    "\n",
    "df_score_epsilon = pd.DataFrame()\n",
    "df_score_epsilon['epsilon'] = para_epsilon\n",
    "df_score_epsilon['TrainScore'] = train_score\n",
    "df_score_epsilon['TestScore'] = test_score\n",
    "df_score_epsilon['Gap'] = df_score_epsilon['TrainScore'] - df_score_epsilon['TestScore']"
   ]
  },
  {
   "cell_type": "code",
   "execution_count": 80,
   "metadata": {},
   "outputs": [
    {
     "data": {
      "text/html": [
       "<div>\n",
       "<style scoped>\n",
       "    .dataframe tbody tr th:only-of-type {\n",
       "        vertical-align: middle;\n",
       "    }\n",
       "\n",
       "    .dataframe tbody tr th {\n",
       "        vertical-align: top;\n",
       "    }\n",
       "\n",
       "    .dataframe thead th {\n",
       "        text-align: right;\n",
       "    }\n",
       "</style>\n",
       "<table border=\"1\" class=\"dataframe\">\n",
       "  <thead>\n",
       "    <tr style=\"text-align: right;\">\n",
       "      <th></th>\n",
       "      <th>epsilon</th>\n",
       "      <th>TrainScore</th>\n",
       "      <th>TestScore</th>\n",
       "      <th>Gap</th>\n",
       "    </tr>\n",
       "  </thead>\n",
       "  <tbody>\n",
       "    <tr>\n",
       "      <th>17</th>\n",
       "      <td>0.90</td>\n",
       "      <td>0.225</td>\n",
       "      <td>-0.030</td>\n",
       "      <td>0.255</td>\n",
       "    </tr>\n",
       "    <tr>\n",
       "      <th>16</th>\n",
       "      <td>0.85</td>\n",
       "      <td>0.223</td>\n",
       "      <td>-0.032</td>\n",
       "      <td>0.255</td>\n",
       "    </tr>\n",
       "    <tr>\n",
       "      <th>15</th>\n",
       "      <td>0.80</td>\n",
       "      <td>0.221</td>\n",
       "      <td>-0.034</td>\n",
       "      <td>0.255</td>\n",
       "    </tr>\n",
       "    <tr>\n",
       "      <th>14</th>\n",
       "      <td>0.75</td>\n",
       "      <td>0.218</td>\n",
       "      <td>-0.037</td>\n",
       "      <td>0.255</td>\n",
       "    </tr>\n",
       "    <tr>\n",
       "      <th>18</th>\n",
       "      <td>0.95</td>\n",
       "      <td>0.227</td>\n",
       "      <td>-0.029</td>\n",
       "      <td>0.256</td>\n",
       "    </tr>\n",
       "  </tbody>\n",
       "</table>\n",
       "</div>"
      ],
      "text/plain": [
       "    epsilon  TrainScore  TestScore    Gap\n",
       "17     0.90       0.225     -0.030  0.255\n",
       "16     0.85       0.223     -0.032  0.255\n",
       "15     0.80       0.221     -0.034  0.255\n",
       "14     0.75       0.218     -0.037  0.255\n",
       "18     0.95       0.227     -0.029  0.256"
      ]
     },
     "execution_count": 80,
     "metadata": {},
     "output_type": "execute_result"
    }
   ],
   "source": [
    "# 모델 설명력 확인\n",
    "df_score_epsilon.round(3).sort_values(by='Gap').head()"
   ]
  },
  {
   "cell_type": "code",
   "execution_count": 81,
   "metadata": {},
   "outputs": [
    {
     "data": {
      "text/plain": [
       "<matplotlib.legend.Legend at 0x24f126fa6a0>"
      ]
     },
     "execution_count": 81,
     "metadata": {},
     "output_type": "execute_result"
    },
    {
     "data": {
      "image/png": "[encoded data removed]",
      "text/plain": [
       "<Figure size 432x288 with 1 Axes>"
      ]
     },
     "metadata": {},
     "output_type": "display_data"
    }
   ],
   "source": [
    "# 모델 설명력 그래프 확인\n",
    "\n",
    "plt.plot(para_epsilon, train_score, linestyle = \"-\", label = 'Train Score')\n",
    "plt.plot(para_epsilon, test_score, linestyle = '--', label = 'Test Score')\n",
    "plt.ylabel('score'); plt.xlabel(\"epsilon\")\n",
    "plt.legend()"
   ]
  },
  {
   "cell_type": "markdown",
   "metadata": {},
   "source": [
    "## SVM model 생성"
   ]
  },
  {
   "cell_type": "code",
   "execution_count": 83,
   "metadata": {},
   "outputs": [
    {
     "name": "stdout",
     "output_type": "stream",
     "text": [
      "Score on training set : 0.225\n",
      "Score on test set : -0.030\n"
     ]
    }
   ],
   "source": [
    "svr_final = SVR(C = 1.0,\n",
    "               gamma = 0.1,\n",
    "               epsilon = 0.9)\n",
    "svr_final.fit(X_train, y_train)\n",
    "\n",
    "print('Score on training set : {:.3f}'.format(svr_final.score(X_train, y_train)))\n",
    "print(\"Score on test set : {:.3f}\".format(svr_final.score(X_test, y_test)))"
   ]
  },
  {
   "cell_type": "code",
   "execution_count": 84,
   "metadata": {},
   "outputs": [
    {
     "data": {
      "text/plain": [
       "SVR(C=1.0, cache_size=200, coef0=0.0, degree=3, epsilon=0.9, gamma=0.1,\n",
       "    kernel='rbf', max_iter=-1, shrinking=True, tol=0.001, verbose=False)"
      ]
     },
     "execution_count": 84,
     "metadata": {},
     "output_type": "execute_result"
    }
   ],
   "source": [
    "svr_final"
   ]
  },
  {
   "cell_type": "code",
   "execution_count": 85,
   "metadata": {},
   "outputs": [],
   "source": [
    "estimators = [('rf', RandomForestRegressor(n_estimators=40,\n",
    "                                           min_samples_split = 56)),\n",
    "              ('svr', SVR(C = 1.0,\n",
    "               gamma = 0.1,\n",
    "               epsilon = 0.9))]"
   ]
  },
  {
   "cell_type": "code",
   "execution_count": 86,
   "metadata": {},
   "outputs": [],
   "source": [
    "reg = StackingRegressor(estimators=estimators)"
   ]
  },
  {
   "cell_type": "code",
   "execution_count": 87,
   "metadata": {},
   "outputs": [
    {
     "data": {
      "text/plain": [
       "-105.1156157777166"
      ]
     },
     "execution_count": 87,
     "metadata": {},
     "output_type": "execute_result"
    }
   ],
   "source": [
    "reg.fit(X_train, y_train).score(X_test, y_test)"
   ]
  },
  {
   "cell_type": "markdown",
   "metadata": {},
   "source": [
    "# Feature Selection 1"
   ]
  },
  {
   "cell_type": "code",
   "execution_count": 88,
   "metadata": {},
   "outputs": [],
   "source": [
    "X_cols = list(df.columns)\n",
    "X_cols.remove('target')"
   ]
  },
  {
   "cell_type": "code",
   "execution_count": 89,
   "metadata": {},
   "outputs": [],
   "source": [
    "test_data_size = 14\n",
    "# X변수들과 y변수 구분\n",
    "X = df[X_cols]\n",
    "y = df['target']"
   ]
  },
  {
   "cell_type": "code",
   "execution_count": 90,
   "metadata": {},
   "outputs": [],
   "source": [
    "# Train, Test set split\n",
    "X_train, X_test = X[:-test_data_size], X[-test_data_size:]\n",
    "y_train, y_test = y[:-test_data_size], y[-test_data_size:]"
   ]
  },
  {
   "cell_type": "code",
   "execution_count": 91,
   "metadata": {},
   "outputs": [
    {
     "data": {
      "text/plain": [
       "RandomForestRegressor(bootstrap=True, ccp_alpha=0.0, criterion='mse',\n",
       "                      max_depth=None, max_features='auto', max_leaf_nodes=None,\n",
       "                      max_samples=None, min_impurity_decrease=0.0,\n",
       "                      min_impurity_split=None, min_samples_leaf=1,\n",
       "                      min_samples_split=8, min_weight_fraction_leaf=0.0,\n",
       "                      n_estimators=90, n_jobs=None, oob_score=False,\n",
       "                      random_state=None, verbose=0, warm_start=False)"
      ]
     },
     "execution_count": 91,
     "metadata": {},
     "output_type": "execute_result"
    }
   ],
   "source": [
    "# parameter 설정\n",
    "rf = RandomForestRegressor(n_estimators=90, min_samples_split=8, max_features='auto')\n",
    "rf.fit(X, y)"
   ]
  },
  {
   "cell_type": "code",
   "execution_count": 92,
   "metadata": {},
   "outputs": [
    {
     "data": {
      "text/html": [
       "<div>\n",
       "<style scoped>\n",
       "    .dataframe tbody tr th:only-of-type {\n",
       "        vertical-align: middle;\n",
       "    }\n",
       "\n",
       "    .dataframe tbody tr th {\n",
       "        vertical-align: top;\n",
       "    }\n",
       "\n",
       "    .dataframe thead th {\n",
       "        text-align: right;\n",
       "    }\n",
       "</style>\n",
       "<table border=\"1\" class=\"dataframe\">\n",
       "  <thead>\n",
       "    <tr style=\"text-align: right;\">\n",
       "      <th></th>\n",
       "      <th>Feature</th>\n",
       "      <th>Importance</th>\n",
       "    </tr>\n",
       "  </thead>\n",
       "  <tbody>\n",
       "    <tr>\n",
       "      <th>18</th>\n",
       "      <td>NZ_conf_lag1</td>\n",
       "      <td>0.427</td>\n",
       "    </tr>\n",
       "    <tr>\n",
       "      <th>4</th>\n",
       "      <td>NZ_conf</td>\n",
       "      <td>0.181</td>\n",
       "    </tr>\n",
       "    <tr>\n",
       "      <th>24</th>\n",
       "      <td>target_lag1</td>\n",
       "      <td>0.128</td>\n",
       "    </tr>\n",
       "    <tr>\n",
       "      <th>11</th>\n",
       "      <td>covid_tr</td>\n",
       "      <td>0.072</td>\n",
       "    </tr>\n",
       "    <tr>\n",
       "      <th>26</th>\n",
       "      <td>covid_tr_lag1</td>\n",
       "      <td>0.056</td>\n",
       "    </tr>\n",
       "    <tr>\n",
       "      <th>0</th>\n",
       "      <td>EURO_conf</td>\n",
       "      <td>0.036</td>\n",
       "    </tr>\n",
       "    <tr>\n",
       "      <th>14</th>\n",
       "      <td>EURO_conf_lag1</td>\n",
       "      <td>0.022</td>\n",
       "    </tr>\n",
       "    <tr>\n",
       "      <th>25</th>\n",
       "      <td>NEWS_lag1</td>\n",
       "      <td>0.020</td>\n",
       "    </tr>\n",
       "    <tr>\n",
       "      <th>1</th>\n",
       "      <td>CHINA_conf</td>\n",
       "      <td>0.012</td>\n",
       "    </tr>\n",
       "    <tr>\n",
       "      <th>7</th>\n",
       "      <td>ASIA_roam</td>\n",
       "      <td>0.006</td>\n",
       "    </tr>\n",
       "    <tr>\n",
       "      <th>2</th>\n",
       "      <td>ASIA_conf</td>\n",
       "      <td>0.004</td>\n",
       "    </tr>\n",
       "    <tr>\n",
       "      <th>17</th>\n",
       "      <td>N_AMERICA_conf_lag1</td>\n",
       "      <td>0.004</td>\n",
       "    </tr>\n",
       "    <tr>\n",
       "      <th>8</th>\n",
       "      <td>N_AMERICA_roam</td>\n",
       "      <td>0.004</td>\n",
       "    </tr>\n",
       "    <tr>\n",
       "      <th>15</th>\n",
       "      <td>CHINA_conf_lag1</td>\n",
       "      <td>0.004</td>\n",
       "    </tr>\n",
       "    <tr>\n",
       "      <th>27</th>\n",
       "      <td>coro_tr_lag1</td>\n",
       "      <td>0.003</td>\n",
       "    </tr>\n",
       "    <tr>\n",
       "      <th>16</th>\n",
       "      <td>ASIA_conf_lag1</td>\n",
       "      <td>0.003</td>\n",
       "    </tr>\n",
       "    <tr>\n",
       "      <th>10</th>\n",
       "      <td>NEWS</td>\n",
       "      <td>0.003</td>\n",
       "    </tr>\n",
       "    <tr>\n",
       "      <th>22</th>\n",
       "      <td>N_AMERICA_roam_lag1</td>\n",
       "      <td>0.002</td>\n",
       "    </tr>\n",
       "    <tr>\n",
       "      <th>20</th>\n",
       "      <td>CHINA_roam_lag1</td>\n",
       "      <td>0.002</td>\n",
       "    </tr>\n",
       "    <tr>\n",
       "      <th>3</th>\n",
       "      <td>N_AMERICA_conf</td>\n",
       "      <td>0.002</td>\n",
       "    </tr>\n",
       "  </tbody>\n",
       "</table>\n",
       "</div>"
      ],
      "text/plain": [
       "                Feature  Importance\n",
       "18         NZ_conf_lag1       0.427\n",
       "4               NZ_conf       0.181\n",
       "24          target_lag1       0.128\n",
       "11             covid_tr       0.072\n",
       "26        covid_tr_lag1       0.056\n",
       "0             EURO_conf       0.036\n",
       "14       EURO_conf_lag1       0.022\n",
       "25            NEWS_lag1       0.020\n",
       "1            CHINA_conf       0.012\n",
       "7             ASIA_roam       0.006\n",
       "2             ASIA_conf       0.004\n",
       "17  N_AMERICA_conf_lag1       0.004\n",
       "8        N_AMERICA_roam       0.004\n",
       "15      CHINA_conf_lag1       0.004\n",
       "27         coro_tr_lag1       0.003\n",
       "16       ASIA_conf_lag1       0.003\n",
       "10                 NEWS       0.003\n",
       "22  N_AMERICA_roam_lag1       0.002\n",
       "20      CHINA_roam_lag1       0.002\n",
       "3        N_AMERICA_conf       0.002"
      ]
     },
     "execution_count": 92,
     "metadata": {},
     "output_type": "execute_result"
    }
   ],
   "source": [
    "# tree.feature_importances_로 설명변수 중요도 확인 및 테이블로 저장\n",
    "df_importance = pd.DataFrame()\n",
    "df_importance['Feature'] = list(X.columns)\n",
    "df_importance['Importance'] = rf.feature_importances_\n",
    "\n",
    "# df_feature_importance의 테이블을 중요도별로 정렬\n",
    "df_importance.sort_values(\"Importance\", ascending = False, inplace = True)\n",
    "df_importance.round(3).head(20)"
   ]
  },
  {
   "cell_type": "code",
   "execution_count": 93,
   "metadata": {},
   "outputs": [],
   "source": [
    "new_importance = df_importance[df_importance['Importance'] > 0.01]"
   ]
  },
  {
   "cell_type": "code",
   "execution_count": 94,
   "metadata": {},
   "outputs": [
    {
     "data": {
      "text/html": [
       "<div>\n",
       "<style scoped>\n",
       "    .dataframe tbody tr th:only-of-type {\n",
       "        vertical-align: middle;\n",
       "    }\n",
       "\n",
       "    .dataframe tbody tr th {\n",
       "        vertical-align: top;\n",
       "    }\n",
       "\n",
       "    .dataframe thead th {\n",
       "        text-align: right;\n",
       "    }\n",
       "</style>\n",
       "<table border=\"1\" class=\"dataframe\">\n",
       "  <thead>\n",
       "    <tr style=\"text-align: right;\">\n",
       "      <th></th>\n",
       "      <th>Feature</th>\n",
       "      <th>Importance</th>\n",
       "    </tr>\n",
       "  </thead>\n",
       "  <tbody>\n",
       "    <tr>\n",
       "      <th>18</th>\n",
       "      <td>NZ_conf_lag1</td>\n",
       "      <td>0.426724</td>\n",
       "    </tr>\n",
       "    <tr>\n",
       "      <th>4</th>\n",
       "      <td>NZ_conf</td>\n",
       "      <td>0.180851</td>\n",
       "    </tr>\n",
       "    <tr>\n",
       "      <th>24</th>\n",
       "      <td>target_lag1</td>\n",
       "      <td>0.128182</td>\n",
       "    </tr>\n",
       "    <tr>\n",
       "      <th>11</th>\n",
       "      <td>covid_tr</td>\n",
       "      <td>0.071733</td>\n",
       "    </tr>\n",
       "    <tr>\n",
       "      <th>26</th>\n",
       "      <td>covid_tr_lag1</td>\n",
       "      <td>0.056313</td>\n",
       "    </tr>\n",
       "    <tr>\n",
       "      <th>0</th>\n",
       "      <td>EURO_conf</td>\n",
       "      <td>0.036333</td>\n",
       "    </tr>\n",
       "    <tr>\n",
       "      <th>14</th>\n",
       "      <td>EURO_conf_lag1</td>\n",
       "      <td>0.022297</td>\n",
       "    </tr>\n",
       "    <tr>\n",
       "      <th>25</th>\n",
       "      <td>NEWS_lag1</td>\n",
       "      <td>0.019879</td>\n",
       "    </tr>\n",
       "    <tr>\n",
       "      <th>1</th>\n",
       "      <td>CHINA_conf</td>\n",
       "      <td>0.012010</td>\n",
       "    </tr>\n",
       "  </tbody>\n",
       "</table>\n",
       "</div>"
      ],
      "text/plain": [
       "           Feature  Importance\n",
       "18    NZ_conf_lag1    0.426724\n",
       "4          NZ_conf    0.180851\n",
       "24     target_lag1    0.128182\n",
       "11        covid_tr    0.071733\n",
       "26   covid_tr_lag1    0.056313\n",
       "0        EURO_conf    0.036333\n",
       "14  EURO_conf_lag1    0.022297\n",
       "25       NEWS_lag1    0.019879\n",
       "1       CHINA_conf    0.012010"
      ]
     },
     "execution_count": 94,
     "metadata": {},
     "output_type": "execute_result"
    }
   ],
   "source": [
    "new_importance"
   ]
  },
  {
   "cell_type": "code",
   "execution_count": 537,
   "metadata": {},
   "outputs": [
    {
     "data": {
      "text/plain": [
       "Text(0, 0.5, '변수')"
      ]
     },
     "execution_count": 537,
     "metadata": {},
     "output_type": "execute_result"
    },
    {
     "data": {
      "image/png": "[encoded data removed]",
      "text/plain": [
       "<Figure size 432x288 with 1 Axes>"
      ]
     },
     "metadata": {},
     "output_type": "display_data"
    }
   ],
   "source": [
    "# 설명변수 중요도 그래\n",
    "# 중요도가 높은 변수를 상위에 그림\n",
    "# 상위 10개 확인\n",
    "df_importance1 = df_importance.head(15)\n",
    "df_importance1.sort_values(\"Importance\", ascending = True, inplace = True)\n",
    "coordinates = range(len(df_importance1))\n",
    "plt.barh(y = coordinates,\n",
    "        width = df_importance1['Importance'])\n",
    "plt.yticks(coordinates, df_importance1['Feature'])\n",
    "plt.xlabel('변수 중요도')\n",
    "plt.ylabel('변수')"
   ]
  },
  {
   "cell_type": "markdown",
   "metadata": {},
   "source": [
    "# Stacking Model Prediction"
   ]
  },
  {
   "cell_type": "code",
   "execution_count": 95,
   "metadata": {},
   "outputs": [],
   "source": [
    "# 변수명 지정\n",
    "X_cols = list(new_importance.Feature)\n",
    "\n",
    "# train / test split 범위 지정\n",
    "test_data_size = 14\n",
    "\n",
    "# X변수들과 y변수 구분\n",
    "X = df[X_cols]\n",
    "y = df['target']\n",
    "\n",
    "# X 변수 Scale 적용\n",
    "scaler = MinMaxScaler()\n",
    "X = scaler.fit_transform(X)"
   ]
  },
  {
   "cell_type": "code",
   "execution_count": 96,
   "metadata": {},
   "outputs": [],
   "source": [
    "# Train, Test set split\n",
    "X_train, X_test = X[:-test_data_size], X[-test_data_size:]\n",
    "y_train, y_test = y[:-test_data_size], y[-test_data_size:]"
   ]
  },
  {
   "cell_type": "code",
   "execution_count": 97,
   "metadata": {},
   "outputs": [],
   "source": [
    "# build model\n",
    "Stacking_Model = StackingRegressor(estimators=estimators)\n",
    "\n",
    "labels = y_train\n",
    "features = X_train\n",
    "\n",
    "# Fit the RF model with features and labels.\n",
    "st_reg=Stacking_Model.fit(features, labels)"
   ]
  },
  {
   "cell_type": "code",
   "execution_count": 98,
   "metadata": {},
   "outputs": [],
   "source": [
    "# 모델 실행 및 결과 확인\n",
    "X_test_predict=pd.DataFrame(\n",
    "    st_reg.predict(X_test)).rename(\n",
    "    columns={0:'predict'})\n",
    "X_train_predict=pd.DataFrame(\n",
    "    st_reg.predict(X_train)).rename(\n",
    "    columns={0:'predict'})\n",
    "\n",
    "# combine the training and testing dataframes to visualize\n",
    "# and compare.\n",
    "SR_predict = X_train_predict.append(X_test_predict)"
   ]
  },
  {
   "cell_type": "code",
   "execution_count": 99,
   "metadata": {},
   "outputs": [
    {
     "data": {
      "text/plain": [
       "array([29.43432893, 30.48592358, 28.71953962, 27.26175094, 27.15735104,\n",
       "       27.84288857, 28.61703119, 29.00198937, 25.7586136 , 25.58833178,\n",
       "       25.81642875, 24.88627266, 23.23354193, 22.6783895 ])"
      ]
     },
     "execution_count": 99,
     "metadata": {},
     "output_type": "execute_result"
    }
   ],
   "source": [
    "st_reg.predict(X_test)"
   ]
  },
  {
   "cell_type": "code",
   "execution_count": 100,
   "metadata": {},
   "outputs": [],
   "source": [
    "SR_predict.set_index(pd.to_datetime(df.index, format='%Y%m%d'), inplace=True)"
   ]
  },
  {
   "cell_type": "code",
   "execution_count": 101,
   "metadata": {},
   "outputs": [
    {
     "data": {
      "text/plain": [
       "<matplotlib.axes._subplots.AxesSubplot at 0x24f12765780>"
      ]
     },
     "execution_count": 101,
     "metadata": {},
     "output_type": "execute_result"
    },
    {
     "data": {
      "image/png": "[encoded data removed]",
      "text/plain": [
       "<Figure size 1440x360 with 1 Axes>"
      ]
     },
     "metadata": {},
     "output_type": "display_data"
    }
   ],
   "source": [
    "plt.figure(figsize=(20,5))\n",
    "SR_predict['diff']=SR_predict.predict - df.target\n",
    "SR_predict['diff'].plot(kind='bar')"
   ]
  },
  {
   "cell_type": "code",
   "execution_count": 102,
   "metadata": {},
   "outputs": [
    {
     "data": {
      "text/plain": [
       "<matplotlib.legend.Legend at 0x24f13273780>"
      ]
     },
     "execution_count": 102,
     "metadata": {},
     "output_type": "execute_result"
    },
    {
     "data": {
      "image/png": "[encoded data removed]",
      "text/plain": [
       "<Figure size 1440x432 with 1 Axes>"
      ]
     },
     "metadata": {},
     "output_type": "display_data"
    }
   ],
   "source": [
    "plt.figure(figsize=(20,6))\n",
    "plt.plot(SR_predict['predict'][-len(X_test):], '--',label='Pred', )\n",
    "plt.plot(df['target'], label='Real')\n",
    "\n",
    "plt.legend()"
   ]
  },
  {
   "cell_type": "code",
   "execution_count": 103,
   "metadata": {},
   "outputs": [
    {
     "data": {
      "text/plain": [
       "array([29.43432893, 30.48592358, 28.71953962, 27.26175094, 27.15735104,\n",
       "       27.84288857, 28.61703119, 29.00198937, 25.7586136 , 25.58833178,\n",
       "       25.81642875, 24.88627266, 23.23354193, 22.6783895 ])"
      ]
     },
     "execution_count": 103,
     "metadata": {},
     "output_type": "execute_result"
    }
   ],
   "source": [
    "st_reg.predict(X_test)"
   ]
  },
  {
   "cell_type": "code",
   "execution_count": 104,
   "metadata": {},
   "outputs": [],
   "source": [
    "from sklearn.metrics import r2_score\n",
    "RSquared = r2_score(y_train, X_train_predict.values)"
   ]
  },
  {
   "cell_type": "code",
   "execution_count": 105,
   "metadata": {},
   "outputs": [
    {
     "data": {
      "text/plain": [
       "-1.7622056381195095"
      ]
     },
     "execution_count": 105,
     "metadata": {},
     "output_type": "execute_result"
    }
   ],
   "source": [
    "RSquared"
   ]
  },
  {
   "cell_type": "code",
   "execution_count": 106,
   "metadata": {},
   "outputs": [
    {
     "data": {
      "text/plain": [
       "array([29.43432893, 30.48592358, 28.71953962, 27.26175094, 27.15735104,\n",
       "       27.84288857, 28.61703119, 29.00198937, 25.7586136 , 25.58833178,\n",
       "       25.81642875, 24.88627266, 23.23354193, 22.6783895 ])"
      ]
     },
     "execution_count": 106,
     "metadata": {},
     "output_type": "execute_result"
    }
   ],
   "source": [
    "st_reg.predict(X_test)"
   ]
  },
  {
   "cell_type": "code",
   "execution_count": 107,
   "metadata": {},
   "outputs": [],
   "source": [
    "preds = pd.DataFrame({'real':y_test,'pred':st_reg.predict(X_test)})"
   ]
  },
  {
   "cell_type": "code",
   "execution_count": 108,
   "metadata": {},
   "outputs": [],
   "source": [
    "preds['gap'] = preds.real - preds.pred"
   ]
  },
  {
   "cell_type": "code",
   "execution_count": 109,
   "metadata": {},
   "outputs": [
    {
     "data": {
      "text/html": [
       "<div>\n",
       "<style scoped>\n",
       "    .dataframe tbody tr th:only-of-type {\n",
       "        vertical-align: middle;\n",
       "    }\n",
       "\n",
       "    .dataframe tbody tr th {\n",
       "        vertical-align: top;\n",
       "    }\n",
       "\n",
       "    .dataframe thead th {\n",
       "        text-align: right;\n",
       "    }\n",
       "</style>\n",
       "<table border=\"1\" class=\"dataframe\">\n",
       "  <thead>\n",
       "    <tr style=\"text-align: right;\">\n",
       "      <th></th>\n",
       "      <th>real</th>\n",
       "      <th>pred</th>\n",
       "      <th>gap</th>\n",
       "    </tr>\n",
       "    <tr>\n",
       "      <th>Date</th>\n",
       "      <th></th>\n",
       "      <th></th>\n",
       "      <th></th>\n",
       "    </tr>\n",
       "  </thead>\n",
       "  <tbody>\n",
       "    <tr>\n",
       "      <th>2020-04-22</th>\n",
       "      <td>6.0</td>\n",
       "      <td>29.434329</td>\n",
       "      <td>-23.434329</td>\n",
       "    </tr>\n",
       "    <tr>\n",
       "      <th>2020-04-23</th>\n",
       "      <td>4.0</td>\n",
       "      <td>30.485924</td>\n",
       "      <td>-26.485924</td>\n",
       "    </tr>\n",
       "    <tr>\n",
       "      <th>2020-04-24</th>\n",
       "      <td>2.0</td>\n",
       "      <td>28.719540</td>\n",
       "      <td>-26.719540</td>\n",
       "    </tr>\n",
       "    <tr>\n",
       "      <th>2020-04-25</th>\n",
       "      <td>4.0</td>\n",
       "      <td>27.261751</td>\n",
       "      <td>-23.261751</td>\n",
       "    </tr>\n",
       "    <tr>\n",
       "      <th>2020-04-26</th>\n",
       "      <td>10.0</td>\n",
       "      <td>27.157351</td>\n",
       "      <td>-17.157351</td>\n",
       "    </tr>\n",
       "    <tr>\n",
       "      <th>2020-04-27</th>\n",
       "      <td>7.0</td>\n",
       "      <td>27.842889</td>\n",
       "      <td>-20.842889</td>\n",
       "    </tr>\n",
       "    <tr>\n",
       "      <th>2020-04-28</th>\n",
       "      <td>12.0</td>\n",
       "      <td>28.617031</td>\n",
       "      <td>-16.617031</td>\n",
       "    </tr>\n",
       "    <tr>\n",
       "      <th>2020-04-29</th>\n",
       "      <td>5.0</td>\n",
       "      <td>29.001989</td>\n",
       "      <td>-24.001989</td>\n",
       "    </tr>\n",
       "    <tr>\n",
       "      <th>2020-04-30</th>\n",
       "      <td>4.0</td>\n",
       "      <td>25.758614</td>\n",
       "      <td>-21.758614</td>\n",
       "    </tr>\n",
       "    <tr>\n",
       "      <th>2020-05-01</th>\n",
       "      <td>8.0</td>\n",
       "      <td>25.588332</td>\n",
       "      <td>-17.588332</td>\n",
       "    </tr>\n",
       "    <tr>\n",
       "      <th>2020-05-02</th>\n",
       "      <td>8.0</td>\n",
       "      <td>25.816429</td>\n",
       "      <td>-17.816429</td>\n",
       "    </tr>\n",
       "    <tr>\n",
       "      <th>2020-05-03</th>\n",
       "      <td>10.0</td>\n",
       "      <td>24.886273</td>\n",
       "      <td>-14.886273</td>\n",
       "    </tr>\n",
       "    <tr>\n",
       "      <th>2020-05-04</th>\n",
       "      <td>8.0</td>\n",
       "      <td>23.233542</td>\n",
       "      <td>-15.233542</td>\n",
       "    </tr>\n",
       "    <tr>\n",
       "      <th>2020-05-05</th>\n",
       "      <td>3.0</td>\n",
       "      <td>22.678390</td>\n",
       "      <td>-19.678390</td>\n",
       "    </tr>\n",
       "  </tbody>\n",
       "</table>\n",
       "</div>"
      ],
      "text/plain": [
       "            real       pred        gap\n",
       "Date                                  \n",
       "2020-04-22   6.0  29.434329 -23.434329\n",
       "2020-04-23   4.0  30.485924 -26.485924\n",
       "2020-04-24   2.0  28.719540 -26.719540\n",
       "2020-04-25   4.0  27.261751 -23.261751\n",
       "2020-04-26  10.0  27.157351 -17.157351\n",
       "2020-04-27   7.0  27.842889 -20.842889\n",
       "2020-04-28  12.0  28.617031 -16.617031\n",
       "2020-04-29   5.0  29.001989 -24.001989\n",
       "2020-04-30   4.0  25.758614 -21.758614\n",
       "2020-05-01   8.0  25.588332 -17.588332\n",
       "2020-05-02   8.0  25.816429 -17.816429\n",
       "2020-05-03  10.0  24.886273 -14.886273\n",
       "2020-05-04   8.0  23.233542 -15.233542\n",
       "2020-05-05   3.0  22.678390 -19.678390"
      ]
     },
     "execution_count": 109,
     "metadata": {},
     "output_type": "execute_result"
    }
   ],
   "source": [
    "preds"
   ]
  },
  {
   "cell_type": "code",
   "execution_count": 110,
   "metadata": {},
   "outputs": [
    {
     "data": {
      "text/plain": [
       "<matplotlib.axes._subplots.AxesSubplot at 0x24f13072898>"
      ]
     },
     "execution_count": 110,
     "metadata": {},
     "output_type": "execute_result"
    },
    {
     "data": {
      "image/png": "[encoded data removed]",
      "text/plain": [
       "<Figure size 432x288 with 1 Axes>"
      ]
     },
     "metadata": {},
     "output_type": "display_data"
    }
   ],
   "source": [
    "preds.plot()"
   ]
  },
  {
   "cell_type": "code",
   "execution_count": 111,
   "metadata": {},
   "outputs": [],
   "source": [
    "from sklearn.metrics import mean_squared_error\n",
    "# validation score\n",
    "MSE = mean_squared_error(y_test, st_reg.predict(X_test))\n",
    "RMSE = np.sqrt(MSE)\n",
    "score = 100*(1-(((st_reg.predict(X_test) - y_test)**2).sum())/(st_reg.predict(X_test)**2).sum())"
   ]
  },
  {
   "cell_type": "code",
   "execution_count": 112,
   "metadata": {},
   "outputs": [
    {
     "name": "stdout",
     "output_type": "stream",
     "text": [
      "MSE : 430.56067381940477, RMSE : 20.74995599560165, SCORE : 40.87314645221242\n"
     ]
    }
   ],
   "source": [
    "print(\"MSE : {0}, RMSE : {1}, SCORE : {2}\".format(MSE, RMSE, score))"
   ]
  },
  {
   "cell_type": "code",
   "execution_count": null,
   "metadata": {},
   "outputs": [],
   "source": []
  },
  {
   "cell_type": "code",
   "execution_count": null,
   "metadata": {},
   "outputs": [],
   "source": []
  }
 ],
 "metadata": {
  "kernelspec": {
   "display_name": "Python 3",
   "language": "python",
   "name": "python3"
  },
  "language_info": {
   "codemirror_mode": {
    "name": "ipython",
    "version": 3
   },
   "file_extension": ".py",
   "mimetype": "text/x-python",
   "name": "python",
   "nbconvert_exporter": "python",
   "pygments_lexer": "ipython3",
   "version": "3.7.3"
  }
 },
 "nbformat": 4,
 "nbformat_minor": 4
}
