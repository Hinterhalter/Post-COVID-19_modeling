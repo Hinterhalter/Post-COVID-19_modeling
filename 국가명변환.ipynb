{
 "cells": [
  {
   "cell_type": "markdown",
   "metadata": {},
   "source": [
    "# 데이터 셋 만들기\n",
    "\n",
    "1. iso 표준 데이터 다운로드\n",
    "\n",
    "2. iso 표준 데이터에 맞춰 kaggle에서 받은 국가별 확진자 데이터의 국가명을 국가코드로 변경\n",
    "    - 이 과정에서 iso 표준의 국가명과 괄호 또는 영문표기 등으로 맞지 않는 60여개의 국가는 수기로 변경\n",
    "    - 코소보는 검색을 통해 XK로 변경\n",
    "    - 데이터에 Diamond Princess, MS Zaandam, West Bank and Gaza 와 같은 국가가 아닌 발병지가 있어서 삭제\n",
    "3. 공모전에서 제공하는 roamming 데이터를 iso 별로 일일 로밍 수 생성\n",
    "\n",
    "4. 데이터 통합"
   ]
  },
  {
   "cell_type": "code",
   "execution_count": 1,
   "metadata": {},
   "outputs": [],
   "source": [
    "import pandas as pd\n",
    "import numpy as np"
   ]
  },
  {
   "cell_type": "markdown",
   "metadata": {},
   "source": [
    "# 1. iso 표준 데이터"
   ]
  },
  {
   "cell_type": "code",
   "execution_count": 2,
   "metadata": {},
   "outputs": [],
   "source": [
    "iso = pd.read_csv('./data/iso.csv')"
   ]
  },
  {
   "cell_type": "code",
   "execution_count": 3,
   "metadata": {},
   "outputs": [],
   "source": [
    "# covide-19 글로벌 kaggle 데이터\n",
    "kag = pd.read_csv('./data/corona-virus-report/covid_19_clean_complete.csv')\n",
    "kag['Date'] = pd.to_datetime(kag['Date'])"
   ]
  },
  {
   "cell_type": "code",
   "execution_count": 4,
   "metadata": {},
   "outputs": [
    {
     "name": "stdout",
     "output_type": "stream",
     "text": [
      "<class 'pandas.core.frame.DataFrame'>\n",
      "RangeIndex: 27720 entries, 0 to 27719\n",
      "Data columns (total 8 columns):\n",
      "Province/State    8400 non-null object\n",
      "Country/Region    27720 non-null object\n",
      "Lat               27720 non-null float64\n",
      "Long              27720 non-null float64\n",
      "Date              27720 non-null datetime64[ns]\n",
      "Confirmed         27720 non-null int64\n",
      "Deaths            27720 non-null int64\n",
      "Recovered         27720 non-null int64\n",
      "dtypes: datetime64[ns](1), float64(2), int64(3), object(2)\n",
      "memory usage: 1.7+ MB\n"
     ]
    }
   ],
   "source": [
    "kag.info()"
   ]
  },
  {
   "cell_type": "code",
   "execution_count": 5,
   "metadata": {},
   "outputs": [],
   "source": [
    "pivoted_kag = kag.pivot_table(index='Date', columns='Country/Region', values = 'Confirmed', aggfunc='sum')"
   ]
  },
  {
   "cell_type": "code",
   "execution_count": 6,
   "metadata": {},
   "outputs": [],
   "source": [
    "col_list = list(pivoted_kag.columns)"
   ]
  },
  {
   "cell_type": "code",
   "execution_count": 7,
   "metadata": {},
   "outputs": [
    {
     "data": {
      "text/html": [
       "<div>\n",
       "<style scoped>\n",
       "    .dataframe tbody tr th:only-of-type {\n",
       "        vertical-align: middle;\n",
       "    }\n",
       "\n",
       "    .dataframe tbody tr th {\n",
       "        vertical-align: top;\n",
       "    }\n",
       "\n",
       "    .dataframe thead th {\n",
       "        text-align: right;\n",
       "    }\n",
       "</style>\n",
       "<table border=\"1\" class=\"dataframe\">\n",
       "  <thead>\n",
       "    <tr style=\"text-align: right;\">\n",
       "      <th></th>\n",
       "      <th>English short name</th>\n",
       "      <th>Alpha-2 code</th>\n",
       "      <th>Numeric</th>\n",
       "    </tr>\n",
       "  </thead>\n",
       "  <tbody>\n",
       "    <tr>\n",
       "      <th>0</th>\n",
       "      <td>Afghanistan</td>\n",
       "      <td>AF</td>\n",
       "      <td>4.0</td>\n",
       "    </tr>\n",
       "    <tr>\n",
       "      <th>1</th>\n",
       "      <td>Albania</td>\n",
       "      <td>AL</td>\n",
       "      <td>8.0</td>\n",
       "    </tr>\n",
       "    <tr>\n",
       "      <th>2</th>\n",
       "      <td>Algeria</td>\n",
       "      <td>DZ</td>\n",
       "      <td>12.0</td>\n",
       "    </tr>\n",
       "    <tr>\n",
       "      <th>3</th>\n",
       "      <td>American Samoa</td>\n",
       "      <td>AS</td>\n",
       "      <td>16.0</td>\n",
       "    </tr>\n",
       "    <tr>\n",
       "      <th>4</th>\n",
       "      <td>Andorra</td>\n",
       "      <td>AD</td>\n",
       "      <td>20.0</td>\n",
       "    </tr>\n",
       "  </tbody>\n",
       "</table>\n",
       "</div>"
      ],
      "text/plain": [
       "  English short name Alpha-2 code  Numeric\n",
       "0        Afghanistan           AF      4.0\n",
       "1            Albania           AL      8.0\n",
       "2            Algeria           DZ     12.0\n",
       "3     American Samoa           AS     16.0\n",
       "4            Andorra           AD     20.0"
      ]
     },
     "execution_count": 7,
     "metadata": {},
     "output_type": "execute_result"
    }
   ],
   "source": [
    "iso.head()"
   ]
  },
  {
   "cell_type": "code",
   "execution_count": 8,
   "metadata": {},
   "outputs": [],
   "source": [
    "tmp = []\n",
    "iso_list = list(iso['English short name'])\n",
    "iso_code_list = list(iso['Alpha-2 code'])\n",
    "for i in col_list:\n",
    "    if i in iso_list:\n",
    "        index_num = iso_list.index(i)\n",
    "        pivoted_kag['{}'.format(iso_code_list[index_num])] = pivoted_kag[i]\n",
    "        pivoted_kag.drop([i], axis=1, inplace=True)\n",
    "        \n",
    "    else:\n",
    "        tmp.append(i)"
   ]
  },
  {
   "cell_type": "code",
   "execution_count": 9,
   "metadata": {},
   "outputs": [],
   "source": [
    "# 맞지 않는 국가 코드 딕셔너리 생성\n",
    "etc_dict = {\n",
    " 'Bahamas' : 'BS',\n",
    " 'Bolivia' : 'BO',\n",
    " 'Brunei' : 'BN',\n",
    " 'Burma' : 'MM',\n",
    " 'Central African Republic' : 'CF',\n",
    " 'Comoros' : 'KM',\n",
    " 'Congo (Brazzaville)' : 'CG',\n",
    " 'Congo (Kinshasa)' : 'CD',\n",
    " \"Cote d'Ivoire\" : 'CI',\n",
    " 'Dominican Republic' : 'DO',\n",
    " 'Gambia' : 'GM',\n",
    " 'Holy See' : 'VA',\n",
    " 'Iran' : 'IR',\n",
    " 'Kosovo' : 'XK',\n",
    " 'Laos' : 'LA',\n",
    " 'Moldova' : 'MD',\n",
    " 'Netherlands' : 'NL',\n",
    " 'Niger' : 'NE',\n",
    " 'Philippines' : 'PH',\n",
    " 'Russia' : 'RU',\n",
    " 'South Korea' : 'KR',\n",
    " 'Sudan' : 'SS',\n",
    " 'Syria' : 'SY',\n",
    " 'Taiwan*' : 'TW',\n",
    " 'Tanzania' : 'TZ',\n",
    " 'US' : 'US',\n",
    " 'United Arab Emirates':'AE',\n",
    " 'United Kingdom':'GB',\n",
    " 'Venezuela':'VE',\n",
    " 'Vietnam':'VN',\n",
    "}"
   ]
  },
  {
   "cell_type": "code",
   "execution_count": 10,
   "metadata": {},
   "outputs": [],
   "source": [
    "pivoted_kag.rename(columns=etc_dict, inplace=True)"
   ]
  },
  {
   "cell_type": "code",
   "execution_count": 11,
   "metadata": {},
   "outputs": [],
   "source": [
    "pivoted_kag.drop(['Diamond Princess', 'MS Zaandam', 'West Bank and Gaza'], axis=1, inplace=True)"
   ]
  },
  {
   "cell_type": "code",
   "execution_count": 12,
   "metadata": {},
   "outputs": [],
   "source": [
    "last_cols = list(pivoted_kag.columns)"
   ]
  },
  {
   "cell_type": "code",
   "execution_count": 13,
   "metadata": {},
   "outputs": [],
   "source": [
    "# 일일 별 확진자 수로 컬럼 변경\n",
    "for i in last_cols:\n",
    "    pivoted_kag[i] = pivoted_kag[i].diff()"
   ]
  },
  {
   "cell_type": "code",
   "execution_count": 14,
   "metadata": {},
   "outputs": [],
   "source": [
    "pivoted_kag.reset_index(inplace=True)"
   ]
  },
  {
   "cell_type": "code",
   "execution_count": 15,
   "metadata": {},
   "outputs": [],
   "source": [
    "pivoted_kag.iloc[0,1:] = 0"
   ]
  },
  {
   "cell_type": "code",
   "execution_count": 16,
   "metadata": {},
   "outputs": [
    {
     "data": {
      "text/html": [
       "<div>\n",
       "<style scoped>\n",
       "    .dataframe tbody tr th:only-of-type {\n",
       "        vertical-align: middle;\n",
       "    }\n",
       "\n",
       "    .dataframe tbody tr th {\n",
       "        vertical-align: top;\n",
       "    }\n",
       "\n",
       "    .dataframe thead th {\n",
       "        text-align: right;\n",
       "    }\n",
       "</style>\n",
       "<table border=\"1\" class=\"dataframe\">\n",
       "  <thead>\n",
       "    <tr style=\"text-align: right;\">\n",
       "      <th>Country/Region</th>\n",
       "      <th>Date</th>\n",
       "      <th>BS</th>\n",
       "      <th>BO</th>\n",
       "      <th>BN</th>\n",
       "      <th>MM</th>\n",
       "      <th>CF</th>\n",
       "      <th>KM</th>\n",
       "      <th>CG</th>\n",
       "      <th>CD</th>\n",
       "      <th>CI</th>\n",
       "      <th>...</th>\n",
       "      <th>TN</th>\n",
       "      <th>TR</th>\n",
       "      <th>UG</th>\n",
       "      <th>UA</th>\n",
       "      <th>UY</th>\n",
       "      <th>UZ</th>\n",
       "      <th>EH</th>\n",
       "      <th>YE</th>\n",
       "      <th>ZM</th>\n",
       "      <th>ZW</th>\n",
       "    </tr>\n",
       "  </thead>\n",
       "  <tbody>\n",
       "    <tr>\n",
       "      <th>100</th>\n",
       "      <td>2020-05-01</td>\n",
       "      <td>0.0</td>\n",
       "      <td>119.0</td>\n",
       "      <td>0.0</td>\n",
       "      <td>0.0</td>\n",
       "      <td>22.0</td>\n",
       "      <td>0.0</td>\n",
       "      <td>9.0</td>\n",
       "      <td>32.0</td>\n",
       "      <td>58.0</td>\n",
       "      <td>...</td>\n",
       "      <td>4.0</td>\n",
       "      <td>2188.0</td>\n",
       "      <td>2.0</td>\n",
       "      <td>455.0</td>\n",
       "      <td>5.0</td>\n",
       "      <td>47.0</td>\n",
       "      <td>0.0</td>\n",
       "      <td>1.0</td>\n",
       "      <td>3.0</td>\n",
       "      <td>0.0</td>\n",
       "    </tr>\n",
       "    <tr>\n",
       "      <th>101</th>\n",
       "      <td>2020-05-02</td>\n",
       "      <td>2.0</td>\n",
       "      <td>0.0</td>\n",
       "      <td>0.0</td>\n",
       "      <td>0.0</td>\n",
       "      <td>0.0</td>\n",
       "      <td>2.0</td>\n",
       "      <td>0.0</td>\n",
       "      <td>70.0</td>\n",
       "      <td>29.0</td>\n",
       "      <td>...</td>\n",
       "      <td>11.0</td>\n",
       "      <td>1983.0</td>\n",
       "      <td>3.0</td>\n",
       "      <td>550.0</td>\n",
       "      <td>4.0</td>\n",
       "      <td>32.0</td>\n",
       "      <td>0.0</td>\n",
       "      <td>3.0</td>\n",
       "      <td>10.0</td>\n",
       "      <td>-6.0</td>\n",
       "    </tr>\n",
       "    <tr>\n",
       "      <th>102</th>\n",
       "      <td>2020-05-03</td>\n",
       "      <td>0.0</td>\n",
       "      <td>365.0</td>\n",
       "      <td>0.0</td>\n",
       "      <td>4.0</td>\n",
       "      <td>0.0</td>\n",
       "      <td>0.0</td>\n",
       "      <td>0.0</td>\n",
       "      <td>0.0</td>\n",
       "      <td>36.0</td>\n",
       "      <td>...</td>\n",
       "      <td>4.0</td>\n",
       "      <td>1670.0</td>\n",
       "      <td>1.0</td>\n",
       "      <td>502.0</td>\n",
       "      <td>3.0</td>\n",
       "      <td>31.0</td>\n",
       "      <td>0.0</td>\n",
       "      <td>0.0</td>\n",
       "      <td>5.0</td>\n",
       "      <td>0.0</td>\n",
       "    </tr>\n",
       "    <tr>\n",
       "      <th>103</th>\n",
       "      <td>2020-05-04</td>\n",
       "      <td>0.0</td>\n",
       "      <td>87.0</td>\n",
       "      <td>0.0</td>\n",
       "      <td>6.0</td>\n",
       "      <td>13.0</td>\n",
       "      <td>0.0</td>\n",
       "      <td>7.0</td>\n",
       "      <td>8.0</td>\n",
       "      <td>34.0</td>\n",
       "      <td>...</td>\n",
       "      <td>5.0</td>\n",
       "      <td>1614.0</td>\n",
       "      <td>8.0</td>\n",
       "      <td>418.0</td>\n",
       "      <td>2.0</td>\n",
       "      <td>40.0</td>\n",
       "      <td>0.0</td>\n",
       "      <td>2.0</td>\n",
       "      <td>13.0</td>\n",
       "      <td>0.0</td>\n",
       "    </tr>\n",
       "    <tr>\n",
       "      <th>104</th>\n",
       "      <td>2020-05-05</td>\n",
       "      <td>6.0</td>\n",
       "      <td>121.0</td>\n",
       "      <td>0.0</td>\n",
       "      <td>0.0</td>\n",
       "      <td>0.0</td>\n",
       "      <td>0.0</td>\n",
       "      <td>0.0</td>\n",
       "      <td>23.0</td>\n",
       "      <td>32.0</td>\n",
       "      <td>...</td>\n",
       "      <td>4.0</td>\n",
       "      <td>1832.0</td>\n",
       "      <td>1.0</td>\n",
       "      <td>366.0</td>\n",
       "      <td>13.0</td>\n",
       "      <td>18.0</td>\n",
       "      <td>0.0</td>\n",
       "      <td>10.0</td>\n",
       "      <td>1.0</td>\n",
       "      <td>0.0</td>\n",
       "    </tr>\n",
       "  </tbody>\n",
       "</table>\n",
       "<p>5 rows × 185 columns</p>\n",
       "</div>"
      ],
      "text/plain": [
       "Country/Region       Date   BS     BO   BN   MM    CF   KM   CG    CD    CI  \\\n",
       "100            2020-05-01  0.0  119.0  0.0  0.0  22.0  0.0  9.0  32.0  58.0   \n",
       "101            2020-05-02  2.0    0.0  0.0  0.0   0.0  2.0  0.0  70.0  29.0   \n",
       "102            2020-05-03  0.0  365.0  0.0  4.0   0.0  0.0  0.0   0.0  36.0   \n",
       "103            2020-05-04  0.0   87.0  0.0  6.0  13.0  0.0  7.0   8.0  34.0   \n",
       "104            2020-05-05  6.0  121.0  0.0  0.0   0.0  0.0  0.0  23.0  32.0   \n",
       "\n",
       "Country/Region  ...    TN      TR   UG     UA    UY    UZ   EH    YE    ZM  \\\n",
       "100             ...   4.0  2188.0  2.0  455.0   5.0  47.0  0.0   1.0   3.0   \n",
       "101             ...  11.0  1983.0  3.0  550.0   4.0  32.0  0.0   3.0  10.0   \n",
       "102             ...   4.0  1670.0  1.0  502.0   3.0  31.0  0.0   0.0   5.0   \n",
       "103             ...   5.0  1614.0  8.0  418.0   2.0  40.0  0.0   2.0  13.0   \n",
       "104             ...   4.0  1832.0  1.0  366.0  13.0  18.0  0.0  10.0   1.0   \n",
       "\n",
       "Country/Region   ZW  \n",
       "100             0.0  \n",
       "101            -6.0  \n",
       "102             0.0  \n",
       "103             0.0  \n",
       "104             0.0  \n",
       "\n",
       "[5 rows x 185 columns]"
      ]
     },
     "execution_count": 16,
     "metadata": {},
     "output_type": "execute_result"
    }
   ],
   "source": [
    "pivoted_kag.tail()"
   ]
  },
  {
   "cell_type": "markdown",
   "metadata": {},
   "source": [
    "# 3. 로밍데이터"
   ]
  },
  {
   "cell_type": "code",
   "execution_count": 19,
   "metadata": {},
   "outputs": [],
   "source": [
    "# 로밍데이터\n",
    "roam1 = pd.read_csv('./data/corona_contest_data_0406/2. Roaming_data.csv')\n",
    "roam2 = pd.read_csv('./data/corona_contest_data_0429/2. Roaming_data.csv')\n",
    "roam3 = pd.read_csv('./data/corona_contest_data_0506/2. Roaming_data.csv')"
   ]
  },
  {
   "cell_type": "code",
   "execution_count": 20,
   "metadata": {},
   "outputs": [],
   "source": [
    "roam = pd.concat([roam1, roam2, roam3])\n",
    "roam.rename(columns={'return':'Date'}, inplace=True)\n",
    "roam['Date'] = pd.to_datetime(roam['Date'], format='%Y%m%d')\n",
    "roam['arrival'] = pd.to_datetime(roam['arrival'], format='%Y%m%d')\n",
    "roam['departure'] = pd.to_datetime(roam['departure'], format='%Y%m%d')"
   ]
  },
  {
   "cell_type": "code",
   "execution_count": 21,
   "metadata": {},
   "outputs": [],
   "source": [
    "#iso 편의를 위해 대문자로 변경\n",
    "\n",
    "roam['iso'] = roam['iso'].str.upper() "
   ]
  },
  {
   "cell_type": "code",
   "execution_count": 22,
   "metadata": {},
   "outputs": [],
   "source": [
    "# 파생변수 생성\n",
    "# arrival과 return의 차를 내서 해외에 체류한 일자수를 계산함\n",
    "\n",
    "roam['stay'] = roam['Date'] - roam['arrival']\n",
    "roam['stay'] = roam['stay'].astype('timedelta64[D]')"
   ]
  },
  {
   "cell_type": "code",
   "execution_count": 23,
   "metadata": {},
   "outputs": [
    {
     "data": {
      "text/html": [
       "<div>\n",
       "<style scoped>\n",
       "    .dataframe tbody tr th:only-of-type {\n",
       "        vertical-align: middle;\n",
       "    }\n",
       "\n",
       "    .dataframe tbody tr th {\n",
       "        vertical-align: top;\n",
       "    }\n",
       "\n",
       "    .dataframe thead th {\n",
       "        text-align: right;\n",
       "    }\n",
       "</style>\n",
       "<table border=\"1\" class=\"dataframe\">\n",
       "  <thead>\n",
       "    <tr style=\"text-align: right;\">\n",
       "      <th></th>\n",
       "      <th>Date</th>\n",
       "      <th>iso</th>\n",
       "      <th>arrival</th>\n",
       "      <th>departure</th>\n",
       "      <th>count</th>\n",
       "      <th>stay</th>\n",
       "    </tr>\n",
       "  </thead>\n",
       "  <tbody>\n",
       "    <tr>\n",
       "      <th>0</th>\n",
       "      <td>2020-01-31</td>\n",
       "      <td>AD</td>\n",
       "      <td>2020-01-30</td>\n",
       "      <td>2020-01-30</td>\n",
       "      <td>3</td>\n",
       "      <td>1.0</td>\n",
       "    </tr>\n",
       "    <tr>\n",
       "      <th>1</th>\n",
       "      <td>2020-01-31</td>\n",
       "      <td>AE</td>\n",
       "      <td>2019-12-31</td>\n",
       "      <td>2020-01-25</td>\n",
       "      <td>3</td>\n",
       "      <td>31.0</td>\n",
       "    </tr>\n",
       "    <tr>\n",
       "      <th>2</th>\n",
       "      <td>2020-01-31</td>\n",
       "      <td>AE</td>\n",
       "      <td>2019-12-31</td>\n",
       "      <td>2020-01-31</td>\n",
       "      <td>3</td>\n",
       "      <td>31.0</td>\n",
       "    </tr>\n",
       "    <tr>\n",
       "      <th>3</th>\n",
       "      <td>2020-01-31</td>\n",
       "      <td>AE</td>\n",
       "      <td>2020-01-02</td>\n",
       "      <td>2020-01-02</td>\n",
       "      <td>3</td>\n",
       "      <td>29.0</td>\n",
       "    </tr>\n",
       "    <tr>\n",
       "      <th>4</th>\n",
       "      <td>2020-01-31</td>\n",
       "      <td>AE</td>\n",
       "      <td>2020-01-04</td>\n",
       "      <td>2020-01-31</td>\n",
       "      <td>3</td>\n",
       "      <td>27.0</td>\n",
       "    </tr>\n",
       "  </tbody>\n",
       "</table>\n",
       "</div>"
      ],
      "text/plain": [
       "        Date iso    arrival  departure  count  stay\n",
       "0 2020-01-31  AD 2020-01-30 2020-01-30      3   1.0\n",
       "1 2020-01-31  AE 2019-12-31 2020-01-25      3  31.0\n",
       "2 2020-01-31  AE 2019-12-31 2020-01-31      3  31.0\n",
       "3 2020-01-31  AE 2020-01-02 2020-01-02      3  29.0\n",
       "4 2020-01-31  AE 2020-01-04 2020-01-31      3  27.0"
      ]
     },
     "execution_count": 23,
     "metadata": {},
     "output_type": "execute_result"
    }
   ],
   "source": [
    "roam.head()"
   ]
  },
  {
   "cell_type": "code",
   "execution_count": 24,
   "metadata": {},
   "outputs": [],
   "source": [
    "grouped_iso = roam[roam['stay'] >=7].groupby('iso', as_index=True)[['count']].sum().sort_values(by='count',ascending=True)"
   ]
  },
  {
   "cell_type": "code",
   "execution_count": 25,
   "metadata": {},
   "outputs": [
    {
     "data": {
      "text/html": [
       "<div>\n",
       "<style scoped>\n",
       "    .dataframe tbody tr th:only-of-type {\n",
       "        vertical-align: middle;\n",
       "    }\n",
       "\n",
       "    .dataframe tbody tr th {\n",
       "        vertical-align: top;\n",
       "    }\n",
       "\n",
       "    .dataframe thead th {\n",
       "        text-align: right;\n",
       "    }\n",
       "</style>\n",
       "<table border=\"1\" class=\"dataframe\">\n",
       "  <thead>\n",
       "    <tr style=\"text-align: right;\">\n",
       "      <th></th>\n",
       "      <th>count</th>\n",
       "    </tr>\n",
       "  </thead>\n",
       "  <tbody>\n",
       "    <tr>\n",
       "      <th>count</th>\n",
       "      <td>168.000000</td>\n",
       "    </tr>\n",
       "    <tr>\n",
       "      <th>mean</th>\n",
       "      <td>2701.535714</td>\n",
       "    </tr>\n",
       "    <tr>\n",
       "      <th>std</th>\n",
       "      <td>5866.157101</td>\n",
       "    </tr>\n",
       "    <tr>\n",
       "      <th>min</th>\n",
       "      <td>3.000000</td>\n",
       "    </tr>\n",
       "    <tr>\n",
       "      <th>25%</th>\n",
       "      <td>72.000000</td>\n",
       "    </tr>\n",
       "    <tr>\n",
       "      <th>50%</th>\n",
       "      <td>314.000000</td>\n",
       "    </tr>\n",
       "    <tr>\n",
       "      <th>75%</th>\n",
       "      <td>1975.500000</td>\n",
       "    </tr>\n",
       "    <tr>\n",
       "      <th>max</th>\n",
       "      <td>37441.000000</td>\n",
       "    </tr>\n",
       "  </tbody>\n",
       "</table>\n",
       "</div>"
      ],
      "text/plain": [
       "              count\n",
       "count    168.000000\n",
       "mean    2701.535714\n",
       "std     5866.157101\n",
       "min        3.000000\n",
       "25%       72.000000\n",
       "50%      314.000000\n",
       "75%     1975.500000\n",
       "max    37441.000000"
      ]
     },
     "execution_count": 25,
     "metadata": {},
     "output_type": "execute_result"
    }
   ],
   "source": [
    "grouped_iso.describe()"
   ]
  },
  {
   "cell_type": "code",
   "execution_count": 26,
   "metadata": {},
   "outputs": [],
   "source": [
    "gi = grouped_iso[grouped_iso['count'] >= 1975.5].reset_index()"
   ]
  },
  {
   "cell_type": "code",
   "execution_count": 27,
   "metadata": {},
   "outputs": [],
   "source": [
    "extracted_countrys = list(gi.iso)"
   ]
  },
  {
   "cell_type": "code",
   "execution_count": 28,
   "metadata": {},
   "outputs": [
    {
     "data": {
      "text/plain": [
       "<matplotlib.axes._subplots.AxesSubplot at 0x21e3c3f25f8>"
      ]
     },
     "execution_count": 28,
     "metadata": {},
     "output_type": "execute_result"
    }
   ],
   "source": [
    "gi.set_index('iso').plot(kind='barh', figsize=(5,8))"
   ]
  },
  {
   "cell_type": "code",
   "execution_count": 49,
   "metadata": {},
   "outputs": [],
   "source": [
    "pivoted_roam = roam.pivot_table(index='Date', columns='iso', values='count', aggfunc='sum')"
   ]
  },
  {
   "cell_type": "code",
   "execution_count": 50,
   "metadata": {},
   "outputs": [],
   "source": [
    "# index 리셋\n",
    "#pivoted_roam.reset_index(inplace=True)\n",
    "# 결측치 0으로 대체\n",
    "pivoted_roam.fillna(0, inplace=True)"
   ]
  },
  {
   "cell_type": "code",
   "execution_count": 51,
   "metadata": {},
   "outputs": [],
   "source": [
    "#pivoted_roam.set_index('Date', inplace=True)\n",
    "new_roam = pivoted_roam[extracted_countrys]"
   ]
  },
  {
   "cell_type": "markdown",
   "metadata": {},
   "source": [
    "# 4. 데이터 결합"
   ]
  },
  {
   "cell_type": "code",
   "execution_count": 53,
   "metadata": {},
   "outputs": [],
   "source": [
    "df = pd.merge(pivoted_kag, new_roam, on='Date', suffixes=('_conf', '_roam'))"
   ]
  },
  {
   "cell_type": "code",
   "execution_count": 55,
   "metadata": {},
   "outputs": [],
   "source": [
    "df.set_index('Date',inplace=True)"
   ]
  },
  {
   "cell_type": "code",
   "execution_count": 56,
   "metadata": {},
   "outputs": [],
   "source": [
    "# 로밍데이터에는 있지만 글로벌 데이터에는 없거나, 반대인 경우는 삭제\n",
    "del_cols = []\n",
    "cols = list(df.columns)\n",
    "for col in cols:\n",
    "    if (col.find('_conf')  == -1 and col.find('_roam') == -1):\n",
    "        if col != 'KR':\n",
    "            del_cols.append(col)"
   ]
  },
  {
   "cell_type": "code",
   "execution_count": 57,
   "metadata": {},
   "outputs": [
    {
     "data": {
      "text/plain": [
       "['BS', 'BO', 'BN', 'CF', 'KM']"
      ]
     },
     "execution_count": 57,
     "metadata": {},
     "output_type": "execute_result"
    }
   ],
   "source": [
    "del_cols[:5]"
   ]
  },
  {
   "cell_type": "code",
   "execution_count": 58,
   "metadata": {},
   "outputs": [],
   "source": [
    "df.drop(del_cols, axis=1, inplace=True)"
   ]
  },
  {
   "cell_type": "code",
   "execution_count": 59,
   "metadata": {},
   "outputs": [],
   "source": [
    "df = df.astype(int)"
   ]
  },
  {
   "cell_type": "code",
   "execution_count": 60,
   "metadata": {
    "collapsed": true,
    "jupyter": {
     "outputs_hidden": true
    }
   },
   "outputs": [
    {
     "name": "stdout",
     "output_type": "stream",
     "text": [
      "<class 'pandas.core.frame.DataFrame'>\n",
      "DatetimeIndex: 105 entries, 2020-01-22 to 2020-05-05\n",
      "Data columns (total 79 columns):\n",
      "MM_conf    105 non-null int32\n",
      "LA_conf    105 non-null int32\n",
      "NL_conf    105 non-null int32\n",
      "PH_conf    105 non-null int32\n",
      "RU_conf    105 non-null int32\n",
      "KR         105 non-null int32\n",
      "TW_conf    105 non-null int32\n",
      "US_conf    105 non-null int32\n",
      "AE_conf    105 non-null int32\n",
      "GB_conf    105 non-null int32\n",
      "VN_conf    105 non-null int32\n",
      "AU_conf    105 non-null int32\n",
      "AT_conf    105 non-null int32\n",
      "KH_conf    105 non-null int32\n",
      "CA_conf    105 non-null int32\n",
      "CN_conf    105 non-null int32\n",
      "HR_conf    105 non-null int32\n",
      "CZ_conf    105 non-null int32\n",
      "EG_conf    105 non-null int32\n",
      "FI_conf    105 non-null int32\n",
      "FR_conf    105 non-null int32\n",
      "DE_conf    105 non-null int32\n",
      "HU_conf    105 non-null int32\n",
      "IN_conf    105 non-null int32\n",
      "ID_conf    105 non-null int32\n",
      "IL_conf    105 non-null int32\n",
      "IT_conf    105 non-null int32\n",
      "JP_conf    105 non-null int32\n",
      "MY_conf    105 non-null int32\n",
      "MX_conf    105 non-null int32\n",
      "MN_conf    105 non-null int32\n",
      "NZ_conf    105 non-null int32\n",
      "PL_conf    105 non-null int32\n",
      "PT_conf    105 non-null int32\n",
      "QA_conf    105 non-null int32\n",
      "SG_conf    105 non-null int32\n",
      "ES_conf    105 non-null int32\n",
      "CH_conf    105 non-null int32\n",
      "TH_conf    105 non-null int32\n",
      "TR_conf    105 non-null int32\n",
      "HR_roam    105 non-null int32\n",
      "MN_roam    105 non-null int32\n",
      "PL_roam    105 non-null int32\n",
      "MM_roam    105 non-null int32\n",
      "QA_roam    105 non-null int32\n",
      "EG_roam    105 non-null int32\n",
      "MX_roam    105 non-null int32\n",
      "LA_roam    105 non-null int32\n",
      "FI_roam    105 non-null int32\n",
      "HU_roam    105 non-null int32\n",
      "KH_roam    105 non-null int32\n",
      "IL_roam    105 non-null int32\n",
      "PT_roam    105 non-null int32\n",
      "CH_roam    105 non-null int32\n",
      "NL_roam    105 non-null int32\n",
      "TW_roam    105 non-null int32\n",
      "IN_roam    105 non-null int32\n",
      "NZ_roam    105 non-null int32\n",
      "CZ_roam    105 non-null int32\n",
      "CA_roam    105 non-null int32\n",
      "AT_roam    105 non-null int32\n",
      "RU_roam    105 non-null int32\n",
      "SG_roam    105 non-null int32\n",
      "AU_roam    105 non-null int32\n",
      "AE_roam    105 non-null int32\n",
      "ID_roam    105 non-null int32\n",
      "TR_roam    105 non-null int32\n",
      "GB_roam    105 non-null int32\n",
      "PH_roam    105 non-null int32\n",
      "MY_roam    105 non-null int32\n",
      "IT_roam    105 non-null int32\n",
      "ES_roam    105 non-null int32\n",
      "FR_roam    105 non-null int32\n",
      "DE_roam    105 non-null int32\n",
      "JP_roam    105 non-null int32\n",
      "TH_roam    105 non-null int32\n",
      "VN_roam    105 non-null int32\n",
      "US_roam    105 non-null int32\n",
      "CN_roam    105 non-null int32\n",
      "dtypes: int32(79)\n",
      "memory usage: 33.2 KB\n"
     ]
    }
   ],
   "source": [
    "df.info()"
   ]
  },
  {
   "cell_type": "markdown",
   "metadata": {},
   "source": [
    "# 뉴스"
   ]
  },
  {
   "cell_type": "code",
   "execution_count": 61,
   "metadata": {},
   "outputs": [],
   "source": [
    "news = pd.read_csv(\"./data/corona_news.csv\")"
   ]
  },
  {
   "cell_type": "code",
   "execution_count": 62,
   "metadata": {},
   "outputs": [],
   "source": [
    "news = news[:-4]\n",
    "news.rename(columns={'date':'Date', 'counts':'news'},inplace=True)\n",
    "news.Date = pd.to_datetime(news.Date)"
   ]
  },
  {
   "cell_type": "code",
   "execution_count": 63,
   "metadata": {},
   "outputs": [
    {
     "name": "stdout",
     "output_type": "stream",
     "text": [
      "<class 'pandas.core.frame.DataFrame'>\n",
      "RangeIndex: 107 entries, 0 to 106\n",
      "Data columns (total 2 columns):\n",
      "Date    107 non-null datetime64[ns]\n",
      "news    107 non-null float64\n",
      "dtypes: datetime64[ns](1), float64(1)\n",
      "memory usage: 1.8 KB\n"
     ]
    }
   ],
   "source": [
    "news.info()"
   ]
  },
  {
   "cell_type": "code",
   "execution_count": 64,
   "metadata": {},
   "outputs": [
    {
     "data": {
      "text/html": [
       "<div>\n",
       "<style scoped>\n",
       "    .dataframe tbody tr th:only-of-type {\n",
       "        vertical-align: middle;\n",
       "    }\n",
       "\n",
       "    .dataframe tbody tr th {\n",
       "        vertical-align: top;\n",
       "    }\n",
       "\n",
       "    .dataframe thead th {\n",
       "        text-align: right;\n",
       "    }\n",
       "</style>\n",
       "<table border=\"1\" class=\"dataframe\">\n",
       "  <thead>\n",
       "    <tr style=\"text-align: right;\">\n",
       "      <th></th>\n",
       "      <th>MM_conf</th>\n",
       "      <th>LA_conf</th>\n",
       "      <th>NL_conf</th>\n",
       "      <th>PH_conf</th>\n",
       "      <th>RU_conf</th>\n",
       "      <th>KR</th>\n",
       "      <th>TW_conf</th>\n",
       "      <th>US_conf</th>\n",
       "      <th>AE_conf</th>\n",
       "      <th>GB_conf</th>\n",
       "      <th>...</th>\n",
       "      <th>MY_roam</th>\n",
       "      <th>IT_roam</th>\n",
       "      <th>ES_roam</th>\n",
       "      <th>FR_roam</th>\n",
       "      <th>DE_roam</th>\n",
       "      <th>JP_roam</th>\n",
       "      <th>TH_roam</th>\n",
       "      <th>VN_roam</th>\n",
       "      <th>US_roam</th>\n",
       "      <th>CN_roam</th>\n",
       "    </tr>\n",
       "    <tr>\n",
       "      <th>Date</th>\n",
       "      <th></th>\n",
       "      <th></th>\n",
       "      <th></th>\n",
       "      <th></th>\n",
       "      <th></th>\n",
       "      <th></th>\n",
       "      <th></th>\n",
       "      <th></th>\n",
       "      <th></th>\n",
       "      <th></th>\n",
       "      <th></th>\n",
       "      <th></th>\n",
       "      <th></th>\n",
       "      <th></th>\n",
       "      <th></th>\n",
       "      <th></th>\n",
       "      <th></th>\n",
       "      <th></th>\n",
       "      <th></th>\n",
       "      <th></th>\n",
       "      <th></th>\n",
       "    </tr>\n",
       "  </thead>\n",
       "  <tbody>\n",
       "    <tr>\n",
       "      <th>2020-05-01</th>\n",
       "      <td>0</td>\n",
       "      <td>0</td>\n",
       "      <td>476</td>\n",
       "      <td>284</td>\n",
       "      <td>7933</td>\n",
       "      <td>6</td>\n",
       "      <td>0</td>\n",
       "      <td>34037</td>\n",
       "      <td>557</td>\n",
       "      <td>6204</td>\n",
       "      <td>...</td>\n",
       "      <td>6</td>\n",
       "      <td>3</td>\n",
       "      <td>0</td>\n",
       "      <td>9</td>\n",
       "      <td>6</td>\n",
       "      <td>119</td>\n",
       "      <td>32</td>\n",
       "      <td>58</td>\n",
       "      <td>108</td>\n",
       "      <td>196</td>\n",
       "    </tr>\n",
       "    <tr>\n",
       "      <th>2020-05-02</th>\n",
       "      <td>0</td>\n",
       "      <td>0</td>\n",
       "      <td>445</td>\n",
       "      <td>156</td>\n",
       "      <td>9623</td>\n",
       "      <td>13</td>\n",
       "      <td>3</td>\n",
       "      <td>29078</td>\n",
       "      <td>561</td>\n",
       "      <td>4815</td>\n",
       "      <td>...</td>\n",
       "      <td>6</td>\n",
       "      <td>3</td>\n",
       "      <td>3</td>\n",
       "      <td>39</td>\n",
       "      <td>26</td>\n",
       "      <td>158</td>\n",
       "      <td>15</td>\n",
       "      <td>17</td>\n",
       "      <td>132</td>\n",
       "      <td>84</td>\n",
       "    </tr>\n",
       "    <tr>\n",
       "      <th>2020-05-03</th>\n",
       "      <td>4</td>\n",
       "      <td>0</td>\n",
       "      <td>335</td>\n",
       "      <td>295</td>\n",
       "      <td>10633</td>\n",
       "      <td>8</td>\n",
       "      <td>4</td>\n",
       "      <td>25501</td>\n",
       "      <td>564</td>\n",
       "      <td>4342</td>\n",
       "      <td>...</td>\n",
       "      <td>0</td>\n",
       "      <td>6</td>\n",
       "      <td>3</td>\n",
       "      <td>3</td>\n",
       "      <td>18</td>\n",
       "      <td>142</td>\n",
       "      <td>22</td>\n",
       "      <td>52</td>\n",
       "      <td>92</td>\n",
       "      <td>121</td>\n",
       "    </tr>\n",
       "    <tr>\n",
       "      <th>2020-05-04</th>\n",
       "      <td>6</td>\n",
       "      <td>0</td>\n",
       "      <td>199</td>\n",
       "      <td>262</td>\n",
       "      <td>10581</td>\n",
       "      <td>3</td>\n",
       "      <td>2</td>\n",
       "      <td>22335</td>\n",
       "      <td>567</td>\n",
       "      <td>3990</td>\n",
       "      <td>...</td>\n",
       "      <td>0</td>\n",
       "      <td>3</td>\n",
       "      <td>0</td>\n",
       "      <td>9</td>\n",
       "      <td>30</td>\n",
       "      <td>122</td>\n",
       "      <td>6</td>\n",
       "      <td>91</td>\n",
       "      <td>66</td>\n",
       "      <td>88</td>\n",
       "    </tr>\n",
       "    <tr>\n",
       "      <th>2020-05-05</th>\n",
       "      <td>0</td>\n",
       "      <td>0</td>\n",
       "      <td>318</td>\n",
       "      <td>199</td>\n",
       "      <td>10102</td>\n",
       "      <td>2</td>\n",
       "      <td>0</td>\n",
       "      <td>23976</td>\n",
       "      <td>462</td>\n",
       "      <td>4411</td>\n",
       "      <td>...</td>\n",
       "      <td>3</td>\n",
       "      <td>0</td>\n",
       "      <td>0</td>\n",
       "      <td>0</td>\n",
       "      <td>18</td>\n",
       "      <td>161</td>\n",
       "      <td>26</td>\n",
       "      <td>49</td>\n",
       "      <td>123</td>\n",
       "      <td>94</td>\n",
       "    </tr>\n",
       "  </tbody>\n",
       "</table>\n",
       "<p>5 rows × 79 columns</p>\n",
       "</div>"
      ],
      "text/plain": [
       "            MM_conf  LA_conf  NL_conf  PH_conf  RU_conf  KR  TW_conf  US_conf  \\\n",
       "Date                                                                            \n",
       "2020-05-01        0        0      476      284     7933   6        0    34037   \n",
       "2020-05-02        0        0      445      156     9623  13        3    29078   \n",
       "2020-05-03        4        0      335      295    10633   8        4    25501   \n",
       "2020-05-04        6        0      199      262    10581   3        2    22335   \n",
       "2020-05-05        0        0      318      199    10102   2        0    23976   \n",
       "\n",
       "            AE_conf  GB_conf  ...  MY_roam  IT_roam  ES_roam  FR_roam  \\\n",
       "Date                          ...                                       \n",
       "2020-05-01      557     6204  ...        6        3        0        9   \n",
       "2020-05-02      561     4815  ...        6        3        3       39   \n",
       "2020-05-03      564     4342  ...        0        6        3        3   \n",
       "2020-05-04      567     3990  ...        0        3        0        9   \n",
       "2020-05-05      462     4411  ...        3        0        0        0   \n",
       "\n",
       "            DE_roam  JP_roam  TH_roam  VN_roam  US_roam  CN_roam  \n",
       "Date                                                              \n",
       "2020-05-01        6      119       32       58      108      196  \n",
       "2020-05-02       26      158       15       17      132       84  \n",
       "2020-05-03       18      142       22       52       92      121  \n",
       "2020-05-04       30      122        6       91       66       88  \n",
       "2020-05-05       18      161       26       49      123       94  \n",
       "\n",
       "[5 rows x 79 columns]"
      ]
     },
     "execution_count": 64,
     "metadata": {},
     "output_type": "execute_result"
    }
   ],
   "source": [
    "df.tail()"
   ]
  },
  {
   "cell_type": "code",
   "execution_count": 65,
   "metadata": {},
   "outputs": [],
   "source": [
    "df.reset_index(inplace=True)\n",
    "df = pd.merge(df, news, on='Date')"
   ]
  },
  {
   "cell_type": "markdown",
   "metadata": {},
   "source": [
    "# 구글 트렌드 데이터"
   ]
  },
  {
   "cell_type": "code",
   "execution_count": 66,
   "metadata": {},
   "outputs": [],
   "source": [
    "trend = pd.read_csv(\"./data/구글트렌드.csv\")"
   ]
  },
  {
   "cell_type": "code",
   "execution_count": 67,
   "metadata": {},
   "outputs": [],
   "source": [
    "trend=trend[['Date', 'covid_tr', 'coro_tr']]"
   ]
  },
  {
   "cell_type": "code",
   "execution_count": 68,
   "metadata": {},
   "outputs": [],
   "source": [
    "trend.Date = pd.to_datetime(trend.Date)"
   ]
  },
  {
   "cell_type": "code",
   "execution_count": 69,
   "metadata": {},
   "outputs": [],
   "source": [
    "df = pd.merge(df, trend, on='Date')"
   ]
  },
  {
   "cell_type": "markdown",
   "metadata": {},
   "source": [
    "# 국내 해외 유입 일별 확진자 데이터 병합"
   ]
  },
  {
   "cell_type": "code",
   "execution_count": 70,
   "metadata": {},
   "outputs": [],
   "source": [
    "ov = pd.read_csv('./data/oversea_inflow.csv')"
   ]
  },
  {
   "cell_type": "code",
   "execution_count": 71,
   "metadata": {},
   "outputs": [],
   "source": [
    "ov = ov[1:-1]"
   ]
  },
  {
   "cell_type": "code",
   "execution_count": 72,
   "metadata": {},
   "outputs": [],
   "source": [
    "ov = ov.iloc[:,0:2]"
   ]
  },
  {
   "cell_type": "code",
   "execution_count": 73,
   "metadata": {},
   "outputs": [],
   "source": [
    "ov.rename(columns={'date':'Date', 'oversea_inflow':'target'}, inplace=True)\n",
    "ov['Date'] = pd.to_datetime(ov['Date'])"
   ]
  },
  {
   "cell_type": "code",
   "execution_count": 74,
   "metadata": {},
   "outputs": [],
   "source": [
    "df = pd.merge(df, ov, on='Date')"
   ]
  },
  {
   "cell_type": "code",
   "execution_count": 75,
   "metadata": {},
   "outputs": [],
   "source": [
    "df.target = df.target.astype(int)"
   ]
  },
  {
   "cell_type": "code",
   "execution_count": 76,
   "metadata": {},
   "outputs": [],
   "source": [
    "df['target'] = df['target'].diff()"
   ]
  },
  {
   "cell_type": "code",
   "execution_count": 77,
   "metadata": {},
   "outputs": [
    {
     "name": "stderr",
     "output_type": "stream",
     "text": [
      "C:\\Users\\Joshua\\Anaconda3\\lib\\site-packages\\pandas\\core\\indexing.py:190: SettingWithCopyWarning: \n",
      "A value is trying to be set on a copy of a slice from a DataFrame\n",
      "\n",
      "See the caveats in the documentation: http://pandas.pydata.org/pandas-docs/stable/indexing.html#indexing-view-versus-copy\n",
      "  self._setitem_with_indexer(indexer, value)\n"
     ]
    }
   ],
   "source": [
    "df['target'].iloc[0] = 0"
   ]
  },
  {
   "cell_type": "code",
   "execution_count": 78,
   "metadata": {},
   "outputs": [
    {
     "data": {
      "text/html": [
       "<div>\n",
       "<style scoped>\n",
       "    .dataframe tbody tr th:only-of-type {\n",
       "        vertical-align: middle;\n",
       "    }\n",
       "\n",
       "    .dataframe tbody tr th {\n",
       "        vertical-align: top;\n",
       "    }\n",
       "\n",
       "    .dataframe thead th {\n",
       "        text-align: right;\n",
       "    }\n",
       "</style>\n",
       "<table border=\"1\" class=\"dataframe\">\n",
       "  <thead>\n",
       "    <tr style=\"text-align: right;\">\n",
       "      <th></th>\n",
       "      <th>Date</th>\n",
       "      <th>MM_conf</th>\n",
       "      <th>LA_conf</th>\n",
       "      <th>NL_conf</th>\n",
       "      <th>PH_conf</th>\n",
       "      <th>RU_conf</th>\n",
       "      <th>KR</th>\n",
       "      <th>TW_conf</th>\n",
       "      <th>US_conf</th>\n",
       "      <th>AE_conf</th>\n",
       "      <th>...</th>\n",
       "      <th>DE_roam</th>\n",
       "      <th>JP_roam</th>\n",
       "      <th>TH_roam</th>\n",
       "      <th>VN_roam</th>\n",
       "      <th>US_roam</th>\n",
       "      <th>CN_roam</th>\n",
       "      <th>news</th>\n",
       "      <th>covid_tr</th>\n",
       "      <th>coro_tr</th>\n",
       "      <th>target</th>\n",
       "    </tr>\n",
       "  </thead>\n",
       "  <tbody>\n",
       "    <tr>\n",
       "      <th>100</th>\n",
       "      <td>2020-05-01</td>\n",
       "      <td>0</td>\n",
       "      <td>0</td>\n",
       "      <td>476</td>\n",
       "      <td>284</td>\n",
       "      <td>7933</td>\n",
       "      <td>6</td>\n",
       "      <td>0</td>\n",
       "      <td>34037</td>\n",
       "      <td>557</td>\n",
       "      <td>...</td>\n",
       "      <td>6</td>\n",
       "      <td>119</td>\n",
       "      <td>32</td>\n",
       "      <td>58</td>\n",
       "      <td>108</td>\n",
       "      <td>196</td>\n",
       "      <td>1104.0</td>\n",
       "      <td>48.0</td>\n",
       "      <td>18.0</td>\n",
       "      <td>8.0</td>\n",
       "    </tr>\n",
       "    <tr>\n",
       "      <th>101</th>\n",
       "      <td>2020-05-02</td>\n",
       "      <td>0</td>\n",
       "      <td>0</td>\n",
       "      <td>445</td>\n",
       "      <td>156</td>\n",
       "      <td>9623</td>\n",
       "      <td>13</td>\n",
       "      <td>3</td>\n",
       "      <td>29078</td>\n",
       "      <td>561</td>\n",
       "      <td>...</td>\n",
       "      <td>26</td>\n",
       "      <td>158</td>\n",
       "      <td>15</td>\n",
       "      <td>17</td>\n",
       "      <td>132</td>\n",
       "      <td>84</td>\n",
       "      <td>732.0</td>\n",
       "      <td>43.0</td>\n",
       "      <td>18.0</td>\n",
       "      <td>8.0</td>\n",
       "    </tr>\n",
       "    <tr>\n",
       "      <th>102</th>\n",
       "      <td>2020-05-03</td>\n",
       "      <td>4</td>\n",
       "      <td>0</td>\n",
       "      <td>335</td>\n",
       "      <td>295</td>\n",
       "      <td>10633</td>\n",
       "      <td>8</td>\n",
       "      <td>4</td>\n",
       "      <td>25501</td>\n",
       "      <td>564</td>\n",
       "      <td>...</td>\n",
       "      <td>18</td>\n",
       "      <td>142</td>\n",
       "      <td>22</td>\n",
       "      <td>52</td>\n",
       "      <td>92</td>\n",
       "      <td>121</td>\n",
       "      <td>821.0</td>\n",
       "      <td>55.0</td>\n",
       "      <td>18.0</td>\n",
       "      <td>10.0</td>\n",
       "    </tr>\n",
       "    <tr>\n",
       "      <th>103</th>\n",
       "      <td>2020-05-04</td>\n",
       "      <td>6</td>\n",
       "      <td>0</td>\n",
       "      <td>199</td>\n",
       "      <td>262</td>\n",
       "      <td>10581</td>\n",
       "      <td>3</td>\n",
       "      <td>2</td>\n",
       "      <td>22335</td>\n",
       "      <td>567</td>\n",
       "      <td>...</td>\n",
       "      <td>30</td>\n",
       "      <td>122</td>\n",
       "      <td>6</td>\n",
       "      <td>91</td>\n",
       "      <td>66</td>\n",
       "      <td>88</td>\n",
       "      <td>1331.0</td>\n",
       "      <td>30.0</td>\n",
       "      <td>17.0</td>\n",
       "      <td>8.0</td>\n",
       "    </tr>\n",
       "    <tr>\n",
       "      <th>104</th>\n",
       "      <td>2020-05-05</td>\n",
       "      <td>0</td>\n",
       "      <td>0</td>\n",
       "      <td>318</td>\n",
       "      <td>199</td>\n",
       "      <td>10102</td>\n",
       "      <td>2</td>\n",
       "      <td>0</td>\n",
       "      <td>23976</td>\n",
       "      <td>462</td>\n",
       "      <td>...</td>\n",
       "      <td>18</td>\n",
       "      <td>161</td>\n",
       "      <td>26</td>\n",
       "      <td>49</td>\n",
       "      <td>123</td>\n",
       "      <td>94</td>\n",
       "      <td>793.0</td>\n",
       "      <td>NaN</td>\n",
       "      <td>NaN</td>\n",
       "      <td>3.0</td>\n",
       "    </tr>\n",
       "  </tbody>\n",
       "</table>\n",
       "<p>5 rows × 84 columns</p>\n",
       "</div>"
      ],
      "text/plain": [
       "          Date  MM_conf  LA_conf  NL_conf  PH_conf  RU_conf  KR  TW_conf  \\\n",
       "100 2020-05-01        0        0      476      284     7933   6        0   \n",
       "101 2020-05-02        0        0      445      156     9623  13        3   \n",
       "102 2020-05-03        4        0      335      295    10633   8        4   \n",
       "103 2020-05-04        6        0      199      262    10581   3        2   \n",
       "104 2020-05-05        0        0      318      199    10102   2        0   \n",
       "\n",
       "     US_conf  AE_conf  ...  DE_roam  JP_roam  TH_roam  VN_roam  US_roam  \\\n",
       "100    34037      557  ...        6      119       32       58      108   \n",
       "101    29078      561  ...       26      158       15       17      132   \n",
       "102    25501      564  ...       18      142       22       52       92   \n",
       "103    22335      567  ...       30      122        6       91       66   \n",
       "104    23976      462  ...       18      161       26       49      123   \n",
       "\n",
       "     CN_roam    news  covid_tr  coro_tr  target  \n",
       "100      196  1104.0      48.0     18.0     8.0  \n",
       "101       84   732.0      43.0     18.0     8.0  \n",
       "102      121   821.0      55.0     18.0    10.0  \n",
       "103       88  1331.0      30.0     17.0     8.0  \n",
       "104       94   793.0       NaN      NaN     3.0  \n",
       "\n",
       "[5 rows x 84 columns]"
      ]
     },
     "execution_count": 78,
     "metadata": {},
     "output_type": "execute_result"
    }
   ],
   "source": [
    "df.tail()"
   ]
  },
  {
   "cell_type": "code",
   "execution_count": 79,
   "metadata": {},
   "outputs": [],
   "source": [
    "df.covid_tr.iloc[-1] = 30\n",
    "df.coro_tr.iloc[-1] = 17"
   ]
  },
  {
   "cell_type": "code",
   "execution_count": 81,
   "metadata": {},
   "outputs": [],
   "source": [
    "df.to_csv('./data/final_0509.csv')"
   ]
  },
  {
   "cell_type": "code",
   "execution_count": null,
   "metadata": {},
   "outputs": [],
   "source": []
  }
 ],
 "metadata": {
  "kernelspec": {
   "display_name": "Python 3",
   "language": "python",
   "name": "python3"
  },
  "language_info": {
   "codemirror_mode": {
    "name": "ipython",
    "version": 3
   },
   "file_extension": ".py",
   "mimetype": "text/x-python",
   "name": "python",
   "nbconvert_exporter": "python",
   "pygments_lexer": "ipython3",
   "version": "3.7.3"
  }
 },
 "nbformat": 4,
 "nbformat_minor": 4
}
