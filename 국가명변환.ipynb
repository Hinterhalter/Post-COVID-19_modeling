{
 "cells": [
  {
   "cell_type": "markdown",
   "metadata": {},
   "source": [
    "# 데이터 셋 만들기\n",
    "\n",
    "1. iso 표준 데이터 다운로드\n",
    "\n",
    "2. iso 표준 데이터에 맞춰 kaggle에서 받은 국가별 확진자 데이터의 국가명을 국가코드로 변경\n",
    "    - 이 과정에서 iso 표준의 국가명과 괄호 또는 영문표기 등으로 맞지 않는 60여개의 국가는 수기로 변경\n",
    "    - 코소보는 검색을 통해 XK로 변경\n",
    "    - 데이터에 Diamond Princess, MS Zaandam, West Bank and Gaza 와 같은 국가가 아닌 발병지가 있어서 삭제\n",
    "3. 공모전에서 제공하는 roamming 데이터를 iso 별로 일일 로밍 수 생성\n",
    "\n",
    "4. 데이터 통합"
   ]
  },
  {
   "cell_type": "code",
   "execution_count": 142,
   "metadata": {},
   "outputs": [],
   "source": [
    "import pandas as pd\n",
    "import numpy as np"
   ]
  },
  {
   "cell_type": "markdown",
   "metadata": {},
   "source": [
    "# 1. iso 표준 데이터"
   ]
  },
  {
   "cell_type": "code",
   "execution_count": 143,
   "metadata": {},
   "outputs": [],
   "source": [
    "iso = pd.read_csv('./data/iso.csv')"
   ]
  },
  {
   "cell_type": "code",
   "execution_count": 144,
   "metadata": {},
   "outputs": [],
   "source": [
    "# covide-19 글로벌 kaggle 데이터\n",
    "kag = pd.read_csv('./data/corona-virus-report/covid_19_clean_complete.csv')\n",
    "kag['Date'] = pd.to_datetime(kag['Date'])"
   ]
  },
  {
   "cell_type": "code",
   "execution_count": 145,
   "metadata": {},
   "outputs": [
    {
     "name": "stdout",
     "output_type": "stream",
     "text": [
      "<class 'pandas.core.frame.DataFrame'>\n",
      "RangeIndex: 27720 entries, 0 to 27719\n",
      "Data columns (total 8 columns):\n",
      "Province/State    8400 non-null object\n",
      "Country/Region    27720 non-null object\n",
      "Lat               27720 non-null float64\n",
      "Long              27720 non-null float64\n",
      "Date              27720 non-null datetime64[ns]\n",
      "Confirmed         27720 non-null int64\n",
      "Deaths            27720 non-null int64\n",
      "Recovered         27720 non-null int64\n",
      "dtypes: datetime64[ns](1), float64(2), int64(3), object(2)\n",
      "memory usage: 1.7+ MB\n"
     ]
    }
   ],
   "source": [
    "kag.info()"
   ]
  },
  {
   "cell_type": "code",
   "execution_count": 146,
   "metadata": {},
   "outputs": [],
   "source": [
    "pivoted_kag = kag.pivot_table(index='Date', columns='Country/Region', values = 'Confirmed', aggfunc='sum')"
   ]
  },
  {
   "cell_type": "code",
   "execution_count": 147,
   "metadata": {},
   "outputs": [],
   "source": [
    "col_list = list(pivoted_kag.columns)"
   ]
  },
  {
   "cell_type": "code",
   "execution_count": 148,
   "metadata": {},
   "outputs": [
    {
     "data": {
      "text/html": [
       "<div>\n",
       "<style scoped>\n",
       "    .dataframe tbody tr th:only-of-type {\n",
       "        vertical-align: middle;\n",
       "    }\n",
       "\n",
       "    .dataframe tbody tr th {\n",
       "        vertical-align: top;\n",
       "    }\n",
       "\n",
       "    .dataframe thead th {\n",
       "        text-align: right;\n",
       "    }\n",
       "</style>\n",
       "<table border=\"1\" class=\"dataframe\">\n",
       "  <thead>\n",
       "    <tr style=\"text-align: right;\">\n",
       "      <th></th>\n",
       "      <th>English short name</th>\n",
       "      <th>Alpha-2 code</th>\n",
       "      <th>Numeric</th>\n",
       "    </tr>\n",
       "  </thead>\n",
       "  <tbody>\n",
       "    <tr>\n",
       "      <th>0</th>\n",
       "      <td>Afghanistan</td>\n",
       "      <td>AF</td>\n",
       "      <td>4.0</td>\n",
       "    </tr>\n",
       "    <tr>\n",
       "      <th>1</th>\n",
       "      <td>Albania</td>\n",
       "      <td>AL</td>\n",
       "      <td>8.0</td>\n",
       "    </tr>\n",
       "    <tr>\n",
       "      <th>2</th>\n",
       "      <td>Algeria</td>\n",
       "      <td>DZ</td>\n",
       "      <td>12.0</td>\n",
       "    </tr>\n",
       "    <tr>\n",
       "      <th>3</th>\n",
       "      <td>American Samoa</td>\n",
       "      <td>AS</td>\n",
       "      <td>16.0</td>\n",
       "    </tr>\n",
       "    <tr>\n",
       "      <th>4</th>\n",
       "      <td>Andorra</td>\n",
       "      <td>AD</td>\n",
       "      <td>20.0</td>\n",
       "    </tr>\n",
       "  </tbody>\n",
       "</table>\n",
       "</div>"
      ],
      "text/plain": [
       "  English short name Alpha-2 code  Numeric\n",
       "0        Afghanistan           AF      4.0\n",
       "1            Albania           AL      8.0\n",
       "2            Algeria           DZ     12.0\n",
       "3     American Samoa           AS     16.0\n",
       "4            Andorra           AD     20.0"
      ]
     },
     "execution_count": 148,
     "metadata": {},
     "output_type": "execute_result"
    }
   ],
   "source": [
    "iso.head()"
   ]
  },
  {
   "cell_type": "code",
   "execution_count": 149,
   "metadata": {},
   "outputs": [],
   "source": [
    "tmp = []\n",
    "iso_list = list(iso['English short name'])\n",
    "iso_code_list = list(iso['Alpha-2 code'])\n",
    "for i in col_list:\n",
    "    if i in iso_list:\n",
    "        index_num = iso_list.index(i)\n",
    "        pivoted_kag['{}'.format(iso_code_list[index_num])] = pivoted_kag[i]\n",
    "        pivoted_kag.drop([i], axis=1, inplace=True)\n",
    "        \n",
    "    else:\n",
    "        tmp.append(i)"
   ]
  },
  {
   "cell_type": "code",
   "execution_count": 150,
   "metadata": {},
   "outputs": [],
   "source": [
    "# 맞지 않는 국가 코드 딕셔너리 생성\n",
    "etc_dict = {\n",
    " 'Bahamas' : 'BS',\n",
    " 'Bolivia' : 'BO',\n",
    " 'Brunei' : 'BN',\n",
    " 'Burma' : 'MM',\n",
    " 'Central African Republic' : 'CF',\n",
    " 'Comoros' : 'KM',\n",
    " 'Congo (Brazzaville)' : 'CG',\n",
    " 'Congo (Kinshasa)' : 'CD',\n",
    " \"Cote d'Ivoire\" : 'CI',\n",
    " 'Dominican Republic' : 'DO',\n",
    " 'Gambia' : 'GM',\n",
    " 'Holy See' : 'VA',\n",
    " 'Iran' : 'IR',\n",
    " 'Kosovo' : 'XK',\n",
    " 'Laos' : 'LA',\n",
    " 'Moldova' : 'MD',\n",
    " 'Netherlands' : 'NL',\n",
    " 'Niger' : 'NE',\n",
    " 'Philippines' : 'PH',\n",
    " 'Russia' : 'RU',\n",
    " 'South Korea' : 'KR',\n",
    " 'Sudan' : 'SS',\n",
    " 'Syria' : 'SY',\n",
    " 'Taiwan*' : 'TW',\n",
    " 'Tanzania' : 'TZ',\n",
    " 'US' : 'US',\n",
    " 'United Arab Emirates':'AE',\n",
    " 'United Kingdom':'GB',\n",
    " 'Venezuela':'VE',\n",
    " 'Vietnam':'VN',\n",
    "}"
   ]
  },
  {
   "cell_type": "code",
   "execution_count": 151,
   "metadata": {},
   "outputs": [],
   "source": [
    "pivoted_kag.rename(columns=etc_dict, inplace=True)"
   ]
  },
  {
   "cell_type": "code",
   "execution_count": 152,
   "metadata": {},
   "outputs": [],
   "source": [
    "pivoted_kag.drop(['Diamond Princess', 'MS Zaandam', 'West Bank and Gaza'], axis=1, inplace=True)"
   ]
  },
  {
   "cell_type": "code",
   "execution_count": 153,
   "metadata": {},
   "outputs": [],
   "source": [
    "last_cols = list(pivoted_kag.columns)"
   ]
  },
  {
   "cell_type": "code",
   "execution_count": 154,
   "metadata": {},
   "outputs": [],
   "source": [
    "# 일일 별 확진자 수로 컬럼 변경\n",
    "for i in last_cols:\n",
    "    pivoted_kag[i] = pivoted_kag[i].diff()"
   ]
  },
  {
   "cell_type": "code",
   "execution_count": 155,
   "metadata": {},
   "outputs": [],
   "source": [
    "pivoted_kag.reset_index(inplace=True)"
   ]
  },
  {
   "cell_type": "code",
   "execution_count": 156,
   "metadata": {},
   "outputs": [],
   "source": [
    "pivoted_kag.iloc[0,1:] = 0"
   ]
  },
  {
   "cell_type": "code",
   "execution_count": 157,
   "metadata": {},
   "outputs": [
    {
     "data": {
      "text/html": [
       "<div>\n",
       "<style scoped>\n",
       "    .dataframe tbody tr th:only-of-type {\n",
       "        vertical-align: middle;\n",
       "    }\n",
       "\n",
       "    .dataframe tbody tr th {\n",
       "        vertical-align: top;\n",
       "    }\n",
       "\n",
       "    .dataframe thead th {\n",
       "        text-align: right;\n",
       "    }\n",
       "</style>\n",
       "<table border=\"1\" class=\"dataframe\">\n",
       "  <thead>\n",
       "    <tr style=\"text-align: right;\">\n",
       "      <th>Country/Region</th>\n",
       "      <th>Date</th>\n",
       "      <th>BS</th>\n",
       "      <th>BO</th>\n",
       "      <th>BN</th>\n",
       "      <th>MM</th>\n",
       "      <th>CF</th>\n",
       "      <th>KM</th>\n",
       "      <th>CG</th>\n",
       "      <th>CD</th>\n",
       "      <th>CI</th>\n",
       "      <th>...</th>\n",
       "      <th>TN</th>\n",
       "      <th>TR</th>\n",
       "      <th>UG</th>\n",
       "      <th>UA</th>\n",
       "      <th>UY</th>\n",
       "      <th>UZ</th>\n",
       "      <th>EH</th>\n",
       "      <th>YE</th>\n",
       "      <th>ZM</th>\n",
       "      <th>ZW</th>\n",
       "    </tr>\n",
       "  </thead>\n",
       "  <tbody>\n",
       "    <tr>\n",
       "      <th>0</th>\n",
       "      <td>2020-01-22</td>\n",
       "      <td>0.0</td>\n",
       "      <td>0.0</td>\n",
       "      <td>0.0</td>\n",
       "      <td>0.0</td>\n",
       "      <td>0.0</td>\n",
       "      <td>0.0</td>\n",
       "      <td>0.0</td>\n",
       "      <td>0.0</td>\n",
       "      <td>0.0</td>\n",
       "      <td>...</td>\n",
       "      <td>0.0</td>\n",
       "      <td>0.0</td>\n",
       "      <td>0.0</td>\n",
       "      <td>0.0</td>\n",
       "      <td>0.0</td>\n",
       "      <td>0.0</td>\n",
       "      <td>0.0</td>\n",
       "      <td>0.0</td>\n",
       "      <td>0.0</td>\n",
       "      <td>0.0</td>\n",
       "    </tr>\n",
       "    <tr>\n",
       "      <th>1</th>\n",
       "      <td>2020-01-23</td>\n",
       "      <td>0.0</td>\n",
       "      <td>0.0</td>\n",
       "      <td>0.0</td>\n",
       "      <td>0.0</td>\n",
       "      <td>0.0</td>\n",
       "      <td>0.0</td>\n",
       "      <td>0.0</td>\n",
       "      <td>0.0</td>\n",
       "      <td>0.0</td>\n",
       "      <td>...</td>\n",
       "      <td>0.0</td>\n",
       "      <td>0.0</td>\n",
       "      <td>0.0</td>\n",
       "      <td>0.0</td>\n",
       "      <td>0.0</td>\n",
       "      <td>0.0</td>\n",
       "      <td>0.0</td>\n",
       "      <td>0.0</td>\n",
       "      <td>0.0</td>\n",
       "      <td>0.0</td>\n",
       "    </tr>\n",
       "    <tr>\n",
       "      <th>2</th>\n",
       "      <td>2020-01-24</td>\n",
       "      <td>0.0</td>\n",
       "      <td>0.0</td>\n",
       "      <td>0.0</td>\n",
       "      <td>0.0</td>\n",
       "      <td>0.0</td>\n",
       "      <td>0.0</td>\n",
       "      <td>0.0</td>\n",
       "      <td>0.0</td>\n",
       "      <td>0.0</td>\n",
       "      <td>...</td>\n",
       "      <td>0.0</td>\n",
       "      <td>0.0</td>\n",
       "      <td>0.0</td>\n",
       "      <td>0.0</td>\n",
       "      <td>0.0</td>\n",
       "      <td>0.0</td>\n",
       "      <td>0.0</td>\n",
       "      <td>0.0</td>\n",
       "      <td>0.0</td>\n",
       "      <td>0.0</td>\n",
       "    </tr>\n",
       "    <tr>\n",
       "      <th>3</th>\n",
       "      <td>2020-01-25</td>\n",
       "      <td>0.0</td>\n",
       "      <td>0.0</td>\n",
       "      <td>0.0</td>\n",
       "      <td>0.0</td>\n",
       "      <td>0.0</td>\n",
       "      <td>0.0</td>\n",
       "      <td>0.0</td>\n",
       "      <td>0.0</td>\n",
       "      <td>0.0</td>\n",
       "      <td>...</td>\n",
       "      <td>0.0</td>\n",
       "      <td>0.0</td>\n",
       "      <td>0.0</td>\n",
       "      <td>0.0</td>\n",
       "      <td>0.0</td>\n",
       "      <td>0.0</td>\n",
       "      <td>0.0</td>\n",
       "      <td>0.0</td>\n",
       "      <td>0.0</td>\n",
       "      <td>0.0</td>\n",
       "    </tr>\n",
       "    <tr>\n",
       "      <th>4</th>\n",
       "      <td>2020-01-26</td>\n",
       "      <td>0.0</td>\n",
       "      <td>0.0</td>\n",
       "      <td>0.0</td>\n",
       "      <td>0.0</td>\n",
       "      <td>0.0</td>\n",
       "      <td>0.0</td>\n",
       "      <td>0.0</td>\n",
       "      <td>0.0</td>\n",
       "      <td>0.0</td>\n",
       "      <td>...</td>\n",
       "      <td>0.0</td>\n",
       "      <td>0.0</td>\n",
       "      <td>0.0</td>\n",
       "      <td>0.0</td>\n",
       "      <td>0.0</td>\n",
       "      <td>0.0</td>\n",
       "      <td>0.0</td>\n",
       "      <td>0.0</td>\n",
       "      <td>0.0</td>\n",
       "      <td>0.0</td>\n",
       "    </tr>\n",
       "  </tbody>\n",
       "</table>\n",
       "<p>5 rows × 185 columns</p>\n",
       "</div>"
      ],
      "text/plain": [
       "Country/Region       Date   BS   BO   BN   MM   CF   KM   CG   CD   CI  ...  \\\n",
       "0              2020-01-22  0.0  0.0  0.0  0.0  0.0  0.0  0.0  0.0  0.0  ...   \n",
       "1              2020-01-23  0.0  0.0  0.0  0.0  0.0  0.0  0.0  0.0  0.0  ...   \n",
       "2              2020-01-24  0.0  0.0  0.0  0.0  0.0  0.0  0.0  0.0  0.0  ...   \n",
       "3              2020-01-25  0.0  0.0  0.0  0.0  0.0  0.0  0.0  0.0  0.0  ...   \n",
       "4              2020-01-26  0.0  0.0  0.0  0.0  0.0  0.0  0.0  0.0  0.0  ...   \n",
       "\n",
       "Country/Region   TN   TR   UG   UA   UY   UZ   EH   YE   ZM   ZW  \n",
       "0               0.0  0.0  0.0  0.0  0.0  0.0  0.0  0.0  0.0  0.0  \n",
       "1               0.0  0.0  0.0  0.0  0.0  0.0  0.0  0.0  0.0  0.0  \n",
       "2               0.0  0.0  0.0  0.0  0.0  0.0  0.0  0.0  0.0  0.0  \n",
       "3               0.0  0.0  0.0  0.0  0.0  0.0  0.0  0.0  0.0  0.0  \n",
       "4               0.0  0.0  0.0  0.0  0.0  0.0  0.0  0.0  0.0  0.0  \n",
       "\n",
       "[5 rows x 185 columns]"
      ]
     },
     "execution_count": 157,
     "metadata": {},
     "output_type": "execute_result"
    }
   ],
   "source": [
    "pivoted_kag.head()"
   ]
  },
  {
   "cell_type": "markdown",
   "metadata": {},
   "source": [
    "# 3. 로밍데이터"
   ]
  },
  {
   "cell_type": "code",
   "execution_count": 158,
   "metadata": {},
   "outputs": [],
   "source": [
    "# 로밍데이터\n",
    "roam1 = pd.read_csv('./data/corona_contest_data_0406/2. Roaming_data.csv')\n",
    "roam2 = pd.read_csv('./data/corona_contest_data_0429/2. Roaming_data.csv')\n",
    "roam3 = pd.read_csv('./data/corona_contest_data_0506/2. Roaming_data.csv')"
   ]
  },
  {
   "cell_type": "code",
   "execution_count": 159,
   "metadata": {},
   "outputs": [],
   "source": [
    "roam = pd.concat([roam1, roam2, roam3])\n",
    "roam.rename(columns={'return':'Date'}, inplace=True)\n",
    "roam['Date'] = pd.to_datetime(roam['Date'], format='%Y%m%d')\n",
    "roam['arrival'] = pd.to_datetime(roam['arrival'], format='%Y%m%d')\n",
    "roam['departure'] = pd.to_datetime(roam['departure'], format='%Y%m%d')"
   ]
  },
  {
   "cell_type": "code",
   "execution_count": 160,
   "metadata": {},
   "outputs": [],
   "source": [
    "#iso 편의를 위해 대문자로 변경\n",
    "\n",
    "roam['iso'] = roam['iso'].str.upper() "
   ]
  },
  {
   "cell_type": "code",
   "execution_count": 161,
   "metadata": {},
   "outputs": [],
   "source": [
    "# 파생변수 생성\n",
    "# arrival과 return의 차를 내서 해외에 체류한 일자수를 계산함\n",
    "\n",
    "roam['stay'] = roam['Date'] - roam['arrival']\n",
    "roam['stay'] = roam['stay'].astype('timedelta64[D]')"
   ]
  },
  {
   "cell_type": "code",
   "execution_count": 162,
   "metadata": {},
   "outputs": [],
   "source": [
    "# 해외 체류 날짜가 7일 이상인 데이터만 가져오기\n",
    "n_roam = roam[roam['stay'] >= 14]"
   ]
  },
  {
   "cell_type": "code",
   "execution_count": 163,
   "metadata": {},
   "outputs": [],
   "source": [
    "pivoted_roam = roam.pivot_table(index = 'Date', columns='iso', values='count', aggfunc='sum')"
   ]
  },
  {
   "cell_type": "code",
   "execution_count": 164,
   "metadata": {},
   "outputs": [],
   "source": [
    "# index 리셋\n",
    "pivoted_roam.reset_index(inplace=True)\n",
    "# 결측치 0으로 대체\n",
    "pivoted_roam.fillna(0, inplace=True)"
   ]
  },
  {
   "cell_type": "code",
   "execution_count": 165,
   "metadata": {},
   "outputs": [
    {
     "data": {
      "text/plain": [
       "count                     157\n",
       "unique                    157\n",
       "top       2020-03-13 00:00:00\n",
       "freq                        1\n",
       "first     2019-12-01 00:00:00\n",
       "last      2020-05-05 00:00:00\n",
       "Name: Date, dtype: object"
      ]
     },
     "execution_count": 165,
     "metadata": {},
     "output_type": "execute_result"
    }
   ],
   "source": [
    "pivoted_roam['Date'].describe()"
   ]
  },
  {
   "cell_type": "markdown",
   "metadata": {},
   "source": [
    "# 4. 데이터 결합"
   ]
  },
  {
   "cell_type": "code",
   "execution_count": 166,
   "metadata": {},
   "outputs": [],
   "source": [
    "df = pd.merge(pivoted_kag, pivoted_roam, on='Date', suffixes=('_conf', '_roam'))"
   ]
  },
  {
   "cell_type": "code",
   "execution_count": 167,
   "metadata": {},
   "outputs": [],
   "source": [
    "df.set_index('Date',inplace=True)"
   ]
  },
  {
   "cell_type": "code",
   "execution_count": 168,
   "metadata": {},
   "outputs": [],
   "source": [
    "# 로밍데이터에는 있지만 글로벌 데이터에는 없거나, 반대인 경우는 삭제\n",
    "del_cols = []\n",
    "cols = list(df.columns)\n",
    "for col in cols:\n",
    "    if (col.find('_conf')  == -1 and col.find('_roam') == -1):\n",
    "        if col != 'KR':\n",
    "            del_cols.append(col)"
   ]
  },
  {
   "cell_type": "code",
   "execution_count": 169,
   "metadata": {},
   "outputs": [
    {
     "data": {
      "text/plain": [
       "['BS',\n",
       " 'KM',\n",
       " 'CG',\n",
       " 'VA',\n",
       " 'XK',\n",
       " 'SS',\n",
       " 'SY',\n",
       " 'VE',\n",
       " 'AG',\n",
       " 'BB',\n",
       " 'BI',\n",
       " 'CU',\n",
       " 'DJ',\n",
       " 'DM',\n",
       " 'ER',\n",
       " 'SZ',\n",
       " 'GD',\n",
       " 'GW',\n",
       " 'GY',\n",
       " 'nan',\n",
       " 'KN',\n",
       " 'LC',\n",
       " 'VC',\n",
       " 'SM',\n",
       " 'ST',\n",
       " 'SN',\n",
       " 'SO',\n",
       " 'SS',\n",
       " 'TJ',\n",
       " 'EH',\n",
       " 'AN',\n",
       " 'GU',\n",
       " 'HK',\n",
       " 'KY',\n",
       " 'LS',\n",
       " 'MO',\n",
       " 'MP',\n",
       " 'NA',\n",
       " 'PF',\n",
       " 'PR',\n",
       " 'PS',\n",
       " 'RE',\n",
       " 'SD',\n",
       " 'TC',\n",
       " 'TK',\n",
       " 'TM',\n",
       " 'TO',\n",
       " 'TP',\n",
       " 'VU',\n",
       " 'WS']"
      ]
     },
     "execution_count": 169,
     "metadata": {},
     "output_type": "execute_result"
    }
   ],
   "source": [
    "del_cols"
   ]
  },
  {
   "cell_type": "code",
   "execution_count": 170,
   "metadata": {},
   "outputs": [],
   "source": [
    "df.drop(del_cols, axis=1, inplace=True)"
   ]
  },
  {
   "cell_type": "code",
   "execution_count": 171,
   "metadata": {},
   "outputs": [],
   "source": [
    "df = df.astype(int)"
   ]
  },
  {
   "cell_type": "code",
   "execution_count": 172,
   "metadata": {},
   "outputs": [
    {
     "name": "stdout",
     "output_type": "stream",
     "text": [
      "<class 'pandas.core.frame.DataFrame'>\n",
      "DatetimeIndex: 105 entries, 2020-01-22 to 2020-05-05\n",
      "Columns: 307 entries, BO_conf to ZW_roam\n",
      "dtypes: int32(307)\n",
      "memory usage: 126.7 KB\n"
     ]
    }
   ],
   "source": [
    "df.info()"
   ]
  },
  {
   "cell_type": "markdown",
   "metadata": {},
   "source": [
    "# 국내 해외 유입 일별 확진자 데이터 병합"
   ]
  },
  {
   "cell_type": "code",
   "execution_count": 173,
   "metadata": {},
   "outputs": [],
   "source": [
    "ov = pd.read_csv('./data/oversea_inflow.csv')"
   ]
  },
  {
   "cell_type": "code",
   "execution_count": 174,
   "metadata": {},
   "outputs": [],
   "source": [
    "ov = ov[1:-1]"
   ]
  },
  {
   "cell_type": "code",
   "execution_count": 175,
   "metadata": {},
   "outputs": [],
   "source": [
    "ov = ov.iloc[:,0:2]"
   ]
  },
  {
   "cell_type": "code",
   "execution_count": 176,
   "metadata": {},
   "outputs": [],
   "source": [
    "ov.rename(columns={'date':'Date', 'oversea_inflow':'target'}, inplace=True)\n",
    "ov['Date'] = pd.to_datetime(ov['Date'])"
   ]
  },
  {
   "cell_type": "code",
   "execution_count": 177,
   "metadata": {},
   "outputs": [],
   "source": [
    "df = pd.merge(df, ov, on='Date')"
   ]
  },
  {
   "cell_type": "code",
   "execution_count": 178,
   "metadata": {},
   "outputs": [],
   "source": [
    "df.target = df.target.astype(int)"
   ]
  },
  {
   "cell_type": "code",
   "execution_count": 179,
   "metadata": {},
   "outputs": [],
   "source": [
    "df['target'] = df['target'].diff()"
   ]
  },
  {
   "cell_type": "code",
   "execution_count": 180,
   "metadata": {},
   "outputs": [],
   "source": [
    "df['target'].iloc[0] = 0"
   ]
  },
  {
   "cell_type": "code",
   "execution_count": 181,
   "metadata": {},
   "outputs": [
    {
     "data": {
      "text/html": [
       "<div>\n",
       "<style scoped>\n",
       "    .dataframe tbody tr th:only-of-type {\n",
       "        vertical-align: middle;\n",
       "    }\n",
       "\n",
       "    .dataframe tbody tr th {\n",
       "        vertical-align: top;\n",
       "    }\n",
       "\n",
       "    .dataframe thead th {\n",
       "        text-align: right;\n",
       "    }\n",
       "</style>\n",
       "<table border=\"1\" class=\"dataframe\">\n",
       "  <thead>\n",
       "    <tr style=\"text-align: right;\">\n",
       "      <th></th>\n",
       "      <th>Date</th>\n",
       "      <th>BO_conf</th>\n",
       "      <th>BN_conf</th>\n",
       "      <th>MM_conf</th>\n",
       "      <th>CF_conf</th>\n",
       "      <th>CD_conf</th>\n",
       "      <th>CI_conf</th>\n",
       "      <th>DO_conf</th>\n",
       "      <th>GM_conf</th>\n",
       "      <th>IR_conf</th>\n",
       "      <th>...</th>\n",
       "      <th>UG_roam</th>\n",
       "      <th>US_roam</th>\n",
       "      <th>UY_roam</th>\n",
       "      <th>UZ_roam</th>\n",
       "      <th>VN_roam</th>\n",
       "      <th>YE_roam</th>\n",
       "      <th>ZA_roam</th>\n",
       "      <th>ZM_roam</th>\n",
       "      <th>ZW_roam</th>\n",
       "      <th>target</th>\n",
       "    </tr>\n",
       "  </thead>\n",
       "  <tbody>\n",
       "    <tr>\n",
       "      <th>0</th>\n",
       "      <td>2020-01-22</td>\n",
       "      <td>0</td>\n",
       "      <td>0</td>\n",
       "      <td>0</td>\n",
       "      <td>0</td>\n",
       "      <td>0</td>\n",
       "      <td>0</td>\n",
       "      <td>0</td>\n",
       "      <td>0</td>\n",
       "      <td>0</td>\n",
       "      <td>...</td>\n",
       "      <td>0</td>\n",
       "      <td>701</td>\n",
       "      <td>5</td>\n",
       "      <td>127</td>\n",
       "      <td>2592</td>\n",
       "      <td>0</td>\n",
       "      <td>12</td>\n",
       "      <td>0</td>\n",
       "      <td>0</td>\n",
       "      <td>0.0</td>\n",
       "    </tr>\n",
       "    <tr>\n",
       "      <th>1</th>\n",
       "      <td>2020-01-23</td>\n",
       "      <td>0</td>\n",
       "      <td>0</td>\n",
       "      <td>0</td>\n",
       "      <td>0</td>\n",
       "      <td>0</td>\n",
       "      <td>0</td>\n",
       "      <td>0</td>\n",
       "      <td>0</td>\n",
       "      <td>0</td>\n",
       "      <td>...</td>\n",
       "      <td>12</td>\n",
       "      <td>943</td>\n",
       "      <td>22</td>\n",
       "      <td>63</td>\n",
       "      <td>2338</td>\n",
       "      <td>0</td>\n",
       "      <td>21</td>\n",
       "      <td>9</td>\n",
       "      <td>3</td>\n",
       "      <td>0.0</td>\n",
       "    </tr>\n",
       "    <tr>\n",
       "      <th>2</th>\n",
       "      <td>2020-01-24</td>\n",
       "      <td>0</td>\n",
       "      <td>0</td>\n",
       "      <td>0</td>\n",
       "      <td>0</td>\n",
       "      <td>0</td>\n",
       "      <td>0</td>\n",
       "      <td>0</td>\n",
       "      <td>0</td>\n",
       "      <td>0</td>\n",
       "      <td>...</td>\n",
       "      <td>15</td>\n",
       "      <td>864</td>\n",
       "      <td>14</td>\n",
       "      <td>42</td>\n",
       "      <td>2251</td>\n",
       "      <td>0</td>\n",
       "      <td>0</td>\n",
       "      <td>0</td>\n",
       "      <td>0</td>\n",
       "      <td>1.0</td>\n",
       "    </tr>\n",
       "    <tr>\n",
       "      <th>3</th>\n",
       "      <td>2020-01-25</td>\n",
       "      <td>0</td>\n",
       "      <td>0</td>\n",
       "      <td>0</td>\n",
       "      <td>0</td>\n",
       "      <td>0</td>\n",
       "      <td>0</td>\n",
       "      <td>0</td>\n",
       "      <td>0</td>\n",
       "      <td>0</td>\n",
       "      <td>...</td>\n",
       "      <td>6</td>\n",
       "      <td>828</td>\n",
       "      <td>22</td>\n",
       "      <td>82</td>\n",
       "      <td>2336</td>\n",
       "      <td>0</td>\n",
       "      <td>12</td>\n",
       "      <td>0</td>\n",
       "      <td>0</td>\n",
       "      <td>0.0</td>\n",
       "    </tr>\n",
       "    <tr>\n",
       "      <th>4</th>\n",
       "      <td>2020-01-26</td>\n",
       "      <td>0</td>\n",
       "      <td>0</td>\n",
       "      <td>0</td>\n",
       "      <td>0</td>\n",
       "      <td>0</td>\n",
       "      <td>0</td>\n",
       "      <td>0</td>\n",
       "      <td>0</td>\n",
       "      <td>0</td>\n",
       "      <td>...</td>\n",
       "      <td>0</td>\n",
       "      <td>900</td>\n",
       "      <td>7</td>\n",
       "      <td>45</td>\n",
       "      <td>2695</td>\n",
       "      <td>0</td>\n",
       "      <td>6</td>\n",
       "      <td>0</td>\n",
       "      <td>0</td>\n",
       "      <td>1.0</td>\n",
       "    </tr>\n",
       "  </tbody>\n",
       "</table>\n",
       "<p>5 rows × 309 columns</p>\n",
       "</div>"
      ],
      "text/plain": [
       "        Date  BO_conf  BN_conf  MM_conf  CF_conf  CD_conf  CI_conf  DO_conf  \\\n",
       "0 2020-01-22        0        0        0        0        0        0        0   \n",
       "1 2020-01-23        0        0        0        0        0        0        0   \n",
       "2 2020-01-24        0        0        0        0        0        0        0   \n",
       "3 2020-01-25        0        0        0        0        0        0        0   \n",
       "4 2020-01-26        0        0        0        0        0        0        0   \n",
       "\n",
       "   GM_conf  IR_conf  ...  UG_roam  US_roam  UY_roam  UZ_roam  VN_roam  \\\n",
       "0        0        0  ...        0      701        5      127     2592   \n",
       "1        0        0  ...       12      943       22       63     2338   \n",
       "2        0        0  ...       15      864       14       42     2251   \n",
       "3        0        0  ...        6      828       22       82     2336   \n",
       "4        0        0  ...        0      900        7       45     2695   \n",
       "\n",
       "   YE_roam  ZA_roam  ZM_roam  ZW_roam  target  \n",
       "0        0       12        0        0     0.0  \n",
       "1        0       21        9        3     0.0  \n",
       "2        0        0        0        0     1.0  \n",
       "3        0       12        0        0     0.0  \n",
       "4        0        6        0        0     1.0  \n",
       "\n",
       "[5 rows x 309 columns]"
      ]
     },
     "execution_count": 181,
     "metadata": {},
     "output_type": "execute_result"
    }
   ],
   "source": [
    "df.head()"
   ]
  },
  {
   "cell_type": "markdown",
   "metadata": {},
   "source": [
    "# 뉴스"
   ]
  },
  {
   "cell_type": "code",
   "execution_count": 183,
   "metadata": {},
   "outputs": [],
   "source": [
    "df.to_csv('./data/final_0505.csv')"
   ]
  },
  {
   "cell_type": "code",
   "execution_count": null,
   "metadata": {},
   "outputs": [],
   "source": []
  }
 ],
 "metadata": {
  "kernelspec": {
   "display_name": "Python 3",
   "language": "python",
   "name": "python3"
  },
  "language_info": {
   "codemirror_mode": {
    "name": "ipython",
    "version": 3
   },
   "file_extension": ".py",
   "mimetype": "text/x-python",
   "name": "python",
   "nbconvert_exporter": "python",
   "pygments_lexer": "ipython3",
   "version": "3.7.3"
  }
 },
 "nbformat": 4,
 "nbformat_minor": 4
}
